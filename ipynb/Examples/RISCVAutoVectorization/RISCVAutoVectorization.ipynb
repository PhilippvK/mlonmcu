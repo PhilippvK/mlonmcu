{
 "cells": [
  {
   "cell_type": "code",
   "execution_count": 1,
   "id": "9db470cc-ed97-4df6-b746-3ddd20cbd03b",
   "metadata": {
    "execution": {
     "iopub.execute_input": "2023-12-31T14:00:32.239845Z",
     "iopub.status.busy": "2023-12-31T14:00:32.239165Z",
     "iopub.status.idle": "2023-12-31T14:00:32.255286Z",
     "shell.execute_reply": "2023-12-31T14:00:32.254253Z"
    },
    "papermill": {
     "duration": 0.035826,
     "end_time": "2023-12-31T14:00:32.258597",
     "exception": false,
     "start_time": "2023-12-31T14:00:32.222771",
     "status": "completed"
    },
    "tags": []
   },
   "outputs": [],
   "source": [
    "from IPython.display import Code"
   ]
  },
  {
   "cell_type": "markdown",
   "id": "67a623c3",
   "metadata": {
    "papermill": {
     "duration": 0.006602,
     "end_time": "2023-12-31T14:00:32.274862",
     "exception": false,
     "start_time": "2023-12-31T14:00:32.268260",
     "status": "completed"
    },
    "tags": []
   },
   "source": [
    "# Example: Auto-Vectorization for RISC-V Vector-Extension using LLVM"
   ]
  },
  {
   "cell_type": "markdown",
   "id": "1025ee11",
   "metadata": {
    "papermill": {
     "duration": 0.003961,
     "end_time": "2023-12-31T14:00:32.284705",
     "exception": false,
     "start_time": "2023-12-31T14:00:32.280744",
     "status": "completed"
    },
    "tags": []
   },
   "source": [
    "Auto-vectorization is a compiler optimization method, which can by applied on SIMD platforms such as vector processors and DSPs. The RISC-V vector extension which is currently being finalized is a good example of that and already supported by the LLVm toolchain."
   ]
  },
  {
   "cell_type": "markdown",
   "id": "87fd1387",
   "metadata": {
    "papermill": {
     "duration": 0.003614,
     "end_time": "2023-12-31T14:00:32.292250",
     "exception": false,
     "start_time": "2023-12-31T14:00:32.288636",
     "status": "completed"
    },
    "tags": []
   },
   "source": [
    "## Supported components"
   ]
  },
  {
   "cell_type": "markdown",
   "id": "584a911d",
   "metadata": {
    "papermill": {
     "duration": 0.002824,
     "end_time": "2023-12-31T14:00:32.297837",
     "exception": false,
     "start_time": "2023-12-31T14:00:32.295013",
     "status": "completed"
    },
    "tags": []
   },
   "source": [
    "**Models:** Any (`aww` and `resnet` used below)\n",
    "\n",
    "**Frontends:** Any (`tflite` used below)\n",
    "\n",
    "**Frameworks/Backends:** Any (`tvmaotplus` used below)\n",
    "\n",
    "**Platforms/Targets:** Any platforms and targets supporting the `vext` or `auto_vectorize` feature (`spike` used below)\n",
    "\n",
    "**Features:** `vext` or `auto_vectorize` feature have to be enabled/installed\n",
    "\n",
    "**Toolchains:** `llvm` only (RVV GCC is __not__ stable for Zve32x)"
   ]
  },
  {
   "cell_type": "markdown",
   "id": "74ce776e",
   "metadata": {
    "papermill": {
     "duration": 0.002817,
     "end_time": "2023-12-31T14:00:32.303417",
     "exception": false,
     "start_time": "2023-12-31T14:00:32.300600",
     "status": "completed"
    },
    "tags": []
   },
   "source": [
    "## Prerequisites"
   ]
  },
  {
   "cell_type": "markdown",
   "id": "917fc1fe-5e2c-4105-9fc8-990eb6b6c875",
   "metadata": {
    "papermill": {
     "duration": 0.002738,
     "end_time": "2023-12-31T14:00:32.308872",
     "exception": false,
     "start_time": "2023-12-31T14:00:32.306134",
     "status": "completed"
    },
    "tags": []
   },
   "source": [
    "If not done already, setup a virtual python environment and install the required packages into it. (See `requirements.txt`)"
   ]
  },
  {
   "cell_type": "code",
   "execution_count": 2,
   "id": "e04121c3-8ef5-462c-bfcc-6ff8a3fe3694",
   "metadata": {
    "execution": {
     "iopub.execute_input": "2023-12-31T14:00:32.316593Z",
     "iopub.status.busy": "2023-12-31T14:00:32.315976Z",
     "iopub.status.idle": "2023-12-31T14:00:32.396754Z",
     "shell.execute_reply": "2023-12-31T14:00:32.395948Z"
    },
    "papermill": {
     "duration": 0.088718,
     "end_time": "2023-12-31T14:00:32.400362",
     "exception": false,
     "start_time": "2023-12-31T14:00:32.311644",
     "status": "completed"
    },
    "tags": []
   },
   "outputs": [
    {
     "data": {
      "text/html": [
       "<style>pre { line-height: 125%; }\n",
       "td.linenos .normal { color: inherit; background-color: transparent; padding-left: 5px; padding-right: 5px; }\n",
       "span.linenos { color: inherit; background-color: transparent; padding-left: 5px; padding-right: 5px; }\n",
       "td.linenos .special { color: #000000; background-color: #ffffc0; padding-left: 5px; padding-right: 5px; }\n",
       "span.linenos.special { color: #000000; background-color: #ffffc0; padding-left: 5px; padding-right: 5px; }\n",
       ".output_html .hll { background-color: #ffffcc }\n",
       ".output_html { background: #f8f8f8; }\n",
       ".output_html .c { color: #3D7B7B; font-style: italic } /* Comment */\n",
       ".output_html .err { border: 1px solid #FF0000 } /* Error */\n",
       ".output_html .k { color: #008000; font-weight: bold } /* Keyword */\n",
       ".output_html .o { color: #666666 } /* Operator */\n",
       ".output_html .ch { color: #3D7B7B; font-style: italic } /* Comment.Hashbang */\n",
       ".output_html .cm { color: #3D7B7B; font-style: italic } /* Comment.Multiline */\n",
       ".output_html .cp { color: #9C6500 } /* Comment.Preproc */\n",
       ".output_html .cpf { color: #3D7B7B; font-style: italic } /* Comment.PreprocFile */\n",
       ".output_html .c1 { color: #3D7B7B; font-style: italic } /* Comment.Single */\n",
       ".output_html .cs { color: #3D7B7B; font-style: italic } /* Comment.Special */\n",
       ".output_html .gd { color: #A00000 } /* Generic.Deleted */\n",
       ".output_html .ge { font-style: italic } /* Generic.Emph */\n",
       ".output_html .ges { font-weight: bold; font-style: italic } /* Generic.EmphStrong */\n",
       ".output_html .gr { color: #E40000 } /* Generic.Error */\n",
       ".output_html .gh { color: #000080; font-weight: bold } /* Generic.Heading */\n",
       ".output_html .gi { color: #008400 } /* Generic.Inserted */\n",
       ".output_html .go { color: #717171 } /* Generic.Output */\n",
       ".output_html .gp { color: #000080; font-weight: bold } /* Generic.Prompt */\n",
       ".output_html .gs { font-weight: bold } /* Generic.Strong */\n",
       ".output_html .gu { color: #800080; font-weight: bold } /* Generic.Subheading */\n",
       ".output_html .gt { color: #0044DD } /* Generic.Traceback */\n",
       ".output_html .kc { color: #008000; font-weight: bold } /* Keyword.Constant */\n",
       ".output_html .kd { color: #008000; font-weight: bold } /* Keyword.Declaration */\n",
       ".output_html .kn { color: #008000; font-weight: bold } /* Keyword.Namespace */\n",
       ".output_html .kp { color: #008000 } /* Keyword.Pseudo */\n",
       ".output_html .kr { color: #008000; font-weight: bold } /* Keyword.Reserved */\n",
       ".output_html .kt { color: #B00040 } /* Keyword.Type */\n",
       ".output_html .m { color: #666666 } /* Literal.Number */\n",
       ".output_html .s { color: #BA2121 } /* Literal.String */\n",
       ".output_html .na { color: #687822 } /* Name.Attribute */\n",
       ".output_html .nb { color: #008000 } /* Name.Builtin */\n",
       ".output_html .nc { color: #0000FF; font-weight: bold } /* Name.Class */\n",
       ".output_html .no { color: #880000 } /* Name.Constant */\n",
       ".output_html .nd { color: #AA22FF } /* Name.Decorator */\n",
       ".output_html .ni { color: #717171; font-weight: bold } /* Name.Entity */\n",
       ".output_html .ne { color: #CB3F38; font-weight: bold } /* Name.Exception */\n",
       ".output_html .nf { color: #0000FF } /* Name.Function */\n",
       ".output_html .nl { color: #767600 } /* Name.Label */\n",
       ".output_html .nn { color: #0000FF; font-weight: bold } /* Name.Namespace */\n",
       ".output_html .nt { color: #008000; font-weight: bold } /* Name.Tag */\n",
       ".output_html .nv { color: #19177C } /* Name.Variable */\n",
       ".output_html .ow { color: #AA22FF; font-weight: bold } /* Operator.Word */\n",
       ".output_html .w { color: #bbbbbb } /* Text.Whitespace */\n",
       ".output_html .mb { color: #666666 } /* Literal.Number.Bin */\n",
       ".output_html .mf { color: #666666 } /* Literal.Number.Float */\n",
       ".output_html .mh { color: #666666 } /* Literal.Number.Hex */\n",
       ".output_html .mi { color: #666666 } /* Literal.Number.Integer */\n",
       ".output_html .mo { color: #666666 } /* Literal.Number.Oct */\n",
       ".output_html .sa { color: #BA2121 } /* Literal.String.Affix */\n",
       ".output_html .sb { color: #BA2121 } /* Literal.String.Backtick */\n",
       ".output_html .sc { color: #BA2121 } /* Literal.String.Char */\n",
       ".output_html .dl { color: #BA2121 } /* Literal.String.Delimiter */\n",
       ".output_html .sd { color: #BA2121; font-style: italic } /* Literal.String.Doc */\n",
       ".output_html .s2 { color: #BA2121 } /* Literal.String.Double */\n",
       ".output_html .se { color: #AA5D1F; font-weight: bold } /* Literal.String.Escape */\n",
       ".output_html .sh { color: #BA2121 } /* Literal.String.Heredoc */\n",
       ".output_html .si { color: #A45A77; font-weight: bold } /* Literal.String.Interpol */\n",
       ".output_html .sx { color: #008000 } /* Literal.String.Other */\n",
       ".output_html .sr { color: #A45A77 } /* Literal.String.Regex */\n",
       ".output_html .s1 { color: #BA2121 } /* Literal.String.Single */\n",
       ".output_html .ss { color: #19177C } /* Literal.String.Symbol */\n",
       ".output_html .bp { color: #008000 } /* Name.Builtin.Pseudo */\n",
       ".output_html .fm { color: #0000FF } /* Name.Function.Magic */\n",
       ".output_html .vc { color: #19177C } /* Name.Variable.Class */\n",
       ".output_html .vg { color: #19177C } /* Name.Variable.Global */\n",
       ".output_html .vi { color: #19177C } /* Name.Variable.Instance */\n",
       ".output_html .vm { color: #19177C } /* Name.Variable.Magic */\n",
       ".output_html .il { color: #666666 } /* Literal.Number.Integer.Long */</style><div class=\"highlight\"><pre><span></span>-r ../../requirements.txt\n",
       "attrs\n",
       "cloudpickle\n",
       "decorator\n",
       "numpy\n",
       "psutil\n",
       "scipy\n",
       "synr\n",
       "tornado\n",
       "typing_extensions\n",
       "tflite\n",
       "</pre></div>\n"
      ],
      "text/latex": [
       "\\begin{Verbatim}[commandchars=\\\\\\{\\}]\n",
       "\\PYZhy{}r ../../requirements.txt\n",
       "attrs\n",
       "cloudpickle\n",
       "decorator\n",
       "numpy\n",
       "psutil\n",
       "scipy\n",
       "synr\n",
       "tornado\n",
       "typing\\PYZus{}extensions\n",
       "tflite\n",
       "\\end{Verbatim}\n"
      ],
      "text/plain": [
       "-r ../../requirements.txt\n",
       "attrs\n",
       "cloudpickle\n",
       "decorator\n",
       "numpy\n",
       "psutil\n",
       "scipy\n",
       "synr\n",
       "tornado\n",
       "typing_extensions\n",
       "tflite"
      ]
     },
     "execution_count": 2,
     "metadata": {},
     "output_type": "execute_result"
    }
   ],
   "source": [
    "Code(filename=\"requirements.txt\")"
   ]
  },
  {
   "cell_type": "markdown",
   "id": "18955525",
   "metadata": {
    "papermill": {
     "duration": 0.007188,
     "end_time": "2023-12-31T14:00:32.416541",
     "exception": false,
     "start_time": "2023-12-31T14:00:32.409353",
     "status": "completed"
    },
    "tags": []
   },
   "source": [
    "Set up MLonmCU as usual, i.e. initialize an environment and install all required dependencies. Feel free to use the following minimal `environment.yml.j2` template:"
   ]
  },
  {
   "cell_type": "code",
   "execution_count": 3,
   "id": "4aadf4f8-d622-41b6-8221-a42883cfae7d",
   "metadata": {
    "execution": {
     "iopub.execute_input": "2023-12-31T14:00:32.428152Z",
     "iopub.status.busy": "2023-12-31T14:00:32.427555Z",
     "iopub.status.idle": "2023-12-31T14:00:32.461812Z",
     "shell.execute_reply": "2023-12-31T14:00:32.461146Z"
    },
    "papermill": {
     "duration": 0.044022,
     "end_time": "2023-12-31T14:00:32.465879",
     "exception": false,
     "start_time": "2023-12-31T14:00:32.421857",
     "status": "completed"
    },
    "tags": []
   },
   "outputs": [
    {
     "data": {
      "text/html": [
       "<style>pre { line-height: 125%; }\n",
       "td.linenos .normal { color: inherit; background-color: transparent; padding-left: 5px; padding-right: 5px; }\n",
       "span.linenos { color: inherit; background-color: transparent; padding-left: 5px; padding-right: 5px; }\n",
       "td.linenos .special { color: #000000; background-color: #ffffc0; padding-left: 5px; padding-right: 5px; }\n",
       "span.linenos.special { color: #000000; background-color: #ffffc0; padding-left: 5px; padding-right: 5px; }\n",
       ".output_html .hll { background-color: #ffffcc }\n",
       ".output_html { background: #f8f8f8; }\n",
       ".output_html .c { color: #3D7B7B; font-style: italic } /* Comment */\n",
       ".output_html .err { border: 1px solid #FF0000 } /* Error */\n",
       ".output_html .k { color: #008000; font-weight: bold } /* Keyword */\n",
       ".output_html .o { color: #666666 } /* Operator */\n",
       ".output_html .ch { color: #3D7B7B; font-style: italic } /* Comment.Hashbang */\n",
       ".output_html .cm { color: #3D7B7B; font-style: italic } /* Comment.Multiline */\n",
       ".output_html .cp { color: #9C6500 } /* Comment.Preproc */\n",
       ".output_html .cpf { color: #3D7B7B; font-style: italic } /* Comment.PreprocFile */\n",
       ".output_html .c1 { color: #3D7B7B; font-style: italic } /* Comment.Single */\n",
       ".output_html .cs { color: #3D7B7B; font-style: italic } /* Comment.Special */\n",
       ".output_html .gd { color: #A00000 } /* Generic.Deleted */\n",
       ".output_html .ge { font-style: italic } /* Generic.Emph */\n",
       ".output_html .ges { font-weight: bold; font-style: italic } /* Generic.EmphStrong */\n",
       ".output_html .gr { color: #E40000 } /* Generic.Error */\n",
       ".output_html .gh { color: #000080; font-weight: bold } /* Generic.Heading */\n",
       ".output_html .gi { color: #008400 } /* Generic.Inserted */\n",
       ".output_html .go { color: #717171 } /* Generic.Output */\n",
       ".output_html .gp { color: #000080; font-weight: bold } /* Generic.Prompt */\n",
       ".output_html .gs { font-weight: bold } /* Generic.Strong */\n",
       ".output_html .gu { color: #800080; font-weight: bold } /* Generic.Subheading */\n",
       ".output_html .gt { color: #0044DD } /* Generic.Traceback */\n",
       ".output_html .kc { color: #008000; font-weight: bold } /* Keyword.Constant */\n",
       ".output_html .kd { color: #008000; font-weight: bold } /* Keyword.Declaration */\n",
       ".output_html .kn { color: #008000; font-weight: bold } /* Keyword.Namespace */\n",
       ".output_html .kp { color: #008000 } /* Keyword.Pseudo */\n",
       ".output_html .kr { color: #008000; font-weight: bold } /* Keyword.Reserved */\n",
       ".output_html .kt { color: #B00040 } /* Keyword.Type */\n",
       ".output_html .m { color: #666666 } /* Literal.Number */\n",
       ".output_html .s { color: #BA2121 } /* Literal.String */\n",
       ".output_html .na { color: #687822 } /* Name.Attribute */\n",
       ".output_html .nb { color: #008000 } /* Name.Builtin */\n",
       ".output_html .nc { color: #0000FF; font-weight: bold } /* Name.Class */\n",
       ".output_html .no { color: #880000 } /* Name.Constant */\n",
       ".output_html .nd { color: #AA22FF } /* Name.Decorator */\n",
       ".output_html .ni { color: #717171; font-weight: bold } /* Name.Entity */\n",
       ".output_html .ne { color: #CB3F38; font-weight: bold } /* Name.Exception */\n",
       ".output_html .nf { color: #0000FF } /* Name.Function */\n",
       ".output_html .nl { color: #767600 } /* Name.Label */\n",
       ".output_html .nn { color: #0000FF; font-weight: bold } /* Name.Namespace */\n",
       ".output_html .nt { color: #008000; font-weight: bold } /* Name.Tag */\n",
       ".output_html .nv { color: #19177C } /* Name.Variable */\n",
       ".output_html .ow { color: #AA22FF; font-weight: bold } /* Operator.Word */\n",
       ".output_html .w { color: #bbbbbb } /* Text.Whitespace */\n",
       ".output_html .mb { color: #666666 } /* Literal.Number.Bin */\n",
       ".output_html .mf { color: #666666 } /* Literal.Number.Float */\n",
       ".output_html .mh { color: #666666 } /* Literal.Number.Hex */\n",
       ".output_html .mi { color: #666666 } /* Literal.Number.Integer */\n",
       ".output_html .mo { color: #666666 } /* Literal.Number.Oct */\n",
       ".output_html .sa { color: #BA2121 } /* Literal.String.Affix */\n",
       ".output_html .sb { color: #BA2121 } /* Literal.String.Backtick */\n",
       ".output_html .sc { color: #BA2121 } /* Literal.String.Char */\n",
       ".output_html .dl { color: #BA2121 } /* Literal.String.Delimiter */\n",
       ".output_html .sd { color: #BA2121; font-style: italic } /* Literal.String.Doc */\n",
       ".output_html .s2 { color: #BA2121 } /* Literal.String.Double */\n",
       ".output_html .se { color: #AA5D1F; font-weight: bold } /* Literal.String.Escape */\n",
       ".output_html .sh { color: #BA2121 } /* Literal.String.Heredoc */\n",
       ".output_html .si { color: #A45A77; font-weight: bold } /* Literal.String.Interpol */\n",
       ".output_html .sx { color: #008000 } /* Literal.String.Other */\n",
       ".output_html .sr { color: #A45A77 } /* Literal.String.Regex */\n",
       ".output_html .s1 { color: #BA2121 } /* Literal.String.Single */\n",
       ".output_html .ss { color: #19177C } /* Literal.String.Symbol */\n",
       ".output_html .bp { color: #008000 } /* Name.Builtin.Pseudo */\n",
       ".output_html .fm { color: #0000FF } /* Name.Function.Magic */\n",
       ".output_html .vc { color: #19177C } /* Name.Variable.Class */\n",
       ".output_html .vg { color: #19177C } /* Name.Variable.Global */\n",
       ".output_html .vi { color: #19177C } /* Name.Variable.Instance */\n",
       ".output_html .vm { color: #19177C } /* Name.Variable.Magic */\n",
       ".output_html .il { color: #666666 } /* Literal.Number.Integer.Long */</style><div class=\"highlight\"><pre><span></span><span class=\"nn\">---</span>\n",
       "<span class=\"c1\"># The MLONMCU_HOME is filled in automatically when creating the environment</span>\n",
       "<span class=\"nt\">home</span><span class=\"p\">:</span><span class=\"w\"> </span><span class=\"s\">&quot;</span><span class=\"cp\">{{</span> <span class=\"nv\">home_dir</span> <span class=\"cp\">}}</span><span class=\"s\">&quot;</span>\n",
       "<span class=\"nt\">logging</span><span class=\"p\">:</span>\n",
       "<span class=\"w\">  </span><span class=\"nt\">level</span><span class=\"p\">:</span><span class=\"w\"> </span><span class=\"l l-Scalar l-Scalar-Plain\">INFO</span>\n",
       "<span class=\"w\">  </span><span class=\"nt\">to_file</span><span class=\"p\">:</span><span class=\"w\"> </span><span class=\"l l-Scalar l-Scalar-Plain\">false</span>\n",
       "<span class=\"w\">  </span><span class=\"nt\">rotate</span><span class=\"p\">:</span><span class=\"w\"> </span><span class=\"l l-Scalar l-Scalar-Plain\">false</span>\n",
       "<span class=\"nt\">cleanup</span><span class=\"p\">:</span>\n",
       "<span class=\"w\">  </span><span class=\"nt\">auto</span><span class=\"p\">:</span><span class=\"w\"> </span><span class=\"l l-Scalar l-Scalar-Plain\">true</span>\n",
       "<span class=\"w\">  </span><span class=\"nt\">keep</span><span class=\"p\">:</span><span class=\"w\"> </span><span class=\"l l-Scalar l-Scalar-Plain\">5</span>\n",
       "<span class=\"c1\"># Default locations for certain directoriescan be changed here</span>\n",
       "<span class=\"c1\"># Non-absolute paths will always be threated relative to the MLONMCU_HOME</span>\n",
       "<span class=\"nt\">paths</span><span class=\"p\">:</span>\n",
       "<span class=\"w\">  </span><span class=\"c1\"># Where the dependencies are downloaded and installed</span>\n",
       "<span class=\"w\">  </span><span class=\"nt\">deps</span><span class=\"p\">:</span><span class=\"w\"> </span><span class=\"l l-Scalar l-Scalar-Plain\">deps</span>\n",
       "<span class=\"w\">  </span><span class=\"c1\"># If logging to file is used keep logs in this directory</span>\n",
       "<span class=\"w\">  </span><span class=\"nt\">logs</span><span class=\"p\">:</span><span class=\"w\"> </span><span class=\"l l-Scalar l-Scalar-Plain\">logs</span>\n",
       "<span class=\"w\">  </span><span class=\"c1\"># Location where reports and artifacts are written to</span>\n",
       "<span class=\"w\">  </span><span class=\"nt\">results</span><span class=\"p\">:</span><span class=\"w\"> </span><span class=\"l l-Scalar l-Scalar-Plain\">results</span>\n",
       "<span class=\"w\">  </span><span class=\"c1\"># Directory where custom extensions can be integrated</span>\n",
       "<span class=\"w\">  </span><span class=\"nt\">plugins</span><span class=\"p\">:</span><span class=\"w\"> </span><span class=\"l l-Scalar l-Scalar-Plain\">plugins</span>\n",
       "<span class=\"w\">  </span><span class=\"c1\"># Directory for intermediate build products, should be located on a large enough drive</span>\n",
       "<span class=\"w\">  </span><span class=\"nt\">temp</span><span class=\"p\">:</span><span class=\"w\"> </span><span class=\"l l-Scalar l-Scalar-Plain\">temp</span>\n",
       "<span class=\"w\">  </span><span class=\"c1\"># A collection of models which will be used to look for models</span>\n",
       "<span class=\"w\">  </span><span class=\"c1\"># The paths will be checked in the order defined here stopping at the first match</span>\n",
       "<span class=\"w\">  </span><span class=\"c1\"># Non-existant paths will be skipped without throwing an error</span>\n",
       "<span class=\"w\">  </span><span class=\"nt\">models</span><span class=\"p\">:</span>\n",
       "<span class=\"w\">    </span><span class=\"p p-Indicator\">-</span><span class=\"w\"> </span><span class=\"s\">&quot;</span><span class=\"cp\">{{</span> <span class=\"nv\">home_dir</span> <span class=\"cp\">}}</span><span class=\"s\">/models&quot;</span>\n",
       "<span class=\"c1\"># Here default clone_urls</span>\n",
       "<span class=\"nt\">repos</span><span class=\"p\">:</span>\n",
       "<span class=\"w\">  </span><span class=\"nt\">tvm</span><span class=\"p\">:</span>\n",
       "<span class=\"w\">    </span><span class=\"nt\">url</span><span class=\"p\">:</span><span class=\"w\"> </span><span class=\"s\">&quot;https://github.com/apache/tvm.git&quot;</span>\n",
       "<span class=\"w\">    </span><span class=\"nt\">ref</span><span class=\"p\">:</span><span class=\"w\"> </span><span class=\"l l-Scalar l-Scalar-Plain\">a9fcac1a47f4b57c1d9d828c7ed1d77452b02cc5</span>\n",
       "<span class=\"w\">    </span><span class=\"nt\">options</span><span class=\"p\">:</span>\n",
       "<span class=\"w\">      </span><span class=\"nt\">recursive</span><span class=\"p\">:</span><span class=\"w\"> </span><span class=\"l l-Scalar l-Scalar-Plain\">true</span>\n",
       "<span class=\"w\">  </span><span class=\"nt\">mlif</span><span class=\"p\">:</span>\n",
       "<span class=\"w\">    </span><span class=\"nt\">url</span><span class=\"p\">:</span><span class=\"w\"> </span><span class=\"s\">&quot;https://github.com/tum-ei-eda/mlonmcu-sw.git&quot;</span>\n",
       "<span class=\"w\">    </span><span class=\"nt\">ref</span><span class=\"p\">:</span><span class=\"w\"> </span><span class=\"l l-Scalar l-Scalar-Plain\">c7b0e7364c232666ebd5a17476181e3ff9a71d70</span>\n",
       "<span class=\"w\">  </span><span class=\"nt\">spike</span><span class=\"p\">:</span>\n",
       "<span class=\"w\">    </span><span class=\"nt\">url</span><span class=\"p\">:</span><span class=\"w\"> </span><span class=\"s\">&quot;https://github.com/riscv-software-src/riscv-isa-sim.git&quot;</span>\n",
       "<span class=\"w\">    </span><span class=\"nt\">ref</span><span class=\"p\">:</span><span class=\"w\"> </span><span class=\"l l-Scalar l-Scalar-Plain\">0bc176b3fca43560b9e8586cdbc41cfde073e17a</span>\n",
       "<span class=\"w\">  </span><span class=\"nt\">spikepk</span><span class=\"p\">:</span>\n",
       "<span class=\"w\">    </span><span class=\"nt\">url</span><span class=\"p\">:</span><span class=\"w\"> </span><span class=\"s\">&quot;https://github.com/riscv-software-src/riscv-pk.git&quot;</span>\n",
       "<span class=\"w\">    </span><span class=\"nt\">ref</span><span class=\"p\">:</span><span class=\"w\"> </span><span class=\"l l-Scalar l-Scalar-Plain\">7e9b671c0415dfd7b562ac934feb9380075d4aa2</span>\n",
       "<span class=\"nt\">frameworks</span><span class=\"p\">:</span>\n",
       "<span class=\"w\">  </span><span class=\"nt\">default</span><span class=\"p\">:</span><span class=\"w\"> </span><span class=\"l l-Scalar l-Scalar-Plain\">tvm</span>\n",
       "<span class=\"w\">  </span><span class=\"nt\">tvm</span><span class=\"p\">:</span>\n",
       "<span class=\"w\">    </span><span class=\"nt\">enabled</span><span class=\"p\">:</span><span class=\"w\"> </span><span class=\"l l-Scalar l-Scalar-Plain\">true</span>\n",
       "<span class=\"w\">    </span><span class=\"nt\">backends</span><span class=\"p\">:</span>\n",
       "<span class=\"w\">      </span><span class=\"nt\">default</span><span class=\"p\">:</span><span class=\"w\"> </span><span class=\"l l-Scalar l-Scalar-Plain\">tvmaotplus</span>\n",
       "<span class=\"w\">      </span><span class=\"nt\">tvmaotplus</span><span class=\"p\">:</span>\n",
       "<span class=\"w\">        </span><span class=\"nt\">enabled</span><span class=\"p\">:</span><span class=\"w\"> </span><span class=\"l l-Scalar l-Scalar-Plain\">true</span>\n",
       "<span class=\"w\">        </span><span class=\"nt\">features</span><span class=\"p\">:</span><span class=\"w\"> </span><span class=\"p p-Indicator\">{}</span>\n",
       "<span class=\"w\">    </span><span class=\"nt\">features</span><span class=\"p\">:</span><span class=\"w\"> </span><span class=\"p p-Indicator\">{}</span>\n",
       "<span class=\"nt\">frontends</span><span class=\"p\">:</span>\n",
       "<span class=\"w\">  </span><span class=\"nt\">tflite</span><span class=\"p\">:</span>\n",
       "<span class=\"w\">    </span><span class=\"nt\">enabled</span><span class=\"p\">:</span><span class=\"w\"> </span><span class=\"l l-Scalar l-Scalar-Plain\">true</span>\n",
       "<span class=\"w\">    </span><span class=\"nt\">features</span><span class=\"p\">:</span><span class=\"w\"> </span><span class=\"p p-Indicator\">[]</span>\n",
       "<span class=\"nt\">toolchains</span><span class=\"p\">:</span>\n",
       "<span class=\"w\">  </span><span class=\"nt\">gcc</span><span class=\"p\">:</span><span class=\"w\"> </span><span class=\"l l-Scalar l-Scalar-Plain\">true</span>\n",
       "<span class=\"w\">  </span><span class=\"nt\">llvm</span><span class=\"p\">:</span><span class=\"w\"> </span><span class=\"l l-Scalar l-Scalar-Plain\">true</span>\n",
       "<span class=\"nt\">platforms</span><span class=\"p\">:</span>\n",
       "<span class=\"w\">  </span><span class=\"nt\">mlif</span><span class=\"p\">:</span>\n",
       "<span class=\"w\">    </span><span class=\"nt\">enabled</span><span class=\"p\">:</span><span class=\"w\"> </span><span class=\"l l-Scalar l-Scalar-Plain\">true</span>\n",
       "<span class=\"w\">    </span><span class=\"nt\">features</span><span class=\"p\">:</span>\n",
       "<span class=\"w\">      </span><span class=\"nt\">debug</span><span class=\"p\">:</span><span class=\"w\"> </span><span class=\"l l-Scalar l-Scalar-Plain\">true</span>\n",
       "<span class=\"w\">      </span><span class=\"nt\">vext</span><span class=\"p\">:</span><span class=\"w\"> </span><span class=\"l l-Scalar l-Scalar-Plain\">true</span>\n",
       "<span class=\"w\">      </span><span class=\"nt\">auto_vectorize</span><span class=\"p\">:</span><span class=\"w\"> </span><span class=\"l l-Scalar l-Scalar-Plain\">true</span>\n",
       "<span class=\"nt\">targets</span><span class=\"p\">:</span>\n",
       "<span class=\"w\">  </span><span class=\"nt\">default</span><span class=\"p\">:</span><span class=\"w\"> </span><span class=\"l l-Scalar l-Scalar-Plain\">host_x86</span>\n",
       "<span class=\"w\">  </span><span class=\"nt\">spike</span><span class=\"p\">:</span>\n",
       "<span class=\"w\">    </span><span class=\"nt\">enabled</span><span class=\"p\">:</span><span class=\"w\"> </span><span class=\"l l-Scalar l-Scalar-Plain\">true</span>\n",
       "<span class=\"w\">    </span><span class=\"nt\">features</span><span class=\"p\">:</span>\n",
       "<span class=\"w\">      </span><span class=\"nt\">vext</span><span class=\"p\">:</span><span class=\"w\"> </span><span class=\"l l-Scalar l-Scalar-Plain\">true</span>\n",
       "<span class=\"w\">  </span><span class=\"nt\">host_x86</span><span class=\"p\">:</span>\n",
       "<span class=\"w\">    </span><span class=\"nt\">enabled</span><span class=\"p\">:</span><span class=\"w\"> </span><span class=\"l l-Scalar l-Scalar-Plain\">true</span>\n",
       "<span class=\"w\">    </span><span class=\"nt\">features</span><span class=\"p\">:</span><span class=\"w\"> </span><span class=\"p p-Indicator\">[]</span>\n",
       "<span class=\"nt\">postprocesses</span><span class=\"p\">:</span>\n",
       "<span class=\"w\">  </span><span class=\"nt\">use</span><span class=\"p\">:</span><span class=\"w\"> </span><span class=\"p p-Indicator\">[]</span>\n",
       "<span class=\"nt\">vars</span><span class=\"p\">:</span>\n",
       "<span class=\"w\">  </span><span class=\"nt\">allow_extensions</span><span class=\"p\">:</span><span class=\"w\"> </span><span class=\"l l-Scalar l-Scalar-Plain\">false</span>\n",
       "<span class=\"w\">  </span><span class=\"nt\">runs_per_stage</span><span class=\"p\">:</span><span class=\"w\"> </span><span class=\"l l-Scalar l-Scalar-Plain\">true</span>\n",
       "<span class=\"w\">  </span><span class=\"nt\">llvm.dl_url</span><span class=\"p\">:</span><span class=\"w\"> </span><span class=\"s\">&quot;https://syncandshare.lrz.de/dl/fi3U4poNbe5DuUgqRsosK4/llvm16.tar.xz&quot;</span>\n",
       "<span class=\"w\">  </span><span class=\"nt\">riscv_gcc.dl_url</span><span class=\"p\">:</span><span class=\"w\"> </span><span class=\"s\">&quot;https://syncandshare.lrz.de/dl/fiD9HnHYkb2V8kNbVQYv242m/rv32gc.tar.gz&quot;</span>\n",
       "<span class=\"w\">  </span><span class=\"nt\">riscv_gcc.dl_url_vext</span><span class=\"p\">:</span><span class=\"w\"> </span><span class=\"s\">&quot;https://syncandshare.lrz.de/dl/fiGp4r3f6SZaC5QyDi6QUiNQ/rv32gcv_new.tar.gz&quot;</span>\n",
       "<span class=\"nt\">flags</span><span class=\"p\">:</span><span class=\"w\"> </span><span class=\"p p-Indicator\">{}</span>\n",
       "</pre></div>\n"
      ],
      "text/latex": [
       "\\begin{Verbatim}[commandchars=\\\\\\{\\}]\n",
       "\\PY{n+nn}{\\PYZhy{}\\PYZhy{}\\PYZhy{}}\n",
       "\\PY{c+c1}{\\PYZsh{} The MLONMCU\\PYZus{}HOME is filled in automatically when creating the environment}\n",
       "\\PY{n+nt}{home}\\PY{p}{:}\\PY{+w}{ }\\PY{l+s}{\\PYZdq{}}\\PY{c+cp}{\\PYZob{}\\PYZob{}} \\PY{n+nv}{home\\PYZus{}dir} \\PY{c+cp}{\\PYZcb{}\\PYZcb{}}\\PY{l+s}{\\PYZdq{}}\n",
       "\\PY{n+nt}{logging}\\PY{p}{:}\n",
       "\\PY{+w}{  }\\PY{n+nt}{level}\\PY{p}{:}\\PY{+w}{ }\\PY{l+lScalar+lScalarPlain}{INFO}\n",
       "\\PY{+w}{  }\\PY{n+nt}{to\\PYZus{}file}\\PY{p}{:}\\PY{+w}{ }\\PY{l+lScalar+lScalarPlain}{false}\n",
       "\\PY{+w}{  }\\PY{n+nt}{rotate}\\PY{p}{:}\\PY{+w}{ }\\PY{l+lScalar+lScalarPlain}{false}\n",
       "\\PY{n+nt}{cleanup}\\PY{p}{:}\n",
       "\\PY{+w}{  }\\PY{n+nt}{auto}\\PY{p}{:}\\PY{+w}{ }\\PY{l+lScalar+lScalarPlain}{true}\n",
       "\\PY{+w}{  }\\PY{n+nt}{keep}\\PY{p}{:}\\PY{+w}{ }\\PY{l+lScalar+lScalarPlain}{5}\n",
       "\\PY{c+c1}{\\PYZsh{} Default locations for certain directoriescan be changed here}\n",
       "\\PY{c+c1}{\\PYZsh{} Non\\PYZhy{}absolute paths will always be threated relative to the MLONMCU\\PYZus{}HOME}\n",
       "\\PY{n+nt}{paths}\\PY{p}{:}\n",
       "\\PY{+w}{  }\\PY{c+c1}{\\PYZsh{} Where the dependencies are downloaded and installed}\n",
       "\\PY{+w}{  }\\PY{n+nt}{deps}\\PY{p}{:}\\PY{+w}{ }\\PY{l+lScalar+lScalarPlain}{deps}\n",
       "\\PY{+w}{  }\\PY{c+c1}{\\PYZsh{} If logging to file is used keep logs in this directory}\n",
       "\\PY{+w}{  }\\PY{n+nt}{logs}\\PY{p}{:}\\PY{+w}{ }\\PY{l+lScalar+lScalarPlain}{logs}\n",
       "\\PY{+w}{  }\\PY{c+c1}{\\PYZsh{} Location where reports and artifacts are written to}\n",
       "\\PY{+w}{  }\\PY{n+nt}{results}\\PY{p}{:}\\PY{+w}{ }\\PY{l+lScalar+lScalarPlain}{results}\n",
       "\\PY{+w}{  }\\PY{c+c1}{\\PYZsh{} Directory where custom extensions can be integrated}\n",
       "\\PY{+w}{  }\\PY{n+nt}{plugins}\\PY{p}{:}\\PY{+w}{ }\\PY{l+lScalar+lScalarPlain}{plugins}\n",
       "\\PY{+w}{  }\\PY{c+c1}{\\PYZsh{} Directory for intermediate build products, should be located on a large enough drive}\n",
       "\\PY{+w}{  }\\PY{n+nt}{temp}\\PY{p}{:}\\PY{+w}{ }\\PY{l+lScalar+lScalarPlain}{temp}\n",
       "\\PY{+w}{  }\\PY{c+c1}{\\PYZsh{} A collection of models which will be used to look for models}\n",
       "\\PY{+w}{  }\\PY{c+c1}{\\PYZsh{} The paths will be checked in the order defined here stopping at the first match}\n",
       "\\PY{+w}{  }\\PY{c+c1}{\\PYZsh{} Non\\PYZhy{}existant paths will be skipped without throwing an error}\n",
       "\\PY{+w}{  }\\PY{n+nt}{models}\\PY{p}{:}\n",
       "\\PY{+w}{    }\\PY{p+pIndicator}{\\PYZhy{}}\\PY{+w}{ }\\PY{l+s}{\\PYZdq{}}\\PY{c+cp}{\\PYZob{}\\PYZob{}} \\PY{n+nv}{home\\PYZus{}dir} \\PY{c+cp}{\\PYZcb{}\\PYZcb{}}\\PY{l+s}{/models}\\PY{l+s}{\\PYZdq{}}\n",
       "\\PY{c+c1}{\\PYZsh{} Here default clone\\PYZus{}urls}\n",
       "\\PY{n+nt}{repos}\\PY{p}{:}\n",
       "\\PY{+w}{  }\\PY{n+nt}{tvm}\\PY{p}{:}\n",
       "\\PY{+w}{    }\\PY{n+nt}{url}\\PY{p}{:}\\PY{+w}{ }\\PY{l+s}{\\PYZdq{}}\\PY{l+s}{https://github.com/apache/tvm.git}\\PY{l+s}{\\PYZdq{}}\n",
       "\\PY{+w}{    }\\PY{n+nt}{ref}\\PY{p}{:}\\PY{+w}{ }\\PY{l+lScalar+lScalarPlain}{a9fcac1a47f4b57c1d9d828c7ed1d77452b02cc5}\n",
       "\\PY{+w}{    }\\PY{n+nt}{options}\\PY{p}{:}\n",
       "\\PY{+w}{      }\\PY{n+nt}{recursive}\\PY{p}{:}\\PY{+w}{ }\\PY{l+lScalar+lScalarPlain}{true}\n",
       "\\PY{+w}{  }\\PY{n+nt}{mlif}\\PY{p}{:}\n",
       "\\PY{+w}{    }\\PY{n+nt}{url}\\PY{p}{:}\\PY{+w}{ }\\PY{l+s}{\\PYZdq{}}\\PY{l+s}{https://github.com/tum\\PYZhy{}ei\\PYZhy{}eda/mlonmcu\\PYZhy{}sw.git}\\PY{l+s}{\\PYZdq{}}\n",
       "\\PY{+w}{    }\\PY{n+nt}{ref}\\PY{p}{:}\\PY{+w}{ }\\PY{l+lScalar+lScalarPlain}{c7b0e7364c232666ebd5a17476181e3ff9a71d70}\n",
       "\\PY{+w}{  }\\PY{n+nt}{spike}\\PY{p}{:}\n",
       "\\PY{+w}{    }\\PY{n+nt}{url}\\PY{p}{:}\\PY{+w}{ }\\PY{l+s}{\\PYZdq{}}\\PY{l+s}{https://github.com/riscv\\PYZhy{}software\\PYZhy{}src/riscv\\PYZhy{}isa\\PYZhy{}sim.git}\\PY{l+s}{\\PYZdq{}}\n",
       "\\PY{+w}{    }\\PY{n+nt}{ref}\\PY{p}{:}\\PY{+w}{ }\\PY{l+lScalar+lScalarPlain}{0bc176b3fca43560b9e8586cdbc41cfde073e17a}\n",
       "\\PY{+w}{  }\\PY{n+nt}{spikepk}\\PY{p}{:}\n",
       "\\PY{+w}{    }\\PY{n+nt}{url}\\PY{p}{:}\\PY{+w}{ }\\PY{l+s}{\\PYZdq{}}\\PY{l+s}{https://github.com/riscv\\PYZhy{}software\\PYZhy{}src/riscv\\PYZhy{}pk.git}\\PY{l+s}{\\PYZdq{}}\n",
       "\\PY{+w}{    }\\PY{n+nt}{ref}\\PY{p}{:}\\PY{+w}{ }\\PY{l+lScalar+lScalarPlain}{7e9b671c0415dfd7b562ac934feb9380075d4aa2}\n",
       "\\PY{n+nt}{frameworks}\\PY{p}{:}\n",
       "\\PY{+w}{  }\\PY{n+nt}{default}\\PY{p}{:}\\PY{+w}{ }\\PY{l+lScalar+lScalarPlain}{tvm}\n",
       "\\PY{+w}{  }\\PY{n+nt}{tvm}\\PY{p}{:}\n",
       "\\PY{+w}{    }\\PY{n+nt}{enabled}\\PY{p}{:}\\PY{+w}{ }\\PY{l+lScalar+lScalarPlain}{true}\n",
       "\\PY{+w}{    }\\PY{n+nt}{backends}\\PY{p}{:}\n",
       "\\PY{+w}{      }\\PY{n+nt}{default}\\PY{p}{:}\\PY{+w}{ }\\PY{l+lScalar+lScalarPlain}{tvmaotplus}\n",
       "\\PY{+w}{      }\\PY{n+nt}{tvmaotplus}\\PY{p}{:}\n",
       "\\PY{+w}{        }\\PY{n+nt}{enabled}\\PY{p}{:}\\PY{+w}{ }\\PY{l+lScalar+lScalarPlain}{true}\n",
       "\\PY{+w}{        }\\PY{n+nt}{features}\\PY{p}{:}\\PY{+w}{ }\\PY{p+pIndicator}{\\PYZob{}}\\PY{p+pIndicator}{\\PYZcb{}}\n",
       "\\PY{+w}{    }\\PY{n+nt}{features}\\PY{p}{:}\\PY{+w}{ }\\PY{p+pIndicator}{\\PYZob{}}\\PY{p+pIndicator}{\\PYZcb{}}\n",
       "\\PY{n+nt}{frontends}\\PY{p}{:}\n",
       "\\PY{+w}{  }\\PY{n+nt}{tflite}\\PY{p}{:}\n",
       "\\PY{+w}{    }\\PY{n+nt}{enabled}\\PY{p}{:}\\PY{+w}{ }\\PY{l+lScalar+lScalarPlain}{true}\n",
       "\\PY{+w}{    }\\PY{n+nt}{features}\\PY{p}{:}\\PY{+w}{ }\\PY{p+pIndicator}{[}\\PY{p+pIndicator}{]}\n",
       "\\PY{n+nt}{toolchains}\\PY{p}{:}\n",
       "\\PY{+w}{  }\\PY{n+nt}{gcc}\\PY{p}{:}\\PY{+w}{ }\\PY{l+lScalar+lScalarPlain}{true}\n",
       "\\PY{+w}{  }\\PY{n+nt}{llvm}\\PY{p}{:}\\PY{+w}{ }\\PY{l+lScalar+lScalarPlain}{true}\n",
       "\\PY{n+nt}{platforms}\\PY{p}{:}\n",
       "\\PY{+w}{  }\\PY{n+nt}{mlif}\\PY{p}{:}\n",
       "\\PY{+w}{    }\\PY{n+nt}{enabled}\\PY{p}{:}\\PY{+w}{ }\\PY{l+lScalar+lScalarPlain}{true}\n",
       "\\PY{+w}{    }\\PY{n+nt}{features}\\PY{p}{:}\n",
       "\\PY{+w}{      }\\PY{n+nt}{debug}\\PY{p}{:}\\PY{+w}{ }\\PY{l+lScalar+lScalarPlain}{true}\n",
       "\\PY{+w}{      }\\PY{n+nt}{vext}\\PY{p}{:}\\PY{+w}{ }\\PY{l+lScalar+lScalarPlain}{true}\n",
       "\\PY{+w}{      }\\PY{n+nt}{auto\\PYZus{}vectorize}\\PY{p}{:}\\PY{+w}{ }\\PY{l+lScalar+lScalarPlain}{true}\n",
       "\\PY{n+nt}{targets}\\PY{p}{:}\n",
       "\\PY{+w}{  }\\PY{n+nt}{default}\\PY{p}{:}\\PY{+w}{ }\\PY{l+lScalar+lScalarPlain}{host\\PYZus{}x86}\n",
       "\\PY{+w}{  }\\PY{n+nt}{spike}\\PY{p}{:}\n",
       "\\PY{+w}{    }\\PY{n+nt}{enabled}\\PY{p}{:}\\PY{+w}{ }\\PY{l+lScalar+lScalarPlain}{true}\n",
       "\\PY{+w}{    }\\PY{n+nt}{features}\\PY{p}{:}\n",
       "\\PY{+w}{      }\\PY{n+nt}{vext}\\PY{p}{:}\\PY{+w}{ }\\PY{l+lScalar+lScalarPlain}{true}\n",
       "\\PY{+w}{  }\\PY{n+nt}{host\\PYZus{}x86}\\PY{p}{:}\n",
       "\\PY{+w}{    }\\PY{n+nt}{enabled}\\PY{p}{:}\\PY{+w}{ }\\PY{l+lScalar+lScalarPlain}{true}\n",
       "\\PY{+w}{    }\\PY{n+nt}{features}\\PY{p}{:}\\PY{+w}{ }\\PY{p+pIndicator}{[}\\PY{p+pIndicator}{]}\n",
       "\\PY{n+nt}{postprocesses}\\PY{p}{:}\n",
       "\\PY{+w}{  }\\PY{n+nt}{use}\\PY{p}{:}\\PY{+w}{ }\\PY{p+pIndicator}{[}\\PY{p+pIndicator}{]}\n",
       "\\PY{n+nt}{vars}\\PY{p}{:}\n",
       "\\PY{+w}{  }\\PY{n+nt}{allow\\PYZus{}extensions}\\PY{p}{:}\\PY{+w}{ }\\PY{l+lScalar+lScalarPlain}{false}\n",
       "\\PY{+w}{  }\\PY{n+nt}{runs\\PYZus{}per\\PYZus{}stage}\\PY{p}{:}\\PY{+w}{ }\\PY{l+lScalar+lScalarPlain}{true}\n",
       "\\PY{+w}{  }\\PY{n+nt}{llvm.dl\\PYZus{}url}\\PY{p}{:}\\PY{+w}{ }\\PY{l+s}{\\PYZdq{}}\\PY{l+s}{https://syncandshare.lrz.de/dl/fi3U4poNbe5DuUgqRsosK4/llvm16.tar.xz}\\PY{l+s}{\\PYZdq{}}\n",
       "\\PY{+w}{  }\\PY{n+nt}{riscv\\PYZus{}gcc.dl\\PYZus{}url}\\PY{p}{:}\\PY{+w}{ }\\PY{l+s}{\\PYZdq{}}\\PY{l+s}{https://syncandshare.lrz.de/dl/fiD9HnHYkb2V8kNbVQYv242m/rv32gc.tar.gz}\\PY{l+s}{\\PYZdq{}}\n",
       "\\PY{+w}{  }\\PY{n+nt}{riscv\\PYZus{}gcc.dl\\PYZus{}url\\PYZus{}vext}\\PY{p}{:}\\PY{+w}{ }\\PY{l+s}{\\PYZdq{}}\\PY{l+s}{https://syncandshare.lrz.de/dl/fiGp4r3f6SZaC5QyDi6QUiNQ/rv32gcv\\PYZus{}new.tar.gz}\\PY{l+s}{\\PYZdq{}}\n",
       "\\PY{n+nt}{flags}\\PY{p}{:}\\PY{+w}{ }\\PY{p+pIndicator}{\\PYZob{}}\\PY{p+pIndicator}{\\PYZcb{}}\n",
       "\\end{Verbatim}\n"
      ],
      "text/plain": [
       "---\n",
       "# The MLONMCU_HOME is filled in automatically when creating the environment\n",
       "home: \"{{ home_dir }}\"\n",
       "logging:\n",
       "  level: INFO\n",
       "  to_file: false\n",
       "  rotate: false\n",
       "cleanup:\n",
       "  auto: true\n",
       "  keep: 5\n",
       "# Default locations for certain directoriescan be changed here\n",
       "# Non-absolute paths will always be threated relative to the MLONMCU_HOME\n",
       "paths:\n",
       "  # Where the dependencies are downloaded and installed\n",
       "  deps: deps\n",
       "  # If logging to file is used keep logs in this directory\n",
       "  logs: logs\n",
       "  # Location where reports and artifacts are written to\n",
       "  results: results\n",
       "  # Directory where custom extensions can be integrated\n",
       "  plugins: plugins\n",
       "  # Directory for intermediate build products, should be located on a large enough drive\n",
       "  temp: temp\n",
       "  # A collection of models which will be used to look for models\n",
       "  # The paths will be checked in the order defined here stopping at the first match\n",
       "  # Non-existant paths will be skipped without throwing an error\n",
       "  models:\n",
       "    - \"{{ home_dir }}/models\"\n",
       "# Here default clone_urls\n",
       "repos:\n",
       "  tvm:\n",
       "    url: \"https://github.com/apache/tvm.git\"\n",
       "    ref: a9fcac1a47f4b57c1d9d828c7ed1d77452b02cc5\n",
       "    options:\n",
       "      recursive: true\n",
       "  mlif:\n",
       "    url: \"https://github.com/tum-ei-eda/mlonmcu-sw.git\"\n",
       "    ref: c7b0e7364c232666ebd5a17476181e3ff9a71d70\n",
       "  spike:\n",
       "    url: \"https://github.com/riscv-software-src/riscv-isa-sim.git\"\n",
       "    ref: 0bc176b3fca43560b9e8586cdbc41cfde073e17a\n",
       "  spikepk:\n",
       "    url: \"https://github.com/riscv-software-src/riscv-pk.git\"\n",
       "    ref: 7e9b671c0415dfd7b562ac934feb9380075d4aa2\n",
       "frameworks:\n",
       "  default: tvm\n",
       "  tvm:\n",
       "    enabled: true\n",
       "    backends:\n",
       "      default: tvmaotplus\n",
       "      tvmaotplus:\n",
       "        enabled: true\n",
       "        features: {}\n",
       "    features: {}\n",
       "frontends:\n",
       "  tflite:\n",
       "    enabled: true\n",
       "    features: []\n",
       "toolchains:\n",
       "  gcc: true\n",
       "  llvm: true\n",
       "platforms:\n",
       "  mlif:\n",
       "    enabled: true\n",
       "    features:\n",
       "      debug: true\n",
       "      vext: true\n",
       "      auto_vectorize: true\n",
       "targets:\n",
       "  default: host_x86\n",
       "  spike:\n",
       "    enabled: true\n",
       "    features:\n",
       "      vext: true\n",
       "  host_x86:\n",
       "    enabled: true\n",
       "    features: []\n",
       "postprocesses:\n",
       "  use: []\n",
       "vars:\n",
       "  allow_extensions: false\n",
       "  runs_per_stage: true\n",
       "  llvm.dl_url: \"https://syncandshare.lrz.de/dl/fi3U4poNbe5DuUgqRsosK4/llvm16.tar.xz\"\n",
       "  riscv_gcc.dl_url: \"https://syncandshare.lrz.de/dl/fiD9HnHYkb2V8kNbVQYv242m/rv32gc.tar.gz\"\n",
       "  riscv_gcc.dl_url_vext: \"https://syncandshare.lrz.de/dl/fiGp4r3f6SZaC5QyDi6QUiNQ/rv32gcv_new.tar.gz\"\n",
       "flags: {}"
      ]
     },
     "execution_count": 3,
     "metadata": {},
     "output_type": "execute_result"
    }
   ],
   "source": [
    "Code(filename=\"environment.yml.j2\")"
   ]
  },
  {
   "cell_type": "markdown",
   "id": "4d140308",
   "metadata": {
    "papermill": {
     "duration": 0.006841,
     "end_time": "2023-12-31T14:00:32.482771",
     "exception": false,
     "start_time": "2023-12-31T14:00:32.475930",
     "status": "completed"
    },
    "tags": []
   },
   "source": [
    "Do not forget to set your `MLONMCU_HOME` environment variable first if not using the default location!"
   ]
  },
  {
   "cell_type": "markdown",
   "id": "a3bac781",
   "metadata": {
    "papermill": {
     "duration": 0.004511,
     "end_time": "2023-12-31T14:00:32.492513",
     "exception": false,
     "start_time": "2023-12-31T14:00:32.488002",
     "status": "completed"
    },
    "tags": []
   },
   "source": [
    "## Usage"
   ]
  },
  {
   "cell_type": "markdown",
   "id": "1352b362",
   "metadata": {
    "papermill": {
     "duration": 0.003177,
     "end_time": "2023-12-31T14:00:32.499566",
     "exception": false,
     "start_time": "2023-12-31T14:00:32.496389",
     "status": "completed"
    },
    "tags": []
   },
   "source": [
    "The following examples use the embedded vextor extension (Zve32x/f) instead of the full vector extension since it is more suitable for MCU-type devices and  suffices for running quantized ML models.\n",
    "\n",
    "*Warning:* Since Instruction-Set-Simulators (ISS) are used for the following experimenents, we only consider instruction counts instead of real cycle counts (CPI=1). Of course is is not realistic that an actual implementation using VLEN=4096 can finish every operation in a single cycle."
   ]
  },
  {
   "cell_type": "markdown",
   "id": "f01b54e2",
   "metadata": {
    "papermill": {
     "duration": 0.010327,
     "end_time": "2023-12-31T14:00:32.515063",
     "exception": false,
     "start_time": "2023-12-31T14:00:32.504736",
     "status": "completed"
    },
    "tags": []
   },
   "source": [
    "### A) Command Line Interface"
   ]
  },
  {
   "cell_type": "markdown",
   "id": "2b333851",
   "metadata": {
    "papermill": {
     "duration": 0.005815,
     "end_time": "2023-12-31T14:00:32.528026",
     "exception": false,
     "start_time": "2023-12-31T14:00:32.522211",
     "status": "completed"
    },
    "tags": []
   },
   "source": [
    "As an example, we run `tvmaotplus` backend with two different models on the `spike` target. Since using RISC-V GCC for vectorization seems to lead to some issues, we tell MLonMCU to use LLVM instead (`--config mlif.toolchain=llvm`).\n",
    "\n",
    "To figure out if auto-vectorization works we first use the `--config vext.vlen=128 --config vext.embedded=1 --feature-gen _ --feature-gen auto_vectorize feature vext` flags."
   ]
  },
  {
   "cell_type": "code",
   "execution_count": 4,
   "id": "43576c35",
   "metadata": {
    "execution": {
     "iopub.execute_input": "2023-12-31T14:00:32.537999Z",
     "iopub.status.busy": "2023-12-31T14:00:32.537732Z",
     "iopub.status.idle": "2023-12-31T14:01:03.795787Z",
     "shell.execute_reply": "2023-12-31T14:01:03.794270Z"
    },
    "papermill": {
     "duration": 31.266652,
     "end_time": "2023-12-31T14:01:03.799211",
     "exception": false,
     "start_time": "2023-12-31T14:00:32.532559",
     "status": "completed"
    },
    "tags": []
   },
   "outputs": [
    {
     "name": "stdout",
     "output_type": "stream",
     "text": [
      "INFO - Loading environment cache from file\r\n",
      "INFO - Successfully initialized cache\r\n"
     ]
    },
    {
     "name": "stdout",
     "output_type": "stream",
     "text": [
      "INFO - [session-75]  Processing stage LOAD\r\n",
      "INFO - [session-75]  Processing stage BUILD\r\n"
     ]
    },
    {
     "name": "stdout",
     "output_type": "stream",
     "text": [
      "INFO - [session-75]  Processing stage COMPILE\r\n"
     ]
    },
    {
     "name": "stdout",
     "output_type": "stream",
     "text": [
      "INFO - [session-75]  Processing stage RUN\r\n"
     ]
    },
    {
     "name": "stdout",
     "output_type": "stream",
     "text": [
      "INFO - All runs completed successfuly!\r\n",
      "INFO - Postprocessing session report\r\n",
      "INFO - [session-75] Done processing runs\r\n",
      "INFO - Report:\r\n",
      "   Session  Run   Model Frontend Framework     Backend Platform Target  Total Cycles  Total Instructions  Total CPI  Validation  Total ROM  Total RAM  ROM read-only  ROM code  ROM misc  RAM data  RAM zero-init data                Features                                             Config Postprocesses Comment\r\n",
      "0       75    0     aww   tflite       tvm  tvmaotplus     mlif  spike      23009668            23009668        1.0        True     124388      59364          56436     67936        16      2512               56852                      []  {'aww.output_shapes': {'Identity': [1, 12]}, '...            []       -\r\n",
      "1       75    1     aww   tflite       tvm  tvmaotplus     mlif  spike      21913889            21913889        1.0        True     137270      59364          56424     80830        16      2512               56852  [auto_vectorize, vext]  {'aww.output_shapes': {'Identity': [1, 12]}, '...            []       -\r\n",
      "2       75    2  resnet   tflite       tvm  tvmaotplus     mlif  spike      81830101            81830101        1.0        True     227870     108276         163380     64474        16      2512              105764                      []  {'resnet.output_shapes': {'Identity_int8': [1,...            []       -\r\n",
      "3       75    3  resnet   tflite       tvm  tvmaotplus     mlif  spike      81789434            81789434        1.0        True     230570     108276         163368     67186        16      2512              105764  [auto_vectorize, vext]  {'resnet.output_shapes': {'Identity_int8': [1,...            []       -\r\n"
     ]
    }
   ],
   "source": [
    "!python -m mlonmcu.cli.main flow run aww resnet -b tvmaotplus -t spike --config mlif.toolchain=llvm \\\n",
    "        --config vext.vlen=128 --config vext.embedded=1 \\\n",
    "        --feature-gen _ --feature-gen auto_vectorize vext"
   ]
  },
  {
   "cell_type": "markdown",
   "id": "f1f373c3",
   "metadata": {
    "papermill": {
     "duration": 0.007373,
     "end_time": "2023-12-31T14:01:03.817818",
     "exception": false,
     "start_time": "2023-12-31T14:01:03.810445",
     "status": "completed"
    },
    "tags": []
   },
   "source": [
    "To do some actual comparions, lets run these benchmarks for a set of different VLEN value using several `--config-gen` arguments:"
   ]
  },
  {
   "cell_type": "code",
   "execution_count": 5,
   "id": "6868f839",
   "metadata": {
    "execution": {
     "iopub.execute_input": "2023-12-31T14:01:03.830304Z",
     "iopub.status.busy": "2023-12-31T14:01:03.829936Z",
     "iopub.status.idle": "2023-12-31T14:02:36.297224Z",
     "shell.execute_reply": "2023-12-31T14:02:36.295714Z"
    },
    "papermill": {
     "duration": 92.477323,
     "end_time": "2023-12-31T14:02:36.300631",
     "exception": false,
     "start_time": "2023-12-31T14:01:03.823308",
     "status": "completed"
    },
    "tags": []
   },
   "outputs": [
    {
     "name": "stdout",
     "output_type": "stream",
     "text": [
      "INFO - Loading environment cache from file\r\n",
      "INFO - Successfully initialized cache\r\n"
     ]
    },
    {
     "name": "stdout",
     "output_type": "stream",
     "text": [
      "INFO - [session-76]  Processing stage LOAD\r\n",
      "INFO - [session-76]  Processing stage BUILD\r\n"
     ]
    },
    {
     "name": "stdout",
     "output_type": "stream",
     "text": [
      "INFO - [session-76]  Processing stage COMPILE\r\n"
     ]
    },
    {
     "name": "stdout",
     "output_type": "stream",
     "text": [
      "INFO - [session-76]  Processing stage RUN\r\n"
     ]
    },
    {
     "name": "stdout",
     "output_type": "stream",
     "text": [
      "INFO - All runs completed successfuly!\r\n"
     ]
    },
    {
     "name": "stdout",
     "output_type": "stream",
     "text": [
      "INFO - Postprocessing session report\r\n",
      "INFO - [session-76] Done processing runs\r\n",
      "INFO - Report:\r\n",
      "    Session  Run   Model Frontend Framework     Backend Platform Target  Total Cycles  Total Instructions  Total CPI  Validation  Total ROM  Total RAM  ROM read-only  ROM code  ROM misc  RAM data  RAM zero-init data                Features                                             Config Postprocesses Comment\r\n",
      "0        76    0     aww   tflite       tvm  tvmaotplus     mlif  spike      21913889            21913889        1.0        True     137270      59364          56424     80830        16      2512               56852  [auto_vectorize, vext]  {'aww.output_shapes': {'Identity': [1, 12]}, '...            []       -\r\n",
      "1        76    1     aww   tflite       tvm  tvmaotplus     mlif  spike      21751489            21751489        1.0        True     137270      59364          56424     80830        16      2512               56852  [auto_vectorize, vext]  {'aww.output_shapes': {'Identity': [1, 12]}, '...            []       -\r\n",
      "2        76    2     aww   tflite       tvm  tvmaotplus     mlif  spike      21670289            21670289        1.0        True     137270      59364          56424     80830        16      2512               56852  [auto_vectorize, vext]  {'aww.output_shapes': {'Identity': [1, 12]}, '...            []       -\r\n",
      "3        76    3     aww   tflite       tvm  tvmaotplus     mlif  spike      21629689            21629689        1.0        True     137270      59364          56424     80830        16      2512               56852  [auto_vectorize, vext]  {'aww.output_shapes': {'Identity': [1, 12]}, '...            []       -\r\n",
      "4        76    4     aww   tflite       tvm  tvmaotplus     mlif  spike      22392189            22392189        1.0        True     137270      59364          56424     80830        16      2512               56852  [auto_vectorize, vext]  {'aww.output_shapes': {'Identity': [1, 12]}, '...            []       -\r\n",
      "5        76    5     aww   tflite       tvm  tvmaotplus     mlif  spike      23360909            23360909        1.0        True     137270      59364          56424     80830        16      2512               56852  [auto_vectorize, vext]  {'aww.output_shapes': {'Identity': [1, 12]}, '...            []       -\r\n",
      "6        76    6  resnet   tflite       tvm  tvmaotplus     mlif  spike      81789502            81789502        1.0        True     230578     108276         163368     67194        16      2512              105764  [auto_vectorize, vext]  {'resnet.output_shapes': {'Identity_int8': [1,...            []       -\r\n",
      "7        76    7  resnet   tflite       tvm  tvmaotplus     mlif  spike      81779453            81779453        1.0        True     230576     108276         163368     67192        16      2512              105764  [auto_vectorize, vext]  {'resnet.output_shapes': {'Identity_int8': [1,...            []       -\r\n",
      "8        76    8  resnet   tflite       tvm  tvmaotplus     mlif  spike      81774526            81774526        1.0        True     230578     108276         163368     67194        16      2512              105764  [auto_vectorize, vext]  {'resnet.output_shapes': {'Identity_int8': [1,...            []       -\r\n",
      "9        76    9  resnet   tflite       tvm  tvmaotplus     mlif  spike      81831738            81831738        1.0        True     230570     108276         163368     67186        16      2512              105764  [auto_vectorize, vext]  {'resnet.output_shapes': {'Identity_int8': [1,...            []       -\r\n",
      "10       76   10  resnet   tflite       tvm  tvmaotplus     mlif  spike      81863107            81863107        1.0        True     230572     108276         163368     67188        16      2512              105764  [auto_vectorize, vext]  {'resnet.output_shapes': {'Identity_int8': [1,...            []       -\r\n",
      "11       76   11  resnet   tflite       tvm  tvmaotplus     mlif  spike      81899650            81899650        1.0        True     230570     108276         163368     67186        16      2512              105764  [auto_vectorize, vext]  {'resnet.output_shapes': {'Identity_int8': [1,...            []       -\r\n"
     ]
    }
   ],
   "source": [
    "!python -m mlonmcu.cli.main flow run aww resnet -b tvmaotplus -t spike --config mlif.toolchain=llvm \\\n",
    "        --config vext.embedded=1 --feature auto_vectorize --feature vext \\\n",
    "        --config-gen vext.vlen=128 --config-gen vext.vlen=256 --config-gen vext.vlen=512 \\\n",
    "        --config-gen vext.vlen=1024 --config-gen vext.vlen=2048 --config-gen vext.vlen=4096"
   ]
  },
  {
   "cell_type": "markdown",
   "id": "1fc680ba",
   "metadata": {
    "papermill": {
     "duration": 0.008392,
     "end_time": "2023-12-31T14:02:36.321466",
     "exception": false,
     "start_time": "2023-12-31T14:02:36.313074",
     "status": "completed"
    },
    "tags": []
   },
   "source": [
    "Since the used VLEN is part of the \"Config\" column is it not shown above. We can fix that using some postprocesses:"
   ]
  },
  {
   "cell_type": "code",
   "execution_count": 6,
   "id": "53c89e22",
   "metadata": {
    "execution": {
     "iopub.execute_input": "2023-12-31T14:02:36.334779Z",
     "iopub.status.busy": "2023-12-31T14:02:36.334389Z",
     "iopub.status.idle": "2023-12-31T14:04:08.860535Z",
     "shell.execute_reply": "2023-12-31T14:04:08.859038Z"
    },
    "papermill": {
     "duration": 92.536347,
     "end_time": "2023-12-31T14:04:08.864111",
     "exception": false,
     "start_time": "2023-12-31T14:02:36.327764",
     "status": "completed"
    },
    "tags": []
   },
   "outputs": [
    {
     "name": "stdout",
     "output_type": "stream",
     "text": [
      "INFO - Loading environment cache from file\r\n",
      "INFO - Successfully initialized cache\r\n"
     ]
    },
    {
     "name": "stdout",
     "output_type": "stream",
     "text": [
      "INFO - [session-77]  Processing stage LOAD\r\n",
      "INFO - [session-77]  Processing stage BUILD\r\n"
     ]
    },
    {
     "name": "stdout",
     "output_type": "stream",
     "text": [
      "INFO - [session-77]  Processing stage COMPILE\r\n"
     ]
    },
    {
     "name": "stdout",
     "output_type": "stream",
     "text": [
      "INFO - [session-77]  Processing stage RUN\r\n"
     ]
    },
    {
     "name": "stdout",
     "output_type": "stream",
     "text": [
      "INFO - [session-77]  Processing stage POSTPROCESS\r\n"
     ]
    },
    {
     "name": "stdout",
     "output_type": "stream",
     "text": [
      "INFO - All runs completed successfuly!\r\n"
     ]
    },
    {
     "name": "stdout",
     "output_type": "stream",
     "text": [
      "INFO - Postprocessing session report\r\n",
      "INFO - [session-77] Done processing runs\r\n",
      "INFO - Report:\r\n",
      "     Model  Total Cycles\r\n",
      "0      aww      21913889\r\n",
      "1      aww      21751489\r\n",
      "2      aww      21670289\r\n",
      "3      aww      21629689\r\n",
      "4      aww      22392189\r\n",
      "5      aww      23360909\r\n",
      "6   resnet      81789437\r\n",
      "7   resnet      81779518\r\n",
      "8   resnet      81774526\r\n",
      "9   resnet      81831738\r\n",
      "10  resnet      81863042\r\n",
      "11  resnet      81899651\r\n"
     ]
    }
   ],
   "source": [
    "!python -m mlonmcu.cli.main flow run aww resnet -b tvmaotplus -t spike --config mlif.toolchain=llvm \\\n",
    "        --config vext.embedded=1 --feature auto_vectorize --feature vext \\\n",
    "        --config-gen vext.vlen=128 --config-gen vext.vlen=256 --config-gen vext.vlen=512 \\\n",
    "        --config-gen vext.vlen=1024 --config-gen vext.vlen=2048 --config-gen vext.vlen=4096 \\\n",
    "        --postprocess config2cols --postprocess filter_cols --postprocess rename_cols \\\n",
    "        --config rename_cols.mapping=\"{'config_vext.vlen': 'VLEN'}\" \\\n",
    "        --config filter_cols.keep=\"Model,Total Cycles,VLEN\""
   ]
  },
  {
   "cell_type": "markdown",
   "id": "b58021dd",
   "metadata": {
    "papermill": {
     "duration": 0.00975,
     "end_time": "2023-12-31T14:04:08.887669",
     "exception": false,
     "start_time": "2023-12-31T14:04:08.877919",
     "status": "completed"
    },
    "tags": []
   },
   "source": [
    "It might be interesting to visualize the above results in a graph. Check out the \"Python Scripting\" example below which also covers that."
   ]
  },
  {
   "cell_type": "markdown",
   "id": "4238333c",
   "metadata": {
    "papermill": {
     "duration": 0.01181,
     "end_time": "2023-12-31T14:04:08.912145",
     "exception": false,
     "start_time": "2023-12-31T14:04:08.900335",
     "status": "completed"
    },
    "tags": []
   },
   "source": [
    "### B) Python Scripting"
   ]
  },
  {
   "cell_type": "markdown",
   "id": "b500fc47",
   "metadata": {
    "papermill": {
     "duration": 0.007806,
     "end_time": "2023-12-31T14:04:08.930490",
     "exception": false,
     "start_time": "2023-12-31T14:04:08.922684",
     "status": "completed"
    },
    "tags": []
   },
   "source": [
    "Using the Python Scripting API add more degrees of freedom defining benchmarks and allows more powerful trnaformating of the generated results. The following section visualizes the effect of RVV auto-vectorization applied by the LLVM toolchain for different vector lengths."
   ]
  },
  {
   "cell_type": "code",
   "execution_count": 7,
   "id": "78c53970",
   "metadata": {
    "execution": {
     "iopub.execute_input": "2023-12-31T14:04:08.942680Z",
     "iopub.status.busy": "2023-12-31T14:04:08.942350Z",
     "iopub.status.idle": "2023-12-31T14:04:09.301625Z",
     "shell.execute_reply": "2023-12-31T14:04:09.300354Z"
    },
    "papermill": {
     "duration": 0.368878,
     "end_time": "2023-12-31T14:04:09.304780",
     "exception": false,
     "start_time": "2023-12-31T14:04:08.935902",
     "status": "completed"
    },
    "tags": []
   },
   "outputs": [],
   "source": [
    "from tempfile import TemporaryDirectory\n",
    "from pathlib import Path\n",
    "import pandas as pd\n",
    "\n",
    "from mlonmcu.context.context import MlonMcuContext\n",
    "from mlonmcu.session.run import RunStage"
   ]
  },
  {
   "cell_type": "markdown",
   "id": "86046913",
   "metadata": {
    "papermill": {
     "duration": 0.012118,
     "end_time": "2023-12-31T14:04:09.330767",
     "exception": false,
     "start_time": "2023-12-31T14:04:09.318649",
     "status": "completed"
    },
    "tags": []
   },
   "source": [
    "Benchmark Configuration"
   ]
  },
  {
   "cell_type": "code",
   "execution_count": 8,
   "id": "2f6c5e5a",
   "metadata": {
    "execution": {
     "iopub.execute_input": "2023-12-31T14:04:09.355609Z",
     "iopub.status.busy": "2023-12-31T14:04:09.354993Z",
     "iopub.status.idle": "2023-12-31T14:04:09.362297Z",
     "shell.execute_reply": "2023-12-31T14:04:09.361365Z"
    },
    "papermill": {
     "duration": 0.023166,
     "end_time": "2023-12-31T14:04:09.365063",
     "exception": false,
     "start_time": "2023-12-31T14:04:09.341897",
     "status": "completed"
    },
    "tags": []
   },
   "outputs": [],
   "source": [
    "FRONTEND = \"tflite\"\n",
    "MODELS = [\"aww\", \"resnet\"]\n",
    "BACKEND = \"tvmaotplus\"\n",
    "PLATFORM = \"mlif\"\n",
    "TARGET = \"spike\"\n",
    "POSTPROCESSES = [\"config2cols\", \"rename_cols\", \"filter_cols\"]\n",
    "CONFIG = {\n",
    "    \"mlif.toolchain\": \"llvm\",\n",
    "    \"vext.embedded\": True,\n",
    "    \"rename_cols.mapping\": {\"config_vext.vlen\": \"VLEN\"},\n",
    "    \"filter_cols.keep\": [\"Model\", \"Total Cycles\", \"VLEN\"]\n",
    "}"
   ]
  },
  {
   "cell_type": "markdown",
   "id": "966cc3fe",
   "metadata": {
    "papermill": {
     "duration": 0.011782,
     "end_time": "2023-12-31T14:04:09.389743",
     "exception": false,
     "start_time": "2023-12-31T14:04:09.377961",
     "status": "completed"
    },
    "tags": []
   },
   "source": [
    "Initialize and run a multiple benchmarks:"
   ]
  },
  {
   "cell_type": "code",
   "execution_count": 9,
   "id": "ebe63369",
   "metadata": {
    "execution": {
     "iopub.execute_input": "2023-12-31T14:04:09.405805Z",
     "iopub.status.busy": "2023-12-31T14:04:09.405217Z",
     "iopub.status.idle": "2023-12-31T14:05:54.654619Z",
     "shell.execute_reply": "2023-12-31T14:05:54.653517Z"
    },
    "papermill": {
     "duration": 105.25948,
     "end_time": "2023-12-31T14:05:54.657476",
     "exception": false,
     "start_time": "2023-12-31T14:04:09.397996",
     "status": "completed"
    },
    "tags": []
   },
   "outputs": [
    {
     "name": "stdout",
     "output_type": "stream",
     "text": [
      "INFO - Loading environment cache from file\n"
     ]
    },
    {
     "name": "stdout",
     "output_type": "stream",
     "text": [
      "INFO - Successfully initialized cache\n"
     ]
    },
    {
     "name": "stdout",
     "output_type": "stream",
     "text": [
      "INFO - [session-78] Processing all stages\n"
     ]
    },
    {
     "name": "stdout",
     "output_type": "stream",
     "text": [
      "INFO - All runs completed successfuly!\n"
     ]
    },
    {
     "name": "stdout",
     "output_type": "stream",
     "text": [
      "INFO - Postprocessing session report\n"
     ]
    },
    {
     "name": "stdout",
     "output_type": "stream",
     "text": [
      "INFO - [session-78] Done processing runs\n"
     ]
    },
    {
     "data": {
      "text/html": [
       "<div>\n",
       "<style scoped>\n",
       "    .dataframe tbody tr th:only-of-type {\n",
       "        vertical-align: middle;\n",
       "    }\n",
       "\n",
       "    .dataframe tbody tr th {\n",
       "        vertical-align: top;\n",
       "    }\n",
       "\n",
       "    .dataframe thead th {\n",
       "        text-align: right;\n",
       "    }\n",
       "</style>\n",
       "<table border=\"1\" class=\"dataframe\">\n",
       "  <thead>\n",
       "    <tr style=\"text-align: right;\">\n",
       "      <th></th>\n",
       "      <th>Model</th>\n",
       "      <th>Total Cycles</th>\n",
       "      <th>VLEN</th>\n",
       "    </tr>\n",
       "  </thead>\n",
       "  <tbody>\n",
       "    <tr>\n",
       "      <th>0</th>\n",
       "      <td>aww</td>\n",
       "      <td>23009668</td>\n",
       "      <td>NaN</td>\n",
       "    </tr>\n",
       "    <tr>\n",
       "      <th>1</th>\n",
       "      <td>aww</td>\n",
       "      <td>21913889</td>\n",
       "      <td>128.0</td>\n",
       "    </tr>\n",
       "    <tr>\n",
       "      <th>2</th>\n",
       "      <td>aww</td>\n",
       "      <td>21751489</td>\n",
       "      <td>256.0</td>\n",
       "    </tr>\n",
       "    <tr>\n",
       "      <th>3</th>\n",
       "      <td>aww</td>\n",
       "      <td>21670289</td>\n",
       "      <td>512.0</td>\n",
       "    </tr>\n",
       "    <tr>\n",
       "      <th>4</th>\n",
       "      <td>aww</td>\n",
       "      <td>21629689</td>\n",
       "      <td>1024.0</td>\n",
       "    </tr>\n",
       "    <tr>\n",
       "      <th>5</th>\n",
       "      <td>aww</td>\n",
       "      <td>22392189</td>\n",
       "      <td>2048.0</td>\n",
       "    </tr>\n",
       "    <tr>\n",
       "      <th>6</th>\n",
       "      <td>aww</td>\n",
       "      <td>23360909</td>\n",
       "      <td>4096.0</td>\n",
       "    </tr>\n",
       "    <tr>\n",
       "      <th>7</th>\n",
       "      <td>resnet</td>\n",
       "      <td>81830098</td>\n",
       "      <td>NaN</td>\n",
       "    </tr>\n",
       "    <tr>\n",
       "      <th>8</th>\n",
       "      <td>resnet</td>\n",
       "      <td>81789499</td>\n",
       "      <td>128.0</td>\n",
       "    </tr>\n",
       "    <tr>\n",
       "      <th>9</th>\n",
       "      <td>resnet</td>\n",
       "      <td>81779518</td>\n",
       "      <td>256.0</td>\n",
       "    </tr>\n",
       "    <tr>\n",
       "      <th>10</th>\n",
       "      <td>resnet</td>\n",
       "      <td>81774461</td>\n",
       "      <td>512.0</td>\n",
       "    </tr>\n",
       "    <tr>\n",
       "      <th>11</th>\n",
       "      <td>resnet</td>\n",
       "      <td>81831803</td>\n",
       "      <td>1024.0</td>\n",
       "    </tr>\n",
       "    <tr>\n",
       "      <th>12</th>\n",
       "      <td>resnet</td>\n",
       "      <td>81863107</td>\n",
       "      <td>2048.0</td>\n",
       "    </tr>\n",
       "    <tr>\n",
       "      <th>13</th>\n",
       "      <td>resnet</td>\n",
       "      <td>81899654</td>\n",
       "      <td>4096.0</td>\n",
       "    </tr>\n",
       "  </tbody>\n",
       "</table>\n",
       "</div>"
      ],
      "text/plain": [
       "     Model  Total Cycles    VLEN\n",
       "0      aww      23009668     NaN\n",
       "1      aww      21913889   128.0\n",
       "2      aww      21751489   256.0\n",
       "3      aww      21670289   512.0\n",
       "4      aww      21629689  1024.0\n",
       "5      aww      22392189  2048.0\n",
       "6      aww      23360909  4096.0\n",
       "7   resnet      81830098     NaN\n",
       "8   resnet      81789499   128.0\n",
       "9   resnet      81779518   256.0\n",
       "10  resnet      81774461   512.0\n",
       "11  resnet      81831803  1024.0\n",
       "12  resnet      81863107  2048.0\n",
       "13  resnet      81899654  4096.0"
      ]
     },
     "execution_count": 9,
     "metadata": {},
     "output_type": "execute_result"
    }
   ],
   "source": [
    "with MlonMcuContext() as context:\n",
    "    with context.create_session() as session:\n",
    "        for model in MODELS:\n",
    "            def helper(session, vlen=0):\n",
    "                cfg = CONFIG.copy()\n",
    "                if vlen > 0:\n",
    "                    cfg[\"vext.vlen\"] = vlen\n",
    "                run = session.create_run(config=cfg)\n",
    "                if vlen > 0:\n",
    "                    run.add_features_by_name([\"vext\", \"auto_vectorize\"], context=context)\n",
    "                run.add_frontend_by_name(FRONTEND, context=context)\n",
    "                run.add_model_by_name(model, context=context)\n",
    "                run.add_backend_by_name(BACKEND, context=context)\n",
    "                run.add_platform_by_name(PLATFORM, context=context)\n",
    "                run.add_target_by_name(TARGET, context=context)\n",
    "                run.add_postprocesses_by_name(POSTPROCESSES)\n",
    "            for vlen in [0, 128, 256, 512, 1024, 2048, 4096]:\n",
    "                helper(session, vlen)\n",
    "        session.process_runs(context=context)\n",
    "        report = session.get_reports()\n",
    "assert \"Failing\" not in report.df.columns\n",
    "report.df"
   ]
  },
  {
   "cell_type": "markdown",
   "id": "223b1420",
   "metadata": {
    "papermill": {
     "duration": 0.005561,
     "end_time": "2023-12-31T14:05:54.669303",
     "exception": false,
     "start_time": "2023-12-31T14:05:54.663742",
     "status": "completed"
    },
    "tags": []
   },
   "source": [
    "We can transform the dataframe using pandas as follows:"
   ]
  },
  {
   "cell_type": "code",
   "execution_count": 10,
   "id": "e932b684",
   "metadata": {
    "execution": {
     "iopub.execute_input": "2023-12-31T14:05:54.679896Z",
     "iopub.status.busy": "2023-12-31T14:05:54.679569Z",
     "iopub.status.idle": "2023-12-31T14:05:54.691172Z",
     "shell.execute_reply": "2023-12-31T14:05:54.690164Z"
    },
    "papermill": {
     "duration": 0.018144,
     "end_time": "2023-12-31T14:05:54.692568",
     "exception": false,
     "start_time": "2023-12-31T14:05:54.674424",
     "status": "completed"
    },
    "tags": []
   },
   "outputs": [
    {
     "data": {
      "text/html": [
       "<div>\n",
       "<style scoped>\n",
       "    .dataframe tbody tr th:only-of-type {\n",
       "        vertical-align: middle;\n",
       "    }\n",
       "\n",
       "    .dataframe tbody tr th {\n",
       "        vertical-align: top;\n",
       "    }\n",
       "\n",
       "    .dataframe thead th {\n",
       "        text-align: right;\n",
       "    }\n",
       "</style>\n",
       "<table border=\"1\" class=\"dataframe\">\n",
       "  <thead>\n",
       "    <tr style=\"text-align: right;\">\n",
       "      <th></th>\n",
       "      <th>Model</th>\n",
       "      <th>Total Cycles</th>\n",
       "      <th>Factor</th>\n",
       "    </tr>\n",
       "    <tr>\n",
       "      <th>VLEN</th>\n",
       "      <th></th>\n",
       "      <th></th>\n",
       "      <th></th>\n",
       "    </tr>\n",
       "  </thead>\n",
       "  <tbody>\n",
       "    <tr>\n",
       "      <th>0</th>\n",
       "      <td>aww</td>\n",
       "      <td>23009668</td>\n",
       "      <td>1.000000</td>\n",
       "    </tr>\n",
       "    <tr>\n",
       "      <th>128</th>\n",
       "      <td>aww</td>\n",
       "      <td>21913889</td>\n",
       "      <td>1.050004</td>\n",
       "    </tr>\n",
       "    <tr>\n",
       "      <th>256</th>\n",
       "      <td>aww</td>\n",
       "      <td>21751489</td>\n",
       "      <td>1.057843</td>\n",
       "    </tr>\n",
       "    <tr>\n",
       "      <th>512</th>\n",
       "      <td>aww</td>\n",
       "      <td>21670289</td>\n",
       "      <td>1.061807</td>\n",
       "    </tr>\n",
       "    <tr>\n",
       "      <th>1024</th>\n",
       "      <td>aww</td>\n",
       "      <td>21629689</td>\n",
       "      <td>1.063800</td>\n",
       "    </tr>\n",
       "    <tr>\n",
       "      <th>2048</th>\n",
       "      <td>aww</td>\n",
       "      <td>22392189</td>\n",
       "      <td>1.027576</td>\n",
       "    </tr>\n",
       "    <tr>\n",
       "      <th>4096</th>\n",
       "      <td>aww</td>\n",
       "      <td>23360909</td>\n",
       "      <td>0.984965</td>\n",
       "    </tr>\n",
       "    <tr>\n",
       "      <th>0</th>\n",
       "      <td>resnet</td>\n",
       "      <td>81830098</td>\n",
       "      <td>1.000000</td>\n",
       "    </tr>\n",
       "    <tr>\n",
       "      <th>128</th>\n",
       "      <td>resnet</td>\n",
       "      <td>81789499</td>\n",
       "      <td>1.000496</td>\n",
       "    </tr>\n",
       "    <tr>\n",
       "      <th>256</th>\n",
       "      <td>resnet</td>\n",
       "      <td>81779518</td>\n",
       "      <td>1.000618</td>\n",
       "    </tr>\n",
       "    <tr>\n",
       "      <th>512</th>\n",
       "      <td>resnet</td>\n",
       "      <td>81774461</td>\n",
       "      <td>1.000680</td>\n",
       "    </tr>\n",
       "    <tr>\n",
       "      <th>1024</th>\n",
       "      <td>resnet</td>\n",
       "      <td>81831803</td>\n",
       "      <td>0.999979</td>\n",
       "    </tr>\n",
       "    <tr>\n",
       "      <th>2048</th>\n",
       "      <td>resnet</td>\n",
       "      <td>81863107</td>\n",
       "      <td>0.999597</td>\n",
       "    </tr>\n",
       "    <tr>\n",
       "      <th>4096</th>\n",
       "      <td>resnet</td>\n",
       "      <td>81899654</td>\n",
       "      <td>0.999151</td>\n",
       "    </tr>\n",
       "  </tbody>\n",
       "</table>\n",
       "</div>"
      ],
      "text/plain": [
       "       Model  Total Cycles    Factor\n",
       "VLEN                                \n",
       "0        aww      23009668  1.000000\n",
       "128      aww      21913889  1.050004\n",
       "256      aww      21751489  1.057843\n",
       "512      aww      21670289  1.061807\n",
       "1024     aww      21629689  1.063800\n",
       "2048     aww      22392189  1.027576\n",
       "4096     aww      23360909  0.984965\n",
       "0     resnet      81830098  1.000000\n",
       "128   resnet      81789499  1.000496\n",
       "256   resnet      81779518  1.000618\n",
       "512   resnet      81774461  1.000680\n",
       "1024  resnet      81831803  0.999979\n",
       "2048  resnet      81863107  0.999597\n",
       "4096  resnet      81899654  0.999151"
      ]
     },
     "execution_count": 10,
     "metadata": {},
     "output_type": "execute_result"
    }
   ],
   "source": [
    "df = report.df\n",
    "df.fillna(0, inplace=True)\n",
    "df.set_index('VLEN', inplace=True)\n",
    "df.index = df.index.map(int).map(str)\n",
    "firsts = (df.groupby('Model')['Total Cycles'].transform('first'))\n",
    "df[\"Factor\"] = 1 / (df['Total Cycles'] / firsts)\n",
    "df"
   ]
  },
  {
   "cell_type": "markdown",
   "id": "fb26f317",
   "metadata": {
    "papermill": {
     "duration": 0.00407,
     "end_time": "2023-12-31T14:05:54.726933",
     "exception": false,
     "start_time": "2023-12-31T14:05:54.722863",
     "status": "completed"
    },
    "tags": []
   },
   "source": [
    "Finally, we can visualize the achieved speedup for the considered vector lengths:"
   ]
  },
  {
   "cell_type": "code",
   "execution_count": 11,
   "id": "72d11b7c",
   "metadata": {
    "execution": {
     "iopub.execute_input": "2023-12-31T14:05:54.737251Z",
     "iopub.status.busy": "2023-12-31T14:05:54.736636Z",
     "iopub.status.idle": "2023-12-31T14:05:55.216578Z",
     "shell.execute_reply": "2023-12-31T14:05:55.216100Z"
    },
    "papermill": {
     "duration": 0.489575,
     "end_time": "2023-12-31T14:05:55.220583",
     "exception": false,
     "start_time": "2023-12-31T14:05:54.731008",
     "status": "completed"
    },
    "tags": []
   },
   "outputs": [
    {
     "data": {
      "text/plain": [
       "Model\n",
       "aww       Axes(0.125,0.11;0.775x0.77)\n",
       "resnet    Axes(0.125,0.11;0.775x0.77)\n",
       "Name: Factor, dtype: object"
      ]
     },
     "execution_count": 11,
     "metadata": {},
     "output_type": "execute_result"
    },
    {
     "data": {
      "image/png": "[encoded data removed]",
      "text/plain": [
       "<Figure size 640x480 with 1 Axes>"
      ]
     },
     "metadata": {},
     "output_type": "display_data"
    }
   ],
   "source": [
    "df.groupby('Model')['Factor'].plot(legend=True, title=\"Auto-vectorization Speedup-Factors\", ylabel=\"Speedup\")"
   ]
  },
  {
   "cell_type": "markdown",
   "id": "cfbcaf5a",
   "metadata": {
    "papermill": {
     "duration": 0.006324,
     "end_time": "2023-12-31T14:05:55.236994",
     "exception": false,
     "start_time": "2023-12-31T14:05:55.230670",
     "status": "completed"
    },
    "tags": []
   },
   "source": [
    "The achievable speedup depends heavily on the workload (used model) and too large vector registers might degrade the performance as well in the end."
   ]
  }
 ],
 "metadata": {
  "kernelspec": {
   "display_name": "Python 3 (ipykernel)",
   "language": "python",
   "name": "python3"
  },
  "language_info": {
   "codemirror_mode": {
    "name": "ipython",
    "version": 3
   },
   "file_extension": ".py",
   "mimetype": "text/x-python",
   "name": "python",
   "nbconvert_exporter": "python",
   "pygments_lexer": "ipython3",
   "version": "3.8.10"
  },
  "papermill": {
   "default_parameters": {},
   "duration": 324.36459,
   "end_time": "2023-12-31T14:05:55.564566",
   "environment_variables": {},
   "exception": null,
   "input_path": "/work/git/mlonmcu/mlonmcu/ipynb/Examples/RISCVAutoVectorization/RISCVAutoVectorization.ipynb",
   "output_path": "/work/git/mlonmcu/mlonmcu/ipynb/Examples/RISCVAutoVectorization/RISCVAutoVectorization.ipynb",
   "parameters": {},
   "start_time": "2023-12-31T14:00:31.199976",
   "version": "2.5.0"
  }
 },
 "nbformat": 4,
 "nbformat_minor": 5
}
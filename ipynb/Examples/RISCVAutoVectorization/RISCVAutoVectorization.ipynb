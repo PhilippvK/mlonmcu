{
 "cells": [
  {
   "cell_type": "markdown",
   "id": "67a623c3",
   "metadata": {},
   "source": [
    "# Example: Auto-Vectorization for RISC-V Vector-Extension using LLVM"
   ]
  },
  {
   "cell_type": "markdown",
   "id": "1025ee11",
   "metadata": {},
   "source": [
    "Auto-vectorization is a compiler optimization method, which can by applied on SIMD platforms such as vector processors and DSPs. The RISC-V vector extension which is currently being finalized is a good example of that and already supported by the LLVm toolchain."
   ]
  },
  {
   "cell_type": "markdown",
   "id": "87fd1387",
   "metadata": {},
   "source": [
    "## Supported components"
   ]
  },
  {
   "cell_type": "markdown",
   "id": "584a911d",
   "metadata": {},
   "source": [
    "**Models:** Any (`aww` and `resnet` used below)\n",
    "\n",
    "**Frontends:** Any (`tflite` used below)\n",
    "\n",
    "**Frameworks/Backends:** Any (`tvmaotplus` used below)\n",
    "\n",
    "**Platforms/Targets:** Any platforms and targets supporting the `vext` or `auto_vectorize` feature (`spike` used below)\n",
    "\n",
    "**Features:** `vext` or `auto_vectorize` feature have to be enabled/installed\n",
    "\n",
    "**Toolchains:** `llvm` only (RVV GCC is __not__ stable for Zve32x)"
   ]
  },
  {
   "cell_type": "markdown",
   "id": "74ce776e",
   "metadata": {},
   "source": [
    "## Prerequisites"
   ]
  },
  {
   "cell_type": "markdown",
   "id": "18955525",
   "metadata": {},
   "source": [
    "Set up MLonmCU as usual, i.e. initialize an environment and install all required dependencies. Feel free to use the following minimal `environment.yml.j2` template:"
   ]
  },
  {
   "cell_type": "markdown",
   "id": "51eb8539",
   "metadata": {},
   "source": [
    "```yaml\n",
    "---\n",
    "home: \"{{ home_dir }}\"\n",
    "logging:\n",
    "  level: DEBUG\n",
    "  to_file: false\n",
    "  rotate: false\n",
    "cleanup:\n",
    "  auto: true\n",
    "  keep: 10\n",
    "paths:\n",
    "  deps: deps\n",
    "  logs: logs\n",
    "  results: results\n",
    "  plugins: plugins\n",
    "  temp: temp\n",
    "  models:\n",
    "    - \"{{ home_dir }}/models\"\n",
    "    - \"{{ config_dir }}/models\"\n",
    "repos:\n",
    "  tvm:\n",
    "    url: \"https://github.com/apache/tvm.git\"\n",
    "    ref: de6d8067754d746d88262c530b5241b5577b9aae\n",
    "  spike:\n",
    "    url: \"https://github.com/riscv-software-src/riscv-isa-sim.git\"\n",
    "    ref: 0bc176b3fca43560b9e8586cdbc41cfde073e17a\n",
    "  spikepk:\n",
    "    url: \"https://github.com/riscv-software-src/riscv-pk.git\"\n",
    "    ref: 7e9b671c0415dfd7b562ac934feb9380075d4aa2\n",
    "  mlif:\n",
    "    url: \"https://github.com/tum-ei-eda/mlonmcu-sw.git\"\n",
    "    ref: 4b9a32659f7c5340e8de26a0b8c4135ca67d64ac\n",
    "frameworks:\n",
    "  default: tvm\n",
    "  tvm:\n",
    "    enabled: true\n",
    "    backends:\n",
    "      default: tvmaotplus\n",
    "      tvmaotplus:\n",
    "        enabled: true\n",
    "        features: []\n",
    "    features: []\n",
    "frontends:\n",
    "  tflite:\n",
    "    enabled: true\n",
    "    features: []\n",
    "toolchains:\n",
    "  gcc: true\n",
    "  llvm: true\n",
    "platforms:\n",
    "  mlif:\n",
    "    enabled: true\n",
    "    features:\n",
    "      auto_vectorize: true\n",
    "targets:\n",
    "  default: spike\n",
    "  spike:\n",
    "    enabled: true\n",
    "    features:\n",
    "      vext: false\n",
    "      pext: false\n",
    "```"
   ]
  },
  {
   "cell_type": "markdown",
   "id": "4d140308",
   "metadata": {},
   "source": [
    "Do not forget to set your `MLONMCU_HOME` environment variable first if not using the default location!"
   ]
  },
  {
   "cell_type": "markdown",
   "id": "a3bac781",
   "metadata": {},
   "source": [
    "## Usage"
   ]
  },
  {
   "cell_type": "markdown",
   "id": "1352b362",
   "metadata": {},
   "source": [
    "The following examples use the embedded vextor extension (Zve32x/f) instead of the full vector extension since it is more suitable for MCU-type devices and  suffices for running quantized ML models.\n",
    "\n",
    "*Warning:* Since Instruction-Set-Simulators (ISS) are used for the following experimenents, we only consider instruction counts instead of real cycle counts (CPI=1). Of course is is not realistic that an actual implementation using VLEN=4096 can finish every operation in a single cycle."
   ]
  },
  {
   "cell_type": "markdown",
   "id": "f01b54e2",
   "metadata": {},
   "source": [
    "### A) Command Line Interface"
   ]
  },
  {
   "cell_type": "markdown",
   "id": "2b333851",
   "metadata": {},
   "source": [
    "As an example, we run `tvmaotplus` backend with two different models on the `spike` target. Since using RISC-V GCC for vectorization seems to lead to some issues, we tell MLonMCU to use LLVM instead (`--config mlif.toolchain=llvm`).\n",
    "\n",
    "To figure out if auto-vectorization works we first use the `--config vext.vlen=128 --config vext.embedded=1 --feature-gen _ --feature-gen auto_vectorize feature vext` flags."
   ]
  },
  {
   "cell_type": "code",
   "execution_count": 6,
   "id": "43576c35",
   "metadata": {},
   "outputs": [
    {
     "name": "stdout",
     "output_type": "stream",
     "text": [
      "INFO - Loading environment cache from file\n",
      "INFO - Successfully initialized cache\n",
      "INFO - Loading extensions.py (User)\n",
      "INFO - [session-341]  Processing stage LOAD\n",
      "INFO - [session-341]  Processing stage BUILD\n",
      "INFO - [session-341]  Processing stage COMPILE\n",
      "INFO - [session-341]  Processing stage RUN\n",
      "INFO - All runs completed successfuly!\n",
      "INFO - Postprocessing session report\n",
      "INFO - [session-341] Done processing runs\n",
      "INFO - Report:\n",
      "   Session  Run   Model Frontend Framework     Backend Platform Target    Cycles  Total ROM  Total RAM  ROM read-only  ROM code  ROM misc  RAM data  RAM zero-init data                Features                                             Config Postprocesses Comment\n",
      "0      341    0     aww   tflite       tvm  tvmaotplus     mlif  spike  25158835     136862     123328          63268     73578        16      2512              120816                      []  {'tflite.use_inout_data': False, 'tflite.visua...            []       -\n",
      "1      341    1     aww   tflite       tvm  tvmaotplus     mlif  spike   9460297     188700     123328          63256    125428        16      2512              120816  [auto_vectorize, vext]  {'tflite.use_inout_data': False, 'tflite.visua...            []       -\n",
      "2      341    2  resnet   tflite       tvm  tvmaotplus     mlif  spike  83103372     232070     108240         167332     64722        16      2512              105728                      []  {'tflite.use_inout_data': False, 'tflite.visua...            []       -\n",
      "3      341    3  resnet   tflite       tvm  tvmaotplus     mlif  spike  57781488     253516     108240         167544     85956        16      2512              105728  [auto_vectorize, vext]  {'tflite.use_inout_data': False, 'tflite.visua...            []       -\n"
     ]
    }
   ],
   "source": [
    "!python -m mlonmcu.cli.main flow run aww resnet -b tvmaotplus -t spike --config mlif.toolchain=llvm \\\n",
    "        --config vext.vlen=128 --config vext.embedded=1 \\\n",
    "        --feature-gen _ --feature-gen auto_vectorize vext"
   ]
  },
  {
   "cell_type": "markdown",
   "id": "f1f373c3",
   "metadata": {},
   "source": [
    "To do some actual comparions, lets run these benchmarks for a set of different VLEN value using several `--config-gen` arguments:"
   ]
  },
  {
   "cell_type": "code",
   "execution_count": 9,
   "id": "6868f839",
   "metadata": {},
   "outputs": [
    {
     "name": "stdout",
     "output_type": "stream",
     "text": [
      "INFO - Loading environment cache from file\n",
      "INFO - Successfully initialized cache\n",
      "INFO - Loading extensions.py (User)\n",
      "INFO - [session-344]  Processing stage LOAD\n",
      "INFO - [session-344]  Processing stage BUILD\n",
      "INFO - [session-344]  Processing stage COMPILE\n",
      "INFO - [session-344]  Processing stage RUN\n",
      "INFO - All runs completed successfuly!\n",
      "INFO - Postprocessing session report\n",
      "INFO - [session-344] Done processing runs\n",
      "INFO - Report:\n",
      "    Session  Run   Model Frontend Framework     Backend Platform Target    Cycles  Total ROM  Total RAM  ROM read-only  ROM code  ROM misc  RAM data  RAM zero-init data                Features                                             Config Postprocesses Comment\n",
      "0       344    0     aww   tflite       tvm  tvmaotplus     mlif  spike   9460297     188700     123328          63256    125428        16      2512              120816  [vext, auto_vectorize]  {'tflite.use_inout_data': False, 'tflite.visua...            []       -\n",
      "1       344    1     aww   tflite       tvm  tvmaotplus     mlif  spike   6665329     205592     123328          63256    142320        16      2512              120816  [vext, auto_vectorize]  {'tflite.use_inout_data': False, 'tflite.visua...            []       -\n",
      "2       344    2     aww   tflite       tvm  tvmaotplus     mlif  spike   5583814     205276     123328          63256    142004        16      2512              120816  [vext, auto_vectorize]  {'tflite.use_inout_data': False, 'tflite.visua...            []       -\n",
      "3       344    3     aww   tflite       tvm  tvmaotplus     mlif  spike   4904091     213234     123328          63256    149962        16      2512              120816  [vext, auto_vectorize]  {'tflite.use_inout_data': False, 'tflite.visua...            []       -\n",
      "4       344    4     aww   tflite       tvm  tvmaotplus     mlif  spike   4665951     237386     123328          63256    174114        16      2512              120816  [vext, auto_vectorize]  {'tflite.use_inout_data': False, 'tflite.visua...            []       -\n",
      "5       344    5     aww   tflite       tvm  tvmaotplus     mlif  spike   4970511     318212     123328          63256    254940        16      2512              120816  [vext, auto_vectorize]  {'tflite.use_inout_data': False, 'tflite.visua...            []       -\n",
      "6       344    6  resnet   tflite       tvm  tvmaotplus     mlif  spike  57781486     253512     108240         167544     85952        16      2512              105728  [vext, auto_vectorize]  {'tflite.use_inout_data': False, 'tflite.visua...            []       -\n",
      "7       344    7  resnet   tflite       tvm  tvmaotplus     mlif  spike  44163303     244764     108240         167528     77220        16      2512              105728  [vext, auto_vectorize]  {'tflite.use_inout_data': False, 'tflite.visua...            []       -\n",
      "8       344    8  resnet   tflite       tvm  tvmaotplus     mlif  spike  38158478     244210     108240         167528     76666        16      2512              105728  [vext, auto_vectorize]  {'tflite.use_inout_data': False, 'tflite.visua...            []       -\n",
      "9       344    9  resnet   tflite       tvm  tvmaotplus     mlif  spike  36342420     248136     108240         167320     80800        16      2512              105728  [vext, auto_vectorize]  {'tflite.use_inout_data': False, 'tflite.visua...            []       -\n",
      "10      344   10  resnet   tflite       tvm  tvmaotplus     mlif  spike  36136407     268174     108240         167320    100838        16      2512              105728  [vext, auto_vectorize]  {'tflite.use_inout_data': False, 'tflite.visua...            []       -\n",
      "11      344   11  resnet   tflite       tvm  tvmaotplus     mlif  spike  36178324     293386     108240         167320    126050        16      2512              105728  [vext, auto_vectorize]  {'tflite.use_inout_data': False, 'tflite.visua...            []       -\n"
     ]
    }
   ],
   "source": [
    "!python -m mlonmcu.cli.main flow run aww resnet -b tvmaotplus -t spike --config mlif.toolchain=llvm \\\n",
    "        --config vext.embedded=1 --feature auto_vectorize --feature vext \\\n",
    "        --config-gen vext.vlen=128 --config-gen vext.vlen=256 --config-gen vext.vlen=512 \\\n",
    "        --config-gen vext.vlen=1024 --config-gen vext.vlen=2048 --config-gen vext.vlen=4096"
   ]
  },
  {
   "cell_type": "markdown",
   "id": "1fc680ba",
   "metadata": {},
   "source": [
    "Since the used VLEN is part of the \"Config\" column is it not shown above. We can fix that using some postprocesses:"
   ]
  },
  {
   "cell_type": "code",
   "execution_count": 12,
   "id": "53c89e22",
   "metadata": {},
   "outputs": [
    {
     "name": "stdout",
     "output_type": "stream",
     "text": [
      "INFO - Loading environment cache from file\n",
      "INFO - Successfully initialized cache\n",
      "INFO - Loading extensions.py (User)\n",
      "INFO - [session-346]  Processing stage LOAD\n",
      "INFO - [session-346]  Processing stage BUILD\n",
      "INFO - [session-346]  Processing stage COMPILE\n",
      "INFO - [session-346]  Processing stage RUN\n",
      "INFO - [session-346]  Processing stage POSTPROCESS\n",
      "INFO - All runs completed successfuly!\n",
      "INFO - Postprocessing session report\n",
      "INFO - [session-346] Done processing runs\n",
      "INFO - Report:\n",
      "     Model    Cycles\n",
      "0      aww   9460297\n",
      "1      aww   6665329\n",
      "2      aww   5583814\n",
      "3      aww   4904091\n",
      "4      aww   4665951\n",
      "5      aww   4970511\n",
      "6   resnet  57781484\n",
      "7   resnet  44163303\n",
      "8   resnet  38158478\n",
      "9   resnet  36342423\n",
      "10  resnet  36136404\n",
      "11  resnet  36178322\n"
     ]
    }
   ],
   "source": [
    "!python -m mlonmcu.cli.main flow run aww resnet -b tvmaotplus -t spike --config mlif.toolchain=llvm \\\n",
    "        --config vext.embedded=1 --feature auto_vectorize --feature vext \\\n",
    "        --config-gen vext.vlen=128 --config-gen vext.vlen=256 --config-gen vext.vlen=512 \\\n",
    "        --config-gen vext.vlen=1024 --config-gen vext.vlen=2048 --config-gen vext.vlen=4096 \\\n",
    "        --postprocess config2cols --postprocess filter_cols --postprocess rename_cols \\\n",
    "        --config rename_cols.mapping=\"{'config_vext.vlen': 'VLEN'}\" \\\n",
    "        --config filter_cols.keep=\"Model,Cycles,VLEN\""
   ]
  },
  {
   "cell_type": "markdown",
   "id": "b58021dd",
   "metadata": {},
   "source": [
    "It might be interesting to visualize the above results in a graph. Check out the \"Python Scripting\" example below which also covers that."
   ]
  },
  {
   "cell_type": "markdown",
   "id": "4238333c",
   "metadata": {},
   "source": [
    "### B) Python Scripting"
   ]
  },
  {
   "cell_type": "markdown",
   "id": "b500fc47",
   "metadata": {},
   "source": [
    "Using the Python Scripting API add more degrees of freedom defining benchmarks and allows more powerful trnaformating of the generated results. The following section visualizes the effect of RVV auto-vectorization applied by the LLVM toolchain for different vector lengths."
   ]
  },
  {
   "cell_type": "code",
   "execution_count": 15,
   "id": "78c53970",
   "metadata": {},
   "outputs": [],
   "source": [
    "from tempfile import TemporaryDirectory\n",
    "from pathlib import Path\n",
    "import pandas as pd\n",
    "\n",
    "from mlonmcu.context.context import MlonMcuContext\n",
    "from mlonmcu.session.run import RunStage"
   ]
  },
  {
   "cell_type": "markdown",
   "id": "86046913",
   "metadata": {},
   "source": [
    "Benchmark Configuration"
   ]
  },
  {
   "cell_type": "code",
   "execution_count": 23,
   "id": "2f6c5e5a",
   "metadata": {},
   "outputs": [],
   "source": [
    "FRONTEND = \"tflite\"\n",
    "MODELS = [\"aww\", \"resnet\"]\n",
    "BACKEND = \"tvmaotplus\"\n",
    "PLATFORM = \"mlif\"\n",
    "TARGET = \"spike\"\n",
    "POSTPROCESSES = [\"config2cols\", \"rename_cols\", \"filter_cols\"]\n",
    "CONFIG = {\n",
    "    \"mlif.toolchain\": \"llvm\",\n",
    "    \"vext.embedded\": True,\n",
    "    \"rename_cols.mapping\": {\"config_vext.vlen\": \"VLEN\"},\n",
    "    \"filter_cols.keep\": [\"Model\", \"Cycles\", \"VLEN\"]\n",
    "}"
   ]
  },
  {
   "cell_type": "markdown",
   "id": "966cc3fe",
   "metadata": {},
   "source": [
    "Initialize and run a multiple benchmarks:"
   ]
  },
  {
   "cell_type": "code",
   "execution_count": 24,
   "id": "ebe63369",
   "metadata": {
    "scrolled": false
   },
   "outputs": [
    {
     "name": "stdout",
     "output_type": "stream",
     "text": [
      "INFO - Loading environment cache from file\n",
      "INFO - Successfully initialized cache\n",
      "INFO - Loading extensions.py (User)\n",
      "INFO - [session-350] Processing all stages\n",
      "INFO - All runs completed successfuly!\n",
      "INFO - Postprocessing session report\n",
      "INFO - [session-350] Done processing runs\n",
      "INFO - [session-350] Processing all stages\n",
      "INFO - All runs completed successfuly!\n",
      "INFO - Postprocessing session report\n",
      "INFO - [session-350] Done processing runs\n"
     ]
    },
    {
     "data": {
      "text/html": [
       "<div>\n",
       "<style scoped>\n",
       "    .dataframe tbody tr th:only-of-type {\n",
       "        vertical-align: middle;\n",
       "    }\n",
       "\n",
       "    .dataframe tbody tr th {\n",
       "        vertical-align: top;\n",
       "    }\n",
       "\n",
       "    .dataframe thead th {\n",
       "        text-align: right;\n",
       "    }\n",
       "</style>\n",
       "<table border=\"1\" class=\"dataframe\">\n",
       "  <thead>\n",
       "    <tr style=\"text-align: right;\">\n",
       "      <th></th>\n",
       "      <th>Model</th>\n",
       "      <th>Cycles</th>\n",
       "      <th>VLEN</th>\n",
       "    </tr>\n",
       "  </thead>\n",
       "  <tbody>\n",
       "    <tr>\n",
       "      <th>0</th>\n",
       "      <td>aww</td>\n",
       "      <td>25158835</td>\n",
       "      <td>NaN</td>\n",
       "    </tr>\n",
       "    <tr>\n",
       "      <th>1</th>\n",
       "      <td>aww</td>\n",
       "      <td>9460297</td>\n",
       "      <td>128.0</td>\n",
       "    </tr>\n",
       "    <tr>\n",
       "      <th>2</th>\n",
       "      <td>aww</td>\n",
       "      <td>6665329</td>\n",
       "      <td>256.0</td>\n",
       "    </tr>\n",
       "    <tr>\n",
       "      <th>3</th>\n",
       "      <td>aww</td>\n",
       "      <td>5583814</td>\n",
       "      <td>512.0</td>\n",
       "    </tr>\n",
       "    <tr>\n",
       "      <th>4</th>\n",
       "      <td>aww</td>\n",
       "      <td>4904091</td>\n",
       "      <td>1024.0</td>\n",
       "    </tr>\n",
       "    <tr>\n",
       "      <th>5</th>\n",
       "      <td>aww</td>\n",
       "      <td>4665951</td>\n",
       "      <td>2048.0</td>\n",
       "    </tr>\n",
       "    <tr>\n",
       "      <th>6</th>\n",
       "      <td>aww</td>\n",
       "      <td>4970511</td>\n",
       "      <td>4096.0</td>\n",
       "    </tr>\n",
       "    <tr>\n",
       "      <th>7</th>\n",
       "      <td>resnet</td>\n",
       "      <td>83103375</td>\n",
       "      <td>NaN</td>\n",
       "    </tr>\n",
       "    <tr>\n",
       "      <th>8</th>\n",
       "      <td>resnet</td>\n",
       "      <td>57781485</td>\n",
       "      <td>128.0</td>\n",
       "    </tr>\n",
       "    <tr>\n",
       "      <th>9</th>\n",
       "      <td>resnet</td>\n",
       "      <td>44163303</td>\n",
       "      <td>256.0</td>\n",
       "    </tr>\n",
       "    <tr>\n",
       "      <th>10</th>\n",
       "      <td>resnet</td>\n",
       "      <td>38158477</td>\n",
       "      <td>512.0</td>\n",
       "    </tr>\n",
       "    <tr>\n",
       "      <th>11</th>\n",
       "      <td>resnet</td>\n",
       "      <td>36342420</td>\n",
       "      <td>1024.0</td>\n",
       "    </tr>\n",
       "    <tr>\n",
       "      <th>12</th>\n",
       "      <td>resnet</td>\n",
       "      <td>36136404</td>\n",
       "      <td>2048.0</td>\n",
       "    </tr>\n",
       "    <tr>\n",
       "      <th>13</th>\n",
       "      <td>resnet</td>\n",
       "      <td>36178321</td>\n",
       "      <td>4096.0</td>\n",
       "    </tr>\n",
       "  </tbody>\n",
       "</table>\n",
       "</div>"
      ],
      "text/plain": [
       "     Model    Cycles    VLEN\n",
       "0      aww  25158835     NaN\n",
       "1      aww   9460297   128.0\n",
       "2      aww   6665329   256.0\n",
       "3      aww   5583814   512.0\n",
       "4      aww   4904091  1024.0\n",
       "5      aww   4665951  2048.0\n",
       "6      aww   4970511  4096.0\n",
       "7   resnet  83103375     NaN\n",
       "8   resnet  57781485   128.0\n",
       "9   resnet  44163303   256.0\n",
       "10  resnet  38158477   512.0\n",
       "11  resnet  36342420  1024.0\n",
       "12  resnet  36136404  2048.0\n",
       "13  resnet  36178321  4096.0"
      ]
     },
     "execution_count": 24,
     "metadata": {},
     "output_type": "execute_result"
    }
   ],
   "source": [
    "with MlonMcuContext() as context:\n",
    "    session = context.create_session()\n",
    "    for model in MODELS:\n",
    "        def helper(session, vlen=0):\n",
    "            cfg = CONFIG.copy()\n",
    "            if vlen > 0:\n",
    "                cfg[\"vext.vlen\"] = vlen\n",
    "            run = session.create_run(config=cfg)\n",
    "            if vlen > 0:\n",
    "                run.add_features_by_name([\"vext\", \"auto_vectorize\"], context=context)\n",
    "            run.add_frontend_by_name(FRONTEND, context=context)\n",
    "            run.add_model_by_name(model, context=context)\n",
    "            run.add_backend_by_name(BACKEND, context=context)\n",
    "            run.add_platform_by_name(PLATFORM, context=context)\n",
    "            run.add_target_by_name(TARGET, context=context)\n",
    "            run.add_postprocesses_by_name(POSTPROCESSES)\n",
    "        for vlen in [0, 128, 256, 512, 1024, 2048, 4096]:\n",
    "            helper(session, vlen)\n",
    "    session.process_runs(context=context)\n",
    "    report = session.get_reports()\n",
    "report.df"
   ]
  },
  {
   "cell_type": "markdown",
   "id": "223b1420",
   "metadata": {},
   "source": [
    "We can transform the dataframe using pandas as follows:"
   ]
  },
  {
   "cell_type": "code",
   "execution_count": 66,
   "id": "e932b684",
   "metadata": {
    "scrolled": false
   },
   "outputs": [
    {
     "data": {
      "text/html": [
       "<div>\n",
       "<style scoped>\n",
       "    .dataframe tbody tr th:only-of-type {\n",
       "        vertical-align: middle;\n",
       "    }\n",
       "\n",
       "    .dataframe tbody tr th {\n",
       "        vertical-align: top;\n",
       "    }\n",
       "\n",
       "    .dataframe thead th {\n",
       "        text-align: right;\n",
       "    }\n",
       "</style>\n",
       "<table border=\"1\" class=\"dataframe\">\n",
       "  <thead>\n",
       "    <tr style=\"text-align: right;\">\n",
       "      <th></th>\n",
       "      <th>Model</th>\n",
       "      <th>Cycles</th>\n",
       "      <th>Factor</th>\n",
       "    </tr>\n",
       "    <tr>\n",
       "      <th>VLEN</th>\n",
       "      <th></th>\n",
       "      <th></th>\n",
       "      <th></th>\n",
       "    </tr>\n",
       "  </thead>\n",
       "  <tbody>\n",
       "    <tr>\n",
       "      <th>0</th>\n",
       "      <td>aww</td>\n",
       "      <td>25158835</td>\n",
       "      <td>1.000000</td>\n",
       "    </tr>\n",
       "    <tr>\n",
       "      <th>128</th>\n",
       "      <td>aww</td>\n",
       "      <td>9460297</td>\n",
       "      <td>2.659413</td>\n",
       "    </tr>\n",
       "    <tr>\n",
       "      <th>256</th>\n",
       "      <td>aww</td>\n",
       "      <td>6665329</td>\n",
       "      <td>3.774583</td>\n",
       "    </tr>\n",
       "    <tr>\n",
       "      <th>512</th>\n",
       "      <td>aww</td>\n",
       "      <td>5583814</td>\n",
       "      <td>4.505672</td>\n",
       "    </tr>\n",
       "    <tr>\n",
       "      <th>1024</th>\n",
       "      <td>aww</td>\n",
       "      <td>4904091</td>\n",
       "      <td>5.130173</td>\n",
       "    </tr>\n",
       "    <tr>\n",
       "      <th>2048</th>\n",
       "      <td>aww</td>\n",
       "      <td>4665951</td>\n",
       "      <td>5.392006</td>\n",
       "    </tr>\n",
       "    <tr>\n",
       "      <th>4096</th>\n",
       "      <td>aww</td>\n",
       "      <td>4970511</td>\n",
       "      <td>5.061619</td>\n",
       "    </tr>\n",
       "    <tr>\n",
       "      <th>0</th>\n",
       "      <td>resnet</td>\n",
       "      <td>83103375</td>\n",
       "      <td>1.000000</td>\n",
       "    </tr>\n",
       "    <tr>\n",
       "      <th>128</th>\n",
       "      <td>resnet</td>\n",
       "      <td>57781485</td>\n",
       "      <td>1.438235</td>\n",
       "    </tr>\n",
       "    <tr>\n",
       "      <th>256</th>\n",
       "      <td>resnet</td>\n",
       "      <td>44163303</td>\n",
       "      <td>1.881729</td>\n",
       "    </tr>\n",
       "    <tr>\n",
       "      <th>512</th>\n",
       "      <td>resnet</td>\n",
       "      <td>38158477</td>\n",
       "      <td>2.177848</td>\n",
       "    </tr>\n",
       "    <tr>\n",
       "      <th>1024</th>\n",
       "      <td>resnet</td>\n",
       "      <td>36342420</td>\n",
       "      <td>2.286677</td>\n",
       "    </tr>\n",
       "    <tr>\n",
       "      <th>2048</th>\n",
       "      <td>resnet</td>\n",
       "      <td>36136404</td>\n",
       "      <td>2.299713</td>\n",
       "    </tr>\n",
       "    <tr>\n",
       "      <th>4096</th>\n",
       "      <td>resnet</td>\n",
       "      <td>36178321</td>\n",
       "      <td>2.297049</td>\n",
       "    </tr>\n",
       "  </tbody>\n",
       "</table>\n",
       "</div>"
      ],
      "text/plain": [
       "       Model    Cycles    Factor\n",
       "VLEN                            \n",
       "0        aww  25158835  1.000000\n",
       "128      aww   9460297  2.659413\n",
       "256      aww   6665329  3.774583\n",
       "512      aww   5583814  4.505672\n",
       "1024     aww   4904091  5.130173\n",
       "2048     aww   4665951  5.392006\n",
       "4096     aww   4970511  5.061619\n",
       "0     resnet  83103375  1.000000\n",
       "128   resnet  57781485  1.438235\n",
       "256   resnet  44163303  1.881729\n",
       "512   resnet  38158477  2.177848\n",
       "1024  resnet  36342420  2.286677\n",
       "2048  resnet  36136404  2.299713\n",
       "4096  resnet  36178321  2.297049"
      ]
     },
     "execution_count": 66,
     "metadata": {},
     "output_type": "execute_result"
    }
   ],
   "source": [
    "df = report.df\n",
    "df.fillna(0, inplace=True)\n",
    "df.set_index('VLEN', inplace=True)\n",
    "df.index = df.index.map(int).map(str)\n",
    "firsts = (df.groupby('Model')['Cycles'].transform('first'))\n",
    "df[\"Factor\"] = 1 / (df.Cycles / firsts)\n",
    "df"
   ]
  },
  {
   "cell_type": "markdown",
   "id": "fb26f317",
   "metadata": {},
   "source": [
    "Finally, we can visualize the achieved speedup for the considered vector lengths:"
   ]
  },
  {
   "cell_type": "code",
   "execution_count": 67,
   "id": "72d11b7c",
   "metadata": {},
   "outputs": [
    {
     "data": {
      "text/plain": [
       "Model\n",
       "aww       AxesSubplot(0.125,0.11;0.775x0.77)\n",
       "resnet    AxesSubplot(0.125,0.11;0.775x0.77)\n",
       "Name: Factor, dtype: object"
      ]
     },
     "execution_count": 67,
     "metadata": {},
     "output_type": "execute_result"
    },
    {
     "data": {
      "image/png": "[encoded data removed]",
      "text/plain": [
       "<Figure size 640x480 with 1 Axes>"
      ]
     },
     "metadata": {},
     "output_type": "display_data"
    }
   ],
   "source": [
    "df.groupby('Model')['Factor'].plot(legend=True, title=\"Auto-vectorization Speedup-Factors\", ylabel=\"Speedup\")"
   ]
  },
  {
   "cell_type": "markdown",
   "id": "cfbcaf5a",
   "metadata": {},
   "source": [
    "The achievable speedup depends heavily on the workload (used model) and too large vector registers might degrade the performance as well in the end."
   ]
  }
 ],
 "metadata": {
  "kernelspec": {
   "display_name": "Python 3 (ipykernel)",
   "language": "python",
   "name": "python3"
  },
  "language_info": {
   "codemirror_mode": {
    "name": "ipython",
    "version": 3
   },
   "file_extension": ".py",
   "mimetype": "text/x-python",
   "name": "python",
   "nbconvert_exporter": "python",
   "pygments_lexer": "ipython3",
   "version": "3.8.10"
  }
 },
 "nbformat": 4,
 "nbformat_minor": 5
}

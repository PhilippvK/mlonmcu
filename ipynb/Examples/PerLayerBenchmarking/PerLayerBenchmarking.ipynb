{
 "cells": [
  {
   "cell_type": "code",
   "execution_count": 1,
   "id": "7e65d484-33f9-484c-bc0a-d24bd0c1ee5c",
   "metadata": {
    "execution": {
     "iopub.execute_input": "2023-12-31T11:57:03.573435Z",
     "iopub.status.busy": "2023-12-31T11:57:03.573249Z",
     "iopub.status.idle": "2023-12-31T11:57:03.579415Z",
     "shell.execute_reply": "2023-12-31T11:57:03.578822Z"
    },
    "papermill": {
     "duration": 0.015025,
     "end_time": "2023-12-31T11:57:03.580809",
     "exception": false,
     "start_time": "2023-12-31T11:57:03.565784",
     "status": "completed"
    },
    "tags": []
   },
   "outputs": [],
   "source": [
    "from IPython.display import Code"
   ]
  },
  {
   "cell_type": "markdown",
   "id": "67a623c3",
   "metadata": {
    "papermill": {
     "duration": 0.005863,
     "end_time": "2023-12-31T11:57:03.593805",
     "exception": false,
     "start_time": "2023-12-31T11:57:03.587942",
     "status": "completed"
    },
    "tags": []
   },
   "source": [
    "# Example: Per-Layer Model Benchmarking"
   ]
  },
  {
   "cell_type": "markdown",
   "id": "1025ee11",
   "metadata": {
    "papermill": {
     "duration": 0.005786,
     "end_time": "2023-12-31T11:57:03.605474",
     "exception": false,
     "start_time": "2023-12-31T11:57:03.599688",
     "status": "completed"
    },
    "tags": []
   },
   "source": [
    "When investigating why a given model performs not as expected or implementing optimiations for specific types of layers, it is often useful to consider the runtime individual layers instead of the end-to-end execution time.\n",
    "\n",
    "MLonMCU currently supports to approaches for per-layer benchmarking:\n",
    "1. Using the `split_layers` feature of the `tflite` frontend\n",
    "2. Using the profiling feature provided by the `tvm` and `microtvm` (WIP) platform\n",
    "\n",
    "Both use-cases are explained briefly in the rest of this notebook."
   ]
  },
  {
   "cell_type": "markdown",
   "id": "c7164b6a",
   "metadata": {
    "papermill": {
     "duration": 0.00582,
     "end_time": "2023-12-31T11:57:03.617197",
     "exception": false,
     "start_time": "2023-12-31T11:57:03.611377",
     "status": "completed"
    },
    "tags": []
   },
   "source": [
    "## 1. Splitting TFLite Models into individual layers"
   ]
  },
  {
   "cell_type": "markdown",
   "id": "87fd1387",
   "metadata": {
    "papermill": {
     "duration": 0.005768,
     "end_time": "2023-12-31T11:57:03.628840",
     "exception": false,
     "start_time": "2023-12-31T11:57:03.623072",
     "status": "completed"
    },
    "tags": []
   },
   "source": [
    "### Supported components"
   ]
  },
  {
   "cell_type": "markdown",
   "id": "584a911d",
   "metadata": {
    "papermill": {
     "duration": 0.00577,
     "end_time": "2023-12-31T11:57:03.640476",
     "exception": false,
     "start_time": "2023-12-31T11:57:03.634706",
     "status": "completed"
    },
    "tags": []
   },
   "source": [
    "**Models:** Any (`resnet` used below)\n",
    "\n",
    "**Frontends:** `tflite` only\n",
    "\n",
    "**Frameworks/Backends:** Any (`tvmaotplus` used below)\n",
    "\n",
    "**Platforms/Targets:** Any (`etiss` used below)\n",
    "\n",
    "**Features:** The `split_layers` feature of the `tflite` frontend needs to be enabled"
   ]
  },
  {
   "cell_type": "markdown",
   "id": "74ce776e",
   "metadata": {
    "papermill": {
     "duration": 0.005823,
     "end_time": "2023-12-31T11:57:03.652120",
     "exception": false,
     "start_time": "2023-12-31T11:57:03.646297",
     "status": "completed"
    },
    "tags": []
   },
   "source": [
    "### Prerequisites"
   ]
  },
  {
   "cell_type": "markdown",
   "id": "7f8ebf19-728d-4acf-9339-5e77f7018798",
   "metadata": {
    "papermill": {
     "duration": 0.006023,
     "end_time": "2023-12-31T11:57:03.663931",
     "exception": false,
     "start_time": "2023-12-31T11:57:03.657908",
     "status": "completed"
    },
    "tags": []
   },
   "source": [
    "If not done already, setup a virtual python environment and install the required packages into it. (See `requirements.txt`)"
   ]
  },
  {
   "cell_type": "code",
   "execution_count": 2,
   "id": "d78d5f8e-de13-43ba-ad05-0137df1efa57",
   "metadata": {
    "execution": {
     "iopub.execute_input": "2023-12-31T11:57:03.676905Z",
     "iopub.status.busy": "2023-12-31T11:57:03.676421Z",
     "iopub.status.idle": "2023-12-31T11:57:03.759788Z",
     "shell.execute_reply": "2023-12-31T11:57:03.759167Z"
    },
    "papermill": {
     "duration": 0.091231,
     "end_time": "2023-12-31T11:57:03.761105",
     "exception": false,
     "start_time": "2023-12-31T11:57:03.669874",
     "status": "completed"
    },
    "tags": []
   },
   "outputs": [
    {
     "data": {
      "text/html": [
       "<style>pre { line-height: 125%; }\n",
       "td.linenos .normal { color: inherit; background-color: transparent; padding-left: 5px; padding-right: 5px; }\n",
       "span.linenos { color: inherit; background-color: transparent; padding-left: 5px; padding-right: 5px; }\n",
       "td.linenos .special { color: #000000; background-color: #ffffc0; padding-left: 5px; padding-right: 5px; }\n",
       "span.linenos.special { color: #000000; background-color: #ffffc0; padding-left: 5px; padding-right: 5px; }\n",
       ".output_html .hll { background-color: #ffffcc }\n",
       ".output_html { background: #f8f8f8; }\n",
       ".output_html .c { color: #3D7B7B; font-style: italic } /* Comment */\n",
       ".output_html .err { border: 1px solid #FF0000 } /* Error */\n",
       ".output_html .k { color: #008000; font-weight: bold } /* Keyword */\n",
       ".output_html .o { color: #666666 } /* Operator */\n",
       ".output_html .ch { color: #3D7B7B; font-style: italic } /* Comment.Hashbang */\n",
       ".output_html .cm { color: #3D7B7B; font-style: italic } /* Comment.Multiline */\n",
       ".output_html .cp { color: #9C6500 } /* Comment.Preproc */\n",
       ".output_html .cpf { color: #3D7B7B; font-style: italic } /* Comment.PreprocFile */\n",
       ".output_html .c1 { color: #3D7B7B; font-style: italic } /* Comment.Single */\n",
       ".output_html .cs { color: #3D7B7B; font-style: italic } /* Comment.Special */\n",
       ".output_html .gd { color: #A00000 } /* Generic.Deleted */\n",
       ".output_html .ge { font-style: italic } /* Generic.Emph */\n",
       ".output_html .ges { font-weight: bold; font-style: italic } /* Generic.EmphStrong */\n",
       ".output_html .gr { color: #E40000 } /* Generic.Error */\n",
       ".output_html .gh { color: #000080; font-weight: bold } /* Generic.Heading */\n",
       ".output_html .gi { color: #008400 } /* Generic.Inserted */\n",
       ".output_html .go { color: #717171 } /* Generic.Output */\n",
       ".output_html .gp { color: #000080; font-weight: bold } /* Generic.Prompt */\n",
       ".output_html .gs { font-weight: bold } /* Generic.Strong */\n",
       ".output_html .gu { color: #800080; font-weight: bold } /* Generic.Subheading */\n",
       ".output_html .gt { color: #0044DD } /* Generic.Traceback */\n",
       ".output_html .kc { color: #008000; font-weight: bold } /* Keyword.Constant */\n",
       ".output_html .kd { color: #008000; font-weight: bold } /* Keyword.Declaration */\n",
       ".output_html .kn { color: #008000; font-weight: bold } /* Keyword.Namespace */\n",
       ".output_html .kp { color: #008000 } /* Keyword.Pseudo */\n",
       ".output_html .kr { color: #008000; font-weight: bold } /* Keyword.Reserved */\n",
       ".output_html .kt { color: #B00040 } /* Keyword.Type */\n",
       ".output_html .m { color: #666666 } /* Literal.Number */\n",
       ".output_html .s { color: #BA2121 } /* Literal.String */\n",
       ".output_html .na { color: #687822 } /* Name.Attribute */\n",
       ".output_html .nb { color: #008000 } /* Name.Builtin */\n",
       ".output_html .nc { color: #0000FF; font-weight: bold } /* Name.Class */\n",
       ".output_html .no { color: #880000 } /* Name.Constant */\n",
       ".output_html .nd { color: #AA22FF } /* Name.Decorator */\n",
       ".output_html .ni { color: #717171; font-weight: bold } /* Name.Entity */\n",
       ".output_html .ne { color: #CB3F38; font-weight: bold } /* Name.Exception */\n",
       ".output_html .nf { color: #0000FF } /* Name.Function */\n",
       ".output_html .nl { color: #767600 } /* Name.Label */\n",
       ".output_html .nn { color: #0000FF; font-weight: bold } /* Name.Namespace */\n",
       ".output_html .nt { color: #008000; font-weight: bold } /* Name.Tag */\n",
       ".output_html .nv { color: #19177C } /* Name.Variable */\n",
       ".output_html .ow { color: #AA22FF; font-weight: bold } /* Operator.Word */\n",
       ".output_html .w { color: #bbbbbb } /* Text.Whitespace */\n",
       ".output_html .mb { color: #666666 } /* Literal.Number.Bin */\n",
       ".output_html .mf { color: #666666 } /* Literal.Number.Float */\n",
       ".output_html .mh { color: #666666 } /* Literal.Number.Hex */\n",
       ".output_html .mi { color: #666666 } /* Literal.Number.Integer */\n",
       ".output_html .mo { color: #666666 } /* Literal.Number.Oct */\n",
       ".output_html .sa { color: #BA2121 } /* Literal.String.Affix */\n",
       ".output_html .sb { color: #BA2121 } /* Literal.String.Backtick */\n",
       ".output_html .sc { color: #BA2121 } /* Literal.String.Char */\n",
       ".output_html .dl { color: #BA2121 } /* Literal.String.Delimiter */\n",
       ".output_html .sd { color: #BA2121; font-style: italic } /* Literal.String.Doc */\n",
       ".output_html .s2 { color: #BA2121 } /* Literal.String.Double */\n",
       ".output_html .se { color: #AA5D1F; font-weight: bold } /* Literal.String.Escape */\n",
       ".output_html .sh { color: #BA2121 } /* Literal.String.Heredoc */\n",
       ".output_html .si { color: #A45A77; font-weight: bold } /* Literal.String.Interpol */\n",
       ".output_html .sx { color: #008000 } /* Literal.String.Other */\n",
       ".output_html .sr { color: #A45A77 } /* Literal.String.Regex */\n",
       ".output_html .s1 { color: #BA2121 } /* Literal.String.Single */\n",
       ".output_html .ss { color: #19177C } /* Literal.String.Symbol */\n",
       ".output_html .bp { color: #008000 } /* Name.Builtin.Pseudo */\n",
       ".output_html .fm { color: #0000FF } /* Name.Function.Magic */\n",
       ".output_html .vc { color: #19177C } /* Name.Variable.Class */\n",
       ".output_html .vg { color: #19177C } /* Name.Variable.Global */\n",
       ".output_html .vi { color: #19177C } /* Name.Variable.Instance */\n",
       ".output_html .vm { color: #19177C } /* Name.Variable.Magic */\n",
       ".output_html .il { color: #666666 } /* Literal.Number.Integer.Long */</style><div class=\"highlight\"><pre><span></span>-r ../../requirements.txt\n",
       "attrs\n",
       "cloudpickle\n",
       "decorator\n",
       "numpy\n",
       "psutil\n",
       "scipy\n",
       "synr\n",
       "tornado\n",
       "typing_extensions\n",
       "tflite\n",
       "</pre></div>\n"
      ],
      "text/latex": [
       "\\begin{Verbatim}[commandchars=\\\\\\{\\}]\n",
       "\\PYZhy{}r ../../requirements.txt\n",
       "attrs\n",
       "cloudpickle\n",
       "decorator\n",
       "numpy\n",
       "psutil\n",
       "scipy\n",
       "synr\n",
       "tornado\n",
       "typing\\PYZus{}extensions\n",
       "tflite\n",
       "\\end{Verbatim}\n"
      ],
      "text/plain": [
       "-r ../../requirements.txt\n",
       "attrs\n",
       "cloudpickle\n",
       "decorator\n",
       "numpy\n",
       "psutil\n",
       "scipy\n",
       "synr\n",
       "tornado\n",
       "typing_extensions\n",
       "tflite"
      ]
     },
     "execution_count": 2,
     "metadata": {},
     "output_type": "execute_result"
    }
   ],
   "source": [
    "Code(filename=\"requirements.txt\")"
   ]
  },
  {
   "cell_type": "markdown",
   "id": "18955525",
   "metadata": {
    "papermill": {
     "duration": 0.006196,
     "end_time": "2023-12-31T11:57:03.795288",
     "exception": false,
     "start_time": "2023-12-31T11:57:03.789092",
     "status": "completed"
    },
    "tags": []
   },
   "source": [
    "Set up MLonmCU as usual, i.e. initialize an environment and install all required dependencies. Feel free to use the following minimal `environment.yml.j2` template:"
   ]
  },
  {
   "cell_type": "code",
   "execution_count": 3,
   "id": "7d284397-2c38-45b9-825e-586a5566e7e0",
   "metadata": {
    "execution": {
     "iopub.execute_input": "2023-12-31T11:57:03.808947Z",
     "iopub.status.busy": "2023-12-31T11:57:03.808355Z",
     "iopub.status.idle": "2023-12-31T11:57:03.851513Z",
     "shell.execute_reply": "2023-12-31T11:57:03.850876Z"
    },
    "papermill": {
     "duration": 0.051568,
     "end_time": "2023-12-31T11:57:03.852914",
     "exception": false,
     "start_time": "2023-12-31T11:57:03.801346",
     "status": "completed"
    },
    "tags": []
   },
   "outputs": [
    {
     "data": {
      "text/html": [
       "<style>pre { line-height: 125%; }\n",
       "td.linenos .normal { color: inherit; background-color: transparent; padding-left: 5px; padding-right: 5px; }\n",
       "span.linenos { color: inherit; background-color: transparent; padding-left: 5px; padding-right: 5px; }\n",
       "td.linenos .special { color: #000000; background-color: #ffffc0; padding-left: 5px; padding-right: 5px; }\n",
       "span.linenos.special { color: #000000; background-color: #ffffc0; padding-left: 5px; padding-right: 5px; }\n",
       ".output_html .hll { background-color: #ffffcc }\n",
       ".output_html { background: #f8f8f8; }\n",
       ".output_html .c { color: #3D7B7B; font-style: italic } /* Comment */\n",
       ".output_html .err { border: 1px solid #FF0000 } /* Error */\n",
       ".output_html .k { color: #008000; font-weight: bold } /* Keyword */\n",
       ".output_html .o { color: #666666 } /* Operator */\n",
       ".output_html .ch { color: #3D7B7B; font-style: italic } /* Comment.Hashbang */\n",
       ".output_html .cm { color: #3D7B7B; font-style: italic } /* Comment.Multiline */\n",
       ".output_html .cp { color: #9C6500 } /* Comment.Preproc */\n",
       ".output_html .cpf { color: #3D7B7B; font-style: italic } /* Comment.PreprocFile */\n",
       ".output_html .c1 { color: #3D7B7B; font-style: italic } /* Comment.Single */\n",
       ".output_html .cs { color: #3D7B7B; font-style: italic } /* Comment.Special */\n",
       ".output_html .gd { color: #A00000 } /* Generic.Deleted */\n",
       ".output_html .ge { font-style: italic } /* Generic.Emph */\n",
       ".output_html .ges { font-weight: bold; font-style: italic } /* Generic.EmphStrong */\n",
       ".output_html .gr { color: #E40000 } /* Generic.Error */\n",
       ".output_html .gh { color: #000080; font-weight: bold } /* Generic.Heading */\n",
       ".output_html .gi { color: #008400 } /* Generic.Inserted */\n",
       ".output_html .go { color: #717171 } /* Generic.Output */\n",
       ".output_html .gp { color: #000080; font-weight: bold } /* Generic.Prompt */\n",
       ".output_html .gs { font-weight: bold } /* Generic.Strong */\n",
       ".output_html .gu { color: #800080; font-weight: bold } /* Generic.Subheading */\n",
       ".output_html .gt { color: #0044DD } /* Generic.Traceback */\n",
       ".output_html .kc { color: #008000; font-weight: bold } /* Keyword.Constant */\n",
       ".output_html .kd { color: #008000; font-weight: bold } /* Keyword.Declaration */\n",
       ".output_html .kn { color: #008000; font-weight: bold } /* Keyword.Namespace */\n",
       ".output_html .kp { color: #008000 } /* Keyword.Pseudo */\n",
       ".output_html .kr { color: #008000; font-weight: bold } /* Keyword.Reserved */\n",
       ".output_html .kt { color: #B00040 } /* Keyword.Type */\n",
       ".output_html .m { color: #666666 } /* Literal.Number */\n",
       ".output_html .s { color: #BA2121 } /* Literal.String */\n",
       ".output_html .na { color: #687822 } /* Name.Attribute */\n",
       ".output_html .nb { color: #008000 } /* Name.Builtin */\n",
       ".output_html .nc { color: #0000FF; font-weight: bold } /* Name.Class */\n",
       ".output_html .no { color: #880000 } /* Name.Constant */\n",
       ".output_html .nd { color: #AA22FF } /* Name.Decorator */\n",
       ".output_html .ni { color: #717171; font-weight: bold } /* Name.Entity */\n",
       ".output_html .ne { color: #CB3F38; font-weight: bold } /* Name.Exception */\n",
       ".output_html .nf { color: #0000FF } /* Name.Function */\n",
       ".output_html .nl { color: #767600 } /* Name.Label */\n",
       ".output_html .nn { color: #0000FF; font-weight: bold } /* Name.Namespace */\n",
       ".output_html .nt { color: #008000; font-weight: bold } /* Name.Tag */\n",
       ".output_html .nv { color: #19177C } /* Name.Variable */\n",
       ".output_html .ow { color: #AA22FF; font-weight: bold } /* Operator.Word */\n",
       ".output_html .w { color: #bbbbbb } /* Text.Whitespace */\n",
       ".output_html .mb { color: #666666 } /* Literal.Number.Bin */\n",
       ".output_html .mf { color: #666666 } /* Literal.Number.Float */\n",
       ".output_html .mh { color: #666666 } /* Literal.Number.Hex */\n",
       ".output_html .mi { color: #666666 } /* Literal.Number.Integer */\n",
       ".output_html .mo { color: #666666 } /* Literal.Number.Oct */\n",
       ".output_html .sa { color: #BA2121 } /* Literal.String.Affix */\n",
       ".output_html .sb { color: #BA2121 } /* Literal.String.Backtick */\n",
       ".output_html .sc { color: #BA2121 } /* Literal.String.Char */\n",
       ".output_html .dl { color: #BA2121 } /* Literal.String.Delimiter */\n",
       ".output_html .sd { color: #BA2121; font-style: italic } /* Literal.String.Doc */\n",
       ".output_html .s2 { color: #BA2121 } /* Literal.String.Double */\n",
       ".output_html .se { color: #AA5D1F; font-weight: bold } /* Literal.String.Escape */\n",
       ".output_html .sh { color: #BA2121 } /* Literal.String.Heredoc */\n",
       ".output_html .si { color: #A45A77; font-weight: bold } /* Literal.String.Interpol */\n",
       ".output_html .sx { color: #008000 } /* Literal.String.Other */\n",
       ".output_html .sr { color: #A45A77 } /* Literal.String.Regex */\n",
       ".output_html .s1 { color: #BA2121 } /* Literal.String.Single */\n",
       ".output_html .ss { color: #19177C } /* Literal.String.Symbol */\n",
       ".output_html .bp { color: #008000 } /* Name.Builtin.Pseudo */\n",
       ".output_html .fm { color: #0000FF } /* Name.Function.Magic */\n",
       ".output_html .vc { color: #19177C } /* Name.Variable.Class */\n",
       ".output_html .vg { color: #19177C } /* Name.Variable.Global */\n",
       ".output_html .vi { color: #19177C } /* Name.Variable.Instance */\n",
       ".output_html .vm { color: #19177C } /* Name.Variable.Magic */\n",
       ".output_html .il { color: #666666 } /* Literal.Number.Integer.Long */</style><div class=\"highlight\"><pre><span></span><span class=\"nn\">---</span>\n",
       "<span class=\"c1\"># The MLONMCU_HOME is filled in automatically when creating the environment</span>\n",
       "<span class=\"nt\">home</span><span class=\"p\">:</span><span class=\"w\"> </span><span class=\"s\">&quot;</span><span class=\"cp\">{{</span> <span class=\"nv\">home_dir</span> <span class=\"cp\">}}</span><span class=\"s\">&quot;</span>\n",
       "<span class=\"nt\">logging</span><span class=\"p\">:</span>\n",
       "<span class=\"w\">  </span><span class=\"nt\">level</span><span class=\"p\">:</span><span class=\"w\"> </span><span class=\"l l-Scalar l-Scalar-Plain\">INFO</span>\n",
       "<span class=\"w\">  </span><span class=\"nt\">to_file</span><span class=\"p\">:</span><span class=\"w\"> </span><span class=\"l l-Scalar l-Scalar-Plain\">false</span>\n",
       "<span class=\"w\">  </span><span class=\"nt\">rotate</span><span class=\"p\">:</span><span class=\"w\"> </span><span class=\"l l-Scalar l-Scalar-Plain\">false</span>\n",
       "<span class=\"nt\">cleanup</span><span class=\"p\">:</span>\n",
       "<span class=\"w\">  </span><span class=\"nt\">auto</span><span class=\"p\">:</span><span class=\"w\"> </span><span class=\"l l-Scalar l-Scalar-Plain\">true</span>\n",
       "<span class=\"w\">  </span><span class=\"nt\">keep</span><span class=\"p\">:</span><span class=\"w\"> </span><span class=\"l l-Scalar l-Scalar-Plain\">5</span>\n",
       "<span class=\"c1\"># Default locations for certain directoriescan be changed here</span>\n",
       "<span class=\"c1\"># Non-absolute paths will always be threated relative to the MLONMCU_HOME</span>\n",
       "<span class=\"nt\">paths</span><span class=\"p\">:</span>\n",
       "<span class=\"w\">  </span><span class=\"c1\"># Where the dependencies are downloaded and installed</span>\n",
       "<span class=\"w\">  </span><span class=\"nt\">deps</span><span class=\"p\">:</span><span class=\"w\"> </span><span class=\"l l-Scalar l-Scalar-Plain\">deps</span>\n",
       "<span class=\"w\">  </span><span class=\"c1\"># If logging to file is used keep logs in this directory</span>\n",
       "<span class=\"w\">  </span><span class=\"nt\">logs</span><span class=\"p\">:</span><span class=\"w\"> </span><span class=\"l l-Scalar l-Scalar-Plain\">logs</span>\n",
       "<span class=\"w\">  </span><span class=\"c1\"># Location where reports and artifacts are written to</span>\n",
       "<span class=\"w\">  </span><span class=\"nt\">results</span><span class=\"p\">:</span><span class=\"w\"> </span><span class=\"l l-Scalar l-Scalar-Plain\">results</span>\n",
       "<span class=\"w\">  </span><span class=\"c1\"># Directory where custom extensions can be integrated</span>\n",
       "<span class=\"w\">  </span><span class=\"nt\">plugins</span><span class=\"p\">:</span><span class=\"w\"> </span><span class=\"l l-Scalar l-Scalar-Plain\">plugins</span>\n",
       "<span class=\"w\">  </span><span class=\"c1\"># Directory for intermediate build products, should be located on a large enough drive</span>\n",
       "<span class=\"w\">  </span><span class=\"nt\">temp</span><span class=\"p\">:</span><span class=\"w\"> </span><span class=\"l l-Scalar l-Scalar-Plain\">temp</span>\n",
       "<span class=\"w\">  </span><span class=\"c1\"># A collection of models which will be used to look for models</span>\n",
       "<span class=\"w\">  </span><span class=\"c1\"># The paths will be checked in the order defined here stopping at the first match</span>\n",
       "<span class=\"w\">  </span><span class=\"c1\"># Non-existant paths will be skipped without throwing an error</span>\n",
       "<span class=\"w\">  </span><span class=\"nt\">models</span><span class=\"p\">:</span>\n",
       "<span class=\"w\">    </span><span class=\"p p-Indicator\">-</span><span class=\"w\"> </span><span class=\"s\">&quot;</span><span class=\"cp\">{{</span> <span class=\"nv\">home_dir</span> <span class=\"cp\">}}</span><span class=\"s\">/models&quot;</span>\n",
       "<span class=\"c1\"># Here default clone_urls</span>\n",
       "<span class=\"nt\">repos</span><span class=\"p\">:</span>\n",
       "<span class=\"w\">  </span><span class=\"nt\">tvm</span><span class=\"p\">:</span>\n",
       "<span class=\"w\">    </span><span class=\"nt\">url</span><span class=\"p\">:</span><span class=\"w\"> </span><span class=\"s\">&quot;https://github.com/apache/tvm.git&quot;</span>\n",
       "<span class=\"w\">    </span><span class=\"nt\">ref</span><span class=\"p\">:</span><span class=\"w\"> </span><span class=\"l l-Scalar l-Scalar-Plain\">a9fcac1a47f4b57c1d9d828c7ed1d77452b02cc5</span>\n",
       "<span class=\"w\">    </span><span class=\"nt\">options</span><span class=\"p\">:</span>\n",
       "<span class=\"w\">      </span><span class=\"nt\">recursive</span><span class=\"p\">:</span><span class=\"w\"> </span><span class=\"l l-Scalar l-Scalar-Plain\">true</span>\n",
       "<span class=\"w\">  </span><span class=\"nt\">etiss</span><span class=\"p\">:</span>\n",
       "<span class=\"w\">    </span><span class=\"nt\">url</span><span class=\"p\">:</span><span class=\"w\"> </span><span class=\"s\">&quot;https://github.com/tum-ei-eda/etiss.git&quot;</span>\n",
       "<span class=\"w\">    </span><span class=\"nt\">ref</span><span class=\"p\">:</span><span class=\"w\"> </span><span class=\"l l-Scalar l-Scalar-Plain\">40c0b920cf4072adf189211ca44291534355dcfd</span>\n",
       "<span class=\"w\">  </span><span class=\"nt\">mlif</span><span class=\"p\">:</span>\n",
       "<span class=\"w\">    </span><span class=\"nt\">url</span><span class=\"p\">:</span><span class=\"w\"> </span><span class=\"s\">&quot;https://github.com/tum-ei-eda/mlonmcu-sw.git&quot;</span>\n",
       "<span class=\"w\">    </span><span class=\"nt\">ref</span><span class=\"p\">:</span><span class=\"w\"> </span><span class=\"l l-Scalar l-Scalar-Plain\">c7b0e7364c232666ebd5a17476181e3ff9a71d70</span>\n",
       "<span class=\"w\">  </span><span class=\"nt\">tflite_pack</span><span class=\"p\">:</span>\n",
       "<span class=\"w\">    </span><span class=\"nt\">url</span><span class=\"p\">:</span><span class=\"w\"> </span><span class=\"s\">&quot;https://github.com/tum-ei-eda/tflite-pack.git&quot;</span>\n",
       "<span class=\"w\">    </span><span class=\"nt\">ref</span><span class=\"p\">:</span><span class=\"w\"> </span><span class=\"l l-Scalar l-Scalar-Plain\">2d31cafc941d3889b042af9c0a72b5f768ac4606</span>\n",
       "<span class=\"nt\">frameworks</span><span class=\"p\">:</span>\n",
       "<span class=\"w\">  </span><span class=\"nt\">default</span><span class=\"p\">:</span><span class=\"w\"> </span><span class=\"l l-Scalar l-Scalar-Plain\">tvm</span>\n",
       "<span class=\"w\">  </span><span class=\"nt\">tvm</span><span class=\"p\">:</span>\n",
       "<span class=\"w\">    </span><span class=\"nt\">enabled</span><span class=\"p\">:</span><span class=\"w\"> </span><span class=\"l l-Scalar l-Scalar-Plain\">true</span>\n",
       "<span class=\"w\">    </span><span class=\"nt\">backends</span><span class=\"p\">:</span>\n",
       "<span class=\"w\">      </span><span class=\"nt\">default</span><span class=\"p\">:</span><span class=\"w\"> </span><span class=\"l l-Scalar l-Scalar-Plain\">tvmaotplus</span>\n",
       "<span class=\"w\">      </span><span class=\"nt\">tvmaotplus</span><span class=\"p\">:</span>\n",
       "<span class=\"w\">        </span><span class=\"nt\">enabled</span><span class=\"p\">:</span><span class=\"w\"> </span><span class=\"l l-Scalar l-Scalar-Plain\">true</span>\n",
       "<span class=\"w\">        </span><span class=\"nt\">features</span><span class=\"p\">:</span><span class=\"w\"> </span><span class=\"p p-Indicator\">{}</span>\n",
       "<span class=\"w\">      </span><span class=\"nt\">tvmllvm</span><span class=\"p\">:</span>\n",
       "<span class=\"w\">        </span><span class=\"nt\">enabled</span><span class=\"p\">:</span><span class=\"w\"> </span><span class=\"l l-Scalar l-Scalar-Plain\">true</span>\n",
       "<span class=\"w\">        </span><span class=\"nt\">features</span><span class=\"p\">:</span><span class=\"w\"> </span><span class=\"p p-Indicator\">{}</span>\n",
       "<span class=\"w\">    </span><span class=\"nt\">features</span><span class=\"p\">:</span><span class=\"w\"> </span><span class=\"p p-Indicator\">{}</span>\n",
       "<span class=\"nt\">frontends</span><span class=\"p\">:</span>\n",
       "<span class=\"w\">  </span><span class=\"nt\">tflite</span><span class=\"p\">:</span>\n",
       "<span class=\"w\">    </span><span class=\"nt\">enabled</span><span class=\"p\">:</span><span class=\"w\"> </span><span class=\"l l-Scalar l-Scalar-Plain\">true</span>\n",
       "<span class=\"w\">    </span><span class=\"nt\">features</span><span class=\"p\">:</span>\n",
       "<span class=\"w\">      </span><span class=\"nt\">split_layers</span><span class=\"p\">:</span><span class=\"w\"> </span><span class=\"l l-Scalar l-Scalar-Plain\">true</span>\n",
       "<span class=\"nt\">toolchains</span><span class=\"p\">:</span>\n",
       "<span class=\"w\">  </span><span class=\"nt\">gcc</span><span class=\"p\">:</span><span class=\"w\"> </span><span class=\"l l-Scalar l-Scalar-Plain\">true</span>\n",
       "<span class=\"nt\">platforms</span><span class=\"p\">:</span>\n",
       "<span class=\"w\">  </span><span class=\"nt\">mlif</span><span class=\"p\">:</span>\n",
       "<span class=\"w\">    </span><span class=\"nt\">enabled</span><span class=\"p\">:</span><span class=\"w\"> </span><span class=\"l l-Scalar l-Scalar-Plain\">true</span>\n",
       "<span class=\"w\">    </span><span class=\"nt\">features</span><span class=\"p\">:</span>\n",
       "<span class=\"w\">      </span><span class=\"nt\">debug</span><span class=\"p\">:</span><span class=\"w\"> </span><span class=\"l l-Scalar l-Scalar-Plain\">true</span>\n",
       "<span class=\"w\">  </span><span class=\"nt\">tvm</span><span class=\"p\">:</span>\n",
       "<span class=\"w\">    </span><span class=\"nt\">enabled</span><span class=\"p\">:</span><span class=\"w\"> </span><span class=\"l l-Scalar l-Scalar-Plain\">true</span>\n",
       "<span class=\"w\">    </span><span class=\"nt\">features</span><span class=\"p\">:</span>\n",
       "<span class=\"w\">      </span><span class=\"nt\">tvm_profile</span><span class=\"p\">:</span><span class=\"w\"> </span><span class=\"l l-Scalar l-Scalar-Plain\">true</span>\n",
       "<span class=\"nt\">targets</span><span class=\"p\">:</span>\n",
       "<span class=\"w\">  </span><span class=\"nt\">default</span><span class=\"p\">:</span><span class=\"w\"> </span><span class=\"l l-Scalar l-Scalar-Plain\">host_x86</span>\n",
       "<span class=\"w\">  </span><span class=\"nt\">etiss</span><span class=\"p\">:</span>\n",
       "<span class=\"w\">    </span><span class=\"nt\">enabled</span><span class=\"p\">:</span><span class=\"w\"> </span><span class=\"l l-Scalar l-Scalar-Plain\">true</span>\n",
       "<span class=\"w\">    </span><span class=\"nt\">features</span><span class=\"p\">:</span>\n",
       "<span class=\"w\">      </span><span class=\"nt\">log_instrs</span><span class=\"p\">:</span><span class=\"w\"> </span><span class=\"l l-Scalar l-Scalar-Plain\">true</span>\n",
       "<span class=\"w\">  </span><span class=\"nt\">host_x86</span><span class=\"p\">:</span>\n",
       "<span class=\"w\">    </span><span class=\"nt\">enabled</span><span class=\"p\">:</span><span class=\"w\"> </span><span class=\"l l-Scalar l-Scalar-Plain\">true</span>\n",
       "<span class=\"w\">    </span><span class=\"nt\">features</span><span class=\"p\">:</span><span class=\"w\"> </span><span class=\"p p-Indicator\">[]</span>\n",
       "<span class=\"w\">  </span><span class=\"nt\">tvm_cpu</span><span class=\"p\">:</span>\n",
       "<span class=\"w\">    </span><span class=\"nt\">enabled</span><span class=\"p\">:</span><span class=\"w\"> </span><span class=\"l l-Scalar l-Scalar-Plain\">true</span>\n",
       "<span class=\"w\">    </span><span class=\"nt\">features</span><span class=\"p\">:</span><span class=\"w\"> </span><span class=\"p p-Indicator\">[]</span>\n",
       "<span class=\"nt\">postprocesses</span><span class=\"p\">:</span>\n",
       "<span class=\"w\">  </span><span class=\"nt\">use</span><span class=\"p\">:</span><span class=\"w\"> </span><span class=\"p p-Indicator\">[]</span>\n",
       "<span class=\"nt\">vars</span><span class=\"p\">:</span>\n",
       "<span class=\"w\">  </span><span class=\"nt\">allow_extensions</span><span class=\"p\">:</span><span class=\"w\"> </span><span class=\"l l-Scalar l-Scalar-Plain\">false</span>\n",
       "<span class=\"w\">  </span><span class=\"nt\">runs_per_stage</span><span class=\"p\">:</span><span class=\"w\"> </span><span class=\"l l-Scalar l-Scalar-Plain\">true</span>\n",
       "<span class=\"w\">  </span><span class=\"nt\">riscv_gcc.dl_url</span><span class=\"p\">:</span><span class=\"w\"> </span><span class=\"s\">&quot;https://syncandshare.lrz.de/dl/fiD9HnHYkb2V8kNbVQYv242m/rv32gc.tar.gz&quot;</span>\n",
       "<span class=\"nt\">flags</span><span class=\"p\">:</span><span class=\"w\"> </span><span class=\"p p-Indicator\">{}</span>\n",
       "</pre></div>\n"
      ],
      "text/latex": [
       "\\begin{Verbatim}[commandchars=\\\\\\{\\}]\n",
       "\\PY{n+nn}{\\PYZhy{}\\PYZhy{}\\PYZhy{}}\n",
       "\\PY{c+c1}{\\PYZsh{} The MLONMCU\\PYZus{}HOME is filled in automatically when creating the environment}\n",
       "\\PY{n+nt}{home}\\PY{p}{:}\\PY{+w}{ }\\PY{l+s}{\\PYZdq{}}\\PY{c+cp}{\\PYZob{}\\PYZob{}} \\PY{n+nv}{home\\PYZus{}dir} \\PY{c+cp}{\\PYZcb{}\\PYZcb{}}\\PY{l+s}{\\PYZdq{}}\n",
       "\\PY{n+nt}{logging}\\PY{p}{:}\n",
       "\\PY{+w}{  }\\PY{n+nt}{level}\\PY{p}{:}\\PY{+w}{ }\\PY{l+lScalar+lScalarPlain}{INFO}\n",
       "\\PY{+w}{  }\\PY{n+nt}{to\\PYZus{}file}\\PY{p}{:}\\PY{+w}{ }\\PY{l+lScalar+lScalarPlain}{false}\n",
       "\\PY{+w}{  }\\PY{n+nt}{rotate}\\PY{p}{:}\\PY{+w}{ }\\PY{l+lScalar+lScalarPlain}{false}\n",
       "\\PY{n+nt}{cleanup}\\PY{p}{:}\n",
       "\\PY{+w}{  }\\PY{n+nt}{auto}\\PY{p}{:}\\PY{+w}{ }\\PY{l+lScalar+lScalarPlain}{true}\n",
       "\\PY{+w}{  }\\PY{n+nt}{keep}\\PY{p}{:}\\PY{+w}{ }\\PY{l+lScalar+lScalarPlain}{5}\n",
       "\\PY{c+c1}{\\PYZsh{} Default locations for certain directoriescan be changed here}\n",
       "\\PY{c+c1}{\\PYZsh{} Non\\PYZhy{}absolute paths will always be threated relative to the MLONMCU\\PYZus{}HOME}\n",
       "\\PY{n+nt}{paths}\\PY{p}{:}\n",
       "\\PY{+w}{  }\\PY{c+c1}{\\PYZsh{} Where the dependencies are downloaded and installed}\n",
       "\\PY{+w}{  }\\PY{n+nt}{deps}\\PY{p}{:}\\PY{+w}{ }\\PY{l+lScalar+lScalarPlain}{deps}\n",
       "\\PY{+w}{  }\\PY{c+c1}{\\PYZsh{} If logging to file is used keep logs in this directory}\n",
       "\\PY{+w}{  }\\PY{n+nt}{logs}\\PY{p}{:}\\PY{+w}{ }\\PY{l+lScalar+lScalarPlain}{logs}\n",
       "\\PY{+w}{  }\\PY{c+c1}{\\PYZsh{} Location where reports and artifacts are written to}\n",
       "\\PY{+w}{  }\\PY{n+nt}{results}\\PY{p}{:}\\PY{+w}{ }\\PY{l+lScalar+lScalarPlain}{results}\n",
       "\\PY{+w}{  }\\PY{c+c1}{\\PYZsh{} Directory where custom extensions can be integrated}\n",
       "\\PY{+w}{  }\\PY{n+nt}{plugins}\\PY{p}{:}\\PY{+w}{ }\\PY{l+lScalar+lScalarPlain}{plugins}\n",
       "\\PY{+w}{  }\\PY{c+c1}{\\PYZsh{} Directory for intermediate build products, should be located on a large enough drive}\n",
       "\\PY{+w}{  }\\PY{n+nt}{temp}\\PY{p}{:}\\PY{+w}{ }\\PY{l+lScalar+lScalarPlain}{temp}\n",
       "\\PY{+w}{  }\\PY{c+c1}{\\PYZsh{} A collection of models which will be used to look for models}\n",
       "\\PY{+w}{  }\\PY{c+c1}{\\PYZsh{} The paths will be checked in the order defined here stopping at the first match}\n",
       "\\PY{+w}{  }\\PY{c+c1}{\\PYZsh{} Non\\PYZhy{}existant paths will be skipped without throwing an error}\n",
       "\\PY{+w}{  }\\PY{n+nt}{models}\\PY{p}{:}\n",
       "\\PY{+w}{    }\\PY{p+pIndicator}{\\PYZhy{}}\\PY{+w}{ }\\PY{l+s}{\\PYZdq{}}\\PY{c+cp}{\\PYZob{}\\PYZob{}} \\PY{n+nv}{home\\PYZus{}dir} \\PY{c+cp}{\\PYZcb{}\\PYZcb{}}\\PY{l+s}{/models}\\PY{l+s}{\\PYZdq{}}\n",
       "\\PY{c+c1}{\\PYZsh{} Here default clone\\PYZus{}urls}\n",
       "\\PY{n+nt}{repos}\\PY{p}{:}\n",
       "\\PY{+w}{  }\\PY{n+nt}{tvm}\\PY{p}{:}\n",
       "\\PY{+w}{    }\\PY{n+nt}{url}\\PY{p}{:}\\PY{+w}{ }\\PY{l+s}{\\PYZdq{}}\\PY{l+s}{https://github.com/apache/tvm.git}\\PY{l+s}{\\PYZdq{}}\n",
       "\\PY{+w}{    }\\PY{n+nt}{ref}\\PY{p}{:}\\PY{+w}{ }\\PY{l+lScalar+lScalarPlain}{a9fcac1a47f4b57c1d9d828c7ed1d77452b02cc5}\n",
       "\\PY{+w}{    }\\PY{n+nt}{options}\\PY{p}{:}\n",
       "\\PY{+w}{      }\\PY{n+nt}{recursive}\\PY{p}{:}\\PY{+w}{ }\\PY{l+lScalar+lScalarPlain}{true}\n",
       "\\PY{+w}{  }\\PY{n+nt}{etiss}\\PY{p}{:}\n",
       "\\PY{+w}{    }\\PY{n+nt}{url}\\PY{p}{:}\\PY{+w}{ }\\PY{l+s}{\\PYZdq{}}\\PY{l+s}{https://github.com/tum\\PYZhy{}ei\\PYZhy{}eda/etiss.git}\\PY{l+s}{\\PYZdq{}}\n",
       "\\PY{+w}{    }\\PY{n+nt}{ref}\\PY{p}{:}\\PY{+w}{ }\\PY{l+lScalar+lScalarPlain}{40c0b920cf4072adf189211ca44291534355dcfd}\n",
       "\\PY{+w}{  }\\PY{n+nt}{mlif}\\PY{p}{:}\n",
       "\\PY{+w}{    }\\PY{n+nt}{url}\\PY{p}{:}\\PY{+w}{ }\\PY{l+s}{\\PYZdq{}}\\PY{l+s}{https://github.com/tum\\PYZhy{}ei\\PYZhy{}eda/mlonmcu\\PYZhy{}sw.git}\\PY{l+s}{\\PYZdq{}}\n",
       "\\PY{+w}{    }\\PY{n+nt}{ref}\\PY{p}{:}\\PY{+w}{ }\\PY{l+lScalar+lScalarPlain}{c7b0e7364c232666ebd5a17476181e3ff9a71d70}\n",
       "\\PY{+w}{  }\\PY{n+nt}{tflite\\PYZus{}pack}\\PY{p}{:}\n",
       "\\PY{+w}{    }\\PY{n+nt}{url}\\PY{p}{:}\\PY{+w}{ }\\PY{l+s}{\\PYZdq{}}\\PY{l+s}{https://github.com/tum\\PYZhy{}ei\\PYZhy{}eda/tflite\\PYZhy{}pack.git}\\PY{l+s}{\\PYZdq{}}\n",
       "\\PY{+w}{    }\\PY{n+nt}{ref}\\PY{p}{:}\\PY{+w}{ }\\PY{l+lScalar+lScalarPlain}{2d31cafc941d3889b042af9c0a72b5f768ac4606}\n",
       "\\PY{n+nt}{frameworks}\\PY{p}{:}\n",
       "\\PY{+w}{  }\\PY{n+nt}{default}\\PY{p}{:}\\PY{+w}{ }\\PY{l+lScalar+lScalarPlain}{tvm}\n",
       "\\PY{+w}{  }\\PY{n+nt}{tvm}\\PY{p}{:}\n",
       "\\PY{+w}{    }\\PY{n+nt}{enabled}\\PY{p}{:}\\PY{+w}{ }\\PY{l+lScalar+lScalarPlain}{true}\n",
       "\\PY{+w}{    }\\PY{n+nt}{backends}\\PY{p}{:}\n",
       "\\PY{+w}{      }\\PY{n+nt}{default}\\PY{p}{:}\\PY{+w}{ }\\PY{l+lScalar+lScalarPlain}{tvmaotplus}\n",
       "\\PY{+w}{      }\\PY{n+nt}{tvmaotplus}\\PY{p}{:}\n",
       "\\PY{+w}{        }\\PY{n+nt}{enabled}\\PY{p}{:}\\PY{+w}{ }\\PY{l+lScalar+lScalarPlain}{true}\n",
       "\\PY{+w}{        }\\PY{n+nt}{features}\\PY{p}{:}\\PY{+w}{ }\\PY{p+pIndicator}{\\PYZob{}}\\PY{p+pIndicator}{\\PYZcb{}}\n",
       "\\PY{+w}{      }\\PY{n+nt}{tvmllvm}\\PY{p}{:}\n",
       "\\PY{+w}{        }\\PY{n+nt}{enabled}\\PY{p}{:}\\PY{+w}{ }\\PY{l+lScalar+lScalarPlain}{true}\n",
       "\\PY{+w}{        }\\PY{n+nt}{features}\\PY{p}{:}\\PY{+w}{ }\\PY{p+pIndicator}{\\PYZob{}}\\PY{p+pIndicator}{\\PYZcb{}}\n",
       "\\PY{+w}{    }\\PY{n+nt}{features}\\PY{p}{:}\\PY{+w}{ }\\PY{p+pIndicator}{\\PYZob{}}\\PY{p+pIndicator}{\\PYZcb{}}\n",
       "\\PY{n+nt}{frontends}\\PY{p}{:}\n",
       "\\PY{+w}{  }\\PY{n+nt}{tflite}\\PY{p}{:}\n",
       "\\PY{+w}{    }\\PY{n+nt}{enabled}\\PY{p}{:}\\PY{+w}{ }\\PY{l+lScalar+lScalarPlain}{true}\n",
       "\\PY{+w}{    }\\PY{n+nt}{features}\\PY{p}{:}\n",
       "\\PY{+w}{      }\\PY{n+nt}{split\\PYZus{}layers}\\PY{p}{:}\\PY{+w}{ }\\PY{l+lScalar+lScalarPlain}{true}\n",
       "\\PY{n+nt}{toolchains}\\PY{p}{:}\n",
       "\\PY{+w}{  }\\PY{n+nt}{gcc}\\PY{p}{:}\\PY{+w}{ }\\PY{l+lScalar+lScalarPlain}{true}\n",
       "\\PY{n+nt}{platforms}\\PY{p}{:}\n",
       "\\PY{+w}{  }\\PY{n+nt}{mlif}\\PY{p}{:}\n",
       "\\PY{+w}{    }\\PY{n+nt}{enabled}\\PY{p}{:}\\PY{+w}{ }\\PY{l+lScalar+lScalarPlain}{true}\n",
       "\\PY{+w}{    }\\PY{n+nt}{features}\\PY{p}{:}\n",
       "\\PY{+w}{      }\\PY{n+nt}{debug}\\PY{p}{:}\\PY{+w}{ }\\PY{l+lScalar+lScalarPlain}{true}\n",
       "\\PY{+w}{  }\\PY{n+nt}{tvm}\\PY{p}{:}\n",
       "\\PY{+w}{    }\\PY{n+nt}{enabled}\\PY{p}{:}\\PY{+w}{ }\\PY{l+lScalar+lScalarPlain}{true}\n",
       "\\PY{+w}{    }\\PY{n+nt}{features}\\PY{p}{:}\n",
       "\\PY{+w}{      }\\PY{n+nt}{tvm\\PYZus{}profile}\\PY{p}{:}\\PY{+w}{ }\\PY{l+lScalar+lScalarPlain}{true}\n",
       "\\PY{n+nt}{targets}\\PY{p}{:}\n",
       "\\PY{+w}{  }\\PY{n+nt}{default}\\PY{p}{:}\\PY{+w}{ }\\PY{l+lScalar+lScalarPlain}{host\\PYZus{}x86}\n",
       "\\PY{+w}{  }\\PY{n+nt}{etiss}\\PY{p}{:}\n",
       "\\PY{+w}{    }\\PY{n+nt}{enabled}\\PY{p}{:}\\PY{+w}{ }\\PY{l+lScalar+lScalarPlain}{true}\n",
       "\\PY{+w}{    }\\PY{n+nt}{features}\\PY{p}{:}\n",
       "\\PY{+w}{      }\\PY{n+nt}{log\\PYZus{}instrs}\\PY{p}{:}\\PY{+w}{ }\\PY{l+lScalar+lScalarPlain}{true}\n",
       "\\PY{+w}{  }\\PY{n+nt}{host\\PYZus{}x86}\\PY{p}{:}\n",
       "\\PY{+w}{    }\\PY{n+nt}{enabled}\\PY{p}{:}\\PY{+w}{ }\\PY{l+lScalar+lScalarPlain}{true}\n",
       "\\PY{+w}{    }\\PY{n+nt}{features}\\PY{p}{:}\\PY{+w}{ }\\PY{p+pIndicator}{[}\\PY{p+pIndicator}{]}\n",
       "\\PY{+w}{  }\\PY{n+nt}{tvm\\PYZus{}cpu}\\PY{p}{:}\n",
       "\\PY{+w}{    }\\PY{n+nt}{enabled}\\PY{p}{:}\\PY{+w}{ }\\PY{l+lScalar+lScalarPlain}{true}\n",
       "\\PY{+w}{    }\\PY{n+nt}{features}\\PY{p}{:}\\PY{+w}{ }\\PY{p+pIndicator}{[}\\PY{p+pIndicator}{]}\n",
       "\\PY{n+nt}{postprocesses}\\PY{p}{:}\n",
       "\\PY{+w}{  }\\PY{n+nt}{use}\\PY{p}{:}\\PY{+w}{ }\\PY{p+pIndicator}{[}\\PY{p+pIndicator}{]}\n",
       "\\PY{n+nt}{vars}\\PY{p}{:}\n",
       "\\PY{+w}{  }\\PY{n+nt}{allow\\PYZus{}extensions}\\PY{p}{:}\\PY{+w}{ }\\PY{l+lScalar+lScalarPlain}{false}\n",
       "\\PY{+w}{  }\\PY{n+nt}{runs\\PYZus{}per\\PYZus{}stage}\\PY{p}{:}\\PY{+w}{ }\\PY{l+lScalar+lScalarPlain}{true}\n",
       "\\PY{+w}{  }\\PY{n+nt}{riscv\\PYZus{}gcc.dl\\PYZus{}url}\\PY{p}{:}\\PY{+w}{ }\\PY{l+s}{\\PYZdq{}}\\PY{l+s}{https://syncandshare.lrz.de/dl/fiD9HnHYkb2V8kNbVQYv242m/rv32gc.tar.gz}\\PY{l+s}{\\PYZdq{}}\n",
       "\\PY{n+nt}{flags}\\PY{p}{:}\\PY{+w}{ }\\PY{p+pIndicator}{\\PYZob{}}\\PY{p+pIndicator}{\\PYZcb{}}\n",
       "\\end{Verbatim}\n"
      ],
      "text/plain": [
       "---\n",
       "# The MLONMCU_HOME is filled in automatically when creating the environment\n",
       "home: \"{{ home_dir }}\"\n",
       "logging:\n",
       "  level: INFO\n",
       "  to_file: false\n",
       "  rotate: false\n",
       "cleanup:\n",
       "  auto: true\n",
       "  keep: 5\n",
       "# Default locations for certain directoriescan be changed here\n",
       "# Non-absolute paths will always be threated relative to the MLONMCU_HOME\n",
       "paths:\n",
       "  # Where the dependencies are downloaded and installed\n",
       "  deps: deps\n",
       "  # If logging to file is used keep logs in this directory\n",
       "  logs: logs\n",
       "  # Location where reports and artifacts are written to\n",
       "  results: results\n",
       "  # Directory where custom extensions can be integrated\n",
       "  plugins: plugins\n",
       "  # Directory for intermediate build products, should be located on a large enough drive\n",
       "  temp: temp\n",
       "  # A collection of models which will be used to look for models\n",
       "  # The paths will be checked in the order defined here stopping at the first match\n",
       "  # Non-existant paths will be skipped without throwing an error\n",
       "  models:\n",
       "    - \"{{ home_dir }}/models\"\n",
       "# Here default clone_urls\n",
       "repos:\n",
       "  tvm:\n",
       "    url: \"https://github.com/apache/tvm.git\"\n",
       "    ref: a9fcac1a47f4b57c1d9d828c7ed1d77452b02cc5\n",
       "    options:\n",
       "      recursive: true\n",
       "  etiss:\n",
       "    url: \"https://github.com/tum-ei-eda/etiss.git\"\n",
       "    ref: 40c0b920cf4072adf189211ca44291534355dcfd\n",
       "  mlif:\n",
       "    url: \"https://github.com/tum-ei-eda/mlonmcu-sw.git\"\n",
       "    ref: c7b0e7364c232666ebd5a17476181e3ff9a71d70\n",
       "  tflite_pack:\n",
       "    url: \"https://github.com/tum-ei-eda/tflite-pack.git\"\n",
       "    ref: 2d31cafc941d3889b042af9c0a72b5f768ac4606\n",
       "frameworks:\n",
       "  default: tvm\n",
       "  tvm:\n",
       "    enabled: true\n",
       "    backends:\n",
       "      default: tvmaotplus\n",
       "      tvmaotplus:\n",
       "        enabled: true\n",
       "        features: {}\n",
       "      tvmllvm:\n",
       "        enabled: true\n",
       "        features: {}\n",
       "    features: {}\n",
       "frontends:\n",
       "  tflite:\n",
       "    enabled: true\n",
       "    features:\n",
       "      split_layers: true\n",
       "toolchains:\n",
       "  gcc: true\n",
       "platforms:\n",
       "  mlif:\n",
       "    enabled: true\n",
       "    features:\n",
       "      debug: true\n",
       "  tvm:\n",
       "    enabled: true\n",
       "    features:\n",
       "      tvm_profile: true\n",
       "targets:\n",
       "  default: host_x86\n",
       "  etiss:\n",
       "    enabled: true\n",
       "    features:\n",
       "      log_instrs: true\n",
       "  host_x86:\n",
       "    enabled: true\n",
       "    features: []\n",
       "  tvm_cpu:\n",
       "    enabled: true\n",
       "    features: []\n",
       "postprocesses:\n",
       "  use: []\n",
       "vars:\n",
       "  allow_extensions: false\n",
       "  runs_per_stage: true\n",
       "  riscv_gcc.dl_url: \"https://syncandshare.lrz.de/dl/fiD9HnHYkb2V8kNbVQYv242m/rv32gc.tar.gz\"\n",
       "flags: {}"
      ]
     },
     "execution_count": 3,
     "metadata": {},
     "output_type": "execute_result"
    }
   ],
   "source": [
    "Code(filename=\"environment.yml.j2\")"
   ]
  },
  {
   "cell_type": "markdown",
   "id": "4d140308",
   "metadata": {
    "papermill": {
     "duration": 0.006436,
     "end_time": "2023-12-31T11:57:03.866042",
     "exception": false,
     "start_time": "2023-12-31T11:57:03.859606",
     "status": "completed"
    },
    "tags": []
   },
   "source": [
    "Do not forget to set your `MLONMCU_HOME` environment variable first if not using the default location!"
   ]
  },
  {
   "cell_type": "markdown",
   "id": "a3bac781",
   "metadata": {
    "papermill": {
     "duration": 0.006458,
     "end_time": "2023-12-31T11:57:03.879031",
     "exception": false,
     "start_time": "2023-12-31T11:57:03.872573",
     "status": "completed"
    },
    "tags": []
   },
   "source": [
    "### Usage"
   ]
  },
  {
   "cell_type": "markdown",
   "id": "1352b362",
   "metadata": {
    "papermill": {
     "duration": 0.006615,
     "end_time": "2023-12-31T11:57:03.892218",
     "exception": false,
     "start_time": "2023-12-31T11:57:03.885603",
     "status": "completed"
    },
    "tags": []
   },
   "source": [
    "The following examples demonstrate the `split_layers` feature recently added MLonMCU."
   ]
  },
  {
   "cell_type": "markdown",
   "id": "f01b54e2",
   "metadata": {
    "papermill": {
     "duration": 0.006605,
     "end_time": "2023-12-31T11:57:03.905452",
     "exception": false,
     "start_time": "2023-12-31T11:57:03.898847",
     "status": "completed"
    },
    "tags": []
   },
   "source": [
    "#### A) Command Line Interface"
   ]
  },
  {
   "cell_type": "markdown",
   "id": "2b333851",
   "metadata": {
    "papermill": {
     "duration": 0.006512,
     "end_time": "2023-12-31T11:57:03.918520",
     "exception": false,
     "start_time": "2023-12-31T11:57:03.912008",
     "status": "completed"
    },
    "tags": []
   },
   "source": [
    "First define a simple benchmark of a single model/backend/target combination:"
   ]
  },
  {
   "cell_type": "code",
   "execution_count": 4,
   "id": "43576c35",
   "metadata": {
    "execution": {
     "iopub.execute_input": "2023-12-31T11:57:03.932393Z",
     "iopub.status.busy": "2023-12-31T11:57:03.932194Z",
     "iopub.status.idle": "2023-12-31T11:57:15.890254Z",
     "shell.execute_reply": "2023-12-31T11:57:15.889574Z"
    },
    "papermill": {
     "duration": 11.966977,
     "end_time": "2023-12-31T11:57:15.892005",
     "exception": false,
     "start_time": "2023-12-31T11:57:03.925028",
     "status": "completed"
    },
    "tags": []
   },
   "outputs": [
    {
     "name": "stdout",
     "output_type": "stream",
     "text": [
      "INFO - Loading environment cache from file\r\n",
      "INFO - Successfully initialized cache\r\n"
     ]
    },
    {
     "name": "stdout",
     "output_type": "stream",
     "text": [
      "INFO -  Processing stage LOAD\r\n",
      "INFO -  Processing stage BUILD\r\n"
     ]
    },
    {
     "name": "stdout",
     "output_type": "stream",
     "text": [
      "INFO -  Processing stage COMPILE\r\n"
     ]
    },
    {
     "name": "stdout",
     "output_type": "stream",
     "text": [
      "INFO -  Processing stage RUN\r\n"
     ]
    },
    {
     "name": "stdout",
     "output_type": "stream",
     "text": [
      "INFO - All runs completed successfuly!\r\n",
      "INFO - Postprocessing session report\r\n",
      "INFO - Done processing runs\r\n",
      "INFO - Report:\r\n",
      "   Session  Run   Model Frontend Framework     Backend Platform         Target  Total Cycles  Total Instructions  Total CPI  Total ROM  Total RAM  ROM read-only  ROM code  ROM misc  RAM data  RAM zero-init data  Validation Features                                             Config Postprocesses Comment\r\n",
      "0        0    0  resnet   tflite       tvm  tvmaotplus     mlif  etiss_pulpino      81173677            81173677        1.0     225004     108224         163424     61436       144      2492              105732        True       []  {'resnet.output_shapes': {'Identity_int8': [1,...            []       -\r\n"
     ]
    }
   ],
   "source": [
    "!mlonmcu flow run resnet --backend tvmaotplus --target etiss_pulpino"
   ]
  },
  {
   "cell_type": "markdown",
   "id": "5ccc2ec8",
   "metadata": {
    "papermill": {
     "duration": 0.007032,
     "end_time": "2023-12-31T11:57:15.906344",
     "exception": false,
     "start_time": "2023-12-31T11:57:15.899312",
     "status": "completed"
    },
    "tags": []
   },
   "source": [
    "Now lets enable the `split_layers` feature:"
   ]
  },
  {
   "cell_type": "code",
   "execution_count": 5,
   "id": "53c89e22",
   "metadata": {
    "execution": {
     "iopub.execute_input": "2023-12-31T11:57:15.921610Z",
     "iopub.status.busy": "2023-12-31T11:57:15.921259Z",
     "iopub.status.idle": "2023-12-31T11:58:15.749150Z",
     "shell.execute_reply": "2023-12-31T11:58:15.748458Z"
    },
    "papermill": {
     "duration": 59.837583,
     "end_time": "2023-12-31T11:58:15.750947",
     "exception": false,
     "start_time": "2023-12-31T11:57:15.913364",
     "status": "completed"
    },
    "tags": []
   },
   "outputs": [
    {
     "name": "stdout",
     "output_type": "stream",
     "text": [
      "INFO - Loading environment cache from file\r\n",
      "INFO - Successfully initialized cache\r\n"
     ]
    },
    {
     "name": "stdout",
     "output_type": "stream",
     "text": [
      "INFO - [session-1]  Processing stage LOAD\r\n"
     ]
    },
    {
     "name": "stdout",
     "output_type": "stream",
     "text": [
      "INFO - [session-1]  Processing stage BUILD\r\n"
     ]
    },
    {
     "name": "stdout",
     "output_type": "stream",
     "text": [
      "INFO - [session-1]  Processing stage COMPILE\r\n"
     ]
    },
    {
     "name": "stdout",
     "output_type": "stream",
     "text": [
      "INFO - [session-1]  Processing stage RUN\r\n"
     ]
    },
    {
     "name": "stdout",
     "output_type": "stream",
     "text": [
      "INFO - All runs completed successfuly!\r\n",
      "INFO - Postprocessing session report\r\n",
      "INFO - [session-1] Done processing runs\r\n"
     ]
    },
    {
     "name": "stdout",
     "output_type": "stream",
     "text": [
      "INFO - Report:\r\n",
      "    Session  Run   Model Frontend Framework     Backend Platform         Target      Sub  Total Cycles  Total Instructions  Total CPI  Total ROM  Total RAM  ROM read-only  ROM code  ROM misc  RAM data  RAM zero-init data  Validation        Features                                             Config Postprocesses Comment\r\n",
      "0         1    0  resnet   tflite       tvm  tvmaotplus     mlif  etiss_pulpino      NaN      81173677            81173677        1.0     225004     108224         163424     61436       144      2492              105732        True  [split_layers]  {'resnet.output_shapes': {'Identity_int8': [1,...            []       -\r\n",
      "1         1    0  resnet   tflite       tvm  tvmaotplus     mlif  etiss_pulpino   layer0       3541354             3541354        1.0      56472      35152           4184     52144       144      2492               32660        True  [split_layers]  {'resnet.output_shapes': {'Identity_int8': [1,...            []       -\r\n",
      "2         1    0  resnet   tflite       tvm  tvmaotplus     mlif  etiss_pulpino   layer1      12854741            12854741        1.0      59884     105136           7928     51812       144      2492              102644        True  [split_layers]  {'resnet.output_shapes': {'Identity_int8': [1,...            []       -\r\n",
      "3         1    0  resnet   tflite       tvm  tvmaotplus     mlif  etiss_pulpino   layer2      12889467            12889467        1.0      59882     105136           7928     51810       144      2492              102644        True  [split_layers]  {'resnet.output_shapes': {'Identity_int8': [1,...            []       -\r\n",
      "4         1    0  resnet   tflite       tvm  tvmaotplus     mlif  etiss_pulpino   layer3        629213              629213        1.0      54256      51768           3096     51016       144      2500               49268        True  [split_layers]  {'resnet.output_shapes': {'Identity_int8': [1,...            []       -\r\n",
      "5         1    0  resnet   tflite       tvm  tvmaotplus     mlif  etiss_pulpino   layer4       6282362             6282362        1.0      64930      94800          12792     51994       144      2492               92308        True  [split_layers]  {'resnet.output_shapes': {'Identity_int8': [1,...            []       -\r\n",
      "6         1    0  resnet   tflite       tvm  tvmaotplus     mlif  etiss_pulpino   layer5      17491971            17491971        1.0      73874      56112          22008     51722       144      2492               53620        True  [split_layers]  {'resnet.output_shapes': {'Identity_int8': [1,...            []       -\r\n",
      "7         1    0  resnet   tflite       tvm  tvmaotplus     mlif  etiss_pulpino   layer6       1089453             1089453        1.0      56792      90704           4600     52048       144      2492               88212        True  [split_layers]  {'resnet.output_shapes': {'Identity_int8': [1,...            []       -\r\n",
      "8         1    0  resnet   tflite       tvm  tvmaotplus     mlif  etiss_pulpino   layer7        316120              316120        1.0      54292      27192           3096     51052       144      2500               24692        True  [split_layers]  {'resnet.output_shapes': {'Identity_int8': [1,...            []       -\r\n",
      "9         1    0  resnet   tflite       tvm  tvmaotplus     mlif  etiss_pulpino   layer8       8802585             8802585        1.0      92948      49776          40952     51852       144      2492               47284        True  [split_layers]  {'resnet.output_shapes': {'Identity_int8': [1,...            []       -\r\n",
      "10        1    0  resnet   tflite       tvm  tvmaotplus     mlif  etiss_pulpino   layer9      17021834            17021834        1.0     129696      31792          77816     51736       144      2492               29300        True  [split_layers]  {'resnet.output_shapes': {'Identity_int8': [1,...            []       -\r\n",
      "11        1    0  resnet   tflite       tvm  tvmaotplus     mlif  etiss_pulpino  layer10       1107788             1107788        1.0      60096      45680           8184     51768       144      2492               43188        True  [split_layers]  {'resnet.output_shapes': {'Identity_int8': [1,...            []       -\r\n",
      "12        1    0  resnet   tflite       tvm  tvmaotplus     mlif  etiss_pulpino  layer11        153872              153872        1.0      54302      14904           3096     51062       144      2500               12404        True  [split_layers]  {'resnet.output_shapes': {'Identity_int8': [1,...            []       -\r\n",
      "13        1    0  resnet   tflite       tvm  tvmaotplus     mlif  etiss_pulpino  layer12         39462               39462        1.0      54230      23408           3056     51030       144      2492               20916        True  [split_layers]  {'resnet.output_shapes': {'Identity_int8': [1,...            []       -\r\n",
      "14        1    0  resnet   tflite       tvm  tvmaotplus     mlif  etiss_pulpino  layer13           340                 340        1.0      54518       2736           3056     51318       144      2492                 244        True  [split_layers]  {'resnet.output_shapes': {'Identity_int8': [1,...            []       -\r\n",
      "15        1    0  resnet   tflite       tvm  tvmaotplus     mlif  etiss_pulpino  layer14          3106                3106        1.0      55908       2836           4392     51372       144      2492                 344        True  [split_layers]  {'resnet.output_shapes': {'Identity_int8': [1,...            []       -\r\n",
      "16        1    0  resnet   tflite       tvm  tvmaotplus     mlif  etiss_pulpino  layer15          1521                1521        1.0      56104       2740           3176     52784       144      2492                 248        True  [split_layers]  {'resnet.output_shapes': {'Identity_int8': [1,...            []       -\r\n"
     ]
    }
   ],
   "source": [
    "!mlonmcu flow run resnet --backend tvmaotplus --target etiss_pulpino -f split_layers"
   ]
  },
  {
   "cell_type": "markdown",
   "id": "c9776cd6",
   "metadata": {
    "papermill": {
     "duration": 0.007463,
     "end_time": "2023-12-31T11:58:15.766214",
     "exception": false,
     "start_time": "2023-12-31T11:58:15.758751",
     "status": "completed"
    },
    "tags": []
   },
   "source": [
    "The resulting report should contain the the original benchmark results (for the whole model) in the first row. The remaining 16 rows are for each of the layers found in the `resnet.tflite` model. The layer-index can be found in the 'Sub' column. The cycle count of these should roughly sum up to the total execution time measured in row one."
   ]
  },
  {
   "cell_type": "markdown",
   "id": "4238333c",
   "metadata": {
    "papermill": {
     "duration": 0.007314,
     "end_time": "2023-12-31T11:58:15.780956",
     "exception": false,
     "start_time": "2023-12-31T11:58:15.773642",
     "status": "completed"
    },
    "tags": []
   },
   "source": [
    "#### B) Python Scripting"
   ]
  },
  {
   "cell_type": "markdown",
   "id": "b500fc47",
   "metadata": {
    "papermill": {
     "duration": 0.007273,
     "end_time": "2023-12-31T11:58:15.795537",
     "exception": false,
     "start_time": "2023-12-31T11:58:15.788264",
     "status": "completed"
    },
    "tags": []
   },
   "source": [
    "Some imports"
   ]
  },
  {
   "cell_type": "code",
   "execution_count": 6,
   "id": "78c53970",
   "metadata": {
    "execution": {
     "iopub.execute_input": "2023-12-31T11:58:15.811419Z",
     "iopub.status.busy": "2023-12-31T11:58:15.811177Z",
     "iopub.status.idle": "2023-12-31T11:58:16.213915Z",
     "shell.execute_reply": "2023-12-31T11:58:16.213145Z"
    },
    "papermill": {
     "duration": 0.412751,
     "end_time": "2023-12-31T11:58:16.215647",
     "exception": false,
     "start_time": "2023-12-31T11:58:15.802896",
     "status": "completed"
    },
    "tags": []
   },
   "outputs": [],
   "source": [
    "from tempfile import TemporaryDirectory\n",
    "from pathlib import Path\n",
    "import pandas as pd\n",
    "\n",
    "from mlonmcu.context.context import MlonMcuContext\n",
    "from mlonmcu.session.run import RunStage"
   ]
  },
  {
   "cell_type": "markdown",
   "id": "86046913",
   "metadata": {
    "papermill": {
     "duration": 0.007398,
     "end_time": "2023-12-31T11:58:16.230736",
     "exception": false,
     "start_time": "2023-12-31T11:58:16.223338",
     "status": "completed"
    },
    "tags": []
   },
   "source": [
    "Benchmark Configuration"
   ]
  },
  {
   "cell_type": "code",
   "execution_count": 7,
   "id": "2f6c5e5a",
   "metadata": {
    "execution": {
     "iopub.execute_input": "2023-12-31T11:58:16.247133Z",
     "iopub.status.busy": "2023-12-31T11:58:16.246344Z",
     "iopub.status.idle": "2023-12-31T11:58:16.250650Z",
     "shell.execute_reply": "2023-12-31T11:58:16.250082Z"
    },
    "papermill": {
     "duration": 0.013956,
     "end_time": "2023-12-31T11:58:16.251965",
     "exception": false,
     "start_time": "2023-12-31T11:58:16.238009",
     "status": "completed"
    },
    "tags": []
   },
   "outputs": [],
   "source": [
    "FRONTEND = \"tflite\"\n",
    "MODEL = \"resnet\"\n",
    "BACKEND = \"tvmaotplus\"\n",
    "PLATFORM = \"mlif\"\n",
    "TARGET = \"etiss_pulpino\"\n",
    "FEATURES = [\"split_layers\"]\n",
    "CONFIG = {\"filter_cols.keep\": [\"Sub\", \"Total Instructions\", \"Total ROM\", \"Total RAM\"]}\n",
    "POSTPROCESSES = [\"filter_cols\"]"
   ]
  },
  {
   "cell_type": "markdown",
   "id": "966cc3fe",
   "metadata": {
    "papermill": {
     "duration": 0.007169,
     "end_time": "2023-12-31T11:58:16.266465",
     "exception": false,
     "start_time": "2023-12-31T11:58:16.259296",
     "status": "completed"
    },
    "tags": []
   },
   "source": [
    "Initialize and run a single benchmark"
   ]
  },
  {
   "cell_type": "code",
   "execution_count": 8,
   "id": "ebe63369",
   "metadata": {
    "execution": {
     "iopub.execute_input": "2023-12-31T11:58:16.281844Z",
     "iopub.status.busy": "2023-12-31T11:58:16.281645Z",
     "iopub.status.idle": "2023-12-31T11:59:13.427742Z",
     "shell.execute_reply": "2023-12-31T11:59:13.427082Z"
    },
    "papermill": {
     "duration": 57.155549,
     "end_time": "2023-12-31T11:59:13.429203",
     "exception": false,
     "start_time": "2023-12-31T11:58:16.273654",
     "status": "completed"
    },
    "tags": []
   },
   "outputs": [
    {
     "name": "stdout",
     "output_type": "stream",
     "text": [
      "INFO - Loading environment cache from file\n"
     ]
    },
    {
     "name": "stdout",
     "output_type": "stream",
     "text": [
      "INFO - Successfully initialized cache\n"
     ]
    },
    {
     "name": "stdout",
     "output_type": "stream",
     "text": [
      "INFO - [session-2] Processing all stages\n"
     ]
    },
    {
     "name": "stdout",
     "output_type": "stream",
     "text": [
      "INFO - All runs completed successfuly!\n"
     ]
    },
    {
     "name": "stdout",
     "output_type": "stream",
     "text": [
      "INFO - Postprocessing session report\n"
     ]
    },
    {
     "name": "stdout",
     "output_type": "stream",
     "text": [
      "INFO - [session-2] Done processing runs\n"
     ]
    },
    {
     "data": {
      "text/html": [
       "<div>\n",
       "<style scoped>\n",
       "    .dataframe tbody tr th:only-of-type {\n",
       "        vertical-align: middle;\n",
       "    }\n",
       "\n",
       "    .dataframe tbody tr th {\n",
       "        vertical-align: top;\n",
       "    }\n",
       "\n",
       "    .dataframe thead th {\n",
       "        text-align: right;\n",
       "    }\n",
       "</style>\n",
       "<table border=\"1\" class=\"dataframe\">\n",
       "  <thead>\n",
       "    <tr style=\"text-align: right;\">\n",
       "      <th></th>\n",
       "      <th>Sub</th>\n",
       "      <th>Total Instructions</th>\n",
       "      <th>Total ROM</th>\n",
       "      <th>Total RAM</th>\n",
       "    </tr>\n",
       "  </thead>\n",
       "  <tbody>\n",
       "    <tr>\n",
       "      <th>0</th>\n",
       "      <td>NaN</td>\n",
       "      <td>81173677</td>\n",
       "      <td>225004</td>\n",
       "      <td>108224</td>\n",
       "    </tr>\n",
       "    <tr>\n",
       "      <th>1</th>\n",
       "      <td>layer0</td>\n",
       "      <td>3541354</td>\n",
       "      <td>56472</td>\n",
       "      <td>35152</td>\n",
       "    </tr>\n",
       "    <tr>\n",
       "      <th>2</th>\n",
       "      <td>layer1</td>\n",
       "      <td>12854741</td>\n",
       "      <td>59884</td>\n",
       "      <td>105136</td>\n",
       "    </tr>\n",
       "    <tr>\n",
       "      <th>3</th>\n",
       "      <td>layer2</td>\n",
       "      <td>12889467</td>\n",
       "      <td>59882</td>\n",
       "      <td>105136</td>\n",
       "    </tr>\n",
       "    <tr>\n",
       "      <th>4</th>\n",
       "      <td>layer3</td>\n",
       "      <td>629213</td>\n",
       "      <td>54256</td>\n",
       "      <td>51768</td>\n",
       "    </tr>\n",
       "    <tr>\n",
       "      <th>5</th>\n",
       "      <td>layer4</td>\n",
       "      <td>6282362</td>\n",
       "      <td>64930</td>\n",
       "      <td>94800</td>\n",
       "    </tr>\n",
       "    <tr>\n",
       "      <th>6</th>\n",
       "      <td>layer5</td>\n",
       "      <td>17491971</td>\n",
       "      <td>73874</td>\n",
       "      <td>56112</td>\n",
       "    </tr>\n",
       "    <tr>\n",
       "      <th>7</th>\n",
       "      <td>layer6</td>\n",
       "      <td>1089453</td>\n",
       "      <td>56792</td>\n",
       "      <td>90704</td>\n",
       "    </tr>\n",
       "    <tr>\n",
       "      <th>8</th>\n",
       "      <td>layer7</td>\n",
       "      <td>316120</td>\n",
       "      <td>54292</td>\n",
       "      <td>27192</td>\n",
       "    </tr>\n",
       "    <tr>\n",
       "      <th>9</th>\n",
       "      <td>layer8</td>\n",
       "      <td>8802585</td>\n",
       "      <td>92948</td>\n",
       "      <td>49776</td>\n",
       "    </tr>\n",
       "    <tr>\n",
       "      <th>10</th>\n",
       "      <td>layer9</td>\n",
       "      <td>17021834</td>\n",
       "      <td>129696</td>\n",
       "      <td>31792</td>\n",
       "    </tr>\n",
       "    <tr>\n",
       "      <th>11</th>\n",
       "      <td>layer10</td>\n",
       "      <td>1107788</td>\n",
       "      <td>60096</td>\n",
       "      <td>45680</td>\n",
       "    </tr>\n",
       "    <tr>\n",
       "      <th>12</th>\n",
       "      <td>layer11</td>\n",
       "      <td>153872</td>\n",
       "      <td>54302</td>\n",
       "      <td>14904</td>\n",
       "    </tr>\n",
       "    <tr>\n",
       "      <th>13</th>\n",
       "      <td>layer12</td>\n",
       "      <td>39462</td>\n",
       "      <td>54230</td>\n",
       "      <td>23408</td>\n",
       "    </tr>\n",
       "    <tr>\n",
       "      <th>14</th>\n",
       "      <td>layer13</td>\n",
       "      <td>340</td>\n",
       "      <td>54518</td>\n",
       "      <td>2736</td>\n",
       "    </tr>\n",
       "    <tr>\n",
       "      <th>15</th>\n",
       "      <td>layer14</td>\n",
       "      <td>3106</td>\n",
       "      <td>55908</td>\n",
       "      <td>2836</td>\n",
       "    </tr>\n",
       "    <tr>\n",
       "      <th>16</th>\n",
       "      <td>layer15</td>\n",
       "      <td>1521</td>\n",
       "      <td>56104</td>\n",
       "      <td>2740</td>\n",
       "    </tr>\n",
       "  </tbody>\n",
       "</table>\n",
       "</div>"
      ],
      "text/plain": [
       "        Sub  Total Instructions  Total ROM  Total RAM\n",
       "0       NaN            81173677     225004     108224\n",
       "1    layer0             3541354      56472      35152\n",
       "2    layer1            12854741      59884     105136\n",
       "3    layer2            12889467      59882     105136\n",
       "4    layer3              629213      54256      51768\n",
       "5    layer4             6282362      64930      94800\n",
       "6    layer5            17491971      73874      56112\n",
       "7    layer6             1089453      56792      90704\n",
       "8    layer7              316120      54292      27192\n",
       "9    layer8             8802585      92948      49776\n",
       "10   layer9            17021834     129696      31792\n",
       "11  layer10             1107788      60096      45680\n",
       "12  layer11              153872      54302      14904\n",
       "13  layer12               39462      54230      23408\n",
       "14  layer13                 340      54518       2736\n",
       "15  layer14                3106      55908       2836\n",
       "16  layer15                1521      56104       2740"
      ]
     },
     "execution_count": 8,
     "metadata": {},
     "output_type": "execute_result"
    }
   ],
   "source": [
    "with MlonMcuContext() as context:\n",
    "    with context.create_session() as session:\n",
    "        run = session.create_run(config=CONFIG)\n",
    "        run.add_features_by_name(FEATURES, context=context)\n",
    "        run.add_frontend_by_name(FRONTEND, context=context)\n",
    "        run.add_model_by_name(MODEL, context=context)\n",
    "        run.add_backend_by_name(BACKEND, context=context)\n",
    "        run.add_platform_by_name(PLATFORM, context=context)\n",
    "        run.add_target_by_name(TARGET, context=context)\n",
    "        run.add_postprocesses_by_name(POSTPROCESSES)\n",
    "        session.process_runs(context=context)\n",
    "        report = session.get_reports()\n",
    "assert \"Failing\" not in report.df.columns\n",
    "report.df"
   ]
  },
  {
   "cell_type": "markdown",
   "id": "3f079313",
   "metadata": {
    "papermill": {
     "duration": 0.007777,
     "end_time": "2023-12-31T11:59:13.444946",
     "exception": false,
     "start_time": "2023-12-31T11:59:13.437169",
     "status": "completed"
    },
    "tags": []
   },
   "source": [
    "Stripping out all common data, we get this:"
   ]
  },
  {
   "cell_type": "code",
   "execution_count": 9,
   "id": "5e84f3e2",
   "metadata": {
    "execution": {
     "iopub.execute_input": "2023-12-31T11:59:13.461848Z",
     "iopub.status.busy": "2023-12-31T11:59:13.461417Z",
     "iopub.status.idle": "2023-12-31T11:59:13.469505Z",
     "shell.execute_reply": "2023-12-31T11:59:13.468919Z"
    },
    "papermill": {
     "duration": 0.018072,
     "end_time": "2023-12-31T11:59:13.470804",
     "exception": false,
     "start_time": "2023-12-31T11:59:13.452732",
     "status": "completed"
    },
    "tags": []
   },
   "outputs": [
    {
     "data": {
      "text/html": [
       "<div>\n",
       "<style scoped>\n",
       "    .dataframe tbody tr th:only-of-type {\n",
       "        vertical-align: middle;\n",
       "    }\n",
       "\n",
       "    .dataframe tbody tr th {\n",
       "        vertical-align: top;\n",
       "    }\n",
       "\n",
       "    .dataframe thead th {\n",
       "        text-align: right;\n",
       "    }\n",
       "</style>\n",
       "<table border=\"1\" class=\"dataframe\">\n",
       "  <thead>\n",
       "    <tr style=\"text-align: right;\">\n",
       "      <th></th>\n",
       "      <th>Total Instructions</th>\n",
       "      <th>Total ROM</th>\n",
       "      <th>Total RAM</th>\n",
       "    </tr>\n",
       "    <tr>\n",
       "      <th>Sub</th>\n",
       "      <th></th>\n",
       "      <th></th>\n",
       "      <th></th>\n",
       "    </tr>\n",
       "  </thead>\n",
       "  <tbody>\n",
       "    <tr>\n",
       "      <th>full</th>\n",
       "      <td>81173677</td>\n",
       "      <td>225004</td>\n",
       "      <td>108224</td>\n",
       "    </tr>\n",
       "    <tr>\n",
       "      <th>layer0</th>\n",
       "      <td>3541354</td>\n",
       "      <td>56472</td>\n",
       "      <td>35152</td>\n",
       "    </tr>\n",
       "    <tr>\n",
       "      <th>layer1</th>\n",
       "      <td>12854741</td>\n",
       "      <td>59884</td>\n",
       "      <td>105136</td>\n",
       "    </tr>\n",
       "    <tr>\n",
       "      <th>layer2</th>\n",
       "      <td>12889467</td>\n",
       "      <td>59882</td>\n",
       "      <td>105136</td>\n",
       "    </tr>\n",
       "    <tr>\n",
       "      <th>layer3</th>\n",
       "      <td>629213</td>\n",
       "      <td>54256</td>\n",
       "      <td>51768</td>\n",
       "    </tr>\n",
       "    <tr>\n",
       "      <th>layer4</th>\n",
       "      <td>6282362</td>\n",
       "      <td>64930</td>\n",
       "      <td>94800</td>\n",
       "    </tr>\n",
       "    <tr>\n",
       "      <th>layer5</th>\n",
       "      <td>17491971</td>\n",
       "      <td>73874</td>\n",
       "      <td>56112</td>\n",
       "    </tr>\n",
       "    <tr>\n",
       "      <th>layer6</th>\n",
       "      <td>1089453</td>\n",
       "      <td>56792</td>\n",
       "      <td>90704</td>\n",
       "    </tr>\n",
       "    <tr>\n",
       "      <th>layer7</th>\n",
       "      <td>316120</td>\n",
       "      <td>54292</td>\n",
       "      <td>27192</td>\n",
       "    </tr>\n",
       "    <tr>\n",
       "      <th>layer8</th>\n",
       "      <td>8802585</td>\n",
       "      <td>92948</td>\n",
       "      <td>49776</td>\n",
       "    </tr>\n",
       "    <tr>\n",
       "      <th>layer9</th>\n",
       "      <td>17021834</td>\n",
       "      <td>129696</td>\n",
       "      <td>31792</td>\n",
       "    </tr>\n",
       "    <tr>\n",
       "      <th>layer10</th>\n",
       "      <td>1107788</td>\n",
       "      <td>60096</td>\n",
       "      <td>45680</td>\n",
       "    </tr>\n",
       "    <tr>\n",
       "      <th>layer11</th>\n",
       "      <td>153872</td>\n",
       "      <td>54302</td>\n",
       "      <td>14904</td>\n",
       "    </tr>\n",
       "    <tr>\n",
       "      <th>layer12</th>\n",
       "      <td>39462</td>\n",
       "      <td>54230</td>\n",
       "      <td>23408</td>\n",
       "    </tr>\n",
       "    <tr>\n",
       "      <th>layer13</th>\n",
       "      <td>340</td>\n",
       "      <td>54518</td>\n",
       "      <td>2736</td>\n",
       "    </tr>\n",
       "    <tr>\n",
       "      <th>layer14</th>\n",
       "      <td>3106</td>\n",
       "      <td>55908</td>\n",
       "      <td>2836</td>\n",
       "    </tr>\n",
       "    <tr>\n",
       "      <th>layer15</th>\n",
       "      <td>1521</td>\n",
       "      <td>56104</td>\n",
       "      <td>2740</td>\n",
       "    </tr>\n",
       "  </tbody>\n",
       "</table>\n",
       "</div>"
      ],
      "text/plain": [
       "         Total Instructions  Total ROM  Total RAM\n",
       "Sub                                              \n",
       "full               81173677     225004     108224\n",
       "layer0              3541354      56472      35152\n",
       "layer1             12854741      59884     105136\n",
       "layer2             12889467      59882     105136\n",
       "layer3               629213      54256      51768\n",
       "layer4              6282362      64930      94800\n",
       "layer5             17491971      73874      56112\n",
       "layer6              1089453      56792      90704\n",
       "layer7               316120      54292      27192\n",
       "layer8              8802585      92948      49776\n",
       "layer9             17021834     129696      31792\n",
       "layer10             1107788      60096      45680\n",
       "layer11              153872      54302      14904\n",
       "layer12               39462      54230      23408\n",
       "layer13                 340      54518       2736\n",
       "layer14                3106      55908       2836\n",
       "layer15                1521      56104       2740"
      ]
     },
     "execution_count": 9,
     "metadata": {},
     "output_type": "execute_result"
    }
   ],
   "source": [
    "df = report.df\n",
    "df.fillna(\"full\", inplace=True)\n",
    "df.set_index(\"Sub\", inplace=True)\n",
    "df"
   ]
  },
  {
   "cell_type": "markdown",
   "id": "5f257b8a",
   "metadata": {
    "papermill": {
     "duration": 0.007962,
     "end_time": "2023-12-31T11:59:13.486791",
     "exception": false,
     "start_time": "2023-12-31T11:59:13.478829",
     "status": "completed"
    },
    "tags": []
   },
   "source": [
    "## 2. Using ~~(Micro)~~TVMs profiling functionality"
   ]
  },
  {
   "cell_type": "markdown",
   "id": "57914347",
   "metadata": {
    "papermill": {
     "duration": 0.007908,
     "end_time": "2023-12-31T11:59:13.502658",
     "exception": false,
     "start_time": "2023-12-31T11:59:13.494750",
     "status": "completed"
    },
    "tags": []
   },
   "source": [
    "Instead of splitting the model layer wise before optimization, this will use the functionality of TVMs graph runtime to benchmark individual functions conatine din the model graph. These functions do not nessessarily map directly to a single layer in the original model operator fusing is automatically performed by TVMs compilation pipeline."
   ]
  },
  {
   "cell_type": "markdown",
   "id": "09da8a16",
   "metadata": {
    "papermill": {
     "duration": 0.007946,
     "end_time": "2023-12-31T11:59:13.518527",
     "exception": false,
     "start_time": "2023-12-31T11:59:13.510581",
     "status": "completed"
    },
    "tags": []
   },
   "source": [
    "### Supported components"
   ]
  },
  {
   "cell_type": "markdown",
   "id": "9f12e37b",
   "metadata": {
    "papermill": {
     "duration": 0.007931,
     "end_time": "2023-12-31T11:59:13.534433",
     "exception": false,
     "start_time": "2023-12-31T11:59:13.526502",
     "status": "completed"
    },
    "tags": []
   },
   "source": [
    "**Models:** Any (`resnet` used below)\n",
    "\n",
    "**Frontends:** Any frontend supported by TVM (`tflite` used below)\n",
    "\n",
    "**Frameworks/Backends:** TVM: `tvmllvm` ~~MicroTVM: `tvmrt`~~\n",
    "\n",
    "**Platforms/Targets:** TVM: `tvm_cpu` ~~MicroTVM: Any~~\n",
    "\n",
    "**Features:** The `tvm_profile` feature needs to be enabled"
   ]
  },
  {
   "cell_type": "markdown",
   "id": "501b6cb5",
   "metadata": {
    "papermill": {
     "duration": 0.007936,
     "end_time": "2023-12-31T11:59:13.550448",
     "exception": false,
     "start_time": "2023-12-31T11:59:13.542512",
     "status": "completed"
    },
    "tags": []
   },
   "source": [
    "Let's only consider the `tvm_cpu` target here until this is supported officially by upstream TVM. Hence we are profiling on the host cpu here, not on a MCU or simulator. "
   ]
  },
  {
   "cell_type": "markdown",
   "id": "bab34b8e",
   "metadata": {
    "papermill": {
     "duration": 0.007991,
     "end_time": "2023-12-31T11:59:13.566424",
     "exception": false,
     "start_time": "2023-12-31T11:59:13.558433",
     "status": "completed"
    },
    "tags": []
   },
   "source": [
    "### Prerequisites"
   ]
  },
  {
   "cell_type": "markdown",
   "id": "c1f0d52f-0bcd-4845-81e6-ce20e02768a0",
   "metadata": {
    "papermill": {
     "duration": 0.007905,
     "end_time": "2023-12-31T11:59:13.582338",
     "exception": false,
     "start_time": "2023-12-31T11:59:13.574433",
     "status": "completed"
    },
    "tags": []
   },
   "source": [
    "If not done already, setup a virtual python environment and install the required packages into it. (See `requirements.txt`)"
   ]
  },
  {
   "cell_type": "code",
   "execution_count": 10,
   "id": "e7df798a-160a-4ea3-905c-6b4a7f66fb02",
   "metadata": {
    "execution": {
     "iopub.execute_input": "2023-12-31T11:59:13.599249Z",
     "iopub.status.busy": "2023-12-31T11:59:13.599037Z",
     "iopub.status.idle": "2023-12-31T11:59:13.619576Z",
     "shell.execute_reply": "2023-12-31T11:59:13.619030Z"
    },
    "papermill": {
     "duration": 0.03059,
     "end_time": "2023-12-31T11:59:13.620933",
     "exception": false,
     "start_time": "2023-12-31T11:59:13.590343",
     "status": "completed"
    },
    "tags": []
   },
   "outputs": [
    {
     "data": {
      "text/html": [
       "<style>pre { line-height: 125%; }\n",
       "td.linenos .normal { color: inherit; background-color: transparent; padding-left: 5px; padding-right: 5px; }\n",
       "span.linenos { color: inherit; background-color: transparent; padding-left: 5px; padding-right: 5px; }\n",
       "td.linenos .special { color: #000000; background-color: #ffffc0; padding-left: 5px; padding-right: 5px; }\n",
       "span.linenos.special { color: #000000; background-color: #ffffc0; padding-left: 5px; padding-right: 5px; }\n",
       ".output_html .hll { background-color: #ffffcc }\n",
       ".output_html { background: #f8f8f8; }\n",
       ".output_html .c { color: #3D7B7B; font-style: italic } /* Comment */\n",
       ".output_html .err { border: 1px solid #FF0000 } /* Error */\n",
       ".output_html .k { color: #008000; font-weight: bold } /* Keyword */\n",
       ".output_html .o { color: #666666 } /* Operator */\n",
       ".output_html .ch { color: #3D7B7B; font-style: italic } /* Comment.Hashbang */\n",
       ".output_html .cm { color: #3D7B7B; font-style: italic } /* Comment.Multiline */\n",
       ".output_html .cp { color: #9C6500 } /* Comment.Preproc */\n",
       ".output_html .cpf { color: #3D7B7B; font-style: italic } /* Comment.PreprocFile */\n",
       ".output_html .c1 { color: #3D7B7B; font-style: italic } /* Comment.Single */\n",
       ".output_html .cs { color: #3D7B7B; font-style: italic } /* Comment.Special */\n",
       ".output_html .gd { color: #A00000 } /* Generic.Deleted */\n",
       ".output_html .ge { font-style: italic } /* Generic.Emph */\n",
       ".output_html .ges { font-weight: bold; font-style: italic } /* Generic.EmphStrong */\n",
       ".output_html .gr { color: #E40000 } /* Generic.Error */\n",
       ".output_html .gh { color: #000080; font-weight: bold } /* Generic.Heading */\n",
       ".output_html .gi { color: #008400 } /* Generic.Inserted */\n",
       ".output_html .go { color: #717171 } /* Generic.Output */\n",
       ".output_html .gp { color: #000080; font-weight: bold } /* Generic.Prompt */\n",
       ".output_html .gs { font-weight: bold } /* Generic.Strong */\n",
       ".output_html .gu { color: #800080; font-weight: bold } /* Generic.Subheading */\n",
       ".output_html .gt { color: #0044DD } /* Generic.Traceback */\n",
       ".output_html .kc { color: #008000; font-weight: bold } /* Keyword.Constant */\n",
       ".output_html .kd { color: #008000; font-weight: bold } /* Keyword.Declaration */\n",
       ".output_html .kn { color: #008000; font-weight: bold } /* Keyword.Namespace */\n",
       ".output_html .kp { color: #008000 } /* Keyword.Pseudo */\n",
       ".output_html .kr { color: #008000; font-weight: bold } /* Keyword.Reserved */\n",
       ".output_html .kt { color: #B00040 } /* Keyword.Type */\n",
       ".output_html .m { color: #666666 } /* Literal.Number */\n",
       ".output_html .s { color: #BA2121 } /* Literal.String */\n",
       ".output_html .na { color: #687822 } /* Name.Attribute */\n",
       ".output_html .nb { color: #008000 } /* Name.Builtin */\n",
       ".output_html .nc { color: #0000FF; font-weight: bold } /* Name.Class */\n",
       ".output_html .no { color: #880000 } /* Name.Constant */\n",
       ".output_html .nd { color: #AA22FF } /* Name.Decorator */\n",
       ".output_html .ni { color: #717171; font-weight: bold } /* Name.Entity */\n",
       ".output_html .ne { color: #CB3F38; font-weight: bold } /* Name.Exception */\n",
       ".output_html .nf { color: #0000FF } /* Name.Function */\n",
       ".output_html .nl { color: #767600 } /* Name.Label */\n",
       ".output_html .nn { color: #0000FF; font-weight: bold } /* Name.Namespace */\n",
       ".output_html .nt { color: #008000; font-weight: bold } /* Name.Tag */\n",
       ".output_html .nv { color: #19177C } /* Name.Variable */\n",
       ".output_html .ow { color: #AA22FF; font-weight: bold } /* Operator.Word */\n",
       ".output_html .w { color: #bbbbbb } /* Text.Whitespace */\n",
       ".output_html .mb { color: #666666 } /* Literal.Number.Bin */\n",
       ".output_html .mf { color: #666666 } /* Literal.Number.Float */\n",
       ".output_html .mh { color: #666666 } /* Literal.Number.Hex */\n",
       ".output_html .mi { color: #666666 } /* Literal.Number.Integer */\n",
       ".output_html .mo { color: #666666 } /* Literal.Number.Oct */\n",
       ".output_html .sa { color: #BA2121 } /* Literal.String.Affix */\n",
       ".output_html .sb { color: #BA2121 } /* Literal.String.Backtick */\n",
       ".output_html .sc { color: #BA2121 } /* Literal.String.Char */\n",
       ".output_html .dl { color: #BA2121 } /* Literal.String.Delimiter */\n",
       ".output_html .sd { color: #BA2121; font-style: italic } /* Literal.String.Doc */\n",
       ".output_html .s2 { color: #BA2121 } /* Literal.String.Double */\n",
       ".output_html .se { color: #AA5D1F; font-weight: bold } /* Literal.String.Escape */\n",
       ".output_html .sh { color: #BA2121 } /* Literal.String.Heredoc */\n",
       ".output_html .si { color: #A45A77; font-weight: bold } /* Literal.String.Interpol */\n",
       ".output_html .sx { color: #008000 } /* Literal.String.Other */\n",
       ".output_html .sr { color: #A45A77 } /* Literal.String.Regex */\n",
       ".output_html .s1 { color: #BA2121 } /* Literal.String.Single */\n",
       ".output_html .ss { color: #19177C } /* Literal.String.Symbol */\n",
       ".output_html .bp { color: #008000 } /* Name.Builtin.Pseudo */\n",
       ".output_html .fm { color: #0000FF } /* Name.Function.Magic */\n",
       ".output_html .vc { color: #19177C } /* Name.Variable.Class */\n",
       ".output_html .vg { color: #19177C } /* Name.Variable.Global */\n",
       ".output_html .vi { color: #19177C } /* Name.Variable.Instance */\n",
       ".output_html .vm { color: #19177C } /* Name.Variable.Magic */\n",
       ".output_html .il { color: #666666 } /* Literal.Number.Integer.Long */</style><div class=\"highlight\"><pre><span></span>-r ../../requirements.txt\n",
       "attrs\n",
       "cloudpickle\n",
       "decorator\n",
       "numpy\n",
       "psutil\n",
       "scipy\n",
       "synr\n",
       "tornado\n",
       "typing_extensions\n",
       "tflite\n",
       "</pre></div>\n"
      ],
      "text/latex": [
       "\\begin{Verbatim}[commandchars=\\\\\\{\\}]\n",
       "\\PYZhy{}r ../../requirements.txt\n",
       "attrs\n",
       "cloudpickle\n",
       "decorator\n",
       "numpy\n",
       "psutil\n",
       "scipy\n",
       "synr\n",
       "tornado\n",
       "typing\\PYZus{}extensions\n",
       "tflite\n",
       "\\end{Verbatim}\n"
      ],
      "text/plain": [
       "-r ../../requirements.txt\n",
       "attrs\n",
       "cloudpickle\n",
       "decorator\n",
       "numpy\n",
       "psutil\n",
       "scipy\n",
       "synr\n",
       "tornado\n",
       "typing_extensions\n",
       "tflite"
      ]
     },
     "execution_count": 10,
     "metadata": {},
     "output_type": "execute_result"
    }
   ],
   "source": [
    "Code(filename=\"requirements.txt\")"
   ]
  },
  {
   "cell_type": "markdown",
   "id": "9f28ad19",
   "metadata": {
    "papermill": {
     "duration": 0.00816,
     "end_time": "2023-12-31T11:59:13.637374",
     "exception": false,
     "start_time": "2023-12-31T11:59:13.629214",
     "status": "completed"
    },
    "tags": []
   },
   "source": [
    "Set up MLonmCU as usual, i.e. initializa an environment and install all required dependencies. Feel free to use the following minimal `environment.yml.j2` template:"
   ]
  },
  {
   "cell_type": "code",
   "execution_count": 11,
   "id": "6c963043-116a-4dfd-885e-ad038f027272",
   "metadata": {
    "execution": {
     "iopub.execute_input": "2023-12-31T11:59:13.655050Z",
     "iopub.status.busy": "2023-12-31T11:59:13.654804Z",
     "iopub.status.idle": "2023-12-31T11:59:13.681697Z",
     "shell.execute_reply": "2023-12-31T11:59:13.681045Z"
    },
    "papermill": {
     "duration": 0.037272,
     "end_time": "2023-12-31T11:59:13.683029",
     "exception": false,
     "start_time": "2023-12-31T11:59:13.645757",
     "status": "completed"
    },
    "tags": []
   },
   "outputs": [
    {
     "data": {
      "text/html": [
       "<style>pre { line-height: 125%; }\n",
       "td.linenos .normal { color: inherit; background-color: transparent; padding-left: 5px; padding-right: 5px; }\n",
       "span.linenos { color: inherit; background-color: transparent; padding-left: 5px; padding-right: 5px; }\n",
       "td.linenos .special { color: #000000; background-color: #ffffc0; padding-left: 5px; padding-right: 5px; }\n",
       "span.linenos.special { color: #000000; background-color: #ffffc0; padding-left: 5px; padding-right: 5px; }\n",
       ".output_html .hll { background-color: #ffffcc }\n",
       ".output_html { background: #f8f8f8; }\n",
       ".output_html .c { color: #3D7B7B; font-style: italic } /* Comment */\n",
       ".output_html .err { border: 1px solid #FF0000 } /* Error */\n",
       ".output_html .k { color: #008000; font-weight: bold } /* Keyword */\n",
       ".output_html .o { color: #666666 } /* Operator */\n",
       ".output_html .ch { color: #3D7B7B; font-style: italic } /* Comment.Hashbang */\n",
       ".output_html .cm { color: #3D7B7B; font-style: italic } /* Comment.Multiline */\n",
       ".output_html .cp { color: #9C6500 } /* Comment.Preproc */\n",
       ".output_html .cpf { color: #3D7B7B; font-style: italic } /* Comment.PreprocFile */\n",
       ".output_html .c1 { color: #3D7B7B; font-style: italic } /* Comment.Single */\n",
       ".output_html .cs { color: #3D7B7B; font-style: italic } /* Comment.Special */\n",
       ".output_html .gd { color: #A00000 } /* Generic.Deleted */\n",
       ".output_html .ge { font-style: italic } /* Generic.Emph */\n",
       ".output_html .ges { font-weight: bold; font-style: italic } /* Generic.EmphStrong */\n",
       ".output_html .gr { color: #E40000 } /* Generic.Error */\n",
       ".output_html .gh { color: #000080; font-weight: bold } /* Generic.Heading */\n",
       ".output_html .gi { color: #008400 } /* Generic.Inserted */\n",
       ".output_html .go { color: #717171 } /* Generic.Output */\n",
       ".output_html .gp { color: #000080; font-weight: bold } /* Generic.Prompt */\n",
       ".output_html .gs { font-weight: bold } /* Generic.Strong */\n",
       ".output_html .gu { color: #800080; font-weight: bold } /* Generic.Subheading */\n",
       ".output_html .gt { color: #0044DD } /* Generic.Traceback */\n",
       ".output_html .kc { color: #008000; font-weight: bold } /* Keyword.Constant */\n",
       ".output_html .kd { color: #008000; font-weight: bold } /* Keyword.Declaration */\n",
       ".output_html .kn { color: #008000; font-weight: bold } /* Keyword.Namespace */\n",
       ".output_html .kp { color: #008000 } /* Keyword.Pseudo */\n",
       ".output_html .kr { color: #008000; font-weight: bold } /* Keyword.Reserved */\n",
       ".output_html .kt { color: #B00040 } /* Keyword.Type */\n",
       ".output_html .m { color: #666666 } /* Literal.Number */\n",
       ".output_html .s { color: #BA2121 } /* Literal.String */\n",
       ".output_html .na { color: #687822 } /* Name.Attribute */\n",
       ".output_html .nb { color: #008000 } /* Name.Builtin */\n",
       ".output_html .nc { color: #0000FF; font-weight: bold } /* Name.Class */\n",
       ".output_html .no { color: #880000 } /* Name.Constant */\n",
       ".output_html .nd { color: #AA22FF } /* Name.Decorator */\n",
       ".output_html .ni { color: #717171; font-weight: bold } /* Name.Entity */\n",
       ".output_html .ne { color: #CB3F38; font-weight: bold } /* Name.Exception */\n",
       ".output_html .nf { color: #0000FF } /* Name.Function */\n",
       ".output_html .nl { color: #767600 } /* Name.Label */\n",
       ".output_html .nn { color: #0000FF; font-weight: bold } /* Name.Namespace */\n",
       ".output_html .nt { color: #008000; font-weight: bold } /* Name.Tag */\n",
       ".output_html .nv { color: #19177C } /* Name.Variable */\n",
       ".output_html .ow { color: #AA22FF; font-weight: bold } /* Operator.Word */\n",
       ".output_html .w { color: #bbbbbb } /* Text.Whitespace */\n",
       ".output_html .mb { color: #666666 } /* Literal.Number.Bin */\n",
       ".output_html .mf { color: #666666 } /* Literal.Number.Float */\n",
       ".output_html .mh { color: #666666 } /* Literal.Number.Hex */\n",
       ".output_html .mi { color: #666666 } /* Literal.Number.Integer */\n",
       ".output_html .mo { color: #666666 } /* Literal.Number.Oct */\n",
       ".output_html .sa { color: #BA2121 } /* Literal.String.Affix */\n",
       ".output_html .sb { color: #BA2121 } /* Literal.String.Backtick */\n",
       ".output_html .sc { color: #BA2121 } /* Literal.String.Char */\n",
       ".output_html .dl { color: #BA2121 } /* Literal.String.Delimiter */\n",
       ".output_html .sd { color: #BA2121; font-style: italic } /* Literal.String.Doc */\n",
       ".output_html .s2 { color: #BA2121 } /* Literal.String.Double */\n",
       ".output_html .se { color: #AA5D1F; font-weight: bold } /* Literal.String.Escape */\n",
       ".output_html .sh { color: #BA2121 } /* Literal.String.Heredoc */\n",
       ".output_html .si { color: #A45A77; font-weight: bold } /* Literal.String.Interpol */\n",
       ".output_html .sx { color: #008000 } /* Literal.String.Other */\n",
       ".output_html .sr { color: #A45A77 } /* Literal.String.Regex */\n",
       ".output_html .s1 { color: #BA2121 } /* Literal.String.Single */\n",
       ".output_html .ss { color: #19177C } /* Literal.String.Symbol */\n",
       ".output_html .bp { color: #008000 } /* Name.Builtin.Pseudo */\n",
       ".output_html .fm { color: #0000FF } /* Name.Function.Magic */\n",
       ".output_html .vc { color: #19177C } /* Name.Variable.Class */\n",
       ".output_html .vg { color: #19177C } /* Name.Variable.Global */\n",
       ".output_html .vi { color: #19177C } /* Name.Variable.Instance */\n",
       ".output_html .vm { color: #19177C } /* Name.Variable.Magic */\n",
       ".output_html .il { color: #666666 } /* Literal.Number.Integer.Long */</style><div class=\"highlight\"><pre><span></span><span class=\"nn\">---</span>\n",
       "<span class=\"c1\"># The MLONMCU_HOME is filled in automatically when creating the environment</span>\n",
       "<span class=\"nt\">home</span><span class=\"p\">:</span><span class=\"w\"> </span><span class=\"s\">&quot;</span><span class=\"cp\">{{</span> <span class=\"nv\">home_dir</span> <span class=\"cp\">}}</span><span class=\"s\">&quot;</span>\n",
       "<span class=\"nt\">logging</span><span class=\"p\">:</span>\n",
       "<span class=\"w\">  </span><span class=\"nt\">level</span><span class=\"p\">:</span><span class=\"w\"> </span><span class=\"l l-Scalar l-Scalar-Plain\">INFO</span>\n",
       "<span class=\"w\">  </span><span class=\"nt\">to_file</span><span class=\"p\">:</span><span class=\"w\"> </span><span class=\"l l-Scalar l-Scalar-Plain\">false</span>\n",
       "<span class=\"w\">  </span><span class=\"nt\">rotate</span><span class=\"p\">:</span><span class=\"w\"> </span><span class=\"l l-Scalar l-Scalar-Plain\">false</span>\n",
       "<span class=\"nt\">cleanup</span><span class=\"p\">:</span>\n",
       "<span class=\"w\">  </span><span class=\"nt\">auto</span><span class=\"p\">:</span><span class=\"w\"> </span><span class=\"l l-Scalar l-Scalar-Plain\">true</span>\n",
       "<span class=\"w\">  </span><span class=\"nt\">keep</span><span class=\"p\">:</span><span class=\"w\"> </span><span class=\"l l-Scalar l-Scalar-Plain\">5</span>\n",
       "<span class=\"c1\"># Default locations for certain directoriescan be changed here</span>\n",
       "<span class=\"c1\"># Non-absolute paths will always be threated relative to the MLONMCU_HOME</span>\n",
       "<span class=\"nt\">paths</span><span class=\"p\">:</span>\n",
       "<span class=\"w\">  </span><span class=\"c1\"># Where the dependencies are downloaded and installed</span>\n",
       "<span class=\"w\">  </span><span class=\"nt\">deps</span><span class=\"p\">:</span><span class=\"w\"> </span><span class=\"l l-Scalar l-Scalar-Plain\">deps</span>\n",
       "<span class=\"w\">  </span><span class=\"c1\"># If logging to file is used keep logs in this directory</span>\n",
       "<span class=\"w\">  </span><span class=\"nt\">logs</span><span class=\"p\">:</span><span class=\"w\"> </span><span class=\"l l-Scalar l-Scalar-Plain\">logs</span>\n",
       "<span class=\"w\">  </span><span class=\"c1\"># Location where reports and artifacts are written to</span>\n",
       "<span class=\"w\">  </span><span class=\"nt\">results</span><span class=\"p\">:</span><span class=\"w\"> </span><span class=\"l l-Scalar l-Scalar-Plain\">results</span>\n",
       "<span class=\"w\">  </span><span class=\"c1\"># Directory where custom extensions can be integrated</span>\n",
       "<span class=\"w\">  </span><span class=\"nt\">plugins</span><span class=\"p\">:</span><span class=\"w\"> </span><span class=\"l l-Scalar l-Scalar-Plain\">plugins</span>\n",
       "<span class=\"w\">  </span><span class=\"c1\"># Directory for intermediate build products, should be located on a large enough drive</span>\n",
       "<span class=\"w\">  </span><span class=\"nt\">temp</span><span class=\"p\">:</span><span class=\"w\"> </span><span class=\"l l-Scalar l-Scalar-Plain\">temp</span>\n",
       "<span class=\"w\">  </span><span class=\"c1\"># A collection of models which will be used to look for models</span>\n",
       "<span class=\"w\">  </span><span class=\"c1\"># The paths will be checked in the order defined here stopping at the first match</span>\n",
       "<span class=\"w\">  </span><span class=\"c1\"># Non-existant paths will be skipped without throwing an error</span>\n",
       "<span class=\"w\">  </span><span class=\"nt\">models</span><span class=\"p\">:</span>\n",
       "<span class=\"w\">    </span><span class=\"p p-Indicator\">-</span><span class=\"w\"> </span><span class=\"s\">&quot;</span><span class=\"cp\">{{</span> <span class=\"nv\">home_dir</span> <span class=\"cp\">}}</span><span class=\"s\">/models&quot;</span>\n",
       "<span class=\"c1\"># Here default clone_urls</span>\n",
       "<span class=\"nt\">repos</span><span class=\"p\">:</span>\n",
       "<span class=\"w\">  </span><span class=\"nt\">tvm</span><span class=\"p\">:</span>\n",
       "<span class=\"w\">    </span><span class=\"nt\">url</span><span class=\"p\">:</span><span class=\"w\"> </span><span class=\"s\">&quot;https://github.com/apache/tvm.git&quot;</span>\n",
       "<span class=\"w\">    </span><span class=\"nt\">ref</span><span class=\"p\">:</span><span class=\"w\"> </span><span class=\"l l-Scalar l-Scalar-Plain\">a9fcac1a47f4b57c1d9d828c7ed1d77452b02cc5</span>\n",
       "<span class=\"w\">    </span><span class=\"nt\">options</span><span class=\"p\">:</span>\n",
       "<span class=\"w\">      </span><span class=\"nt\">recursive</span><span class=\"p\">:</span><span class=\"w\"> </span><span class=\"l l-Scalar l-Scalar-Plain\">true</span>\n",
       "<span class=\"w\">  </span><span class=\"nt\">etiss</span><span class=\"p\">:</span>\n",
       "<span class=\"w\">    </span><span class=\"nt\">url</span><span class=\"p\">:</span><span class=\"w\"> </span><span class=\"s\">&quot;https://github.com/tum-ei-eda/etiss.git&quot;</span>\n",
       "<span class=\"w\">    </span><span class=\"nt\">ref</span><span class=\"p\">:</span><span class=\"w\"> </span><span class=\"l l-Scalar l-Scalar-Plain\">40c0b920cf4072adf189211ca44291534355dcfd</span>\n",
       "<span class=\"w\">  </span><span class=\"nt\">mlif</span><span class=\"p\">:</span>\n",
       "<span class=\"w\">    </span><span class=\"nt\">url</span><span class=\"p\">:</span><span class=\"w\"> </span><span class=\"s\">&quot;https://github.com/tum-ei-eda/mlonmcu-sw.git&quot;</span>\n",
       "<span class=\"w\">    </span><span class=\"nt\">ref</span><span class=\"p\">:</span><span class=\"w\"> </span><span class=\"l l-Scalar l-Scalar-Plain\">c7b0e7364c232666ebd5a17476181e3ff9a71d70</span>\n",
       "<span class=\"w\">  </span><span class=\"nt\">tflite_pack</span><span class=\"p\">:</span>\n",
       "<span class=\"w\">    </span><span class=\"nt\">url</span><span class=\"p\">:</span><span class=\"w\"> </span><span class=\"s\">&quot;https://github.com/tum-ei-eda/tflite-pack.git&quot;</span>\n",
       "<span class=\"w\">    </span><span class=\"nt\">ref</span><span class=\"p\">:</span><span class=\"w\"> </span><span class=\"l l-Scalar l-Scalar-Plain\">2d31cafc941d3889b042af9c0a72b5f768ac4606</span>\n",
       "<span class=\"nt\">frameworks</span><span class=\"p\">:</span>\n",
       "<span class=\"w\">  </span><span class=\"nt\">default</span><span class=\"p\">:</span><span class=\"w\"> </span><span class=\"l l-Scalar l-Scalar-Plain\">tvm</span>\n",
       "<span class=\"w\">  </span><span class=\"nt\">tvm</span><span class=\"p\">:</span>\n",
       "<span class=\"w\">    </span><span class=\"nt\">enabled</span><span class=\"p\">:</span><span class=\"w\"> </span><span class=\"l l-Scalar l-Scalar-Plain\">true</span>\n",
       "<span class=\"w\">    </span><span class=\"nt\">backends</span><span class=\"p\">:</span>\n",
       "<span class=\"w\">      </span><span class=\"nt\">default</span><span class=\"p\">:</span><span class=\"w\"> </span><span class=\"l l-Scalar l-Scalar-Plain\">tvmaotplus</span>\n",
       "<span class=\"w\">      </span><span class=\"nt\">tvmaotplus</span><span class=\"p\">:</span>\n",
       "<span class=\"w\">        </span><span class=\"nt\">enabled</span><span class=\"p\">:</span><span class=\"w\"> </span><span class=\"l l-Scalar l-Scalar-Plain\">true</span>\n",
       "<span class=\"w\">        </span><span class=\"nt\">features</span><span class=\"p\">:</span><span class=\"w\"> </span><span class=\"p p-Indicator\">{}</span>\n",
       "<span class=\"w\">      </span><span class=\"nt\">tvmllvm</span><span class=\"p\">:</span>\n",
       "<span class=\"w\">        </span><span class=\"nt\">enabled</span><span class=\"p\">:</span><span class=\"w\"> </span><span class=\"l l-Scalar l-Scalar-Plain\">true</span>\n",
       "<span class=\"w\">        </span><span class=\"nt\">features</span><span class=\"p\">:</span><span class=\"w\"> </span><span class=\"p p-Indicator\">{}</span>\n",
       "<span class=\"w\">    </span><span class=\"nt\">features</span><span class=\"p\">:</span><span class=\"w\"> </span><span class=\"p p-Indicator\">{}</span>\n",
       "<span class=\"nt\">frontends</span><span class=\"p\">:</span>\n",
       "<span class=\"w\">  </span><span class=\"nt\">tflite</span><span class=\"p\">:</span>\n",
       "<span class=\"w\">    </span><span class=\"nt\">enabled</span><span class=\"p\">:</span><span class=\"w\"> </span><span class=\"l l-Scalar l-Scalar-Plain\">true</span>\n",
       "<span class=\"w\">    </span><span class=\"nt\">features</span><span class=\"p\">:</span>\n",
       "<span class=\"w\">      </span><span class=\"nt\">split_layers</span><span class=\"p\">:</span><span class=\"w\"> </span><span class=\"l l-Scalar l-Scalar-Plain\">true</span>\n",
       "<span class=\"nt\">toolchains</span><span class=\"p\">:</span>\n",
       "<span class=\"w\">  </span><span class=\"nt\">gcc</span><span class=\"p\">:</span><span class=\"w\"> </span><span class=\"l l-Scalar l-Scalar-Plain\">true</span>\n",
       "<span class=\"nt\">platforms</span><span class=\"p\">:</span>\n",
       "<span class=\"w\">  </span><span class=\"nt\">mlif</span><span class=\"p\">:</span>\n",
       "<span class=\"w\">    </span><span class=\"nt\">enabled</span><span class=\"p\">:</span><span class=\"w\"> </span><span class=\"l l-Scalar l-Scalar-Plain\">true</span>\n",
       "<span class=\"w\">    </span><span class=\"nt\">features</span><span class=\"p\">:</span>\n",
       "<span class=\"w\">      </span><span class=\"nt\">debug</span><span class=\"p\">:</span><span class=\"w\"> </span><span class=\"l l-Scalar l-Scalar-Plain\">true</span>\n",
       "<span class=\"w\">  </span><span class=\"nt\">tvm</span><span class=\"p\">:</span>\n",
       "<span class=\"w\">    </span><span class=\"nt\">enabled</span><span class=\"p\">:</span><span class=\"w\"> </span><span class=\"l l-Scalar l-Scalar-Plain\">true</span>\n",
       "<span class=\"w\">    </span><span class=\"nt\">features</span><span class=\"p\">:</span>\n",
       "<span class=\"w\">      </span><span class=\"nt\">tvm_profile</span><span class=\"p\">:</span><span class=\"w\"> </span><span class=\"l l-Scalar l-Scalar-Plain\">true</span>\n",
       "<span class=\"nt\">targets</span><span class=\"p\">:</span>\n",
       "<span class=\"w\">  </span><span class=\"nt\">default</span><span class=\"p\">:</span><span class=\"w\"> </span><span class=\"l l-Scalar l-Scalar-Plain\">host_x86</span>\n",
       "<span class=\"w\">  </span><span class=\"nt\">etiss</span><span class=\"p\">:</span>\n",
       "<span class=\"w\">    </span><span class=\"nt\">enabled</span><span class=\"p\">:</span><span class=\"w\"> </span><span class=\"l l-Scalar l-Scalar-Plain\">true</span>\n",
       "<span class=\"w\">    </span><span class=\"nt\">features</span><span class=\"p\">:</span>\n",
       "<span class=\"w\">      </span><span class=\"nt\">log_instrs</span><span class=\"p\">:</span><span class=\"w\"> </span><span class=\"l l-Scalar l-Scalar-Plain\">true</span>\n",
       "<span class=\"w\">  </span><span class=\"nt\">host_x86</span><span class=\"p\">:</span>\n",
       "<span class=\"w\">    </span><span class=\"nt\">enabled</span><span class=\"p\">:</span><span class=\"w\"> </span><span class=\"l l-Scalar l-Scalar-Plain\">true</span>\n",
       "<span class=\"w\">    </span><span class=\"nt\">features</span><span class=\"p\">:</span><span class=\"w\"> </span><span class=\"p p-Indicator\">[]</span>\n",
       "<span class=\"w\">  </span><span class=\"nt\">tvm_cpu</span><span class=\"p\">:</span>\n",
       "<span class=\"w\">    </span><span class=\"nt\">enabled</span><span class=\"p\">:</span><span class=\"w\"> </span><span class=\"l l-Scalar l-Scalar-Plain\">true</span>\n",
       "<span class=\"w\">    </span><span class=\"nt\">features</span><span class=\"p\">:</span><span class=\"w\"> </span><span class=\"p p-Indicator\">[]</span>\n",
       "<span class=\"nt\">postprocesses</span><span class=\"p\">:</span>\n",
       "<span class=\"w\">  </span><span class=\"nt\">use</span><span class=\"p\">:</span><span class=\"w\"> </span><span class=\"p p-Indicator\">[]</span>\n",
       "<span class=\"nt\">vars</span><span class=\"p\">:</span>\n",
       "<span class=\"w\">  </span><span class=\"nt\">allow_extensions</span><span class=\"p\">:</span><span class=\"w\"> </span><span class=\"l l-Scalar l-Scalar-Plain\">false</span>\n",
       "<span class=\"w\">  </span><span class=\"nt\">runs_per_stage</span><span class=\"p\">:</span><span class=\"w\"> </span><span class=\"l l-Scalar l-Scalar-Plain\">true</span>\n",
       "<span class=\"w\">  </span><span class=\"nt\">riscv_gcc.dl_url</span><span class=\"p\">:</span><span class=\"w\"> </span><span class=\"s\">&quot;https://syncandshare.lrz.de/dl/fiD9HnHYkb2V8kNbVQYv242m/rv32gc.tar.gz&quot;</span>\n",
       "<span class=\"nt\">flags</span><span class=\"p\">:</span><span class=\"w\"> </span><span class=\"p p-Indicator\">{}</span>\n",
       "</pre></div>\n"
      ],
      "text/latex": [
       "\\begin{Verbatim}[commandchars=\\\\\\{\\}]\n",
       "\\PY{n+nn}{\\PYZhy{}\\PYZhy{}\\PYZhy{}}\n",
       "\\PY{c+c1}{\\PYZsh{} The MLONMCU\\PYZus{}HOME is filled in automatically when creating the environment}\n",
       "\\PY{n+nt}{home}\\PY{p}{:}\\PY{+w}{ }\\PY{l+s}{\\PYZdq{}}\\PY{c+cp}{\\PYZob{}\\PYZob{}} \\PY{n+nv}{home\\PYZus{}dir} \\PY{c+cp}{\\PYZcb{}\\PYZcb{}}\\PY{l+s}{\\PYZdq{}}\n",
       "\\PY{n+nt}{logging}\\PY{p}{:}\n",
       "\\PY{+w}{  }\\PY{n+nt}{level}\\PY{p}{:}\\PY{+w}{ }\\PY{l+lScalar+lScalarPlain}{INFO}\n",
       "\\PY{+w}{  }\\PY{n+nt}{to\\PYZus{}file}\\PY{p}{:}\\PY{+w}{ }\\PY{l+lScalar+lScalarPlain}{false}\n",
       "\\PY{+w}{  }\\PY{n+nt}{rotate}\\PY{p}{:}\\PY{+w}{ }\\PY{l+lScalar+lScalarPlain}{false}\n",
       "\\PY{n+nt}{cleanup}\\PY{p}{:}\n",
       "\\PY{+w}{  }\\PY{n+nt}{auto}\\PY{p}{:}\\PY{+w}{ }\\PY{l+lScalar+lScalarPlain}{true}\n",
       "\\PY{+w}{  }\\PY{n+nt}{keep}\\PY{p}{:}\\PY{+w}{ }\\PY{l+lScalar+lScalarPlain}{5}\n",
       "\\PY{c+c1}{\\PYZsh{} Default locations for certain directoriescan be changed here}\n",
       "\\PY{c+c1}{\\PYZsh{} Non\\PYZhy{}absolute paths will always be threated relative to the MLONMCU\\PYZus{}HOME}\n",
       "\\PY{n+nt}{paths}\\PY{p}{:}\n",
       "\\PY{+w}{  }\\PY{c+c1}{\\PYZsh{} Where the dependencies are downloaded and installed}\n",
       "\\PY{+w}{  }\\PY{n+nt}{deps}\\PY{p}{:}\\PY{+w}{ }\\PY{l+lScalar+lScalarPlain}{deps}\n",
       "\\PY{+w}{  }\\PY{c+c1}{\\PYZsh{} If logging to file is used keep logs in this directory}\n",
       "\\PY{+w}{  }\\PY{n+nt}{logs}\\PY{p}{:}\\PY{+w}{ }\\PY{l+lScalar+lScalarPlain}{logs}\n",
       "\\PY{+w}{  }\\PY{c+c1}{\\PYZsh{} Location where reports and artifacts are written to}\n",
       "\\PY{+w}{  }\\PY{n+nt}{results}\\PY{p}{:}\\PY{+w}{ }\\PY{l+lScalar+lScalarPlain}{results}\n",
       "\\PY{+w}{  }\\PY{c+c1}{\\PYZsh{} Directory where custom extensions can be integrated}\n",
       "\\PY{+w}{  }\\PY{n+nt}{plugins}\\PY{p}{:}\\PY{+w}{ }\\PY{l+lScalar+lScalarPlain}{plugins}\n",
       "\\PY{+w}{  }\\PY{c+c1}{\\PYZsh{} Directory for intermediate build products, should be located on a large enough drive}\n",
       "\\PY{+w}{  }\\PY{n+nt}{temp}\\PY{p}{:}\\PY{+w}{ }\\PY{l+lScalar+lScalarPlain}{temp}\n",
       "\\PY{+w}{  }\\PY{c+c1}{\\PYZsh{} A collection of models which will be used to look for models}\n",
       "\\PY{+w}{  }\\PY{c+c1}{\\PYZsh{} The paths will be checked in the order defined here stopping at the first match}\n",
       "\\PY{+w}{  }\\PY{c+c1}{\\PYZsh{} Non\\PYZhy{}existant paths will be skipped without throwing an error}\n",
       "\\PY{+w}{  }\\PY{n+nt}{models}\\PY{p}{:}\n",
       "\\PY{+w}{    }\\PY{p+pIndicator}{\\PYZhy{}}\\PY{+w}{ }\\PY{l+s}{\\PYZdq{}}\\PY{c+cp}{\\PYZob{}\\PYZob{}} \\PY{n+nv}{home\\PYZus{}dir} \\PY{c+cp}{\\PYZcb{}\\PYZcb{}}\\PY{l+s}{/models}\\PY{l+s}{\\PYZdq{}}\n",
       "\\PY{c+c1}{\\PYZsh{} Here default clone\\PYZus{}urls}\n",
       "\\PY{n+nt}{repos}\\PY{p}{:}\n",
       "\\PY{+w}{  }\\PY{n+nt}{tvm}\\PY{p}{:}\n",
       "\\PY{+w}{    }\\PY{n+nt}{url}\\PY{p}{:}\\PY{+w}{ }\\PY{l+s}{\\PYZdq{}}\\PY{l+s}{https://github.com/apache/tvm.git}\\PY{l+s}{\\PYZdq{}}\n",
       "\\PY{+w}{    }\\PY{n+nt}{ref}\\PY{p}{:}\\PY{+w}{ }\\PY{l+lScalar+lScalarPlain}{a9fcac1a47f4b57c1d9d828c7ed1d77452b02cc5}\n",
       "\\PY{+w}{    }\\PY{n+nt}{options}\\PY{p}{:}\n",
       "\\PY{+w}{      }\\PY{n+nt}{recursive}\\PY{p}{:}\\PY{+w}{ }\\PY{l+lScalar+lScalarPlain}{true}\n",
       "\\PY{+w}{  }\\PY{n+nt}{etiss}\\PY{p}{:}\n",
       "\\PY{+w}{    }\\PY{n+nt}{url}\\PY{p}{:}\\PY{+w}{ }\\PY{l+s}{\\PYZdq{}}\\PY{l+s}{https://github.com/tum\\PYZhy{}ei\\PYZhy{}eda/etiss.git}\\PY{l+s}{\\PYZdq{}}\n",
       "\\PY{+w}{    }\\PY{n+nt}{ref}\\PY{p}{:}\\PY{+w}{ }\\PY{l+lScalar+lScalarPlain}{40c0b920cf4072adf189211ca44291534355dcfd}\n",
       "\\PY{+w}{  }\\PY{n+nt}{mlif}\\PY{p}{:}\n",
       "\\PY{+w}{    }\\PY{n+nt}{url}\\PY{p}{:}\\PY{+w}{ }\\PY{l+s}{\\PYZdq{}}\\PY{l+s}{https://github.com/tum\\PYZhy{}ei\\PYZhy{}eda/mlonmcu\\PYZhy{}sw.git}\\PY{l+s}{\\PYZdq{}}\n",
       "\\PY{+w}{    }\\PY{n+nt}{ref}\\PY{p}{:}\\PY{+w}{ }\\PY{l+lScalar+lScalarPlain}{c7b0e7364c232666ebd5a17476181e3ff9a71d70}\n",
       "\\PY{+w}{  }\\PY{n+nt}{tflite\\PYZus{}pack}\\PY{p}{:}\n",
       "\\PY{+w}{    }\\PY{n+nt}{url}\\PY{p}{:}\\PY{+w}{ }\\PY{l+s}{\\PYZdq{}}\\PY{l+s}{https://github.com/tum\\PYZhy{}ei\\PYZhy{}eda/tflite\\PYZhy{}pack.git}\\PY{l+s}{\\PYZdq{}}\n",
       "\\PY{+w}{    }\\PY{n+nt}{ref}\\PY{p}{:}\\PY{+w}{ }\\PY{l+lScalar+lScalarPlain}{2d31cafc941d3889b042af9c0a72b5f768ac4606}\n",
       "\\PY{n+nt}{frameworks}\\PY{p}{:}\n",
       "\\PY{+w}{  }\\PY{n+nt}{default}\\PY{p}{:}\\PY{+w}{ }\\PY{l+lScalar+lScalarPlain}{tvm}\n",
       "\\PY{+w}{  }\\PY{n+nt}{tvm}\\PY{p}{:}\n",
       "\\PY{+w}{    }\\PY{n+nt}{enabled}\\PY{p}{:}\\PY{+w}{ }\\PY{l+lScalar+lScalarPlain}{true}\n",
       "\\PY{+w}{    }\\PY{n+nt}{backends}\\PY{p}{:}\n",
       "\\PY{+w}{      }\\PY{n+nt}{default}\\PY{p}{:}\\PY{+w}{ }\\PY{l+lScalar+lScalarPlain}{tvmaotplus}\n",
       "\\PY{+w}{      }\\PY{n+nt}{tvmaotplus}\\PY{p}{:}\n",
       "\\PY{+w}{        }\\PY{n+nt}{enabled}\\PY{p}{:}\\PY{+w}{ }\\PY{l+lScalar+lScalarPlain}{true}\n",
       "\\PY{+w}{        }\\PY{n+nt}{features}\\PY{p}{:}\\PY{+w}{ }\\PY{p+pIndicator}{\\PYZob{}}\\PY{p+pIndicator}{\\PYZcb{}}\n",
       "\\PY{+w}{      }\\PY{n+nt}{tvmllvm}\\PY{p}{:}\n",
       "\\PY{+w}{        }\\PY{n+nt}{enabled}\\PY{p}{:}\\PY{+w}{ }\\PY{l+lScalar+lScalarPlain}{true}\n",
       "\\PY{+w}{        }\\PY{n+nt}{features}\\PY{p}{:}\\PY{+w}{ }\\PY{p+pIndicator}{\\PYZob{}}\\PY{p+pIndicator}{\\PYZcb{}}\n",
       "\\PY{+w}{    }\\PY{n+nt}{features}\\PY{p}{:}\\PY{+w}{ }\\PY{p+pIndicator}{\\PYZob{}}\\PY{p+pIndicator}{\\PYZcb{}}\n",
       "\\PY{n+nt}{frontends}\\PY{p}{:}\n",
       "\\PY{+w}{  }\\PY{n+nt}{tflite}\\PY{p}{:}\n",
       "\\PY{+w}{    }\\PY{n+nt}{enabled}\\PY{p}{:}\\PY{+w}{ }\\PY{l+lScalar+lScalarPlain}{true}\n",
       "\\PY{+w}{    }\\PY{n+nt}{features}\\PY{p}{:}\n",
       "\\PY{+w}{      }\\PY{n+nt}{split\\PYZus{}layers}\\PY{p}{:}\\PY{+w}{ }\\PY{l+lScalar+lScalarPlain}{true}\n",
       "\\PY{n+nt}{toolchains}\\PY{p}{:}\n",
       "\\PY{+w}{  }\\PY{n+nt}{gcc}\\PY{p}{:}\\PY{+w}{ }\\PY{l+lScalar+lScalarPlain}{true}\n",
       "\\PY{n+nt}{platforms}\\PY{p}{:}\n",
       "\\PY{+w}{  }\\PY{n+nt}{mlif}\\PY{p}{:}\n",
       "\\PY{+w}{    }\\PY{n+nt}{enabled}\\PY{p}{:}\\PY{+w}{ }\\PY{l+lScalar+lScalarPlain}{true}\n",
       "\\PY{+w}{    }\\PY{n+nt}{features}\\PY{p}{:}\n",
       "\\PY{+w}{      }\\PY{n+nt}{debug}\\PY{p}{:}\\PY{+w}{ }\\PY{l+lScalar+lScalarPlain}{true}\n",
       "\\PY{+w}{  }\\PY{n+nt}{tvm}\\PY{p}{:}\n",
       "\\PY{+w}{    }\\PY{n+nt}{enabled}\\PY{p}{:}\\PY{+w}{ }\\PY{l+lScalar+lScalarPlain}{true}\n",
       "\\PY{+w}{    }\\PY{n+nt}{features}\\PY{p}{:}\n",
       "\\PY{+w}{      }\\PY{n+nt}{tvm\\PYZus{}profile}\\PY{p}{:}\\PY{+w}{ }\\PY{l+lScalar+lScalarPlain}{true}\n",
       "\\PY{n+nt}{targets}\\PY{p}{:}\n",
       "\\PY{+w}{  }\\PY{n+nt}{default}\\PY{p}{:}\\PY{+w}{ }\\PY{l+lScalar+lScalarPlain}{host\\PYZus{}x86}\n",
       "\\PY{+w}{  }\\PY{n+nt}{etiss}\\PY{p}{:}\n",
       "\\PY{+w}{    }\\PY{n+nt}{enabled}\\PY{p}{:}\\PY{+w}{ }\\PY{l+lScalar+lScalarPlain}{true}\n",
       "\\PY{+w}{    }\\PY{n+nt}{features}\\PY{p}{:}\n",
       "\\PY{+w}{      }\\PY{n+nt}{log\\PYZus{}instrs}\\PY{p}{:}\\PY{+w}{ }\\PY{l+lScalar+lScalarPlain}{true}\n",
       "\\PY{+w}{  }\\PY{n+nt}{host\\PYZus{}x86}\\PY{p}{:}\n",
       "\\PY{+w}{    }\\PY{n+nt}{enabled}\\PY{p}{:}\\PY{+w}{ }\\PY{l+lScalar+lScalarPlain}{true}\n",
       "\\PY{+w}{    }\\PY{n+nt}{features}\\PY{p}{:}\\PY{+w}{ }\\PY{p+pIndicator}{[}\\PY{p+pIndicator}{]}\n",
       "\\PY{+w}{  }\\PY{n+nt}{tvm\\PYZus{}cpu}\\PY{p}{:}\n",
       "\\PY{+w}{    }\\PY{n+nt}{enabled}\\PY{p}{:}\\PY{+w}{ }\\PY{l+lScalar+lScalarPlain}{true}\n",
       "\\PY{+w}{    }\\PY{n+nt}{features}\\PY{p}{:}\\PY{+w}{ }\\PY{p+pIndicator}{[}\\PY{p+pIndicator}{]}\n",
       "\\PY{n+nt}{postprocesses}\\PY{p}{:}\n",
       "\\PY{+w}{  }\\PY{n+nt}{use}\\PY{p}{:}\\PY{+w}{ }\\PY{p+pIndicator}{[}\\PY{p+pIndicator}{]}\n",
       "\\PY{n+nt}{vars}\\PY{p}{:}\n",
       "\\PY{+w}{  }\\PY{n+nt}{allow\\PYZus{}extensions}\\PY{p}{:}\\PY{+w}{ }\\PY{l+lScalar+lScalarPlain}{false}\n",
       "\\PY{+w}{  }\\PY{n+nt}{runs\\PYZus{}per\\PYZus{}stage}\\PY{p}{:}\\PY{+w}{ }\\PY{l+lScalar+lScalarPlain}{true}\n",
       "\\PY{+w}{  }\\PY{n+nt}{riscv\\PYZus{}gcc.dl\\PYZus{}url}\\PY{p}{:}\\PY{+w}{ }\\PY{l+s}{\\PYZdq{}}\\PY{l+s}{https://syncandshare.lrz.de/dl/fiD9HnHYkb2V8kNbVQYv242m/rv32gc.tar.gz}\\PY{l+s}{\\PYZdq{}}\n",
       "\\PY{n+nt}{flags}\\PY{p}{:}\\PY{+w}{ }\\PY{p+pIndicator}{\\PYZob{}}\\PY{p+pIndicator}{\\PYZcb{}}\n",
       "\\end{Verbatim}\n"
      ],
      "text/plain": [
       "---\n",
       "# The MLONMCU_HOME is filled in automatically when creating the environment\n",
       "home: \"{{ home_dir }}\"\n",
       "logging:\n",
       "  level: INFO\n",
       "  to_file: false\n",
       "  rotate: false\n",
       "cleanup:\n",
       "  auto: true\n",
       "  keep: 5\n",
       "# Default locations for certain directoriescan be changed here\n",
       "# Non-absolute paths will always be threated relative to the MLONMCU_HOME\n",
       "paths:\n",
       "  # Where the dependencies are downloaded and installed\n",
       "  deps: deps\n",
       "  # If logging to file is used keep logs in this directory\n",
       "  logs: logs\n",
       "  # Location where reports and artifacts are written to\n",
       "  results: results\n",
       "  # Directory where custom extensions can be integrated\n",
       "  plugins: plugins\n",
       "  # Directory for intermediate build products, should be located on a large enough drive\n",
       "  temp: temp\n",
       "  # A collection of models which will be used to look for models\n",
       "  # The paths will be checked in the order defined here stopping at the first match\n",
       "  # Non-existant paths will be skipped without throwing an error\n",
       "  models:\n",
       "    - \"{{ home_dir }}/models\"\n",
       "# Here default clone_urls\n",
       "repos:\n",
       "  tvm:\n",
       "    url: \"https://github.com/apache/tvm.git\"\n",
       "    ref: a9fcac1a47f4b57c1d9d828c7ed1d77452b02cc5\n",
       "    options:\n",
       "      recursive: true\n",
       "  etiss:\n",
       "    url: \"https://github.com/tum-ei-eda/etiss.git\"\n",
       "    ref: 40c0b920cf4072adf189211ca44291534355dcfd\n",
       "  mlif:\n",
       "    url: \"https://github.com/tum-ei-eda/mlonmcu-sw.git\"\n",
       "    ref: c7b0e7364c232666ebd5a17476181e3ff9a71d70\n",
       "  tflite_pack:\n",
       "    url: \"https://github.com/tum-ei-eda/tflite-pack.git\"\n",
       "    ref: 2d31cafc941d3889b042af9c0a72b5f768ac4606\n",
       "frameworks:\n",
       "  default: tvm\n",
       "  tvm:\n",
       "    enabled: true\n",
       "    backends:\n",
       "      default: tvmaotplus\n",
       "      tvmaotplus:\n",
       "        enabled: true\n",
       "        features: {}\n",
       "      tvmllvm:\n",
       "        enabled: true\n",
       "        features: {}\n",
       "    features: {}\n",
       "frontends:\n",
       "  tflite:\n",
       "    enabled: true\n",
       "    features:\n",
       "      split_layers: true\n",
       "toolchains:\n",
       "  gcc: true\n",
       "platforms:\n",
       "  mlif:\n",
       "    enabled: true\n",
       "    features:\n",
       "      debug: true\n",
       "  tvm:\n",
       "    enabled: true\n",
       "    features:\n",
       "      tvm_profile: true\n",
       "targets:\n",
       "  default: host_x86\n",
       "  etiss:\n",
       "    enabled: true\n",
       "    features:\n",
       "      log_instrs: true\n",
       "  host_x86:\n",
       "    enabled: true\n",
       "    features: []\n",
       "  tvm_cpu:\n",
       "    enabled: true\n",
       "    features: []\n",
       "postprocesses:\n",
       "  use: []\n",
       "vars:\n",
       "  allow_extensions: false\n",
       "  runs_per_stage: true\n",
       "  riscv_gcc.dl_url: \"https://syncandshare.lrz.de/dl/fiD9HnHYkb2V8kNbVQYv242m/rv32gc.tar.gz\"\n",
       "flags: {}"
      ]
     },
     "execution_count": 11,
     "metadata": {},
     "output_type": "execute_result"
    }
   ],
   "source": [
    "Code(filename=\"environment.yml.j2\")"
   ]
  },
  {
   "cell_type": "markdown",
   "id": "aea3abab",
   "metadata": {
    "papermill": {
     "duration": 0.008674,
     "end_time": "2023-12-31T11:59:13.700492",
     "exception": false,
     "start_time": "2023-12-31T11:59:13.691818",
     "status": "completed"
    },
    "tags": []
   },
   "source": [
    "Do not forget to set your `MLONMCU_HOME` environment variable first if not using the default location!"
   ]
  },
  {
   "cell_type": "markdown",
   "id": "06760327",
   "metadata": {
    "papermill": {
     "duration": 0.008684,
     "end_time": "2023-12-31T11:59:13.717875",
     "exception": false,
     "start_time": "2023-12-31T11:59:13.709191",
     "status": "completed"
    },
    "tags": []
   },
   "source": [
    "### Usage"
   ]
  },
  {
   "cell_type": "markdown",
   "id": "bfb3a68f",
   "metadata": {
    "papermill": {
     "duration": 0.008709,
     "end_time": "2023-12-31T11:59:13.735352",
     "exception": false,
     "start_time": "2023-12-31T11:59:13.726643",
     "status": "completed"
    },
    "tags": []
   },
   "source": [
    "The following examples demonstrate the `tvm_profile` of the TVM and MicroTVM platform."
   ]
  },
  {
   "cell_type": "markdown",
   "id": "5dc993c4",
   "metadata": {
    "papermill": {
     "duration": 0.008659,
     "end_time": "2023-12-31T11:59:13.752757",
     "exception": false,
     "start_time": "2023-12-31T11:59:13.744098",
     "status": "completed"
    },
    "tags": []
   },
   "source": [
    "#### A) Command Line Interface"
   ]
  },
  {
   "cell_type": "markdown",
   "id": "fb42b68b",
   "metadata": {
    "papermill": {
     "duration": 0.008813,
     "end_time": "2023-12-31T11:59:13.770352",
     "exception": false,
     "start_time": "2023-12-31T11:59:13.761539",
     "status": "completed"
    },
    "tags": []
   },
   "source": [
    "First define a simple benchmark of a single model/backend/target combination:"
   ]
  },
  {
   "cell_type": "code",
   "execution_count": 12,
   "id": "ba9203cf",
   "metadata": {
    "execution": {
     "iopub.execute_input": "2023-12-31T11:59:13.788734Z",
     "iopub.status.busy": "2023-12-31T11:59:13.788485Z",
     "iopub.status.idle": "2023-12-31T11:59:23.455042Z",
     "shell.execute_reply": "2023-12-31T11:59:23.454320Z"
    },
    "papermill": {
     "duration": 9.677756,
     "end_time": "2023-12-31T11:59:23.456848",
     "exception": false,
     "start_time": "2023-12-31T11:59:13.779092",
     "status": "completed"
    },
    "tags": []
   },
   "outputs": [
    {
     "name": "stdout",
     "output_type": "stream",
     "text": [
      "INFO - Loading environment cache from file\r\n",
      "INFO - Successfully initialized cache\r\n"
     ]
    },
    {
     "name": "stdout",
     "output_type": "stream",
     "text": [
      "INFO - [session-3]  Processing stage LOAD\r\n"
     ]
    },
    {
     "name": "stdout",
     "output_type": "stream",
     "text": [
      "INFO - [session-3]  Processing stage BUILD\r\n"
     ]
    },
    {
     "name": "stdout",
     "output_type": "stream",
     "text": [
      "INFO - [session-3]  Processing stage RUN\r\n"
     ]
    },
    {
     "name": "stdout",
     "output_type": "stream",
     "text": [
      "INFO - All runs completed successfuly!\r\n",
      "INFO - Postprocessing session report\r\n",
      "INFO - [session-3] Done processing runs\r\n",
      "INFO - Report:\r\n",
      "   Session  Run   Model Frontend Framework  Backend Platform   Target  Runtime [s] Features                                             Config Postprocesses Comment\r\n",
      "0        3    0  resnet   tflite       tvm  tvmllvm      tvm  tvm_cpu     0.003539       []  {'resnet.output_shapes': {'Identity_int8': [1,...            []       -\r\n"
     ]
    }
   ],
   "source": [
    "!python -m mlonmcu.cli.main flow run resnet -b tvmllvm -t tvm_cpu"
   ]
  },
  {
   "cell_type": "markdown",
   "id": "4f73578c",
   "metadata": {
    "papermill": {
     "duration": 0.009001,
     "end_time": "2023-12-31T11:59:23.475340",
     "exception": false,
     "start_time": "2023-12-31T11:59:23.466339",
     "status": "completed"
    },
    "tags": []
   },
   "source": [
    "To enable TVM's profiling feature just just add `-f tvm_profile` to the command line:"
   ]
  },
  {
   "cell_type": "code",
   "execution_count": 13,
   "id": "ef315def",
   "metadata": {
    "execution": {
     "iopub.execute_input": "2023-12-31T11:59:23.494569Z",
     "iopub.status.busy": "2023-12-31T11:59:23.494331Z",
     "iopub.status.idle": "2023-12-31T11:59:33.323234Z",
     "shell.execute_reply": "2023-12-31T11:59:33.322416Z"
    },
    "papermill": {
     "duration": 9.84097,
     "end_time": "2023-12-31T11:59:33.325300",
     "exception": false,
     "start_time": "2023-12-31T11:59:23.484330",
     "status": "completed"
    },
    "tags": []
   },
   "outputs": [
    {
     "name": "stdout",
     "output_type": "stream",
     "text": [
      "INFO - Loading environment cache from file\r\n",
      "INFO - Successfully initialized cache\r\n"
     ]
    },
    {
     "name": "stdout",
     "output_type": "stream",
     "text": [
      "INFO - [session-4]  Processing stage LOAD\r\n"
     ]
    },
    {
     "name": "stdout",
     "output_type": "stream",
     "text": [
      "INFO - [session-4]  Processing stage BUILD\r\n"
     ]
    },
    {
     "name": "stdout",
     "output_type": "stream",
     "text": [
      "INFO - [session-4]  Processing stage RUN\r\n"
     ]
    },
    {
     "name": "stdout",
     "output_type": "stream",
     "text": [
      "INFO - All runs completed successfuly!\r\n",
      "INFO - Postprocessing session report\r\n",
      "INFO - [session-4] Done processing runs\r\n"
     ]
    },
    {
     "name": "stdout",
     "output_type": "stream",
     "text": [
      "INFO - Report:\r\n",
      "    Session  Run   Model Frontend Framework  Backend Platform   Target                                                Sub   Runtime [s]       Features                                             Config Postprocesses Comment\r\n",
      "0         4    0  resnet   tflite       tvm  tvmllvm      tvm  tvm_cpu                                                NaN  3.537100e-03  [tvm_profile]  {'resnet.output_shapes': {'Identity_int8': [1,...            []       -\r\n",
      "1         4    0  resnet   tflite       tvm  tvmllvm      tvm  tvm_cpu  tvmgen_default_fused_cast_subtract_fixed_point...  1.013630e-03  [tvm_profile]  {'resnet.output_shapes': {'Identity_int8': [1,...            []       -\r\n",
      "2         4    0  resnet   tflite       tvm  tvmllvm      tvm  tvm_cpu  tvmgen_default_fused_nn_conv2d_add_fixed_point...  8.898400e-04  [tvm_profile]  {'resnet.output_shapes': {'Identity_int8': [1,...            []       -\r\n",
      "3         4    0  resnet   tflite       tvm  tvmllvm      tvm  tvm_cpu  tvmgen_default_fused_nn_conv2d_add_fixed_point...  8.729900e-04  [tvm_profile]  {'resnet.output_shapes': {'Identity_int8': [1,...            []       -\r\n",
      "4         4    0  resnet   tflite       tvm  tvmllvm      tvm  tvm_cpu  tvmgen_default_fused_nn_conv2d_add_fixed_point...  6.423300e-04  [tvm_profile]  {'resnet.output_shapes': {'Identity_int8': [1,...            []       -\r\n",
      "5         4    0  resnet   tflite       tvm  tvmllvm      tvm  tvm_cpu  tvmgen_default_fused_nn_conv2d_add_fixed_point...  1.279900e-04  [tvm_profile]  {'resnet.output_shapes': {'Identity_int8': [1,...            []       -\r\n",
      "6         4    0  resnet   tflite       tvm  tvmllvm      tvm  tvm_cpu  tvmgen_default_fused_nn_conv2d_add_fixed_point...  1.041200e-04  [tvm_profile]  {'resnet.output_shapes': {'Identity_int8': [1,...            []       -\r\n",
      "7         4    0  resnet   tflite       tvm  tvmllvm      tvm  tvm_cpu  tvmgen_default_fused_nn_conv2d_add_fixed_point...  7.136000e-05  [tvm_profile]  {'resnet.output_shapes': {'Identity_int8': [1,...            []       -\r\n",
      "8         4    0  resnet   tflite       tvm  tvmllvm      tvm  tvm_cpu  tvmgen_default_fused_nn_conv2d_add_fixed_point...  5.690000e-05  [tvm_profile]  {'resnet.output_shapes': {'Identity_int8': [1,...            []       -\r\n",
      "9         4    0  resnet   tflite       tvm  tvmllvm      tvm  tvm_cpu  tvmgen_default_fused_nn_conv2d_add_fixed_point...  2.793000e-05  [tvm_profile]  {'resnet.output_shapes': {'Identity_int8': [1,...            []       -\r\n",
      "10        4    0  resnet   tflite       tvm  tvmllvm      tvm  tvm_cpu                 tvmgen_default_fused_cast_subtract  1.084000e-05  [tvm_profile]  {'resnet.output_shapes': {'Identity_int8': [1,...            []       -\r\n",
      "11        4    0  resnet   tflite       tvm  tvmllvm      tvm  tvm_cpu               tvmgen_default_fused_cast_subtract_1  9.340000e-06  [tvm_profile]  {'resnet.output_shapes': {'Identity_int8': [1,...            []       -\r\n",
      "12        4    0  resnet   tflite       tvm  tvmllvm      tvm  tvm_cpu  tvmgen_default_fused_nn_contrib_dense_pack_add...  9.130000e-06  [tvm_profile]  {'resnet.output_shapes': {'Identity_int8': [1,...            []       -\r\n",
      "13        4    0  resnet   tflite       tvm  tvmllvm      tvm  tvm_cpu            tvmgen_default_fused_nn_avg_pool2d_cast  8.500000e-07  [tvm_profile]  {'resnet.output_shapes': {'Identity_int8': [1,...            []       -\r\n",
      "14        4    0  resnet   tflite       tvm  tvmllvm      tvm  tvm_cpu  tvmgen_default_fused_nn_softmax_divide_round_a...  6.100000e-07  [tvm_profile]  {'resnet.output_shapes': {'Identity_int8': [1,...            []       -\r\n",
      "15        4    0  resnet   tflite       tvm  tvmllvm      tvm  tvm_cpu         tvmgen_default_fused_reshape_cast_subtract  3.300000e-07  [tvm_profile]  {'resnet.output_shapes': {'Identity_int8': [1,...            []       -\r\n"
     ]
    }
   ],
   "source": [
    "!python -m mlonmcu.cli.main flow run resnet -b tvmllvm -t tvm_cpu -f tvm_profile"
   ]
  },
  {
   "cell_type": "markdown",
   "id": "25f50cb1",
   "metadata": {
    "papermill": {
     "duration": 0.009421,
     "end_time": "2023-12-31T11:59:33.344647",
     "exception": false,
     "start_time": "2023-12-31T11:59:33.335226",
     "status": "completed"
    },
    "tags": []
   },
   "source": [
    "Since tvm used quite long function-names, this might not be very reaible. As a last step, let's try to improve that using the `filter_cols` postprocess:"
   ]
  },
  {
   "cell_type": "code",
   "execution_count": 14,
   "id": "7387412a",
   "metadata": {
    "execution": {
     "iopub.execute_input": "2023-12-31T11:59:33.364977Z",
     "iopub.status.busy": "2023-12-31T11:59:33.364512Z",
     "iopub.status.idle": "2023-12-31T11:59:43.164908Z",
     "shell.execute_reply": "2023-12-31T11:59:43.164194Z"
    },
    "papermill": {
     "duration": 9.812639,
     "end_time": "2023-12-31T11:59:43.166688",
     "exception": false,
     "start_time": "2023-12-31T11:59:33.354049",
     "status": "completed"
    },
    "tags": []
   },
   "outputs": [
    {
     "name": "stdout",
     "output_type": "stream",
     "text": [
      "INFO - Loading environment cache from file\r\n",
      "INFO - Successfully initialized cache\r\n"
     ]
    },
    {
     "name": "stdout",
     "output_type": "stream",
     "text": [
      "INFO - [session-5]  Processing stage LOAD\r\n"
     ]
    },
    {
     "name": "stdout",
     "output_type": "stream",
     "text": [
      "INFO - [session-5]  Processing stage BUILD\r\n"
     ]
    },
    {
     "name": "stdout",
     "output_type": "stream",
     "text": [
      "INFO - [session-5]  Processing stage RUN\r\n"
     ]
    },
    {
     "name": "stdout",
     "output_type": "stream",
     "text": [
      "INFO - [session-5]  Processing stage POSTPROCESS\r\n",
      "INFO - All runs completed successfuly!\r\n",
      "INFO - Postprocessing session report\r\n",
      "INFO - [session-5] Done processing runs\r\n"
     ]
    },
    {
     "name": "stdout",
     "output_type": "stream",
     "text": [
      "INFO - Report:\r\n",
      "     Model                                                Sub   Runtime [s]\r\n",
      "0   resnet                                                NaN  3.570700e-03\r\n",
      "1   resnet  tvmgen_default_fused_cast_subtract_fixed_point...  9.215800e-04\r\n",
      "2   resnet  tvmgen_default_fused_nn_conv2d_add_fixed_point...  8.921300e-04\r\n",
      "3   resnet  tvmgen_default_fused_nn_conv2d_add_fixed_point...  8.640100e-04\r\n",
      "4   resnet  tvmgen_default_fused_nn_conv2d_add_fixed_point...  4.906700e-04\r\n",
      "5   resnet  tvmgen_default_fused_nn_conv2d_add_fixed_point...  1.274400e-04\r\n",
      "6   resnet  tvmgen_default_fused_nn_conv2d_add_fixed_point...  1.052100e-04\r\n",
      "7   resnet  tvmgen_default_fused_nn_conv2d_add_fixed_point...  6.998000e-05\r\n",
      "8   resnet  tvmgen_default_fused_nn_conv2d_add_fixed_point...  5.398000e-05\r\n",
      "9   resnet  tvmgen_default_fused_nn_conv2d_add_fixed_point...  2.739000e-05\r\n",
      "10  resnet                 tvmgen_default_fused_cast_subtract  1.112000e-05\r\n",
      "11  resnet               tvmgen_default_fused_cast_subtract_1  1.047000e-05\r\n",
      "12  resnet  tvmgen_default_fused_nn_contrib_dense_pack_add...  9.400000e-06\r\n",
      "13  resnet            tvmgen_default_fused_nn_avg_pool2d_cast  8.000000e-07\r\n",
      "14  resnet  tvmgen_default_fused_nn_softmax_divide_round_a...  5.500000e-07\r\n",
      "15  resnet         tvmgen_default_fused_reshape_cast_subtract  3.200000e-07\r\n"
     ]
    }
   ],
   "source": [
    "!python -m mlonmcu.cli.main flow run resnet -b tvmllvm -t tvm_cpu -f tvm_profile \\\n",
    "        --postprocess filter_cols -c filter_cols.keep=\"Model,Sub,Runtime [s]\""
   ]
  },
  {
   "cell_type": "markdown",
   "id": "9923e157",
   "metadata": {
    "papermill": {
     "duration": 0.0098,
     "end_time": "2023-12-31T11:59:43.186782",
     "exception": false,
     "start_time": "2023-12-31T11:59:43.176982",
     "status": "completed"
    },
    "tags": []
   },
   "source": [
    "#### B) Python Scripting"
   ]
  },
  {
   "cell_type": "markdown",
   "id": "7b423f33",
   "metadata": {
    "papermill": {
     "duration": 0.009701,
     "end_time": "2023-12-31T11:59:43.206188",
     "exception": false,
     "start_time": "2023-12-31T11:59:43.196487",
     "status": "completed"
    },
    "tags": []
   },
   "source": [
    "Some imports"
   ]
  },
  {
   "cell_type": "code",
   "execution_count": 15,
   "id": "eb132851",
   "metadata": {
    "execution": {
     "iopub.execute_input": "2023-12-31T11:59:43.226940Z",
     "iopub.status.busy": "2023-12-31T11:59:43.226496Z",
     "iopub.status.idle": "2023-12-31T11:59:43.230227Z",
     "shell.execute_reply": "2023-12-31T11:59:43.229658Z"
    },
    "papermill": {
     "duration": 0.015681,
     "end_time": "2023-12-31T11:59:43.231580",
     "exception": false,
     "start_time": "2023-12-31T11:59:43.215899",
     "status": "completed"
    },
    "tags": []
   },
   "outputs": [],
   "source": [
    "from tempfile import TemporaryDirectory\n",
    "from pathlib import Path\n",
    "import pandas as pd\n",
    "\n",
    "from mlonmcu.context.context import MlonMcuContext\n",
    "from mlonmcu.session.run import RunStage"
   ]
  },
  {
   "cell_type": "markdown",
   "id": "728cde15",
   "metadata": {
    "papermill": {
     "duration": 0.009727,
     "end_time": "2023-12-31T11:59:43.251054",
     "exception": false,
     "start_time": "2023-12-31T11:59:43.241327",
     "status": "completed"
    },
    "tags": []
   },
   "source": [
    "Benchmark Configuration"
   ]
  },
  {
   "cell_type": "code",
   "execution_count": 16,
   "id": "0ddf80b5",
   "metadata": {
    "execution": {
     "iopub.execute_input": "2023-12-31T11:59:43.271577Z",
     "iopub.status.busy": "2023-12-31T11:59:43.271186Z",
     "iopub.status.idle": "2023-12-31T11:59:43.274475Z",
     "shell.execute_reply": "2023-12-31T11:59:43.273872Z"
    },
    "papermill": {
     "duration": 0.015032,
     "end_time": "2023-12-31T11:59:43.275803",
     "exception": false,
     "start_time": "2023-12-31T11:59:43.260771",
     "status": "completed"
    },
    "tags": []
   },
   "outputs": [],
   "source": [
    "FRONTEND = \"tflite\"\n",
    "MODEL = \"resnet\"\n",
    "BACKEND = \"tvmllvm\"\n",
    "PLATFORM = \"tvm\"\n",
    "TARGET = \"tvm_cpu\"\n",
    "FEATURES = [\"tvm_profile\"]\n",
    "CONFIG = {}\n",
    "POSTPROCESSES = []"
   ]
  },
  {
   "cell_type": "markdown",
   "id": "2b17fda4",
   "metadata": {
    "papermill": {
     "duration": 0.009802,
     "end_time": "2023-12-31T11:59:43.295448",
     "exception": false,
     "start_time": "2023-12-31T11:59:43.285646",
     "status": "completed"
    },
    "tags": []
   },
   "source": [
    "Initialize and run a single benchmark"
   ]
  },
  {
   "cell_type": "code",
   "execution_count": 17,
   "id": "4bdab219",
   "metadata": {
    "execution": {
     "iopub.execute_input": "2023-12-31T11:59:43.315948Z",
     "iopub.status.busy": "2023-12-31T11:59:43.315569Z",
     "iopub.status.idle": "2023-12-31T11:59:52.338499Z",
     "shell.execute_reply": "2023-12-31T11:59:52.337803Z"
    },
    "papermill": {
     "duration": 9.034707,
     "end_time": "2023-12-31T11:59:52.339877",
     "exception": false,
     "start_time": "2023-12-31T11:59:43.305170",
     "status": "completed"
    },
    "tags": []
   },
   "outputs": [
    {
     "name": "stdout",
     "output_type": "stream",
     "text": [
      "INFO - Loading environment cache from file\n"
     ]
    },
    {
     "name": "stdout",
     "output_type": "stream",
     "text": [
      "INFO - Successfully initialized cache\n"
     ]
    },
    {
     "name": "stdout",
     "output_type": "stream",
     "text": [
      "INFO - [session-6] Processing all stages\n"
     ]
    },
    {
     "name": "stdout",
     "output_type": "stream",
     "text": [
      "INFO - All runs completed successfuly!\n"
     ]
    },
    {
     "name": "stdout",
     "output_type": "stream",
     "text": [
      "INFO - Postprocessing session report\n"
     ]
    },
    {
     "name": "stdout",
     "output_type": "stream",
     "text": [
      "INFO - [session-6] Done processing runs\n"
     ]
    },
    {
     "data": {
      "text/html": [
       "<div>\n",
       "<style scoped>\n",
       "    .dataframe tbody tr th:only-of-type {\n",
       "        vertical-align: middle;\n",
       "    }\n",
       "\n",
       "    .dataframe tbody tr th {\n",
       "        vertical-align: top;\n",
       "    }\n",
       "\n",
       "    .dataframe thead th {\n",
       "        text-align: right;\n",
       "    }\n",
       "</style>\n",
       "<table border=\"1\" class=\"dataframe\">\n",
       "  <thead>\n",
       "    <tr style=\"text-align: right;\">\n",
       "      <th></th>\n",
       "      <th>Session</th>\n",
       "      <th>Run</th>\n",
       "      <th>Model</th>\n",
       "      <th>Frontend</th>\n",
       "      <th>Framework</th>\n",
       "      <th>Backend</th>\n",
       "      <th>Platform</th>\n",
       "      <th>Target</th>\n",
       "      <th>Sub</th>\n",
       "      <th>Runtime [s]</th>\n",
       "      <th>Features</th>\n",
       "      <th>Config</th>\n",
       "      <th>Postprocesses</th>\n",
       "      <th>Comment</th>\n",
       "    </tr>\n",
       "  </thead>\n",
       "  <tbody>\n",
       "    <tr>\n",
       "      <th>0</th>\n",
       "      <td>6</td>\n",
       "      <td>0</td>\n",
       "      <td>resnet</td>\n",
       "      <td>tflite</td>\n",
       "      <td>tvm</td>\n",
       "      <td>tvmllvm</td>\n",
       "      <td>tvm</td>\n",
       "      <td>tvm_cpu</td>\n",
       "      <td>NaN</td>\n",
       "      <td>3.536600e-03</td>\n",
       "      <td>[tvm_profile]</td>\n",
       "      <td>{'resnet.output_shapes': {'Identity_int8': [1,...</td>\n",
       "      <td>[]</td>\n",
       "      <td>-</td>\n",
       "    </tr>\n",
       "    <tr>\n",
       "      <th>1</th>\n",
       "      <td>6</td>\n",
       "      <td>0</td>\n",
       "      <td>resnet</td>\n",
       "      <td>tflite</td>\n",
       "      <td>tvm</td>\n",
       "      <td>tvmllvm</td>\n",
       "      <td>tvm</td>\n",
       "      <td>tvm_cpu</td>\n",
       "      <td>tvmgen_default_fused_nn_conv2d_add_fixed_point...</td>\n",
       "      <td>9.103700e-04</td>\n",
       "      <td>[tvm_profile]</td>\n",
       "      <td>{'resnet.output_shapes': {'Identity_int8': [1,...</td>\n",
       "      <td>[]</td>\n",
       "      <td>-</td>\n",
       "    </tr>\n",
       "    <tr>\n",
       "      <th>2</th>\n",
       "      <td>6</td>\n",
       "      <td>0</td>\n",
       "      <td>resnet</td>\n",
       "      <td>tflite</td>\n",
       "      <td>tvm</td>\n",
       "      <td>tvmllvm</td>\n",
       "      <td>tvm</td>\n",
       "      <td>tvm_cpu</td>\n",
       "      <td>tvmgen_default_fused_cast_subtract_fixed_point...</td>\n",
       "      <td>9.064100e-04</td>\n",
       "      <td>[tvm_profile]</td>\n",
       "      <td>{'resnet.output_shapes': {'Identity_int8': [1,...</td>\n",
       "      <td>[]</td>\n",
       "      <td>-</td>\n",
       "    </tr>\n",
       "    <tr>\n",
       "      <th>3</th>\n",
       "      <td>6</td>\n",
       "      <td>0</td>\n",
       "      <td>resnet</td>\n",
       "      <td>tflite</td>\n",
       "      <td>tvm</td>\n",
       "      <td>tvmllvm</td>\n",
       "      <td>tvm</td>\n",
       "      <td>tvm_cpu</td>\n",
       "      <td>tvmgen_default_fused_nn_conv2d_add_fixed_point...</td>\n",
       "      <td>8.634800e-04</td>\n",
       "      <td>[tvm_profile]</td>\n",
       "      <td>{'resnet.output_shapes': {'Identity_int8': [1,...</td>\n",
       "      <td>[]</td>\n",
       "      <td>-</td>\n",
       "    </tr>\n",
       "    <tr>\n",
       "      <th>4</th>\n",
       "      <td>6</td>\n",
       "      <td>0</td>\n",
       "      <td>resnet</td>\n",
       "      <td>tflite</td>\n",
       "      <td>tvm</td>\n",
       "      <td>tvmllvm</td>\n",
       "      <td>tvm</td>\n",
       "      <td>tvm_cpu</td>\n",
       "      <td>tvmgen_default_fused_nn_conv2d_add_fixed_point...</td>\n",
       "      <td>4.550700e-04</td>\n",
       "      <td>[tvm_profile]</td>\n",
       "      <td>{'resnet.output_shapes': {'Identity_int8': [1,...</td>\n",
       "      <td>[]</td>\n",
       "      <td>-</td>\n",
       "    </tr>\n",
       "    <tr>\n",
       "      <th>5</th>\n",
       "      <td>6</td>\n",
       "      <td>0</td>\n",
       "      <td>resnet</td>\n",
       "      <td>tflite</td>\n",
       "      <td>tvm</td>\n",
       "      <td>tvmllvm</td>\n",
       "      <td>tvm</td>\n",
       "      <td>tvm_cpu</td>\n",
       "      <td>tvmgen_default_fused_nn_conv2d_add_fixed_point...</td>\n",
       "      <td>1.289200e-04</td>\n",
       "      <td>[tvm_profile]</td>\n",
       "      <td>{'resnet.output_shapes': {'Identity_int8': [1,...</td>\n",
       "      <td>[]</td>\n",
       "      <td>-</td>\n",
       "    </tr>\n",
       "    <tr>\n",
       "      <th>6</th>\n",
       "      <td>6</td>\n",
       "      <td>0</td>\n",
       "      <td>resnet</td>\n",
       "      <td>tflite</td>\n",
       "      <td>tvm</td>\n",
       "      <td>tvmllvm</td>\n",
       "      <td>tvm</td>\n",
       "      <td>tvm_cpu</td>\n",
       "      <td>tvmgen_default_fused_nn_conv2d_add_fixed_point...</td>\n",
       "      <td>1.048800e-04</td>\n",
       "      <td>[tvm_profile]</td>\n",
       "      <td>{'resnet.output_shapes': {'Identity_int8': [1,...</td>\n",
       "      <td>[]</td>\n",
       "      <td>-</td>\n",
       "    </tr>\n",
       "    <tr>\n",
       "      <th>7</th>\n",
       "      <td>6</td>\n",
       "      <td>0</td>\n",
       "      <td>resnet</td>\n",
       "      <td>tflite</td>\n",
       "      <td>tvm</td>\n",
       "      <td>tvmllvm</td>\n",
       "      <td>tvm</td>\n",
       "      <td>tvm_cpu</td>\n",
       "      <td>tvmgen_default_fused_nn_conv2d_add_fixed_point...</td>\n",
       "      <td>7.077000e-05</td>\n",
       "      <td>[tvm_profile]</td>\n",
       "      <td>{'resnet.output_shapes': {'Identity_int8': [1,...</td>\n",
       "      <td>[]</td>\n",
       "      <td>-</td>\n",
       "    </tr>\n",
       "    <tr>\n",
       "      <th>8</th>\n",
       "      <td>6</td>\n",
       "      <td>0</td>\n",
       "      <td>resnet</td>\n",
       "      <td>tflite</td>\n",
       "      <td>tvm</td>\n",
       "      <td>tvmllvm</td>\n",
       "      <td>tvm</td>\n",
       "      <td>tvm_cpu</td>\n",
       "      <td>tvmgen_default_fused_nn_conv2d_add_fixed_point...</td>\n",
       "      <td>5.443000e-05</td>\n",
       "      <td>[tvm_profile]</td>\n",
       "      <td>{'resnet.output_shapes': {'Identity_int8': [1,...</td>\n",
       "      <td>[]</td>\n",
       "      <td>-</td>\n",
       "    </tr>\n",
       "    <tr>\n",
       "      <th>9</th>\n",
       "      <td>6</td>\n",
       "      <td>0</td>\n",
       "      <td>resnet</td>\n",
       "      <td>tflite</td>\n",
       "      <td>tvm</td>\n",
       "      <td>tvmllvm</td>\n",
       "      <td>tvm</td>\n",
       "      <td>tvm_cpu</td>\n",
       "      <td>tvmgen_default_fused_nn_conv2d_add_fixed_point...</td>\n",
       "      <td>2.745000e-05</td>\n",
       "      <td>[tvm_profile]</td>\n",
       "      <td>{'resnet.output_shapes': {'Identity_int8': [1,...</td>\n",
       "      <td>[]</td>\n",
       "      <td>-</td>\n",
       "    </tr>\n",
       "    <tr>\n",
       "      <th>10</th>\n",
       "      <td>6</td>\n",
       "      <td>0</td>\n",
       "      <td>resnet</td>\n",
       "      <td>tflite</td>\n",
       "      <td>tvm</td>\n",
       "      <td>tvmllvm</td>\n",
       "      <td>tvm</td>\n",
       "      <td>tvm_cpu</td>\n",
       "      <td>tvmgen_default_fused_cast_subtract</td>\n",
       "      <td>1.120000e-05</td>\n",
       "      <td>[tvm_profile]</td>\n",
       "      <td>{'resnet.output_shapes': {'Identity_int8': [1,...</td>\n",
       "      <td>[]</td>\n",
       "      <td>-</td>\n",
       "    </tr>\n",
       "    <tr>\n",
       "      <th>11</th>\n",
       "      <td>6</td>\n",
       "      <td>0</td>\n",
       "      <td>resnet</td>\n",
       "      <td>tflite</td>\n",
       "      <td>tvm</td>\n",
       "      <td>tvmllvm</td>\n",
       "      <td>tvm</td>\n",
       "      <td>tvm_cpu</td>\n",
       "      <td>tvmgen_default_fused_cast_subtract_1</td>\n",
       "      <td>9.680000e-06</td>\n",
       "      <td>[tvm_profile]</td>\n",
       "      <td>{'resnet.output_shapes': {'Identity_int8': [1,...</td>\n",
       "      <td>[]</td>\n",
       "      <td>-</td>\n",
       "    </tr>\n",
       "    <tr>\n",
       "      <th>12</th>\n",
       "      <td>6</td>\n",
       "      <td>0</td>\n",
       "      <td>resnet</td>\n",
       "      <td>tflite</td>\n",
       "      <td>tvm</td>\n",
       "      <td>tvmllvm</td>\n",
       "      <td>tvm</td>\n",
       "      <td>tvm_cpu</td>\n",
       "      <td>tvmgen_default_fused_nn_contrib_dense_pack_add...</td>\n",
       "      <td>9.420000e-06</td>\n",
       "      <td>[tvm_profile]</td>\n",
       "      <td>{'resnet.output_shapes': {'Identity_int8': [1,...</td>\n",
       "      <td>[]</td>\n",
       "      <td>-</td>\n",
       "    </tr>\n",
       "    <tr>\n",
       "      <th>13</th>\n",
       "      <td>6</td>\n",
       "      <td>0</td>\n",
       "      <td>resnet</td>\n",
       "      <td>tflite</td>\n",
       "      <td>tvm</td>\n",
       "      <td>tvmllvm</td>\n",
       "      <td>tvm</td>\n",
       "      <td>tvm_cpu</td>\n",
       "      <td>tvmgen_default_fused_nn_avg_pool2d_cast</td>\n",
       "      <td>8.100000e-07</td>\n",
       "      <td>[tvm_profile]</td>\n",
       "      <td>{'resnet.output_shapes': {'Identity_int8': [1,...</td>\n",
       "      <td>[]</td>\n",
       "      <td>-</td>\n",
       "    </tr>\n",
       "    <tr>\n",
       "      <th>14</th>\n",
       "      <td>6</td>\n",
       "      <td>0</td>\n",
       "      <td>resnet</td>\n",
       "      <td>tflite</td>\n",
       "      <td>tvm</td>\n",
       "      <td>tvmllvm</td>\n",
       "      <td>tvm</td>\n",
       "      <td>tvm_cpu</td>\n",
       "      <td>tvmgen_default_fused_nn_softmax_divide_round_a...</td>\n",
       "      <td>6.000000e-07</td>\n",
       "      <td>[tvm_profile]</td>\n",
       "      <td>{'resnet.output_shapes': {'Identity_int8': [1,...</td>\n",
       "      <td>[]</td>\n",
       "      <td>-</td>\n",
       "    </tr>\n",
       "    <tr>\n",
       "      <th>15</th>\n",
       "      <td>6</td>\n",
       "      <td>0</td>\n",
       "      <td>resnet</td>\n",
       "      <td>tflite</td>\n",
       "      <td>tvm</td>\n",
       "      <td>tvmllvm</td>\n",
       "      <td>tvm</td>\n",
       "      <td>tvm_cpu</td>\n",
       "      <td>tvmgen_default_fused_reshape_cast_subtract</td>\n",
       "      <td>3.100000e-07</td>\n",
       "      <td>[tvm_profile]</td>\n",
       "      <td>{'resnet.output_shapes': {'Identity_int8': [1,...</td>\n",
       "      <td>[]</td>\n",
       "      <td>-</td>\n",
       "    </tr>\n",
       "  </tbody>\n",
       "</table>\n",
       "</div>"
      ],
      "text/plain": [
       "    Session  Run   Model Frontend Framework  Backend Platform   Target  \\\n",
       "0         6    0  resnet   tflite       tvm  tvmllvm      tvm  tvm_cpu   \n",
       "1         6    0  resnet   tflite       tvm  tvmllvm      tvm  tvm_cpu   \n",
       "2         6    0  resnet   tflite       tvm  tvmllvm      tvm  tvm_cpu   \n",
       "3         6    0  resnet   tflite       tvm  tvmllvm      tvm  tvm_cpu   \n",
       "4         6    0  resnet   tflite       tvm  tvmllvm      tvm  tvm_cpu   \n",
       "5         6    0  resnet   tflite       tvm  tvmllvm      tvm  tvm_cpu   \n",
       "6         6    0  resnet   tflite       tvm  tvmllvm      tvm  tvm_cpu   \n",
       "7         6    0  resnet   tflite       tvm  tvmllvm      tvm  tvm_cpu   \n",
       "8         6    0  resnet   tflite       tvm  tvmllvm      tvm  tvm_cpu   \n",
       "9         6    0  resnet   tflite       tvm  tvmllvm      tvm  tvm_cpu   \n",
       "10        6    0  resnet   tflite       tvm  tvmllvm      tvm  tvm_cpu   \n",
       "11        6    0  resnet   tflite       tvm  tvmllvm      tvm  tvm_cpu   \n",
       "12        6    0  resnet   tflite       tvm  tvmllvm      tvm  tvm_cpu   \n",
       "13        6    0  resnet   tflite       tvm  tvmllvm      tvm  tvm_cpu   \n",
       "14        6    0  resnet   tflite       tvm  tvmllvm      tvm  tvm_cpu   \n",
       "15        6    0  resnet   tflite       tvm  tvmllvm      tvm  tvm_cpu   \n",
       "\n",
       "                                                  Sub   Runtime [s]  \\\n",
       "0                                                 NaN  3.536600e-03   \n",
       "1   tvmgen_default_fused_nn_conv2d_add_fixed_point...  9.103700e-04   \n",
       "2   tvmgen_default_fused_cast_subtract_fixed_point...  9.064100e-04   \n",
       "3   tvmgen_default_fused_nn_conv2d_add_fixed_point...  8.634800e-04   \n",
       "4   tvmgen_default_fused_nn_conv2d_add_fixed_point...  4.550700e-04   \n",
       "5   tvmgen_default_fused_nn_conv2d_add_fixed_point...  1.289200e-04   \n",
       "6   tvmgen_default_fused_nn_conv2d_add_fixed_point...  1.048800e-04   \n",
       "7   tvmgen_default_fused_nn_conv2d_add_fixed_point...  7.077000e-05   \n",
       "8   tvmgen_default_fused_nn_conv2d_add_fixed_point...  5.443000e-05   \n",
       "9   tvmgen_default_fused_nn_conv2d_add_fixed_point...  2.745000e-05   \n",
       "10                 tvmgen_default_fused_cast_subtract  1.120000e-05   \n",
       "11               tvmgen_default_fused_cast_subtract_1  9.680000e-06   \n",
       "12  tvmgen_default_fused_nn_contrib_dense_pack_add...  9.420000e-06   \n",
       "13            tvmgen_default_fused_nn_avg_pool2d_cast  8.100000e-07   \n",
       "14  tvmgen_default_fused_nn_softmax_divide_round_a...  6.000000e-07   \n",
       "15         tvmgen_default_fused_reshape_cast_subtract  3.100000e-07   \n",
       "\n",
       "         Features                                             Config  \\\n",
       "0   [tvm_profile]  {'resnet.output_shapes': {'Identity_int8': [1,...   \n",
       "1   [tvm_profile]  {'resnet.output_shapes': {'Identity_int8': [1,...   \n",
       "2   [tvm_profile]  {'resnet.output_shapes': {'Identity_int8': [1,...   \n",
       "3   [tvm_profile]  {'resnet.output_shapes': {'Identity_int8': [1,...   \n",
       "4   [tvm_profile]  {'resnet.output_shapes': {'Identity_int8': [1,...   \n",
       "5   [tvm_profile]  {'resnet.output_shapes': {'Identity_int8': [1,...   \n",
       "6   [tvm_profile]  {'resnet.output_shapes': {'Identity_int8': [1,...   \n",
       "7   [tvm_profile]  {'resnet.output_shapes': {'Identity_int8': [1,...   \n",
       "8   [tvm_profile]  {'resnet.output_shapes': {'Identity_int8': [1,...   \n",
       "9   [tvm_profile]  {'resnet.output_shapes': {'Identity_int8': [1,...   \n",
       "10  [tvm_profile]  {'resnet.output_shapes': {'Identity_int8': [1,...   \n",
       "11  [tvm_profile]  {'resnet.output_shapes': {'Identity_int8': [1,...   \n",
       "12  [tvm_profile]  {'resnet.output_shapes': {'Identity_int8': [1,...   \n",
       "13  [tvm_profile]  {'resnet.output_shapes': {'Identity_int8': [1,...   \n",
       "14  [tvm_profile]  {'resnet.output_shapes': {'Identity_int8': [1,...   \n",
       "15  [tvm_profile]  {'resnet.output_shapes': {'Identity_int8': [1,...   \n",
       "\n",
       "   Postprocesses Comment  \n",
       "0             []       -  \n",
       "1             []       -  \n",
       "2             []       -  \n",
       "3             []       -  \n",
       "4             []       -  \n",
       "5             []       -  \n",
       "6             []       -  \n",
       "7             []       -  \n",
       "8             []       -  \n",
       "9             []       -  \n",
       "10            []       -  \n",
       "11            []       -  \n",
       "12            []       -  \n",
       "13            []       -  \n",
       "14            []       -  \n",
       "15            []       -  "
      ]
     },
     "execution_count": 17,
     "metadata": {},
     "output_type": "execute_result"
    }
   ],
   "source": [
    "with MlonMcuContext() as context:\n",
    "    with context.create_session() as session:\n",
    "        run = session.create_run(config=CONFIG)\n",
    "        run.add_features_by_name(FEATURES, context=context)\n",
    "        run.add_frontend_by_name(FRONTEND, context=context)\n",
    "        run.add_model_by_name(MODEL, context=context)\n",
    "        run.add_platform_by_name(PLATFORM, context=context)\n",
    "        run.add_backend_by_name(BACKEND, context=context)\n",
    "        run.add_target_by_name(TARGET, context=context)\n",
    "        run.add_postprocesses_by_name(POSTPROCESSES)\n",
    "        session.process_runs(context=context)\n",
    "        report = session.get_reports()\n",
    "assert \"Failing\" not in report.df.columns\n",
    "report.df"
   ]
  },
  {
   "cell_type": "markdown",
   "id": "39937811",
   "metadata": {
    "papermill": {
     "duration": 0.01033,
     "end_time": "2023-12-31T11:59:52.360964",
     "exception": false,
     "start_time": "2023-12-31T11:59:52.350634",
     "status": "completed"
    },
    "tags": []
   },
   "source": [
    "After stripping it down to the essential data:"
   ]
  },
  {
   "cell_type": "code",
   "execution_count": 18,
   "id": "093c7340",
   "metadata": {
    "execution": {
     "iopub.execute_input": "2023-12-31T11:59:52.383191Z",
     "iopub.status.busy": "2023-12-31T11:59:52.382699Z",
     "iopub.status.idle": "2023-12-31T11:59:52.391599Z",
     "shell.execute_reply": "2023-12-31T11:59:52.390962Z"
    },
    "papermill": {
     "duration": 0.021648,
     "end_time": "2023-12-31T11:59:52.393019",
     "exception": false,
     "start_time": "2023-12-31T11:59:52.371371",
     "status": "completed"
    },
    "tags": []
   },
   "outputs": [
    {
     "data": {
      "text/html": [
       "<div>\n",
       "<style scoped>\n",
       "    .dataframe tbody tr th:only-of-type {\n",
       "        vertical-align: middle;\n",
       "    }\n",
       "\n",
       "    .dataframe tbody tr th {\n",
       "        vertical-align: top;\n",
       "    }\n",
       "\n",
       "    .dataframe thead th {\n",
       "        text-align: right;\n",
       "    }\n",
       "</style>\n",
       "<table border=\"1\" class=\"dataframe\">\n",
       "  <thead>\n",
       "    <tr style=\"text-align: right;\">\n",
       "      <th></th>\n",
       "      <th>Runtime [s]</th>\n",
       "    </tr>\n",
       "    <tr>\n",
       "      <th>Sub</th>\n",
       "      <th></th>\n",
       "    </tr>\n",
       "  </thead>\n",
       "  <tbody>\n",
       "    <tr>\n",
       "      <th>full</th>\n",
       "      <td>3.536600e-03</td>\n",
       "    </tr>\n",
       "    <tr>\n",
       "      <th>tvmgen_default_fused_nn_conv2d_add_fixed_point_multiply_per_axis_add_clip_cast_subtract</th>\n",
       "      <td>9.103700e-04</td>\n",
       "    </tr>\n",
       "    <tr>\n",
       "      <th>tvmgen_default_fused_cast_subtract_fixed_point_multiply_add_nn_conv2d_add_fixed_point_multiply__cc9246e62aa5afb_</th>\n",
       "      <td>9.064100e-04</td>\n",
       "    </tr>\n",
       "    <tr>\n",
       "      <th>tvmgen_default_fused_nn_conv2d_add_fixed_point_multiply_per_axis_add_clip_subtract_fixed_point__eb606f94f03ebac6_</th>\n",
       "      <td>8.634800e-04</td>\n",
       "    </tr>\n",
       "    <tr>\n",
       "      <th>tvmgen_default_fused_nn_conv2d_add_fixed_point_multiply_per_axis_add_clip_cast_subtract_1</th>\n",
       "      <td>4.550700e-04</td>\n",
       "    </tr>\n",
       "    <tr>\n",
       "      <th>tvmgen_default_fused_nn_conv2d_add_fixed_point_multiply_per_axis_add_clip_subtract_fixed_point__eb606f94f03ebac6__1</th>\n",
       "      <td>1.289200e-04</td>\n",
       "    </tr>\n",
       "    <tr>\n",
       "      <th>tvmgen_default_fused_nn_conv2d_add_fixed_point_multiply_per_axis_add_clip_cast</th>\n",
       "      <td>1.048800e-04</td>\n",
       "    </tr>\n",
       "    <tr>\n",
       "      <th>tvmgen_default_fused_nn_conv2d_add_fixed_point_multiply_per_axis_add_clip_cast_subtract_2</th>\n",
       "      <td>7.077000e-05</td>\n",
       "    </tr>\n",
       "    <tr>\n",
       "      <th>tvmgen_default_fused_nn_conv2d_add_fixed_point_multiply_per_axis_add_clip_subtract_fixed_point__26c49bbe582da641_</th>\n",
       "      <td>5.443000e-05</td>\n",
       "    </tr>\n",
       "    <tr>\n",
       "      <th>tvmgen_default_fused_nn_conv2d_add_fixed_point_multiply_per_axis_add_clip_subtract_fixed_point__cacd0002c6404764_</th>\n",
       "      <td>2.745000e-05</td>\n",
       "    </tr>\n",
       "    <tr>\n",
       "      <th>tvmgen_default_fused_cast_subtract</th>\n",
       "      <td>1.120000e-05</td>\n",
       "    </tr>\n",
       "    <tr>\n",
       "      <th>tvmgen_default_fused_cast_subtract_1</th>\n",
       "      <td>9.680000e-06</td>\n",
       "    </tr>\n",
       "    <tr>\n",
       "      <th>tvmgen_default_fused_nn_contrib_dense_pack_add_fixed_point_multiply_add_clip_subtract_cast_mult_1c9b307ace4645e7_</th>\n",
       "      <td>9.420000e-06</td>\n",
       "    </tr>\n",
       "    <tr>\n",
       "      <th>tvmgen_default_fused_nn_avg_pool2d_cast</th>\n",
       "      <td>8.100000e-07</td>\n",
       "    </tr>\n",
       "    <tr>\n",
       "      <th>tvmgen_default_fused_nn_softmax_divide_round_add_clip_cast</th>\n",
       "      <td>6.000000e-07</td>\n",
       "    </tr>\n",
       "    <tr>\n",
       "      <th>tvmgen_default_fused_reshape_cast_subtract</th>\n",
       "      <td>3.100000e-07</td>\n",
       "    </tr>\n",
       "  </tbody>\n",
       "</table>\n",
       "</div>"
      ],
      "text/plain": [
       "                                                     Runtime [s]\n",
       "Sub                                                             \n",
       "full                                                3.536600e-03\n",
       "tvmgen_default_fused_nn_conv2d_add_fixed_point_...  9.103700e-04\n",
       "tvmgen_default_fused_cast_subtract_fixed_point_...  9.064100e-04\n",
       "tvmgen_default_fused_nn_conv2d_add_fixed_point_...  8.634800e-04\n",
       "tvmgen_default_fused_nn_conv2d_add_fixed_point_...  4.550700e-04\n",
       "tvmgen_default_fused_nn_conv2d_add_fixed_point_...  1.289200e-04\n",
       "tvmgen_default_fused_nn_conv2d_add_fixed_point_...  1.048800e-04\n",
       "tvmgen_default_fused_nn_conv2d_add_fixed_point_...  7.077000e-05\n",
       "tvmgen_default_fused_nn_conv2d_add_fixed_point_...  5.443000e-05\n",
       "tvmgen_default_fused_nn_conv2d_add_fixed_point_...  2.745000e-05\n",
       "tvmgen_default_fused_cast_subtract                  1.120000e-05\n",
       "tvmgen_default_fused_cast_subtract_1                9.680000e-06\n",
       "tvmgen_default_fused_nn_contrib_dense_pack_add_...  9.420000e-06\n",
       "tvmgen_default_fused_nn_avg_pool2d_cast             8.100000e-07\n",
       "tvmgen_default_fused_nn_softmax_divide_round_ad...  6.000000e-07\n",
       "tvmgen_default_fused_reshape_cast_subtract          3.100000e-07"
      ]
     },
     "execution_count": 18,
     "metadata": {},
     "output_type": "execute_result"
    }
   ],
   "source": [
    "df = report.df\n",
    "df.drop([\"Session\", \"Run\", \"Frontend\", \"Model\", \"Framework\", \"Backend\", \"Platform\", \"Target\", \"Config\", \"Features\", \"Postprocesses\", \"Comment\"], axis=1, inplace=True)\n",
    "df.fillna(\"full\", inplace=True)\n",
    "df.set_index(\"Sub\", inplace=True)\n",
    "df"
   ]
  },
  {
   "cell_type": "code",
   "execution_count": null,
   "id": "0661e3b3",
   "metadata": {
    "papermill": {
     "duration": 0.010399,
     "end_time": "2023-12-31T11:59:52.414151",
     "exception": false,
     "start_time": "2023-12-31T11:59:52.403752",
     "status": "completed"
    },
    "tags": []
   },
   "outputs": [],
   "source": []
  }
 ],
 "metadata": {
  "kernelspec": {
   "display_name": "Python 3 (ipykernel)",
   "language": "python",
   "name": "python3"
  },
  "language_info": {
   "codemirror_mode": {
    "name": "ipython",
    "version": 3
   },
   "file_extension": ".py",
   "mimetype": "text/x-python",
   "name": "python",
   "nbconvert_exporter": "python",
   "pygments_lexer": "ipython3",
   "version": "3.8.18"
  },
  "papermill": {
   "default_parameters": {},
   "duration": 170.733952,
   "end_time": "2023-12-31T11:59:52.642141",
   "environment_variables": {},
   "exception": null,
   "input_path": "/home/runner/work/mlonmcu/mlonmcu/ipynb/Examples/PerLayerBenchmarking/PerLayerBenchmarking.ipynb",
   "output_path": "/home/runner/work/mlonmcu/mlonmcu/ipynb/Examples/PerLayerBenchmarking/PerLayerBenchmarking.ipynb",
   "parameters": {},
   "start_time": "2023-12-31T11:57:01.908189",
   "version": "2.5.0"
  }
 },
 "nbformat": 4,
 "nbformat_minor": 5
}
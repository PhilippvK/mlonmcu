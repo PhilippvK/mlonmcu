{
 "cells": [
  {
   "cell_type": "code",
   "execution_count": 1,
   "id": "7e65d484-33f9-484c-bc0a-d24bd0c1ee5c",
   "metadata": {
    "execution": {
     "iopub.execute_input": "2023-12-31T09:03:44.691048Z",
     "iopub.status.busy": "2023-12-31T09:03:44.690430Z",
     "iopub.status.idle": "2023-12-31T09:03:44.705447Z",
     "shell.execute_reply": "2023-12-31T09:03:44.704357Z"
    },
    "papermill": {
     "duration": 0.035215,
     "end_time": "2023-12-31T09:03:44.708502",
     "exception": false,
     "start_time": "2023-12-31T09:03:44.673287",
     "status": "completed"
    },
    "tags": []
   },
   "outputs": [],
   "source": [
    "from IPython.display import Code"
   ]
  },
  {
   "cell_type": "markdown",
   "id": "67a623c3",
   "metadata": {
    "papermill": {
     "duration": 0.011275,
     "end_time": "2023-12-31T09:03:44.734066",
     "exception": false,
     "start_time": "2023-12-31T09:03:44.722791",
     "status": "completed"
    },
    "tags": []
   },
   "source": [
    "# Example: Per-Layer Model Benchmarking"
   ]
  },
  {
   "cell_type": "markdown",
   "id": "1025ee11",
   "metadata": {
    "papermill": {
     "duration": 0.005897,
     "end_time": "2023-12-31T09:03:44.747990",
     "exception": false,
     "start_time": "2023-12-31T09:03:44.742093",
     "status": "completed"
    },
    "tags": []
   },
   "source": [
    "When investigating why a given model performs not as expected or implementing optimiations for specific types of layers, it is often useful to consider the runtime individual layers instead of the end-to-end execution time.\n",
    "\n",
    "MLonMCU currently supports to approaches for per-layer benchmarking:\n",
    "1. Using the `split_layers` feature of the `tflite` frontend\n",
    "2. Using the profiling feature provided by the `tvm` and `microtvm` (WIP) platform\n",
    "\n",
    "Both use-cases are explained briefly in the rest of this notebook."
   ]
  },
  {
   "cell_type": "markdown",
   "id": "c7164b6a",
   "metadata": {
    "papermill": {
     "duration": 0.004048,
     "end_time": "2023-12-31T09:03:44.756648",
     "exception": false,
     "start_time": "2023-12-31T09:03:44.752600",
     "status": "completed"
    },
    "tags": []
   },
   "source": [
    "## 1. Splitting TFLite Models into individual layers"
   ]
  },
  {
   "cell_type": "markdown",
   "id": "87fd1387",
   "metadata": {
    "papermill": {
     "duration": 0.004027,
     "end_time": "2023-12-31T09:03:44.764696",
     "exception": false,
     "start_time": "2023-12-31T09:03:44.760669",
     "status": "completed"
    },
    "tags": []
   },
   "source": [
    "### Supported components"
   ]
  },
  {
   "cell_type": "markdown",
   "id": "584a911d",
   "metadata": {
    "papermill": {
     "duration": 0.003982,
     "end_time": "2023-12-31T09:03:44.772783",
     "exception": false,
     "start_time": "2023-12-31T09:03:44.768801",
     "status": "completed"
    },
    "tags": []
   },
   "source": [
    "**Models:** Any (`resnet` used below)\n",
    "\n",
    "**Frontends:** `tflite` only\n",
    "\n",
    "**Frameworks/Backends:** Any (`tvmaotplus` used below)\n",
    "\n",
    "**Platforms/Targets:** Any (`etiss` used below)\n",
    "\n",
    "**Features:** The `split_layers` feature of the `tflite` frontend needs to be enabled"
   ]
  },
  {
   "cell_type": "markdown",
   "id": "74ce776e",
   "metadata": {
    "papermill": {
     "duration": 0.003999,
     "end_time": "2023-12-31T09:03:44.780753",
     "exception": false,
     "start_time": "2023-12-31T09:03:44.776754",
     "status": "completed"
    },
    "tags": []
   },
   "source": [
    "### Prerequisites"
   ]
  },
  {
   "cell_type": "markdown",
   "id": "7f8ebf19-728d-4acf-9339-5e77f7018798",
   "metadata": {
    "papermill": {
     "duration": 0.00397,
     "end_time": "2023-12-31T09:03:44.788662",
     "exception": false,
     "start_time": "2023-12-31T09:03:44.784692",
     "status": "completed"
    },
    "tags": []
   },
   "source": [
    "If not done already, setup a virtual python environment and install the required packages into it. (See `requirements.txt`)"
   ]
  },
  {
   "cell_type": "code",
   "execution_count": 2,
   "id": "d78d5f8e-de13-43ba-ad05-0137df1efa57",
   "metadata": {
    "execution": {
     "iopub.execute_input": "2023-12-31T09:03:44.798235Z",
     "iopub.status.busy": "2023-12-31T09:03:44.797933Z",
     "iopub.status.idle": "2023-12-31T09:03:44.858951Z",
     "shell.execute_reply": "2023-12-31T09:03:44.858309Z"
    },
    "papermill": {
     "duration": 0.069857,
     "end_time": "2023-12-31T09:03:44.862617",
     "exception": false,
     "start_time": "2023-12-31T09:03:44.792760",
     "status": "completed"
    },
    "tags": []
   },
   "outputs": [
    {
     "data": {
      "text/html": [
       "<style>pre { line-height: 125%; }\n",
       "td.linenos .normal { color: inherit; background-color: transparent; padding-left: 5px; padding-right: 5px; }\n",
       "span.linenos { color: inherit; background-color: transparent; padding-left: 5px; padding-right: 5px; }\n",
       "td.linenos .special { color: #000000; background-color: #ffffc0; padding-left: 5px; padding-right: 5px; }\n",
       "span.linenos.special { color: #000000; background-color: #ffffc0; padding-left: 5px; padding-right: 5px; }\n",
       ".output_html .hll { background-color: #ffffcc }\n",
       ".output_html { background: #f8f8f8; }\n",
       ".output_html .c { color: #3D7B7B; font-style: italic } /* Comment */\n",
       ".output_html .err { border: 1px solid #FF0000 } /* Error */\n",
       ".output_html .k { color: #008000; font-weight: bold } /* Keyword */\n",
       ".output_html .o { color: #666666 } /* Operator */\n",
       ".output_html .ch { color: #3D7B7B; font-style: italic } /* Comment.Hashbang */\n",
       ".output_html .cm { color: #3D7B7B; font-style: italic } /* Comment.Multiline */\n",
       ".output_html .cp { color: #9C6500 } /* Comment.Preproc */\n",
       ".output_html .cpf { color: #3D7B7B; font-style: italic } /* Comment.PreprocFile */\n",
       ".output_html .c1 { color: #3D7B7B; font-style: italic } /* Comment.Single */\n",
       ".output_html .cs { color: #3D7B7B; font-style: italic } /* Comment.Special */\n",
       ".output_html .gd { color: #A00000 } /* Generic.Deleted */\n",
       ".output_html .ge { font-style: italic } /* Generic.Emph */\n",
       ".output_html .ges { font-weight: bold; font-style: italic } /* Generic.EmphStrong */\n",
       ".output_html .gr { color: #E40000 } /* Generic.Error */\n",
       ".output_html .gh { color: #000080; font-weight: bold } /* Generic.Heading */\n",
       ".output_html .gi { color: #008400 } /* Generic.Inserted */\n",
       ".output_html .go { color: #717171 } /* Generic.Output */\n",
       ".output_html .gp { color: #000080; font-weight: bold } /* Generic.Prompt */\n",
       ".output_html .gs { font-weight: bold } /* Generic.Strong */\n",
       ".output_html .gu { color: #800080; font-weight: bold } /* Generic.Subheading */\n",
       ".output_html .gt { color: #0044DD } /* Generic.Traceback */\n",
       ".output_html .kc { color: #008000; font-weight: bold } /* Keyword.Constant */\n",
       ".output_html .kd { color: #008000; font-weight: bold } /* Keyword.Declaration */\n",
       ".output_html .kn { color: #008000; font-weight: bold } /* Keyword.Namespace */\n",
       ".output_html .kp { color: #008000 } /* Keyword.Pseudo */\n",
       ".output_html .kr { color: #008000; font-weight: bold } /* Keyword.Reserved */\n",
       ".output_html .kt { color: #B00040 } /* Keyword.Type */\n",
       ".output_html .m { color: #666666 } /* Literal.Number */\n",
       ".output_html .s { color: #BA2121 } /* Literal.String */\n",
       ".output_html .na { color: #687822 } /* Name.Attribute */\n",
       ".output_html .nb { color: #008000 } /* Name.Builtin */\n",
       ".output_html .nc { color: #0000FF; font-weight: bold } /* Name.Class */\n",
       ".output_html .no { color: #880000 } /* Name.Constant */\n",
       ".output_html .nd { color: #AA22FF } /* Name.Decorator */\n",
       ".output_html .ni { color: #717171; font-weight: bold } /* Name.Entity */\n",
       ".output_html .ne { color: #CB3F38; font-weight: bold } /* Name.Exception */\n",
       ".output_html .nf { color: #0000FF } /* Name.Function */\n",
       ".output_html .nl { color: #767600 } /* Name.Label */\n",
       ".output_html .nn { color: #0000FF; font-weight: bold } /* Name.Namespace */\n",
       ".output_html .nt { color: #008000; font-weight: bold } /* Name.Tag */\n",
       ".output_html .nv { color: #19177C } /* Name.Variable */\n",
       ".output_html .ow { color: #AA22FF; font-weight: bold } /* Operator.Word */\n",
       ".output_html .w { color: #bbbbbb } /* Text.Whitespace */\n",
       ".output_html .mb { color: #666666 } /* Literal.Number.Bin */\n",
       ".output_html .mf { color: #666666 } /* Literal.Number.Float */\n",
       ".output_html .mh { color: #666666 } /* Literal.Number.Hex */\n",
       ".output_html .mi { color: #666666 } /* Literal.Number.Integer */\n",
       ".output_html .mo { color: #666666 } /* Literal.Number.Oct */\n",
       ".output_html .sa { color: #BA2121 } /* Literal.String.Affix */\n",
       ".output_html .sb { color: #BA2121 } /* Literal.String.Backtick */\n",
       ".output_html .sc { color: #BA2121 } /* Literal.String.Char */\n",
       ".output_html .dl { color: #BA2121 } /* Literal.String.Delimiter */\n",
       ".output_html .sd { color: #BA2121; font-style: italic } /* Literal.String.Doc */\n",
       ".output_html .s2 { color: #BA2121 } /* Literal.String.Double */\n",
       ".output_html .se { color: #AA5D1F; font-weight: bold } /* Literal.String.Escape */\n",
       ".output_html .sh { color: #BA2121 } /* Literal.String.Heredoc */\n",
       ".output_html .si { color: #A45A77; font-weight: bold } /* Literal.String.Interpol */\n",
       ".output_html .sx { color: #008000 } /* Literal.String.Other */\n",
       ".output_html .sr { color: #A45A77 } /* Literal.String.Regex */\n",
       ".output_html .s1 { color: #BA2121 } /* Literal.String.Single */\n",
       ".output_html .ss { color: #19177C } /* Literal.String.Symbol */\n",
       ".output_html .bp { color: #008000 } /* Name.Builtin.Pseudo */\n",
       ".output_html .fm { color: #0000FF } /* Name.Function.Magic */\n",
       ".output_html .vc { color: #19177C } /* Name.Variable.Class */\n",
       ".output_html .vg { color: #19177C } /* Name.Variable.Global */\n",
       ".output_html .vi { color: #19177C } /* Name.Variable.Instance */\n",
       ".output_html .vm { color: #19177C } /* Name.Variable.Magic */\n",
       ".output_html .il { color: #666666 } /* Literal.Number.Integer.Long */</style><div class=\"highlight\"><pre><span></span>-r ../../requirements.txt\n",
       "attrs\n",
       "cloudpickle\n",
       "decorator\n",
       "numpy\n",
       "psutil\n",
       "scipy\n",
       "synr\n",
       "tornado\n",
       "typing_extensions\n",
       "tflite\n",
       "</pre></div>\n"
      ],
      "text/latex": [
       "\\begin{Verbatim}[commandchars=\\\\\\{\\}]\n",
       "\\PYZhy{}r ../../requirements.txt\n",
       "attrs\n",
       "cloudpickle\n",
       "decorator\n",
       "numpy\n",
       "psutil\n",
       "scipy\n",
       "synr\n",
       "tornado\n",
       "typing\\PYZus{}extensions\n",
       "tflite\n",
       "\\end{Verbatim}\n"
      ],
      "text/plain": [
       "-r ../../requirements.txt\n",
       "attrs\n",
       "cloudpickle\n",
       "decorator\n",
       "numpy\n",
       "psutil\n",
       "scipy\n",
       "synr\n",
       "tornado\n",
       "typing_extensions\n",
       "tflite"
      ]
     },
     "execution_count": 2,
     "metadata": {},
     "output_type": "execute_result"
    }
   ],
   "source": [
    "Code(filename=\"requirements.txt\")"
   ]
  },
  {
   "cell_type": "markdown",
   "id": "18955525",
   "metadata": {
    "papermill": {
     "duration": 0.007855,
     "end_time": "2023-12-31T09:03:44.882987",
     "exception": false,
     "start_time": "2023-12-31T09:03:44.875132",
     "status": "completed"
    },
    "tags": []
   },
   "source": [
    "Set up MLonmCU as usual, i.e. initialize an environment and install all required dependencies. Feel free to use the following minimal `environment.yml.j2` template:"
   ]
  },
  {
   "cell_type": "code",
   "execution_count": 3,
   "id": "7d284397-2c38-45b9-825e-586a5566e7e0",
   "metadata": {
    "execution": {
     "iopub.execute_input": "2023-12-31T09:03:44.895811Z",
     "iopub.status.busy": "2023-12-31T09:03:44.895379Z",
     "iopub.status.idle": "2023-12-31T09:03:44.944419Z",
     "shell.execute_reply": "2023-12-31T09:03:44.943750Z"
    },
    "papermill": {
     "duration": 0.059639,
     "end_time": "2023-12-31T09:03:44.948925",
     "exception": false,
     "start_time": "2023-12-31T09:03:44.889286",
     "status": "completed"
    },
    "tags": []
   },
   "outputs": [
    {
     "data": {
      "text/html": [
       "<style>pre { line-height: 125%; }\n",
       "td.linenos .normal { color: inherit; background-color: transparent; padding-left: 5px; padding-right: 5px; }\n",
       "span.linenos { color: inherit; background-color: transparent; padding-left: 5px; padding-right: 5px; }\n",
       "td.linenos .special { color: #000000; background-color: #ffffc0; padding-left: 5px; padding-right: 5px; }\n",
       "span.linenos.special { color: #000000; background-color: #ffffc0; padding-left: 5px; padding-right: 5px; }\n",
       ".output_html .hll { background-color: #ffffcc }\n",
       ".output_html { background: #f8f8f8; }\n",
       ".output_html .c { color: #3D7B7B; font-style: italic } /* Comment */\n",
       ".output_html .err { border: 1px solid #FF0000 } /* Error */\n",
       ".output_html .k { color: #008000; font-weight: bold } /* Keyword */\n",
       ".output_html .o { color: #666666 } /* Operator */\n",
       ".output_html .ch { color: #3D7B7B; font-style: italic } /* Comment.Hashbang */\n",
       ".output_html .cm { color: #3D7B7B; font-style: italic } /* Comment.Multiline */\n",
       ".output_html .cp { color: #9C6500 } /* Comment.Preproc */\n",
       ".output_html .cpf { color: #3D7B7B; font-style: italic } /* Comment.PreprocFile */\n",
       ".output_html .c1 { color: #3D7B7B; font-style: italic } /* Comment.Single */\n",
       ".output_html .cs { color: #3D7B7B; font-style: italic } /* Comment.Special */\n",
       ".output_html .gd { color: #A00000 } /* Generic.Deleted */\n",
       ".output_html .ge { font-style: italic } /* Generic.Emph */\n",
       ".output_html .ges { font-weight: bold; font-style: italic } /* Generic.EmphStrong */\n",
       ".output_html .gr { color: #E40000 } /* Generic.Error */\n",
       ".output_html .gh { color: #000080; font-weight: bold } /* Generic.Heading */\n",
       ".output_html .gi { color: #008400 } /* Generic.Inserted */\n",
       ".output_html .go { color: #717171 } /* Generic.Output */\n",
       ".output_html .gp { color: #000080; font-weight: bold } /* Generic.Prompt */\n",
       ".output_html .gs { font-weight: bold } /* Generic.Strong */\n",
       ".output_html .gu { color: #800080; font-weight: bold } /* Generic.Subheading */\n",
       ".output_html .gt { color: #0044DD } /* Generic.Traceback */\n",
       ".output_html .kc { color: #008000; font-weight: bold } /* Keyword.Constant */\n",
       ".output_html .kd { color: #008000; font-weight: bold } /* Keyword.Declaration */\n",
       ".output_html .kn { color: #008000; font-weight: bold } /* Keyword.Namespace */\n",
       ".output_html .kp { color: #008000 } /* Keyword.Pseudo */\n",
       ".output_html .kr { color: #008000; font-weight: bold } /* Keyword.Reserved */\n",
       ".output_html .kt { color: #B00040 } /* Keyword.Type */\n",
       ".output_html .m { color: #666666 } /* Literal.Number */\n",
       ".output_html .s { color: #BA2121 } /* Literal.String */\n",
       ".output_html .na { color: #687822 } /* Name.Attribute */\n",
       ".output_html .nb { color: #008000 } /* Name.Builtin */\n",
       ".output_html .nc { color: #0000FF; font-weight: bold } /* Name.Class */\n",
       ".output_html .no { color: #880000 } /* Name.Constant */\n",
       ".output_html .nd { color: #AA22FF } /* Name.Decorator */\n",
       ".output_html .ni { color: #717171; font-weight: bold } /* Name.Entity */\n",
       ".output_html .ne { color: #CB3F38; font-weight: bold } /* Name.Exception */\n",
       ".output_html .nf { color: #0000FF } /* Name.Function */\n",
       ".output_html .nl { color: #767600 } /* Name.Label */\n",
       ".output_html .nn { color: #0000FF; font-weight: bold } /* Name.Namespace */\n",
       ".output_html .nt { color: #008000; font-weight: bold } /* Name.Tag */\n",
       ".output_html .nv { color: #19177C } /* Name.Variable */\n",
       ".output_html .ow { color: #AA22FF; font-weight: bold } /* Operator.Word */\n",
       ".output_html .w { color: #bbbbbb } /* Text.Whitespace */\n",
       ".output_html .mb { color: #666666 } /* Literal.Number.Bin */\n",
       ".output_html .mf { color: #666666 } /* Literal.Number.Float */\n",
       ".output_html .mh { color: #666666 } /* Literal.Number.Hex */\n",
       ".output_html .mi { color: #666666 } /* Literal.Number.Integer */\n",
       ".output_html .mo { color: #666666 } /* Literal.Number.Oct */\n",
       ".output_html .sa { color: #BA2121 } /* Literal.String.Affix */\n",
       ".output_html .sb { color: #BA2121 } /* Literal.String.Backtick */\n",
       ".output_html .sc { color: #BA2121 } /* Literal.String.Char */\n",
       ".output_html .dl { color: #BA2121 } /* Literal.String.Delimiter */\n",
       ".output_html .sd { color: #BA2121; font-style: italic } /* Literal.String.Doc */\n",
       ".output_html .s2 { color: #BA2121 } /* Literal.String.Double */\n",
       ".output_html .se { color: #AA5D1F; font-weight: bold } /* Literal.String.Escape */\n",
       ".output_html .sh { color: #BA2121 } /* Literal.String.Heredoc */\n",
       ".output_html .si { color: #A45A77; font-weight: bold } /* Literal.String.Interpol */\n",
       ".output_html .sx { color: #008000 } /* Literal.String.Other */\n",
       ".output_html .sr { color: #A45A77 } /* Literal.String.Regex */\n",
       ".output_html .s1 { color: #BA2121 } /* Literal.String.Single */\n",
       ".output_html .ss { color: #19177C } /* Literal.String.Symbol */\n",
       ".output_html .bp { color: #008000 } /* Name.Builtin.Pseudo */\n",
       ".output_html .fm { color: #0000FF } /* Name.Function.Magic */\n",
       ".output_html .vc { color: #19177C } /* Name.Variable.Class */\n",
       ".output_html .vg { color: #19177C } /* Name.Variable.Global */\n",
       ".output_html .vi { color: #19177C } /* Name.Variable.Instance */\n",
       ".output_html .vm { color: #19177C } /* Name.Variable.Magic */\n",
       ".output_html .il { color: #666666 } /* Literal.Number.Integer.Long */</style><div class=\"highlight\"><pre><span></span><span class=\"nn\">---</span>\n",
       "<span class=\"c1\"># The MLONMCU_HOME is filled in automatically when creating the environment</span>\n",
       "<span class=\"nt\">home</span><span class=\"p\">:</span><span class=\"w\"> </span><span class=\"s\">&quot;</span><span class=\"cp\">{{</span> <span class=\"nv\">home_dir</span> <span class=\"cp\">}}</span><span class=\"s\">&quot;</span>\n",
       "<span class=\"nt\">logging</span><span class=\"p\">:</span>\n",
       "<span class=\"w\">  </span><span class=\"nt\">level</span><span class=\"p\">:</span><span class=\"w\"> </span><span class=\"l l-Scalar l-Scalar-Plain\">INFO</span>\n",
       "<span class=\"w\">  </span><span class=\"nt\">to_file</span><span class=\"p\">:</span><span class=\"w\"> </span><span class=\"l l-Scalar l-Scalar-Plain\">false</span>\n",
       "<span class=\"w\">  </span><span class=\"nt\">rotate</span><span class=\"p\">:</span><span class=\"w\"> </span><span class=\"l l-Scalar l-Scalar-Plain\">false</span>\n",
       "<span class=\"nt\">cleanup</span><span class=\"p\">:</span>\n",
       "<span class=\"w\">  </span><span class=\"nt\">auto</span><span class=\"p\">:</span><span class=\"w\"> </span><span class=\"l l-Scalar l-Scalar-Plain\">true</span>\n",
       "<span class=\"w\">  </span><span class=\"nt\">keep</span><span class=\"p\">:</span><span class=\"w\"> </span><span class=\"l l-Scalar l-Scalar-Plain\">5</span>\n",
       "<span class=\"c1\"># Default locations for certain directoriescan be changed here</span>\n",
       "<span class=\"c1\"># Non-absolute paths will always be threated relative to the MLONMCU_HOME</span>\n",
       "<span class=\"nt\">paths</span><span class=\"p\">:</span>\n",
       "<span class=\"w\">  </span><span class=\"c1\"># Where the dependencies are downloaded and installed</span>\n",
       "<span class=\"w\">  </span><span class=\"nt\">deps</span><span class=\"p\">:</span><span class=\"w\"> </span><span class=\"l l-Scalar l-Scalar-Plain\">deps</span>\n",
       "<span class=\"w\">  </span><span class=\"c1\"># If logging to file is used keep logs in this directory</span>\n",
       "<span class=\"w\">  </span><span class=\"nt\">logs</span><span class=\"p\">:</span><span class=\"w\"> </span><span class=\"l l-Scalar l-Scalar-Plain\">logs</span>\n",
       "<span class=\"w\">  </span><span class=\"c1\"># Location where reports and artifacts are written to</span>\n",
       "<span class=\"w\">  </span><span class=\"nt\">results</span><span class=\"p\">:</span><span class=\"w\"> </span><span class=\"l l-Scalar l-Scalar-Plain\">results</span>\n",
       "<span class=\"w\">  </span><span class=\"c1\"># Directory where custom extensions can be integrated</span>\n",
       "<span class=\"w\">  </span><span class=\"nt\">plugins</span><span class=\"p\">:</span><span class=\"w\"> </span><span class=\"l l-Scalar l-Scalar-Plain\">plugins</span>\n",
       "<span class=\"w\">  </span><span class=\"c1\"># Directory for intermediate build products, should be located on a large enough drive</span>\n",
       "<span class=\"w\">  </span><span class=\"nt\">temp</span><span class=\"p\">:</span><span class=\"w\"> </span><span class=\"l l-Scalar l-Scalar-Plain\">temp</span>\n",
       "<span class=\"w\">  </span><span class=\"c1\"># A collection of models which will be used to look for models</span>\n",
       "<span class=\"w\">  </span><span class=\"c1\"># The paths will be checked in the order defined here stopping at the first match</span>\n",
       "<span class=\"w\">  </span><span class=\"c1\"># Non-existant paths will be skipped without throwing an error</span>\n",
       "<span class=\"w\">  </span><span class=\"nt\">models</span><span class=\"p\">:</span>\n",
       "<span class=\"w\">    </span><span class=\"p p-Indicator\">-</span><span class=\"w\"> </span><span class=\"s\">&quot;</span><span class=\"cp\">{{</span> <span class=\"nv\">home_dir</span> <span class=\"cp\">}}</span><span class=\"s\">/models&quot;</span>\n",
       "<span class=\"c1\"># Here default clone_urls</span>\n",
       "<span class=\"nt\">repos</span><span class=\"p\">:</span>\n",
       "<span class=\"w\">  </span><span class=\"nt\">tvm</span><span class=\"p\">:</span>\n",
       "<span class=\"w\">    </span><span class=\"nt\">url</span><span class=\"p\">:</span><span class=\"w\"> </span><span class=\"s\">&quot;https://github.com/apache/tvm.git&quot;</span>\n",
       "<span class=\"w\">    </span><span class=\"nt\">ref</span><span class=\"p\">:</span><span class=\"w\"> </span><span class=\"l l-Scalar l-Scalar-Plain\">a9fcac1a47f4b57c1d9d828c7ed1d77452b02cc5</span>\n",
       "<span class=\"w\">    </span><span class=\"nt\">options</span><span class=\"p\">:</span>\n",
       "<span class=\"w\">      </span><span class=\"nt\">recursive</span><span class=\"p\">:</span><span class=\"w\"> </span><span class=\"l l-Scalar l-Scalar-Plain\">true</span>\n",
       "<span class=\"w\">  </span><span class=\"nt\">etiss</span><span class=\"p\">:</span>\n",
       "<span class=\"w\">    </span><span class=\"nt\">url</span><span class=\"p\">:</span><span class=\"w\"> </span><span class=\"s\">&quot;https://github.com/tum-ei-eda/etiss.git&quot;</span>\n",
       "<span class=\"w\">    </span><span class=\"nt\">ref</span><span class=\"p\">:</span><span class=\"w\"> </span><span class=\"l l-Scalar l-Scalar-Plain\">40c0b920cf4072adf189211ca44291534355dcfd</span>\n",
       "<span class=\"w\">  </span><span class=\"nt\">mlif</span><span class=\"p\">:</span>\n",
       "<span class=\"w\">    </span><span class=\"nt\">url</span><span class=\"p\">:</span><span class=\"w\"> </span><span class=\"s\">&quot;https://github.com/tum-ei-eda/mlonmcu-sw.git&quot;</span>\n",
       "<span class=\"w\">    </span><span class=\"nt\">ref</span><span class=\"p\">:</span><span class=\"w\"> </span><span class=\"l l-Scalar l-Scalar-Plain\">c7b0e7364c232666ebd5a17476181e3ff9a71d70</span>\n",
       "<span class=\"w\">  </span><span class=\"nt\">tflite_pack</span><span class=\"p\">:</span>\n",
       "<span class=\"w\">    </span><span class=\"nt\">url</span><span class=\"p\">:</span><span class=\"w\"> </span><span class=\"s\">&quot;https://github.com/tum-ei-eda/tflite-pack.git&quot;</span>\n",
       "<span class=\"w\">    </span><span class=\"nt\">ref</span><span class=\"p\">:</span><span class=\"w\"> </span><span class=\"l l-Scalar l-Scalar-Plain\">2d31cafc941d3889b042af9c0a72b5f768ac4606</span>\n",
       "<span class=\"nt\">frameworks</span><span class=\"p\">:</span>\n",
       "<span class=\"w\">  </span><span class=\"nt\">default</span><span class=\"p\">:</span><span class=\"w\"> </span><span class=\"l l-Scalar l-Scalar-Plain\">tvm</span>\n",
       "<span class=\"w\">  </span><span class=\"nt\">tvm</span><span class=\"p\">:</span>\n",
       "<span class=\"w\">    </span><span class=\"nt\">enabled</span><span class=\"p\">:</span><span class=\"w\"> </span><span class=\"l l-Scalar l-Scalar-Plain\">true</span>\n",
       "<span class=\"w\">    </span><span class=\"nt\">backends</span><span class=\"p\">:</span>\n",
       "<span class=\"w\">      </span><span class=\"nt\">default</span><span class=\"p\">:</span><span class=\"w\"> </span><span class=\"l l-Scalar l-Scalar-Plain\">tvmaotplus</span>\n",
       "<span class=\"w\">      </span><span class=\"nt\">tvmaotplus</span><span class=\"p\">:</span>\n",
       "<span class=\"w\">        </span><span class=\"nt\">enabled</span><span class=\"p\">:</span><span class=\"w\"> </span><span class=\"l l-Scalar l-Scalar-Plain\">true</span>\n",
       "<span class=\"w\">        </span><span class=\"nt\">features</span><span class=\"p\">:</span><span class=\"w\"> </span><span class=\"p p-Indicator\">{}</span>\n",
       "<span class=\"w\">      </span><span class=\"nt\">tvmllvm</span><span class=\"p\">:</span>\n",
       "<span class=\"w\">        </span><span class=\"nt\">enabled</span><span class=\"p\">:</span><span class=\"w\"> </span><span class=\"l l-Scalar l-Scalar-Plain\">true</span>\n",
       "<span class=\"w\">        </span><span class=\"nt\">features</span><span class=\"p\">:</span><span class=\"w\"> </span><span class=\"p p-Indicator\">{}</span>\n",
       "<span class=\"w\">    </span><span class=\"nt\">features</span><span class=\"p\">:</span><span class=\"w\"> </span><span class=\"p p-Indicator\">{}</span>\n",
       "<span class=\"nt\">frontends</span><span class=\"p\">:</span>\n",
       "<span class=\"w\">  </span><span class=\"nt\">tflite</span><span class=\"p\">:</span>\n",
       "<span class=\"w\">    </span><span class=\"nt\">enabled</span><span class=\"p\">:</span><span class=\"w\"> </span><span class=\"l l-Scalar l-Scalar-Plain\">true</span>\n",
       "<span class=\"w\">    </span><span class=\"nt\">features</span><span class=\"p\">:</span>\n",
       "<span class=\"w\">      </span><span class=\"nt\">split_layers</span><span class=\"p\">:</span><span class=\"w\"> </span><span class=\"l l-Scalar l-Scalar-Plain\">true</span>\n",
       "<span class=\"nt\">toolchains</span><span class=\"p\">:</span>\n",
       "<span class=\"w\">  </span><span class=\"nt\">gcc</span><span class=\"p\">:</span><span class=\"w\"> </span><span class=\"l l-Scalar l-Scalar-Plain\">true</span>\n",
       "<span class=\"nt\">platforms</span><span class=\"p\">:</span>\n",
       "<span class=\"w\">  </span><span class=\"nt\">mlif</span><span class=\"p\">:</span>\n",
       "<span class=\"w\">    </span><span class=\"nt\">enabled</span><span class=\"p\">:</span><span class=\"w\"> </span><span class=\"l l-Scalar l-Scalar-Plain\">true</span>\n",
       "<span class=\"w\">    </span><span class=\"nt\">features</span><span class=\"p\">:</span>\n",
       "<span class=\"w\">      </span><span class=\"nt\">debug</span><span class=\"p\">:</span><span class=\"w\"> </span><span class=\"l l-Scalar l-Scalar-Plain\">true</span>\n",
       "<span class=\"w\">  </span><span class=\"nt\">tvm</span><span class=\"p\">:</span>\n",
       "<span class=\"w\">    </span><span class=\"nt\">enabled</span><span class=\"p\">:</span><span class=\"w\"> </span><span class=\"l l-Scalar l-Scalar-Plain\">true</span>\n",
       "<span class=\"w\">    </span><span class=\"nt\">features</span><span class=\"p\">:</span>\n",
       "<span class=\"w\">      </span><span class=\"nt\">tvm_profile</span><span class=\"p\">:</span><span class=\"w\"> </span><span class=\"l l-Scalar l-Scalar-Plain\">true</span>\n",
       "<span class=\"nt\">targets</span><span class=\"p\">:</span>\n",
       "<span class=\"w\">  </span><span class=\"nt\">default</span><span class=\"p\">:</span><span class=\"w\"> </span><span class=\"l l-Scalar l-Scalar-Plain\">host_x86</span>\n",
       "<span class=\"w\">  </span><span class=\"nt\">etiss</span><span class=\"p\">:</span>\n",
       "<span class=\"w\">    </span><span class=\"nt\">enabled</span><span class=\"p\">:</span><span class=\"w\"> </span><span class=\"l l-Scalar l-Scalar-Plain\">true</span>\n",
       "<span class=\"w\">    </span><span class=\"nt\">features</span><span class=\"p\">:</span>\n",
       "<span class=\"w\">      </span><span class=\"nt\">log_instrs</span><span class=\"p\">:</span><span class=\"w\"> </span><span class=\"l l-Scalar l-Scalar-Plain\">true</span>\n",
       "<span class=\"w\">  </span><span class=\"nt\">host_x86</span><span class=\"p\">:</span>\n",
       "<span class=\"w\">    </span><span class=\"nt\">enabled</span><span class=\"p\">:</span><span class=\"w\"> </span><span class=\"l l-Scalar l-Scalar-Plain\">true</span>\n",
       "<span class=\"w\">    </span><span class=\"nt\">features</span><span class=\"p\">:</span><span class=\"w\"> </span><span class=\"p p-Indicator\">[]</span>\n",
       "<span class=\"w\">  </span><span class=\"nt\">tvm_cpu</span><span class=\"p\">:</span>\n",
       "<span class=\"w\">    </span><span class=\"nt\">enabled</span><span class=\"p\">:</span><span class=\"w\"> </span><span class=\"l l-Scalar l-Scalar-Plain\">true</span>\n",
       "<span class=\"w\">    </span><span class=\"nt\">features</span><span class=\"p\">:</span><span class=\"w\"> </span><span class=\"p p-Indicator\">[]</span>\n",
       "<span class=\"nt\">postprocesses</span><span class=\"p\">:</span>\n",
       "<span class=\"w\">  </span><span class=\"nt\">use</span><span class=\"p\">:</span><span class=\"w\"> </span><span class=\"p p-Indicator\">[]</span>\n",
       "<span class=\"nt\">vars</span><span class=\"p\">:</span>\n",
       "<span class=\"w\">  </span><span class=\"nt\">allow_extensions</span><span class=\"p\">:</span><span class=\"w\"> </span><span class=\"l l-Scalar l-Scalar-Plain\">false</span>\n",
       "<span class=\"w\">  </span><span class=\"nt\">runs_per_stage</span><span class=\"p\">:</span><span class=\"w\"> </span><span class=\"l l-Scalar l-Scalar-Plain\">true</span>\n",
       "<span class=\"w\">  </span><span class=\"nt\">riscv_gcc.dl_url</span><span class=\"p\">:</span><span class=\"w\"> </span><span class=\"s\">&quot;https://syncandshare.lrz.de/dl/fiD9HnHYkb2V8kNbVQYv242m/rv32gc.tar.gz&quot;</span>\n",
       "<span class=\"nt\">flags</span><span class=\"p\">:</span><span class=\"w\"> </span><span class=\"p p-Indicator\">{}</span>\n",
       "</pre></div>\n"
      ],
      "text/latex": [
       "\\begin{Verbatim}[commandchars=\\\\\\{\\}]\n",
       "\\PY{n+nn}{\\PYZhy{}\\PYZhy{}\\PYZhy{}}\n",
       "\\PY{c+c1}{\\PYZsh{} The MLONMCU\\PYZus{}HOME is filled in automatically when creating the environment}\n",
       "\\PY{n+nt}{home}\\PY{p}{:}\\PY{+w}{ }\\PY{l+s}{\\PYZdq{}}\\PY{c+cp}{\\PYZob{}\\PYZob{}} \\PY{n+nv}{home\\PYZus{}dir} \\PY{c+cp}{\\PYZcb{}\\PYZcb{}}\\PY{l+s}{\\PYZdq{}}\n",
       "\\PY{n+nt}{logging}\\PY{p}{:}\n",
       "\\PY{+w}{  }\\PY{n+nt}{level}\\PY{p}{:}\\PY{+w}{ }\\PY{l+lScalar+lScalarPlain}{INFO}\n",
       "\\PY{+w}{  }\\PY{n+nt}{to\\PYZus{}file}\\PY{p}{:}\\PY{+w}{ }\\PY{l+lScalar+lScalarPlain}{false}\n",
       "\\PY{+w}{  }\\PY{n+nt}{rotate}\\PY{p}{:}\\PY{+w}{ }\\PY{l+lScalar+lScalarPlain}{false}\n",
       "\\PY{n+nt}{cleanup}\\PY{p}{:}\n",
       "\\PY{+w}{  }\\PY{n+nt}{auto}\\PY{p}{:}\\PY{+w}{ }\\PY{l+lScalar+lScalarPlain}{true}\n",
       "\\PY{+w}{  }\\PY{n+nt}{keep}\\PY{p}{:}\\PY{+w}{ }\\PY{l+lScalar+lScalarPlain}{5}\n",
       "\\PY{c+c1}{\\PYZsh{} Default locations for certain directoriescan be changed here}\n",
       "\\PY{c+c1}{\\PYZsh{} Non\\PYZhy{}absolute paths will always be threated relative to the MLONMCU\\PYZus{}HOME}\n",
       "\\PY{n+nt}{paths}\\PY{p}{:}\n",
       "\\PY{+w}{  }\\PY{c+c1}{\\PYZsh{} Where the dependencies are downloaded and installed}\n",
       "\\PY{+w}{  }\\PY{n+nt}{deps}\\PY{p}{:}\\PY{+w}{ }\\PY{l+lScalar+lScalarPlain}{deps}\n",
       "\\PY{+w}{  }\\PY{c+c1}{\\PYZsh{} If logging to file is used keep logs in this directory}\n",
       "\\PY{+w}{  }\\PY{n+nt}{logs}\\PY{p}{:}\\PY{+w}{ }\\PY{l+lScalar+lScalarPlain}{logs}\n",
       "\\PY{+w}{  }\\PY{c+c1}{\\PYZsh{} Location where reports and artifacts are written to}\n",
       "\\PY{+w}{  }\\PY{n+nt}{results}\\PY{p}{:}\\PY{+w}{ }\\PY{l+lScalar+lScalarPlain}{results}\n",
       "\\PY{+w}{  }\\PY{c+c1}{\\PYZsh{} Directory where custom extensions can be integrated}\n",
       "\\PY{+w}{  }\\PY{n+nt}{plugins}\\PY{p}{:}\\PY{+w}{ }\\PY{l+lScalar+lScalarPlain}{plugins}\n",
       "\\PY{+w}{  }\\PY{c+c1}{\\PYZsh{} Directory for intermediate build products, should be located on a large enough drive}\n",
       "\\PY{+w}{  }\\PY{n+nt}{temp}\\PY{p}{:}\\PY{+w}{ }\\PY{l+lScalar+lScalarPlain}{temp}\n",
       "\\PY{+w}{  }\\PY{c+c1}{\\PYZsh{} A collection of models which will be used to look for models}\n",
       "\\PY{+w}{  }\\PY{c+c1}{\\PYZsh{} The paths will be checked in the order defined here stopping at the first match}\n",
       "\\PY{+w}{  }\\PY{c+c1}{\\PYZsh{} Non\\PYZhy{}existant paths will be skipped without throwing an error}\n",
       "\\PY{+w}{  }\\PY{n+nt}{models}\\PY{p}{:}\n",
       "\\PY{+w}{    }\\PY{p+pIndicator}{\\PYZhy{}}\\PY{+w}{ }\\PY{l+s}{\\PYZdq{}}\\PY{c+cp}{\\PYZob{}\\PYZob{}} \\PY{n+nv}{home\\PYZus{}dir} \\PY{c+cp}{\\PYZcb{}\\PYZcb{}}\\PY{l+s}{/models}\\PY{l+s}{\\PYZdq{}}\n",
       "\\PY{c+c1}{\\PYZsh{} Here default clone\\PYZus{}urls}\n",
       "\\PY{n+nt}{repos}\\PY{p}{:}\n",
       "\\PY{+w}{  }\\PY{n+nt}{tvm}\\PY{p}{:}\n",
       "\\PY{+w}{    }\\PY{n+nt}{url}\\PY{p}{:}\\PY{+w}{ }\\PY{l+s}{\\PYZdq{}}\\PY{l+s}{https://github.com/apache/tvm.git}\\PY{l+s}{\\PYZdq{}}\n",
       "\\PY{+w}{    }\\PY{n+nt}{ref}\\PY{p}{:}\\PY{+w}{ }\\PY{l+lScalar+lScalarPlain}{a9fcac1a47f4b57c1d9d828c7ed1d77452b02cc5}\n",
       "\\PY{+w}{    }\\PY{n+nt}{options}\\PY{p}{:}\n",
       "\\PY{+w}{      }\\PY{n+nt}{recursive}\\PY{p}{:}\\PY{+w}{ }\\PY{l+lScalar+lScalarPlain}{true}\n",
       "\\PY{+w}{  }\\PY{n+nt}{etiss}\\PY{p}{:}\n",
       "\\PY{+w}{    }\\PY{n+nt}{url}\\PY{p}{:}\\PY{+w}{ }\\PY{l+s}{\\PYZdq{}}\\PY{l+s}{https://github.com/tum\\PYZhy{}ei\\PYZhy{}eda/etiss.git}\\PY{l+s}{\\PYZdq{}}\n",
       "\\PY{+w}{    }\\PY{n+nt}{ref}\\PY{p}{:}\\PY{+w}{ }\\PY{l+lScalar+lScalarPlain}{40c0b920cf4072adf189211ca44291534355dcfd}\n",
       "\\PY{+w}{  }\\PY{n+nt}{mlif}\\PY{p}{:}\n",
       "\\PY{+w}{    }\\PY{n+nt}{url}\\PY{p}{:}\\PY{+w}{ }\\PY{l+s}{\\PYZdq{}}\\PY{l+s}{https://github.com/tum\\PYZhy{}ei\\PYZhy{}eda/mlonmcu\\PYZhy{}sw.git}\\PY{l+s}{\\PYZdq{}}\n",
       "\\PY{+w}{    }\\PY{n+nt}{ref}\\PY{p}{:}\\PY{+w}{ }\\PY{l+lScalar+lScalarPlain}{c7b0e7364c232666ebd5a17476181e3ff9a71d70}\n",
       "\\PY{+w}{  }\\PY{n+nt}{tflite\\PYZus{}pack}\\PY{p}{:}\n",
       "\\PY{+w}{    }\\PY{n+nt}{url}\\PY{p}{:}\\PY{+w}{ }\\PY{l+s}{\\PYZdq{}}\\PY{l+s}{https://github.com/tum\\PYZhy{}ei\\PYZhy{}eda/tflite\\PYZhy{}pack.git}\\PY{l+s}{\\PYZdq{}}\n",
       "\\PY{+w}{    }\\PY{n+nt}{ref}\\PY{p}{:}\\PY{+w}{ }\\PY{l+lScalar+lScalarPlain}{2d31cafc941d3889b042af9c0a72b5f768ac4606}\n",
       "\\PY{n+nt}{frameworks}\\PY{p}{:}\n",
       "\\PY{+w}{  }\\PY{n+nt}{default}\\PY{p}{:}\\PY{+w}{ }\\PY{l+lScalar+lScalarPlain}{tvm}\n",
       "\\PY{+w}{  }\\PY{n+nt}{tvm}\\PY{p}{:}\n",
       "\\PY{+w}{    }\\PY{n+nt}{enabled}\\PY{p}{:}\\PY{+w}{ }\\PY{l+lScalar+lScalarPlain}{true}\n",
       "\\PY{+w}{    }\\PY{n+nt}{backends}\\PY{p}{:}\n",
       "\\PY{+w}{      }\\PY{n+nt}{default}\\PY{p}{:}\\PY{+w}{ }\\PY{l+lScalar+lScalarPlain}{tvmaotplus}\n",
       "\\PY{+w}{      }\\PY{n+nt}{tvmaotplus}\\PY{p}{:}\n",
       "\\PY{+w}{        }\\PY{n+nt}{enabled}\\PY{p}{:}\\PY{+w}{ }\\PY{l+lScalar+lScalarPlain}{true}\n",
       "\\PY{+w}{        }\\PY{n+nt}{features}\\PY{p}{:}\\PY{+w}{ }\\PY{p+pIndicator}{\\PYZob{}}\\PY{p+pIndicator}{\\PYZcb{}}\n",
       "\\PY{+w}{      }\\PY{n+nt}{tvmllvm}\\PY{p}{:}\n",
       "\\PY{+w}{        }\\PY{n+nt}{enabled}\\PY{p}{:}\\PY{+w}{ }\\PY{l+lScalar+lScalarPlain}{true}\n",
       "\\PY{+w}{        }\\PY{n+nt}{features}\\PY{p}{:}\\PY{+w}{ }\\PY{p+pIndicator}{\\PYZob{}}\\PY{p+pIndicator}{\\PYZcb{}}\n",
       "\\PY{+w}{    }\\PY{n+nt}{features}\\PY{p}{:}\\PY{+w}{ }\\PY{p+pIndicator}{\\PYZob{}}\\PY{p+pIndicator}{\\PYZcb{}}\n",
       "\\PY{n+nt}{frontends}\\PY{p}{:}\n",
       "\\PY{+w}{  }\\PY{n+nt}{tflite}\\PY{p}{:}\n",
       "\\PY{+w}{    }\\PY{n+nt}{enabled}\\PY{p}{:}\\PY{+w}{ }\\PY{l+lScalar+lScalarPlain}{true}\n",
       "\\PY{+w}{    }\\PY{n+nt}{features}\\PY{p}{:}\n",
       "\\PY{+w}{      }\\PY{n+nt}{split\\PYZus{}layers}\\PY{p}{:}\\PY{+w}{ }\\PY{l+lScalar+lScalarPlain}{true}\n",
       "\\PY{n+nt}{toolchains}\\PY{p}{:}\n",
       "\\PY{+w}{  }\\PY{n+nt}{gcc}\\PY{p}{:}\\PY{+w}{ }\\PY{l+lScalar+lScalarPlain}{true}\n",
       "\\PY{n+nt}{platforms}\\PY{p}{:}\n",
       "\\PY{+w}{  }\\PY{n+nt}{mlif}\\PY{p}{:}\n",
       "\\PY{+w}{    }\\PY{n+nt}{enabled}\\PY{p}{:}\\PY{+w}{ }\\PY{l+lScalar+lScalarPlain}{true}\n",
       "\\PY{+w}{    }\\PY{n+nt}{features}\\PY{p}{:}\n",
       "\\PY{+w}{      }\\PY{n+nt}{debug}\\PY{p}{:}\\PY{+w}{ }\\PY{l+lScalar+lScalarPlain}{true}\n",
       "\\PY{+w}{  }\\PY{n+nt}{tvm}\\PY{p}{:}\n",
       "\\PY{+w}{    }\\PY{n+nt}{enabled}\\PY{p}{:}\\PY{+w}{ }\\PY{l+lScalar+lScalarPlain}{true}\n",
       "\\PY{+w}{    }\\PY{n+nt}{features}\\PY{p}{:}\n",
       "\\PY{+w}{      }\\PY{n+nt}{tvm\\PYZus{}profile}\\PY{p}{:}\\PY{+w}{ }\\PY{l+lScalar+lScalarPlain}{true}\n",
       "\\PY{n+nt}{targets}\\PY{p}{:}\n",
       "\\PY{+w}{  }\\PY{n+nt}{default}\\PY{p}{:}\\PY{+w}{ }\\PY{l+lScalar+lScalarPlain}{host\\PYZus{}x86}\n",
       "\\PY{+w}{  }\\PY{n+nt}{etiss}\\PY{p}{:}\n",
       "\\PY{+w}{    }\\PY{n+nt}{enabled}\\PY{p}{:}\\PY{+w}{ }\\PY{l+lScalar+lScalarPlain}{true}\n",
       "\\PY{+w}{    }\\PY{n+nt}{features}\\PY{p}{:}\n",
       "\\PY{+w}{      }\\PY{n+nt}{log\\PYZus{}instrs}\\PY{p}{:}\\PY{+w}{ }\\PY{l+lScalar+lScalarPlain}{true}\n",
       "\\PY{+w}{  }\\PY{n+nt}{host\\PYZus{}x86}\\PY{p}{:}\n",
       "\\PY{+w}{    }\\PY{n+nt}{enabled}\\PY{p}{:}\\PY{+w}{ }\\PY{l+lScalar+lScalarPlain}{true}\n",
       "\\PY{+w}{    }\\PY{n+nt}{features}\\PY{p}{:}\\PY{+w}{ }\\PY{p+pIndicator}{[}\\PY{p+pIndicator}{]}\n",
       "\\PY{+w}{  }\\PY{n+nt}{tvm\\PYZus{}cpu}\\PY{p}{:}\n",
       "\\PY{+w}{    }\\PY{n+nt}{enabled}\\PY{p}{:}\\PY{+w}{ }\\PY{l+lScalar+lScalarPlain}{true}\n",
       "\\PY{+w}{    }\\PY{n+nt}{features}\\PY{p}{:}\\PY{+w}{ }\\PY{p+pIndicator}{[}\\PY{p+pIndicator}{]}\n",
       "\\PY{n+nt}{postprocesses}\\PY{p}{:}\n",
       "\\PY{+w}{  }\\PY{n+nt}{use}\\PY{p}{:}\\PY{+w}{ }\\PY{p+pIndicator}{[}\\PY{p+pIndicator}{]}\n",
       "\\PY{n+nt}{vars}\\PY{p}{:}\n",
       "\\PY{+w}{  }\\PY{n+nt}{allow\\PYZus{}extensions}\\PY{p}{:}\\PY{+w}{ }\\PY{l+lScalar+lScalarPlain}{false}\n",
       "\\PY{+w}{  }\\PY{n+nt}{runs\\PYZus{}per\\PYZus{}stage}\\PY{p}{:}\\PY{+w}{ }\\PY{l+lScalar+lScalarPlain}{true}\n",
       "\\PY{+w}{  }\\PY{n+nt}{riscv\\PYZus{}gcc.dl\\PYZus{}url}\\PY{p}{:}\\PY{+w}{ }\\PY{l+s}{\\PYZdq{}}\\PY{l+s}{https://syncandshare.lrz.de/dl/fiD9HnHYkb2V8kNbVQYv242m/rv32gc.tar.gz}\\PY{l+s}{\\PYZdq{}}\n",
       "\\PY{n+nt}{flags}\\PY{p}{:}\\PY{+w}{ }\\PY{p+pIndicator}{\\PYZob{}}\\PY{p+pIndicator}{\\PYZcb{}}\n",
       "\\end{Verbatim}\n"
      ],
      "text/plain": [
       "---\n",
       "# The MLONMCU_HOME is filled in automatically when creating the environment\n",
       "home: \"{{ home_dir }}\"\n",
       "logging:\n",
       "  level: INFO\n",
       "  to_file: false\n",
       "  rotate: false\n",
       "cleanup:\n",
       "  auto: true\n",
       "  keep: 5\n",
       "# Default locations for certain directoriescan be changed here\n",
       "# Non-absolute paths will always be threated relative to the MLONMCU_HOME\n",
       "paths:\n",
       "  # Where the dependencies are downloaded and installed\n",
       "  deps: deps\n",
       "  # If logging to file is used keep logs in this directory\n",
       "  logs: logs\n",
       "  # Location where reports and artifacts are written to\n",
       "  results: results\n",
       "  # Directory where custom extensions can be integrated\n",
       "  plugins: plugins\n",
       "  # Directory for intermediate build products, should be located on a large enough drive\n",
       "  temp: temp\n",
       "  # A collection of models which will be used to look for models\n",
       "  # The paths will be checked in the order defined here stopping at the first match\n",
       "  # Non-existant paths will be skipped without throwing an error\n",
       "  models:\n",
       "    - \"{{ home_dir }}/models\"\n",
       "# Here default clone_urls\n",
       "repos:\n",
       "  tvm:\n",
       "    url: \"https://github.com/apache/tvm.git\"\n",
       "    ref: a9fcac1a47f4b57c1d9d828c7ed1d77452b02cc5\n",
       "    options:\n",
       "      recursive: true\n",
       "  etiss:\n",
       "    url: \"https://github.com/tum-ei-eda/etiss.git\"\n",
       "    ref: 40c0b920cf4072adf189211ca44291534355dcfd\n",
       "  mlif:\n",
       "    url: \"https://github.com/tum-ei-eda/mlonmcu-sw.git\"\n",
       "    ref: c7b0e7364c232666ebd5a17476181e3ff9a71d70\n",
       "  tflite_pack:\n",
       "    url: \"https://github.com/tum-ei-eda/tflite-pack.git\"\n",
       "    ref: 2d31cafc941d3889b042af9c0a72b5f768ac4606\n",
       "frameworks:\n",
       "  default: tvm\n",
       "  tvm:\n",
       "    enabled: true\n",
       "    backends:\n",
       "      default: tvmaotplus\n",
       "      tvmaotplus:\n",
       "        enabled: true\n",
       "        features: {}\n",
       "      tvmllvm:\n",
       "        enabled: true\n",
       "        features: {}\n",
       "    features: {}\n",
       "frontends:\n",
       "  tflite:\n",
       "    enabled: true\n",
       "    features:\n",
       "      split_layers: true\n",
       "toolchains:\n",
       "  gcc: true\n",
       "platforms:\n",
       "  mlif:\n",
       "    enabled: true\n",
       "    features:\n",
       "      debug: true\n",
       "  tvm:\n",
       "    enabled: true\n",
       "    features:\n",
       "      tvm_profile: true\n",
       "targets:\n",
       "  default: host_x86\n",
       "  etiss:\n",
       "    enabled: true\n",
       "    features:\n",
       "      log_instrs: true\n",
       "  host_x86:\n",
       "    enabled: true\n",
       "    features: []\n",
       "  tvm_cpu:\n",
       "    enabled: true\n",
       "    features: []\n",
       "postprocesses:\n",
       "  use: []\n",
       "vars:\n",
       "  allow_extensions: false\n",
       "  runs_per_stage: true\n",
       "  riscv_gcc.dl_url: \"https://syncandshare.lrz.de/dl/fiD9HnHYkb2V8kNbVQYv242m/rv32gc.tar.gz\"\n",
       "flags: {}"
      ]
     },
     "execution_count": 3,
     "metadata": {},
     "output_type": "execute_result"
    }
   ],
   "source": [
    "Code(filename=\"environment.yml.j2\")"
   ]
  },
  {
   "cell_type": "markdown",
   "id": "4d140308",
   "metadata": {
    "papermill": {
     "duration": 0.009494,
     "end_time": "2023-12-31T09:03:44.973116",
     "exception": false,
     "start_time": "2023-12-31T09:03:44.963622",
     "status": "completed"
    },
    "tags": []
   },
   "source": [
    "Do not forget to set your `MLONMCU_HOME` environment variable first if not using the default location!"
   ]
  },
  {
   "cell_type": "markdown",
   "id": "a3bac781",
   "metadata": {
    "papermill": {
     "duration": 0.005472,
     "end_time": "2023-12-31T09:03:44.985260",
     "exception": false,
     "start_time": "2023-12-31T09:03:44.979788",
     "status": "completed"
    },
    "tags": []
   },
   "source": [
    "### Usage"
   ]
  },
  {
   "cell_type": "markdown",
   "id": "1352b362",
   "metadata": {
    "papermill": {
     "duration": 0.004531,
     "end_time": "2023-12-31T09:03:44.994426",
     "exception": false,
     "start_time": "2023-12-31T09:03:44.989895",
     "status": "completed"
    },
    "tags": []
   },
   "source": [
    "The following examples demonstrate the `split_layers` feature recently added MLonMCU."
   ]
  },
  {
   "cell_type": "markdown",
   "id": "f01b54e2",
   "metadata": {
    "papermill": {
     "duration": 0.004535,
     "end_time": "2023-12-31T09:03:45.029431",
     "exception": false,
     "start_time": "2023-12-31T09:03:45.024896",
     "status": "completed"
    },
    "tags": []
   },
   "source": [
    "#### A) Command Line Interface"
   ]
  },
  {
   "cell_type": "markdown",
   "id": "2b333851",
   "metadata": {
    "papermill": {
     "duration": 0.004504,
     "end_time": "2023-12-31T09:03:45.038408",
     "exception": false,
     "start_time": "2023-12-31T09:03:45.033904",
     "status": "completed"
    },
    "tags": []
   },
   "source": [
    "First define a simple benchmark of a single model/backend/target combination:"
   ]
  },
  {
   "cell_type": "code",
   "execution_count": 4,
   "id": "43576c35",
   "metadata": {
    "execution": {
     "iopub.execute_input": "2023-12-31T09:03:45.053235Z",
     "iopub.status.busy": "2023-12-31T09:03:45.052752Z",
     "iopub.status.idle": "2023-12-31T09:03:54.773758Z",
     "shell.execute_reply": "2023-12-31T09:03:54.772501Z"
    },
    "papermill": {
     "duration": 9.734624,
     "end_time": "2023-12-31T09:03:54.777516",
     "exception": false,
     "start_time": "2023-12-31T09:03:45.042892",
     "status": "completed"
    },
    "tags": []
   },
   "outputs": [
    {
     "name": "stdout",
     "output_type": "stream",
     "text": [
      "INFO - Loading environment cache from file\r\n",
      "INFO - Successfully initialized cache\r\n"
     ]
    },
    {
     "name": "stdout",
     "output_type": "stream",
     "text": [
      "INFO - [session-55]  Processing stage LOAD\r\n",
      "INFO - [session-55]  Processing stage BUILD\r\n"
     ]
    },
    {
     "name": "stdout",
     "output_type": "stream",
     "text": [
      "INFO - [session-55]  Processing stage COMPILE\r\n"
     ]
    },
    {
     "name": "stdout",
     "output_type": "stream",
     "text": [
      "INFO - [session-55]  Processing stage RUN\r\n"
     ]
    },
    {
     "name": "stdout",
     "output_type": "stream",
     "text": [
      "INFO - All runs completed successfuly!\r\n",
      "INFO - Postprocessing session report\r\n",
      "INFO - [session-55] Done processing runs\r\n",
      "INFO - Report:\r\n",
      "   Session  Run   Model Frontend Framework     Backend Platform         Target  Total Cycles  Total Instructions  Total CPI  Total ROM  Total RAM  ROM read-only  ROM code  ROM misc  RAM data  RAM zero-init data  Validation Features                                             Config Postprocesses Comment\r\n",
      "0       55    0  resnet   tflite       tvm  tvmaotplus     mlif  etiss_pulpino      81173677            81173677        1.0     225016     108224         163424     61448       144      2492              105732        True       []  {'resnet.output_shapes': {'Identity_int8': [1,...            []       -\r\n"
     ]
    }
   ],
   "source": [
    "!mlonmcu flow run resnet --backend tvmaotplus --target etiss_pulpino"
   ]
  },
  {
   "cell_type": "markdown",
   "id": "5ccc2ec8",
   "metadata": {
    "papermill": {
     "duration": 0.009897,
     "end_time": "2023-12-31T09:03:54.803643",
     "exception": false,
     "start_time": "2023-12-31T09:03:54.793746",
     "status": "completed"
    },
    "tags": []
   },
   "source": [
    "Now lets enable the `split_layers` feature:"
   ]
  },
  {
   "cell_type": "code",
   "execution_count": 5,
   "id": "53c89e22",
   "metadata": {
    "execution": {
     "iopub.execute_input": "2023-12-31T09:03:54.823720Z",
     "iopub.status.busy": "2023-12-31T09:03:54.823115Z",
     "iopub.status.idle": "2023-12-31T09:04:51.690754Z",
     "shell.execute_reply": "2023-12-31T09:04:51.689243Z"
    },
    "papermill": {
     "duration": 56.882821,
     "end_time": "2023-12-31T09:04:51.694247",
     "exception": false,
     "start_time": "2023-12-31T09:03:54.811426",
     "status": "completed"
    },
    "tags": []
   },
   "outputs": [
    {
     "name": "stdout",
     "output_type": "stream",
     "text": [
      "INFO - Loading environment cache from file\r\n",
      "INFO - Successfully initialized cache\r\n"
     ]
    },
    {
     "name": "stdout",
     "output_type": "stream",
     "text": [
      "INFO - [session-56]  Processing stage LOAD\r\n"
     ]
    },
    {
     "name": "stdout",
     "output_type": "stream",
     "text": [
      "INFO - [session-56]  Processing stage BUILD\r\n"
     ]
    },
    {
     "name": "stdout",
     "output_type": "stream",
     "text": [
      "INFO - [session-56]  Processing stage COMPILE\r\n"
     ]
    },
    {
     "name": "stdout",
     "output_type": "stream",
     "text": [
      "INFO - [session-56]  Processing stage RUN\r\n"
     ]
    },
    {
     "name": "stdout",
     "output_type": "stream",
     "text": [
      "INFO - All runs completed successfuly!\r\n"
     ]
    },
    {
     "name": "stdout",
     "output_type": "stream",
     "text": [
      "INFO - Postprocessing session report\r\n",
      "INFO - [session-56] Done processing runs\r\n",
      "INFO - Report:\r\n",
      "    Session  Run   Model Frontend Framework     Backend Platform         Target      Sub  Total Cycles  Total Instructions  Total CPI  Total ROM  Total RAM  ROM read-only  ROM code  ROM misc  RAM data  RAM zero-init data  Validation        Features                                             Config Postprocesses Comment\r\n",
      "0        56    0  resnet   tflite       tvm  tvmaotplus     mlif  etiss_pulpino      NaN      81173677            81173677        1.0     225016     108224         163424     61448       144      2492              105732        True  [split_layers]  {'resnet.output_shapes': {'Identity_int8': [1,...            []       -\r\n",
      "1        56    0  resnet   tflite       tvm  tvmaotplus     mlif  etiss_pulpino   layer0       3541354             3541354        1.0      56482      35152           4184     52154       144      2492               32660        True  [split_layers]  {'resnet.output_shapes': {'Identity_int8': [1,...            []       -\r\n",
      "2        56    0  resnet   tflite       tvm  tvmaotplus     mlif  etiss_pulpino   layer1      12854741            12854741        1.0      59894     105136           7928     51822       144      2492              102644        True  [split_layers]  {'resnet.output_shapes': {'Identity_int8': [1,...            []       -\r\n",
      "3        56    0  resnet   tflite       tvm  tvmaotplus     mlif  etiss_pulpino   layer2      12889467            12889467        1.0      59892     105136           7928     51820       144      2492              102644        True  [split_layers]  {'resnet.output_shapes': {'Identity_int8': [1,...            []       -\r\n",
      "4        56    0  resnet   tflite       tvm  tvmaotplus     mlif  etiss_pulpino   layer3        629213              629213        1.0      54266      51768           3096     51026       144      2500               49268        True  [split_layers]  {'resnet.output_shapes': {'Identity_int8': [1,...            []       -\r\n",
      "5        56    0  resnet   tflite       tvm  tvmaotplus     mlif  etiss_pulpino   layer4       6282362             6282362        1.0      64940      94800          12792     52004       144      2492               92308        True  [split_layers]  {'resnet.output_shapes': {'Identity_int8': [1,...            []       -\r\n",
      "6        56    0  resnet   tflite       tvm  tvmaotplus     mlif  etiss_pulpino   layer5      17491971            17491971        1.0      73884      56112          22008     51732       144      2492               53620        True  [split_layers]  {'resnet.output_shapes': {'Identity_int8': [1,...            []       -\r\n",
      "7        56    0  resnet   tflite       tvm  tvmaotplus     mlif  etiss_pulpino   layer6       1089453             1089453        1.0      56802      90704           4600     52058       144      2492               88212        True  [split_layers]  {'resnet.output_shapes': {'Identity_int8': [1,...            []       -\r\n",
      "8        56    0  resnet   tflite       tvm  tvmaotplus     mlif  etiss_pulpino   layer7        316120              316120        1.0      54304      27192           3096     51064       144      2500               24692        True  [split_layers]  {'resnet.output_shapes': {'Identity_int8': [1,...            []       -\r\n",
      "9        56    0  resnet   tflite       tvm  tvmaotplus     mlif  etiss_pulpino   layer8       8802585             8802585        1.0      92958      49776          40952     51862       144      2492               47284        True  [split_layers]  {'resnet.output_shapes': {'Identity_int8': [1,...            []       -\r\n",
      "10       56    0  resnet   tflite       tvm  tvmaotplus     mlif  etiss_pulpino   layer9      17021834            17021834        1.0     129706      31792          77816     51746       144      2492               29300        True  [split_layers]  {'resnet.output_shapes': {'Identity_int8': [1,...            []       -\r\n",
      "11       56    0  resnet   tflite       tvm  tvmaotplus     mlif  etiss_pulpino  layer10       1107788             1107788        1.0      60106      45680           8184     51778       144      2492               43188        True  [split_layers]  {'resnet.output_shapes': {'Identity_int8': [1,...            []       -\r\n",
      "12       56    0  resnet   tflite       tvm  tvmaotplus     mlif  etiss_pulpino  layer11        153872              153872        1.0      54314      14904           3096     51074       144      2500               12404        True  [split_layers]  {'resnet.output_shapes': {'Identity_int8': [1,...            []       -\r\n",
      "13       56    0  resnet   tflite       tvm  tvmaotplus     mlif  etiss_pulpino  layer12         39462               39462        1.0      54242      23408           3056     51042       144      2492               20916        True  [split_layers]  {'resnet.output_shapes': {'Identity_int8': [1,...            []       -\r\n",
      "14       56    0  resnet   tflite       tvm  tvmaotplus     mlif  etiss_pulpino  layer13           340                 340        1.0      54528       2736           3056     51328       144      2492                 244        True  [split_layers]  {'resnet.output_shapes': {'Identity_int8': [1,...            []       -\r\n",
      "15       56    0  resnet   tflite       tvm  tvmaotplus     mlif  etiss_pulpino  layer14          3106                3106        1.0      55918       2836           4392     51382       144      2492                 344        True  [split_layers]  {'resnet.output_shapes': {'Identity_int8': [1,...            []       -\r\n",
      "16       56    0  resnet   tflite       tvm  tvmaotplus     mlif  etiss_pulpino  layer15          1521                1521        1.0      56114       2740           3176     52794       144      2492                 248        True  [split_layers]  {'resnet.output_shapes': {'Identity_int8': [1,...            []       -\r\n"
     ]
    }
   ],
   "source": [
    "!mlonmcu flow run resnet --backend tvmaotplus --target etiss_pulpino -f split_layers"
   ]
  },
  {
   "cell_type": "markdown",
   "id": "c9776cd6",
   "metadata": {
    "papermill": {
     "duration": 0.009799,
     "end_time": "2023-12-31T09:04:51.719814",
     "exception": false,
     "start_time": "2023-12-31T09:04:51.710015",
     "status": "completed"
    },
    "tags": []
   },
   "source": [
    "The resulting report should contain the the original benchmark results (for the whole model) in the first row. The remaining 16 rows are for each of the layers found in the `resnet.tflite` model. The layer-index can be found in the 'Sub' column. The cycle count of these should roughly sum up to the total execution time measured in row one."
   ]
  },
  {
   "cell_type": "markdown",
   "id": "4238333c",
   "metadata": {
    "papermill": {
     "duration": 0.004964,
     "end_time": "2023-12-31T09:04:51.732103",
     "exception": false,
     "start_time": "2023-12-31T09:04:51.727139",
     "status": "completed"
    },
    "tags": []
   },
   "source": [
    "#### B) Python Scripting"
   ]
  },
  {
   "cell_type": "markdown",
   "id": "b500fc47",
   "metadata": {
    "papermill": {
     "duration": 0.004881,
     "end_time": "2023-12-31T09:04:51.741998",
     "exception": false,
     "start_time": "2023-12-31T09:04:51.737117",
     "status": "completed"
    },
    "tags": []
   },
   "source": [
    "Some imports"
   ]
  },
  {
   "cell_type": "code",
   "execution_count": 6,
   "id": "78c53970",
   "metadata": {
    "execution": {
     "iopub.execute_input": "2023-12-31T09:04:51.754113Z",
     "iopub.status.busy": "2023-12-31T09:04:51.753449Z",
     "iopub.status.idle": "2023-12-31T09:04:52.113196Z",
     "shell.execute_reply": "2023-12-31T09:04:52.111606Z"
    },
    "papermill": {
     "duration": 0.369901,
     "end_time": "2023-12-31T09:04:52.116743",
     "exception": false,
     "start_time": "2023-12-31T09:04:51.746842",
     "status": "completed"
    },
    "tags": []
   },
   "outputs": [],
   "source": [
    "from tempfile import TemporaryDirectory\n",
    "from pathlib import Path\n",
    "import pandas as pd\n",
    "\n",
    "from mlonmcu.context.context import MlonMcuContext\n",
    "from mlonmcu.session.run import RunStage"
   ]
  },
  {
   "cell_type": "markdown",
   "id": "86046913",
   "metadata": {
    "papermill": {
     "duration": 0.015622,
     "end_time": "2023-12-31T09:04:52.150673",
     "exception": false,
     "start_time": "2023-12-31T09:04:52.135051",
     "status": "completed"
    },
    "tags": []
   },
   "source": [
    "Benchmark Configuration"
   ]
  },
  {
   "cell_type": "code",
   "execution_count": 7,
   "id": "2f6c5e5a",
   "metadata": {
    "execution": {
     "iopub.execute_input": "2023-12-31T09:04:52.163569Z",
     "iopub.status.busy": "2023-12-31T09:04:52.162749Z",
     "iopub.status.idle": "2023-12-31T09:04:52.170585Z",
     "shell.execute_reply": "2023-12-31T09:04:52.169192Z"
    },
    "papermill": {
     "duration": 0.016427,
     "end_time": "2023-12-31T09:04:52.172212",
     "exception": false,
     "start_time": "2023-12-31T09:04:52.155785",
     "status": "completed"
    },
    "tags": []
   },
   "outputs": [],
   "source": [
    "FRONTEND = \"tflite\"\n",
    "MODEL = \"resnet\"\n",
    "BACKEND = \"tvmaotplus\"\n",
    "PLATFORM = \"mlif\"\n",
    "TARGET = \"etiss_pulpino\"\n",
    "FEATURES = [\"split_layers\"]\n",
    "CONFIG = {\"filter_cols.keep\": [\"Sub\", \"Total Instructions\", \"Total ROM\", \"Total RAM\"]}\n",
    "POSTPROCESSES = [\"filter_cols\"]"
   ]
  },
  {
   "cell_type": "markdown",
   "id": "966cc3fe",
   "metadata": {
    "papermill": {
     "duration": 0.00635,
     "end_time": "2023-12-31T09:04:52.184880",
     "exception": false,
     "start_time": "2023-12-31T09:04:52.178530",
     "status": "completed"
    },
    "tags": []
   },
   "source": [
    "Initialize and run a single benchmark"
   ]
  },
  {
   "cell_type": "code",
   "execution_count": 8,
   "id": "ebe63369",
   "metadata": {
    "execution": {
     "iopub.execute_input": "2023-12-31T09:04:52.196749Z",
     "iopub.status.busy": "2023-12-31T09:04:52.196166Z",
     "iopub.status.idle": "2023-12-31T09:05:47.511991Z",
     "shell.execute_reply": "2023-12-31T09:05:47.510874Z"
    },
    "papermill": {
     "duration": 55.323923,
     "end_time": "2023-12-31T09:05:47.513689",
     "exception": false,
     "start_time": "2023-12-31T09:04:52.189766",
     "status": "completed"
    },
    "tags": []
   },
   "outputs": [
    {
     "name": "stdout",
     "output_type": "stream",
     "text": [
      "INFO - Loading environment cache from file\n"
     ]
    },
    {
     "name": "stdout",
     "output_type": "stream",
     "text": [
      "INFO - Successfully initialized cache\n"
     ]
    },
    {
     "name": "stdout",
     "output_type": "stream",
     "text": [
      "INFO - [session-57] Processing all stages\n"
     ]
    },
    {
     "name": "stdout",
     "output_type": "stream",
     "text": [
      "INFO - All runs completed successfuly!\n"
     ]
    },
    {
     "name": "stdout",
     "output_type": "stream",
     "text": [
      "INFO - Postprocessing session report\n"
     ]
    },
    {
     "name": "stdout",
     "output_type": "stream",
     "text": [
      "INFO - [session-57] Done processing runs\n"
     ]
    },
    {
     "data": {
      "text/html": [
       "<div>\n",
       "<style scoped>\n",
       "    .dataframe tbody tr th:only-of-type {\n",
       "        vertical-align: middle;\n",
       "    }\n",
       "\n",
       "    .dataframe tbody tr th {\n",
       "        vertical-align: top;\n",
       "    }\n",
       "\n",
       "    .dataframe thead th {\n",
       "        text-align: right;\n",
       "    }\n",
       "</style>\n",
       "<table border=\"1\" class=\"dataframe\">\n",
       "  <thead>\n",
       "    <tr style=\"text-align: right;\">\n",
       "      <th></th>\n",
       "      <th>Sub</th>\n",
       "      <th>Total Instructions</th>\n",
       "      <th>Total ROM</th>\n",
       "      <th>Total RAM</th>\n",
       "    </tr>\n",
       "  </thead>\n",
       "  <tbody>\n",
       "    <tr>\n",
       "      <th>0</th>\n",
       "      <td>NaN</td>\n",
       "      <td>81173677</td>\n",
       "      <td>225016</td>\n",
       "      <td>108224</td>\n",
       "    </tr>\n",
       "    <tr>\n",
       "      <th>1</th>\n",
       "      <td>layer0</td>\n",
       "      <td>3541354</td>\n",
       "      <td>56482</td>\n",
       "      <td>35152</td>\n",
       "    </tr>\n",
       "    <tr>\n",
       "      <th>2</th>\n",
       "      <td>layer1</td>\n",
       "      <td>12854741</td>\n",
       "      <td>59894</td>\n",
       "      <td>105136</td>\n",
       "    </tr>\n",
       "    <tr>\n",
       "      <th>3</th>\n",
       "      <td>layer2</td>\n",
       "      <td>12889467</td>\n",
       "      <td>59892</td>\n",
       "      <td>105136</td>\n",
       "    </tr>\n",
       "    <tr>\n",
       "      <th>4</th>\n",
       "      <td>layer3</td>\n",
       "      <td>629213</td>\n",
       "      <td>54266</td>\n",
       "      <td>51768</td>\n",
       "    </tr>\n",
       "    <tr>\n",
       "      <th>5</th>\n",
       "      <td>layer4</td>\n",
       "      <td>6282362</td>\n",
       "      <td>64940</td>\n",
       "      <td>94800</td>\n",
       "    </tr>\n",
       "    <tr>\n",
       "      <th>6</th>\n",
       "      <td>layer5</td>\n",
       "      <td>17491971</td>\n",
       "      <td>73884</td>\n",
       "      <td>56112</td>\n",
       "    </tr>\n",
       "    <tr>\n",
       "      <th>7</th>\n",
       "      <td>layer6</td>\n",
       "      <td>1089453</td>\n",
       "      <td>56802</td>\n",
       "      <td>90704</td>\n",
       "    </tr>\n",
       "    <tr>\n",
       "      <th>8</th>\n",
       "      <td>layer7</td>\n",
       "      <td>316120</td>\n",
       "      <td>54304</td>\n",
       "      <td>27192</td>\n",
       "    </tr>\n",
       "    <tr>\n",
       "      <th>9</th>\n",
       "      <td>layer8</td>\n",
       "      <td>8802585</td>\n",
       "      <td>92958</td>\n",
       "      <td>49776</td>\n",
       "    </tr>\n",
       "    <tr>\n",
       "      <th>10</th>\n",
       "      <td>layer9</td>\n",
       "      <td>17021834</td>\n",
       "      <td>129706</td>\n",
       "      <td>31792</td>\n",
       "    </tr>\n",
       "    <tr>\n",
       "      <th>11</th>\n",
       "      <td>layer10</td>\n",
       "      <td>1107788</td>\n",
       "      <td>60106</td>\n",
       "      <td>45680</td>\n",
       "    </tr>\n",
       "    <tr>\n",
       "      <th>12</th>\n",
       "      <td>layer11</td>\n",
       "      <td>153872</td>\n",
       "      <td>54314</td>\n",
       "      <td>14904</td>\n",
       "    </tr>\n",
       "    <tr>\n",
       "      <th>13</th>\n",
       "      <td>layer12</td>\n",
       "      <td>39462</td>\n",
       "      <td>54242</td>\n",
       "      <td>23408</td>\n",
       "    </tr>\n",
       "    <tr>\n",
       "      <th>14</th>\n",
       "      <td>layer13</td>\n",
       "      <td>340</td>\n",
       "      <td>54528</td>\n",
       "      <td>2736</td>\n",
       "    </tr>\n",
       "    <tr>\n",
       "      <th>15</th>\n",
       "      <td>layer14</td>\n",
       "      <td>3106</td>\n",
       "      <td>55918</td>\n",
       "      <td>2836</td>\n",
       "    </tr>\n",
       "    <tr>\n",
       "      <th>16</th>\n",
       "      <td>layer15</td>\n",
       "      <td>1521</td>\n",
       "      <td>56114</td>\n",
       "      <td>2740</td>\n",
       "    </tr>\n",
       "  </tbody>\n",
       "</table>\n",
       "</div>"
      ],
      "text/plain": [
       "        Sub  Total Instructions  Total ROM  Total RAM\n",
       "0       NaN            81173677     225016     108224\n",
       "1    layer0             3541354      56482      35152\n",
       "2    layer1            12854741      59894     105136\n",
       "3    layer2            12889467      59892     105136\n",
       "4    layer3              629213      54266      51768\n",
       "5    layer4             6282362      64940      94800\n",
       "6    layer5            17491971      73884      56112\n",
       "7    layer6             1089453      56802      90704\n",
       "8    layer7              316120      54304      27192\n",
       "9    layer8             8802585      92958      49776\n",
       "10   layer9            17021834     129706      31792\n",
       "11  layer10             1107788      60106      45680\n",
       "12  layer11              153872      54314      14904\n",
       "13  layer12               39462      54242      23408\n",
       "14  layer13                 340      54528       2736\n",
       "15  layer14                3106      55918       2836\n",
       "16  layer15                1521      56114       2740"
      ]
     },
     "execution_count": 8,
     "metadata": {},
     "output_type": "execute_result"
    }
   ],
   "source": [
    "with MlonMcuContext() as context:\n",
    "    with context.create_session() as session:\n",
    "        run = session.create_run(config=CONFIG)\n",
    "        run.add_features_by_name(FEATURES, context=context)\n",
    "        run.add_frontend_by_name(FRONTEND, context=context)\n",
    "        run.add_model_by_name(MODEL, context=context)\n",
    "        run.add_backend_by_name(BACKEND, context=context)\n",
    "        run.add_platform_by_name(PLATFORM, context=context)\n",
    "        run.add_target_by_name(TARGET, context=context)\n",
    "        run.add_postprocesses_by_name(POSTPROCESSES)\n",
    "        session.process_runs(context=context)\n",
    "        report = session.get_reports()\n",
    "assert \"Failing\" not in report.df.columns\n",
    "report.df"
   ]
  },
  {
   "cell_type": "markdown",
   "id": "3f079313",
   "metadata": {
    "papermill": {
     "duration": 0.012012,
     "end_time": "2023-12-31T09:05:47.533802",
     "exception": false,
     "start_time": "2023-12-31T09:05:47.521790",
     "status": "completed"
    },
    "tags": []
   },
   "source": [
    "Stripping out all common data, we get this:"
   ]
  },
  {
   "cell_type": "code",
   "execution_count": 9,
   "id": "5e84f3e2",
   "metadata": {
    "execution": {
     "iopub.execute_input": "2023-12-31T09:05:47.558026Z",
     "iopub.status.busy": "2023-12-31T09:05:47.557400Z",
     "iopub.status.idle": "2023-12-31T09:05:47.568940Z",
     "shell.execute_reply": "2023-12-31T09:05:47.568251Z"
    },
    "papermill": {
     "duration": 0.025119,
     "end_time": "2023-12-31T09:05:47.572294",
     "exception": false,
     "start_time": "2023-12-31T09:05:47.547175",
     "status": "completed"
    },
    "tags": []
   },
   "outputs": [
    {
     "data": {
      "text/html": [
       "<div>\n",
       "<style scoped>\n",
       "    .dataframe tbody tr th:only-of-type {\n",
       "        vertical-align: middle;\n",
       "    }\n",
       "\n",
       "    .dataframe tbody tr th {\n",
       "        vertical-align: top;\n",
       "    }\n",
       "\n",
       "    .dataframe thead th {\n",
       "        text-align: right;\n",
       "    }\n",
       "</style>\n",
       "<table border=\"1\" class=\"dataframe\">\n",
       "  <thead>\n",
       "    <tr style=\"text-align: right;\">\n",
       "      <th></th>\n",
       "      <th>Total Instructions</th>\n",
       "      <th>Total ROM</th>\n",
       "      <th>Total RAM</th>\n",
       "    </tr>\n",
       "    <tr>\n",
       "      <th>Sub</th>\n",
       "      <th></th>\n",
       "      <th></th>\n",
       "      <th></th>\n",
       "    </tr>\n",
       "  </thead>\n",
       "  <tbody>\n",
       "    <tr>\n",
       "      <th>full</th>\n",
       "      <td>81173677</td>\n",
       "      <td>225016</td>\n",
       "      <td>108224</td>\n",
       "    </tr>\n",
       "    <tr>\n",
       "      <th>layer0</th>\n",
       "      <td>3541354</td>\n",
       "      <td>56482</td>\n",
       "      <td>35152</td>\n",
       "    </tr>\n",
       "    <tr>\n",
       "      <th>layer1</th>\n",
       "      <td>12854741</td>\n",
       "      <td>59894</td>\n",
       "      <td>105136</td>\n",
       "    </tr>\n",
       "    <tr>\n",
       "      <th>layer2</th>\n",
       "      <td>12889467</td>\n",
       "      <td>59892</td>\n",
       "      <td>105136</td>\n",
       "    </tr>\n",
       "    <tr>\n",
       "      <th>layer3</th>\n",
       "      <td>629213</td>\n",
       "      <td>54266</td>\n",
       "      <td>51768</td>\n",
       "    </tr>\n",
       "    <tr>\n",
       "      <th>layer4</th>\n",
       "      <td>6282362</td>\n",
       "      <td>64940</td>\n",
       "      <td>94800</td>\n",
       "    </tr>\n",
       "    <tr>\n",
       "      <th>layer5</th>\n",
       "      <td>17491971</td>\n",
       "      <td>73884</td>\n",
       "      <td>56112</td>\n",
       "    </tr>\n",
       "    <tr>\n",
       "      <th>layer6</th>\n",
       "      <td>1089453</td>\n",
       "      <td>56802</td>\n",
       "      <td>90704</td>\n",
       "    </tr>\n",
       "    <tr>\n",
       "      <th>layer7</th>\n",
       "      <td>316120</td>\n",
       "      <td>54304</td>\n",
       "      <td>27192</td>\n",
       "    </tr>\n",
       "    <tr>\n",
       "      <th>layer8</th>\n",
       "      <td>8802585</td>\n",
       "      <td>92958</td>\n",
       "      <td>49776</td>\n",
       "    </tr>\n",
       "    <tr>\n",
       "      <th>layer9</th>\n",
       "      <td>17021834</td>\n",
       "      <td>129706</td>\n",
       "      <td>31792</td>\n",
       "    </tr>\n",
       "    <tr>\n",
       "      <th>layer10</th>\n",
       "      <td>1107788</td>\n",
       "      <td>60106</td>\n",
       "      <td>45680</td>\n",
       "    </tr>\n",
       "    <tr>\n",
       "      <th>layer11</th>\n",
       "      <td>153872</td>\n",
       "      <td>54314</td>\n",
       "      <td>14904</td>\n",
       "    </tr>\n",
       "    <tr>\n",
       "      <th>layer12</th>\n",
       "      <td>39462</td>\n",
       "      <td>54242</td>\n",
       "      <td>23408</td>\n",
       "    </tr>\n",
       "    <tr>\n",
       "      <th>layer13</th>\n",
       "      <td>340</td>\n",
       "      <td>54528</td>\n",
       "      <td>2736</td>\n",
       "    </tr>\n",
       "    <tr>\n",
       "      <th>layer14</th>\n",
       "      <td>3106</td>\n",
       "      <td>55918</td>\n",
       "      <td>2836</td>\n",
       "    </tr>\n",
       "    <tr>\n",
       "      <th>layer15</th>\n",
       "      <td>1521</td>\n",
       "      <td>56114</td>\n",
       "      <td>2740</td>\n",
       "    </tr>\n",
       "  </tbody>\n",
       "</table>\n",
       "</div>"
      ],
      "text/plain": [
       "         Total Instructions  Total ROM  Total RAM\n",
       "Sub                                              \n",
       "full               81173677     225016     108224\n",
       "layer0              3541354      56482      35152\n",
       "layer1             12854741      59894     105136\n",
       "layer2             12889467      59892     105136\n",
       "layer3               629213      54266      51768\n",
       "layer4              6282362      64940      94800\n",
       "layer5             17491971      73884      56112\n",
       "layer6              1089453      56802      90704\n",
       "layer7               316120      54304      27192\n",
       "layer8              8802585      92958      49776\n",
       "layer9             17021834     129706      31792\n",
       "layer10             1107788      60106      45680\n",
       "layer11              153872      54314      14904\n",
       "layer12               39462      54242      23408\n",
       "layer13                 340      54528       2736\n",
       "layer14                3106      55918       2836\n",
       "layer15                1521      56114       2740"
      ]
     },
     "execution_count": 9,
     "metadata": {},
     "output_type": "execute_result"
    }
   ],
   "source": [
    "df = report.df\n",
    "df.fillna(\"full\", inplace=True)\n",
    "df.set_index(\"Sub\", inplace=True)\n",
    "df"
   ]
  },
  {
   "cell_type": "markdown",
   "id": "5f257b8a",
   "metadata": {
    "papermill": {
     "duration": 0.008877,
     "end_time": "2023-12-31T09:05:47.595767",
     "exception": false,
     "start_time": "2023-12-31T09:05:47.586890",
     "status": "completed"
    },
    "tags": []
   },
   "source": [
    "## 2. Using ~~(Micro)~~TVMs profiling functionality"
   ]
  },
  {
   "cell_type": "markdown",
   "id": "57914347",
   "metadata": {
    "papermill": {
     "duration": 0.01066,
     "end_time": "2023-12-31T09:05:47.620092",
     "exception": false,
     "start_time": "2023-12-31T09:05:47.609432",
     "status": "completed"
    },
    "tags": []
   },
   "source": [
    "Instead of splitting the model layer wise before optimization, this will use the functionality of TVMs graph runtime to benchmark individual functions conatine din the model graph. These functions do not nessessarily map directly to a single layer in the original model operator fusing is automatically performed by TVMs compilation pipeline."
   ]
  },
  {
   "cell_type": "markdown",
   "id": "09da8a16",
   "metadata": {
    "papermill": {
     "duration": 0.006085,
     "end_time": "2023-12-31T09:05:47.633426",
     "exception": false,
     "start_time": "2023-12-31T09:05:47.627341",
     "status": "completed"
    },
    "tags": []
   },
   "source": [
    "### Supported components"
   ]
  },
  {
   "cell_type": "markdown",
   "id": "9f12e37b",
   "metadata": {
    "papermill": {
     "duration": 0.005338,
     "end_time": "2023-12-31T09:05:47.644158",
     "exception": false,
     "start_time": "2023-12-31T09:05:47.638820",
     "status": "completed"
    },
    "tags": []
   },
   "source": [
    "**Models:** Any (`resnet` used below)\n",
    "\n",
    "**Frontends:** Any frontend supported by TVM (`tflite` used below)\n",
    "\n",
    "**Frameworks/Backends:** TVM: `tvmllvm` ~~MicroTVM: `tvmrt`~~\n",
    "\n",
    "**Platforms/Targets:** TVM: `tvm_cpu` ~~MicroTVM: Any~~\n",
    "\n",
    "**Features:** The `tvm_profile` feature needs to be enabled"
   ]
  },
  {
   "cell_type": "markdown",
   "id": "501b6cb5",
   "metadata": {
    "papermill": {
     "duration": 0.005359,
     "end_time": "2023-12-31T09:05:47.654822",
     "exception": false,
     "start_time": "2023-12-31T09:05:47.649463",
     "status": "completed"
    },
    "tags": []
   },
   "source": [
    "Let's only consider the `tvm_cpu` target here until this is supported officially by upstream TVM. Hence we are profiling on the host cpu here, not on a MCU or simulator. "
   ]
  },
  {
   "cell_type": "markdown",
   "id": "bab34b8e",
   "metadata": {
    "papermill": {
     "duration": 0.005301,
     "end_time": "2023-12-31T09:05:47.665436",
     "exception": false,
     "start_time": "2023-12-31T09:05:47.660135",
     "status": "completed"
    },
    "tags": []
   },
   "source": [
    "### Prerequisites"
   ]
  },
  {
   "cell_type": "markdown",
   "id": "c1f0d52f-0bcd-4845-81e6-ce20e02768a0",
   "metadata": {
    "papermill": {
     "duration": 0.005471,
     "end_time": "2023-12-31T09:05:47.676313",
     "exception": false,
     "start_time": "2023-12-31T09:05:47.670842",
     "status": "completed"
    },
    "tags": []
   },
   "source": [
    "If not done already, setup a virtual python environment and install the required packages into it. (See `requirements.txt`)"
   ]
  },
  {
   "cell_type": "code",
   "execution_count": 10,
   "id": "e7df798a-160a-4ea3-905c-6b4a7f66fb02",
   "metadata": {
    "execution": {
     "iopub.execute_input": "2023-12-31T09:05:47.688136Z",
     "iopub.status.busy": "2023-12-31T09:05:47.687874Z",
     "iopub.status.idle": "2023-12-31T09:05:47.702344Z",
     "shell.execute_reply": "2023-12-31T09:05:47.701681Z"
    },
    "papermill": {
     "duration": 0.023639,
     "end_time": "2023-12-31T09:05:47.705335",
     "exception": false,
     "start_time": "2023-12-31T09:05:47.681696",
     "status": "completed"
    },
    "tags": []
   },
   "outputs": [
    {
     "data": {
      "text/html": [
       "<style>pre { line-height: 125%; }\n",
       "td.linenos .normal { color: inherit; background-color: transparent; padding-left: 5px; padding-right: 5px; }\n",
       "span.linenos { color: inherit; background-color: transparent; padding-left: 5px; padding-right: 5px; }\n",
       "td.linenos .special { color: #000000; background-color: #ffffc0; padding-left: 5px; padding-right: 5px; }\n",
       "span.linenos.special { color: #000000; background-color: #ffffc0; padding-left: 5px; padding-right: 5px; }\n",
       ".output_html .hll { background-color: #ffffcc }\n",
       ".output_html { background: #f8f8f8; }\n",
       ".output_html .c { color: #3D7B7B; font-style: italic } /* Comment */\n",
       ".output_html .err { border: 1px solid #FF0000 } /* Error */\n",
       ".output_html .k { color: #008000; font-weight: bold } /* Keyword */\n",
       ".output_html .o { color: #666666 } /* Operator */\n",
       ".output_html .ch { color: #3D7B7B; font-style: italic } /* Comment.Hashbang */\n",
       ".output_html .cm { color: #3D7B7B; font-style: italic } /* Comment.Multiline */\n",
       ".output_html .cp { color: #9C6500 } /* Comment.Preproc */\n",
       ".output_html .cpf { color: #3D7B7B; font-style: italic } /* Comment.PreprocFile */\n",
       ".output_html .c1 { color: #3D7B7B; font-style: italic } /* Comment.Single */\n",
       ".output_html .cs { color: #3D7B7B; font-style: italic } /* Comment.Special */\n",
       ".output_html .gd { color: #A00000 } /* Generic.Deleted */\n",
       ".output_html .ge { font-style: italic } /* Generic.Emph */\n",
       ".output_html .ges { font-weight: bold; font-style: italic } /* Generic.EmphStrong */\n",
       ".output_html .gr { color: #E40000 } /* Generic.Error */\n",
       ".output_html .gh { color: #000080; font-weight: bold } /* Generic.Heading */\n",
       ".output_html .gi { color: #008400 } /* Generic.Inserted */\n",
       ".output_html .go { color: #717171 } /* Generic.Output */\n",
       ".output_html .gp { color: #000080; font-weight: bold } /* Generic.Prompt */\n",
       ".output_html .gs { font-weight: bold } /* Generic.Strong */\n",
       ".output_html .gu { color: #800080; font-weight: bold } /* Generic.Subheading */\n",
       ".output_html .gt { color: #0044DD } /* Generic.Traceback */\n",
       ".output_html .kc { color: #008000; font-weight: bold } /* Keyword.Constant */\n",
       ".output_html .kd { color: #008000; font-weight: bold } /* Keyword.Declaration */\n",
       ".output_html .kn { color: #008000; font-weight: bold } /* Keyword.Namespace */\n",
       ".output_html .kp { color: #008000 } /* Keyword.Pseudo */\n",
       ".output_html .kr { color: #008000; font-weight: bold } /* Keyword.Reserved */\n",
       ".output_html .kt { color: #B00040 } /* Keyword.Type */\n",
       ".output_html .m { color: #666666 } /* Literal.Number */\n",
       ".output_html .s { color: #BA2121 } /* Literal.String */\n",
       ".output_html .na { color: #687822 } /* Name.Attribute */\n",
       ".output_html .nb { color: #008000 } /* Name.Builtin */\n",
       ".output_html .nc { color: #0000FF; font-weight: bold } /* Name.Class */\n",
       ".output_html .no { color: #880000 } /* Name.Constant */\n",
       ".output_html .nd { color: #AA22FF } /* Name.Decorator */\n",
       ".output_html .ni { color: #717171; font-weight: bold } /* Name.Entity */\n",
       ".output_html .ne { color: #CB3F38; font-weight: bold } /* Name.Exception */\n",
       ".output_html .nf { color: #0000FF } /* Name.Function */\n",
       ".output_html .nl { color: #767600 } /* Name.Label */\n",
       ".output_html .nn { color: #0000FF; font-weight: bold } /* Name.Namespace */\n",
       ".output_html .nt { color: #008000; font-weight: bold } /* Name.Tag */\n",
       ".output_html .nv { color: #19177C } /* Name.Variable */\n",
       ".output_html .ow { color: #AA22FF; font-weight: bold } /* Operator.Word */\n",
       ".output_html .w { color: #bbbbbb } /* Text.Whitespace */\n",
       ".output_html .mb { color: #666666 } /* Literal.Number.Bin */\n",
       ".output_html .mf { color: #666666 } /* Literal.Number.Float */\n",
       ".output_html .mh { color: #666666 } /* Literal.Number.Hex */\n",
       ".output_html .mi { color: #666666 } /* Literal.Number.Integer */\n",
       ".output_html .mo { color: #666666 } /* Literal.Number.Oct */\n",
       ".output_html .sa { color: #BA2121 } /* Literal.String.Affix */\n",
       ".output_html .sb { color: #BA2121 } /* Literal.String.Backtick */\n",
       ".output_html .sc { color: #BA2121 } /* Literal.String.Char */\n",
       ".output_html .dl { color: #BA2121 } /* Literal.String.Delimiter */\n",
       ".output_html .sd { color: #BA2121; font-style: italic } /* Literal.String.Doc */\n",
       ".output_html .s2 { color: #BA2121 } /* Literal.String.Double */\n",
       ".output_html .se { color: #AA5D1F; font-weight: bold } /* Literal.String.Escape */\n",
       ".output_html .sh { color: #BA2121 } /* Literal.String.Heredoc */\n",
       ".output_html .si { color: #A45A77; font-weight: bold } /* Literal.String.Interpol */\n",
       ".output_html .sx { color: #008000 } /* Literal.String.Other */\n",
       ".output_html .sr { color: #A45A77 } /* Literal.String.Regex */\n",
       ".output_html .s1 { color: #BA2121 } /* Literal.String.Single */\n",
       ".output_html .ss { color: #19177C } /* Literal.String.Symbol */\n",
       ".output_html .bp { color: #008000 } /* Name.Builtin.Pseudo */\n",
       ".output_html .fm { color: #0000FF } /* Name.Function.Magic */\n",
       ".output_html .vc { color: #19177C } /* Name.Variable.Class */\n",
       ".output_html .vg { color: #19177C } /* Name.Variable.Global */\n",
       ".output_html .vi { color: #19177C } /* Name.Variable.Instance */\n",
       ".output_html .vm { color: #19177C } /* Name.Variable.Magic */\n",
       ".output_html .il { color: #666666 } /* Literal.Number.Integer.Long */</style><div class=\"highlight\"><pre><span></span>-r ../../requirements.txt\n",
       "attrs\n",
       "cloudpickle\n",
       "decorator\n",
       "numpy\n",
       "psutil\n",
       "scipy\n",
       "synr\n",
       "tornado\n",
       "typing_extensions\n",
       "tflite\n",
       "</pre></div>\n"
      ],
      "text/latex": [
       "\\begin{Verbatim}[commandchars=\\\\\\{\\}]\n",
       "\\PYZhy{}r ../../requirements.txt\n",
       "attrs\n",
       "cloudpickle\n",
       "decorator\n",
       "numpy\n",
       "psutil\n",
       "scipy\n",
       "synr\n",
       "tornado\n",
       "typing\\PYZus{}extensions\n",
       "tflite\n",
       "\\end{Verbatim}\n"
      ],
      "text/plain": [
       "-r ../../requirements.txt\n",
       "attrs\n",
       "cloudpickle\n",
       "decorator\n",
       "numpy\n",
       "psutil\n",
       "scipy\n",
       "synr\n",
       "tornado\n",
       "typing_extensions\n",
       "tflite"
      ]
     },
     "execution_count": 10,
     "metadata": {},
     "output_type": "execute_result"
    }
   ],
   "source": [
    "Code(filename=\"requirements.txt\")"
   ]
  },
  {
   "cell_type": "markdown",
   "id": "9f28ad19",
   "metadata": {
    "papermill": {
     "duration": 0.008925,
     "end_time": "2023-12-31T09:05:47.728924",
     "exception": false,
     "start_time": "2023-12-31T09:05:47.719999",
     "status": "completed"
    },
    "tags": []
   },
   "source": [
    "Set up MLonmCU as usual, i.e. initializa an environment and install all required dependencies. Feel free to use the following minimal `environment.yml.j2` template:"
   ]
  },
  {
   "cell_type": "code",
   "execution_count": 11,
   "id": "6c963043-116a-4dfd-885e-ad038f027272",
   "metadata": {
    "execution": {
     "iopub.execute_input": "2023-12-31T09:05:47.742606Z",
     "iopub.status.busy": "2023-12-31T09:05:47.742257Z",
     "iopub.status.idle": "2023-12-31T09:05:47.770887Z",
     "shell.execute_reply": "2023-12-31T09:05:47.770220Z"
    },
    "papermill": {
     "duration": 0.036897,
     "end_time": "2023-12-31T09:05:47.772491",
     "exception": false,
     "start_time": "2023-12-31T09:05:47.735594",
     "status": "completed"
    },
    "tags": []
   },
   "outputs": [
    {
     "data": {
      "text/html": [
       "<style>pre { line-height: 125%; }\n",
       "td.linenos .normal { color: inherit; background-color: transparent; padding-left: 5px; padding-right: 5px; }\n",
       "span.linenos { color: inherit; background-color: transparent; padding-left: 5px; padding-right: 5px; }\n",
       "td.linenos .special { color: #000000; background-color: #ffffc0; padding-left: 5px; padding-right: 5px; }\n",
       "span.linenos.special { color: #000000; background-color: #ffffc0; padding-left: 5px; padding-right: 5px; }\n",
       ".output_html .hll { background-color: #ffffcc }\n",
       ".output_html { background: #f8f8f8; }\n",
       ".output_html .c { color: #3D7B7B; font-style: italic } /* Comment */\n",
       ".output_html .err { border: 1px solid #FF0000 } /* Error */\n",
       ".output_html .k { color: #008000; font-weight: bold } /* Keyword */\n",
       ".output_html .o { color: #666666 } /* Operator */\n",
       ".output_html .ch { color: #3D7B7B; font-style: italic } /* Comment.Hashbang */\n",
       ".output_html .cm { color: #3D7B7B; font-style: italic } /* Comment.Multiline */\n",
       ".output_html .cp { color: #9C6500 } /* Comment.Preproc */\n",
       ".output_html .cpf { color: #3D7B7B; font-style: italic } /* Comment.PreprocFile */\n",
       ".output_html .c1 { color: #3D7B7B; font-style: italic } /* Comment.Single */\n",
       ".output_html .cs { color: #3D7B7B; font-style: italic } /* Comment.Special */\n",
       ".output_html .gd { color: #A00000 } /* Generic.Deleted */\n",
       ".output_html .ge { font-style: italic } /* Generic.Emph */\n",
       ".output_html .ges { font-weight: bold; font-style: italic } /* Generic.EmphStrong */\n",
       ".output_html .gr { color: #E40000 } /* Generic.Error */\n",
       ".output_html .gh { color: #000080; font-weight: bold } /* Generic.Heading */\n",
       ".output_html .gi { color: #008400 } /* Generic.Inserted */\n",
       ".output_html .go { color: #717171 } /* Generic.Output */\n",
       ".output_html .gp { color: #000080; font-weight: bold } /* Generic.Prompt */\n",
       ".output_html .gs { font-weight: bold } /* Generic.Strong */\n",
       ".output_html .gu { color: #800080; font-weight: bold } /* Generic.Subheading */\n",
       ".output_html .gt { color: #0044DD } /* Generic.Traceback */\n",
       ".output_html .kc { color: #008000; font-weight: bold } /* Keyword.Constant */\n",
       ".output_html .kd { color: #008000; font-weight: bold } /* Keyword.Declaration */\n",
       ".output_html .kn { color: #008000; font-weight: bold } /* Keyword.Namespace */\n",
       ".output_html .kp { color: #008000 } /* Keyword.Pseudo */\n",
       ".output_html .kr { color: #008000; font-weight: bold } /* Keyword.Reserved */\n",
       ".output_html .kt { color: #B00040 } /* Keyword.Type */\n",
       ".output_html .m { color: #666666 } /* Literal.Number */\n",
       ".output_html .s { color: #BA2121 } /* Literal.String */\n",
       ".output_html .na { color: #687822 } /* Name.Attribute */\n",
       ".output_html .nb { color: #008000 } /* Name.Builtin */\n",
       ".output_html .nc { color: #0000FF; font-weight: bold } /* Name.Class */\n",
       ".output_html .no { color: #880000 } /* Name.Constant */\n",
       ".output_html .nd { color: #AA22FF } /* Name.Decorator */\n",
       ".output_html .ni { color: #717171; font-weight: bold } /* Name.Entity */\n",
       ".output_html .ne { color: #CB3F38; font-weight: bold } /* Name.Exception */\n",
       ".output_html .nf { color: #0000FF } /* Name.Function */\n",
       ".output_html .nl { color: #767600 } /* Name.Label */\n",
       ".output_html .nn { color: #0000FF; font-weight: bold } /* Name.Namespace */\n",
       ".output_html .nt { color: #008000; font-weight: bold } /* Name.Tag */\n",
       ".output_html .nv { color: #19177C } /* Name.Variable */\n",
       ".output_html .ow { color: #AA22FF; font-weight: bold } /* Operator.Word */\n",
       ".output_html .w { color: #bbbbbb } /* Text.Whitespace */\n",
       ".output_html .mb { color: #666666 } /* Literal.Number.Bin */\n",
       ".output_html .mf { color: #666666 } /* Literal.Number.Float */\n",
       ".output_html .mh { color: #666666 } /* Literal.Number.Hex */\n",
       ".output_html .mi { color: #666666 } /* Literal.Number.Integer */\n",
       ".output_html .mo { color: #666666 } /* Literal.Number.Oct */\n",
       ".output_html .sa { color: #BA2121 } /* Literal.String.Affix */\n",
       ".output_html .sb { color: #BA2121 } /* Literal.String.Backtick */\n",
       ".output_html .sc { color: #BA2121 } /* Literal.String.Char */\n",
       ".output_html .dl { color: #BA2121 } /* Literal.String.Delimiter */\n",
       ".output_html .sd { color: #BA2121; font-style: italic } /* Literal.String.Doc */\n",
       ".output_html .s2 { color: #BA2121 } /* Literal.String.Double */\n",
       ".output_html .se { color: #AA5D1F; font-weight: bold } /* Literal.String.Escape */\n",
       ".output_html .sh { color: #BA2121 } /* Literal.String.Heredoc */\n",
       ".output_html .si { color: #A45A77; font-weight: bold } /* Literal.String.Interpol */\n",
       ".output_html .sx { color: #008000 } /* Literal.String.Other */\n",
       ".output_html .sr { color: #A45A77 } /* Literal.String.Regex */\n",
       ".output_html .s1 { color: #BA2121 } /* Literal.String.Single */\n",
       ".output_html .ss { color: #19177C } /* Literal.String.Symbol */\n",
       ".output_html .bp { color: #008000 } /* Name.Builtin.Pseudo */\n",
       ".output_html .fm { color: #0000FF } /* Name.Function.Magic */\n",
       ".output_html .vc { color: #19177C } /* Name.Variable.Class */\n",
       ".output_html .vg { color: #19177C } /* Name.Variable.Global */\n",
       ".output_html .vi { color: #19177C } /* Name.Variable.Instance */\n",
       ".output_html .vm { color: #19177C } /* Name.Variable.Magic */\n",
       ".output_html .il { color: #666666 } /* Literal.Number.Integer.Long */</style><div class=\"highlight\"><pre><span></span><span class=\"nn\">---</span>\n",
       "<span class=\"c1\"># The MLONMCU_HOME is filled in automatically when creating the environment</span>\n",
       "<span class=\"nt\">home</span><span class=\"p\">:</span><span class=\"w\"> </span><span class=\"s\">&quot;</span><span class=\"cp\">{{</span> <span class=\"nv\">home_dir</span> <span class=\"cp\">}}</span><span class=\"s\">&quot;</span>\n",
       "<span class=\"nt\">logging</span><span class=\"p\">:</span>\n",
       "<span class=\"w\">  </span><span class=\"nt\">level</span><span class=\"p\">:</span><span class=\"w\"> </span><span class=\"l l-Scalar l-Scalar-Plain\">INFO</span>\n",
       "<span class=\"w\">  </span><span class=\"nt\">to_file</span><span class=\"p\">:</span><span class=\"w\"> </span><span class=\"l l-Scalar l-Scalar-Plain\">false</span>\n",
       "<span class=\"w\">  </span><span class=\"nt\">rotate</span><span class=\"p\">:</span><span class=\"w\"> </span><span class=\"l l-Scalar l-Scalar-Plain\">false</span>\n",
       "<span class=\"nt\">cleanup</span><span class=\"p\">:</span>\n",
       "<span class=\"w\">  </span><span class=\"nt\">auto</span><span class=\"p\">:</span><span class=\"w\"> </span><span class=\"l l-Scalar l-Scalar-Plain\">true</span>\n",
       "<span class=\"w\">  </span><span class=\"nt\">keep</span><span class=\"p\">:</span><span class=\"w\"> </span><span class=\"l l-Scalar l-Scalar-Plain\">5</span>\n",
       "<span class=\"c1\"># Default locations for certain directoriescan be changed here</span>\n",
       "<span class=\"c1\"># Non-absolute paths will always be threated relative to the MLONMCU_HOME</span>\n",
       "<span class=\"nt\">paths</span><span class=\"p\">:</span>\n",
       "<span class=\"w\">  </span><span class=\"c1\"># Where the dependencies are downloaded and installed</span>\n",
       "<span class=\"w\">  </span><span class=\"nt\">deps</span><span class=\"p\">:</span><span class=\"w\"> </span><span class=\"l l-Scalar l-Scalar-Plain\">deps</span>\n",
       "<span class=\"w\">  </span><span class=\"c1\"># If logging to file is used keep logs in this directory</span>\n",
       "<span class=\"w\">  </span><span class=\"nt\">logs</span><span class=\"p\">:</span><span class=\"w\"> </span><span class=\"l l-Scalar l-Scalar-Plain\">logs</span>\n",
       "<span class=\"w\">  </span><span class=\"c1\"># Location where reports and artifacts are written to</span>\n",
       "<span class=\"w\">  </span><span class=\"nt\">results</span><span class=\"p\">:</span><span class=\"w\"> </span><span class=\"l l-Scalar l-Scalar-Plain\">results</span>\n",
       "<span class=\"w\">  </span><span class=\"c1\"># Directory where custom extensions can be integrated</span>\n",
       "<span class=\"w\">  </span><span class=\"nt\">plugins</span><span class=\"p\">:</span><span class=\"w\"> </span><span class=\"l l-Scalar l-Scalar-Plain\">plugins</span>\n",
       "<span class=\"w\">  </span><span class=\"c1\"># Directory for intermediate build products, should be located on a large enough drive</span>\n",
       "<span class=\"w\">  </span><span class=\"nt\">temp</span><span class=\"p\">:</span><span class=\"w\"> </span><span class=\"l l-Scalar l-Scalar-Plain\">temp</span>\n",
       "<span class=\"w\">  </span><span class=\"c1\"># A collection of models which will be used to look for models</span>\n",
       "<span class=\"w\">  </span><span class=\"c1\"># The paths will be checked in the order defined here stopping at the first match</span>\n",
       "<span class=\"w\">  </span><span class=\"c1\"># Non-existant paths will be skipped without throwing an error</span>\n",
       "<span class=\"w\">  </span><span class=\"nt\">models</span><span class=\"p\">:</span>\n",
       "<span class=\"w\">    </span><span class=\"p p-Indicator\">-</span><span class=\"w\"> </span><span class=\"s\">&quot;</span><span class=\"cp\">{{</span> <span class=\"nv\">home_dir</span> <span class=\"cp\">}}</span><span class=\"s\">/models&quot;</span>\n",
       "<span class=\"c1\"># Here default clone_urls</span>\n",
       "<span class=\"nt\">repos</span><span class=\"p\">:</span>\n",
       "<span class=\"w\">  </span><span class=\"nt\">tvm</span><span class=\"p\">:</span>\n",
       "<span class=\"w\">    </span><span class=\"nt\">url</span><span class=\"p\">:</span><span class=\"w\"> </span><span class=\"s\">&quot;https://github.com/apache/tvm.git&quot;</span>\n",
       "<span class=\"w\">    </span><span class=\"nt\">ref</span><span class=\"p\">:</span><span class=\"w\"> </span><span class=\"l l-Scalar l-Scalar-Plain\">a9fcac1a47f4b57c1d9d828c7ed1d77452b02cc5</span>\n",
       "<span class=\"w\">    </span><span class=\"nt\">options</span><span class=\"p\">:</span>\n",
       "<span class=\"w\">      </span><span class=\"nt\">recursive</span><span class=\"p\">:</span><span class=\"w\"> </span><span class=\"l l-Scalar l-Scalar-Plain\">true</span>\n",
       "<span class=\"w\">  </span><span class=\"nt\">etiss</span><span class=\"p\">:</span>\n",
       "<span class=\"w\">    </span><span class=\"nt\">url</span><span class=\"p\">:</span><span class=\"w\"> </span><span class=\"s\">&quot;https://github.com/tum-ei-eda/etiss.git&quot;</span>\n",
       "<span class=\"w\">    </span><span class=\"nt\">ref</span><span class=\"p\">:</span><span class=\"w\"> </span><span class=\"l l-Scalar l-Scalar-Plain\">40c0b920cf4072adf189211ca44291534355dcfd</span>\n",
       "<span class=\"w\">  </span><span class=\"nt\">mlif</span><span class=\"p\">:</span>\n",
       "<span class=\"w\">    </span><span class=\"nt\">url</span><span class=\"p\">:</span><span class=\"w\"> </span><span class=\"s\">&quot;https://github.com/tum-ei-eda/mlonmcu-sw.git&quot;</span>\n",
       "<span class=\"w\">    </span><span class=\"nt\">ref</span><span class=\"p\">:</span><span class=\"w\"> </span><span class=\"l l-Scalar l-Scalar-Plain\">c7b0e7364c232666ebd5a17476181e3ff9a71d70</span>\n",
       "<span class=\"w\">  </span><span class=\"nt\">tflite_pack</span><span class=\"p\">:</span>\n",
       "<span class=\"w\">    </span><span class=\"nt\">url</span><span class=\"p\">:</span><span class=\"w\"> </span><span class=\"s\">&quot;https://github.com/tum-ei-eda/tflite-pack.git&quot;</span>\n",
       "<span class=\"w\">    </span><span class=\"nt\">ref</span><span class=\"p\">:</span><span class=\"w\"> </span><span class=\"l l-Scalar l-Scalar-Plain\">2d31cafc941d3889b042af9c0a72b5f768ac4606</span>\n",
       "<span class=\"nt\">frameworks</span><span class=\"p\">:</span>\n",
       "<span class=\"w\">  </span><span class=\"nt\">default</span><span class=\"p\">:</span><span class=\"w\"> </span><span class=\"l l-Scalar l-Scalar-Plain\">tvm</span>\n",
       "<span class=\"w\">  </span><span class=\"nt\">tvm</span><span class=\"p\">:</span>\n",
       "<span class=\"w\">    </span><span class=\"nt\">enabled</span><span class=\"p\">:</span><span class=\"w\"> </span><span class=\"l l-Scalar l-Scalar-Plain\">true</span>\n",
       "<span class=\"w\">    </span><span class=\"nt\">backends</span><span class=\"p\">:</span>\n",
       "<span class=\"w\">      </span><span class=\"nt\">default</span><span class=\"p\">:</span><span class=\"w\"> </span><span class=\"l l-Scalar l-Scalar-Plain\">tvmaotplus</span>\n",
       "<span class=\"w\">      </span><span class=\"nt\">tvmaotplus</span><span class=\"p\">:</span>\n",
       "<span class=\"w\">        </span><span class=\"nt\">enabled</span><span class=\"p\">:</span><span class=\"w\"> </span><span class=\"l l-Scalar l-Scalar-Plain\">true</span>\n",
       "<span class=\"w\">        </span><span class=\"nt\">features</span><span class=\"p\">:</span><span class=\"w\"> </span><span class=\"p p-Indicator\">{}</span>\n",
       "<span class=\"w\">      </span><span class=\"nt\">tvmllvm</span><span class=\"p\">:</span>\n",
       "<span class=\"w\">        </span><span class=\"nt\">enabled</span><span class=\"p\">:</span><span class=\"w\"> </span><span class=\"l l-Scalar l-Scalar-Plain\">true</span>\n",
       "<span class=\"w\">        </span><span class=\"nt\">features</span><span class=\"p\">:</span><span class=\"w\"> </span><span class=\"p p-Indicator\">{}</span>\n",
       "<span class=\"w\">    </span><span class=\"nt\">features</span><span class=\"p\">:</span><span class=\"w\"> </span><span class=\"p p-Indicator\">{}</span>\n",
       "<span class=\"nt\">frontends</span><span class=\"p\">:</span>\n",
       "<span class=\"w\">  </span><span class=\"nt\">tflite</span><span class=\"p\">:</span>\n",
       "<span class=\"w\">    </span><span class=\"nt\">enabled</span><span class=\"p\">:</span><span class=\"w\"> </span><span class=\"l l-Scalar l-Scalar-Plain\">true</span>\n",
       "<span class=\"w\">    </span><span class=\"nt\">features</span><span class=\"p\">:</span>\n",
       "<span class=\"w\">      </span><span class=\"nt\">split_layers</span><span class=\"p\">:</span><span class=\"w\"> </span><span class=\"l l-Scalar l-Scalar-Plain\">true</span>\n",
       "<span class=\"nt\">toolchains</span><span class=\"p\">:</span>\n",
       "<span class=\"w\">  </span><span class=\"nt\">gcc</span><span class=\"p\">:</span><span class=\"w\"> </span><span class=\"l l-Scalar l-Scalar-Plain\">true</span>\n",
       "<span class=\"nt\">platforms</span><span class=\"p\">:</span>\n",
       "<span class=\"w\">  </span><span class=\"nt\">mlif</span><span class=\"p\">:</span>\n",
       "<span class=\"w\">    </span><span class=\"nt\">enabled</span><span class=\"p\">:</span><span class=\"w\"> </span><span class=\"l l-Scalar l-Scalar-Plain\">true</span>\n",
       "<span class=\"w\">    </span><span class=\"nt\">features</span><span class=\"p\">:</span>\n",
       "<span class=\"w\">      </span><span class=\"nt\">debug</span><span class=\"p\">:</span><span class=\"w\"> </span><span class=\"l l-Scalar l-Scalar-Plain\">true</span>\n",
       "<span class=\"w\">  </span><span class=\"nt\">tvm</span><span class=\"p\">:</span>\n",
       "<span class=\"w\">    </span><span class=\"nt\">enabled</span><span class=\"p\">:</span><span class=\"w\"> </span><span class=\"l l-Scalar l-Scalar-Plain\">true</span>\n",
       "<span class=\"w\">    </span><span class=\"nt\">features</span><span class=\"p\">:</span>\n",
       "<span class=\"w\">      </span><span class=\"nt\">tvm_profile</span><span class=\"p\">:</span><span class=\"w\"> </span><span class=\"l l-Scalar l-Scalar-Plain\">true</span>\n",
       "<span class=\"nt\">targets</span><span class=\"p\">:</span>\n",
       "<span class=\"w\">  </span><span class=\"nt\">default</span><span class=\"p\">:</span><span class=\"w\"> </span><span class=\"l l-Scalar l-Scalar-Plain\">host_x86</span>\n",
       "<span class=\"w\">  </span><span class=\"nt\">etiss</span><span class=\"p\">:</span>\n",
       "<span class=\"w\">    </span><span class=\"nt\">enabled</span><span class=\"p\">:</span><span class=\"w\"> </span><span class=\"l l-Scalar l-Scalar-Plain\">true</span>\n",
       "<span class=\"w\">    </span><span class=\"nt\">features</span><span class=\"p\">:</span>\n",
       "<span class=\"w\">      </span><span class=\"nt\">log_instrs</span><span class=\"p\">:</span><span class=\"w\"> </span><span class=\"l l-Scalar l-Scalar-Plain\">true</span>\n",
       "<span class=\"w\">  </span><span class=\"nt\">host_x86</span><span class=\"p\">:</span>\n",
       "<span class=\"w\">    </span><span class=\"nt\">enabled</span><span class=\"p\">:</span><span class=\"w\"> </span><span class=\"l l-Scalar l-Scalar-Plain\">true</span>\n",
       "<span class=\"w\">    </span><span class=\"nt\">features</span><span class=\"p\">:</span><span class=\"w\"> </span><span class=\"p p-Indicator\">[]</span>\n",
       "<span class=\"w\">  </span><span class=\"nt\">tvm_cpu</span><span class=\"p\">:</span>\n",
       "<span class=\"w\">    </span><span class=\"nt\">enabled</span><span class=\"p\">:</span><span class=\"w\"> </span><span class=\"l l-Scalar l-Scalar-Plain\">true</span>\n",
       "<span class=\"w\">    </span><span class=\"nt\">features</span><span class=\"p\">:</span><span class=\"w\"> </span><span class=\"p p-Indicator\">[]</span>\n",
       "<span class=\"nt\">postprocesses</span><span class=\"p\">:</span>\n",
       "<span class=\"w\">  </span><span class=\"nt\">use</span><span class=\"p\">:</span><span class=\"w\"> </span><span class=\"p p-Indicator\">[]</span>\n",
       "<span class=\"nt\">vars</span><span class=\"p\">:</span>\n",
       "<span class=\"w\">  </span><span class=\"nt\">allow_extensions</span><span class=\"p\">:</span><span class=\"w\"> </span><span class=\"l l-Scalar l-Scalar-Plain\">false</span>\n",
       "<span class=\"w\">  </span><span class=\"nt\">runs_per_stage</span><span class=\"p\">:</span><span class=\"w\"> </span><span class=\"l l-Scalar l-Scalar-Plain\">true</span>\n",
       "<span class=\"w\">  </span><span class=\"nt\">riscv_gcc.dl_url</span><span class=\"p\">:</span><span class=\"w\"> </span><span class=\"s\">&quot;https://syncandshare.lrz.de/dl/fiD9HnHYkb2V8kNbVQYv242m/rv32gc.tar.gz&quot;</span>\n",
       "<span class=\"nt\">flags</span><span class=\"p\">:</span><span class=\"w\"> </span><span class=\"p p-Indicator\">{}</span>\n",
       "</pre></div>\n"
      ],
      "text/latex": [
       "\\begin{Verbatim}[commandchars=\\\\\\{\\}]\n",
       "\\PY{n+nn}{\\PYZhy{}\\PYZhy{}\\PYZhy{}}\n",
       "\\PY{c+c1}{\\PYZsh{} The MLONMCU\\PYZus{}HOME is filled in automatically when creating the environment}\n",
       "\\PY{n+nt}{home}\\PY{p}{:}\\PY{+w}{ }\\PY{l+s}{\\PYZdq{}}\\PY{c+cp}{\\PYZob{}\\PYZob{}} \\PY{n+nv}{home\\PYZus{}dir} \\PY{c+cp}{\\PYZcb{}\\PYZcb{}}\\PY{l+s}{\\PYZdq{}}\n",
       "\\PY{n+nt}{logging}\\PY{p}{:}\n",
       "\\PY{+w}{  }\\PY{n+nt}{level}\\PY{p}{:}\\PY{+w}{ }\\PY{l+lScalar+lScalarPlain}{INFO}\n",
       "\\PY{+w}{  }\\PY{n+nt}{to\\PYZus{}file}\\PY{p}{:}\\PY{+w}{ }\\PY{l+lScalar+lScalarPlain}{false}\n",
       "\\PY{+w}{  }\\PY{n+nt}{rotate}\\PY{p}{:}\\PY{+w}{ }\\PY{l+lScalar+lScalarPlain}{false}\n",
       "\\PY{n+nt}{cleanup}\\PY{p}{:}\n",
       "\\PY{+w}{  }\\PY{n+nt}{auto}\\PY{p}{:}\\PY{+w}{ }\\PY{l+lScalar+lScalarPlain}{true}\n",
       "\\PY{+w}{  }\\PY{n+nt}{keep}\\PY{p}{:}\\PY{+w}{ }\\PY{l+lScalar+lScalarPlain}{5}\n",
       "\\PY{c+c1}{\\PYZsh{} Default locations for certain directoriescan be changed here}\n",
       "\\PY{c+c1}{\\PYZsh{} Non\\PYZhy{}absolute paths will always be threated relative to the MLONMCU\\PYZus{}HOME}\n",
       "\\PY{n+nt}{paths}\\PY{p}{:}\n",
       "\\PY{+w}{  }\\PY{c+c1}{\\PYZsh{} Where the dependencies are downloaded and installed}\n",
       "\\PY{+w}{  }\\PY{n+nt}{deps}\\PY{p}{:}\\PY{+w}{ }\\PY{l+lScalar+lScalarPlain}{deps}\n",
       "\\PY{+w}{  }\\PY{c+c1}{\\PYZsh{} If logging to file is used keep logs in this directory}\n",
       "\\PY{+w}{  }\\PY{n+nt}{logs}\\PY{p}{:}\\PY{+w}{ }\\PY{l+lScalar+lScalarPlain}{logs}\n",
       "\\PY{+w}{  }\\PY{c+c1}{\\PYZsh{} Location where reports and artifacts are written to}\n",
       "\\PY{+w}{  }\\PY{n+nt}{results}\\PY{p}{:}\\PY{+w}{ }\\PY{l+lScalar+lScalarPlain}{results}\n",
       "\\PY{+w}{  }\\PY{c+c1}{\\PYZsh{} Directory where custom extensions can be integrated}\n",
       "\\PY{+w}{  }\\PY{n+nt}{plugins}\\PY{p}{:}\\PY{+w}{ }\\PY{l+lScalar+lScalarPlain}{plugins}\n",
       "\\PY{+w}{  }\\PY{c+c1}{\\PYZsh{} Directory for intermediate build products, should be located on a large enough drive}\n",
       "\\PY{+w}{  }\\PY{n+nt}{temp}\\PY{p}{:}\\PY{+w}{ }\\PY{l+lScalar+lScalarPlain}{temp}\n",
       "\\PY{+w}{  }\\PY{c+c1}{\\PYZsh{} A collection of models which will be used to look for models}\n",
       "\\PY{+w}{  }\\PY{c+c1}{\\PYZsh{} The paths will be checked in the order defined here stopping at the first match}\n",
       "\\PY{+w}{  }\\PY{c+c1}{\\PYZsh{} Non\\PYZhy{}existant paths will be skipped without throwing an error}\n",
       "\\PY{+w}{  }\\PY{n+nt}{models}\\PY{p}{:}\n",
       "\\PY{+w}{    }\\PY{p+pIndicator}{\\PYZhy{}}\\PY{+w}{ }\\PY{l+s}{\\PYZdq{}}\\PY{c+cp}{\\PYZob{}\\PYZob{}} \\PY{n+nv}{home\\PYZus{}dir} \\PY{c+cp}{\\PYZcb{}\\PYZcb{}}\\PY{l+s}{/models}\\PY{l+s}{\\PYZdq{}}\n",
       "\\PY{c+c1}{\\PYZsh{} Here default clone\\PYZus{}urls}\n",
       "\\PY{n+nt}{repos}\\PY{p}{:}\n",
       "\\PY{+w}{  }\\PY{n+nt}{tvm}\\PY{p}{:}\n",
       "\\PY{+w}{    }\\PY{n+nt}{url}\\PY{p}{:}\\PY{+w}{ }\\PY{l+s}{\\PYZdq{}}\\PY{l+s}{https://github.com/apache/tvm.git}\\PY{l+s}{\\PYZdq{}}\n",
       "\\PY{+w}{    }\\PY{n+nt}{ref}\\PY{p}{:}\\PY{+w}{ }\\PY{l+lScalar+lScalarPlain}{a9fcac1a47f4b57c1d9d828c7ed1d77452b02cc5}\n",
       "\\PY{+w}{    }\\PY{n+nt}{options}\\PY{p}{:}\n",
       "\\PY{+w}{      }\\PY{n+nt}{recursive}\\PY{p}{:}\\PY{+w}{ }\\PY{l+lScalar+lScalarPlain}{true}\n",
       "\\PY{+w}{  }\\PY{n+nt}{etiss}\\PY{p}{:}\n",
       "\\PY{+w}{    }\\PY{n+nt}{url}\\PY{p}{:}\\PY{+w}{ }\\PY{l+s}{\\PYZdq{}}\\PY{l+s}{https://github.com/tum\\PYZhy{}ei\\PYZhy{}eda/etiss.git}\\PY{l+s}{\\PYZdq{}}\n",
       "\\PY{+w}{    }\\PY{n+nt}{ref}\\PY{p}{:}\\PY{+w}{ }\\PY{l+lScalar+lScalarPlain}{40c0b920cf4072adf189211ca44291534355dcfd}\n",
       "\\PY{+w}{  }\\PY{n+nt}{mlif}\\PY{p}{:}\n",
       "\\PY{+w}{    }\\PY{n+nt}{url}\\PY{p}{:}\\PY{+w}{ }\\PY{l+s}{\\PYZdq{}}\\PY{l+s}{https://github.com/tum\\PYZhy{}ei\\PYZhy{}eda/mlonmcu\\PYZhy{}sw.git}\\PY{l+s}{\\PYZdq{}}\n",
       "\\PY{+w}{    }\\PY{n+nt}{ref}\\PY{p}{:}\\PY{+w}{ }\\PY{l+lScalar+lScalarPlain}{c7b0e7364c232666ebd5a17476181e3ff9a71d70}\n",
       "\\PY{+w}{  }\\PY{n+nt}{tflite\\PYZus{}pack}\\PY{p}{:}\n",
       "\\PY{+w}{    }\\PY{n+nt}{url}\\PY{p}{:}\\PY{+w}{ }\\PY{l+s}{\\PYZdq{}}\\PY{l+s}{https://github.com/tum\\PYZhy{}ei\\PYZhy{}eda/tflite\\PYZhy{}pack.git}\\PY{l+s}{\\PYZdq{}}\n",
       "\\PY{+w}{    }\\PY{n+nt}{ref}\\PY{p}{:}\\PY{+w}{ }\\PY{l+lScalar+lScalarPlain}{2d31cafc941d3889b042af9c0a72b5f768ac4606}\n",
       "\\PY{n+nt}{frameworks}\\PY{p}{:}\n",
       "\\PY{+w}{  }\\PY{n+nt}{default}\\PY{p}{:}\\PY{+w}{ }\\PY{l+lScalar+lScalarPlain}{tvm}\n",
       "\\PY{+w}{  }\\PY{n+nt}{tvm}\\PY{p}{:}\n",
       "\\PY{+w}{    }\\PY{n+nt}{enabled}\\PY{p}{:}\\PY{+w}{ }\\PY{l+lScalar+lScalarPlain}{true}\n",
       "\\PY{+w}{    }\\PY{n+nt}{backends}\\PY{p}{:}\n",
       "\\PY{+w}{      }\\PY{n+nt}{default}\\PY{p}{:}\\PY{+w}{ }\\PY{l+lScalar+lScalarPlain}{tvmaotplus}\n",
       "\\PY{+w}{      }\\PY{n+nt}{tvmaotplus}\\PY{p}{:}\n",
       "\\PY{+w}{        }\\PY{n+nt}{enabled}\\PY{p}{:}\\PY{+w}{ }\\PY{l+lScalar+lScalarPlain}{true}\n",
       "\\PY{+w}{        }\\PY{n+nt}{features}\\PY{p}{:}\\PY{+w}{ }\\PY{p+pIndicator}{\\PYZob{}}\\PY{p+pIndicator}{\\PYZcb{}}\n",
       "\\PY{+w}{      }\\PY{n+nt}{tvmllvm}\\PY{p}{:}\n",
       "\\PY{+w}{        }\\PY{n+nt}{enabled}\\PY{p}{:}\\PY{+w}{ }\\PY{l+lScalar+lScalarPlain}{true}\n",
       "\\PY{+w}{        }\\PY{n+nt}{features}\\PY{p}{:}\\PY{+w}{ }\\PY{p+pIndicator}{\\PYZob{}}\\PY{p+pIndicator}{\\PYZcb{}}\n",
       "\\PY{+w}{    }\\PY{n+nt}{features}\\PY{p}{:}\\PY{+w}{ }\\PY{p+pIndicator}{\\PYZob{}}\\PY{p+pIndicator}{\\PYZcb{}}\n",
       "\\PY{n+nt}{frontends}\\PY{p}{:}\n",
       "\\PY{+w}{  }\\PY{n+nt}{tflite}\\PY{p}{:}\n",
       "\\PY{+w}{    }\\PY{n+nt}{enabled}\\PY{p}{:}\\PY{+w}{ }\\PY{l+lScalar+lScalarPlain}{true}\n",
       "\\PY{+w}{    }\\PY{n+nt}{features}\\PY{p}{:}\n",
       "\\PY{+w}{      }\\PY{n+nt}{split\\PYZus{}layers}\\PY{p}{:}\\PY{+w}{ }\\PY{l+lScalar+lScalarPlain}{true}\n",
       "\\PY{n+nt}{toolchains}\\PY{p}{:}\n",
       "\\PY{+w}{  }\\PY{n+nt}{gcc}\\PY{p}{:}\\PY{+w}{ }\\PY{l+lScalar+lScalarPlain}{true}\n",
       "\\PY{n+nt}{platforms}\\PY{p}{:}\n",
       "\\PY{+w}{  }\\PY{n+nt}{mlif}\\PY{p}{:}\n",
       "\\PY{+w}{    }\\PY{n+nt}{enabled}\\PY{p}{:}\\PY{+w}{ }\\PY{l+lScalar+lScalarPlain}{true}\n",
       "\\PY{+w}{    }\\PY{n+nt}{features}\\PY{p}{:}\n",
       "\\PY{+w}{      }\\PY{n+nt}{debug}\\PY{p}{:}\\PY{+w}{ }\\PY{l+lScalar+lScalarPlain}{true}\n",
       "\\PY{+w}{  }\\PY{n+nt}{tvm}\\PY{p}{:}\n",
       "\\PY{+w}{    }\\PY{n+nt}{enabled}\\PY{p}{:}\\PY{+w}{ }\\PY{l+lScalar+lScalarPlain}{true}\n",
       "\\PY{+w}{    }\\PY{n+nt}{features}\\PY{p}{:}\n",
       "\\PY{+w}{      }\\PY{n+nt}{tvm\\PYZus{}profile}\\PY{p}{:}\\PY{+w}{ }\\PY{l+lScalar+lScalarPlain}{true}\n",
       "\\PY{n+nt}{targets}\\PY{p}{:}\n",
       "\\PY{+w}{  }\\PY{n+nt}{default}\\PY{p}{:}\\PY{+w}{ }\\PY{l+lScalar+lScalarPlain}{host\\PYZus{}x86}\n",
       "\\PY{+w}{  }\\PY{n+nt}{etiss}\\PY{p}{:}\n",
       "\\PY{+w}{    }\\PY{n+nt}{enabled}\\PY{p}{:}\\PY{+w}{ }\\PY{l+lScalar+lScalarPlain}{true}\n",
       "\\PY{+w}{    }\\PY{n+nt}{features}\\PY{p}{:}\n",
       "\\PY{+w}{      }\\PY{n+nt}{log\\PYZus{}instrs}\\PY{p}{:}\\PY{+w}{ }\\PY{l+lScalar+lScalarPlain}{true}\n",
       "\\PY{+w}{  }\\PY{n+nt}{host\\PYZus{}x86}\\PY{p}{:}\n",
       "\\PY{+w}{    }\\PY{n+nt}{enabled}\\PY{p}{:}\\PY{+w}{ }\\PY{l+lScalar+lScalarPlain}{true}\n",
       "\\PY{+w}{    }\\PY{n+nt}{features}\\PY{p}{:}\\PY{+w}{ }\\PY{p+pIndicator}{[}\\PY{p+pIndicator}{]}\n",
       "\\PY{+w}{  }\\PY{n+nt}{tvm\\PYZus{}cpu}\\PY{p}{:}\n",
       "\\PY{+w}{    }\\PY{n+nt}{enabled}\\PY{p}{:}\\PY{+w}{ }\\PY{l+lScalar+lScalarPlain}{true}\n",
       "\\PY{+w}{    }\\PY{n+nt}{features}\\PY{p}{:}\\PY{+w}{ }\\PY{p+pIndicator}{[}\\PY{p+pIndicator}{]}\n",
       "\\PY{n+nt}{postprocesses}\\PY{p}{:}\n",
       "\\PY{+w}{  }\\PY{n+nt}{use}\\PY{p}{:}\\PY{+w}{ }\\PY{p+pIndicator}{[}\\PY{p+pIndicator}{]}\n",
       "\\PY{n+nt}{vars}\\PY{p}{:}\n",
       "\\PY{+w}{  }\\PY{n+nt}{allow\\PYZus{}extensions}\\PY{p}{:}\\PY{+w}{ }\\PY{l+lScalar+lScalarPlain}{false}\n",
       "\\PY{+w}{  }\\PY{n+nt}{runs\\PYZus{}per\\PYZus{}stage}\\PY{p}{:}\\PY{+w}{ }\\PY{l+lScalar+lScalarPlain}{true}\n",
       "\\PY{+w}{  }\\PY{n+nt}{riscv\\PYZus{}gcc.dl\\PYZus{}url}\\PY{p}{:}\\PY{+w}{ }\\PY{l+s}{\\PYZdq{}}\\PY{l+s}{https://syncandshare.lrz.de/dl/fiD9HnHYkb2V8kNbVQYv242m/rv32gc.tar.gz}\\PY{l+s}{\\PYZdq{}}\n",
       "\\PY{n+nt}{flags}\\PY{p}{:}\\PY{+w}{ }\\PY{p+pIndicator}{\\PYZob{}}\\PY{p+pIndicator}{\\PYZcb{}}\n",
       "\\end{Verbatim}\n"
      ],
      "text/plain": [
       "---\n",
       "# The MLONMCU_HOME is filled in automatically when creating the environment\n",
       "home: \"{{ home_dir }}\"\n",
       "logging:\n",
       "  level: INFO\n",
       "  to_file: false\n",
       "  rotate: false\n",
       "cleanup:\n",
       "  auto: true\n",
       "  keep: 5\n",
       "# Default locations for certain directoriescan be changed here\n",
       "# Non-absolute paths will always be threated relative to the MLONMCU_HOME\n",
       "paths:\n",
       "  # Where the dependencies are downloaded and installed\n",
       "  deps: deps\n",
       "  # If logging to file is used keep logs in this directory\n",
       "  logs: logs\n",
       "  # Location where reports and artifacts are written to\n",
       "  results: results\n",
       "  # Directory where custom extensions can be integrated\n",
       "  plugins: plugins\n",
       "  # Directory for intermediate build products, should be located on a large enough drive\n",
       "  temp: temp\n",
       "  # A collection of models which will be used to look for models\n",
       "  # The paths will be checked in the order defined here stopping at the first match\n",
       "  # Non-existant paths will be skipped without throwing an error\n",
       "  models:\n",
       "    - \"{{ home_dir }}/models\"\n",
       "# Here default clone_urls\n",
       "repos:\n",
       "  tvm:\n",
       "    url: \"https://github.com/apache/tvm.git\"\n",
       "    ref: a9fcac1a47f4b57c1d9d828c7ed1d77452b02cc5\n",
       "    options:\n",
       "      recursive: true\n",
       "  etiss:\n",
       "    url: \"https://github.com/tum-ei-eda/etiss.git\"\n",
       "    ref: 40c0b920cf4072adf189211ca44291534355dcfd\n",
       "  mlif:\n",
       "    url: \"https://github.com/tum-ei-eda/mlonmcu-sw.git\"\n",
       "    ref: c7b0e7364c232666ebd5a17476181e3ff9a71d70\n",
       "  tflite_pack:\n",
       "    url: \"https://github.com/tum-ei-eda/tflite-pack.git\"\n",
       "    ref: 2d31cafc941d3889b042af9c0a72b5f768ac4606\n",
       "frameworks:\n",
       "  default: tvm\n",
       "  tvm:\n",
       "    enabled: true\n",
       "    backends:\n",
       "      default: tvmaotplus\n",
       "      tvmaotplus:\n",
       "        enabled: true\n",
       "        features: {}\n",
       "      tvmllvm:\n",
       "        enabled: true\n",
       "        features: {}\n",
       "    features: {}\n",
       "frontends:\n",
       "  tflite:\n",
       "    enabled: true\n",
       "    features:\n",
       "      split_layers: true\n",
       "toolchains:\n",
       "  gcc: true\n",
       "platforms:\n",
       "  mlif:\n",
       "    enabled: true\n",
       "    features:\n",
       "      debug: true\n",
       "  tvm:\n",
       "    enabled: true\n",
       "    features:\n",
       "      tvm_profile: true\n",
       "targets:\n",
       "  default: host_x86\n",
       "  etiss:\n",
       "    enabled: true\n",
       "    features:\n",
       "      log_instrs: true\n",
       "  host_x86:\n",
       "    enabled: true\n",
       "    features: []\n",
       "  tvm_cpu:\n",
       "    enabled: true\n",
       "    features: []\n",
       "postprocesses:\n",
       "  use: []\n",
       "vars:\n",
       "  allow_extensions: false\n",
       "  runs_per_stage: true\n",
       "  riscv_gcc.dl_url: \"https://syncandshare.lrz.de/dl/fiD9HnHYkb2V8kNbVQYv242m/rv32gc.tar.gz\"\n",
       "flags: {}"
      ]
     },
     "execution_count": 11,
     "metadata": {},
     "output_type": "execute_result"
    }
   ],
   "source": [
    "Code(filename=\"environment.yml.j2\")"
   ]
  },
  {
   "cell_type": "markdown",
   "id": "aea3abab",
   "metadata": {
    "papermill": {
     "duration": 0.008961,
     "end_time": "2023-12-31T09:05:47.794716",
     "exception": false,
     "start_time": "2023-12-31T09:05:47.785755",
     "status": "completed"
    },
    "tags": []
   },
   "source": [
    "Do not forget to set your `MLONMCU_HOME` environment variable first if not using the default location!"
   ]
  },
  {
   "cell_type": "markdown",
   "id": "06760327",
   "metadata": {
    "papermill": {
     "duration": 0.006126,
     "end_time": "2023-12-31T09:05:47.807203",
     "exception": false,
     "start_time": "2023-12-31T09:05:47.801077",
     "status": "completed"
    },
    "tags": []
   },
   "source": [
    "### Usage"
   ]
  },
  {
   "cell_type": "markdown",
   "id": "bfb3a68f",
   "metadata": {
    "papermill": {
     "duration": 0.005971,
     "end_time": "2023-12-31T09:05:47.819090",
     "exception": false,
     "start_time": "2023-12-31T09:05:47.813119",
     "status": "completed"
    },
    "tags": []
   },
   "source": [
    "The following examples demonstrate the `tvm_profile` of the TVM and MicroTVM platform."
   ]
  },
  {
   "cell_type": "markdown",
   "id": "5dc993c4",
   "metadata": {
    "papermill": {
     "duration": 0.005891,
     "end_time": "2023-12-31T09:05:47.830883",
     "exception": false,
     "start_time": "2023-12-31T09:05:47.824992",
     "status": "completed"
    },
    "tags": []
   },
   "source": [
    "#### A) Command Line Interface"
   ]
  },
  {
   "cell_type": "markdown",
   "id": "fb42b68b",
   "metadata": {
    "papermill": {
     "duration": 0.01211,
     "end_time": "2023-12-31T09:05:47.856460",
     "exception": false,
     "start_time": "2023-12-31T09:05:47.844350",
     "status": "completed"
    },
    "tags": []
   },
   "source": [
    "First define a simple benchmark of a single model/backend/target combination:"
   ]
  },
  {
   "cell_type": "code",
   "execution_count": 12,
   "id": "ba9203cf",
   "metadata": {
    "execution": {
     "iopub.execute_input": "2023-12-31T09:05:47.872188Z",
     "iopub.status.busy": "2023-12-31T09:05:47.871951Z",
     "iopub.status.idle": "2023-12-31T09:05:56.291737Z",
     "shell.execute_reply": "2023-12-31T09:05:56.290164Z"
    },
    "papermill": {
     "duration": 8.430597,
     "end_time": "2023-12-31T09:05:56.295618",
     "exception": false,
     "start_time": "2023-12-31T09:05:47.865021",
     "status": "completed"
    },
    "tags": []
   },
   "outputs": [
    {
     "name": "stdout",
     "output_type": "stream",
     "text": [
      "INFO - Loading environment cache from file\r\n",
      "INFO - Successfully initialized cache\r\n"
     ]
    },
    {
     "name": "stdout",
     "output_type": "stream",
     "text": [
      "INFO - [session-58]  Processing stage LOAD\r\n"
     ]
    },
    {
     "name": "stdout",
     "output_type": "stream",
     "text": [
      "INFO - [session-58]  Processing stage BUILD\r\n"
     ]
    },
    {
     "name": "stdout",
     "output_type": "stream",
     "text": [
      "INFO - [session-58]  Processing stage RUN\r\n"
     ]
    },
    {
     "name": "stdout",
     "output_type": "stream",
     "text": [
      "INFO - All runs completed successfuly!\r\n",
      "INFO - Postprocessing session report\r\n",
      "INFO - [session-58] Done processing runs\r\n",
      "INFO - Report:\r\n",
      "   Session  Run   Model Frontend Framework  Backend Platform   Target  Runtime [s] Features                                             Config Postprocesses Comment\r\n",
      "0       58    0  resnet   tflite       tvm  tvmllvm      tvm  tvm_cpu      0.00351       []  {'resnet.output_shapes': {'Identity_int8': [1,...            []       -\r\n"
     ]
    }
   ],
   "source": [
    "!python -m mlonmcu.cli.main flow run resnet -b tvmllvm -t tvm_cpu"
   ]
  },
  {
   "cell_type": "markdown",
   "id": "4f73578c",
   "metadata": {
    "papermill": {
     "duration": 0.011036,
     "end_time": "2023-12-31T09:05:56.325402",
     "exception": false,
     "start_time": "2023-12-31T09:05:56.314366",
     "status": "completed"
    },
    "tags": []
   },
   "source": [
    "To enable TVM's profiling feature just just add `-f tvm_profile` to the command line:"
   ]
  },
  {
   "cell_type": "code",
   "execution_count": 13,
   "id": "ef315def",
   "metadata": {
    "execution": {
     "iopub.execute_input": "2023-12-31T09:05:56.342159Z",
     "iopub.status.busy": "2023-12-31T09:05:56.341438Z",
     "iopub.status.idle": "2023-12-31T09:06:04.739098Z",
     "shell.execute_reply": "2023-12-31T09:06:04.737392Z"
    },
    "papermill": {
     "duration": 8.409746,
     "end_time": "2023-12-31T09:06:04.742781",
     "exception": false,
     "start_time": "2023-12-31T09:05:56.333035",
     "status": "completed"
    },
    "tags": []
   },
   "outputs": [
    {
     "name": "stdout",
     "output_type": "stream",
     "text": [
      "INFO - Loading environment cache from file\r\n",
      "INFO - Successfully initialized cache\r\n"
     ]
    },
    {
     "name": "stdout",
     "output_type": "stream",
     "text": [
      "INFO - [session-59]  Processing stage LOAD\r\n",
      "INFO - [session-59]  Processing stage BUILD\r\n"
     ]
    },
    {
     "name": "stdout",
     "output_type": "stream",
     "text": [
      "INFO - [session-59]  Processing stage RUN\r\n"
     ]
    },
    {
     "name": "stdout",
     "output_type": "stream",
     "text": [
      "INFO - All runs completed successfuly!\r\n",
      "INFO - Postprocessing session report\r\n",
      "INFO - [session-59] Done processing runs\r\n"
     ]
    },
    {
     "name": "stdout",
     "output_type": "stream",
     "text": [
      "INFO - Report:\r\n",
      "    Session  Run   Model Frontend Framework  Backend Platform   Target                                                Sub   Runtime [s]       Features                                             Config Postprocesses Comment\r\n",
      "0        59    0  resnet   tflite       tvm  tvmllvm      tvm  tvm_cpu                                                NaN  1.309400e-03  [tvm_profile]  {'resnet.output_shapes': {'Identity_int8': [1,...            []       -\r\n",
      "1        59    0  resnet   tflite       tvm  tvmllvm      tvm  tvm_cpu  tvmgen_default_fused_cast_subtract_fixed_point...  5.091000e-04  [tvm_profile]  {'resnet.output_shapes': {'Identity_int8': [1,...            []       -\r\n",
      "2        59    0  resnet   tflite       tvm  tvmllvm      tvm  tvm_cpu  tvmgen_default_fused_nn_conv2d_add_fixed_point...  4.914000e-04  [tvm_profile]  {'resnet.output_shapes': {'Identity_int8': [1,...            []       -\r\n",
      "3        59    0  resnet   tflite       tvm  tvmllvm      tvm  tvm_cpu  tvmgen_default_fused_nn_conv2d_add_fixed_point...  4.765500e-04  [tvm_profile]  {'resnet.output_shapes': {'Identity_int8': [1,...            []       -\r\n",
      "4        59    0  resnet   tflite       tvm  tvmllvm      tvm  tvm_cpu  tvmgen_default_fused_nn_conv2d_add_fixed_point...  2.528800e-04  [tvm_profile]  {'resnet.output_shapes': {'Identity_int8': [1,...            []       -\r\n",
      "5        59    0  resnet   tflite       tvm  tvmllvm      tvm  tvm_cpu  tvmgen_default_fused_nn_conv2d_add_fixed_point...  1.150600e-04  [tvm_profile]  {'resnet.output_shapes': {'Identity_int8': [1,...            []       -\r\n",
      "6        59    0  resnet   tflite       tvm  tvmllvm      tvm  tvm_cpu  tvmgen_default_fused_nn_conv2d_add_fixed_point...  1.022200e-04  [tvm_profile]  {'resnet.output_shapes': {'Identity_int8': [1,...            []       -\r\n",
      "7        59    0  resnet   tflite       tvm  tvmllvm      tvm  tvm_cpu  tvmgen_default_fused_nn_conv2d_add_fixed_point...  9.317000e-05  [tvm_profile]  {'resnet.output_shapes': {'Identity_int8': [1,...            []       -\r\n",
      "8        59    0  resnet   tflite       tvm  tvmllvm      tvm  tvm_cpu  tvmgen_default_fused_nn_conv2d_add_fixed_point...  5.133000e-05  [tvm_profile]  {'resnet.output_shapes': {'Identity_int8': [1,...            []       -\r\n",
      "9        59    0  resnet   tflite       tvm  tvmllvm      tvm  tvm_cpu  tvmgen_default_fused_nn_conv2d_add_fixed_point...  1.652000e-05  [tvm_profile]  {'resnet.output_shapes': {'Identity_int8': [1,...            []       -\r\n",
      "10       59    0  resnet   tflite       tvm  tvmllvm      tvm  tvm_cpu                 tvmgen_default_fused_cast_subtract  5.260000e-06  [tvm_profile]  {'resnet.output_shapes': {'Identity_int8': [1,...            []       -\r\n",
      "11       59    0  resnet   tflite       tvm  tvmllvm      tvm  tvm_cpu               tvmgen_default_fused_cast_subtract_1  4.570000e-06  [tvm_profile]  {'resnet.output_shapes': {'Identity_int8': [1,...            []       -\r\n",
      "12       59    0  resnet   tflite       tvm  tvmllvm      tvm  tvm_cpu  tvmgen_default_fused_nn_contrib_dense_pack_add...  3.950000e-06  [tvm_profile]  {'resnet.output_shapes': {'Identity_int8': [1,...            []       -\r\n",
      "13       59    0  resnet   tflite       tvm  tvmllvm      tvm  tvm_cpu            tvmgen_default_fused_nn_avg_pool2d_cast  3.060000e-06  [tvm_profile]  {'resnet.output_shapes': {'Identity_int8': [1,...            []       -\r\n",
      "14       59    0  resnet   tflite       tvm  tvmllvm      tvm  tvm_cpu  tvmgen_default_fused_nn_softmax_divide_round_a...  1.700000e-06  [tvm_profile]  {'resnet.output_shapes': {'Identity_int8': [1,...            []       -\r\n",
      "15       59    0  resnet   tflite       tvm  tvmllvm      tvm  tvm_cpu         tvmgen_default_fused_reshape_cast_subtract  8.600000e-07  [tvm_profile]  {'resnet.output_shapes': {'Identity_int8': [1,...            []       -\r\n"
     ]
    }
   ],
   "source": [
    "!python -m mlonmcu.cli.main flow run resnet -b tvmllvm -t tvm_cpu -f tvm_profile"
   ]
  },
  {
   "cell_type": "markdown",
   "id": "25f50cb1",
   "metadata": {
    "papermill": {
     "duration": 0.010724,
     "end_time": "2023-12-31T09:06:04.773653",
     "exception": false,
     "start_time": "2023-12-31T09:06:04.762929",
     "status": "completed"
    },
    "tags": []
   },
   "source": [
    "Since tvm used quite long function-names, this might not be very reaible. As a last step, let's try to improve that using the `filter_cols` postprocess:"
   ]
  },
  {
   "cell_type": "code",
   "execution_count": 14,
   "id": "7387412a",
   "metadata": {
    "execution": {
     "iopub.execute_input": "2023-12-31T09:06:04.804276Z",
     "iopub.status.busy": "2023-12-31T09:06:04.803896Z",
     "iopub.status.idle": "2023-12-31T09:06:13.175943Z",
     "shell.execute_reply": "2023-12-31T09:06:13.174356Z"
    },
    "papermill": {
     "duration": 8.387416,
     "end_time": "2023-12-31T09:06:13.179337",
     "exception": false,
     "start_time": "2023-12-31T09:06:04.791921",
     "status": "completed"
    },
    "tags": []
   },
   "outputs": [
    {
     "name": "stdout",
     "output_type": "stream",
     "text": [
      "INFO - Loading environment cache from file\r\n"
     ]
    },
    {
     "name": "stdout",
     "output_type": "stream",
     "text": [
      "INFO - Successfully initialized cache\r\n"
     ]
    },
    {
     "name": "stdout",
     "output_type": "stream",
     "text": [
      "INFO - [session-60]  Processing stage LOAD\r\n",
      "INFO - [session-60]  Processing stage BUILD\r\n"
     ]
    },
    {
     "name": "stdout",
     "output_type": "stream",
     "text": [
      "INFO - [session-60]  Processing stage RUN\r\n"
     ]
    },
    {
     "name": "stdout",
     "output_type": "stream",
     "text": [
      "INFO - [session-60]  Processing stage POSTPROCESS\r\n",
      "INFO - All runs completed successfuly!\r\n",
      "INFO - Postprocessing session report\r\n",
      "INFO - [session-60] Done processing runs\r\n",
      "INFO - Report:\r\n",
      "     Model                                                Sub   Runtime [s]\r\n",
      "0   resnet                                                NaN  1.902400e-03\r\n",
      "1   resnet  tvmgen_default_fused_cast_subtract_fixed_point...  4.690600e-04\r\n",
      "2   resnet  tvmgen_default_fused_nn_conv2d_add_fixed_point...  4.544100e-04\r\n",
      "3   resnet  tvmgen_default_fused_nn_conv2d_add_fixed_point...  4.486100e-04\r\n",
      "4   resnet  tvmgen_default_fused_nn_conv2d_add_fixed_point...  2.316800e-04\r\n",
      "5   resnet  tvmgen_default_fused_nn_conv2d_add_fixed_point...  1.055400e-04\r\n",
      "6   resnet  tvmgen_default_fused_nn_conv2d_add_fixed_point...  9.271000e-05\r\n",
      "7   resnet  tvmgen_default_fused_nn_conv2d_add_fixed_point...  6.112000e-05\r\n",
      "8   resnet  tvmgen_default_fused_nn_conv2d_add_fixed_point...  3.859000e-05\r\n",
      "9   resnet  tvmgen_default_fused_nn_conv2d_add_fixed_point...  1.586000e-05\r\n",
      "10  resnet               tvmgen_default_fused_cast_subtract_1  4.050000e-06\r\n",
      "11  resnet  tvmgen_default_fused_nn_contrib_dense_pack_add...  3.940000e-06\r\n",
      "12  resnet                 tvmgen_default_fused_cast_subtract  3.840000e-06\r\n",
      "13  resnet            tvmgen_default_fused_nn_avg_pool2d_cast  2.940000e-06\r\n",
      "14  resnet  tvmgen_default_fused_nn_softmax_divide_round_a...  1.380000e-06\r\n",
      "15  resnet         tvmgen_default_fused_reshape_cast_subtract  8.400000e-07\r\n"
     ]
    }
   ],
   "source": [
    "!python -m mlonmcu.cli.main flow run resnet -b tvmllvm -t tvm_cpu -f tvm_profile \\\n",
    "        --postprocess filter_cols -c filter_cols.keep=\"Model,Sub,Runtime [s]\""
   ]
  },
  {
   "cell_type": "markdown",
   "id": "9923e157",
   "metadata": {
    "papermill": {
     "duration": 0.010103,
     "end_time": "2023-12-31T09:06:13.207693",
     "exception": false,
     "start_time": "2023-12-31T09:06:13.197590",
     "status": "completed"
    },
    "tags": []
   },
   "source": [
    "#### B) Python Scripting"
   ]
  },
  {
   "cell_type": "markdown",
   "id": "7b423f33",
   "metadata": {
    "papermill": {
     "duration": 0.006587,
     "end_time": "2023-12-31T09:06:13.221133",
     "exception": false,
     "start_time": "2023-12-31T09:06:13.214546",
     "status": "completed"
    },
    "tags": []
   },
   "source": [
    "Some imports"
   ]
  },
  {
   "cell_type": "code",
   "execution_count": 15,
   "id": "eb132851",
   "metadata": {
    "execution": {
     "iopub.execute_input": "2023-12-31T09:06:13.236239Z",
     "iopub.status.busy": "2023-12-31T09:06:13.235710Z",
     "iopub.status.idle": "2023-12-31T09:06:13.242647Z",
     "shell.execute_reply": "2023-12-31T09:06:13.241543Z"
    },
    "papermill": {
     "duration": 0.016539,
     "end_time": "2023-12-31T09:06:13.244052",
     "exception": false,
     "start_time": "2023-12-31T09:06:13.227513",
     "status": "completed"
    },
    "tags": []
   },
   "outputs": [],
   "source": [
    "from tempfile import TemporaryDirectory\n",
    "from pathlib import Path\n",
    "import pandas as pd\n",
    "\n",
    "from mlonmcu.context.context import MlonMcuContext\n",
    "from mlonmcu.session.run import RunStage"
   ]
  },
  {
   "cell_type": "markdown",
   "id": "728cde15",
   "metadata": {
    "papermill": {
     "duration": 0.007775,
     "end_time": "2023-12-31T09:06:13.259078",
     "exception": false,
     "start_time": "2023-12-31T09:06:13.251303",
     "status": "completed"
    },
    "tags": []
   },
   "source": [
    "Benchmark Configuration"
   ]
  },
  {
   "cell_type": "code",
   "execution_count": 16,
   "id": "0ddf80b5",
   "metadata": {
    "execution": {
     "iopub.execute_input": "2023-12-31T09:06:13.274225Z",
     "iopub.status.busy": "2023-12-31T09:06:13.273483Z",
     "iopub.status.idle": "2023-12-31T09:06:13.279809Z",
     "shell.execute_reply": "2023-12-31T09:06:13.278762Z"
    },
    "papermill": {
     "duration": 0.015883,
     "end_time": "2023-12-31T09:06:13.281387",
     "exception": false,
     "start_time": "2023-12-31T09:06:13.265504",
     "status": "completed"
    },
    "tags": []
   },
   "outputs": [],
   "source": [
    "FRONTEND = \"tflite\"\n",
    "MODEL = \"resnet\"\n",
    "BACKEND = \"tvmllvm\"\n",
    "PLATFORM = \"tvm\"\n",
    "TARGET = \"tvm_cpu\"\n",
    "FEATURES = [\"tvm_profile\"]\n",
    "CONFIG = {}\n",
    "POSTPROCESSES = []"
   ]
  },
  {
   "cell_type": "markdown",
   "id": "2b17fda4",
   "metadata": {
    "papermill": {
     "duration": 0.006982,
     "end_time": "2023-12-31T09:06:13.296390",
     "exception": false,
     "start_time": "2023-12-31T09:06:13.289408",
     "status": "completed"
    },
    "tags": []
   },
   "source": [
    "Initialize and run a single benchmark"
   ]
  },
  {
   "cell_type": "code",
   "execution_count": 17,
   "id": "4bdab219",
   "metadata": {
    "execution": {
     "iopub.execute_input": "2023-12-31T09:06:13.311658Z",
     "iopub.status.busy": "2023-12-31T09:06:13.310990Z",
     "iopub.status.idle": "2023-12-31T09:06:21.039661Z",
     "shell.execute_reply": "2023-12-31T09:06:21.038851Z"
    },
    "papermill": {
     "duration": 7.739711,
     "end_time": "2023-12-31T09:06:21.042892",
     "exception": false,
     "start_time": "2023-12-31T09:06:13.303181",
     "status": "completed"
    },
    "tags": []
   },
   "outputs": [
    {
     "name": "stdout",
     "output_type": "stream",
     "text": [
      "INFO - Loading environment cache from file\n"
     ]
    },
    {
     "name": "stdout",
     "output_type": "stream",
     "text": [
      "INFO - Successfully initialized cache\n"
     ]
    },
    {
     "name": "stdout",
     "output_type": "stream",
     "text": [
      "INFO - [session-61] Processing all stages\n"
     ]
    },
    {
     "name": "stdout",
     "output_type": "stream",
     "text": [
      "INFO - All runs completed successfuly!\n"
     ]
    },
    {
     "name": "stdout",
     "output_type": "stream",
     "text": [
      "INFO - Postprocessing session report\n"
     ]
    },
    {
     "name": "stdout",
     "output_type": "stream",
     "text": [
      "INFO - [session-61] Done processing runs\n"
     ]
    },
    {
     "data": {
      "text/html": [
       "<div>\n",
       "<style scoped>\n",
       "    .dataframe tbody tr th:only-of-type {\n",
       "        vertical-align: middle;\n",
       "    }\n",
       "\n",
       "    .dataframe tbody tr th {\n",
       "        vertical-align: top;\n",
       "    }\n",
       "\n",
       "    .dataframe thead th {\n",
       "        text-align: right;\n",
       "    }\n",
       "</style>\n",
       "<table border=\"1\" class=\"dataframe\">\n",
       "  <thead>\n",
       "    <tr style=\"text-align: right;\">\n",
       "      <th></th>\n",
       "      <th>Session</th>\n",
       "      <th>Run</th>\n",
       "      <th>Model</th>\n",
       "      <th>Frontend</th>\n",
       "      <th>Framework</th>\n",
       "      <th>Backend</th>\n",
       "      <th>Platform</th>\n",
       "      <th>Target</th>\n",
       "      <th>Sub</th>\n",
       "      <th>Runtime [s]</th>\n",
       "      <th>Features</th>\n",
       "      <th>Config</th>\n",
       "      <th>Postprocesses</th>\n",
       "      <th>Comment</th>\n",
       "    </tr>\n",
       "  </thead>\n",
       "  <tbody>\n",
       "    <tr>\n",
       "      <th>0</th>\n",
       "      <td>61</td>\n",
       "      <td>0</td>\n",
       "      <td>resnet</td>\n",
       "      <td>tflite</td>\n",
       "      <td>tvm</td>\n",
       "      <td>tvmllvm</td>\n",
       "      <td>tvm</td>\n",
       "      <td>tvm_cpu</td>\n",
       "      <td>NaN</td>\n",
       "      <td>0.002109</td>\n",
       "      <td>[tvm_profile]</td>\n",
       "      <td>{'resnet.output_shapes': {'Identity_int8': [1,...</td>\n",
       "      <td>[]</td>\n",
       "      <td>-</td>\n",
       "    </tr>\n",
       "    <tr>\n",
       "      <th>1</th>\n",
       "      <td>61</td>\n",
       "      <td>0</td>\n",
       "      <td>resnet</td>\n",
       "      <td>tflite</td>\n",
       "      <td>tvm</td>\n",
       "      <td>tvmllvm</td>\n",
       "      <td>tvm</td>\n",
       "      <td>tvm_cpu</td>\n",
       "      <td>tvmgen_default_fused_cast_subtract_fixed_point...</td>\n",
       "      <td>0.000819</td>\n",
       "      <td>[tvm_profile]</td>\n",
       "      <td>{'resnet.output_shapes': {'Identity_int8': [1,...</td>\n",
       "      <td>[]</td>\n",
       "      <td>-</td>\n",
       "    </tr>\n",
       "    <tr>\n",
       "      <th>2</th>\n",
       "      <td>61</td>\n",
       "      <td>0</td>\n",
       "      <td>resnet</td>\n",
       "      <td>tflite</td>\n",
       "      <td>tvm</td>\n",
       "      <td>tvmllvm</td>\n",
       "      <td>tvm</td>\n",
       "      <td>tvm_cpu</td>\n",
       "      <td>tvmgen_default_fused_nn_conv2d_add_fixed_point...</td>\n",
       "      <td>0.000800</td>\n",
       "      <td>[tvm_profile]</td>\n",
       "      <td>{'resnet.output_shapes': {'Identity_int8': [1,...</td>\n",
       "      <td>[]</td>\n",
       "      <td>-</td>\n",
       "    </tr>\n",
       "    <tr>\n",
       "      <th>3</th>\n",
       "      <td>61</td>\n",
       "      <td>0</td>\n",
       "      <td>resnet</td>\n",
       "      <td>tflite</td>\n",
       "      <td>tvm</td>\n",
       "      <td>tvmllvm</td>\n",
       "      <td>tvm</td>\n",
       "      <td>tvm_cpu</td>\n",
       "      <td>tvmgen_default_fused_nn_conv2d_add_fixed_point...</td>\n",
       "      <td>0.000767</td>\n",
       "      <td>[tvm_profile]</td>\n",
       "      <td>{'resnet.output_shapes': {'Identity_int8': [1,...</td>\n",
       "      <td>[]</td>\n",
       "      <td>-</td>\n",
       "    </tr>\n",
       "    <tr>\n",
       "      <th>4</th>\n",
       "      <td>61</td>\n",
       "      <td>0</td>\n",
       "      <td>resnet</td>\n",
       "      <td>tflite</td>\n",
       "      <td>tvm</td>\n",
       "      <td>tvmllvm</td>\n",
       "      <td>tvm</td>\n",
       "      <td>tvm_cpu</td>\n",
       "      <td>tvmgen_default_fused_nn_conv2d_add_fixed_point...</td>\n",
       "      <td>0.000405</td>\n",
       "      <td>[tvm_profile]</td>\n",
       "      <td>{'resnet.output_shapes': {'Identity_int8': [1,...</td>\n",
       "      <td>[]</td>\n",
       "      <td>-</td>\n",
       "    </tr>\n",
       "    <tr>\n",
       "      <th>5</th>\n",
       "      <td>61</td>\n",
       "      <td>0</td>\n",
       "      <td>resnet</td>\n",
       "      <td>tflite</td>\n",
       "      <td>tvm</td>\n",
       "      <td>tvmllvm</td>\n",
       "      <td>tvm</td>\n",
       "      <td>tvm_cpu</td>\n",
       "      <td>tvmgen_default_fused_nn_conv2d_add_fixed_point...</td>\n",
       "      <td>0.000185</td>\n",
       "      <td>[tvm_profile]</td>\n",
       "      <td>{'resnet.output_shapes': {'Identity_int8': [1,...</td>\n",
       "      <td>[]</td>\n",
       "      <td>-</td>\n",
       "    </tr>\n",
       "    <tr>\n",
       "      <th>6</th>\n",
       "      <td>61</td>\n",
       "      <td>0</td>\n",
       "      <td>resnet</td>\n",
       "      <td>tflite</td>\n",
       "      <td>tvm</td>\n",
       "      <td>tvmllvm</td>\n",
       "      <td>tvm</td>\n",
       "      <td>tvm_cpu</td>\n",
       "      <td>tvmgen_default_fused_nn_conv2d_add_fixed_point...</td>\n",
       "      <td>0.000116</td>\n",
       "      <td>[tvm_profile]</td>\n",
       "      <td>{'resnet.output_shapes': {'Identity_int8': [1,...</td>\n",
       "      <td>[]</td>\n",
       "      <td>-</td>\n",
       "    </tr>\n",
       "    <tr>\n",
       "      <th>7</th>\n",
       "      <td>61</td>\n",
       "      <td>0</td>\n",
       "      <td>resnet</td>\n",
       "      <td>tflite</td>\n",
       "      <td>tvm</td>\n",
       "      <td>tvmllvm</td>\n",
       "      <td>tvm</td>\n",
       "      <td>tvm_cpu</td>\n",
       "      <td>tvmgen_default_fused_nn_conv2d_add_fixed_point...</td>\n",
       "      <td>0.000094</td>\n",
       "      <td>[tvm_profile]</td>\n",
       "      <td>{'resnet.output_shapes': {'Identity_int8': [1,...</td>\n",
       "      <td>[]</td>\n",
       "      <td>-</td>\n",
       "    </tr>\n",
       "    <tr>\n",
       "      <th>8</th>\n",
       "      <td>61</td>\n",
       "      <td>0</td>\n",
       "      <td>resnet</td>\n",
       "      <td>tflite</td>\n",
       "      <td>tvm</td>\n",
       "      <td>tvmllvm</td>\n",
       "      <td>tvm</td>\n",
       "      <td>tvm_cpu</td>\n",
       "      <td>tvmgen_default_fused_nn_conv2d_add_fixed_point...</td>\n",
       "      <td>0.000046</td>\n",
       "      <td>[tvm_profile]</td>\n",
       "      <td>{'resnet.output_shapes': {'Identity_int8': [1,...</td>\n",
       "      <td>[]</td>\n",
       "      <td>-</td>\n",
       "    </tr>\n",
       "    <tr>\n",
       "      <th>9</th>\n",
       "      <td>61</td>\n",
       "      <td>0</td>\n",
       "      <td>resnet</td>\n",
       "      <td>tflite</td>\n",
       "      <td>tvm</td>\n",
       "      <td>tvmllvm</td>\n",
       "      <td>tvm</td>\n",
       "      <td>tvm_cpu</td>\n",
       "      <td>tvmgen_default_fused_nn_conv2d_add_fixed_point...</td>\n",
       "      <td>0.000023</td>\n",
       "      <td>[tvm_profile]</td>\n",
       "      <td>{'resnet.output_shapes': {'Identity_int8': [1,...</td>\n",
       "      <td>[]</td>\n",
       "      <td>-</td>\n",
       "    </tr>\n",
       "    <tr>\n",
       "      <th>10</th>\n",
       "      <td>61</td>\n",
       "      <td>0</td>\n",
       "      <td>resnet</td>\n",
       "      <td>tflite</td>\n",
       "      <td>tvm</td>\n",
       "      <td>tvmllvm</td>\n",
       "      <td>tvm</td>\n",
       "      <td>tvm_cpu</td>\n",
       "      <td>tvmgen_default_fused_cast_subtract</td>\n",
       "      <td>0.000007</td>\n",
       "      <td>[tvm_profile]</td>\n",
       "      <td>{'resnet.output_shapes': {'Identity_int8': [1,...</td>\n",
       "      <td>[]</td>\n",
       "      <td>-</td>\n",
       "    </tr>\n",
       "    <tr>\n",
       "      <th>11</th>\n",
       "      <td>61</td>\n",
       "      <td>0</td>\n",
       "      <td>resnet</td>\n",
       "      <td>tflite</td>\n",
       "      <td>tvm</td>\n",
       "      <td>tvmllvm</td>\n",
       "      <td>tvm</td>\n",
       "      <td>tvm_cpu</td>\n",
       "      <td>tvmgen_default_fused_cast_subtract_1</td>\n",
       "      <td>0.000006</td>\n",
       "      <td>[tvm_profile]</td>\n",
       "      <td>{'resnet.output_shapes': {'Identity_int8': [1,...</td>\n",
       "      <td>[]</td>\n",
       "      <td>-</td>\n",
       "    </tr>\n",
       "    <tr>\n",
       "      <th>12</th>\n",
       "      <td>61</td>\n",
       "      <td>0</td>\n",
       "      <td>resnet</td>\n",
       "      <td>tflite</td>\n",
       "      <td>tvm</td>\n",
       "      <td>tvmllvm</td>\n",
       "      <td>tvm</td>\n",
       "      <td>tvm_cpu</td>\n",
       "      <td>tvmgen_default_fused_nn_contrib_dense_pack_add...</td>\n",
       "      <td>0.000005</td>\n",
       "      <td>[tvm_profile]</td>\n",
       "      <td>{'resnet.output_shapes': {'Identity_int8': [1,...</td>\n",
       "      <td>[]</td>\n",
       "      <td>-</td>\n",
       "    </tr>\n",
       "    <tr>\n",
       "      <th>13</th>\n",
       "      <td>61</td>\n",
       "      <td>0</td>\n",
       "      <td>resnet</td>\n",
       "      <td>tflite</td>\n",
       "      <td>tvm</td>\n",
       "      <td>tvmllvm</td>\n",
       "      <td>tvm</td>\n",
       "      <td>tvm_cpu</td>\n",
       "      <td>tvmgen_default_fused_nn_avg_pool2d_cast</td>\n",
       "      <td>0.000004</td>\n",
       "      <td>[tvm_profile]</td>\n",
       "      <td>{'resnet.output_shapes': {'Identity_int8': [1,...</td>\n",
       "      <td>[]</td>\n",
       "      <td>-</td>\n",
       "    </tr>\n",
       "    <tr>\n",
       "      <th>14</th>\n",
       "      <td>61</td>\n",
       "      <td>0</td>\n",
       "      <td>resnet</td>\n",
       "      <td>tflite</td>\n",
       "      <td>tvm</td>\n",
       "      <td>tvmllvm</td>\n",
       "      <td>tvm</td>\n",
       "      <td>tvm_cpu</td>\n",
       "      <td>tvmgen_default_fused_nn_softmax_divide_round_a...</td>\n",
       "      <td>0.000002</td>\n",
       "      <td>[tvm_profile]</td>\n",
       "      <td>{'resnet.output_shapes': {'Identity_int8': [1,...</td>\n",
       "      <td>[]</td>\n",
       "      <td>-</td>\n",
       "    </tr>\n",
       "    <tr>\n",
       "      <th>15</th>\n",
       "      <td>61</td>\n",
       "      <td>0</td>\n",
       "      <td>resnet</td>\n",
       "      <td>tflite</td>\n",
       "      <td>tvm</td>\n",
       "      <td>tvmllvm</td>\n",
       "      <td>tvm</td>\n",
       "      <td>tvm_cpu</td>\n",
       "      <td>tvmgen_default_fused_reshape_cast_subtract</td>\n",
       "      <td>0.000001</td>\n",
       "      <td>[tvm_profile]</td>\n",
       "      <td>{'resnet.output_shapes': {'Identity_int8': [1,...</td>\n",
       "      <td>[]</td>\n",
       "      <td>-</td>\n",
       "    </tr>\n",
       "  </tbody>\n",
       "</table>\n",
       "</div>"
      ],
      "text/plain": [
       "    Session  Run   Model Frontend Framework  Backend Platform   Target  \\\n",
       "0        61    0  resnet   tflite       tvm  tvmllvm      tvm  tvm_cpu   \n",
       "1        61    0  resnet   tflite       tvm  tvmllvm      tvm  tvm_cpu   \n",
       "2        61    0  resnet   tflite       tvm  tvmllvm      tvm  tvm_cpu   \n",
       "3        61    0  resnet   tflite       tvm  tvmllvm      tvm  tvm_cpu   \n",
       "4        61    0  resnet   tflite       tvm  tvmllvm      tvm  tvm_cpu   \n",
       "5        61    0  resnet   tflite       tvm  tvmllvm      tvm  tvm_cpu   \n",
       "6        61    0  resnet   tflite       tvm  tvmllvm      tvm  tvm_cpu   \n",
       "7        61    0  resnet   tflite       tvm  tvmllvm      tvm  tvm_cpu   \n",
       "8        61    0  resnet   tflite       tvm  tvmllvm      tvm  tvm_cpu   \n",
       "9        61    0  resnet   tflite       tvm  tvmllvm      tvm  tvm_cpu   \n",
       "10       61    0  resnet   tflite       tvm  tvmllvm      tvm  tvm_cpu   \n",
       "11       61    0  resnet   tflite       tvm  tvmllvm      tvm  tvm_cpu   \n",
       "12       61    0  resnet   tflite       tvm  tvmllvm      tvm  tvm_cpu   \n",
       "13       61    0  resnet   tflite       tvm  tvmllvm      tvm  tvm_cpu   \n",
       "14       61    0  resnet   tflite       tvm  tvmllvm      tvm  tvm_cpu   \n",
       "15       61    0  resnet   tflite       tvm  tvmllvm      tvm  tvm_cpu   \n",
       "\n",
       "                                                  Sub  Runtime [s]  \\\n",
       "0                                                 NaN     0.002109   \n",
       "1   tvmgen_default_fused_cast_subtract_fixed_point...     0.000819   \n",
       "2   tvmgen_default_fused_nn_conv2d_add_fixed_point...     0.000800   \n",
       "3   tvmgen_default_fused_nn_conv2d_add_fixed_point...     0.000767   \n",
       "4   tvmgen_default_fused_nn_conv2d_add_fixed_point...     0.000405   \n",
       "5   tvmgen_default_fused_nn_conv2d_add_fixed_point...     0.000185   \n",
       "6   tvmgen_default_fused_nn_conv2d_add_fixed_point...     0.000116   \n",
       "7   tvmgen_default_fused_nn_conv2d_add_fixed_point...     0.000094   \n",
       "8   tvmgen_default_fused_nn_conv2d_add_fixed_point...     0.000046   \n",
       "9   tvmgen_default_fused_nn_conv2d_add_fixed_point...     0.000023   \n",
       "10                 tvmgen_default_fused_cast_subtract     0.000007   \n",
       "11               tvmgen_default_fused_cast_subtract_1     0.000006   \n",
       "12  tvmgen_default_fused_nn_contrib_dense_pack_add...     0.000005   \n",
       "13            tvmgen_default_fused_nn_avg_pool2d_cast     0.000004   \n",
       "14  tvmgen_default_fused_nn_softmax_divide_round_a...     0.000002   \n",
       "15         tvmgen_default_fused_reshape_cast_subtract     0.000001   \n",
       "\n",
       "         Features                                             Config  \\\n",
       "0   [tvm_profile]  {'resnet.output_shapes': {'Identity_int8': [1,...   \n",
       "1   [tvm_profile]  {'resnet.output_shapes': {'Identity_int8': [1,...   \n",
       "2   [tvm_profile]  {'resnet.output_shapes': {'Identity_int8': [1,...   \n",
       "3   [tvm_profile]  {'resnet.output_shapes': {'Identity_int8': [1,...   \n",
       "4   [tvm_profile]  {'resnet.output_shapes': {'Identity_int8': [1,...   \n",
       "5   [tvm_profile]  {'resnet.output_shapes': {'Identity_int8': [1,...   \n",
       "6   [tvm_profile]  {'resnet.output_shapes': {'Identity_int8': [1,...   \n",
       "7   [tvm_profile]  {'resnet.output_shapes': {'Identity_int8': [1,...   \n",
       "8   [tvm_profile]  {'resnet.output_shapes': {'Identity_int8': [1,...   \n",
       "9   [tvm_profile]  {'resnet.output_shapes': {'Identity_int8': [1,...   \n",
       "10  [tvm_profile]  {'resnet.output_shapes': {'Identity_int8': [1,...   \n",
       "11  [tvm_profile]  {'resnet.output_shapes': {'Identity_int8': [1,...   \n",
       "12  [tvm_profile]  {'resnet.output_shapes': {'Identity_int8': [1,...   \n",
       "13  [tvm_profile]  {'resnet.output_shapes': {'Identity_int8': [1,...   \n",
       "14  [tvm_profile]  {'resnet.output_shapes': {'Identity_int8': [1,...   \n",
       "15  [tvm_profile]  {'resnet.output_shapes': {'Identity_int8': [1,...   \n",
       "\n",
       "   Postprocesses Comment  \n",
       "0             []       -  \n",
       "1             []       -  \n",
       "2             []       -  \n",
       "3             []       -  \n",
       "4             []       -  \n",
       "5             []       -  \n",
       "6             []       -  \n",
       "7             []       -  \n",
       "8             []       -  \n",
       "9             []       -  \n",
       "10            []       -  \n",
       "11            []       -  \n",
       "12            []       -  \n",
       "13            []       -  \n",
       "14            []       -  \n",
       "15            []       -  "
      ]
     },
     "execution_count": 17,
     "metadata": {},
     "output_type": "execute_result"
    }
   ],
   "source": [
    "with MlonMcuContext() as context:\n",
    "    with context.create_session() as session:\n",
    "        run = session.create_run(config=CONFIG)\n",
    "        run.add_features_by_name(FEATURES, context=context)\n",
    "        run.add_frontend_by_name(FRONTEND, context=context)\n",
    "        run.add_model_by_name(MODEL, context=context)\n",
    "        run.add_platform_by_name(PLATFORM, context=context)\n",
    "        run.add_backend_by_name(BACKEND, context=context)\n",
    "        run.add_target_by_name(TARGET, context=context)\n",
    "        run.add_postprocesses_by_name(POSTPROCESSES)\n",
    "        session.process_runs(context=context)\n",
    "        report = session.get_reports()\n",
    "assert \"Failing\" not in report.df.columns\n",
    "report.df"
   ]
  },
  {
   "cell_type": "markdown",
   "id": "39937811",
   "metadata": {
    "papermill": {
     "duration": 0.011672,
     "end_time": "2023-12-31T09:06:21.075287",
     "exception": false,
     "start_time": "2023-12-31T09:06:21.063615",
     "status": "completed"
    },
    "tags": []
   },
   "source": [
    "After stripping it down to the essential data:"
   ]
  },
  {
   "cell_type": "code",
   "execution_count": 18,
   "id": "093c7340",
   "metadata": {
    "execution": {
     "iopub.execute_input": "2023-12-31T09:06:21.092316Z",
     "iopub.status.busy": "2023-12-31T09:06:21.091798Z",
     "iopub.status.idle": "2023-12-31T09:06:21.102721Z",
     "shell.execute_reply": "2023-12-31T09:06:21.101516Z"
    },
    "papermill": {
     "duration": 0.021305,
     "end_time": "2023-12-31T09:06:21.104247",
     "exception": false,
     "start_time": "2023-12-31T09:06:21.082942",
     "status": "completed"
    },
    "tags": []
   },
   "outputs": [
    {
     "data": {
      "text/html": [
       "<div>\n",
       "<style scoped>\n",
       "    .dataframe tbody tr th:only-of-type {\n",
       "        vertical-align: middle;\n",
       "    }\n",
       "\n",
       "    .dataframe tbody tr th {\n",
       "        vertical-align: top;\n",
       "    }\n",
       "\n",
       "    .dataframe thead th {\n",
       "        text-align: right;\n",
       "    }\n",
       "</style>\n",
       "<table border=\"1\" class=\"dataframe\">\n",
       "  <thead>\n",
       "    <tr style=\"text-align: right;\">\n",
       "      <th></th>\n",
       "      <th>Runtime [s]</th>\n",
       "    </tr>\n",
       "    <tr>\n",
       "      <th>Sub</th>\n",
       "      <th></th>\n",
       "    </tr>\n",
       "  </thead>\n",
       "  <tbody>\n",
       "    <tr>\n",
       "      <th>full</th>\n",
       "      <td>0.002109</td>\n",
       "    </tr>\n",
       "    <tr>\n",
       "      <th>tvmgen_default_fused_cast_subtract_fixed_point_multiply_add_nn_conv2d_add_fixed_point_multiply__cc9246e62aa5afb_</th>\n",
       "      <td>0.000819</td>\n",
       "    </tr>\n",
       "    <tr>\n",
       "      <th>tvmgen_default_fused_nn_conv2d_add_fixed_point_multiply_per_axis_add_clip_cast_subtract</th>\n",
       "      <td>0.000800</td>\n",
       "    </tr>\n",
       "    <tr>\n",
       "      <th>tvmgen_default_fused_nn_conv2d_add_fixed_point_multiply_per_axis_add_clip_subtract_fixed_point__eb606f94f03ebac6_</th>\n",
       "      <td>0.000767</td>\n",
       "    </tr>\n",
       "    <tr>\n",
       "      <th>tvmgen_default_fused_nn_conv2d_add_fixed_point_multiply_per_axis_add_clip_cast_subtract_1</th>\n",
       "      <td>0.000405</td>\n",
       "    </tr>\n",
       "    <tr>\n",
       "      <th>tvmgen_default_fused_nn_conv2d_add_fixed_point_multiply_per_axis_add_clip_subtract_fixed_point__eb606f94f03ebac6__1</th>\n",
       "      <td>0.000185</td>\n",
       "    </tr>\n",
       "    <tr>\n",
       "      <th>tvmgen_default_fused_nn_conv2d_add_fixed_point_multiply_per_axis_add_clip_cast</th>\n",
       "      <td>0.000116</td>\n",
       "    </tr>\n",
       "    <tr>\n",
       "      <th>tvmgen_default_fused_nn_conv2d_add_fixed_point_multiply_per_axis_add_clip_cast_subtract_2</th>\n",
       "      <td>0.000094</td>\n",
       "    </tr>\n",
       "    <tr>\n",
       "      <th>tvmgen_default_fused_nn_conv2d_add_fixed_point_multiply_per_axis_add_clip_subtract_fixed_point__26c49bbe582da641_</th>\n",
       "      <td>0.000046</td>\n",
       "    </tr>\n",
       "    <tr>\n",
       "      <th>tvmgen_default_fused_nn_conv2d_add_fixed_point_multiply_per_axis_add_clip_subtract_fixed_point__cacd0002c6404764_</th>\n",
       "      <td>0.000023</td>\n",
       "    </tr>\n",
       "    <tr>\n",
       "      <th>tvmgen_default_fused_cast_subtract</th>\n",
       "      <td>0.000007</td>\n",
       "    </tr>\n",
       "    <tr>\n",
       "      <th>tvmgen_default_fused_cast_subtract_1</th>\n",
       "      <td>0.000006</td>\n",
       "    </tr>\n",
       "    <tr>\n",
       "      <th>tvmgen_default_fused_nn_contrib_dense_pack_add_fixed_point_multiply_add_clip_subtract_cast_mult_1c9b307ace4645e7_</th>\n",
       "      <td>0.000005</td>\n",
       "    </tr>\n",
       "    <tr>\n",
       "      <th>tvmgen_default_fused_nn_avg_pool2d_cast</th>\n",
       "      <td>0.000004</td>\n",
       "    </tr>\n",
       "    <tr>\n",
       "      <th>tvmgen_default_fused_nn_softmax_divide_round_add_clip_cast</th>\n",
       "      <td>0.000002</td>\n",
       "    </tr>\n",
       "    <tr>\n",
       "      <th>tvmgen_default_fused_reshape_cast_subtract</th>\n",
       "      <td>0.000001</td>\n",
       "    </tr>\n",
       "  </tbody>\n",
       "</table>\n",
       "</div>"
      ],
      "text/plain": [
       "                                                    Runtime [s]\n",
       "Sub                                                            \n",
       "full                                                   0.002109\n",
       "tvmgen_default_fused_cast_subtract_fixed_point_...     0.000819\n",
       "tvmgen_default_fused_nn_conv2d_add_fixed_point_...     0.000800\n",
       "tvmgen_default_fused_nn_conv2d_add_fixed_point_...     0.000767\n",
       "tvmgen_default_fused_nn_conv2d_add_fixed_point_...     0.000405\n",
       "tvmgen_default_fused_nn_conv2d_add_fixed_point_...     0.000185\n",
       "tvmgen_default_fused_nn_conv2d_add_fixed_point_...     0.000116\n",
       "tvmgen_default_fused_nn_conv2d_add_fixed_point_...     0.000094\n",
       "tvmgen_default_fused_nn_conv2d_add_fixed_point_...     0.000046\n",
       "tvmgen_default_fused_nn_conv2d_add_fixed_point_...     0.000023\n",
       "tvmgen_default_fused_cast_subtract                     0.000007\n",
       "tvmgen_default_fused_cast_subtract_1                   0.000006\n",
       "tvmgen_default_fused_nn_contrib_dense_pack_add_...     0.000005\n",
       "tvmgen_default_fused_nn_avg_pool2d_cast                0.000004\n",
       "tvmgen_default_fused_nn_softmax_divide_round_ad...     0.000002\n",
       "tvmgen_default_fused_reshape_cast_subtract             0.000001"
      ]
     },
     "execution_count": 18,
     "metadata": {},
     "output_type": "execute_result"
    }
   ],
   "source": [
    "df = report.df\n",
    "df.drop([\"Session\", \"Run\", \"Frontend\", \"Model\", \"Framework\", \"Backend\", \"Platform\", \"Target\", \"Config\", \"Features\", \"Postprocesses\", \"Comment\"], axis=1, inplace=True)\n",
    "df.fillna(\"full\", inplace=True)\n",
    "df.set_index(\"Sub\", inplace=True)\n",
    "df"
   ]
  },
  {
   "cell_type": "code",
   "execution_count": null,
   "id": "0661e3b3",
   "metadata": {
    "papermill": {
     "duration": 0.007836,
     "end_time": "2023-12-31T09:06:21.120436",
     "exception": false,
     "start_time": "2023-12-31T09:06:21.112600",
     "status": "completed"
    },
    "tags": []
   },
   "outputs": [],
   "source": []
  }
 ],
 "metadata": {
  "kernelspec": {
   "display_name": "Python 3 (ipykernel)",
   "language": "python",
   "name": "python3"
  },
  "language_info": {
   "codemirror_mode": {
    "name": "ipython",
    "version": 3
   },
   "file_extension": ".py",
   "mimetype": "text/x-python",
   "name": "python",
   "nbconvert_exporter": "python",
   "pygments_lexer": "ipython3",
   "version": "3.8.10"
  },
  "papermill": {
   "default_parameters": {},
   "duration": 157.793008,
   "end_time": "2023-12-31T09:06:21.448735",
   "environment_variables": {},
   "exception": null,
   "input_path": "/work/git/mlonmcu/mlonmcu/ipynb/Examples/PerLayerBenchmarking/PerLayerBenchmarking.ipynb",
   "output_path": "/work/git/mlonmcu/mlonmcu/ipynb/Examples/PerLayerBenchmarking/PerLayerBenchmarking.ipynb",
   "parameters": {},
   "start_time": "2023-12-31T09:03:43.655727",
   "version": "2.5.0"
  }
 },
 "nbformat": 4,
 "nbformat_minor": 5
}
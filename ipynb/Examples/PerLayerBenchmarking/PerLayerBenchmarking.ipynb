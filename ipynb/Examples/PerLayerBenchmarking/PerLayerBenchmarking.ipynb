{
 "cells": [
  {
   "cell_type": "markdown",
   "id": "c09cd879",
   "metadata": {
    "tags": [
     "papermill-error-cell-tag"
    ]
   },
   "source": [
    "<span style=\"color:red; font-family:Helvetica Neue, Helvetica, Arial, sans-serif; font-size:2em;\">An Exception was encountered at '<a href=\"#papermill-error-cell\">In [2]</a>'.</span>"
   ]
  },
  {
   "cell_type": "code",
   "execution_count": 1,
   "id": "7e65d484-33f9-484c-bc0a-d24bd0c1ee5c",
   "metadata": {
    "execution": {
     "iopub.execute_input": "2023-12-31T08:43:27.481475Z",
     "iopub.status.busy": "2023-12-31T08:43:27.481025Z",
     "iopub.status.idle": "2023-12-31T08:43:27.495082Z",
     "shell.execute_reply": "2023-12-31T08:43:27.493980Z"
    },
    "papermill": {
     "duration": 0.033405,
     "end_time": "2023-12-31T08:43:27.497900",
     "exception": false,
     "start_time": "2023-12-31T08:43:27.464495",
     "status": "completed"
    },
    "tags": []
   },
   "outputs": [],
   "source": [
    "from IPython.display import Code"
   ]
  },
  {
   "cell_type": "markdown",
   "id": "67a623c3",
   "metadata": {
    "papermill": {
     "duration": 0.008221,
     "end_time": "2023-12-31T08:43:27.519066",
     "exception": false,
     "start_time": "2023-12-31T08:43:27.510845",
     "status": "completed"
    },
    "tags": []
   },
   "source": [
    "# Example: Per-Layer Model Benchmarking"
   ]
  },
  {
   "cell_type": "markdown",
   "id": "1025ee11",
   "metadata": {
    "papermill": {
     "duration": 0.006544,
     "end_time": "2023-12-31T08:43:27.531744",
     "exception": false,
     "start_time": "2023-12-31T08:43:27.525200",
     "status": "completed"
    },
    "tags": []
   },
   "source": [
    "When investigating why a given model performs not as expected or implementing optimiations for specific types of layers, it is often useful to consider the runtime individual layers instead of the end-to-end execution time.\n",
    "\n",
    "MLonMCU currently supports to approaches for per-layer benchmarking:\n",
    "1. Using the `split_layers` feature of the `tflite` frontend\n",
    "2. Using the profiling feature provided by the `tvm` and `microtvm` (WIP) platform\n",
    "\n",
    "Both use-cases are explained briefly in the rest of this notebook."
   ]
  },
  {
   "cell_type": "markdown",
   "id": "c7164b6a",
   "metadata": {
    "papermill": {
     "duration": 0.008528,
     "end_time": "2023-12-31T08:43:27.552690",
     "exception": false,
     "start_time": "2023-12-31T08:43:27.544162",
     "status": "completed"
    },
    "tags": []
   },
   "source": [
    "## 1. Splitting TFLite Models into individual layers"
   ]
  },
  {
   "cell_type": "markdown",
   "id": "87fd1387",
   "metadata": {
    "papermill": {
     "duration": 0.005157,
     "end_time": "2023-12-31T08:43:27.563738",
     "exception": false,
     "start_time": "2023-12-31T08:43:27.558581",
     "status": "completed"
    },
    "tags": []
   },
   "source": [
    "### Supported components"
   ]
  },
  {
   "cell_type": "markdown",
   "id": "584a911d",
   "metadata": {
    "papermill": {
     "duration": 0.003974,
     "end_time": "2023-12-31T08:43:27.571717",
     "exception": false,
     "start_time": "2023-12-31T08:43:27.567743",
     "status": "completed"
    },
    "tags": []
   },
   "source": [
    "**Models:** Any (`resnet` used below)\n",
    "\n",
    "**Frontends:** `tflite` only\n",
    "\n",
    "**Frameworks/Backends:** Any (`tvmaotplus` used below)\n",
    "\n",
    "**Platforms/Targets:** Any (`etiss` used below)\n",
    "\n",
    "**Features:** The `split_layers` feature of the `tflite` frontend needs to be enabled"
   ]
  },
  {
   "cell_type": "markdown",
   "id": "74ce776e",
   "metadata": {
    "papermill": {
     "duration": 0.003932,
     "end_time": "2023-12-31T08:43:27.579567",
     "exception": false,
     "start_time": "2023-12-31T08:43:27.575635",
     "status": "completed"
    },
    "tags": []
   },
   "source": [
    "### Prerequisites"
   ]
  },
  {
   "cell_type": "markdown",
   "id": "7f8ebf19-728d-4acf-9339-5e77f7018798",
   "metadata": {
    "papermill": {
     "duration": 0.003977,
     "end_time": "2023-12-31T08:43:27.587389",
     "exception": false,
     "start_time": "2023-12-31T08:43:27.583412",
     "status": "completed"
    },
    "tags": []
   },
   "source": [
    "If not done already, setup a virtual python environment and install the required packages into it. (See `requirements.txt`)"
   ]
  },
  {
   "cell_type": "markdown",
   "id": "56700041",
   "metadata": {
    "tags": [
     "papermill-error-cell-tag"
    ]
   },
   "source": [
    "<span id=\"papermill-error-cell\" style=\"color:red; font-family:Helvetica Neue, Helvetica, Arial, sans-serif; font-size:2em;\">Execution using papermill encountered an exception here and stopped:</span>"
   ]
  },
  {
   "cell_type": "code",
   "execution_count": 2,
   "id": "d78d5f8e-de13-43ba-ad05-0137df1efa57",
   "metadata": {
    "execution": {
     "iopub.execute_input": "2023-12-31T08:43:27.596206Z",
     "iopub.status.busy": "2023-12-31T08:43:27.595926Z",
     "iopub.status.idle": "2023-12-31T08:43:27.829490Z",
     "shell.execute_reply": "2023-12-31T08:43:27.828621Z"
    },
    "papermill": {
     "duration": 0.239721,
     "end_time": "2023-12-31T08:43:27.830969",
     "exception": true,
     "start_time": "2023-12-31T08:43:27.591248",
     "status": "failed"
    },
    "tags": []
   },
   "outputs": [
    {
     "ename": "FileNotFoundError",
     "evalue": "[Errno 2] No such file or directory: 'requirements.txt'",
     "output_type": "error",
     "traceback": [
      "\u001b[0;31m---------------------------------------------------------------------------\u001b[0m",
      "\u001b[0;31mFileNotFoundError\u001b[0m                         Traceback (most recent call last)",
      "Cell \u001b[0;32mIn[2], line 1\u001b[0m\n\u001b[0;32m----> 1\u001b[0m \u001b[43mCode\u001b[49m\u001b[43m(\u001b[49m\u001b[43mfilename\u001b[49m\u001b[38;5;241;43m=\u001b[39;49m\u001b[38;5;124;43m\"\u001b[39;49m\u001b[38;5;124;43mrequirements.txt\u001b[39;49m\u001b[38;5;124;43m\"\u001b[39;49m\u001b[43m)\u001b[49m\n",
      "File \u001b[0;32m/tmp/CodeSizeComparison-TsW6/venv/lib/python3.8/site-packages/IPython/lib/display.py:651\u001b[0m, in \u001b[0;36mCode.__init__\u001b[0;34m(self, data, url, filename, language)\u001b[0m\n\u001b[1;32m    649\u001b[0m \u001b[38;5;28;01mdef\u001b[39;00m \u001b[38;5;21m__init__\u001b[39m(\u001b[38;5;28mself\u001b[39m, data\u001b[38;5;241m=\u001b[39m\u001b[38;5;28;01mNone\u001b[39;00m, url\u001b[38;5;241m=\u001b[39m\u001b[38;5;28;01mNone\u001b[39;00m, filename\u001b[38;5;241m=\u001b[39m\u001b[38;5;28;01mNone\u001b[39;00m, language\u001b[38;5;241m=\u001b[39m\u001b[38;5;28;01mNone\u001b[39;00m):\n\u001b[1;32m    650\u001b[0m     \u001b[38;5;28mself\u001b[39m\u001b[38;5;241m.\u001b[39mlanguage \u001b[38;5;241m=\u001b[39m language\n\u001b[0;32m--> 651\u001b[0m     \u001b[38;5;28;43msuper\u001b[39;49m\u001b[43m(\u001b[49m\u001b[43m)\u001b[49m\u001b[38;5;241;43m.\u001b[39;49m\u001b[38;5;21;43m__init__\u001b[39;49m\u001b[43m(\u001b[49m\u001b[43mdata\u001b[49m\u001b[38;5;241;43m=\u001b[39;49m\u001b[43mdata\u001b[49m\u001b[43m,\u001b[49m\u001b[43m \u001b[49m\u001b[43murl\u001b[49m\u001b[38;5;241;43m=\u001b[39;49m\u001b[43murl\u001b[49m\u001b[43m,\u001b[49m\u001b[43m \u001b[49m\u001b[43mfilename\u001b[49m\u001b[38;5;241;43m=\u001b[39;49m\u001b[43mfilename\u001b[49m\u001b[43m)\u001b[49m\n",
      "File \u001b[0;32m/tmp/CodeSizeComparison-TsW6/venv/lib/python3.8/site-packages/IPython/core/display.py:327\u001b[0m, in \u001b[0;36mDisplayObject.__init__\u001b[0;34m(self, data, url, filename, metadata)\u001b[0m\n\u001b[1;32m    324\u001b[0m \u001b[38;5;28;01melif\u001b[39;00m \u001b[38;5;28mself\u001b[39m\u001b[38;5;241m.\u001b[39mmetadata \u001b[38;5;129;01mis\u001b[39;00m \u001b[38;5;28;01mNone\u001b[39;00m:\n\u001b[1;32m    325\u001b[0m     \u001b[38;5;28mself\u001b[39m\u001b[38;5;241m.\u001b[39mmetadata \u001b[38;5;241m=\u001b[39m {}\n\u001b[0;32m--> 327\u001b[0m \u001b[38;5;28;43mself\u001b[39;49m\u001b[38;5;241;43m.\u001b[39;49m\u001b[43mreload\u001b[49m\u001b[43m(\u001b[49m\u001b[43m)\u001b[49m\n\u001b[1;32m    328\u001b[0m \u001b[38;5;28mself\u001b[39m\u001b[38;5;241m.\u001b[39m_check_data()\n",
      "File \u001b[0;32m/tmp/CodeSizeComparison-TsW6/venv/lib/python3.8/site-packages/IPython/core/display.py:353\u001b[0m, in \u001b[0;36mDisplayObject.reload\u001b[0;34m(self)\u001b[0m\n\u001b[1;32m    351\u001b[0m \u001b[38;5;28;01mif\u001b[39;00m \u001b[38;5;28mself\u001b[39m\u001b[38;5;241m.\u001b[39mfilename \u001b[38;5;129;01mis\u001b[39;00m \u001b[38;5;129;01mnot\u001b[39;00m \u001b[38;5;28;01mNone\u001b[39;00m:\n\u001b[1;32m    352\u001b[0m     encoding \u001b[38;5;241m=\u001b[39m \u001b[38;5;28;01mNone\u001b[39;00m \u001b[38;5;28;01mif\u001b[39;00m \u001b[38;5;124m\"\u001b[39m\u001b[38;5;124mb\u001b[39m\u001b[38;5;124m\"\u001b[39m \u001b[38;5;129;01min\u001b[39;00m \u001b[38;5;28mself\u001b[39m\u001b[38;5;241m.\u001b[39m_read_flags \u001b[38;5;28;01melse\u001b[39;00m \u001b[38;5;124m\"\u001b[39m\u001b[38;5;124mutf-8\u001b[39m\u001b[38;5;124m\"\u001b[39m\n\u001b[0;32m--> 353\u001b[0m     \u001b[38;5;28;01mwith\u001b[39;00m \u001b[38;5;28;43mopen\u001b[39;49m\u001b[43m(\u001b[49m\u001b[38;5;28;43mself\u001b[39;49m\u001b[38;5;241;43m.\u001b[39;49m\u001b[43mfilename\u001b[49m\u001b[43m,\u001b[49m\u001b[43m \u001b[49m\u001b[38;5;28;43mself\u001b[39;49m\u001b[38;5;241;43m.\u001b[39;49m\u001b[43m_read_flags\u001b[49m\u001b[43m,\u001b[49m\u001b[43m \u001b[49m\u001b[43mencoding\u001b[49m\u001b[38;5;241;43m=\u001b[39;49m\u001b[43mencoding\u001b[49m\u001b[43m)\u001b[49m \u001b[38;5;28;01mas\u001b[39;00m f:\n\u001b[1;32m    354\u001b[0m         \u001b[38;5;28mself\u001b[39m\u001b[38;5;241m.\u001b[39mdata \u001b[38;5;241m=\u001b[39m f\u001b[38;5;241m.\u001b[39mread()\n\u001b[1;32m    355\u001b[0m \u001b[38;5;28;01melif\u001b[39;00m \u001b[38;5;28mself\u001b[39m\u001b[38;5;241m.\u001b[39murl \u001b[38;5;129;01mis\u001b[39;00m \u001b[38;5;129;01mnot\u001b[39;00m \u001b[38;5;28;01mNone\u001b[39;00m:\n\u001b[1;32m    356\u001b[0m     \u001b[38;5;66;03m# Deferred import\u001b[39;00m\n",
      "\u001b[0;31mFileNotFoundError\u001b[0m: [Errno 2] No such file or directory: 'requirements.txt'"
     ]
    }
   ],
   "source": [
    "Code(filename=\"requirements.txt\")"
   ]
  },
  {
   "cell_type": "markdown",
   "id": "18955525",
   "metadata": {
    "papermill": {
     "duration": null,
     "end_time": null,
     "exception": null,
     "start_time": null,
     "status": "pending"
    },
    "tags": []
   },
   "source": [
    "Set up MLonmCU as usual, i.e. initialize an environment and install all required dependencies. Feel free to use the following minimal `environment.yml.j2` template:"
   ]
  },
  {
   "cell_type": "code",
   "execution_count": null,
   "id": "7d284397-2c38-45b9-825e-586a5566e7e0",
   "metadata": {
    "papermill": {
     "duration": null,
     "end_time": null,
     "exception": null,
     "start_time": null,
     "status": "pending"
    },
    "tags": []
   },
   "outputs": [],
   "source": [
    "Code(filename=\"environment.yml.j2\")"
   ]
  },
  {
   "cell_type": "markdown",
   "id": "4d140308",
   "metadata": {
    "papermill": {
     "duration": null,
     "end_time": null,
     "exception": null,
     "start_time": null,
     "status": "pending"
    },
    "tags": []
   },
   "source": [
    "Do not forget to set your `MLONMCU_HOME` environment variable first if not using the default location!"
   ]
  },
  {
   "cell_type": "markdown",
   "id": "a3bac781",
   "metadata": {
    "papermill": {
     "duration": null,
     "end_time": null,
     "exception": null,
     "start_time": null,
     "status": "pending"
    },
    "tags": []
   },
   "source": [
    "### Usage"
   ]
  },
  {
   "cell_type": "markdown",
   "id": "1352b362",
   "metadata": {
    "papermill": {
     "duration": null,
     "end_time": null,
     "exception": null,
     "start_time": null,
     "status": "pending"
    },
    "tags": []
   },
   "source": [
    "The following examples demonstrate the `split_layers` feature recently added MLonMCU."
   ]
  },
  {
   "cell_type": "markdown",
   "id": "f01b54e2",
   "metadata": {
    "papermill": {
     "duration": null,
     "end_time": null,
     "exception": null,
     "start_time": null,
     "status": "pending"
    },
    "tags": []
   },
   "source": [
    "#### A) Command Line Interface"
   ]
  },
  {
   "cell_type": "markdown",
   "id": "2b333851",
   "metadata": {
    "papermill": {
     "duration": null,
     "end_time": null,
     "exception": null,
     "start_time": null,
     "status": "pending"
    },
    "tags": []
   },
   "source": [
    "First define a simple benchmark of a single model/backend/target combination:"
   ]
  },
  {
   "cell_type": "code",
   "execution_count": null,
   "id": "43576c35",
   "metadata": {
    "papermill": {
     "duration": null,
     "end_time": null,
     "exception": null,
     "start_time": null,
     "status": "pending"
    },
    "tags": []
   },
   "outputs": [],
   "source": [
    "!mlonmcu flow run resnet --backend tvmaotplus --target etiss_pulpino"
   ]
  },
  {
   "cell_type": "markdown",
   "id": "5ccc2ec8",
   "metadata": {
    "papermill": {
     "duration": null,
     "end_time": null,
     "exception": null,
     "start_time": null,
     "status": "pending"
    },
    "tags": []
   },
   "source": [
    "Now lets enable the `split_layers` feature:"
   ]
  },
  {
   "cell_type": "code",
   "execution_count": null,
   "id": "53c89e22",
   "metadata": {
    "papermill": {
     "duration": null,
     "end_time": null,
     "exception": null,
     "start_time": null,
     "status": "pending"
    },
    "tags": []
   },
   "outputs": [],
   "source": [
    "!mlonmcu flow run resnet --backend tvmaotplus --target etiss_pulpino -f split_layers"
   ]
  },
  {
   "cell_type": "markdown",
   "id": "c9776cd6",
   "metadata": {
    "papermill": {
     "duration": null,
     "end_time": null,
     "exception": null,
     "start_time": null,
     "status": "pending"
    },
    "tags": []
   },
   "source": [
    "The resulting report should contain the the original benchmark results (for the whole model) in the first row. The remaining 16 rows are for each of the layers found in the `resnet.tflite` model. The layer-index can be found in the 'Sub' column. The cycle count of these should roughly sum up to the total execution time measured in row one."
   ]
  },
  {
   "cell_type": "markdown",
   "id": "4238333c",
   "metadata": {
    "papermill": {
     "duration": null,
     "end_time": null,
     "exception": null,
     "start_time": null,
     "status": "pending"
    },
    "tags": []
   },
   "source": [
    "#### B) Python Scripting"
   ]
  },
  {
   "cell_type": "markdown",
   "id": "b500fc47",
   "metadata": {
    "papermill": {
     "duration": null,
     "end_time": null,
     "exception": null,
     "start_time": null,
     "status": "pending"
    },
    "tags": []
   },
   "source": [
    "Some imports"
   ]
  },
  {
   "cell_type": "code",
   "execution_count": null,
   "id": "78c53970",
   "metadata": {
    "papermill": {
     "duration": null,
     "end_time": null,
     "exception": null,
     "start_time": null,
     "status": "pending"
    },
    "tags": []
   },
   "outputs": [],
   "source": [
    "from tempfile import TemporaryDirectory\n",
    "from pathlib import Path\n",
    "import pandas as pd\n",
    "\n",
    "from mlonmcu.context.context import MlonMcuContext\n",
    "from mlonmcu.session.run import RunStage"
   ]
  },
  {
   "cell_type": "markdown",
   "id": "86046913",
   "metadata": {
    "papermill": {
     "duration": null,
     "end_time": null,
     "exception": null,
     "start_time": null,
     "status": "pending"
    },
    "tags": []
   },
   "source": [
    "Benchmark Configuration"
   ]
  },
  {
   "cell_type": "code",
   "execution_count": null,
   "id": "2f6c5e5a",
   "metadata": {
    "papermill": {
     "duration": null,
     "end_time": null,
     "exception": null,
     "start_time": null,
     "status": "pending"
    },
    "tags": []
   },
   "outputs": [],
   "source": [
    "FRONTEND = \"tflite\"\n",
    "MODEL = \"resnet\"\n",
    "BACKEND = \"tvmaotplus\"\n",
    "PLATFORM = \"mlif\"\n",
    "TARGET = \"etiss_pulpino\"\n",
    "FEATURES = [\"split_layers\"]\n",
    "CONFIG = {\"filter_cols.keep\": [\"Sub\", \"Total Instructions\", \"Total ROM\", \"Total RAM\"]}\n",
    "POSTPROCESSES = [\"filter_cols\"]"
   ]
  },
  {
   "cell_type": "markdown",
   "id": "966cc3fe",
   "metadata": {
    "papermill": {
     "duration": null,
     "end_time": null,
     "exception": null,
     "start_time": null,
     "status": "pending"
    },
    "tags": []
   },
   "source": [
    "Initialize and run a single benchmark"
   ]
  },
  {
   "cell_type": "code",
   "execution_count": null,
   "id": "ebe63369",
   "metadata": {
    "papermill": {
     "duration": null,
     "end_time": null,
     "exception": null,
     "start_time": null,
     "status": "pending"
    },
    "tags": []
   },
   "outputs": [],
   "source": [
    "with MlonMcuContext() as context:\n",
    "    with context.create_session() as session:\n",
    "        run = session.create_run(config=CONFIG)\n",
    "        run.add_features_by_name(FEATURES, context=context)\n",
    "        run.add_frontend_by_name(FRONTEND, context=context)\n",
    "        run.add_model_by_name(MODEL, context=context)\n",
    "        run.add_backend_by_name(BACKEND, context=context)\n",
    "        run.add_platform_by_name(PLATFORM, context=context)\n",
    "        run.add_target_by_name(TARGET, context=context)\n",
    "        run.add_postprocesses_by_name(POSTPROCESSES)\n",
    "        session.process_runs(context=context)\n",
    "        report = session.get_reports()\n",
    "assert \"Failing\" not in report.df.columns\n",
    "report.df"
   ]
  },
  {
   "cell_type": "markdown",
   "id": "3f079313",
   "metadata": {
    "papermill": {
     "duration": null,
     "end_time": null,
     "exception": null,
     "start_time": null,
     "status": "pending"
    },
    "tags": []
   },
   "source": [
    "Stripping out all common data, we get this:"
   ]
  },
  {
   "cell_type": "code",
   "execution_count": null,
   "id": "5e84f3e2",
   "metadata": {
    "papermill": {
     "duration": null,
     "end_time": null,
     "exception": null,
     "start_time": null,
     "status": "pending"
    },
    "tags": []
   },
   "outputs": [],
   "source": [
    "df = report.df\n",
    "df.fillna(\"full\", inplace=True)\n",
    "df.set_index(\"Sub\", inplace=True)\n",
    "df"
   ]
  },
  {
   "cell_type": "markdown",
   "id": "5f257b8a",
   "metadata": {
    "papermill": {
     "duration": null,
     "end_time": null,
     "exception": null,
     "start_time": null,
     "status": "pending"
    },
    "tags": []
   },
   "source": [
    "## 2. Using ~~(Micro)~~TVMs profiling functionality"
   ]
  },
  {
   "cell_type": "markdown",
   "id": "57914347",
   "metadata": {
    "papermill": {
     "duration": null,
     "end_time": null,
     "exception": null,
     "start_time": null,
     "status": "pending"
    },
    "tags": []
   },
   "source": [
    "Instead of splitting the model layer wise before optimization, this will use the functionality of TVMs graph runtime to benchmark individual functions conatine din the model graph. These functions do not nessessarily map directly to a single layer in the original model operator fusing is automatically performed by TVMs compilation pipeline."
   ]
  },
  {
   "cell_type": "markdown",
   "id": "09da8a16",
   "metadata": {
    "papermill": {
     "duration": null,
     "end_time": null,
     "exception": null,
     "start_time": null,
     "status": "pending"
    },
    "tags": []
   },
   "source": [
    "### Supported components"
   ]
  },
  {
   "cell_type": "markdown",
   "id": "9f12e37b",
   "metadata": {
    "papermill": {
     "duration": null,
     "end_time": null,
     "exception": null,
     "start_time": null,
     "status": "pending"
    },
    "tags": []
   },
   "source": [
    "**Models:** Any (`resnet` used below)\n",
    "\n",
    "**Frontends:** Any frontend supported by TVM (`tflite` used below)\n",
    "\n",
    "**Frameworks/Backends:** TVM: `tvmllvm` ~~MicroTVM: `tvmrt`~~\n",
    "\n",
    "**Platforms/Targets:** TVM: `tvm_cpu` ~~MicroTVM: Any~~\n",
    "\n",
    "**Features:** The `tvm_profile` feature needs to be enabled"
   ]
  },
  {
   "cell_type": "markdown",
   "id": "501b6cb5",
   "metadata": {
    "papermill": {
     "duration": null,
     "end_time": null,
     "exception": null,
     "start_time": null,
     "status": "pending"
    },
    "tags": []
   },
   "source": [
    "Let's only consider the `tvm_cpu` target here until this is supported officially by upstream TVM. Hence we are profiling on the host cpu here, not on a MCU or simulator. "
   ]
  },
  {
   "cell_type": "markdown",
   "id": "bab34b8e",
   "metadata": {
    "papermill": {
     "duration": null,
     "end_time": null,
     "exception": null,
     "start_time": null,
     "status": "pending"
    },
    "tags": []
   },
   "source": [
    "### Prerequisites"
   ]
  },
  {
   "cell_type": "markdown",
   "id": "c1f0d52f-0bcd-4845-81e6-ce20e02768a0",
   "metadata": {
    "papermill": {
     "duration": null,
     "end_time": null,
     "exception": null,
     "start_time": null,
     "status": "pending"
    },
    "tags": []
   },
   "source": [
    "If not done already, setup a virtual python environment and install the required packages into it. (See `requirements.txt`)"
   ]
  },
  {
   "cell_type": "code",
   "execution_count": null,
   "id": "e7df798a-160a-4ea3-905c-6b4a7f66fb02",
   "metadata": {
    "papermill": {
     "duration": null,
     "end_time": null,
     "exception": null,
     "start_time": null,
     "status": "pending"
    },
    "tags": []
   },
   "outputs": [],
   "source": [
    "Code(filename=\"requirements.txt\")"
   ]
  },
  {
   "cell_type": "markdown",
   "id": "9f28ad19",
   "metadata": {
    "papermill": {
     "duration": null,
     "end_time": null,
     "exception": null,
     "start_time": null,
     "status": "pending"
    },
    "tags": []
   },
   "source": [
    "Set up MLonmCU as usual, i.e. initializa an environment and install all required dependencies. Feel free to use the following minimal `environment.yml.j2` template:"
   ]
  },
  {
   "cell_type": "code",
   "execution_count": null,
   "id": "6c963043-116a-4dfd-885e-ad038f027272",
   "metadata": {
    "papermill": {
     "duration": null,
     "end_time": null,
     "exception": null,
     "start_time": null,
     "status": "pending"
    },
    "tags": []
   },
   "outputs": [],
   "source": [
    "Code(filename=\"environment.yml.j2\")"
   ]
  },
  {
   "cell_type": "markdown",
   "id": "aea3abab",
   "metadata": {
    "papermill": {
     "duration": null,
     "end_time": null,
     "exception": null,
     "start_time": null,
     "status": "pending"
    },
    "tags": []
   },
   "source": [
    "Do not forget to set your `MLONMCU_HOME` environment variable first if not using the default location!"
   ]
  },
  {
   "cell_type": "markdown",
   "id": "06760327",
   "metadata": {
    "papermill": {
     "duration": null,
     "end_time": null,
     "exception": null,
     "start_time": null,
     "status": "pending"
    },
    "tags": []
   },
   "source": [
    "### Usage"
   ]
  },
  {
   "cell_type": "markdown",
   "id": "bfb3a68f",
   "metadata": {
    "papermill": {
     "duration": null,
     "end_time": null,
     "exception": null,
     "start_time": null,
     "status": "pending"
    },
    "tags": []
   },
   "source": [
    "The following examples demonstrate the `tvm_profile` of the TVM and MicroTVM platform."
   ]
  },
  {
   "cell_type": "markdown",
   "id": "5dc993c4",
   "metadata": {
    "papermill": {
     "duration": null,
     "end_time": null,
     "exception": null,
     "start_time": null,
     "status": "pending"
    },
    "tags": []
   },
   "source": [
    "#### A) Command Line Interface"
   ]
  },
  {
   "cell_type": "markdown",
   "id": "fb42b68b",
   "metadata": {
    "papermill": {
     "duration": null,
     "end_time": null,
     "exception": null,
     "start_time": null,
     "status": "pending"
    },
    "tags": []
   },
   "source": [
    "First define a simple benchmark of a single model/backend/target combination:"
   ]
  },
  {
   "cell_type": "code",
   "execution_count": null,
   "id": "ba9203cf",
   "metadata": {
    "papermill": {
     "duration": null,
     "end_time": null,
     "exception": null,
     "start_time": null,
     "status": "pending"
    },
    "tags": []
   },
   "outputs": [],
   "source": [
    "!python -m mlonmcu.cli.main flow run resnet -b tvmllvm -t tvm_cpu"
   ]
  },
  {
   "cell_type": "markdown",
   "id": "4f73578c",
   "metadata": {
    "papermill": {
     "duration": null,
     "end_time": null,
     "exception": null,
     "start_time": null,
     "status": "pending"
    },
    "tags": []
   },
   "source": [
    "To enable TVM's profiling feature just just add `-f tvm_profile` to the command line:"
   ]
  },
  {
   "cell_type": "code",
   "execution_count": null,
   "id": "ef315def",
   "metadata": {
    "papermill": {
     "duration": null,
     "end_time": null,
     "exception": null,
     "start_time": null,
     "status": "pending"
    },
    "tags": []
   },
   "outputs": [],
   "source": [
    "!python -m mlonmcu.cli.main flow run resnet -b tvmllvm -t tvm_cpu -f tvm_profile"
   ]
  },
  {
   "cell_type": "markdown",
   "id": "25f50cb1",
   "metadata": {
    "papermill": {
     "duration": null,
     "end_time": null,
     "exception": null,
     "start_time": null,
     "status": "pending"
    },
    "tags": []
   },
   "source": [
    "Since tvm used quite long function-names, this might not be very reaible. As a last step, let's try to improve that using the `filter_cols` postprocess:"
   ]
  },
  {
   "cell_type": "code",
   "execution_count": null,
   "id": "7387412a",
   "metadata": {
    "papermill": {
     "duration": null,
     "end_time": null,
     "exception": null,
     "start_time": null,
     "status": "pending"
    },
    "tags": []
   },
   "outputs": [],
   "source": [
    "!python -m mlonmcu.cli.main flow run resnet -b tvmllvm -t tvm_cpu -f tvm_profile \\\n",
    "        --postprocess filter_cols -c filter_cols.keep=\"Model,Sub,Runtime [s]\""
   ]
  },
  {
   "cell_type": "markdown",
   "id": "9923e157",
   "metadata": {
    "papermill": {
     "duration": null,
     "end_time": null,
     "exception": null,
     "start_time": null,
     "status": "pending"
    },
    "tags": []
   },
   "source": [
    "#### B) Python Scripting"
   ]
  },
  {
   "cell_type": "markdown",
   "id": "7b423f33",
   "metadata": {
    "papermill": {
     "duration": null,
     "end_time": null,
     "exception": null,
     "start_time": null,
     "status": "pending"
    },
    "tags": []
   },
   "source": [
    "Some imports"
   ]
  },
  {
   "cell_type": "code",
   "execution_count": null,
   "id": "eb132851",
   "metadata": {
    "papermill": {
     "duration": null,
     "end_time": null,
     "exception": null,
     "start_time": null,
     "status": "pending"
    },
    "tags": []
   },
   "outputs": [],
   "source": [
    "from tempfile import TemporaryDirectory\n",
    "from pathlib import Path\n",
    "import pandas as pd\n",
    "\n",
    "from mlonmcu.context.context import MlonMcuContext\n",
    "from mlonmcu.session.run import RunStage"
   ]
  },
  {
   "cell_type": "markdown",
   "id": "728cde15",
   "metadata": {
    "papermill": {
     "duration": null,
     "end_time": null,
     "exception": null,
     "start_time": null,
     "status": "pending"
    },
    "tags": []
   },
   "source": [
    "Benchmark Configuration"
   ]
  },
  {
   "cell_type": "code",
   "execution_count": null,
   "id": "0ddf80b5",
   "metadata": {
    "papermill": {
     "duration": null,
     "end_time": null,
     "exception": null,
     "start_time": null,
     "status": "pending"
    },
    "tags": []
   },
   "outputs": [],
   "source": [
    "FRONTEND = \"tflite\"\n",
    "MODEL = \"resnet\"\n",
    "BACKEND = \"tvmllvm\"\n",
    "PLATFORM = \"tvm\"\n",
    "TARGET = \"tvm_cpu\"\n",
    "FEATURES = [\"tvm_profile\"]\n",
    "CONFIG = {}\n",
    "POSTPROCESSES = []"
   ]
  },
  {
   "cell_type": "markdown",
   "id": "2b17fda4",
   "metadata": {
    "papermill": {
     "duration": null,
     "end_time": null,
     "exception": null,
     "start_time": null,
     "status": "pending"
    },
    "tags": []
   },
   "source": [
    "Initialize and run a single benchmark"
   ]
  },
  {
   "cell_type": "code",
   "execution_count": null,
   "id": "4bdab219",
   "metadata": {
    "papermill": {
     "duration": null,
     "end_time": null,
     "exception": null,
     "start_time": null,
     "status": "pending"
    },
    "tags": []
   },
   "outputs": [],
   "source": [
    "with MlonMcuContext() as context:\n",
    "    with context.create_session() as session:\n",
    "        run = session.create_run(config=CONFIG)\n",
    "        run.add_features_by_name(FEATURES, context=context)\n",
    "        run.add_frontend_by_name(FRONTEND, context=context)\n",
    "        run.add_model_by_name(MODEL, context=context)\n",
    "        run.add_platform_by_name(PLATFORM, context=context)\n",
    "        run.add_backend_by_name(BACKEND, context=context)\n",
    "        run.add_target_by_name(TARGET, context=context)\n",
    "        run.add_postprocesses_by_name(POSTPROCESSES)\n",
    "        session.process_runs(context=context)\n",
    "        report = session.get_reports()\n",
    "assert \"Failing\" not in report.df.columns\n",
    "report.df"
   ]
  },
  {
   "cell_type": "markdown",
   "id": "39937811",
   "metadata": {
    "papermill": {
     "duration": null,
     "end_time": null,
     "exception": null,
     "start_time": null,
     "status": "pending"
    },
    "tags": []
   },
   "source": [
    "After stripping it down to the essential data:"
   ]
  },
  {
   "cell_type": "code",
   "execution_count": null,
   "id": "093c7340",
   "metadata": {
    "papermill": {
     "duration": null,
     "end_time": null,
     "exception": null,
     "start_time": null,
     "status": "pending"
    },
    "tags": []
   },
   "outputs": [],
   "source": [
    "df = report.df\n",
    "df.drop([\"Session\", \"Run\", \"Frontend\", \"Model\", \"Framework\", \"Backend\", \"Platform\", \"Target\", \"Config\", \"Features\", \"Postprocesses\", \"Comment\"], axis=1, inplace=True)\n",
    "df.fillna(\"full\", inplace=True)\n",
    "df.set_index(\"Sub\", inplace=True)\n",
    "df"
   ]
  },
  {
   "cell_type": "code",
   "execution_count": null,
   "id": "0661e3b3",
   "metadata": {
    "papermill": {
     "duration": null,
     "end_time": null,
     "exception": null,
     "start_time": null,
     "status": "pending"
    },
    "tags": []
   },
   "outputs": [],
   "source": []
  }
 ],
 "metadata": {
  "kernelspec": {
   "display_name": "Python 3 (ipykernel)",
   "language": "python",
   "name": "python3"
  },
  "language_info": {
   "codemirror_mode": {
    "name": "ipython",
    "version": 3
   },
   "file_extension": ".py",
   "mimetype": "text/x-python",
   "name": "python",
   "nbconvert_exporter": "python",
   "pygments_lexer": "ipython3",
   "version": "3.8.10"
  },
  "papermill": {
   "default_parameters": {},
   "duration": 1.337997,
   "end_time": "2023-12-31T08:43:28.059545",
   "environment_variables": {},
   "exception": true,
   "input_path": "/work/git/mlonmcu/mlonmcu/ipynb/Examples/PerLayerBenchmarking/PerLayerBenchmarking.ipynb",
   "output_path": "/work/git/mlonmcu/mlonmcu/ipynb/Examples/PerLayerBenchmarking/PerLayerBenchmarking.ipynb",
   "parameters": {},
   "start_time": "2023-12-31T08:43:26.721548",
   "version": "2.5.0"
  }
 },
 "nbformat": 4,
 "nbformat_minor": 5
}
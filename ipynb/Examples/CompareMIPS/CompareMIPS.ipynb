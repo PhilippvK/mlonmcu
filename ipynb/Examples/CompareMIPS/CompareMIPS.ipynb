{
 "cells": [
  {
   "cell_type": "code",
   "execution_count": 1,
   "id": "9050f19f-4354-41e2-8bbc-fa4760c0a3ad",
   "metadata": {
    "execution": {
     "iopub.execute_input": "2023-12-31T10:58:58.369885Z",
     "iopub.status.busy": "2023-12-31T10:58:58.369275Z",
     "iopub.status.idle": "2023-12-31T10:58:58.375864Z",
     "shell.execute_reply": "2023-12-31T10:58:58.375219Z"
    },
    "papermill": {
     "duration": 0.013279,
     "end_time": "2023-12-31T10:58:58.377247",
     "exception": false,
     "start_time": "2023-12-31T10:58:58.363968",
     "status": "completed"
    },
    "tags": []
   },
   "outputs": [],
   "source": [
    "from IPython.display import Code"
   ]
  },
  {
   "cell_type": "markdown",
   "id": "67a623c3",
   "metadata": {
    "papermill": {
     "duration": 0.004354,
     "end_time": "2023-12-31T10:58:58.385267",
     "exception": false,
     "start_time": "2023-12-31T10:58:58.380913",
     "status": "completed"
    },
    "tags": []
   },
   "source": [
    "# Example: Compare MIPS of RISC-V Instruction Set Simulators"
   ]
  },
  {
   "cell_type": "markdown",
   "id": "1025ee11",
   "metadata": {
    "papermill": {
     "duration": 0.003335,
     "end_time": "2023-12-31T10:58:58.391942",
     "exception": false,
     "start_time": "2023-12-31T10:58:58.388607",
     "status": "completed"
    },
    "tags": []
   },
   "source": [
    "Typically MLonMCU would be used to benchmark TinyML workloads on real wardware or simulators. However it's flexibility also allows some interesting experiments not directly related to Embedded ML. In the following it the performance of some RISC-V ISA Simulators is compared using the MLonMCU command line or Python API."
   ]
  },
  {
   "cell_type": "markdown",
   "id": "87fd1387",
   "metadata": {
    "papermill": {
     "duration": 0.00327,
     "end_time": "2023-12-31T10:58:58.398620",
     "exception": false,
     "start_time": "2023-12-31T10:58:58.395350",
     "status": "completed"
    },
    "tags": []
   },
   "source": [
    "## Supported components"
   ]
  },
  {
   "cell_type": "markdown",
   "id": "584a911d",
   "metadata": {
    "papermill": {
     "duration": 0.003335,
     "end_time": "2023-12-31T10:58:58.405312",
     "exception": false,
     "start_time": "2023-12-31T10:58:58.401977",
     "status": "completed"
    },
    "tags": []
   },
   "source": [
    "**Models:** Any (`sine_model` used below)\n",
    "\n",
    "**Frontends:** Any (`tflite` used below)\n",
    "\n",
    "**Frameworks/Backends:** Any (`tvmaotplus` used below)\n",
    "\n",
    "**Platforms/Targets:** `etiss`, `spike`, `ovpsim` (`etiss` and `spike` used below)"
   ]
  },
  {
   "cell_type": "markdown",
   "id": "74ce776e",
   "metadata": {
    "papermill": {
     "duration": 0.003293,
     "end_time": "2023-12-31T10:58:58.411917",
     "exception": false,
     "start_time": "2023-12-31T10:58:58.408624",
     "status": "completed"
    },
    "tags": []
   },
   "source": [
    "## Prerequisites"
   ]
  },
  {
   "cell_type": "markdown",
   "id": "7754d408-0097-4904-a3c6-2738669776fc",
   "metadata": {
    "papermill": {
     "duration": 0.003256,
     "end_time": "2023-12-31T10:58:58.418545",
     "exception": false,
     "start_time": "2023-12-31T10:58:58.415289",
     "status": "completed"
    },
    "tags": []
   },
   "source": [
    "If not done already, setup a virtual python environment and install the required packages into it. (See `requirements.txt`)"
   ]
  },
  {
   "cell_type": "code",
   "execution_count": 2,
   "id": "4f21a1f8-02b7-41b8-b02b-48f82fe6491e",
   "metadata": {
    "execution": {
     "iopub.execute_input": "2023-12-31T10:58:58.426393Z",
     "iopub.status.busy": "2023-12-31T10:58:58.426009Z",
     "iopub.status.idle": "2023-12-31T10:58:58.509769Z",
     "shell.execute_reply": "2023-12-31T10:58:58.509039Z"
    },
    "papermill": {
     "duration": 0.089446,
     "end_time": "2023-12-31T10:58:58.511310",
     "exception": false,
     "start_time": "2023-12-31T10:58:58.421864",
     "status": "completed"
    },
    "tags": []
   },
   "outputs": [
    {
     "data": {
      "text/html": [
       "<style>pre { line-height: 125%; }\n",
       "td.linenos .normal { color: inherit; background-color: transparent; padding-left: 5px; padding-right: 5px; }\n",
       "span.linenos { color: inherit; background-color: transparent; padding-left: 5px; padding-right: 5px; }\n",
       "td.linenos .special { color: #000000; background-color: #ffffc0; padding-left: 5px; padding-right: 5px; }\n",
       "span.linenos.special { color: #000000; background-color: #ffffc0; padding-left: 5px; padding-right: 5px; }\n",
       ".output_html .hll { background-color: #ffffcc }\n",
       ".output_html { background: #f8f8f8; }\n",
       ".output_html .c { color: #3D7B7B; font-style: italic } /* Comment */\n",
       ".output_html .err { border: 1px solid #FF0000 } /* Error */\n",
       ".output_html .k { color: #008000; font-weight: bold } /* Keyword */\n",
       ".output_html .o { color: #666666 } /* Operator */\n",
       ".output_html .ch { color: #3D7B7B; font-style: italic } /* Comment.Hashbang */\n",
       ".output_html .cm { color: #3D7B7B; font-style: italic } /* Comment.Multiline */\n",
       ".output_html .cp { color: #9C6500 } /* Comment.Preproc */\n",
       ".output_html .cpf { color: #3D7B7B; font-style: italic } /* Comment.PreprocFile */\n",
       ".output_html .c1 { color: #3D7B7B; font-style: italic } /* Comment.Single */\n",
       ".output_html .cs { color: #3D7B7B; font-style: italic } /* Comment.Special */\n",
       ".output_html .gd { color: #A00000 } /* Generic.Deleted */\n",
       ".output_html .ge { font-style: italic } /* Generic.Emph */\n",
       ".output_html .ges { font-weight: bold; font-style: italic } /* Generic.EmphStrong */\n",
       ".output_html .gr { color: #E40000 } /* Generic.Error */\n",
       ".output_html .gh { color: #000080; font-weight: bold } /* Generic.Heading */\n",
       ".output_html .gi { color: #008400 } /* Generic.Inserted */\n",
       ".output_html .go { color: #717171 } /* Generic.Output */\n",
       ".output_html .gp { color: #000080; font-weight: bold } /* Generic.Prompt */\n",
       ".output_html .gs { font-weight: bold } /* Generic.Strong */\n",
       ".output_html .gu { color: #800080; font-weight: bold } /* Generic.Subheading */\n",
       ".output_html .gt { color: #0044DD } /* Generic.Traceback */\n",
       ".output_html .kc { color: #008000; font-weight: bold } /* Keyword.Constant */\n",
       ".output_html .kd { color: #008000; font-weight: bold } /* Keyword.Declaration */\n",
       ".output_html .kn { color: #008000; font-weight: bold } /* Keyword.Namespace */\n",
       ".output_html .kp { color: #008000 } /* Keyword.Pseudo */\n",
       ".output_html .kr { color: #008000; font-weight: bold } /* Keyword.Reserved */\n",
       ".output_html .kt { color: #B00040 } /* Keyword.Type */\n",
       ".output_html .m { color: #666666 } /* Literal.Number */\n",
       ".output_html .s { color: #BA2121 } /* Literal.String */\n",
       ".output_html .na { color: #687822 } /* Name.Attribute */\n",
       ".output_html .nb { color: #008000 } /* Name.Builtin */\n",
       ".output_html .nc { color: #0000FF; font-weight: bold } /* Name.Class */\n",
       ".output_html .no { color: #880000 } /* Name.Constant */\n",
       ".output_html .nd { color: #AA22FF } /* Name.Decorator */\n",
       ".output_html .ni { color: #717171; font-weight: bold } /* Name.Entity */\n",
       ".output_html .ne { color: #CB3F38; font-weight: bold } /* Name.Exception */\n",
       ".output_html .nf { color: #0000FF } /* Name.Function */\n",
       ".output_html .nl { color: #767600 } /* Name.Label */\n",
       ".output_html .nn { color: #0000FF; font-weight: bold } /* Name.Namespace */\n",
       ".output_html .nt { color: #008000; font-weight: bold } /* Name.Tag */\n",
       ".output_html .nv { color: #19177C } /* Name.Variable */\n",
       ".output_html .ow { color: #AA22FF; font-weight: bold } /* Operator.Word */\n",
       ".output_html .w { color: #bbbbbb } /* Text.Whitespace */\n",
       ".output_html .mb { color: #666666 } /* Literal.Number.Bin */\n",
       ".output_html .mf { color: #666666 } /* Literal.Number.Float */\n",
       ".output_html .mh { color: #666666 } /* Literal.Number.Hex */\n",
       ".output_html .mi { color: #666666 } /* Literal.Number.Integer */\n",
       ".output_html .mo { color: #666666 } /* Literal.Number.Oct */\n",
       ".output_html .sa { color: #BA2121 } /* Literal.String.Affix */\n",
       ".output_html .sb { color: #BA2121 } /* Literal.String.Backtick */\n",
       ".output_html .sc { color: #BA2121 } /* Literal.String.Char */\n",
       ".output_html .dl { color: #BA2121 } /* Literal.String.Delimiter */\n",
       ".output_html .sd { color: #BA2121; font-style: italic } /* Literal.String.Doc */\n",
       ".output_html .s2 { color: #BA2121 } /* Literal.String.Double */\n",
       ".output_html .se { color: #AA5D1F; font-weight: bold } /* Literal.String.Escape */\n",
       ".output_html .sh { color: #BA2121 } /* Literal.String.Heredoc */\n",
       ".output_html .si { color: #A45A77; font-weight: bold } /* Literal.String.Interpol */\n",
       ".output_html .sx { color: #008000 } /* Literal.String.Other */\n",
       ".output_html .sr { color: #A45A77 } /* Literal.String.Regex */\n",
       ".output_html .s1 { color: #BA2121 } /* Literal.String.Single */\n",
       ".output_html .ss { color: #19177C } /* Literal.String.Symbol */\n",
       ".output_html .bp { color: #008000 } /* Name.Builtin.Pseudo */\n",
       ".output_html .fm { color: #0000FF } /* Name.Function.Magic */\n",
       ".output_html .vc { color: #19177C } /* Name.Variable.Class */\n",
       ".output_html .vg { color: #19177C } /* Name.Variable.Global */\n",
       ".output_html .vi { color: #19177C } /* Name.Variable.Instance */\n",
       ".output_html .vm { color: #19177C } /* Name.Variable.Magic */\n",
       ".output_html .il { color: #666666 } /* Literal.Number.Integer.Long */</style><div class=\"highlight\"><pre><span></span>-r ../../requirements.txt\n",
       "attrs\n",
       "cloudpickle\n",
       "decorator\n",
       "numpy\n",
       "psutil\n",
       "scipy\n",
       "synr\n",
       "tornado\n",
       "typing_extensions\n",
       "tflite\n",
       "</pre></div>\n"
      ],
      "text/latex": [
       "\\begin{Verbatim}[commandchars=\\\\\\{\\}]\n",
       "\\PYZhy{}r ../../requirements.txt\n",
       "attrs\n",
       "cloudpickle\n",
       "decorator\n",
       "numpy\n",
       "psutil\n",
       "scipy\n",
       "synr\n",
       "tornado\n",
       "typing\\PYZus{}extensions\n",
       "tflite\n",
       "\\end{Verbatim}\n"
      ],
      "text/plain": [
       "-r ../../requirements.txt\n",
       "attrs\n",
       "cloudpickle\n",
       "decorator\n",
       "numpy\n",
       "psutil\n",
       "scipy\n",
       "synr\n",
       "tornado\n",
       "typing_extensions\n",
       "tflite"
      ]
     },
     "execution_count": 2,
     "metadata": {},
     "output_type": "execute_result"
    }
   ],
   "source": [
    "Code(filename=\"requirements.txt\")"
   ]
  },
  {
   "cell_type": "markdown",
   "id": "18955525",
   "metadata": {
    "papermill": {
     "duration": 0.003589,
     "end_time": "2023-12-31T10:58:58.518747",
     "exception": false,
     "start_time": "2023-12-31T10:58:58.515158",
     "status": "completed"
    },
    "tags": []
   },
   "source": [
    "Set up MLonmCU as usual, i.e. initialize an environment and install all required dependencies. Feel free to use the following minimal `environment.yml.j2` template:"
   ]
  },
  {
   "cell_type": "code",
   "execution_count": 3,
   "id": "10aee1f8-68d0-4d29-b724-98fbb55b8004",
   "metadata": {
    "execution": {
     "iopub.execute_input": "2023-12-31T10:58:58.527348Z",
     "iopub.status.busy": "2023-12-31T10:58:58.526754Z",
     "iopub.status.idle": "2023-12-31T10:58:58.569965Z",
     "shell.execute_reply": "2023-12-31T10:58:58.569240Z"
    },
    "papermill": {
     "duration": 0.04896,
     "end_time": "2023-12-31T10:58:58.571318",
     "exception": false,
     "start_time": "2023-12-31T10:58:58.522358",
     "status": "completed"
    },
    "tags": []
   },
   "outputs": [
    {
     "data": {
      "text/html": [
       "<style>pre { line-height: 125%; }\n",
       "td.linenos .normal { color: inherit; background-color: transparent; padding-left: 5px; padding-right: 5px; }\n",
       "span.linenos { color: inherit; background-color: transparent; padding-left: 5px; padding-right: 5px; }\n",
       "td.linenos .special { color: #000000; background-color: #ffffc0; padding-left: 5px; padding-right: 5px; }\n",
       "span.linenos.special { color: #000000; background-color: #ffffc0; padding-left: 5px; padding-right: 5px; }\n",
       ".output_html .hll { background-color: #ffffcc }\n",
       ".output_html { background: #f8f8f8; }\n",
       ".output_html .c { color: #3D7B7B; font-style: italic } /* Comment */\n",
       ".output_html .err { border: 1px solid #FF0000 } /* Error */\n",
       ".output_html .k { color: #008000; font-weight: bold } /* Keyword */\n",
       ".output_html .o { color: #666666 } /* Operator */\n",
       ".output_html .ch { color: #3D7B7B; font-style: italic } /* Comment.Hashbang */\n",
       ".output_html .cm { color: #3D7B7B; font-style: italic } /* Comment.Multiline */\n",
       ".output_html .cp { color: #9C6500 } /* Comment.Preproc */\n",
       ".output_html .cpf { color: #3D7B7B; font-style: italic } /* Comment.PreprocFile */\n",
       ".output_html .c1 { color: #3D7B7B; font-style: italic } /* Comment.Single */\n",
       ".output_html .cs { color: #3D7B7B; font-style: italic } /* Comment.Special */\n",
       ".output_html .gd { color: #A00000 } /* Generic.Deleted */\n",
       ".output_html .ge { font-style: italic } /* Generic.Emph */\n",
       ".output_html .ges { font-weight: bold; font-style: italic } /* Generic.EmphStrong */\n",
       ".output_html .gr { color: #E40000 } /* Generic.Error */\n",
       ".output_html .gh { color: #000080; font-weight: bold } /* Generic.Heading */\n",
       ".output_html .gi { color: #008400 } /* Generic.Inserted */\n",
       ".output_html .go { color: #717171 } /* Generic.Output */\n",
       ".output_html .gp { color: #000080; font-weight: bold } /* Generic.Prompt */\n",
       ".output_html .gs { font-weight: bold } /* Generic.Strong */\n",
       ".output_html .gu { color: #800080; font-weight: bold } /* Generic.Subheading */\n",
       ".output_html .gt { color: #0044DD } /* Generic.Traceback */\n",
       ".output_html .kc { color: #008000; font-weight: bold } /* Keyword.Constant */\n",
       ".output_html .kd { color: #008000; font-weight: bold } /* Keyword.Declaration */\n",
       ".output_html .kn { color: #008000; font-weight: bold } /* Keyword.Namespace */\n",
       ".output_html .kp { color: #008000 } /* Keyword.Pseudo */\n",
       ".output_html .kr { color: #008000; font-weight: bold } /* Keyword.Reserved */\n",
       ".output_html .kt { color: #B00040 } /* Keyword.Type */\n",
       ".output_html .m { color: #666666 } /* Literal.Number */\n",
       ".output_html .s { color: #BA2121 } /* Literal.String */\n",
       ".output_html .na { color: #687822 } /* Name.Attribute */\n",
       ".output_html .nb { color: #008000 } /* Name.Builtin */\n",
       ".output_html .nc { color: #0000FF; font-weight: bold } /* Name.Class */\n",
       ".output_html .no { color: #880000 } /* Name.Constant */\n",
       ".output_html .nd { color: #AA22FF } /* Name.Decorator */\n",
       ".output_html .ni { color: #717171; font-weight: bold } /* Name.Entity */\n",
       ".output_html .ne { color: #CB3F38; font-weight: bold } /* Name.Exception */\n",
       ".output_html .nf { color: #0000FF } /* Name.Function */\n",
       ".output_html .nl { color: #767600 } /* Name.Label */\n",
       ".output_html .nn { color: #0000FF; font-weight: bold } /* Name.Namespace */\n",
       ".output_html .nt { color: #008000; font-weight: bold } /* Name.Tag */\n",
       ".output_html .nv { color: #19177C } /* Name.Variable */\n",
       ".output_html .ow { color: #AA22FF; font-weight: bold } /* Operator.Word */\n",
       ".output_html .w { color: #bbbbbb } /* Text.Whitespace */\n",
       ".output_html .mb { color: #666666 } /* Literal.Number.Bin */\n",
       ".output_html .mf { color: #666666 } /* Literal.Number.Float */\n",
       ".output_html .mh { color: #666666 } /* Literal.Number.Hex */\n",
       ".output_html .mi { color: #666666 } /* Literal.Number.Integer */\n",
       ".output_html .mo { color: #666666 } /* Literal.Number.Oct */\n",
       ".output_html .sa { color: #BA2121 } /* Literal.String.Affix */\n",
       ".output_html .sb { color: #BA2121 } /* Literal.String.Backtick */\n",
       ".output_html .sc { color: #BA2121 } /* Literal.String.Char */\n",
       ".output_html .dl { color: #BA2121 } /* Literal.String.Delimiter */\n",
       ".output_html .sd { color: #BA2121; font-style: italic } /* Literal.String.Doc */\n",
       ".output_html .s2 { color: #BA2121 } /* Literal.String.Double */\n",
       ".output_html .se { color: #AA5D1F; font-weight: bold } /* Literal.String.Escape */\n",
       ".output_html .sh { color: #BA2121 } /* Literal.String.Heredoc */\n",
       ".output_html .si { color: #A45A77; font-weight: bold } /* Literal.String.Interpol */\n",
       ".output_html .sx { color: #008000 } /* Literal.String.Other */\n",
       ".output_html .sr { color: #A45A77 } /* Literal.String.Regex */\n",
       ".output_html .s1 { color: #BA2121 } /* Literal.String.Single */\n",
       ".output_html .ss { color: #19177C } /* Literal.String.Symbol */\n",
       ".output_html .bp { color: #008000 } /* Name.Builtin.Pseudo */\n",
       ".output_html .fm { color: #0000FF } /* Name.Function.Magic */\n",
       ".output_html .vc { color: #19177C } /* Name.Variable.Class */\n",
       ".output_html .vg { color: #19177C } /* Name.Variable.Global */\n",
       ".output_html .vi { color: #19177C } /* Name.Variable.Instance */\n",
       ".output_html .vm { color: #19177C } /* Name.Variable.Magic */\n",
       ".output_html .il { color: #666666 } /* Literal.Number.Integer.Long */</style><div class=\"highlight\"><pre><span></span><span class=\"nn\">---</span>\n",
       "<span class=\"c1\"># The MLONMCU_HOME is filled in automatically when creating the environment</span>\n",
       "<span class=\"nt\">home</span><span class=\"p\">:</span><span class=\"w\"> </span><span class=\"s\">&quot;</span><span class=\"cp\">{{</span> <span class=\"nv\">home_dir</span> <span class=\"cp\">}}</span><span class=\"s\">&quot;</span>\n",
       "<span class=\"nt\">logging</span><span class=\"p\">:</span>\n",
       "<span class=\"w\">  </span><span class=\"nt\">level</span><span class=\"p\">:</span><span class=\"w\"> </span><span class=\"l l-Scalar l-Scalar-Plain\">INFO</span>\n",
       "<span class=\"w\">  </span><span class=\"nt\">to_file</span><span class=\"p\">:</span><span class=\"w\"> </span><span class=\"l l-Scalar l-Scalar-Plain\">false</span>\n",
       "<span class=\"w\">  </span><span class=\"nt\">rotate</span><span class=\"p\">:</span><span class=\"w\"> </span><span class=\"l l-Scalar l-Scalar-Plain\">false</span>\n",
       "<span class=\"nt\">cleanup</span><span class=\"p\">:</span>\n",
       "<span class=\"w\">  </span><span class=\"nt\">auto</span><span class=\"p\">:</span><span class=\"w\"> </span><span class=\"l l-Scalar l-Scalar-Plain\">true</span>\n",
       "<span class=\"w\">  </span><span class=\"nt\">keep</span><span class=\"p\">:</span><span class=\"w\"> </span><span class=\"l l-Scalar l-Scalar-Plain\">5</span>\n",
       "<span class=\"c1\"># Default locations for certain directoriescan be changed here</span>\n",
       "<span class=\"c1\"># Non-absolute paths will always be threated relative to the MLONMCU_HOME</span>\n",
       "<span class=\"nt\">paths</span><span class=\"p\">:</span>\n",
       "<span class=\"w\">  </span><span class=\"c1\"># Where the dependencies are downloaded and installed</span>\n",
       "<span class=\"w\">  </span><span class=\"nt\">deps</span><span class=\"p\">:</span><span class=\"w\"> </span><span class=\"l l-Scalar l-Scalar-Plain\">deps</span>\n",
       "<span class=\"w\">  </span><span class=\"c1\"># If logging to file is used keep logs in this directory</span>\n",
       "<span class=\"w\">  </span><span class=\"nt\">logs</span><span class=\"p\">:</span><span class=\"w\"> </span><span class=\"l l-Scalar l-Scalar-Plain\">logs</span>\n",
       "<span class=\"w\">  </span><span class=\"c1\"># Location where reports and artifacts are written to</span>\n",
       "<span class=\"w\">  </span><span class=\"nt\">results</span><span class=\"p\">:</span><span class=\"w\"> </span><span class=\"l l-Scalar l-Scalar-Plain\">results</span>\n",
       "<span class=\"w\">  </span><span class=\"c1\"># Directory where custom extensions can be integrated</span>\n",
       "<span class=\"w\">  </span><span class=\"nt\">plugins</span><span class=\"p\">:</span><span class=\"w\"> </span><span class=\"l l-Scalar l-Scalar-Plain\">plugins</span>\n",
       "<span class=\"w\">  </span><span class=\"c1\"># Directory for intermediate build products, should be located on a large enough drive</span>\n",
       "<span class=\"w\">  </span><span class=\"nt\">temp</span><span class=\"p\">:</span><span class=\"w\"> </span><span class=\"l l-Scalar l-Scalar-Plain\">temp</span>\n",
       "<span class=\"w\">  </span><span class=\"c1\"># A collection of models which will be used to look for models</span>\n",
       "<span class=\"w\">  </span><span class=\"c1\"># The paths will be checked in the order defined here stopping at the first match</span>\n",
       "<span class=\"w\">  </span><span class=\"c1\"># Non-existant paths will be skipped without throwing an error</span>\n",
       "<span class=\"w\">  </span><span class=\"nt\">models</span><span class=\"p\">:</span>\n",
       "<span class=\"w\">    </span><span class=\"p p-Indicator\">-</span><span class=\"w\"> </span><span class=\"s\">&quot;</span><span class=\"cp\">{{</span> <span class=\"nv\">home_dir</span> <span class=\"cp\">}}</span><span class=\"s\">/models&quot;</span>\n",
       "<span class=\"c1\"># Here default clone_urls</span>\n",
       "<span class=\"nt\">repos</span><span class=\"p\">:</span>\n",
       "<span class=\"w\">  </span><span class=\"nt\">tvm</span><span class=\"p\">:</span>\n",
       "<span class=\"w\">    </span><span class=\"nt\">url</span><span class=\"p\">:</span><span class=\"w\"> </span><span class=\"s\">&quot;https://github.com/apache/tvm.git&quot;</span>\n",
       "<span class=\"w\">    </span><span class=\"nt\">ref</span><span class=\"p\">:</span><span class=\"w\"> </span><span class=\"l l-Scalar l-Scalar-Plain\">a9fcac1a47f4b57c1d9d828c7ed1d77452b02cc5</span>\n",
       "<span class=\"w\">    </span><span class=\"nt\">options</span><span class=\"p\">:</span>\n",
       "<span class=\"w\">      </span><span class=\"nt\">recursive</span><span class=\"p\">:</span><span class=\"w\"> </span><span class=\"l l-Scalar l-Scalar-Plain\">true</span>\n",
       "<span class=\"w\">  </span><span class=\"nt\">etiss</span><span class=\"p\">:</span>\n",
       "<span class=\"w\">    </span><span class=\"nt\">url</span><span class=\"p\">:</span><span class=\"w\"> </span><span class=\"s\">&quot;https://github.com/tum-ei-eda/etiss.git&quot;</span>\n",
       "<span class=\"w\">    </span><span class=\"nt\">ref</span><span class=\"p\">:</span><span class=\"w\"> </span><span class=\"l l-Scalar l-Scalar-Plain\">40c0b920cf4072adf189211ca44291534355dcfd</span>\n",
       "<span class=\"w\">  </span><span class=\"nt\">spike</span><span class=\"p\">:</span>\n",
       "<span class=\"w\">    </span><span class=\"nt\">url</span><span class=\"p\">:</span><span class=\"w\"> </span><span class=\"s\">&quot;https://github.com/riscv-software-src/riscv-isa-sim.git&quot;</span>\n",
       "<span class=\"w\">    </span><span class=\"nt\">ref</span><span class=\"p\">:</span><span class=\"w\"> </span><span class=\"l l-Scalar l-Scalar-Plain\">0bc176b3fca43560b9e8586cdbc41cfde073e17a</span>\n",
       "<span class=\"w\">  </span><span class=\"nt\">spikepk</span><span class=\"p\">:</span>\n",
       "<span class=\"w\">    </span><span class=\"nt\">url</span><span class=\"p\">:</span><span class=\"w\"> </span><span class=\"s\">&quot;https://github.com/riscv-software-src/riscv-pk.git&quot;</span>\n",
       "<span class=\"w\">    </span><span class=\"nt\">ref</span><span class=\"p\">:</span><span class=\"w\"> </span><span class=\"l l-Scalar l-Scalar-Plain\">7e9b671c0415dfd7b562ac934feb9380075d4aa2</span>\n",
       "<span class=\"w\">  </span><span class=\"nt\">mlif</span><span class=\"p\">:</span>\n",
       "<span class=\"w\">    </span><span class=\"nt\">url</span><span class=\"p\">:</span><span class=\"w\"> </span><span class=\"s\">&quot;https://github.com/tum-ei-eda/mlonmcu-sw.git&quot;</span>\n",
       "<span class=\"w\">    </span><span class=\"nt\">ref</span><span class=\"p\">:</span><span class=\"w\"> </span><span class=\"l l-Scalar l-Scalar-Plain\">c7b0e7364c232666ebd5a17476181e3ff9a71d70</span>\n",
       "<span class=\"nt\">frameworks</span><span class=\"p\">:</span>\n",
       "<span class=\"w\">  </span><span class=\"nt\">default</span><span class=\"p\">:</span><span class=\"w\"> </span><span class=\"l l-Scalar l-Scalar-Plain\">tvm</span>\n",
       "<span class=\"w\">  </span><span class=\"nt\">tvm</span><span class=\"p\">:</span>\n",
       "<span class=\"w\">    </span><span class=\"nt\">enabled</span><span class=\"p\">:</span><span class=\"w\"> </span><span class=\"l l-Scalar l-Scalar-Plain\">true</span>\n",
       "<span class=\"w\">    </span><span class=\"nt\">backends</span><span class=\"p\">:</span>\n",
       "<span class=\"w\">      </span><span class=\"nt\">default</span><span class=\"p\">:</span><span class=\"w\"> </span><span class=\"l l-Scalar l-Scalar-Plain\">tvmaot</span>\n",
       "<span class=\"w\">      </span><span class=\"nt\">tvmaot</span><span class=\"p\">:</span>\n",
       "<span class=\"w\">        </span><span class=\"nt\">enabled</span><span class=\"p\">:</span><span class=\"w\"> </span><span class=\"l l-Scalar l-Scalar-Plain\">true</span>\n",
       "<span class=\"w\">        </span><span class=\"nt\">features</span><span class=\"p\">:</span><span class=\"w\"> </span><span class=\"p p-Indicator\">{}</span>\n",
       "<span class=\"w\">    </span><span class=\"nt\">features</span><span class=\"p\">:</span><span class=\"w\"> </span><span class=\"p p-Indicator\">{}</span>\n",
       "<span class=\"nt\">frontends</span><span class=\"p\">:</span>\n",
       "<span class=\"w\">  </span><span class=\"nt\">tflite</span><span class=\"p\">:</span>\n",
       "<span class=\"w\">    </span><span class=\"nt\">enabled</span><span class=\"p\">:</span><span class=\"w\"> </span><span class=\"l l-Scalar l-Scalar-Plain\">true</span>\n",
       "<span class=\"w\">    </span><span class=\"nt\">features</span><span class=\"p\">:</span><span class=\"w\"> </span><span class=\"p p-Indicator\">[]</span>\n",
       "<span class=\"nt\">toolchains</span><span class=\"p\">:</span>\n",
       "<span class=\"w\">  </span><span class=\"nt\">gcc</span><span class=\"p\">:</span><span class=\"w\"> </span><span class=\"l l-Scalar l-Scalar-Plain\">true</span>\n",
       "<span class=\"nt\">platforms</span><span class=\"p\">:</span>\n",
       "<span class=\"w\">  </span><span class=\"nt\">mlif</span><span class=\"p\">:</span>\n",
       "<span class=\"w\">    </span><span class=\"nt\">enabled</span><span class=\"p\">:</span><span class=\"w\"> </span><span class=\"l l-Scalar l-Scalar-Plain\">true</span>\n",
       "<span class=\"w\">    </span><span class=\"nt\">features</span><span class=\"p\">:</span>\n",
       "<span class=\"w\">      </span><span class=\"nt\">debug</span><span class=\"p\">:</span><span class=\"w\"> </span><span class=\"l l-Scalar l-Scalar-Plain\">true</span>\n",
       "<span class=\"nt\">targets</span><span class=\"p\">:</span>\n",
       "<span class=\"w\">  </span><span class=\"nt\">default</span><span class=\"p\">:</span><span class=\"w\"> </span><span class=\"l l-Scalar l-Scalar-Plain\">host_x86</span>\n",
       "<span class=\"w\">  </span><span class=\"nt\">etiss</span><span class=\"p\">:</span>\n",
       "<span class=\"w\">    </span><span class=\"nt\">enabled</span><span class=\"p\">:</span><span class=\"w\"> </span><span class=\"l l-Scalar l-Scalar-Plain\">true</span>\n",
       "<span class=\"w\">    </span><span class=\"nt\">features</span><span class=\"p\">:</span><span class=\"w\"> </span><span class=\"p p-Indicator\">{}</span>\n",
       "<span class=\"w\">  </span><span class=\"nt\">spike</span><span class=\"p\">:</span>\n",
       "<span class=\"w\">    </span><span class=\"nt\">enabled</span><span class=\"p\">:</span><span class=\"w\"> </span><span class=\"l l-Scalar l-Scalar-Plain\">true</span>\n",
       "<span class=\"w\">    </span><span class=\"nt\">features</span><span class=\"p\">:</span><span class=\"w\"> </span><span class=\"p p-Indicator\">{}</span>\n",
       "<span class=\"w\">  </span><span class=\"nt\">host_x86</span><span class=\"p\">:</span>\n",
       "<span class=\"w\">    </span><span class=\"nt\">enabled</span><span class=\"p\">:</span><span class=\"w\"> </span><span class=\"l l-Scalar l-Scalar-Plain\">true</span>\n",
       "<span class=\"w\">    </span><span class=\"nt\">features</span><span class=\"p\">:</span><span class=\"w\"> </span><span class=\"p p-Indicator\">[]</span>\n",
       "<span class=\"nt\">postprocesses</span><span class=\"p\">:</span>\n",
       "<span class=\"w\">  </span><span class=\"nt\">use</span><span class=\"p\">:</span><span class=\"w\"> </span><span class=\"p p-Indicator\">[]</span>\n",
       "<span class=\"nt\">vars</span><span class=\"p\">:</span>\n",
       "<span class=\"w\">  </span><span class=\"nt\">allow_extensions</span><span class=\"p\">:</span><span class=\"w\"> </span><span class=\"l l-Scalar l-Scalar-Plain\">false</span>\n",
       "<span class=\"w\">  </span><span class=\"nt\">runs_per_stage</span><span class=\"p\">:</span><span class=\"w\"> </span><span class=\"l l-Scalar l-Scalar-Plain\">true</span>\n",
       "<span class=\"w\">  </span><span class=\"nt\">riscv_gcc.dl_url</span><span class=\"p\">:</span><span class=\"w\"> </span><span class=\"s\">&quot;https://syncandshare.lrz.de/dl/fiD9HnHYkb2V8kNbVQYv242m/rv32gc.tar.gz&quot;</span>\n",
       "<span class=\"nt\">flags</span><span class=\"p\">:</span><span class=\"w\"> </span><span class=\"p p-Indicator\">{}</span>\n",
       "</pre></div>\n"
      ],
      "text/latex": [
       "\\begin{Verbatim}[commandchars=\\\\\\{\\}]\n",
       "\\PY{n+nn}{\\PYZhy{}\\PYZhy{}\\PYZhy{}}\n",
       "\\PY{c+c1}{\\PYZsh{} The MLONMCU\\PYZus{}HOME is filled in automatically when creating the environment}\n",
       "\\PY{n+nt}{home}\\PY{p}{:}\\PY{+w}{ }\\PY{l+s}{\\PYZdq{}}\\PY{c+cp}{\\PYZob{}\\PYZob{}} \\PY{n+nv}{home\\PYZus{}dir} \\PY{c+cp}{\\PYZcb{}\\PYZcb{}}\\PY{l+s}{\\PYZdq{}}\n",
       "\\PY{n+nt}{logging}\\PY{p}{:}\n",
       "\\PY{+w}{  }\\PY{n+nt}{level}\\PY{p}{:}\\PY{+w}{ }\\PY{l+lScalar+lScalarPlain}{INFO}\n",
       "\\PY{+w}{  }\\PY{n+nt}{to\\PYZus{}file}\\PY{p}{:}\\PY{+w}{ }\\PY{l+lScalar+lScalarPlain}{false}\n",
       "\\PY{+w}{  }\\PY{n+nt}{rotate}\\PY{p}{:}\\PY{+w}{ }\\PY{l+lScalar+lScalarPlain}{false}\n",
       "\\PY{n+nt}{cleanup}\\PY{p}{:}\n",
       "\\PY{+w}{  }\\PY{n+nt}{auto}\\PY{p}{:}\\PY{+w}{ }\\PY{l+lScalar+lScalarPlain}{true}\n",
       "\\PY{+w}{  }\\PY{n+nt}{keep}\\PY{p}{:}\\PY{+w}{ }\\PY{l+lScalar+lScalarPlain}{5}\n",
       "\\PY{c+c1}{\\PYZsh{} Default locations for certain directoriescan be changed here}\n",
       "\\PY{c+c1}{\\PYZsh{} Non\\PYZhy{}absolute paths will always be threated relative to the MLONMCU\\PYZus{}HOME}\n",
       "\\PY{n+nt}{paths}\\PY{p}{:}\n",
       "\\PY{+w}{  }\\PY{c+c1}{\\PYZsh{} Where the dependencies are downloaded and installed}\n",
       "\\PY{+w}{  }\\PY{n+nt}{deps}\\PY{p}{:}\\PY{+w}{ }\\PY{l+lScalar+lScalarPlain}{deps}\n",
       "\\PY{+w}{  }\\PY{c+c1}{\\PYZsh{} If logging to file is used keep logs in this directory}\n",
       "\\PY{+w}{  }\\PY{n+nt}{logs}\\PY{p}{:}\\PY{+w}{ }\\PY{l+lScalar+lScalarPlain}{logs}\n",
       "\\PY{+w}{  }\\PY{c+c1}{\\PYZsh{} Location where reports and artifacts are written to}\n",
       "\\PY{+w}{  }\\PY{n+nt}{results}\\PY{p}{:}\\PY{+w}{ }\\PY{l+lScalar+lScalarPlain}{results}\n",
       "\\PY{+w}{  }\\PY{c+c1}{\\PYZsh{} Directory where custom extensions can be integrated}\n",
       "\\PY{+w}{  }\\PY{n+nt}{plugins}\\PY{p}{:}\\PY{+w}{ }\\PY{l+lScalar+lScalarPlain}{plugins}\n",
       "\\PY{+w}{  }\\PY{c+c1}{\\PYZsh{} Directory for intermediate build products, should be located on a large enough drive}\n",
       "\\PY{+w}{  }\\PY{n+nt}{temp}\\PY{p}{:}\\PY{+w}{ }\\PY{l+lScalar+lScalarPlain}{temp}\n",
       "\\PY{+w}{  }\\PY{c+c1}{\\PYZsh{} A collection of models which will be used to look for models}\n",
       "\\PY{+w}{  }\\PY{c+c1}{\\PYZsh{} The paths will be checked in the order defined here stopping at the first match}\n",
       "\\PY{+w}{  }\\PY{c+c1}{\\PYZsh{} Non\\PYZhy{}existant paths will be skipped without throwing an error}\n",
       "\\PY{+w}{  }\\PY{n+nt}{models}\\PY{p}{:}\n",
       "\\PY{+w}{    }\\PY{p+pIndicator}{\\PYZhy{}}\\PY{+w}{ }\\PY{l+s}{\\PYZdq{}}\\PY{c+cp}{\\PYZob{}\\PYZob{}} \\PY{n+nv}{home\\PYZus{}dir} \\PY{c+cp}{\\PYZcb{}\\PYZcb{}}\\PY{l+s}{/models}\\PY{l+s}{\\PYZdq{}}\n",
       "\\PY{c+c1}{\\PYZsh{} Here default clone\\PYZus{}urls}\n",
       "\\PY{n+nt}{repos}\\PY{p}{:}\n",
       "\\PY{+w}{  }\\PY{n+nt}{tvm}\\PY{p}{:}\n",
       "\\PY{+w}{    }\\PY{n+nt}{url}\\PY{p}{:}\\PY{+w}{ }\\PY{l+s}{\\PYZdq{}}\\PY{l+s}{https://github.com/apache/tvm.git}\\PY{l+s}{\\PYZdq{}}\n",
       "\\PY{+w}{    }\\PY{n+nt}{ref}\\PY{p}{:}\\PY{+w}{ }\\PY{l+lScalar+lScalarPlain}{a9fcac1a47f4b57c1d9d828c7ed1d77452b02cc5}\n",
       "\\PY{+w}{    }\\PY{n+nt}{options}\\PY{p}{:}\n",
       "\\PY{+w}{      }\\PY{n+nt}{recursive}\\PY{p}{:}\\PY{+w}{ }\\PY{l+lScalar+lScalarPlain}{true}\n",
       "\\PY{+w}{  }\\PY{n+nt}{etiss}\\PY{p}{:}\n",
       "\\PY{+w}{    }\\PY{n+nt}{url}\\PY{p}{:}\\PY{+w}{ }\\PY{l+s}{\\PYZdq{}}\\PY{l+s}{https://github.com/tum\\PYZhy{}ei\\PYZhy{}eda/etiss.git}\\PY{l+s}{\\PYZdq{}}\n",
       "\\PY{+w}{    }\\PY{n+nt}{ref}\\PY{p}{:}\\PY{+w}{ }\\PY{l+lScalar+lScalarPlain}{40c0b920cf4072adf189211ca44291534355dcfd}\n",
       "\\PY{+w}{  }\\PY{n+nt}{spike}\\PY{p}{:}\n",
       "\\PY{+w}{    }\\PY{n+nt}{url}\\PY{p}{:}\\PY{+w}{ }\\PY{l+s}{\\PYZdq{}}\\PY{l+s}{https://github.com/riscv\\PYZhy{}software\\PYZhy{}src/riscv\\PYZhy{}isa\\PYZhy{}sim.git}\\PY{l+s}{\\PYZdq{}}\n",
       "\\PY{+w}{    }\\PY{n+nt}{ref}\\PY{p}{:}\\PY{+w}{ }\\PY{l+lScalar+lScalarPlain}{0bc176b3fca43560b9e8586cdbc41cfde073e17a}\n",
       "\\PY{+w}{  }\\PY{n+nt}{spikepk}\\PY{p}{:}\n",
       "\\PY{+w}{    }\\PY{n+nt}{url}\\PY{p}{:}\\PY{+w}{ }\\PY{l+s}{\\PYZdq{}}\\PY{l+s}{https://github.com/riscv\\PYZhy{}software\\PYZhy{}src/riscv\\PYZhy{}pk.git}\\PY{l+s}{\\PYZdq{}}\n",
       "\\PY{+w}{    }\\PY{n+nt}{ref}\\PY{p}{:}\\PY{+w}{ }\\PY{l+lScalar+lScalarPlain}{7e9b671c0415dfd7b562ac934feb9380075d4aa2}\n",
       "\\PY{+w}{  }\\PY{n+nt}{mlif}\\PY{p}{:}\n",
       "\\PY{+w}{    }\\PY{n+nt}{url}\\PY{p}{:}\\PY{+w}{ }\\PY{l+s}{\\PYZdq{}}\\PY{l+s}{https://github.com/tum\\PYZhy{}ei\\PYZhy{}eda/mlonmcu\\PYZhy{}sw.git}\\PY{l+s}{\\PYZdq{}}\n",
       "\\PY{+w}{    }\\PY{n+nt}{ref}\\PY{p}{:}\\PY{+w}{ }\\PY{l+lScalar+lScalarPlain}{c7b0e7364c232666ebd5a17476181e3ff9a71d70}\n",
       "\\PY{n+nt}{frameworks}\\PY{p}{:}\n",
       "\\PY{+w}{  }\\PY{n+nt}{default}\\PY{p}{:}\\PY{+w}{ }\\PY{l+lScalar+lScalarPlain}{tvm}\n",
       "\\PY{+w}{  }\\PY{n+nt}{tvm}\\PY{p}{:}\n",
       "\\PY{+w}{    }\\PY{n+nt}{enabled}\\PY{p}{:}\\PY{+w}{ }\\PY{l+lScalar+lScalarPlain}{true}\n",
       "\\PY{+w}{    }\\PY{n+nt}{backends}\\PY{p}{:}\n",
       "\\PY{+w}{      }\\PY{n+nt}{default}\\PY{p}{:}\\PY{+w}{ }\\PY{l+lScalar+lScalarPlain}{tvmaot}\n",
       "\\PY{+w}{      }\\PY{n+nt}{tvmaot}\\PY{p}{:}\n",
       "\\PY{+w}{        }\\PY{n+nt}{enabled}\\PY{p}{:}\\PY{+w}{ }\\PY{l+lScalar+lScalarPlain}{true}\n",
       "\\PY{+w}{        }\\PY{n+nt}{features}\\PY{p}{:}\\PY{+w}{ }\\PY{p+pIndicator}{\\PYZob{}}\\PY{p+pIndicator}{\\PYZcb{}}\n",
       "\\PY{+w}{    }\\PY{n+nt}{features}\\PY{p}{:}\\PY{+w}{ }\\PY{p+pIndicator}{\\PYZob{}}\\PY{p+pIndicator}{\\PYZcb{}}\n",
       "\\PY{n+nt}{frontends}\\PY{p}{:}\n",
       "\\PY{+w}{  }\\PY{n+nt}{tflite}\\PY{p}{:}\n",
       "\\PY{+w}{    }\\PY{n+nt}{enabled}\\PY{p}{:}\\PY{+w}{ }\\PY{l+lScalar+lScalarPlain}{true}\n",
       "\\PY{+w}{    }\\PY{n+nt}{features}\\PY{p}{:}\\PY{+w}{ }\\PY{p+pIndicator}{[}\\PY{p+pIndicator}{]}\n",
       "\\PY{n+nt}{toolchains}\\PY{p}{:}\n",
       "\\PY{+w}{  }\\PY{n+nt}{gcc}\\PY{p}{:}\\PY{+w}{ }\\PY{l+lScalar+lScalarPlain}{true}\n",
       "\\PY{n+nt}{platforms}\\PY{p}{:}\n",
       "\\PY{+w}{  }\\PY{n+nt}{mlif}\\PY{p}{:}\n",
       "\\PY{+w}{    }\\PY{n+nt}{enabled}\\PY{p}{:}\\PY{+w}{ }\\PY{l+lScalar+lScalarPlain}{true}\n",
       "\\PY{+w}{    }\\PY{n+nt}{features}\\PY{p}{:}\n",
       "\\PY{+w}{      }\\PY{n+nt}{debug}\\PY{p}{:}\\PY{+w}{ }\\PY{l+lScalar+lScalarPlain}{true}\n",
       "\\PY{n+nt}{targets}\\PY{p}{:}\n",
       "\\PY{+w}{  }\\PY{n+nt}{default}\\PY{p}{:}\\PY{+w}{ }\\PY{l+lScalar+lScalarPlain}{host\\PYZus{}x86}\n",
       "\\PY{+w}{  }\\PY{n+nt}{etiss}\\PY{p}{:}\n",
       "\\PY{+w}{    }\\PY{n+nt}{enabled}\\PY{p}{:}\\PY{+w}{ }\\PY{l+lScalar+lScalarPlain}{true}\n",
       "\\PY{+w}{    }\\PY{n+nt}{features}\\PY{p}{:}\\PY{+w}{ }\\PY{p+pIndicator}{\\PYZob{}}\\PY{p+pIndicator}{\\PYZcb{}}\n",
       "\\PY{+w}{  }\\PY{n+nt}{spike}\\PY{p}{:}\n",
       "\\PY{+w}{    }\\PY{n+nt}{enabled}\\PY{p}{:}\\PY{+w}{ }\\PY{l+lScalar+lScalarPlain}{true}\n",
       "\\PY{+w}{    }\\PY{n+nt}{features}\\PY{p}{:}\\PY{+w}{ }\\PY{p+pIndicator}{\\PYZob{}}\\PY{p+pIndicator}{\\PYZcb{}}\n",
       "\\PY{+w}{  }\\PY{n+nt}{host\\PYZus{}x86}\\PY{p}{:}\n",
       "\\PY{+w}{    }\\PY{n+nt}{enabled}\\PY{p}{:}\\PY{+w}{ }\\PY{l+lScalar+lScalarPlain}{true}\n",
       "\\PY{+w}{    }\\PY{n+nt}{features}\\PY{p}{:}\\PY{+w}{ }\\PY{p+pIndicator}{[}\\PY{p+pIndicator}{]}\n",
       "\\PY{n+nt}{postprocesses}\\PY{p}{:}\n",
       "\\PY{+w}{  }\\PY{n+nt}{use}\\PY{p}{:}\\PY{+w}{ }\\PY{p+pIndicator}{[}\\PY{p+pIndicator}{]}\n",
       "\\PY{n+nt}{vars}\\PY{p}{:}\n",
       "\\PY{+w}{  }\\PY{n+nt}{allow\\PYZus{}extensions}\\PY{p}{:}\\PY{+w}{ }\\PY{l+lScalar+lScalarPlain}{false}\n",
       "\\PY{+w}{  }\\PY{n+nt}{runs\\PYZus{}per\\PYZus{}stage}\\PY{p}{:}\\PY{+w}{ }\\PY{l+lScalar+lScalarPlain}{true}\n",
       "\\PY{+w}{  }\\PY{n+nt}{riscv\\PYZus{}gcc.dl\\PYZus{}url}\\PY{p}{:}\\PY{+w}{ }\\PY{l+s}{\\PYZdq{}}\\PY{l+s}{https://syncandshare.lrz.de/dl/fiD9HnHYkb2V8kNbVQYv242m/rv32gc.tar.gz}\\PY{l+s}{\\PYZdq{}}\n",
       "\\PY{n+nt}{flags}\\PY{p}{:}\\PY{+w}{ }\\PY{p+pIndicator}{\\PYZob{}}\\PY{p+pIndicator}{\\PYZcb{}}\n",
       "\\end{Verbatim}\n"
      ],
      "text/plain": [
       "---\n",
       "# The MLONMCU_HOME is filled in automatically when creating the environment\n",
       "home: \"{{ home_dir }}\"\n",
       "logging:\n",
       "  level: INFO\n",
       "  to_file: false\n",
       "  rotate: false\n",
       "cleanup:\n",
       "  auto: true\n",
       "  keep: 5\n",
       "# Default locations for certain directoriescan be changed here\n",
       "# Non-absolute paths will always be threated relative to the MLONMCU_HOME\n",
       "paths:\n",
       "  # Where the dependencies are downloaded and installed\n",
       "  deps: deps\n",
       "  # If logging to file is used keep logs in this directory\n",
       "  logs: logs\n",
       "  # Location where reports and artifacts are written to\n",
       "  results: results\n",
       "  # Directory where custom extensions can be integrated\n",
       "  plugins: plugins\n",
       "  # Directory for intermediate build products, should be located on a large enough drive\n",
       "  temp: temp\n",
       "  # A collection of models which will be used to look for models\n",
       "  # The paths will be checked in the order defined here stopping at the first match\n",
       "  # Non-existant paths will be skipped without throwing an error\n",
       "  models:\n",
       "    - \"{{ home_dir }}/models\"\n",
       "# Here default clone_urls\n",
       "repos:\n",
       "  tvm:\n",
       "    url: \"https://github.com/apache/tvm.git\"\n",
       "    ref: a9fcac1a47f4b57c1d9d828c7ed1d77452b02cc5\n",
       "    options:\n",
       "      recursive: true\n",
       "  etiss:\n",
       "    url: \"https://github.com/tum-ei-eda/etiss.git\"\n",
       "    ref: 40c0b920cf4072adf189211ca44291534355dcfd\n",
       "  spike:\n",
       "    url: \"https://github.com/riscv-software-src/riscv-isa-sim.git\"\n",
       "    ref: 0bc176b3fca43560b9e8586cdbc41cfde073e17a\n",
       "  spikepk:\n",
       "    url: \"https://github.com/riscv-software-src/riscv-pk.git\"\n",
       "    ref: 7e9b671c0415dfd7b562ac934feb9380075d4aa2\n",
       "  mlif:\n",
       "    url: \"https://github.com/tum-ei-eda/mlonmcu-sw.git\"\n",
       "    ref: c7b0e7364c232666ebd5a17476181e3ff9a71d70\n",
       "frameworks:\n",
       "  default: tvm\n",
       "  tvm:\n",
       "    enabled: true\n",
       "    backends:\n",
       "      default: tvmaot\n",
       "      tvmaot:\n",
       "        enabled: true\n",
       "        features: {}\n",
       "    features: {}\n",
       "frontends:\n",
       "  tflite:\n",
       "    enabled: true\n",
       "    features: []\n",
       "toolchains:\n",
       "  gcc: true\n",
       "platforms:\n",
       "  mlif:\n",
       "    enabled: true\n",
       "    features:\n",
       "      debug: true\n",
       "targets:\n",
       "  default: host_x86\n",
       "  etiss:\n",
       "    enabled: true\n",
       "    features: {}\n",
       "  spike:\n",
       "    enabled: true\n",
       "    features: {}\n",
       "  host_x86:\n",
       "    enabled: true\n",
       "    features: []\n",
       "postprocesses:\n",
       "  use: []\n",
       "vars:\n",
       "  allow_extensions: false\n",
       "  runs_per_stage: true\n",
       "  riscv_gcc.dl_url: \"https://syncandshare.lrz.de/dl/fiD9HnHYkb2V8kNbVQYv242m/rv32gc.tar.gz\"\n",
       "flags: {}"
      ]
     },
     "execution_count": 3,
     "metadata": {},
     "output_type": "execute_result"
    }
   ],
   "source": [
    "Code(filename=\"environment.yml.j2\")"
   ]
  },
  {
   "cell_type": "markdown",
   "id": "4d140308",
   "metadata": {
    "papermill": {
     "duration": 0.004096,
     "end_time": "2023-12-31T10:58:58.579599",
     "exception": false,
     "start_time": "2023-12-31T10:58:58.575503",
     "status": "completed"
    },
    "tags": []
   },
   "source": [
    "Do not forget to set your `MLONMCU_HOME` environment variable first if not using the default location!"
   ]
  },
  {
   "cell_type": "markdown",
   "id": "a3bac781",
   "metadata": {
    "papermill": {
     "duration": 0.003904,
     "end_time": "2023-12-31T10:58:58.587438",
     "exception": false,
     "start_time": "2023-12-31T10:58:58.583534",
     "status": "completed"
    },
    "tags": []
   },
   "source": [
    "## Usage"
   ]
  },
  {
   "cell_type": "markdown",
   "id": "1352b362",
   "metadata": {
    "papermill": {
     "duration": 0.004104,
     "end_time": "2023-12-31T10:58:58.595517",
     "exception": false,
     "start_time": "2023-12-31T10:58:58.591413",
     "status": "completed"
    },
    "tags": []
   },
   "source": [
    "If supported by the defined target, the measured MIPS (of the Simulation) is part of the report printed/returned my MLonMCU. The following shows you how to get rid of unwanted further information and how to increase the accuracy of the MIPS value."
   ]
  },
  {
   "cell_type": "markdown",
   "id": "f01b54e2",
   "metadata": {
    "papermill": {
     "duration": 0.003906,
     "end_time": "2023-12-31T10:58:58.603369",
     "exception": false,
     "start_time": "2023-12-31T10:58:58.599463",
     "status": "completed"
    },
    "tags": []
   },
   "source": [
    "### A) Command Line Interface"
   ]
  },
  {
   "cell_type": "markdown",
   "id": "2b333851",
   "metadata": {
    "papermill": {
     "duration": 0.003941,
     "end_time": "2023-12-31T10:58:58.611285",
     "exception": false,
     "start_time": "2023-12-31T10:58:58.607344",
     "status": "completed"
    },
    "tags": []
   },
   "source": [
    "Let's start with an example benchmark of two models using 2 different RISC-V simulators:"
   ]
  },
  {
   "cell_type": "code",
   "execution_count": 4,
   "id": "43576c35",
   "metadata": {
    "execution": {
     "iopub.execute_input": "2023-12-31T10:58:58.620460Z",
     "iopub.status.busy": "2023-12-31T10:58:58.620032Z",
     "iopub.status.idle": "2023-12-31T10:59:31.341238Z",
     "shell.execute_reply": "2023-12-31T10:59:31.340429Z"
    },
    "papermill": {
     "duration": 32.727849,
     "end_time": "2023-12-31T10:59:31.343156",
     "exception": false,
     "start_time": "2023-12-31T10:58:58.615307",
     "status": "completed"
    },
    "tags": []
   },
   "outputs": [
    {
     "name": "stdout",
     "output_type": "stream",
     "text": [
      "INFO - Loading environment cache from file\r\n",
      "INFO - Successfully initialized cache\r\n"
     ]
    },
    {
     "name": "stdout",
     "output_type": "stream",
     "text": [
      "INFO -  Processing stage LOAD\r\n"
     ]
    },
    {
     "name": "stdout",
     "output_type": "stream",
     "text": [
      "INFO -  Processing stage BUILD\r\n"
     ]
    },
    {
     "name": "stdout",
     "output_type": "stream",
     "text": [
      "INFO -  Processing stage COMPILE\r\n"
     ]
    },
    {
     "name": "stdout",
     "output_type": "stream",
     "text": [
      "INFO -  Processing stage RUN\r\n"
     ]
    },
    {
     "name": "stdout",
     "output_type": "stream",
     "text": [
      "INFO - All runs completed successfuly!\r\n",
      "INFO - Postprocessing session report\r\n",
      "INFO - Done processing runs\r\n"
     ]
    },
    {
     "name": "stdout",
     "output_type": "stream",
     "text": [
      "INFO - Report:\r\n",
      "   Session  Run   Model Frontend Framework Backend Platform         Target  Setup Cycles  Setup Instructions  Run Cycles  Run Instructions  Total Cycles  Total Instructions  Setup CPI  Run CPI  Total CPI  Simulated Instructions        MIPS  Total ROM  Total RAM  ROM read-only  ROM code  ROM misc  RAM data  RAM zero-init data  Validation  Run Stage Time [s]  Compile Stage Time [s]  Workspace Size [B]  Build Stage Time [s]  Load Stage Time [s] Features                                             Config Postprocesses Comment\r\n",
      "0        0    0  resnet   tflite       tvm  tvmaot     mlif  etiss_pulpino            64                  64    81653242          81653242      81653506            81653506        1.0      1.0        1.0                81760000   68.163300     228266     124824         162192     65930       144      2484              122340        True            1.352831                1.636709              119120              7.254674             0.000229       []  {'resnet.output_shapes': {'Identity_int8': [1,...            []       -\r\n",
      "1        0    1  resnet   tflite       tvm  tvmaot     mlif          spike            61                  61    81863528          81863528      81863780            81863780        1.0      1.0        1.0                82128955  217.851251     225448     125004         162040     63392        16      2632              122372        True            0.377688                1.402205              119120              6.279272             0.000122       []  {'resnet.output_shapes': {'Identity_int8': [1,...            []       -\r\n",
      "2        0    2  toycar   tflite       tvm  tvmaot     mlif  etiss_pulpino            63                  63      957196            957196        957458              957458        1.0      1.0        1.0                  974239    2.621700     601034       5876         538336     62554       144      2484                3392        True            0.520818                1.840820                1968              4.253542             0.000206       []  {'toycar.output_shapes': {'Identity': [1, 640]...            []       -\r\n",
      "3        0    3  toycar   tflite       tvm  tvmaot     mlif          spike            59                  59     1639873           1639873       1640122             1640122        1.0      1.0        1.0                 1762314   60.282183     598400       5948         538280     60104        16      2528                3420        True            0.029734                1.600687                1968              4.259957             0.000217       []  {'toycar.output_shapes': {'Identity': [1, 640]...            []       -\r\n"
     ]
    }
   ],
   "source": [
    "!mlonmcu flow run resnet toycar --backend tvmaot --target etiss_pulpino --target spike -c run.export_optional=1"
   ]
  },
  {
   "cell_type": "markdown",
   "id": "5ccc2ec8",
   "metadata": {
    "papermill": {
     "duration": 0.004322,
     "end_time": "2023-12-31T10:59:31.352230",
     "exception": false,
     "start_time": "2023-12-31T10:59:31.347908",
     "status": "completed"
    },
    "tags": []
   },
   "source": [
    "The MIPS value can be found in the column next to the Cycles (which are in this case actually counting instructions). However there is a lot of further information we want to filter out next. This can be achieved using the `filter_cols` subprocess."
   ]
  },
  {
   "cell_type": "code",
   "execution_count": 5,
   "id": "a3f5f5de",
   "metadata": {
    "execution": {
     "iopub.execute_input": "2023-12-31T10:59:31.362193Z",
     "iopub.status.busy": "2023-12-31T10:59:31.361800Z",
     "iopub.status.idle": "2023-12-31T11:00:03.248626Z",
     "shell.execute_reply": "2023-12-31T11:00:03.247950Z"
    },
    "papermill": {
     "duration": 31.893879,
     "end_time": "2023-12-31T11:00:03.250394",
     "exception": false,
     "start_time": "2023-12-31T10:59:31.356515",
     "status": "completed"
    },
    "tags": []
   },
   "outputs": [
    {
     "name": "stdout",
     "output_type": "stream",
     "text": [
      "INFO - Loading environment cache from file\r\n",
      "INFO - Successfully initialized cache\r\n"
     ]
    },
    {
     "name": "stdout",
     "output_type": "stream",
     "text": [
      "INFO - [session-1]  Processing stage LOAD\r\n"
     ]
    },
    {
     "name": "stdout",
     "output_type": "stream",
     "text": [
      "INFO - [session-1]  Processing stage BUILD\r\n"
     ]
    },
    {
     "name": "stdout",
     "output_type": "stream",
     "text": [
      "INFO - [session-1]  Processing stage COMPILE\r\n"
     ]
    },
    {
     "name": "stdout",
     "output_type": "stream",
     "text": [
      "INFO - [session-1]  Processing stage RUN\r\n"
     ]
    },
    {
     "name": "stdout",
     "output_type": "stream",
     "text": [
      "INFO - [session-1]  Processing stage POSTPROCESS\r\n"
     ]
    },
    {
     "name": "stdout",
     "output_type": "stream",
     "text": [
      "INFO - All runs completed successfuly!\r\n",
      "INFO - Postprocessing session report\r\n",
      "INFO - [session-1] Done processing runs\r\n",
      "INFO - Report:\r\n",
      "    Model         Target        MIPS\r\n",
      "0  resnet  etiss_pulpino   68.471200\r\n",
      "1  resnet          spike  222.242024\r\n",
      "2  toycar  etiss_pulpino    2.644330\r\n",
      "3  toycar          spike   59.961392\r\n"
     ]
    }
   ],
   "source": [
    "!mlonmcu flow run resnet toycar --backend tvmaot --target etiss_pulpino --target spike --postprocess filter_cols --config filter_cols.keep=\"Model,Target,MIPS\" -c run.export_optional=1"
   ]
  },
  {
   "cell_type": "markdown",
   "id": "069ffe6a",
   "metadata": {
    "papermill": {
     "duration": 0.0046,
     "end_time": "2023-12-31T11:00:03.260132",
     "exception": false,
     "start_time": "2023-12-31T11:00:03.255532",
     "status": "completed"
    },
    "tags": []
   },
   "source": [
    "That looks much more clean! However the numbers seem quite low, especially for the smaller `toycar` (MLPerfTiny Anomaly Detection) model. Let's see if the MIPS will increase when running more than a single inference. We are using the `benchmark` feature for this.\n",
    "\n",
    "*Hint*: Since we are now running our benchmarks 60 times more often, the following cell will likely need a few minutes to execute."
   ]
  },
  {
   "cell_type": "code",
   "execution_count": 6,
   "id": "71bc2220",
   "metadata": {
    "execution": {
     "iopub.execute_input": "2023-12-31T11:00:03.270751Z",
     "iopub.status.busy": "2023-12-31T11:00:03.270289Z",
     "iopub.status.idle": "2023-12-31T11:03:57.652514Z",
     "shell.execute_reply": "2023-12-31T11:03:57.651679Z"
    },
    "papermill": {
     "duration": 234.389563,
     "end_time": "2023-12-31T11:03:57.654308",
     "exception": false,
     "start_time": "2023-12-31T11:00:03.264745",
     "status": "completed"
    },
    "tags": []
   },
   "outputs": [
    {
     "name": "stdout",
     "output_type": "stream",
     "text": [
      "INFO - Loading environment cache from file\r\n",
      "INFO - Successfully initialized cache\r\n"
     ]
    },
    {
     "name": "stdout",
     "output_type": "stream",
     "text": [
      "INFO - [session-2]  Processing stage LOAD\r\n"
     ]
    },
    {
     "name": "stdout",
     "output_type": "stream",
     "text": [
      "INFO - [session-2]  Processing stage BUILD\r\n"
     ]
    },
    {
     "name": "stdout",
     "output_type": "stream",
     "text": [
      "INFO - [session-2]  Processing stage COMPILE\r\n"
     ]
    },
    {
     "name": "stdout",
     "output_type": "stream",
     "text": [
      "INFO - [session-2]  Processing stage RUN\r\n"
     ]
    },
    {
     "name": "stdout",
     "output_type": "stream",
     "text": [
      "INFO - [session-2]  Processing stage POSTPROCESS\r\n"
     ]
    },
    {
     "name": "stdout",
     "output_type": "stream",
     "text": [
      "INFO - All runs completed successfuly!\r\n",
      "INFO - Postprocessing session report\r\n"
     ]
    },
    {
     "name": "stdout",
     "output_type": "stream",
     "text": [
      "INFO - [session-2] Done processing runs\r\n",
      "INFO - Report:\r\n",
      "     Model         Target        MIPS config_benchmark.num_runs\r\n",
      "0   resnet  etiss_pulpino   68.036500                         1\r\n",
      "1   resnet          spike  223.966865                         1\r\n",
      "2   resnet  etiss_pulpino   99.258600                        10\r\n",
      "3   resnet          spike  232.817709                        10\r\n",
      "4   resnet  etiss_pulpino  102.322000                        50\r\n",
      "5   resnet          spike  236.055999                        50\r\n",
      "6   toycar  etiss_pulpino    2.648910                         1\r\n",
      "7   toycar          spike   60.328431                         1\r\n",
      "8   toycar  etiss_pulpino   21.536200                        10\r\n",
      "9   toycar          spike  160.189544                        10\r\n",
      "10  toycar  etiss_pulpino   62.784500                        50\r\n",
      "11  toycar          spike  233.067141                        50\r\n"
     ]
    }
   ],
   "source": [
    "!mlonmcu flow run resnet toycar --backend tvmaot --target etiss_pulpino --target spike --postprocess config2cols --postprocess filter_cols --config filter_cols.keep=\"Model,Target,MIPS,config_benchmark.num_runs\" --feature benchmark --config-gen benchmark.num_runs=1 --config-gen benchmark.num_runs=10 --config-gen benchmark.num_runs=50 -c run.export_optional=1"
   ]
  },
  {
   "cell_type": "markdown",
   "id": "c9776cd6",
   "metadata": {
    "papermill": {
     "duration": 0.005067,
     "end_time": "2023-12-31T11:03:57.664962",
     "exception": false,
     "start_time": "2023-12-31T11:03:57.659895",
     "status": "completed"
    },
    "tags": []
   },
   "source": [
    "This look more promising. This experiment shows MIPS measurements might not be accurate for short-running simulations. Also spike seems to be more than twice as fast compared to ETISS."
   ]
  },
  {
   "cell_type": "markdown",
   "id": "4238333c",
   "metadata": {
    "papermill": {
     "duration": 0.005071,
     "end_time": "2023-12-31T11:03:57.675116",
     "exception": false,
     "start_time": "2023-12-31T11:03:57.670045",
     "status": "completed"
    },
    "tags": []
   },
   "source": [
    "### B) Python Scripting"
   ]
  },
  {
   "cell_type": "markdown",
   "id": "b500fc47",
   "metadata": {
    "papermill": {
     "duration": 0.005029,
     "end_time": "2023-12-31T11:03:57.685204",
     "exception": false,
     "start_time": "2023-12-31T11:03:57.680175",
     "status": "completed"
    },
    "tags": []
   },
   "source": [
    "Some imports"
   ]
  },
  {
   "cell_type": "code",
   "execution_count": 7,
   "id": "78c53970",
   "metadata": {
    "execution": {
     "iopub.execute_input": "2023-12-31T11:03:57.696503Z",
     "iopub.status.busy": "2023-12-31T11:03:57.696282Z",
     "iopub.status.idle": "2023-12-31T11:03:58.096557Z",
     "shell.execute_reply": "2023-12-31T11:03:58.095883Z"
    },
    "papermill": {
     "duration": 0.408076,
     "end_time": "2023-12-31T11:03:58.098336",
     "exception": false,
     "start_time": "2023-12-31T11:03:57.690260",
     "status": "completed"
    },
    "tags": []
   },
   "outputs": [],
   "source": [
    "from tempfile import TemporaryDirectory\n",
    "from pathlib import Path\n",
    "import pandas as pd\n",
    "\n",
    "from mlonmcu.context.context import MlonMcuContext\n",
    "from mlonmcu.session.run import RunStage"
   ]
  },
  {
   "cell_type": "markdown",
   "id": "86046913",
   "metadata": {
    "papermill": {
     "duration": 0.005318,
     "end_time": "2023-12-31T11:03:58.109332",
     "exception": false,
     "start_time": "2023-12-31T11:03:58.104014",
     "status": "completed"
    },
    "tags": []
   },
   "source": [
    "Benchmark Configuration"
   ]
  },
  {
   "cell_type": "code",
   "execution_count": 8,
   "id": "2f6c5e5a",
   "metadata": {
    "execution": {
     "iopub.execute_input": "2023-12-31T11:03:58.121019Z",
     "iopub.status.busy": "2023-12-31T11:03:58.120498Z",
     "iopub.status.idle": "2023-12-31T11:03:58.124998Z",
     "shell.execute_reply": "2023-12-31T11:03:58.124409Z"
    },
    "papermill": {
     "duration": 0.011854,
     "end_time": "2023-12-31T11:03:58.126359",
     "exception": false,
     "start_time": "2023-12-31T11:03:58.114505",
     "status": "completed"
    },
    "tags": []
   },
   "outputs": [],
   "source": [
    "FRONTEND = \"tflite\"\n",
    "MODELS = [\"resnet\", \"toycar\"]\n",
    "BACKEND = \"tvmaot\"\n",
    "PLATFORM = \"mlif\"\n",
    "TARGETS = [\"etiss_pulpino\", \"spike\"]\n",
    "POSTPROCESSES = [\"config2cols\", \"filter_cols\"]\n",
    "FEATURES = [\"benchmark\"]\n",
    "CONFIG = {\n",
    "    \"filter_cols.keep\": [\"Model\", \"Target\", \"MIPS\", \"config_benchmark.num_runs\"], \"run.export_optional\": True\n",
    "}"
   ]
  },
  {
   "cell_type": "markdown",
   "id": "966cc3fe",
   "metadata": {
    "papermill": {
     "duration": 0.005084,
     "end_time": "2023-12-31T11:03:58.136638",
     "exception": false,
     "start_time": "2023-12-31T11:03:58.131554",
     "status": "completed"
    },
    "tags": []
   },
   "source": [
    "Initialize and run a single benchmark"
   ]
  },
  {
   "cell_type": "code",
   "execution_count": 9,
   "id": "ebe63369",
   "metadata": {
    "execution": {
     "iopub.execute_input": "2023-12-31T11:03:58.148277Z",
     "iopub.status.busy": "2023-12-31T11:03:58.147876Z",
     "iopub.status.idle": "2023-12-31T11:05:23.914326Z",
     "shell.execute_reply": "2023-12-31T11:05:23.913654Z"
    },
    "papermill": {
     "duration": 85.773867,
     "end_time": "2023-12-31T11:05:23.915735",
     "exception": false,
     "start_time": "2023-12-31T11:03:58.141868",
     "status": "completed"
    },
    "tags": []
   },
   "outputs": [
    {
     "name": "stdout",
     "output_type": "stream",
     "text": [
      "INFO - Loading environment cache from file\n"
     ]
    },
    {
     "name": "stdout",
     "output_type": "stream",
     "text": [
      "INFO - Successfully initialized cache\n"
     ]
    },
    {
     "name": "stdout",
     "output_type": "stream",
     "text": [
      "INFO - [session-3] Processing all stages\n"
     ]
    },
    {
     "name": "stdout",
     "output_type": "stream",
     "text": [
      "INFO - All runs completed successfuly!\n"
     ]
    },
    {
     "name": "stdout",
     "output_type": "stream",
     "text": [
      "INFO - Postprocessing session report\n"
     ]
    },
    {
     "name": "stdout",
     "output_type": "stream",
     "text": [
      "INFO - [session-3] Done processing runs\n"
     ]
    },
    {
     "data": {
      "text/html": [
       "<div>\n",
       "<style scoped>\n",
       "    .dataframe tbody tr th:only-of-type {\n",
       "        vertical-align: middle;\n",
       "    }\n",
       "\n",
       "    .dataframe tbody tr th {\n",
       "        vertical-align: top;\n",
       "    }\n",
       "\n",
       "    .dataframe thead th {\n",
       "        text-align: right;\n",
       "    }\n",
       "</style>\n",
       "<table border=\"1\" class=\"dataframe\">\n",
       "  <thead>\n",
       "    <tr style=\"text-align: right;\">\n",
       "      <th></th>\n",
       "      <th>Model</th>\n",
       "      <th>Target</th>\n",
       "      <th>MIPS</th>\n",
       "      <th>config_benchmark.num_runs</th>\n",
       "    </tr>\n",
       "  </thead>\n",
       "  <tbody>\n",
       "    <tr>\n",
       "      <th>0</th>\n",
       "      <td>resnet</td>\n",
       "      <td>etiss_pulpino</td>\n",
       "      <td>68.465400</td>\n",
       "      <td>1</td>\n",
       "    </tr>\n",
       "    <tr>\n",
       "      <th>1</th>\n",
       "      <td>resnet</td>\n",
       "      <td>etiss_pulpino</td>\n",
       "      <td>99.361000</td>\n",
       "      <td>10</td>\n",
       "    </tr>\n",
       "    <tr>\n",
       "      <th>2</th>\n",
       "      <td>resnet</td>\n",
       "      <td>spike</td>\n",
       "      <td>219.865623</td>\n",
       "      <td>1</td>\n",
       "    </tr>\n",
       "    <tr>\n",
       "      <th>3</th>\n",
       "      <td>resnet</td>\n",
       "      <td>spike</td>\n",
       "      <td>235.690099</td>\n",
       "      <td>10</td>\n",
       "    </tr>\n",
       "    <tr>\n",
       "      <th>4</th>\n",
       "      <td>toycar</td>\n",
       "      <td>etiss_pulpino</td>\n",
       "      <td>2.651470</td>\n",
       "      <td>1</td>\n",
       "    </tr>\n",
       "    <tr>\n",
       "      <th>5</th>\n",
       "      <td>toycar</td>\n",
       "      <td>etiss_pulpino</td>\n",
       "      <td>21.600200</td>\n",
       "      <td>10</td>\n",
       "    </tr>\n",
       "    <tr>\n",
       "      <th>6</th>\n",
       "      <td>toycar</td>\n",
       "      <td>spike</td>\n",
       "      <td>58.500239</td>\n",
       "      <td>1</td>\n",
       "    </tr>\n",
       "    <tr>\n",
       "      <th>7</th>\n",
       "      <td>toycar</td>\n",
       "      <td>spike</td>\n",
       "      <td>162.654800</td>\n",
       "      <td>10</td>\n",
       "    </tr>\n",
       "  </tbody>\n",
       "</table>\n",
       "</div>"
      ],
      "text/plain": [
       "    Model         Target        MIPS  config_benchmark.num_runs\n",
       "0  resnet  etiss_pulpino   68.465400                          1\n",
       "1  resnet  etiss_pulpino   99.361000                         10\n",
       "2  resnet          spike  219.865623                          1\n",
       "3  resnet          spike  235.690099                         10\n",
       "4  toycar  etiss_pulpino    2.651470                          1\n",
       "5  toycar  etiss_pulpino   21.600200                         10\n",
       "6  toycar          spike   58.500239                          1\n",
       "7  toycar          spike  162.654800                         10"
      ]
     },
     "execution_count": 9,
     "metadata": {},
     "output_type": "execute_result"
    }
   ],
   "source": [
    "with MlonMcuContext() as context:\n",
    "    with context.create_session() as session:\n",
    "        for model in MODELS:\n",
    "            for target in TARGETS:\n",
    "                def helper(session, num=0):\n",
    "                    cfg = CONFIG.copy()\n",
    "                    cfg[\"benchmark.num_runs\"] = num\n",
    "                    run = session.create_run(config=cfg)\n",
    "                    run.add_frontend_by_name(FRONTEND, context=context)\n",
    "                    run.add_features_by_name(FEATURES, context=context)\n",
    "                    run.add_model_by_name(model, context=context)\n",
    "                    run.add_backend_by_name(BACKEND, context=context)\n",
    "                    run.add_platform_by_name(PLATFORM, context=context)\n",
    "                    run.add_target_by_name(target, context=context)\n",
    "                    run.add_postprocesses_by_name(POSTPROCESSES)\n",
    "                for num in [1, 10]:  # Removed 50 to cut down runtime\n",
    "                    helper(session, num)\n",
    "        session.process_runs(context=context)\n",
    "        report = session.get_reports()\n",
    "assert not session.failing\n",
    "report.df"
   ]
  }
 ],
 "metadata": {
  "kernelspec": {
   "display_name": "Python 3 (ipykernel)",
   "language": "python",
   "name": "python3"
  },
  "language_info": {
   "codemirror_mode": {
    "name": "ipython",
    "version": 3
   },
   "file_extension": ".py",
   "mimetype": "text/x-python",
   "name": "python",
   "nbconvert_exporter": "python",
   "pygments_lexer": "ipython3",
   "version": "3.8.18"
  },
  "papermill": {
   "default_parameters": {},
   "duration": 386.907516,
   "end_time": "2023-12-31T11:05:24.138760",
   "environment_variables": {},
   "exception": null,
   "input_path": "/home/runner/work/mlonmcu/mlonmcu/ipynb/Examples/CompareMIPS/CompareMIPS.ipynb",
   "output_path": "/home/runner/work/mlonmcu/mlonmcu/ipynb/Examples/CompareMIPS/CompareMIPS.ipynb",
   "parameters": {},
   "start_time": "2023-12-31T10:58:57.231244",
   "version": "2.5.0"
  }
 },
 "nbformat": 4,
 "nbformat_minor": 5
}

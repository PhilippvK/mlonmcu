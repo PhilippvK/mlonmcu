{
 "cells": [
  {
   "cell_type": "markdown",
   "id": "67a623c3",
   "metadata": {},
   "source": [
    "# Example: Compare MIPS of RISC-V Instruction Set Simulators"
   ]
  },
  {
   "cell_type": "markdown",
   "id": "1025ee11",
   "metadata": {},
   "source": [
    "Typically MLonMCU would be used to benchmark TinyML workloads on real wardware or simulators. However it's flexibility also allows some interesting experiments not directly related to Embedded ML. In the following it the performance of some RISC-V ISA Simulators is compared using the MLonMCU command line or Python API."
   ]
  },
  {
   "cell_type": "markdown",
   "id": "87fd1387",
   "metadata": {},
   "source": [
    "## Supported components"
   ]
  },
  {
   "cell_type": "markdown",
   "id": "584a911d",
   "metadata": {},
   "source": [
    "**Models:** Any (`sine_model` used below)\n",
    "\n",
    "**Frontends:** Any (`tflite` used below)\n",
    "\n",
    "**Frameworks/Backends:** Any (`tvmaotplus` used below)\n",
    "\n",
    "**Platforms/Targets:** `etiss_pulpino`, `spike`, `ovpsim` (`etiss_pulpino` and `spike` used below)"
   ]
  },
  {
   "cell_type": "markdown",
   "id": "74ce776e",
   "metadata": {},
   "source": [
    "## Prerequisites"
   ]
  },
  {
   "cell_type": "markdown",
   "id": "18955525",
   "metadata": {},
   "source": [
    "Set up MLonmCU as usual, i.e. initialize an environment and install all required dependencies. Feel free to use the following minimal `environment.yml.j2` template:"
   ]
  },
  {
   "cell_type": "markdown",
   "id": "51eb8539",
   "metadata": {},
   "source": [
    "```yaml\n",
    "---\n",
    "home: \"{{ home_dir }}\"\n",
    "logging:\n",
    "  level: DEBUG\n",
    "  to_file: false\n",
    "  rotate: false\n",
    "cleanup:\n",
    "  auto: true\n",
    "  keep: 10\n",
    "paths:\n",
    "  deps: deps\n",
    "  logs: logs\n",
    "  results: results\n",
    "  plugins: plugins\n",
    "  temp: temp\n",
    "  models:\n",
    "    - \"{{ home_dir }}/models\"\n",
    "    - \"{{ config_dir }}/models\"\n",
    "repos:\n",
    "  tvm:\n",
    "    url: \"https://github.com/apache/tvm.git\"\n",
    "    ref: de6d8067754d746d88262c530b5241b5577b9aae\n",
    "  etiss:\n",
    "    url: \"https://github.com/tum-ei-eda/etiss.git\"\n",
    "    ref: 4d2d26fb1fdb17e1da3a397c35d6f8877bf3ceab\n",
    "  spike:\n",
    "    url: \"https://github.com/riscv-software-src/riscv-isa-sim.git\"\n",
    "    ref: 0bc176b3fca43560b9e8586cdbc41cfde073e17a\n",
    "  spikepk:\n",
    "    url: \"https://github.com/riscv-software-src/riscv-pk.git\"\n",
    "    ref: 7e9b671c0415dfd7b562ac934feb9380075d4aa2\n",
    "  mlif:\n",
    "    url: \"https://github.com/tum-ei-eda/mlonmcu-sw.git\"\n",
    "    ref: 4b9a32659f7c5340e8de26a0b8c4135ca67d64ac\n",
    "frameworks:\n",
    "  default: tvm\n",
    "  tvm:\n",
    "    enabled: true\n",
    "    backends:\n",
    "      default: tvmaot\n",
    "      tvmaot:\n",
    "        enabled: true\n",
    "        features: []\n",
    "    features: []\n",
    "frontends:\n",
    "  tflite:\n",
    "    enabled: true\n",
    "    features: []\n",
    "toolchains:\n",
    "  gcc: true\n",
    "platforms:\n",
    "  mlif:\n",
    "    enabled: true\n",
    "    features: []\n",
    "targets:\n",
    "  default: spike\n",
    "  spike:\n",
    "    enabled: true\n",
    "    features: []\n",
    "  etiss_pulpino:\n",
    "    enabled: true\n",
    "    features: []\n",
    "```"
   ]
  },
  {
   "cell_type": "markdown",
   "id": "4d140308",
   "metadata": {},
   "source": [
    "Do not forget to set your `MLONMCU_HOME` environment variable first if not using the default location!"
   ]
  },
  {
   "cell_type": "markdown",
   "id": "a3bac781",
   "metadata": {},
   "source": [
    "## Usage"
   ]
  },
  {
   "cell_type": "markdown",
   "id": "1352b362",
   "metadata": {},
   "source": [
    "If supported by the defined target, the measured MIPS (of the Simulation) is part of the report printed/returned my MLonMCU. The following shows you how to get rid of unwanted further information and how to increase the accuracy of the MIPS value."
   ]
  },
  {
   "cell_type": "markdown",
   "id": "f01b54e2",
   "metadata": {},
   "source": [
    "### A) Command Line Interface"
   ]
  },
  {
   "cell_type": "markdown",
   "id": "2b333851",
   "metadata": {},
   "source": [
    "Let's start with an example benchmark of two models using 2 different RISC-V simulators:"
   ]
  },
  {
   "cell_type": "code",
   "execution_count": 5,
   "id": "43576c35",
   "metadata": {},
   "outputs": [
    {
     "name": "stdout",
     "output_type": "stream",
     "text": [
      "INFO - Loading environment cache from file\n",
      "INFO - Successfully initialized cache\n",
      "INFO - Loading extensions.py (User)\n",
      "INFO - [session-373]  Processing stage LOAD\n",
      "INFO - [session-373]  Processing stage BUILD\n",
      "INFO - [session-373]  Processing stage COMPILE\n",
      "INFO - [session-373]  Processing stage RUN\n",
      "INFO - All runs completed successfuly!\n",
      "INFO - Postprocessing session report\n",
      "INFO - [session-373] Done processing runs\n",
      "INFO - Report:\n",
      "   Session  Run   Model Frontend Framework Backend Platform         Target    Cycles        MIPS  Total ROM  Total RAM  ROM read-only  ROM code  ROM misc  RAM data  RAM zero-init data Features                                             Config Postprocesses Comment\n",
      "0      373    0  resnet   tflite       tvm  tvmaot     mlif  etiss_pulpino  82445446   68.000000     233324     124785         167488     65692       144      2485              122300       []  {'tflite.use_inout_data': False, 'tflite.visua...            []       -\n",
      "1      373    1  resnet   tflite       tvm  tvmaot     mlif          spike  82655720  245.565488     230504     124968         167328     63160        16      2640              122328       []  {'tflite.use_inout_data': False, 'tflite.visua...            []       -\n",
      "2      373    2  toycar   tflite       tvm  tvmaot     mlif  etiss_pulpino    957312    2.000000     600626       5837         538256     62226       144      2485                3352       []  {'tflite.use_inout_data': False, 'tflite.visua...            []       -\n",
      "3      373    3  toycar   tflite       tvm  tvmaot     mlif          spike   1634845   45.286677     597992       5908         538200     59776        16      2532                3376       []  {'tflite.use_inout_data': False, 'tflite.visua...            []       -\n"
     ]
    }
   ],
   "source": [
    "!mlonmcu flow run resnet toycar --backend tvmaot --target etiss_pulpino --target spike"
   ]
  },
  {
   "cell_type": "markdown",
   "id": "5ccc2ec8",
   "metadata": {},
   "source": [
    "The MIPS value can be found in the column next to the Cycles (which are in this case actually counting instructions). However there is a lot of further information we want to filter out next. This can be achieved using the `filter_cols` subprocess."
   ]
  },
  {
   "cell_type": "code",
   "execution_count": 6,
   "id": "a3f5f5de",
   "metadata": {},
   "outputs": [
    {
     "name": "stdout",
     "output_type": "stream",
     "text": [
      "INFO - Loading environment cache from file\n",
      "INFO - Successfully initialized cache\n",
      "INFO - Loading extensions.py (User)\n",
      "INFO - [session-374]  Processing stage LOAD\n",
      "INFO - [session-374]  Processing stage BUILD\n",
      "INFO - [session-374]  Processing stage COMPILE\n",
      "INFO - [session-374]  Processing stage RUN\n",
      "INFO - [session-374]  Processing stage POSTPROCESS\n",
      "INFO - All runs completed successfuly!\n",
      "INFO - Postprocessing session report\n",
      "INFO - [session-374] Done processing runs\n",
      "INFO - Report:\n",
      "    Model         Target        MIPS\n",
      "0  resnet  etiss_pulpino   68.000000\n",
      "1  resnet          spike  246.446167\n",
      "2  toycar  etiss_pulpino    2.000000\n",
      "3  toycar          spike   48.016112\n"
     ]
    }
   ],
   "source": [
    "!mlonmcu flow run resnet toycar --backend tvmaot --target etiss_pulpino --target spike --postprocess filter_cols --config filter_cols.keep=\"Model,Target,MIPS\""
   ]
  },
  {
   "cell_type": "markdown",
   "id": "069ffe6a",
   "metadata": {},
   "source": [
    "That looks much more clean! However the numbers seem quite low, especially for the smaller `toycar` (MLPerfTiny Anomaly Detection) model. Let's see if the MIPS will increase when running more than a single inference. We are using the `benchmark` feature for this.\n",
    "\n",
    "*Hint*: Since we are now running our benchmarks 60 times more often, the following cell will likely need a few minutes to execute."
   ]
  },
  {
   "cell_type": "code",
   "execution_count": 7,
   "id": "71bc2220",
   "metadata": {},
   "outputs": [
    {
     "name": "stdout",
     "output_type": "stream",
     "text": [
      "INFO - Loading environment cache from file\n",
      "INFO - Successfully initialized cache\n",
      "INFO - Loading extensions.py (User)\n",
      "INFO - [session-375]  Processing stage LOAD\n",
      "INFO - [session-375]  Processing stage BUILD\n",
      "INFO - [session-375]  Processing stage COMPILE\n",
      "INFO - [session-375]  Processing stage RUN\n",
      "INFO - [session-375]  Processing stage POSTPROCESS\n",
      "INFO - All runs completed successfuly!\n",
      "INFO - Postprocessing session report\n",
      "INFO - [session-375] Done processing runs\n",
      "INFO - Report:\n",
      "     Model         Target        MIPS config_benchmark.num_runs\n",
      "0   resnet  etiss_pulpino   68.000000                         1\n",
      "1   resnet          spike  209.017940                         1\n",
      "2   resnet  etiss_pulpino  127.000000                        10\n",
      "3   resnet          spike  318.765075                        10\n",
      "4   resnet  etiss_pulpino  136.000000                        50\n",
      "5   resnet          spike  312.104929                        50\n",
      "6   toycar  etiss_pulpino    2.000000                         1\n",
      "7   toycar          spike   51.969691                         1\n",
      "8   toycar  etiss_pulpino   18.000000                        10\n",
      "9   toycar          spike  179.699080                        10\n",
      "10  toycar  etiss_pulpino   60.000000                        50\n",
      "11  toycar          spike  283.717616                        50\n"
     ]
    }
   ],
   "source": [
    "!mlonmcu flow run resnet toycar --backend tvmaot --target etiss_pulpino --target spike --postprocess config2cols --postprocess filter_cols --config filter_cols.keep=\"Model,Target,MIPS,config_benchmark.num_runs\" --feature benchmark --config-gen benchmark.num_runs=1 --config-gen benchmark.num_runs=10 --config-gen benchmark.num_runs=50"
   ]
  },
  {
   "cell_type": "markdown",
   "id": "c9776cd6",
   "metadata": {},
   "source": [
    "This look more promising. This experiment shows MIPS measurements might not be accurate for short-running simulations. Also spike seems to be more than twice as fast compared to ETISS."
   ]
  },
  {
   "cell_type": "markdown",
   "id": "4238333c",
   "metadata": {},
   "source": [
    "### B) Python Scripting"
   ]
  },
  {
   "cell_type": "markdown",
   "id": "b500fc47",
   "metadata": {},
   "source": [
    "Some imports"
   ]
  },
  {
   "cell_type": "code",
   "execution_count": 4,
   "id": "78c53970",
   "metadata": {},
   "outputs": [],
   "source": [
    "from tempfile import TemporaryDirectory\n",
    "from pathlib import Path\n",
    "import pandas as pd\n",
    "\n",
    "from mlonmcu.context.context import MlonMcuContext\n",
    "from mlonmcu.session.run import RunStage"
   ]
  },
  {
   "cell_type": "markdown",
   "id": "86046913",
   "metadata": {},
   "source": [
    "Benchmark Configuration"
   ]
  },
  {
   "cell_type": "code",
   "execution_count": 14,
   "id": "2f6c5e5a",
   "metadata": {},
   "outputs": [],
   "source": [
    "FRONTEND = \"tflite\"\n",
    "MODELS = [\"resnet\", \"toycar\"]\n",
    "BACKEND = \"tvmaot\"\n",
    "PLATFORM = \"mlif\"\n",
    "TARGETS = [\"etiss_pulpino\", \"spike\"]\n",
    "POSTPROCESSES = [\"config2cols\", \"filter_cols\"]\n",
    "FEATURES = [\"benchmark\"]\n",
    "CONFIG = {\n",
    "    \"filter_cols.keep\": [\"Model\", \"Target\", \"MIPS\", \"config_benchmark.num_runs\"]\n",
    "}"
   ]
  },
  {
   "cell_type": "markdown",
   "id": "966cc3fe",
   "metadata": {},
   "source": [
    "Initialize and run a single benchmark"
   ]
  },
  {
   "cell_type": "code",
   "execution_count": 17,
   "id": "ebe63369",
   "metadata": {},
   "outputs": [
    {
     "name": "stdout",
     "output_type": "stream",
     "text": [
      "INFO - Loading environment cache from file\n",
      "INFO - Successfully initialized cache\n",
      "INFO - Loading extensions.py (User)\n",
      "INFO - [session-382] Processing all stages\n",
      "INFO - All runs completed successfuly!\n",
      "INFO - Postprocessing session report\n",
      "INFO - [session-382] Done processing runs\n"
     ]
    },
    {
     "data": {
      "text/html": [
       "<div>\n",
       "<style scoped>\n",
       "    .dataframe tbody tr th:only-of-type {\n",
       "        vertical-align: middle;\n",
       "    }\n",
       "\n",
       "    .dataframe tbody tr th {\n",
       "        vertical-align: top;\n",
       "    }\n",
       "\n",
       "    .dataframe thead th {\n",
       "        text-align: right;\n",
       "    }\n",
       "</style>\n",
       "<table border=\"1\" class=\"dataframe\">\n",
       "  <thead>\n",
       "    <tr style=\"text-align: right;\">\n",
       "      <th></th>\n",
       "      <th>Model</th>\n",
       "      <th>Target</th>\n",
       "      <th>MIPS</th>\n",
       "      <th>config_benchmark.num_runs</th>\n",
       "    </tr>\n",
       "  </thead>\n",
       "  <tbody>\n",
       "    <tr>\n",
       "      <th>0</th>\n",
       "      <td>resnet</td>\n",
       "      <td>etiss_pulpino</td>\n",
       "      <td>70.0</td>\n",
       "      <td>1</td>\n",
       "    </tr>\n",
       "    <tr>\n",
       "      <th>1</th>\n",
       "      <td>resnet</td>\n",
       "      <td>etiss_pulpino</td>\n",
       "      <td>127.0</td>\n",
       "      <td>10</td>\n",
       "    </tr>\n",
       "    <tr>\n",
       "      <th>2</th>\n",
       "      <td>resnet</td>\n",
       "      <td>spike</td>\n",
       "      <td>NaN</td>\n",
       "      <td>1</td>\n",
       "    </tr>\n",
       "    <tr>\n",
       "      <th>3</th>\n",
       "      <td>resnet</td>\n",
       "      <td>spike</td>\n",
       "      <td>NaN</td>\n",
       "      <td>10</td>\n",
       "    </tr>\n",
       "    <tr>\n",
       "      <th>4</th>\n",
       "      <td>toycar</td>\n",
       "      <td>etiss_pulpino</td>\n",
       "      <td>2.0</td>\n",
       "      <td>1</td>\n",
       "    </tr>\n",
       "    <tr>\n",
       "      <th>5</th>\n",
       "      <td>toycar</td>\n",
       "      <td>etiss_pulpino</td>\n",
       "      <td>18.0</td>\n",
       "      <td>10</td>\n",
       "    </tr>\n",
       "    <tr>\n",
       "      <th>6</th>\n",
       "      <td>toycar</td>\n",
       "      <td>spike</td>\n",
       "      <td>NaN</td>\n",
       "      <td>1</td>\n",
       "    </tr>\n",
       "    <tr>\n",
       "      <th>7</th>\n",
       "      <td>toycar</td>\n",
       "      <td>spike</td>\n",
       "      <td>NaN</td>\n",
       "      <td>10</td>\n",
       "    </tr>\n",
       "  </tbody>\n",
       "</table>\n",
       "</div>"
      ],
      "text/plain": [
       "    Model         Target   MIPS  config_benchmark.num_runs\n",
       "0  resnet  etiss_pulpino   70.0                          1\n",
       "1  resnet  etiss_pulpino  127.0                         10\n",
       "2  resnet          spike    NaN                          1\n",
       "3  resnet          spike    NaN                         10\n",
       "4  toycar  etiss_pulpino    2.0                          1\n",
       "5  toycar  etiss_pulpino   18.0                         10\n",
       "6  toycar          spike    NaN                          1\n",
       "7  toycar          spike    NaN                         10"
      ]
     },
     "execution_count": 17,
     "metadata": {},
     "output_type": "execute_result"
    }
   ],
   "source": [
    "with MlonMcuContext() as context:\n",
    "    session = context.create_session()\n",
    "    for model in MODELS:\n",
    "        for target in TARGETS:\n",
    "            def helper(session, num=0):\n",
    "                cfg = CONFIG.copy()\n",
    "                cfg[\"benchmark.num_runs\"] = num\n",
    "                run = session.create_run(config=cfg)\n",
    "                run.add_frontend_by_name(FRONTEND, context=context)\n",
    "                run.add_features_by_name(FEATURES, context=context)\n",
    "                run.add_model_by_name(model, context=context)\n",
    "                run.add_backend_by_name(BACKEND, context=context)\n",
    "                run.add_platform_by_name(PLATFORM, context=context)\n",
    "                run.add_target_by_name(target, context=context)\n",
    "                run.add_postprocesses_by_name(POSTPROCESSES)\n",
    "            for num in [1, 10]:  # Removed 50 to cut down runtime\n",
    "                helper(session, num)\n",
    "    session.process_runs(context=context)\n",
    "    report = session.get_reports()\n",
    "report.df"
   ]
  }
 ],
 "metadata": {
  "kernelspec": {
   "display_name": "Python 3 (ipykernel)",
   "language": "python",
   "name": "python3"
  },
  "language_info": {
   "codemirror_mode": {
    "name": "ipython",
    "version": 3
   },
   "file_extension": ".py",
   "mimetype": "text/x-python",
   "name": "python",
   "nbconvert_exporter": "python",
   "pygments_lexer": "ipython3",
   "version": "3.8.10"
  }
 },
 "nbformat": 4,
 "nbformat_minor": 5
}

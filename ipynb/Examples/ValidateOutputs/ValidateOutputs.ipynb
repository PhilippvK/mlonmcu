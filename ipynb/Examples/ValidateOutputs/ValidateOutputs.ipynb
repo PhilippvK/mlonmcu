{
 "cells": [
  {
   "cell_type": "markdown",
   "id": "67a623c3",
   "metadata": {
    "papermill": {
     "duration": 0.003129,
     "end_time": "2024-01-01T08:31:57.769332",
     "exception": false,
     "start_time": "2024-01-01T08:31:57.766203",
     "status": "completed"
    },
    "tags": []
   },
   "source": [
    "# Example: Validate Model Outputs for correctness"
   ]
  },
  {
   "cell_type": "markdown",
   "id": "1025ee11",
   "metadata": {
    "papermill": {
     "duration": 0.00236,
     "end_time": "2024-01-01T08:31:57.774273",
     "exception": false,
     "start_time": "2024-01-01T08:31:57.771913",
     "status": "completed"
    },
    "tags": []
   },
   "source": [
    "For safety-critical applications we can not accept deviations at the model ouputs caused by the deployment method. The following shows how to verify if the generated model outputs are as expected."
   ]
  },
  {
   "cell_type": "markdown",
   "id": "3f7078e1",
   "metadata": {
    "papermill": {
     "duration": 0.002242,
     "end_time": "2024-01-01T08:31:57.778764",
     "exception": false,
     "start_time": "2024-01-01T08:31:57.776522",
     "status": "completed"
    },
    "tags": []
   },
   "source": [
    "*Warning:* The current version can only verify the bit-excactness of model outputs. Hence why it is very sensitive to even small derivations compared to the reference (golden) outputs. This limitation might be eliminated with a future revision of MLonMCUs `validate` feature."
   ]
  },
  {
   "cell_type": "markdown",
   "id": "87fd1387",
   "metadata": {
    "papermill": {
     "duration": 0.002229,
     "end_time": "2024-01-01T08:31:57.783251",
     "exception": false,
     "start_time": "2024-01-01T08:31:57.781022",
     "status": "completed"
    },
    "tags": []
   },
   "source": [
    "## Supported components"
   ]
  },
  {
   "cell_type": "markdown",
   "id": "584a911d",
   "metadata": {
    "papermill": {
     "duration": 0.002181,
     "end_time": "2024-01-01T08:31:57.787697",
     "exception": false,
     "start_time": "2024-01-01T08:31:57.785516",
     "status": "completed"
    },
    "tags": []
   },
   "source": [
    "**Models:** Any (`aww` and `resnet` used below)\n",
    "\n",
    "**Frontends:** Any (`tflite` used below)\n",
    "\n",
    "**Frameworks/Backends:** Any (`tvmaotplus` and `tflmi` used below)\n",
    "\n",
    "**Platforms/Targets:** Any target supported by `mlif` or `espidf` platform\n",
    "\n",
    "**Features:** `validate` and `debug` platform features have to be enabled "
   ]
  },
  {
   "cell_type": "markdown",
   "id": "74ce776e",
   "metadata": {
    "papermill": {
     "duration": 0.002178,
     "end_time": "2024-01-01T08:31:57.792135",
     "exception": false,
     "start_time": "2024-01-01T08:31:57.789957",
     "status": "completed"
    },
    "tags": []
   },
   "source": [
    "## Prerequisites"
   ]
  },
  {
   "cell_type": "markdown",
   "id": "18955525",
   "metadata": {
    "papermill": {
     "duration": 0.002191,
     "end_time": "2024-01-01T08:31:57.797484",
     "exception": false,
     "start_time": "2024-01-01T08:31:57.795293",
     "status": "completed"
    },
    "tags": []
   },
   "source": [
    "Set up MLonmCU as usual, i.e. initialize an environment and install all required dependencies. Feel free to use the following minimal `environment.yml.j2` template:"
   ]
  },
  {
   "cell_type": "markdown",
   "id": "51eb8539",
   "metadata": {
    "papermill": {
     "duration": 0.002229,
     "end_time": "2024-01-01T08:31:57.801938",
     "exception": false,
     "start_time": "2024-01-01T08:31:57.799709",
     "status": "completed"
    },
    "tags": []
   },
   "source": [
    "```yaml\n",
    "---\n",
    "home: \"{{ home_dir }}\"\n",
    "logging:\n",
    "  level: DEBUG\n",
    "  to_file: false\n",
    "  rotate: false\n",
    "cleanup:\n",
    "  auto: true\n",
    "  keep: 10\n",
    "paths:\n",
    "  deps: deps\n",
    "  logs: logs\n",
    "  results: results\n",
    "  plugins: plugins\n",
    "  temp: temp\n",
    "  models:\n",
    "    - \"{{ home_dir }}/models\"\n",
    "    - \"{{ config_dir }}/models\"\n",
    "repos:\n",
    "  tensorflow:\n",
    "    url: \"https://github.com/tensorflow/tflite-micro.git\"\n",
    "    ref: f050eec7e32a0895f7658db21a4bdbd0975087a5\n",
    "  tvm:\n",
    "    url: \"https://github.com/apache/tvm.git\"\n",
    "    ref: de6d8067754d746d88262c530b5241b5577b9aae\n",
    "  etiss:\n",
    "    url: \"https://github.com/tum-ei-eda/etiss.git\"\n",
    "    ref: 4d2d26fb1fdb17e1da3a397c35d6f8877bf3ceab\n",
    "  mlif:\n",
    "    url: \"https://github.com/tum-ei-eda/mlonmcu-sw.git\"\n",
    "    ref: 4b9a32659f7c5340e8de26a0b8c4135ca67d64ac\n",
    "frameworks:\n",
    "  default: tvm\n",
    "  tflm:\n",
    "    enabled: true\n",
    "    backends:\n",
    "      default: tflmi\n",
    "      tflmi:\n",
    "        enabled: true\n",
    "        features: []\n",
    "    features: []\n",
    "  tvm:\n",
    "    enabled: true\n",
    "    backends:\n",
    "      default: tvmaotplus\n",
    "      tvmaotplus:\n",
    "        enabled: true\n",
    "        features: []\n",
    "    features: []\n",
    "frontends:\n",
    "  tflite:\n",
    "    enabled: true\n",
    "    features: []\n",
    "toolchains:\n",
    "  gcc: true\n",
    "platforms:\n",
    "  mlif:\n",
    "    enabled: true\n",
    "    features:\n",
    "      debug: true\n",
    "      validate: true\n",
    "targets:\n",
    "  default: etiss_pulpino\n",
    "  etiss_pulpino:\n",
    "    enabled: true\n",
    "    features: []\n",
    "```"
   ]
  },
  {
   "cell_type": "markdown",
   "id": "4d140308",
   "metadata": {
    "papermill": {
     "duration": 0.002262,
     "end_time": "2024-01-01T08:31:57.806422",
     "exception": false,
     "start_time": "2024-01-01T08:31:57.804160",
     "status": "completed"
    },
    "tags": []
   },
   "source": [
    "Do not forget to set your `MLONMCU_HOME` environment variable first if not using the default location!"
   ]
  },
  {
   "cell_type": "markdown",
   "id": "a3bac781",
   "metadata": {
    "papermill": {
     "duration": 0.002211,
     "end_time": "2024-01-01T08:31:57.810837",
     "exception": false,
     "start_time": "2024-01-01T08:31:57.808626",
     "status": "completed"
    },
    "tags": []
   },
   "source": [
    "## Usage"
   ]
  },
  {
   "cell_type": "markdown",
   "id": "1352b362",
   "metadata": {
    "papermill": {
     "duration": 0.002196,
     "end_time": "2024-01-01T08:31:57.815287",
     "exception": false,
     "start_time": "2024-01-01T08:31:57.813091",
     "status": "completed"
    },
    "tags": []
   },
   "source": [
    "*Hint*: Due to the program being build in debug mode and running one inference for each provided input-output combination, the simulation time will likely decrease by some factors. Add the `--parallel` flag to your command line to allow MLonMCU to run multiple simulations in parallel.\n",
    "\n",
    "*Hint:* We are not able to provide reference data for every model in out model zoo. If you might want to add reference data for your own models, see: TODO"
   ]
  },
  {
   "cell_type": "markdown",
   "id": "f01b54e2",
   "metadata": {
    "papermill": {
     "duration": 0.002181,
     "end_time": "2024-01-01T08:31:57.819770",
     "exception": false,
     "start_time": "2024-01-01T08:31:57.817589",
     "status": "completed"
    },
    "tags": []
   },
   "source": [
    "### A) Command Line Interface"
   ]
  },
  {
   "cell_type": "markdown",
   "id": "2b333851",
   "metadata": {
    "papermill": {
     "duration": 0.002174,
     "end_time": "2024-01-01T08:31:57.824188",
     "exception": false,
     "start_time": "2024-01-01T08:31:57.822014",
     "status": "completed"
    },
    "tags": []
   },
   "source": [
    "As an example, let's see if the `tflmi` and `tvmaotplus` backend produce different model outputs for the same model.\n",
    "\n",
    "To enable the validation, just add `--feature debug --feature validate` to the command line:"
   ]
  },
  {
   "cell_type": "code",
   "execution_count": 1,
   "id": "43576c35",
   "metadata": {
    "execution": {
     "iopub.execute_input": "2024-01-01T08:31:57.830281Z",
     "iopub.status.busy": "2024-01-01T08:31:57.829746Z",
     "iopub.status.idle": "2024-01-01T08:38:59.232864Z",
     "shell.execute_reply": "2024-01-01T08:38:59.232214Z"
    },
    "papermill": {
     "duration": 421.408225,
     "end_time": "2024-01-01T08:38:59.234692",
     "exception": false,
     "start_time": "2024-01-01T08:31:57.826467",
     "status": "completed"
    },
    "tags": []
   },
   "outputs": [
    {
     "name": "stdout",
     "output_type": "stream",
     "text": [
      "INFO - Loading environment cache from file\r\n",
      "INFO - Successfully initialized cache\r\n"
     ]
    },
    {
     "name": "stdout",
     "output_type": "stream",
     "text": [
      "INFO -  Processing stage LOAD\r\n"
     ]
    },
    {
     "name": "stdout",
     "output_type": "stream",
     "text": [
      "INFO -  Processing stage BUILD\r\n"
     ]
    },
    {
     "name": "stdout",
     "output_type": "stream",
     "text": [
      "INFO -  Processing stage COMPILE\r\n"
     ]
    },
    {
     "name": "stdout",
     "output_type": "stream",
     "text": [
      "INFO -  Processing stage RUN\r\n"
     ]
    },
    {
     "name": "stdout",
     "output_type": "stream",
     "text": [
      "ERROR - A platform error occured during the simulation. Reason: OUTPUT_MISSMATCH\r\n"
     ]
    },
    {
     "name": "stdout",
     "output_type": "stream",
     "text": [
      "INFO - All runs completed successfuly!\r\n",
      "INFO - Postprocessing session report\r\n",
      "INFO - Done processing runs\r\n"
     ]
    },
    {
     "name": "stdout",
     "output_type": "stream",
     "text": [
      "INFO - Report:\r\n",
      "   Session  Run   Model Frontend Framework     Backend Platform         Target  Total Cycles  Total Instructions  Total CPI  Total ROM  Total RAM  ROM read-only  ROM code  ROM misc  RAM data  RAM zero-init data  Validation           Features                                             Config Postprocesses Comment\r\n",
      "0        0    0     aww   tflite      tflm       tflmi     mlif  etiss_pulpino    1413730672          1413730672        1.0     395694      36036         109032    286514       148      2520               33516        True  [debug, validate]  {'aww.output_shapes': {'Identity': [1, 12]}, '...            []       -\r\n",
      "1        0    1     aww   tflite       tvm  tvmaotplus     mlif  etiss_pulpino     253060978           253060978        1.0     137582      59400          58400     79038       144      2520               56880        True  [debug, validate]  {'aww.output_shapes': {'Identity': [1, 12]}, '...            []       -\r\n",
      "2        0    2  resnet   tflite      tflm       tflmi     mlif  etiss_pulpino    9004143190          9004143190        1.0     447672      68804         153752    293772       148      2520               66284        True  [debug, validate]  {'resnet.output_shapes': {'Identity_int8': [1,...            []       -\r\n",
      "3        0    3  resnet   tflite       tvm  tvmaotplus     mlif  etiss_pulpino    1373939645          1373939645        1.0     249624     108312         171056     78424       144      2520              105792       False  [debug, validate]  {'resnet.output_shapes': {'Identity_int8': [1,...            []       -\r\n"
     ]
    }
   ],
   "source": [
    "!python -m mlonmcu.cli.main flow run aww resnet -b tflmi -b tvmaotplus -t etiss_pulpino -f debug -f validate"
   ]
  },
  {
   "cell_type": "markdown",
   "id": "8fc7aaaf",
   "metadata": {
    "papermill": {
     "duration": 0.002746,
     "end_time": "2024-01-01T08:38:59.240631",
     "exception": false,
     "start_time": "2024-01-01T08:38:59.237885",
     "status": "completed"
    },
    "tags": []
   },
   "source": [
    "Since we are building in debug mode, most of the reported metrics are not meaningful. Let's get rid of the using the `filter_cols` postprocess:"
   ]
  },
  {
   "cell_type": "code",
   "execution_count": 2,
   "id": "53c89e22",
   "metadata": {
    "execution": {
     "iopub.execute_input": "2024-01-01T08:38:59.247349Z",
     "iopub.status.busy": "2024-01-01T08:38:59.247109Z",
     "iopub.status.idle": "2024-01-01T08:46:00.288740Z",
     "shell.execute_reply": "2024-01-01T08:46:00.287991Z"
    },
    "papermill": {
     "duration": 421.047076,
     "end_time": "2024-01-01T08:46:00.290474",
     "exception": false,
     "start_time": "2024-01-01T08:38:59.243398",
     "status": "completed"
    },
    "tags": []
   },
   "outputs": [
    {
     "name": "stdout",
     "output_type": "stream",
     "text": [
      "INFO - Loading environment cache from file\r\n",
      "INFO - Successfully initialized cache\r\n"
     ]
    },
    {
     "name": "stdout",
     "output_type": "stream",
     "text": [
      "INFO - [session-1]  Processing stage LOAD\r\n"
     ]
    },
    {
     "name": "stdout",
     "output_type": "stream",
     "text": [
      "INFO - [session-1]  Processing stage BUILD\r\n"
     ]
    },
    {
     "name": "stdout",
     "output_type": "stream",
     "text": [
      "INFO - [session-1]  Processing stage COMPILE\r\n"
     ]
    },
    {
     "name": "stdout",
     "output_type": "stream",
     "text": [
      "INFO - [session-1]  Processing stage RUN\r\n"
     ]
    },
    {
     "name": "stdout",
     "output_type": "stream",
     "text": [
      "ERROR - A platform error occured during the simulation. Reason: OUTPUT_MISSMATCH\r\n"
     ]
    },
    {
     "name": "stdout",
     "output_type": "stream",
     "text": [
      "INFO - [session-1]  Processing stage POSTPROCESS\r\n"
     ]
    },
    {
     "name": "stdout",
     "output_type": "stream",
     "text": [
      "INFO - All runs completed successfuly!\r\n"
     ]
    },
    {
     "name": "stdout",
     "output_type": "stream",
     "text": [
      "INFO - Postprocessing session report\r\n",
      "INFO - [session-1] Done processing runs\r\n",
      "INFO - Report:\r\n",
      "    Model     Backend  Validation\r\n",
      "0     aww       tflmi        True\r\n",
      "1     aww  tvmaotplus        True\r\n",
      "2  resnet       tflmi        True\r\n",
      "3  resnet  tvmaotplus       False\r\n"
     ]
    }
   ],
   "source": [
    "!python -m mlonmcu.cli.main flow run aww resnet -b tflmi -b tvmaotplus -t etiss_pulpino -f debug -f validate \\\n",
    "        --postprocess filter_cols --config filter_cols.keep=\"Model,Backend,Validation\""
   ]
  },
  {
   "cell_type": "markdown",
   "id": "c9776cd6",
   "metadata": {
    "papermill": {
     "duration": 0.003288,
     "end_time": "2024-01-01T08:46:00.297361",
     "exception": false,
     "start_time": "2024-01-01T08:46:00.294073",
     "status": "completed"
    },
    "tags": []
   },
   "source": [
    "By investigating the 'Validation' column or the `OUTPUT_MISSMATCH` printed earlier (at least at the time of testing this example) you can see, that one out of 4 validation have failed. TVM beeing not bit-accurate for quantized models is a known issue which needs further investigation."
   ]
  },
  {
   "cell_type": "markdown",
   "id": "b58021dd",
   "metadata": {
    "papermill": {
     "duration": 0.003172,
     "end_time": "2024-01-01T08:46:00.304087",
     "exception": false,
     "start_time": "2024-01-01T08:46:00.300915",
     "status": "completed"
    },
    "tags": []
   },
   "source": [
    "It is also possible to find out which model output has caused the missmatch by looking at the simulation outputs:"
   ]
  },
  {
   "cell_type": "code",
   "execution_count": 3,
   "id": "230211f7",
   "metadata": {
    "execution": {
     "iopub.execute_input": "2024-01-01T08:46:00.311809Z",
     "iopub.status.busy": "2024-01-01T08:46:00.311535Z",
     "iopub.status.idle": "2024-01-01T08:46:23.724056Z",
     "shell.execute_reply": "2024-01-01T08:46:23.723238Z"
    },
    "papermill": {
     "duration": 23.418546,
     "end_time": "2024-01-01T08:46:23.725800",
     "exception": false,
     "start_time": "2024-01-01T08:46:00.307254",
     "status": "completed"
    },
    "tags": []
   },
   "outputs": [
    {
     "name": "stdout",
     "output_type": "stream",
     "text": [
      "INFO - Loading environment cache from file\r\n",
      "INFO - Successfully initialized cache\r\n"
     ]
    },
    {
     "name": "stdout",
     "output_type": "stream",
     "text": [
      "INFO - [session-2]  Processing stage LOAD\r\n"
     ]
    },
    {
     "name": "stdout",
     "output_type": "stream",
     "text": [
      "INFO - [session-2]  Processing stage BUILD\r\n"
     ]
    },
    {
     "name": "stdout",
     "output_type": "stream",
     "text": [
      "INFO - [session-2]  Processing stage COMPILE\r\n"
     ]
    },
    {
     "name": "stdout",
     "output_type": "stream",
     "text": [
      "INFO - [session-2]  Processing stage RUN\r\n",
      "=== Setting up configurations ===\r\n",
      "Initializer::loadIni(): Ini sucessfully loaded /tmp/ValidateOutputs-E0ok/workspace/deps/install/etiss/examples/base.ini\r\n",
      "Initializer::loadIni(): Ini sucessfully loaded /tmp/etiss_dynamic_lMtKNRSwkM.ini\r\n",
      "Initializer::loadIni(): Ini sucessfully loaded /tmp/tmpoylkh4pz/custom.ini\r\n",
      "  Load Configs from .ini files:\r\n",
      "ETISS: Info: Created new config container: global\r\n",
      "ETISS: Info:   [BoolConfigurations]\r\n",
      "ETISS: Info:     arch.enable_semihosting=false,\r\n",
      "ETISS: Info:     arch.or1k.ignore_sr_iee=false,\r\n",
      "ETISS: Info:     etiss.enable_dmi=true,\r\n",
      "ETISS: Info:     etiss.load_integrated_libraries=true,\r\n",
      "ETISS: Info:     etiss.log_pc=false,\r\n",
      "ETISS: Info:     jit.debug=false,\r\n",
      "ETISS: Info:     jit.gcc.cleanup=true,\r\n",
      "ETISS: Info:     jit.verify=false,\r\n",
      "ETISS: Info:     testing=false,\r\n",
      "ETISS: Info:   [IntConfigurations]\r\n",
      "ETISS: Warning:     arch.cpu_cycle_time_ps=31250,31250,   Multi values. Take only LAST one!\r\n",
      "ETISS: Info:     arch.or1k.if_stall_cycles=0,\r\n",
      "ETISS: Info:     arch.rv32imacfdpv.mstatus_fs=1,\r\n",
      "ETISS: Info:     etiss.max_block_size=100,\r\n",
      "ETISS: Info:     ETISS::CPU_quantum_ps=100000,\r\n",
      "ETISS: Info:     ETISS::sim_mode=0,\r\n",
      "ETISS: Info:     ETISS::write_pc_trace_from_time_us=0,\r\n",
      "ETISS: Info:     ETISS::write_pc_trace_until_time_us=3000000,\r\n",
      "ETISS: Warning:     simple_mem_system.memseg_length_00=0x00080000,8388608,   Multi values. Take only LAST one!\r\n",
      "ETISS: Warning:     simple_mem_system.memseg_length_01=0x00080000,67108864,   Multi values. Take only LAST one!\r\n",
      "ETISS: Warning:     simple_mem_system.memseg_origin_00=0x00000000,0,   Multi values. Take only LAST one!\r\n",
      "ETISS: Warning:     simple_mem_system.memseg_origin_01=0x00080000,8388608,   Multi values. Take only LAST one!\r\n",
      "ETISS: Info:     vp::simulation_time_us=20000000,\r\n",
      "ETISS: Info:   [StringConfigurations]\r\n",
      "ETISS: Info:     arch.cpu=RV32IMACFD,\r\n",
      "ETISS: Info:     etiss.output_path_prefix=,\r\n",
      "ETISS: Info:     jit.type=TCCJIT,\r\n",
      "ETISS: Info:     vp.elf_file=/tmp/ValidateOutputs-E0ok/workspace/temp/sessions/2/runs/0/generic_mlonmcu,\r\n",
      "=== Finished setting up configurations ===\r\n",
      "\r\n",
      "=== Setting up test system ===\r\n",
      "  Setting up Memory\r\n",
      "ETISS: Info: New Memory segment added: 1 - [0x00000000007fffff - 0x0000000000000000]\r\n",
      "ETISS: Info: New Memory segment added: 2 - [0x00000000047fffff - 0x0000000000800000]\r\n",
      "ETISS: Info: Assuming CPU architecture RV32IMACFD as set in configuration file. ELF architecture field will be ignored\r\n",
      "ETISS: Info: Initialized the memory segment 1 - RWX[0x0000000000000000 - 0x000000000003d01b] from ELF-file\r\n",
      "ETISS: Info: Initialized the memory segment 2 - RW[0x0000000000800000 - 0x000000000082271f] from ELF-file\r\n",
      "  Setting up CPUCore\r\n",
      "  CPU start address: 0x156\r\n",
      "=== Finished Setting up test system ===\r\n",
      "\r\n",
      "=== Setting up plug-ins ===\r\n",
      "ETISS: Info:   Adding Plugin Logger\r\n",
      "\r\n",
      "ETISS: Info: plugin.logger.logaddr not set on the command line. Checking in .ini file.\r\n",
      "ETISS: Info:     options[plugin.logger.logaddr] = 0x80000000\r\n",
      "\r\n",
      "\r\n",
      "ETISS: Info: plugin.logger.logmask not set on the command line. Checking in .ini file.\r\n",
      "ETISS: Info:     options[plugin.logger.logmask] = 0x80000000\r\n",
      "\r\n",
      "\r\n",
      "ETISS: Info: Plugin \"Logger\" loaded via library interface \"ETISSINCLUDED\"\r\n",
      "\r\n",
      "ETISS: Info:  Adding JIT \"TCCJIT\"\r\n",
      "=== Setting up plug-ins ===\r\n",
      "\r\n",
      "\r\n",
      "=== Simulation start ===\r\n",
      "ETISS: Info: Init Plugin Logger{SYSTEMWRAPPER}\r\n"
     ]
    },
    {
     "name": "stdout",
     "output_type": "stream",
     "text": [
      "Program start.\r\n"
     ]
    },
    {
     "name": "stdout",
     "output_type": "stream",
     "text": [
      "Category 0: 0.03125\r\n",
      "Category 1: 0.91015625\r\n",
      "Category 2: 0.0078125\r\n",
      "Category 3: 0.05078125\r\n",
      "Category 4: 0\r\n",
      "Category 5: 0\r\n",
      "Category 6: 0\r\n",
      "Category 7: 0\r\n",
      "Category 8: 0\r\n",
      "Category 9: 0.00390625\r\n",
      "Predicted category: 1\r\n",
      "MLIF: Wrong output in category 0! Expected 0.01953125\r\n"
     ]
    },
    {
     "name": "stdout",
     "output_type": "stream",
     "text": [
      "# Setup Cycles: 141\r\n",
      "# Setup Instructions: 141\r\n",
      "# Run Cycles: 686807143\r\n",
      "# Run Instructions: 686807143\r\n",
      "# Total Cycles: 1373939645\r\n",
      "# Total Instructions: 1373939645\r\n",
      "Program finish.\r\n",
      "MLONMCU EXIT: 18\r\n"
     ]
    },
    {
     "name": "stdout",
     "output_type": "stream",
     "text": [
      "exit called with code: 18\r\n",
      "CPU Time: 42.9387s    Simulation Time: 14.594s\r\n",
      "CPU Cycles (estimated): 1.37404e+09\r\n",
      "MIPS (estimated): 94.151\r\n",
      "=== Simulation end ===\r\n",
      "\r\n",
      "CPU0 exited with exception: 0x80000000: Finished cpu execution. This is the proper way to exit from etiss::CPUCore::execute.\r\n",
      "ERROR - A platform error occured during the simulation. Reason: OUTPUT_MISSMATCH\r\n"
     ]
    },
    {
     "name": "stdout",
     "output_type": "stream",
     "text": [
      "warning: ignored: .eh_frame / size: 252\r\n",
      "heap starts at: 0x81a720\r\n",
      "=== Results ===\r\n",
      "ROM usage:        249.6 kB (0x3cf18)\r\n",
      "  read-only data: 171.1 kB (0x29c30)\r\n",
      "  code:           78.4 kB (0x13258)\r\n",
      "  other required: 144 Bytes (0x90)\r\n",
      "RAM usage:        108.3 kB (0x1a718) [stack and heap usage not included]\r\n",
      "  data:           2.5 kB (0x9d8)\r\n",
      "  zero-init data: 105.8 kB (0x19d40)\r\n",
      "  stack:          unknown [missing trace file]\r\n",
      "  heap:           unknown [missing trace file]\r\n"
     ]
    },
    {
     "name": "stdout",
     "output_type": "stream",
     "text": [
      "INFO - All runs completed successfuly!\r\n",
      "INFO - Postprocessing session report\r\n",
      "INFO - [session-2] Done processing runs\r\n"
     ]
    },
    {
     "name": "stdout",
     "output_type": "stream",
     "text": [
      "INFO - Report:\r\n",
      "   Session  Run   Model Frontend Framework     Backend Platform         Target  Total Cycles  Total Instructions  Total CPI  Total ROM  Total RAM  ROM read-only  ROM code  ROM misc  RAM data  RAM zero-init data  Validation           Features                                             Config Postprocesses Comment\r\n",
      "0        2    0  resnet   tflite       tvm  tvmaotplus     mlif  etiss_pulpino    1373939645          1373939645        1.0     249624     108312         171056     78424       144      2520              105792       False  [debug, validate]  {'resnet.output_shapes': {'Identity_int8': [1,...            []       -\r\n"
     ]
    }
   ],
   "source": [
    "!python -m mlonmcu.cli.main flow run resnet -b tvmaotplus -t etiss_pulpino -f debug -f validate \\\n",
    "        --config etiss_pulpino.print_outputs=1"
   ]
  }
 ],
 "metadata": {
  "kernelspec": {
   "display_name": "Python 3 (ipykernel)",
   "language": "python",
   "name": "python3"
  },
  "language_info": {
   "codemirror_mode": {
    "name": "ipython",
    "version": 3
   },
   "file_extension": ".py",
   "mimetype": "text/x-python",
   "name": "python",
   "nbconvert_exporter": "python",
   "pygments_lexer": "ipython3",
   "version": "3.8.18"
  },
  "papermill": {
   "default_parameters": {},
   "duration": 867.701425,
   "end_time": "2024-01-01T08:46:23.847735",
   "environment_variables": {},
   "exception": null,
   "input_path": "/home/runner/work/mlonmcu/mlonmcu/ipynb/Examples/ValidateOutputs/ValidateOutputs.ipynb",
   "output_path": "/home/runner/work/mlonmcu/mlonmcu/ipynb/Examples/ValidateOutputs/ValidateOutputs.ipynb",
   "parameters": {},
   "start_time": "2024-01-01T08:31:56.146310",
   "version": "2.5.0"
  }
 },
 "nbformat": 4,
 "nbformat_minor": 5
}
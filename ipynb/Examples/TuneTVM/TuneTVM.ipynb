{
 "cells": [
  {
   "cell_type": "markdown",
   "id": "67a623c3",
   "metadata": {
    "papermill": {
     "duration": 0.007099,
     "end_time": "2023-12-31T14:38:43.034422",
     "exception": false,
     "start_time": "2023-12-31T14:38:43.027323",
     "status": "completed"
    },
    "tags": []
   },
   "source": [
    "# Example: Auto-Tuning using TVM Platform"
   ]
  },
  {
   "cell_type": "markdown",
   "id": "1025ee11",
   "metadata": {
    "papermill": {
     "duration": 0.005276,
     "end_time": "2023-12-31T14:38:43.047524",
     "exception": false,
     "start_time": "2023-12-31T14:38:43.042248",
     "status": "completed"
    },
    "tags": []
   },
   "source": [
    "Autotuning is a very powerful method to optimize a given model for a specific target. In the following the usage of TVMs tuning feature is explained briefly."
   ]
  },
  {
   "cell_type": "markdown",
   "id": "3f7078e1",
   "metadata": {
    "papermill": {
     "duration": 0.005185,
     "end_time": "2023-12-31T14:38:43.058041",
     "exception": false,
     "start_time": "2023-12-31T14:38:43.052856",
     "status": "completed"
    },
    "tags": []
   },
   "source": [
    "*Warning:* This example only covers the TVM platform which should not be confused with the MicroTVM platform. Hence only the `tvm_cpu` (Host) target can be used for demonstartion purposes."
   ]
  },
  {
   "cell_type": "markdown",
   "id": "87fd1387",
   "metadata": {
    "papermill": {
     "duration": 0.003522,
     "end_time": "2023-12-31T14:38:43.065048",
     "exception": false,
     "start_time": "2023-12-31T14:38:43.061526",
     "status": "completed"
    },
    "tags": []
   },
   "source": [
    "## Supported components"
   ]
  },
  {
   "cell_type": "markdown",
   "id": "584a911d",
   "metadata": {
    "papermill": {
     "duration": 0.00234,
     "end_time": "2023-12-31T14:38:43.070577",
     "exception": false,
     "start_time": "2023-12-31T14:38:43.068237",
     "status": "completed"
    },
    "tags": []
   },
   "source": [
    "**Models:** Any (`toycar` used below)\n",
    "\n",
    "**Frontends:** Any (`tflite` used below)\n",
    "\n",
    "**Frameworks/Backends:** `tvmllvm` backend only\n",
    "\n",
    "**Platforms/Targets:** `tvm_cpu` target only\n",
    "\n",
    "**Features:** `autotune` and `autotuned` feature have to be enabled."
   ]
  },
  {
   "cell_type": "markdown",
   "id": "74ce776e",
   "metadata": {
    "papermill": {
     "duration": 0.002323,
     "end_time": "2023-12-31T14:38:43.075284",
     "exception": false,
     "start_time": "2023-12-31T14:38:43.072961",
     "status": "completed"
    },
    "tags": []
   },
   "source": [
    "## Prerequisites"
   ]
  },
  {
   "cell_type": "markdown",
   "id": "18955525",
   "metadata": {
    "papermill": {
     "duration": 0.005281,
     "end_time": "2023-12-31T14:38:43.082990",
     "exception": false,
     "start_time": "2023-12-31T14:38:43.077709",
     "status": "completed"
    },
    "tags": []
   },
   "source": [
    "Set up MLonmCU as usual, i.e. initialize an environment and install all required dependencies. Feel free to use the following minimal `environment.yml.j2` template:"
   ]
  },
  {
   "cell_type": "markdown",
   "id": "51eb8539",
   "metadata": {
    "papermill": {
     "duration": 0.003452,
     "end_time": "2023-12-31T14:38:43.091747",
     "exception": false,
     "start_time": "2023-12-31T14:38:43.088295",
     "status": "completed"
    },
    "tags": []
   },
   "source": [
    "```yaml\n",
    "---\n",
    "home: \"{{ home_dir }}\"\n",
    "logging:\n",
    "  level: DEBUG\n",
    "  to_file: false\n",
    "  rotate: false\n",
    "cleanup:\n",
    "  auto: true\n",
    "  keep: 10\n",
    "paths:\n",
    "  deps: deps\n",
    "  logs: logs\n",
    "  results: results\n",
    "  plugins: plugins\n",
    "  temp: temp\n",
    "  models:\n",
    "    - \"{{ home_dir }}/models\"\n",
    "    - \"{{ config_dir }}/models\"\n",
    "repos:\n",
    "  tvm:\n",
    "    url: \"https://github.com/apache/tvm.git\"\n",
    "    ref: de6d8067754d746d88262c530b5241b5577b9aae\n",
    "  tvm:\n",
    "    url: \"https://github.com/apache/tvm.git\"\n",
    "    ref: de6d8067754d746d88262c530b5241b5577b9aae\n",
    "frameworks:\n",
    "  default: tvm\n",
    "  tvm:\n",
    "    enabled: true\n",
    "    backends:\n",
    "      default: tvmllvm\n",
    "      tvmllvm:\n",
    "        enabled: true\n",
    "        features:\n",
    "          autotuned: true\n",
    "    features: []\n",
    "frontends:\n",
    "  tflite:\n",
    "    enabled: true\n",
    "    features: []\n",
    "toolchains:\n",
    "  gcc: true\n",
    "platforms:\n",
    "  tvm:\n",
    "    enabled: true\n",
    "    features:\n",
    "      autotune: true\n",
    "targets:\n",
    "  tvm_cpu:\n",
    "    enabled: true\n",
    "```"
   ]
  },
  {
   "cell_type": "markdown",
   "id": "4d140308",
   "metadata": {
    "papermill": {
     "duration": 0.003465,
     "end_time": "2023-12-31T14:38:43.098679",
     "exception": false,
     "start_time": "2023-12-31T14:38:43.095214",
     "status": "completed"
    },
    "tags": []
   },
   "source": [
    "Do not forget to set your `MLONMCU_HOME` environment variable first if not using the default location!"
   ]
  },
  {
   "cell_type": "markdown",
   "id": "a3bac781",
   "metadata": {
    "papermill": {
     "duration": 0.002322,
     "end_time": "2023-12-31T14:38:43.103345",
     "exception": false,
     "start_time": "2023-12-31T14:38:43.101023",
     "status": "completed"
    },
    "tags": []
   },
   "source": [
    "## Usage"
   ]
  },
  {
   "cell_type": "markdown",
   "id": "1352b362",
   "metadata": {
    "papermill": {
     "duration": 0.002327,
     "end_time": "2023-12-31T14:38:43.108019",
     "exception": false,
     "start_time": "2023-12-31T14:38:43.105692",
     "status": "completed"
    },
    "tags": []
   },
   "source": [
    "In addition to the TUNE stage in the MLonMCU flow which is skipped by default are two tuning-related features provided mu MLonMCU:\n",
    "- `autotune`: Use this to enable the `TUNE` stage. Tuning records will be written as an artifact but ignored in later stages.\n",
    "- `autotuned`: If this is enabled provided tuning records/metrics are used by TVM in the `BUILD` stage. If no tuning was executed in the previous stage, it will instead accept tuning logs provided by the user."
   ]
  },
  {
   "cell_type": "markdown",
   "id": "f01b54e2",
   "metadata": {
    "papermill": {
     "duration": 0.001655,
     "end_time": "2023-12-31T14:38:43.111526",
     "exception": false,
     "start_time": "2023-12-31T14:38:43.109871",
     "status": "completed"
    },
    "tags": []
   },
   "source": [
    "### A) Command Line Interface"
   ]
  },
  {
   "cell_type": "markdown",
   "id": "2b333851",
   "metadata": {
    "papermill": {
     "duration": 0.001597,
     "end_time": "2023-12-31T14:38:43.114757",
     "exception": false,
     "start_time": "2023-12-31T14:38:43.113160",
     "status": "completed"
    },
    "tags": []
   },
   "source": [
    "Let's run a benchmark without tuning first."
   ]
  },
  {
   "cell_type": "code",
   "execution_count": 1,
   "id": "43576c35",
   "metadata": {
    "execution": {
     "iopub.execute_input": "2023-12-31T14:38:43.120412Z",
     "iopub.status.busy": "2023-12-31T14:38:43.119755Z",
     "iopub.status.idle": "2023-12-31T14:38:48.654342Z",
     "shell.execute_reply": "2023-12-31T14:38:48.652574Z"
    },
    "papermill": {
     "duration": 5.541726,
     "end_time": "2023-12-31T14:38:48.658098",
     "exception": false,
     "start_time": "2023-12-31T14:38:43.116372",
     "status": "completed"
    },
    "tags": []
   },
   "outputs": [
    {
     "name": "stdout",
     "output_type": "stream",
     "text": [
      "INFO - Loading environment cache from file\r\n",
      "INFO - Successfully initialized cache\r\n"
     ]
    },
    {
     "name": "stdout",
     "output_type": "stream",
     "text": [
      "INFO - [session-82]  Processing stage LOAD\r\n",
      "INFO - [session-82]  Processing stage BUILD\r\n"
     ]
    },
    {
     "name": "stdout",
     "output_type": "stream",
     "text": [
      "INFO - [session-82]  Processing stage RUN\r\n"
     ]
    },
    {
     "name": "stdout",
     "output_type": "stream",
     "text": [
      "INFO - All runs completed successfuly!\r\n",
      "INFO - Postprocessing session report\r\n",
      "INFO - [session-82] Done processing runs\r\n",
      "INFO - Report:\r\n",
      "   Session  Run   Model Frontend Framework  Backend Platform   Target  Runtime [s]     Features                                             Config Postprocesses Comment\r\n",
      "0       82    0  toycar   tflite       tvm  tvmllvm      tvm  tvm_cpu     0.000049  [benchmark]  {'toycar.output_shapes': {'Identity': [1, 640]...            []       -\r\n"
     ]
    }
   ],
   "source": [
    "!python -m mlonmcu.cli.main flow run toycar -b tvmllvm -t tvm_cpu -f benchmark"
   ]
  },
  {
   "cell_type": "markdown",
   "id": "8fc7aaaf",
   "metadata": {
    "papermill": {
     "duration": 0.005877,
     "end_time": "2023-12-31T14:38:48.670491",
     "exception": false,
     "start_time": "2023-12-31T14:38:48.664614",
     "status": "completed"
    },
    "tags": []
   },
   "source": [
    "Now we enable and configure the tuning as follows:"
   ]
  },
  {
   "cell_type": "code",
   "execution_count": 2,
   "id": "53c89e22",
   "metadata": {
    "execution": {
     "iopub.execute_input": "2023-12-31T14:38:48.681731Z",
     "iopub.status.busy": "2023-12-31T14:38:48.681222Z",
     "iopub.status.idle": "2023-12-31T14:39:40.212210Z",
     "shell.execute_reply": "2023-12-31T14:39:40.210681Z"
    },
    "papermill": {
     "duration": 51.540182,
     "end_time": "2023-12-31T14:39:40.215560",
     "exception": false,
     "start_time": "2023-12-31T14:38:48.675378",
     "status": "completed"
    },
    "tags": []
   },
   "outputs": [
    {
     "name": "stdout",
     "output_type": "stream",
     "text": [
      "INFO - Loading environment cache from file\r\n",
      "INFO - Successfully initialized cache\r\n"
     ]
    },
    {
     "name": "stdout",
     "output_type": "stream",
     "text": [
      "INFO - [session-83]  Processing stage LOAD\r\n",
      "INFO - [session-83]  Processing stage TUNE\r\n"
     ]
    },
    {
     "name": "stdout",
     "output_type": "stream",
     "text": [
      "INFO - [session-83]  Processing stage BUILD\r\n"
     ]
    },
    {
     "name": "stdout",
     "output_type": "stream",
     "text": [
      "INFO - [session-83]  Processing stage RUN\r\n"
     ]
    },
    {
     "name": "stdout",
     "output_type": "stream",
     "text": [
      "INFO - All runs completed successfuly!\r\n",
      "INFO - Postprocessing session report\r\n",
      "INFO - [session-83] Done processing runs\r\n"
     ]
    },
    {
     "name": "stdout",
     "output_type": "stream",
     "text": [
      "INFO - Report:\r\n",
      "   Session  Run   Model Frontend Framework  Backend Platform   Target  Runtime [s]                        Features                                             Config Postprocesses Comment\r\n",
      "0       83    0  toycar   tflite       tvm  tvmllvm      tvm  tvm_cpu     0.000042  [autotuned, autotune, autotvm]  {'toycar.output_shapes': {'Identity': [1, 640]...            []       -\r\n"
     ]
    }
   ],
   "source": [
    "!python -m mlonmcu.cli.main flow run toycar -b tvmllvm -t tvm_cpu \\\n",
    "        -f autotvm -f autotuned -c autotvm.trials=100 -c tvm.print_oututs=1"
   ]
  },
  {
   "cell_type": "markdown",
   "id": "8c567527",
   "metadata": {
    "papermill": {
     "duration": 0.00652,
     "end_time": "2023-12-31T14:39:40.229306",
     "exception": false,
     "start_time": "2023-12-31T14:39:40.222786",
     "status": "completed"
    },
    "tags": []
   },
   "source": [
    "It seems like we alreadu achieve a nice performance improvement. Feel free to have a log at the generated tunig records as well:"
   ]
  },
  {
   "cell_type": "code",
   "execution_count": 3,
   "id": "e0fe3c84",
   "metadata": {
    "execution": {
     "iopub.execute_input": "2023-12-31T14:39:40.240423Z",
     "iopub.status.busy": "2023-12-31T14:39:40.239916Z",
     "iopub.status.idle": "2023-12-31T14:39:41.239302Z",
     "shell.execute_reply": "2023-12-31T14:39:41.237677Z"
    },
    "papermill": {
     "duration": 1.008944,
     "end_time": "2023-12-31T14:39:41.242646",
     "exception": false,
     "start_time": "2023-12-31T14:39:40.233702",
     "status": "completed"
    },
    "tags": []
   },
   "outputs": [
    {
     "name": "stdout",
     "output_type": "stream",
     "text": [
      "INFO - Loading environment cache from file\r\n",
      "INFO - Successfully initialized cache\r\n",
      "Creating directory: /tmp/exported\r\n",
      "Done\r\n"
     ]
    },
    {
     "name": "stdout",
     "output_type": "stream",
     "text": [
      "{\"input\": [\"llvm -keys=cpu \", \"dense_nopack.x86\", [[\"TENSOR\", [1, 640], \"int16\"], [\"TENSOR\", [128, 640], \"int16\"], null, \"int32\"], {}], \"config\": {\"index\": 4, \"code_hash\": null, \"entity\": [[\"tile_y\", \"sp\", [-1, 1]], [\"tile_x\", \"sp\", [-1, 16]], [\"tile_k\", \"sp\", [-1, 1]]]}, \"result\": [[9.491e-06], 0, 0.16207289695739746, 1704033536.352856], \"version\": 0.2, \"tvm_version\": \"0.15.dev0\"}\r\n",
      "{\"input\": [\"llvm -keys=cpu \", \"dense_pack.x86\", [[\"TENSOR\", [1, 640], \"int16\"], [\"TENSOR\", [128, 640], \"int16\"], null, \"int32\"], {}], \"config\": {\"index\": 403, \"code_hash\": null, \"entity\": [[\"tile_y\", \"sp\", [-1, 1, 1]], [\"tile_x\", \"sp\", [-1, 128, 1]], [\"tile_k\", \"sp\", [-1, 80]], [\"tile_inner\", \"sp\", [-1, 1]]]}, \"result\": [[8.63e-06], 0, 0.26470398902893066, 1704033542.6281688], \"version\": 0.2, \"tvm_version\": \"0.15.dev0\"}\r\n",
      "{\"input\": [\"llvm -keys=cpu \", \"dense_nopack.x86\", [[\"TENSOR\", [1, 128], \"int16\"], [\"TENSOR\", [128, 128], \"int16\"], null, \"int32\"], {}], \"config\": {\"index\": 0, \"code_hash\": null, \"entity\": [[\"tile_y\", \"sp\", [-1, 1]], [\"tile_x\", \"sp\", [-1, 1]], [\"tile_k\", \"sp\", [-1, 1]]]}, \"result\": [[3.958e-06], 0, 0.14909601211547852, 1704033545.8656821], \"version\": 0.2, \"tvm_version\": \"0.15.dev0\"}\r\n",
      "{\"input\": [\"llvm -keys=cpu \", \"dense_pack.x86\", [[\"TENSOR\", [1, 128], \"int16\"], [\"TENSOR\", [128, 128], \"int16\"], null, \"int32\"], {}], \"config\": {\"index\": 140, \"code_hash\": null, \"entity\": [[\"tile_y\", \"sp\", [-1, 1, 1]], [\"tile_x\", \"sp\", [-1, 4, 32]], [\"tile_k\", \"sp\", [-1, 8]], [\"tile_inner\", \"sp\", [-1, 1]]]}, \"result\": [[5.766e-06], 0, 0.14207983016967773, 1704033550.8329363], \"version\": 0.2, \"tvm_version\": \"0.15.dev0\"}\r\n",
      "{\"input\": [\"llvm -keys=cpu \", \"dense_nopack.x86\", [[\"TENSOR\", [1, 128], \"int16\"], [\"TENSOR\", [8, 128], \"int16\"], null, \"int32\"], {}], \"config\": {\"index\": 3, \"code_hash\": null, \"entity\": [[\"tile_y\", \"sp\", [-1, 1]], [\"tile_x\", \"sp\", [-1, 8]], [\"tile_k\", \"sp\", [-1, 1]]]}, \"result\": [[3.29e-07], 0, 0.13643622398376465, 1704033553.8559573], \"version\": 0.2, \"tvm_version\": \"0.15.dev0\"}\r\n",
      "{\"input\": [\"llvm -keys=cpu \", \"dense_pack.x86\", [[\"TENSOR\", [1, 128], \"int16\"], [\"TENSOR\", [8, 128], \"int16\"], null, \"int32\"], {}], \"config\": {\"index\": 9, \"code_hash\": null, \"entity\": [[\"tile_y\", \"sp\", [-1, 1, 1]], [\"tile_x\", \"sp\", [-1, 1, 8]], [\"tile_k\", \"sp\", [-1, 1]], [\"tile_inner\", \"sp\", [-1, 1]]]}, \"result\": [[4.1e-07], 0, 0.14078593254089355, 1704033558.2005177], \"version\": 0.2, \"tvm_version\": \"0.15.dev0\"}\r\n",
      "{\"input\": [\"llvm -keys=cpu \", \"dense_nopack.x86\", [[\"TENSOR\", [1, 8], \"int16\"], [\"TENSOR\", [128, 8], \"int16\"], null, \"int32\"], {}], \"config\": {\"index\": 7, \"code_hash\": null, \"entity\": [[\"tile_y\", \"sp\", [-1, 1]], [\"tile_x\", \"sp\", [-1, 128]], [\"tile_k\", \"sp\", [-1, 1]]]}, \"result\": [[1.763e-06], 0, 0.3177762031555176, 1704033561.9872944], \"version\": 0.2, \"tvm_version\": \"0.15.dev0\"}\r\n",
      "{\"input\": [\"llvm -keys=cpu \", \"dense_pack.x86\", [[\"TENSOR\", [1, 8], \"int16\"], [\"TENSOR\", [128, 8], \"int16\"], null, \"int32\"], {}], \"config\": {\"index\": 137, \"code_hash\": null, \"entity\": [[\"tile_y\", \"sp\", [-1, 1, 1]], [\"tile_x\", \"sp\", [-1, 8, 16]], [\"tile_k\", \"sp\", [-1, 8]], [\"tile_inner\", \"sp\", [-1, 1]]]}, \"result\": [[3.32e-07], 0, 0.16176152229309082, 1704033565.3911932], \"version\": 0.2, \"tvm_version\": \"0.15.dev0\"}\r\n",
      "{\"input\": [\"llvm -keys=cpu \", \"dense_nopack.x86\", [[\"TENSOR\", [1, 128], \"int16\"], [\"TENSOR\", [640, 128], \"int16\"], null, \"int32\"], {}], \"config\": {\"index\": 2, \"code_hash\": null, \"entity\": [[\"tile_y\", \"sp\", [-1, 1]], [\"tile_x\", \"sp\", [-1, 4]], [\"tile_k\", \"sp\", [-1, 1]]]}, \"result\": [[6.302e-06], 0, 0.1500537395477295, 1704033568.3612583], \"version\": 0.2, \"tvm_version\": \"0.15.dev0\"}\r\n",
      "{\"input\": [\"llvm -keys=cpu \", \"dense_pack.x86\", [[\"TENSOR\", [1, 128], \"int16\"], [\"TENSOR\", [640, 128], \"int16\"], null, \"int32\"], {}], \"config\": {\"index\": 391, \"code_hash\": null, \"entity\": [[\"tile_y\", \"sp\", [-1, 1, 1]], [\"tile_x\", \"sp\", [-1, 1, 16]], [\"tile_k\", \"sp\", [-1, 8]], [\"tile_inner\", \"sp\", [-1, 1]]]}, \"result\": [[6.394e-06], 0, 0.1504194736480713, 1704033572.3139994], \"version\": 0.2, \"tvm_version\": \"0.15.dev0\"}\r\n"
     ]
    }
   ],
   "source": [
    "!mlonmcu export /tmp/exported --run -f\n",
    "!head /tmp/exported/best_tuning_results.log.txt"
   ]
  },
  {
   "cell_type": "markdown",
   "id": "c9776cd6",
   "metadata": {
    "papermill": {
     "duration": 0.007633,
     "end_time": "2023-12-31T14:39:41.258278",
     "exception": false,
     "start_time": "2023-12-31T14:39:41.250645",
     "status": "completed"
    },
    "tags": []
   },
   "source": [
    "Alternatively we can pass previously generated tuning logs to MLonMCU using `-c autotuned.results_file=/path/to/records.txt`"
   ]
  }
 ],
 "metadata": {
  "kernelspec": {
   "display_name": "Python 3 (ipykernel)",
   "language": "python",
   "name": "python3"
  },
  "language_info": {
   "codemirror_mode": {
    "name": "ipython",
    "version": 3
   },
   "file_extension": ".py",
   "mimetype": "text/x-python",
   "name": "python",
   "nbconvert_exporter": "python",
   "pygments_lexer": "ipython3",
   "version": "3.8.10"
  },
  "papermill": {
   "default_parameters": {},
   "duration": 59.468913,
   "end_time": "2023-12-31T14:39:41.484980",
   "environment_variables": {},
   "exception": null,
   "input_path": "/work/git/mlonmcu/mlonmcu/ipynb/Examples/TuneTVM/TuneTVM.ipynb",
   "output_path": "/work/git/mlonmcu/mlonmcu/ipynb/Examples/TuneTVM/TuneTVM.ipynb",
   "parameters": {},
   "start_time": "2023-12-31T14:38:42.016067",
   "version": "2.5.0"
  }
 },
 "nbformat": 4,
 "nbformat_minor": 5
}
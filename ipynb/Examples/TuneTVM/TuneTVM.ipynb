{
 "cells": [
  {
   "cell_type": "markdown",
   "id": "67a623c3",
   "metadata": {},
   "source": [
    "# Example: Auto-Tuning using TVM Platform"
   ]
  },
  {
   "cell_type": "markdown",
   "id": "1025ee11",
   "metadata": {},
   "source": [
    "Autotuning is a very powerful method to optimize a given model for a specific target. In the following the usage of TVMs tuning feature is explained briefly."
   ]
  },
  {
   "cell_type": "markdown",
   "id": "3f7078e1",
   "metadata": {},
   "source": [
    "*Warning:* This example only covers the TVM platform which should not be confused with the MicroTVM platform. Hence only the `tvm_cpu` (Host) target can be used for demonstartion purposes."
   ]
  },
  {
   "cell_type": "markdown",
   "id": "87fd1387",
   "metadata": {},
   "source": [
    "## Supported components"
   ]
  },
  {
   "cell_type": "markdown",
   "id": "584a911d",
   "metadata": {},
   "source": [
    "**Models:** Any (`toycar` used below)\n",
    "\n",
    "**Frontends:** Any (`tflite` used below)\n",
    "\n",
    "**Frameworks/Backends:** `tvmllvm` backend only\n",
    "\n",
    "**Platforms/Targets:** `tvm_cpu` target only\n",
    "\n",
    "**Features:** `autotune` and `autotuned` feature have to be enabled."
   ]
  },
  {
   "cell_type": "markdown",
   "id": "74ce776e",
   "metadata": {},
   "source": [
    "## Prerequisites"
   ]
  },
  {
   "cell_type": "markdown",
   "id": "18955525",
   "metadata": {},
   "source": [
    "Set up MLonmCU as usual, i.e. initialize an environment and install all required dependencies. Feel free to use the following minimal `environment.yml.j2` template:"
   ]
  },
  {
   "cell_type": "markdown",
   "id": "51eb8539",
   "metadata": {},
   "source": [
    "```yaml\n",
    "---\n",
    "home: \"{{ home_dir }}\"\n",
    "logging:\n",
    "  level: DEBUG\n",
    "  to_file: false\n",
    "  rotate: false\n",
    "cleanup:\n",
    "  auto: true\n",
    "  keep: 10\n",
    "paths:\n",
    "  deps: deps\n",
    "  logs: logs\n",
    "  results: results\n",
    "  plugins: plugins\n",
    "  temp: temp\n",
    "  models:\n",
    "    - \"{{ home_dir }}/models\"\n",
    "    - \"{{ config_dir }}/models\"\n",
    "repos:\n",
    "  tvm:\n",
    "    url: \"https://github.com/apache/tvm.git\"\n",
    "    ref: de6d8067754d746d88262c530b5241b5577b9aae\n",
    "  tvm:\n",
    "    url: \"https://github.com/apache/tvm.git\"\n",
    "    ref: de6d8067754d746d88262c530b5241b5577b9aae\n",
    "frameworks:\n",
    "  default: tvm\n",
    "  tvm:\n",
    "    enabled: true\n",
    "    backends:\n",
    "      default: tvmllvm\n",
    "      tvmllvm:\n",
    "        enabled: true\n",
    "        features:\n",
    "          autotuned: true\n",
    "    features: []\n",
    "frontends:\n",
    "  tflite:\n",
    "    enabled: true\n",
    "    features: []\n",
    "toolchains:\n",
    "  gcc: true\n",
    "platforms:\n",
    "  tvm:\n",
    "    enabled: true\n",
    "    features:\n",
    "      autotune: true\n",
    "targets:\n",
    "  tvm_cpu:\n",
    "    enabled: true\n",
    "```"
   ]
  },
  {
   "cell_type": "markdown",
   "id": "4d140308",
   "metadata": {},
   "source": [
    "Do not forget to set your `MLONMCU_HOME` environment variable first if not using the default location!"
   ]
  },
  {
   "cell_type": "markdown",
   "id": "a3bac781",
   "metadata": {},
   "source": [
    "## Usage"
   ]
  },
  {
   "cell_type": "markdown",
   "id": "1352b362",
   "metadata": {},
   "source": [
    "In addition to the TUNE stage in the MLonMCU flow which is skipped by default are two tuning-related features provided mu MLonMCU:\n",
    "- `autotune`: Use this to enable the `TUNE` stage. Tuning records will be written as an artifact but ignored in later stages.\n",
    "- `autotuned`: If this is enabled provided tuning records/metrics are used by TVM in the `BUILD` stage. If no tuning was executed in the previous stage, it will instead accept tuning logs provided by the user."
   ]
  },
  {
   "cell_type": "markdown",
   "id": "f01b54e2",
   "metadata": {},
   "source": [
    "### A) Command Line Interface"
   ]
  },
  {
   "cell_type": "markdown",
   "id": "2b333851",
   "metadata": {},
   "source": [
    "Let's run a benchmark without tuning first."
   ]
  },
  {
   "cell_type": "code",
   "execution_count": 1,
   "id": "43576c35",
   "metadata": {},
   "outputs": [
    {
     "name": "stdout",
     "output_type": "stream",
     "text": [
      "INFO - Loading environment cache from file\n",
      "INFO - Successfully initialized cache\n",
      "INFO - Loading extensions.py (User)\n",
      "INFO - [session-393]  Processing stage LOAD\n",
      "INFO - [session-393]  Processing stage BUILD\n",
      "INFO - [session-393]  Processing stage RUN\n",
      "INFO - All runs completed successfuly!\n",
      "INFO - Postprocessing session report\n",
      "INFO - [session-393] Done processing runs\n",
      "INFO - Report:\n",
      "   Session  Run   Model Frontend Framework  Backend Platform   Target  Runtime [s] Features                                             Config Postprocesses Comment\n",
      "0      393    0  toycar   tflite       tvm  tvmllvm      tvm  tvm_cpu     0.000128       []  {'tflite.use_inout_data': False, 'tflite.visua...            []       -\n"
     ]
    }
   ],
   "source": [
    "!python -m mlonmcu.cli.main flow run toycar -b tvmllvm -t tvm_cpu"
   ]
  },
  {
   "cell_type": "markdown",
   "id": "8fc7aaaf",
   "metadata": {},
   "source": [
    "Now we enable and configure the tuning as follows:"
   ]
  },
  {
   "cell_type": "code",
   "execution_count": 4,
   "id": "53c89e22",
   "metadata": {},
   "outputs": [
    {
     "name": "stdout",
     "output_type": "stream",
     "text": [
      "INFO - Loading environment cache from file\n",
      "INFO - Successfully initialized cache\n",
      "INFO - Loading extensions.py (User)\n",
      "INFO - [session-396]  Processing stage LOAD\n",
      "INFO - [session-396]  Processing stage TUNE\n",
      "INFO - [session-396]  Processing stage BUILD\n",
      "INFO - [session-396]  Processing stage RUN\n",
      "INFO - All runs completed successfuly!\n",
      "INFO - Postprocessing session report\n",
      "INFO - [session-396] Done processing runs\n",
      "INFO - Report:\n",
      "   Session  Run   Model Frontend Framework  Backend Platform   Target  Runtime [s]               Features                                             Config Postprocesses Comment\n",
      "0      396    0  toycar   tflite       tvm  tvmllvm      tvm  tvm_cpu     0.000078  [autotuned, autotune]  {'tflite.use_inout_data': False, 'tflite.visua...            []       -\n"
     ]
    }
   ],
   "source": [
    "!python -m mlonmcu.cli.main flow run toycar -b tvmllvm -t tvm_cpu \\\n",
    "        -f autotune -f autotuned -c autotune.trials=100 -c tvm.print_oututs=1"
   ]
  },
  {
   "cell_type": "markdown",
   "id": "8c567527",
   "metadata": {},
   "source": [
    "It seems like we alreadu achieve a nice performance improvement. Feel free to have a log at the generated tunig records as well:"
   ]
  },
  {
   "cell_type": "code",
   "execution_count": 8,
   "id": "e0fe3c84",
   "metadata": {},
   "outputs": [
    {
     "name": "stdout",
     "output_type": "stream",
     "text": [
      "INFO - Loading environment cache from file\n",
      "INFO - Successfully initialized cache\n",
      "INFO - Loading extensions.py (User)\n",
      "Creating directory: /tmp/exported\n",
      "Done\n",
      "{\"input\": [\"llvm -keys=cpu \", \"dense_nopack.x86\", [[\"TENSOR\", [1, 640], \"int16\"], [\"TENSOR\", [128, 640], \"int16\"], null, \"int32\"], {}], \"config\": {\"index\": 52, \"code_hash\": null, \"entity\": [[\"tile_y\", \"sp\", [-1, 1]], [\"tile_x\", \"sp\", [-1, 16]], [\"tile_k\", \"sp\", [-1, 16]]]}, \"result\": [[1.6941999999999998e-05], 0, 0.1651315689086914, 1675771354.8624063], \"version\": 0.2, \"tvm_version\": \"0.10.dev0\"}\n",
      "{\"input\": [\"llvm -keys=cpu \", \"dense_pack.x86\", [[\"TENSOR\", [1, 640], \"int16\"], [\"TENSOR\", [128, 640], \"int16\"], null, \"int32\"], {}], \"config\": {\"index\": 411, \"code_hash\": null, \"entity\": [[\"tile_y\", \"sp\", [-1, 1, 1]], [\"tile_x\", \"sp\", [-1, 1, 4]], [\"tile_k\", \"sp\", [-1, 80]], [\"tile_inner\", \"sp\", [-1, 1]]]}, \"result\": [[1.0921000000000001e-05], 0, 0.28124165534973145, 1675771365.984978], \"version\": 0.2, \"tvm_version\": \"0.10.dev0\"}\n",
      "{\"input\": [\"llvm -keys=cpu \", \"dense_nopack.x86\", [[\"TENSOR\", [1, 128], \"int16\"], [\"TENSOR\", [128, 128], \"int16\"], null, \"int32\"], {}], \"config\": {\"index\": 23, \"code_hash\": null, \"entity\": [[\"tile_y\", \"sp\", [-1, 1]], [\"tile_x\", \"sp\", [-1, 128]], [\"tile_k\", \"sp\", [-1, 4]]]}, \"result\": [[1.0284e-05], 0, 0.3470273017883301, 1675771371.0730503], \"version\": 0.2, \"tvm_version\": \"0.10.dev0\"}\n",
      "{\"input\": [\"llvm -keys=cpu \", \"dense_pack.x86\", [[\"TENSOR\", [1, 128], \"int16\"], [\"TENSOR\", [128, 128], \"int16\"], null, \"int32\"], {}], \"config\": {\"index\": 92, \"code_hash\": null, \"entity\": [[\"tile_y\", \"sp\", [-1, 1, 1]], [\"tile_x\", \"sp\", [-1, 32, 4]], [\"tile_k\", \"sp\", [-1, 4]], [\"tile_inner\", \"sp\", [-1, 1]]]}, \"result\": [[9.201e-06], 0, 0.13353586196899414, 1675771374.2261133], \"version\": 0.2, \"tvm_version\": \"0.10.dev0\"}\n",
      "{\"input\": [\"llvm -keys=cpu \", \"dense_nopack.x86\", [[\"TENSOR\", [1, 128], \"int16\"], [\"TENSOR\", [8, 128], \"int16\"], null, \"int32\"], {}], \"config\": {\"index\": 3, \"code_hash\": null, \"entity\": [[\"tile_y\", \"sp\", [-1, 1]], [\"tile_x\", \"sp\", [-1, 8]], [\"tile_k\", \"sp\", [-1, 1]]]}, \"result\": [[9e-07], 0, 0.12459731101989746, 1675771377.9125113], \"version\": 0.2, \"tvm_version\": \"0.10.dev0\"}\n",
      "{\"input\": [\"llvm -keys=cpu \", \"dense_pack.x86\", [[\"TENSOR\", [1, 128], \"int16\"], [\"TENSOR\", [8, 128], \"int16\"], null, \"int32\"], {}], \"config\": {\"index\": 69, \"code_hash\": null, \"entity\": [[\"tile_y\", \"sp\", [-1, 1, 1]], [\"tile_x\", \"sp\", [-1, 1, 8]], [\"tile_k\", \"sp\", [-1, 64]], [\"tile_inner\", \"sp\", [-1, 1]]]}, \"result\": [[1.0549999999999999e-06], 0, 0.22821688652038574, 1675771382.3138196], \"version\": 0.2, \"tvm_version\": \"0.10.dev0\"}\n",
      "{\"input\": [\"llvm -keys=cpu \", \"dense_nopack.x86\", [[\"TENSOR\", [1, 8], \"int16\"], [\"TENSOR\", [128, 8], \"int16\"], null, \"int32\"], {}], \"config\": {\"index\": 7, \"code_hash\": null, \"entity\": [[\"tile_y\", \"sp\", [-1, 1]], [\"tile_x\", \"sp\", [-1, 128]], [\"tile_k\", \"sp\", [-1, 1]]]}, \"result\": [[2.1779999999999997e-06], 0, 0.2796163558959961, 1675771384.5525353], \"version\": 0.2, \"tvm_version\": \"0.10.dev0\"}\n",
      "{\"input\": [\"llvm -keys=cpu \", \"dense_pack.x86\", [[\"TENSOR\", [1, 8], \"int16\"], [\"TENSOR\", [128, 8], \"int16\"], null, \"int32\"], {}], \"config\": {\"index\": 101, \"code_hash\": null, \"entity\": [[\"tile_y\", \"sp\", [-1, 1, 1]], [\"tile_x\", \"sp\", [-1, 8, 16]], [\"tile_k\", \"sp\", [-1, 4]], [\"tile_inner\", \"sp\", [-1, 1]]]}, \"result\": [[9.78e-07], 0, 0.1485140323638916, 1675771389.7905526], \"version\": 0.2, \"tvm_version\": \"0.10.dev0\"}\n",
      "{\"input\": [\"llvm -keys=cpu \", \"dense_nopack.x86\", [[\"TENSOR\", [1, 128], \"int16\"], [\"TENSOR\", [640, 128], \"int16\"], null, \"int32\"], {}], \"config\": {\"index\": 39, \"code_hash\": null, \"entity\": [[\"tile_y\", \"sp\", [-1, 1]], [\"tile_x\", \"sp\", [-1, 20]], [\"tile_k\", \"sp\", [-1, 4]]]}, \"result\": [[1.0246e-05], 0, 0.22946643829345703, 1675771402.6466146], \"version\": 0.2, \"tvm_version\": \"0.10.dev0\"}\n",
      "{\"input\": [\"llvm -keys=cpu \", \"dense_pack.x86\", [[\"TENSOR\", [1, 128], \"int16\"], [\"TENSOR\", [640, 128], \"int16\"], null, \"int32\"], {}], \"config\": {\"index\": 268, \"code_hash\": null, \"entity\": [[\"tile_y\", \"sp\", [-1, 1, 1]], [\"tile_x\", \"sp\", [-1, 4, 8]], [\"tile_k\", \"sp\", [-1, 4]], [\"tile_inner\", \"sp\", [-1, 1]]]}, \"result\": [[1.3007e-05], 0, 0.16699838638305664, 1675771407.4997673], \"version\": 0.2, \"tvm_version\": \"0.10.dev0\"}\n"
     ]
    }
   ],
   "source": [
    "!mlonmcu export /tmp/exported --run -f\n",
    "!head /tmp/exported/best_tuning_results.log.txt"
   ]
  },
  {
   "cell_type": "markdown",
   "id": "c9776cd6",
   "metadata": {},
   "source": [
    "Alternatively we can pass previously generated tuning logs to MLonMCU using `-c autotuned.results_file=/path/to/records.txt`"
   ]
  }
 ],
 "metadata": {
  "kernelspec": {
   "display_name": "Python 3 (ipykernel)",
   "language": "python",
   "name": "python3"
  },
  "language_info": {
   "codemirror_mode": {
    "name": "ipython",
    "version": 3
   },
   "file_extension": ".py",
   "mimetype": "text/x-python",
   "name": "python",
   "nbconvert_exporter": "python",
   "pygments_lexer": "ipython3",
   "version": "3.8.10"
  }
 },
 "nbformat": 4,
 "nbformat_minor": 5
}

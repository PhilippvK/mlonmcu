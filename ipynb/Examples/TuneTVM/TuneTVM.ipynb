{
 "cells": [
  {
   "cell_type": "markdown",
   "id": "67a623c3",
   "metadata": {
    "papermill": {
     "duration": 0.003536,
     "end_time": "2023-12-31T23:08:14.230410",
     "exception": false,
     "start_time": "2023-12-31T23:08:14.226874",
     "status": "completed"
    },
    "tags": []
   },
   "source": [
    "# Example: Auto-Tuning using TVM Platform"
   ]
  },
  {
   "cell_type": "markdown",
   "id": "1025ee11",
   "metadata": {
    "papermill": {
     "duration": 0.002413,
     "end_time": "2023-12-31T23:08:14.235559",
     "exception": false,
     "start_time": "2023-12-31T23:08:14.233146",
     "status": "completed"
    },
    "tags": []
   },
   "source": [
    "Autotuning is a very powerful method to optimize a given model for a specific target. In the following the usage of TVMs tuning feature is explained briefly."
   ]
  },
  {
   "cell_type": "markdown",
   "id": "3f7078e1",
   "metadata": {
    "papermill": {
     "duration": 0.002361,
     "end_time": "2023-12-31T23:08:14.240363",
     "exception": false,
     "start_time": "2023-12-31T23:08:14.238002",
     "status": "completed"
    },
    "tags": []
   },
   "source": [
    "*Warning:* This example only covers the TVM platform which should not be confused with the MicroTVM platform. Hence only the `tvm_cpu` (Host) target can be used for demonstartion purposes."
   ]
  },
  {
   "cell_type": "markdown",
   "id": "87fd1387",
   "metadata": {
    "papermill": {
     "duration": 0.002354,
     "end_time": "2023-12-31T23:08:14.245157",
     "exception": false,
     "start_time": "2023-12-31T23:08:14.242803",
     "status": "completed"
    },
    "tags": []
   },
   "source": [
    "## Supported components"
   ]
  },
  {
   "cell_type": "markdown",
   "id": "584a911d",
   "metadata": {
    "papermill": {
     "duration": 0.00236,
     "end_time": "2023-12-31T23:08:14.249938",
     "exception": false,
     "start_time": "2023-12-31T23:08:14.247578",
     "status": "completed"
    },
    "tags": []
   },
   "source": [
    "**Models:** Any (`toycar` used below)\n",
    "\n",
    "**Frontends:** Any (`tflite` used below)\n",
    "\n",
    "**Frameworks/Backends:** `tvmllvm` backend only\n",
    "\n",
    "**Platforms/Targets:** `tvm_cpu` target only\n",
    "\n",
    "**Features:** `autotune` and `autotuned` feature have to be enabled."
   ]
  },
  {
   "cell_type": "markdown",
   "id": "74ce776e",
   "metadata": {
    "papermill": {
     "duration": 0.002393,
     "end_time": "2023-12-31T23:08:14.255704",
     "exception": false,
     "start_time": "2023-12-31T23:08:14.253311",
     "status": "completed"
    },
    "tags": []
   },
   "source": [
    "## Prerequisites"
   ]
  },
  {
   "cell_type": "markdown",
   "id": "18955525",
   "metadata": {
    "papermill": {
     "duration": 0.002364,
     "end_time": "2023-12-31T23:08:14.260472",
     "exception": false,
     "start_time": "2023-12-31T23:08:14.258108",
     "status": "completed"
    },
    "tags": []
   },
   "source": [
    "Set up MLonmCU as usual, i.e. initialize an environment and install all required dependencies. Feel free to use the following minimal `environment.yml.j2` template:"
   ]
  },
  {
   "cell_type": "markdown",
   "id": "51eb8539",
   "metadata": {
    "papermill": {
     "duration": 0.002325,
     "end_time": "2023-12-31T23:08:14.265282",
     "exception": false,
     "start_time": "2023-12-31T23:08:14.262957",
     "status": "completed"
    },
    "tags": []
   },
   "source": [
    "```yaml\n",
    "---\n",
    "home: \"{{ home_dir }}\"\n",
    "logging:\n",
    "  level: DEBUG\n",
    "  to_file: false\n",
    "  rotate: false\n",
    "cleanup:\n",
    "  auto: true\n",
    "  keep: 10\n",
    "paths:\n",
    "  deps: deps\n",
    "  logs: logs\n",
    "  results: results\n",
    "  plugins: plugins\n",
    "  temp: temp\n",
    "  models:\n",
    "    - \"{{ home_dir }}/models\"\n",
    "    - \"{{ config_dir }}/models\"\n",
    "repos:\n",
    "  tvm:\n",
    "    url: \"https://github.com/apache/tvm.git\"\n",
    "    ref: de6d8067754d746d88262c530b5241b5577b9aae\n",
    "  tvm:\n",
    "    url: \"https://github.com/apache/tvm.git\"\n",
    "    ref: de6d8067754d746d88262c530b5241b5577b9aae\n",
    "frameworks:\n",
    "  default: tvm\n",
    "  tvm:\n",
    "    enabled: true\n",
    "    backends:\n",
    "      default: tvmllvm\n",
    "      tvmllvm:\n",
    "        enabled: true\n",
    "        features:\n",
    "          autotuned: true\n",
    "    features: []\n",
    "frontends:\n",
    "  tflite:\n",
    "    enabled: true\n",
    "    features: []\n",
    "toolchains:\n",
    "  gcc: true\n",
    "platforms:\n",
    "  tvm:\n",
    "    enabled: true\n",
    "    features:\n",
    "      autotune: true\n",
    "targets:\n",
    "  tvm_cpu:\n",
    "    enabled: true\n",
    "```"
   ]
  },
  {
   "cell_type": "markdown",
   "id": "4d140308",
   "metadata": {
    "papermill": {
     "duration": 0.002367,
     "end_time": "2023-12-31T23:08:14.270039",
     "exception": false,
     "start_time": "2023-12-31T23:08:14.267672",
     "status": "completed"
    },
    "tags": []
   },
   "source": [
    "Do not forget to set your `MLONMCU_HOME` environment variable first if not using the default location!"
   ]
  },
  {
   "cell_type": "markdown",
   "id": "a3bac781",
   "metadata": {
    "papermill": {
     "duration": 0.002415,
     "end_time": "2023-12-31T23:08:14.274827",
     "exception": false,
     "start_time": "2023-12-31T23:08:14.272412",
     "status": "completed"
    },
    "tags": []
   },
   "source": [
    "## Usage"
   ]
  },
  {
   "cell_type": "markdown",
   "id": "1352b362",
   "metadata": {
    "papermill": {
     "duration": 0.002401,
     "end_time": "2023-12-31T23:08:14.279585",
     "exception": false,
     "start_time": "2023-12-31T23:08:14.277184",
     "status": "completed"
    },
    "tags": []
   },
   "source": [
    "In addition to the TUNE stage in the MLonMCU flow which is skipped by default are two tuning-related features provided mu MLonMCU:\n",
    "- `autotune`: Use this to enable the `TUNE` stage. Tuning records will be written as an artifact but ignored in later stages.\n",
    "- `autotuned`: If this is enabled provided tuning records/metrics are used by TVM in the `BUILD` stage. If no tuning was executed in the previous stage, it will instead accept tuning logs provided by the user."
   ]
  },
  {
   "cell_type": "markdown",
   "id": "f01b54e2",
   "metadata": {
    "papermill": {
     "duration": 0.002347,
     "end_time": "2023-12-31T23:08:14.284347",
     "exception": false,
     "start_time": "2023-12-31T23:08:14.282000",
     "status": "completed"
    },
    "tags": []
   },
   "source": [
    "### A) Command Line Interface"
   ]
  },
  {
   "cell_type": "markdown",
   "id": "2b333851",
   "metadata": {
    "papermill": {
     "duration": 0.002333,
     "end_time": "2023-12-31T23:08:14.289158",
     "exception": false,
     "start_time": "2023-12-31T23:08:14.286825",
     "status": "completed"
    },
    "tags": []
   },
   "source": [
    "Let's run a benchmark without tuning first."
   ]
  },
  {
   "cell_type": "code",
   "execution_count": 1,
   "id": "43576c35",
   "metadata": {
    "execution": {
     "iopub.execute_input": "2023-12-31T23:08:14.295491Z",
     "iopub.status.busy": "2023-12-31T23:08:14.294966Z",
     "iopub.status.idle": "2023-12-31T23:08:22.608193Z",
     "shell.execute_reply": "2023-12-31T23:08:22.607505Z"
    },
    "papermill": {
     "duration": 8.318388,
     "end_time": "2023-12-31T23:08:22.609944",
     "exception": false,
     "start_time": "2023-12-31T23:08:14.291556",
     "status": "completed"
    },
    "tags": []
   },
   "outputs": [
    {
     "name": "stdout",
     "output_type": "stream",
     "text": [
      "INFO - Loading environment cache from file\r\n",
      "INFO - Successfully initialized cache\r\n"
     ]
    },
    {
     "name": "stdout",
     "output_type": "stream",
     "text": [
      "INFO -  Processing stage LOAD\r\n"
     ]
    },
    {
     "name": "stdout",
     "output_type": "stream",
     "text": [
      "INFO -  Processing stage BUILD\r\n"
     ]
    },
    {
     "name": "stdout",
     "output_type": "stream",
     "text": [
      "INFO -  Processing stage RUN\r\n"
     ]
    },
    {
     "name": "stdout",
     "output_type": "stream",
     "text": [
      "INFO - All runs completed successfuly!\r\n",
      "INFO - Postprocessing session report\r\n",
      "INFO - Done processing runs\r\n",
      "INFO - Report:\r\n",
      "   Session  Run   Model Frontend Framework  Backend Platform   Target  Runtime [s]     Features                                             Config Postprocesses Comment\r\n",
      "0        0    0  toycar   tflite       tvm  tvmllvm      tvm  tvm_cpu     0.000097  [benchmark]  {'toycar.output_shapes': {'Identity': [1, 640]...            []       -\r\n"
     ]
    }
   ],
   "source": [
    "!python -m mlonmcu.cli.main flow run toycar -b tvmllvm -t tvm_cpu -f benchmark"
   ]
  },
  {
   "cell_type": "markdown",
   "id": "8fc7aaaf",
   "metadata": {
    "papermill": {
     "duration": 0.002767,
     "end_time": "2023-12-31T23:08:22.616030",
     "exception": false,
     "start_time": "2023-12-31T23:08:22.613263",
     "status": "completed"
    },
    "tags": []
   },
   "source": [
    "Now we enable and configure the tuning as follows:"
   ]
  },
  {
   "cell_type": "code",
   "execution_count": 2,
   "id": "53c89e22",
   "metadata": {
    "execution": {
     "iopub.execute_input": "2023-12-31T23:08:22.625322Z",
     "iopub.status.busy": "2023-12-31T23:08:22.624895Z",
     "iopub.status.idle": "2023-12-31T23:09:29.728670Z",
     "shell.execute_reply": "2023-12-31T23:09:29.727857Z"
    },
    "papermill": {
     "duration": 67.11152,
     "end_time": "2023-12-31T23:09:29.730246",
     "exception": false,
     "start_time": "2023-12-31T23:08:22.618726",
     "status": "completed"
    },
    "tags": []
   },
   "outputs": [
    {
     "name": "stdout",
     "output_type": "stream",
     "text": [
      "INFO - Loading environment cache from file\r\n",
      "INFO - Successfully initialized cache\r\n"
     ]
    },
    {
     "name": "stdout",
     "output_type": "stream",
     "text": [
      "INFO - [session-1]  Processing stage LOAD\r\n"
     ]
    },
    {
     "name": "stdout",
     "output_type": "stream",
     "text": [
      "INFO - [session-1]  Processing stage TUNE\r\n"
     ]
    },
    {
     "name": "stdout",
     "output_type": "stream",
     "text": [
      "INFO - [session-1]  Processing stage BUILD\r\n"
     ]
    },
    {
     "name": "stdout",
     "output_type": "stream",
     "text": [
      "INFO - [session-1]  Processing stage RUN\r\n"
     ]
    },
    {
     "name": "stdout",
     "output_type": "stream",
     "text": [
      "INFO - All runs completed successfuly!\r\n",
      "INFO - Postprocessing session report\r\n",
      "INFO - [session-1] Done processing runs\r\n",
      "INFO - Report:\r\n",
      "   Session  Run   Model Frontend Framework  Backend Platform   Target  Runtime [s]                        Features                                             Config Postprocesses Comment\r\n",
      "0        1    0  toycar   tflite       tvm  tvmllvm      tvm  tvm_cpu     0.000022  [autotvm, autotune, autotuned]  {'toycar.output_shapes': {'Identity': [1, 640]...            []       -\r\n"
     ]
    }
   ],
   "source": [
    "!python -m mlonmcu.cli.main flow run toycar -b tvmllvm -t tvm_cpu \\\n",
    "        -f autotvm -f autotuned -c autotvm.trials=100 -c tvm.print_oututs=1"
   ]
  },
  {
   "cell_type": "markdown",
   "id": "8c567527",
   "metadata": {
    "papermill": {
     "duration": 0.002976,
     "end_time": "2023-12-31T23:09:29.736575",
     "exception": false,
     "start_time": "2023-12-31T23:09:29.733599",
     "status": "completed"
    },
    "tags": []
   },
   "source": [
    "It seems like we alreadu achieve a nice performance improvement. Feel free to have a log at the generated tunig records as well:"
   ]
  },
  {
   "cell_type": "code",
   "execution_count": 3,
   "id": "e0fe3c84",
   "metadata": {
    "execution": {
     "iopub.execute_input": "2023-12-31T23:09:29.743661Z",
     "iopub.status.busy": "2023-12-31T23:09:29.743253Z",
     "iopub.status.idle": "2023-12-31T23:09:30.781408Z",
     "shell.execute_reply": "2023-12-31T23:09:30.780561Z"
    },
    "papermill": {
     "duration": 1.044076,
     "end_time": "2023-12-31T23:09:30.783557",
     "exception": false,
     "start_time": "2023-12-31T23:09:29.739481",
     "status": "completed"
    },
    "tags": []
   },
   "outputs": [
    {
     "name": "stdout",
     "output_type": "stream",
     "text": [
      "INFO - Loading environment cache from file\r\n",
      "INFO - Successfully initialized cache\r\n",
      "Creating directory: /tmp/exported\r\n",
      "Done\r\n"
     ]
    },
    {
     "name": "stdout",
     "output_type": "stream",
     "text": [
      "{\"input\": [\"llvm -keys=cpu \", \"dense_nopack.x86\", [[\"TENSOR\", [1, 640], \"int16\"], [\"TENSOR\", [128, 640], \"int16\"], null, \"int32\"], {}], \"config\": {\"index\": 19, \"code_hash\": null, \"entity\": [[\"tile_y\", \"sp\", [-1, 1]], [\"tile_x\", \"sp\", [-1, 8]], [\"tile_k\", \"sp\", [-1, 4]]]}, \"result\": [[1.5308e-05], 0, 0.20173263549804688, 1704064114.150765], \"version\": 0.2, \"tvm_version\": \"0.15.dev0\"}\r\n",
      "{\"input\": [\"llvm -keys=cpu \", \"dense_pack.x86\", [[\"TENSOR\", [1, 640], \"int16\"], [\"TENSOR\", [128, 640], \"int16\"], null, \"int32\"], {}], \"config\": {\"index\": 142, \"code_hash\": null, \"entity\": [[\"tile_y\", \"sp\", [-1, 1, 1]], [\"tile_x\", \"sp\", [-1, 2, 64]], [\"tile_k\", \"sp\", [-1, 5]], [\"tile_inner\", \"sp\", [-1, 1]]]}, \"result\": [[6.862e-06], 0, 0.26352810859680176, 1704064118.802076], \"version\": 0.2, \"tvm_version\": \"0.15.dev0\"}\r\n",
      "{\"input\": [\"llvm -keys=cpu \", \"dense_nopack.x86\", [[\"TENSOR\", [1, 128], \"int16\"], [\"TENSOR\", [128, 128], \"int16\"], null, \"int32\"], {}], \"config\": {\"index\": 15, \"code_hash\": null, \"entity\": [[\"tile_y\", \"sp\", [-1, 1]], [\"tile_x\", \"sp\", [-1, 128]], [\"tile_k\", \"sp\", [-1, 2]]]}, \"result\": [[5.5909999999999995e-06], 0, 0.4011971950531006, 1704064125.082036], \"version\": 0.2, \"tvm_version\": \"0.15.dev0\"}\r\n",
      "{\"input\": [\"llvm -keys=cpu \", \"dense_pack.x86\", [[\"TENSOR\", [1, 128], \"int16\"], [\"TENSOR\", [128, 128], \"int16\"], null, \"int32\"], {}], \"config\": {\"index\": 151, \"code_hash\": null, \"entity\": [[\"tile_y\", \"sp\", [-1, 1, 1]], [\"tile_x\", \"sp\", [-1, 128, 1]], [\"tile_k\", \"sp\", [-1, 16]], [\"tile_inner\", \"sp\", [-1, 1]]]}, \"result\": [[9.62e-07], 0, 0.20409321784973145, 1704064130.1169643], \"version\": 0.2, \"tvm_version\": \"0.15.dev0\"}\r\n",
      "{\"input\": [\"llvm -keys=cpu \", \"dense_nopack.x86\", [[\"TENSOR\", [1, 128], \"int16\"], [\"TENSOR\", [8, 128], \"int16\"], null, \"int32\"], {}], \"config\": {\"index\": 3, \"code_hash\": null, \"entity\": [[\"tile_y\", \"sp\", [-1, 1]], [\"tile_x\", \"sp\", [-1, 8]], [\"tile_k\", \"sp\", [-1, 1]]]}, \"result\": [[3.41e-07], 0, 0.22774147987365723, 1704064133.6290796], \"version\": 0.2, \"tvm_version\": \"0.15.dev0\"}\r\n",
      "{\"input\": [\"llvm -keys=cpu \", \"dense_pack.x86\", [[\"TENSOR\", [1, 128], \"int16\"], [\"TENSOR\", [8, 128], \"int16\"], null, \"int32\"], {}], \"config\": {\"index\": 3, \"code_hash\": null, \"entity\": [[\"tile_y\", \"sp\", [-1, 1, 1]], [\"tile_x\", \"sp\", [-1, 8, 1]], [\"tile_k\", \"sp\", [-1, 1]], [\"tile_inner\", \"sp\", [-1, 1]]]}, \"result\": [[3e-07], 0, 0.2915177345275879, 1704064138.5359488], \"version\": 0.2, \"tvm_version\": \"0.15.dev0\"}\r\n",
      "{\"input\": [\"llvm -keys=cpu \", \"dense_nopack.x86\", [[\"TENSOR\", [1, 8], \"int16\"], [\"TENSOR\", [128, 8], \"int16\"], null, \"int32\"], {}], \"config\": {\"index\": 7, \"code_hash\": null, \"entity\": [[\"tile_y\", \"sp\", [-1, 1]], [\"tile_x\", \"sp\", [-1, 128]], [\"tile_k\", \"sp\", [-1, 1]]]}, \"result\": [[4.9e-07], 0, 0.41204380989074707, 1704064144.6180966], \"version\": 0.2, \"tvm_version\": \"0.15.dev0\"}\r\n",
      "{\"input\": [\"llvm -keys=cpu \", \"dense_pack.x86\", [[\"TENSOR\", [1, 8], \"int16\"], [\"TENSOR\", [128, 8], \"int16\"], null, \"int32\"], {}], \"config\": {\"index\": 7, \"code_hash\": null, \"entity\": [[\"tile_y\", \"sp\", [-1, 1, 1]], [\"tile_x\", \"sp\", [-1, 128, 1]], [\"tile_k\", \"sp\", [-1, 1]], [\"tile_inner\", \"sp\", [-1, 1]]]}, \"result\": [[5.81e-07], 0, 0.2273266315460205, 1704064149.3205578], \"version\": 0.2, \"tvm_version\": \"0.15.dev0\"}\r\n",
      "{\"input\": [\"llvm -keys=cpu \", \"dense_nopack.x86\", [[\"TENSOR\", [1, 128], \"int16\"], [\"TENSOR\", [640, 128], \"int16\"], null, \"int32\"], {}], \"config\": {\"index\": 0, \"code_hash\": null, \"entity\": [[\"tile_y\", \"sp\", [-1, 1]], [\"tile_x\", \"sp\", [-1, 1]], [\"tile_k\", \"sp\", [-1, 1]]]}, \"result\": [[1.4226e-05], 0, 0.2406466007232666, 1704064152.735318], \"version\": 0.2, \"tvm_version\": \"0.15.dev0\"}\r\n",
      "{\"input\": [\"llvm -keys=cpu \", \"dense_pack.x86\", [[\"TENSOR\", [1, 128], \"int16\"], [\"TENSOR\", [640, 128], \"int16\"], null, \"int32\"], {}], \"config\": {\"index\": 398, \"code_hash\": null, \"entity\": [[\"tile_y\", \"sp\", [-1, 1, 1]], [\"tile_x\", \"sp\", [-1, 40, 16]], [\"tile_k\", \"sp\", [-1, 8]], [\"tile_inner\", \"sp\", [-1, 1]]]}, \"result\": [[7.5040000000000005e-06], 0, 0.23308968544006348, 1704064161.6193497], \"version\": 0.2, \"tvm_version\": \"0.15.dev0\"}\r\n"
     ]
    }
   ],
   "source": [
    "!mlonmcu export /tmp/exported --run -f\n",
    "!head /tmp/exported/best_tuning_results.log.txt"
   ]
  },
  {
   "cell_type": "markdown",
   "id": "c9776cd6",
   "metadata": {
    "papermill": {
     "duration": 0.003104,
     "end_time": "2023-12-31T23:09:30.790323",
     "exception": false,
     "start_time": "2023-12-31T23:09:30.787219",
     "status": "completed"
    },
    "tags": []
   },
   "source": [
    "Alternatively we can pass previously generated tuning logs to MLonMCU using `-c autotuned.results_file=/path/to/records.txt`"
   ]
  }
 ],
 "metadata": {
  "kernelspec": {
   "display_name": "Python 3 (ipykernel)",
   "language": "python",
   "name": "python3"
  },
  "language_info": {
   "codemirror_mode": {
    "name": "ipython",
    "version": 3
   },
   "file_extension": ".py",
   "mimetype": "text/x-python",
   "name": "python",
   "nbconvert_exporter": "python",
   "pygments_lexer": "ipython3",
   "version": "3.8.18"
  },
  "papermill": {
   "default_parameters": {},
   "duration": 77.984834,
   "end_time": "2023-12-31T23:09:30.911012",
   "environment_variables": {},
   "exception": null,
   "input_path": "/home/runner/work/mlonmcu/mlonmcu/ipynb/Examples/TuneTVM/TuneTVM.ipynb",
   "output_path": "/home/runner/work/mlonmcu/mlonmcu/ipynb/Examples/TuneTVM/TuneTVM.ipynb",
   "parameters": {},
   "start_time": "2023-12-31T23:08:12.926178",
   "version": "2.5.0"
  }
 },
 "nbformat": 4,
 "nbformat_minor": 5
}
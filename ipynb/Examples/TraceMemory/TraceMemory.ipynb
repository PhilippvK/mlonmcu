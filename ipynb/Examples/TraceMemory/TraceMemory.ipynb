{
 "cells": [
  {
   "cell_type": "markdown",
   "id": "14924c07",
   "metadata": {
    "tags": [
     "papermill-error-cell-tag"
    ]
   },
   "source": [
    "<span style=\"color:red; font-family:Helvetica Neue, Helvetica, Arial, sans-serif; font-size:2em;\">An Exception was encountered at '<a href=\"#papermill-error-cell\">In [5]</a>'.</span>"
   ]
  },
  {
   "cell_type": "markdown",
   "id": "67a623c3",
   "metadata": {
    "papermill": {
     "duration": 0.007597,
     "end_time": "2023-12-31T14:22:31.299044",
     "exception": false,
     "start_time": "2023-12-31T14:22:31.291447",
     "status": "completed"
    },
    "tags": []
   },
   "source": [
    "# Example: Memory Tracing for detailed dyn. Memory Estimations using ETISS"
   ]
  },
  {
   "cell_type": "markdown",
   "id": "1025ee11",
   "metadata": {
    "papermill": {
     "duration": 0.003027,
     "end_time": "2023-12-31T14:22:31.309521",
     "exception": false,
     "start_time": "2023-12-31T14:22:31.306494",
     "status": "completed"
    },
    "tags": []
   },
   "source": [
    "When measuring RAM usage of a program we can differentiate between two different classes:\n",
    "- Static RAM usage (known after compilation/linking)\n",
    "- Dynamic RAM usage (e.g. max. Heap/Stack utilization)\n",
    "\n",
    "In the following an example is shown on how to use the `trace` feature of the `etiss_pulpino` target to measure the dynamic RAM usage in addition to the static usage for a simple benchmark."
   ]
  },
  {
   "cell_type": "markdown",
   "id": "87fd1387",
   "metadata": {
    "papermill": {
     "duration": 0.002713,
     "end_time": "2023-12-31T14:22:31.315354",
     "exception": false,
     "start_time": "2023-12-31T14:22:31.312641",
     "status": "completed"
    },
    "tags": []
   },
   "source": [
    "## Supported components"
   ]
  },
  {
   "cell_type": "markdown",
   "id": "584a911d",
   "metadata": {
    "papermill": {
     "duration": 0.00257,
     "end_time": "2023-12-31T14:22:31.320525",
     "exception": false,
     "start_time": "2023-12-31T14:22:31.317955",
     "status": "completed"
    },
    "tags": []
   },
   "source": [
    "**Models:** Any (`sine_model` used below)\n",
    "\n",
    "**Frontends:** Any (`tflite` used below)\n",
    "\n",
    "**Frameworks/Backends:** Any (`tvmaotplus` and `tvmrt` used below)\n",
    "\n",
    "**Platforms/Targets:** `etiss_pulpino` only (`spike`, `ovpsim`, `gvsoc` will be added later)\n",
    "\n",
    "**Features:** `trace` feature needs to be enabled"
   ]
  },
  {
   "cell_type": "markdown",
   "id": "74ce776e",
   "metadata": {
    "papermill": {
     "duration": 0.00213,
     "end_time": "2023-12-31T14:22:31.325321",
     "exception": false,
     "start_time": "2023-12-31T14:22:31.323191",
     "status": "completed"
    },
    "tags": []
   },
   "source": [
    "## Prerequisites"
   ]
  },
  {
   "cell_type": "markdown",
   "id": "18955525",
   "metadata": {
    "papermill": {
     "duration": 0.001873,
     "end_time": "2023-12-31T14:22:31.329090",
     "exception": false,
     "start_time": "2023-12-31T14:22:31.327217",
     "status": "completed"
    },
    "tags": []
   },
   "source": [
    "Set up MLonmCU as usual, i.e. initialize an environment and install all required dependencies. Feel free to use the following minimal `environment.yml.j2` template:"
   ]
  },
  {
   "cell_type": "markdown",
   "id": "51eb8539",
   "metadata": {
    "papermill": {
     "duration": 0.001846,
     "end_time": "2023-12-31T14:22:31.332865",
     "exception": false,
     "start_time": "2023-12-31T14:22:31.331019",
     "status": "completed"
    },
    "tags": []
   },
   "source": [
    "```yaml\n",
    "---\n",
    "home: \"{{ home_dir }}\"\n",
    "logging:\n",
    "  level: DEBUG\n",
    "  to_file: false\n",
    "  rotate: false\n",
    "cleanup:\n",
    "  auto: true\n",
    "  keep: 10\n",
    "paths:\n",
    "  deps: deps\n",
    "  logs: logs\n",
    "  results: results\n",
    "  plugins: plugins\n",
    "  temp: temp\n",
    "  models:\n",
    "    - \"{{ home_dir }}/models\"\n",
    "    - \"{{ config_dir }}/models\"\n",
    "repos:\n",
    "  tvm:\n",
    "    url: \"https://github.com/apache/tvm.git\"\n",
    "    ref: de6d8067754d746d88262c530b5241b5577b9aae\n",
    "  etiss:\n",
    "    url: \"https://github.com/tum-ei-eda/etiss.git\"\n",
    "    ref: 4d2d26fb1fdb17e1da3a397c35d6f8877bf3ceab\n",
    "  mlif:\n",
    "    url: \"https://github.com/tum-ei-eda/mlonmcu-sw.git\"\n",
    "    ref: 4b9a32659f7c5340e8de26a0b8c4135ca67d64ac\n",
    "frameworks:\n",
    "  default: tvm\n",
    "  tvm:\n",
    "    enabled: true\n",
    "    backends:\n",
    "      default: tvmaotplus\n",
    "      tvmaotplus:\n",
    "        enabled: true\n",
    "        features: []\n",
    "      tvmrt:\n",
    "        enabled: true\n",
    "        features: []\n",
    "    features: []\n",
    "frontends:\n",
    "  tflite:\n",
    "    enabled: true\n",
    "    features: []\n",
    "toolchains:\n",
    "  gcc: true\n",
    "platforms:\n",
    "  mlif:\n",
    "    enabled: true\n",
    "    features: []\n",
    "targets:\n",
    "  default: etiss_pulpino\n",
    "  etiss_pulpino:\n",
    "    enabled: true\n",
    "    features:\n",
    "      trace: true\n",
    "```"
   ]
  },
  {
   "cell_type": "markdown",
   "id": "4d140308",
   "metadata": {
    "papermill": {
     "duration": 0.001868,
     "end_time": "2023-12-31T14:22:31.336640",
     "exception": false,
     "start_time": "2023-12-31T14:22:31.334772",
     "status": "completed"
    },
    "tags": []
   },
   "source": [
    "Do not forget to set your `MLONMCU_HOME` environment variable first if not using the default location!"
   ]
  },
  {
   "cell_type": "markdown",
   "id": "a3bac781",
   "metadata": {
    "papermill": {
     "duration": 0.00187,
     "end_time": "2023-12-31T14:22:31.340437",
     "exception": false,
     "start_time": "2023-12-31T14:22:31.338567",
     "status": "completed"
    },
    "tags": []
   },
   "source": [
    "## Usage"
   ]
  },
  {
   "cell_type": "markdown",
   "id": "1352b362",
   "metadata": {
    "papermill": {
     "duration": 0.002072,
     "end_time": "2023-12-31T14:22:31.344429",
     "exception": false,
     "start_time": "2023-12-31T14:22:31.342357",
     "status": "completed"
    },
    "tags": []
   },
   "source": [
    "*Warning:* Since memory tracing involves writing a log of every single memory access to disk, this might drastically slow down the execution time as well as write a lot of data to your disk. (For larger models this might exceed 10GB per inference!)"
   ]
  },
  {
   "cell_type": "markdown",
   "id": "f01b54e2",
   "metadata": {
    "papermill": {
     "duration": 0.001845,
     "end_time": "2023-12-31T14:22:31.348197",
     "exception": false,
     "start_time": "2023-12-31T14:22:31.346352",
     "status": "completed"
    },
    "tags": []
   },
   "source": [
    "### A) Command Line Interface"
   ]
  },
  {
   "cell_type": "markdown",
   "id": "2b333851",
   "metadata": {
    "papermill": {
     "duration": 0.002013,
     "end_time": "2023-12-31T14:22:31.352110",
     "exception": false,
     "start_time": "2023-12-31T14:22:31.350097",
     "status": "completed"
    },
    "tags": []
   },
   "source": [
    "As an example, let's compare `tvmaotplus` (MicroTVM lightweight Ahead-of-Time runtime) with `tvmrt` (MicroTVMs legacy graph runtime).\n",
    "\n",
    "To use the `trace` feature, just add `--feature trace` to the command line:"
   ]
  },
  {
   "cell_type": "code",
   "execution_count": 1,
   "id": "43576c35",
   "metadata": {
    "execution": {
     "iopub.execute_input": "2023-12-31T14:22:31.358229Z",
     "iopub.status.busy": "2023-12-31T14:22:31.357464Z",
     "iopub.status.idle": "2023-12-31T14:22:39.553583Z",
     "shell.execute_reply": "2023-12-31T14:22:39.552050Z"
    },
    "papermill": {
     "duration": 8.203145,
     "end_time": "2023-12-31T14:22:39.557207",
     "exception": false,
     "start_time": "2023-12-31T14:22:31.354062",
     "status": "completed"
    },
    "tags": []
   },
   "outputs": [
    {
     "name": "stdout",
     "output_type": "stream",
     "text": [
      "INFO - Loading environment cache from file\r\n",
      "INFO - Successfully initialized cache\r\n"
     ]
    },
    {
     "name": "stdout",
     "output_type": "stream",
     "text": [
      "INFO - [session-79]  Processing stage LOAD\r\n",
      "INFO - [session-79]  Processing stage BUILD\r\n"
     ]
    },
    {
     "name": "stdout",
     "output_type": "stream",
     "text": [
      "INFO - [session-79]  Processing stage COMPILE\r\n"
     ]
    },
    {
     "name": "stdout",
     "output_type": "stream",
     "text": [
      "INFO - [session-79]  Processing stage RUN\r\n"
     ]
    },
    {
     "name": "stdout",
     "output_type": "stream",
     "text": [
      "INFO - All runs completed successfuly!\r\n",
      "INFO - Postprocessing session report\r\n",
      "INFO - [session-79] Done processing runs\r\n",
      "INFO - Report:\r\n",
      "   Session  Run       Model Frontend Framework     Backend Platform         Target  Total Cycles  Total Instructions  Total CPI  Total ROM  Total RAM  ROM read-only  ROM code  ROM misc  RAM data  RAM zero-init data  RAM stack  RAM heap  Validation Features                                             Config Postprocesses Comment\r\n",
      "0       79    0  sine_model   tflite       tvm  tvmaotplus     mlif  etiss_pulpino          1891                1891        1.0      56534       4552           4360     52030       144      2492                 284        736      1040        True  [trace]  {'sine_model.output_shapes': {'Identity': [1, ...            []       -\r\n",
      "1       79    1  sine_model   tflite       tvm       tvmrt     mlif  etiss_pulpino        329503              329503        1.0      82884     141420          12576     70164       144      2500              132292       5588      1040        True  [trace]  {'sine_model.output_shapes': {'Identity': [1, ...            []       -\r\n"
     ]
    }
   ],
   "source": [
    "!mlonmcu flow run sine_model --backend tvmaotplus --backend tvmrt --target etiss_pulpino --feature trace"
   ]
  },
  {
   "cell_type": "markdown",
   "id": "5ccc2ec8",
   "metadata": {
    "papermill": {
     "duration": 0.007353,
     "end_time": "2023-12-31T14:22:39.572496",
     "exception": false,
     "start_time": "2023-12-31T14:22:39.565143",
     "status": "completed"
    },
    "tags": []
   },
   "source": [
    "By using the `filter_cols` postprocess we can strip away all unneeded information from the benchmark report to make it a bit more reabile:"
   ]
  },
  {
   "cell_type": "code",
   "execution_count": 2,
   "id": "53c89e22",
   "metadata": {
    "execution": {
     "iopub.execute_input": "2023-12-31T14:22:39.585228Z",
     "iopub.status.busy": "2023-12-31T14:22:39.584584Z",
     "iopub.status.idle": "2023-12-31T14:22:47.425847Z",
     "shell.execute_reply": "2023-12-31T14:22:47.424406Z"
    },
    "papermill": {
     "duration": 7.851433,
     "end_time": "2023-12-31T14:22:47.429358",
     "exception": false,
     "start_time": "2023-12-31T14:22:39.577925",
     "status": "completed"
    },
    "tags": []
   },
   "outputs": [
    {
     "name": "stdout",
     "output_type": "stream",
     "text": [
      "INFO - Loading environment cache from file\r\n",
      "INFO - Successfully initialized cache\r\n"
     ]
    },
    {
     "name": "stdout",
     "output_type": "stream",
     "text": [
      "INFO - [session-80]  Processing stage LOAD\r\n",
      "INFO - [session-80]  Processing stage BUILD\r\n"
     ]
    },
    {
     "name": "stdout",
     "output_type": "stream",
     "text": [
      "INFO - [session-80]  Processing stage COMPILE\r\n"
     ]
    },
    {
     "name": "stdout",
     "output_type": "stream",
     "text": [
      "INFO - [session-80]  Processing stage RUN\r\n"
     ]
    },
    {
     "name": "stdout",
     "output_type": "stream",
     "text": [
      "INFO - [session-80]  Processing stage POSTPROCESS\r\n"
     ]
    },
    {
     "name": "stdout",
     "output_type": "stream",
     "text": [
      "INFO - All runs completed successfuly!\r\n",
      "INFO - Postprocessing session report\r\n",
      "INFO - [session-80] Done processing runs\r\n",
      "INFO - Report:\r\n",
      "      Backend  Total RAM  RAM data  RAM zero-init data  RAM stack  RAM heap\r\n",
      "0  tvmaotplus       4552      2492                 284        736      1040\r\n",
      "1       tvmrt     141420      2500              132292       5588      1040\r\n"
     ]
    }
   ],
   "source": [
    "!mlonmcu flow run sine_model --backend tvmaotplus --backend tvmrt --target etiss_pulpino --feature trace \\\n",
    "    --postprocess filter_cols --config filter_cols.keep=\"Backend,Total RAM,RAM data,RAM zero-init data,RAM stack,RAM heap\""
   ]
  },
  {
   "cell_type": "markdown",
   "id": "c9776cd6",
   "metadata": {
    "papermill": {
     "duration": 0.008,
     "end_time": "2023-12-31T14:22:47.445918",
     "exception": false,
     "start_time": "2023-12-31T14:22:47.437918",
     "status": "completed"
    },
    "tags": []
   },
   "source": [
    "It can be seen, that for this simple benchmark, the `tvmrt` backend uses approx. 8 times more stack than `tvmaotplus`. However this is probably neglectible compared to the total RAM usage in this scenario."
   ]
  },
  {
   "cell_type": "markdown",
   "id": "4238333c",
   "metadata": {
    "papermill": {
     "duration": 0.00504,
     "end_time": "2023-12-31T14:22:47.456301",
     "exception": false,
     "start_time": "2023-12-31T14:22:47.451261",
     "status": "completed"
    },
    "tags": []
   },
   "source": [
    "### B) Python Scripting"
   ]
  },
  {
   "cell_type": "markdown",
   "id": "b500fc47",
   "metadata": {
    "papermill": {
     "duration": 0.003425,
     "end_time": "2023-12-31T14:22:47.463185",
     "exception": false,
     "start_time": "2023-12-31T14:22:47.459760",
     "status": "completed"
    },
    "tags": []
   },
   "source": [
    "Some Imports"
   ]
  },
  {
   "cell_type": "code",
   "execution_count": 4,
   "id": "78c53970",
   "metadata": {
    "papermill": {
     "duration": 0.36785,
     "end_time": "2023-12-31T14:22:47.834489",
     "exception": false,
     "start_time": "2023-12-31T14:22:47.466639",
     "status": "completed"
    },
    "tags": []
   },
   "outputs": [],
   "source": [
    "from tempfile import TemporaryDirectory\n",
    "from pathlib import Path\n",
    "import pandas as pd\n",
    "\n",
    "from mlonmcu.context.context import MlonMcuContext\n",
    "from mlonmcu.session.run import RunStage"
   ]
  },
  {
   "cell_type": "markdown",
   "id": "86046913",
   "metadata": {
    "papermill": {
     "duration": 0.005553,
     "end_time": "2023-12-31T14:22:47.848461",
     "exception": false,
     "start_time": "2023-12-31T14:22:47.842908",
     "status": "completed"
    },
    "tags": []
   },
   "source": [
    "Benchmark Configuration"
   ]
  },
  {
   "cell_type": "code",
   "execution_count": 5,
   "id": "2f6c5e5a",
   "metadata": {
    "papermill": {
     "duration": 0.011292,
     "end_time": "2023-12-31T14:22:47.864932",
     "exception": false,
     "start_time": "2023-12-31T14:22:47.853640",
     "status": "completed"
    },
    "tags": []
   },
   "outputs": [],
   "source": [
    "FRONTEND = \"tflite\"\n",
    "MODEL = \"sine_model\"\n",
    "BACKENDS = [\"tvmaotplus\", \"tvmrt\"]\n",
    "PLATFORM = \"mlif\"\n",
    "TARGET = \"etiss_pulpino\"\n",
    "FEATURES = [\"trace\"]\n",
    "CONFIG = {}\n",
    "POSTPROCESSES = []"
   ]
  },
  {
   "cell_type": "markdown",
   "id": "966cc3fe",
   "metadata": {
    "papermill": {
     "duration": 0.003965,
     "end_time": "2023-12-31T14:22:47.872996",
     "exception": false,
     "start_time": "2023-12-31T14:22:47.869031",
     "status": "completed"
    },
    "tags": []
   },
   "source": [
    "Initialize and run a single benchmark"
   ]
  },
  {
   "cell_type": "markdown",
   "id": "9544b91c",
   "metadata": {
    "tags": [
     "papermill-error-cell-tag"
    ]
   },
   "source": [
    "<span id=\"papermill-error-cell\" style=\"color:red; font-family:Helvetica Neue, Helvetica, Arial, sans-serif; font-size:2em;\">Execution using papermill encountered an exception here and stopped:</span>"
   ]
  },
  {
   "cell_type": "code",
   "execution_count": 6,
   "id": "ebe63369",
   "metadata": {
    "papermill": {
     "duration": 0.421191,
     "end_time": "2023-12-31T14:22:48.297610",
     "exception": true,
     "start_time": "2023-12-31T14:22:47.876419",
     "status": "failed"
    },
    "tags": []
   },
   "outputs": [
    {
     "name": "stdout",
     "output_type": "stream",
     "text": [
      "INFO - Loading environment cache from file\n",
      "INFO - Successfully initialized cache\n",
      "INFO - [session-81] Processing all stages\n",
      "INFO - All runs completed successfuly!\n",
      "INFO - Postprocessing session report\n",
      "INFO - [session-81] Done processing runs\n"
     ]
    },
    {
     "data": {
      "text/html": [
       "<div>\n",
       "<style scoped>\n",
       "    .dataframe tbody tr th:only-of-type {\n",
       "        vertical-align: middle;\n",
       "    }\n",
       "\n",
       "    .dataframe tbody tr th {\n",
       "        vertical-align: top;\n",
       "    }\n",
       "\n",
       "    .dataframe thead th {\n",
       "        text-align: right;\n",
       "    }\n",
       "</style>\n",
       "<table border=\"1\" class=\"dataframe\">\n",
       "  <thead>\n",
       "    <tr style=\"text-align: right;\">\n",
       "      <th></th>\n",
       "      <th>Session</th>\n",
       "      <th>Run</th>\n",
       "      <th>Model</th>\n",
       "      <th>Frontend</th>\n",
       "      <th>Framework</th>\n",
       "      <th>Backend</th>\n",
       "      <th>Platform</th>\n",
       "      <th>Target</th>\n",
       "      <th>Total Cycles</th>\n",
       "      <th>Total Instructions</th>\n",
       "      <th>Total CPI</th>\n",
       "      <th>Total ROM</th>\n",
       "      <th>Total RAM</th>\n",
       "      <th>ROM read-only</th>\n",
       "      <th>ROM code</th>\n",
       "      <th>ROM misc</th>\n",
       "      <th>RAM data</th>\n",
       "      <th>RAM zero-init data</th>\n",
       "      <th>RAM stack</th>\n",
       "      <th>RAM heap</th>\n",
       "      <th>Validation</th>\n",
       "      <th>Features</th>\n",
       "      <th>Config</th>\n",
       "      <th>Postprocesses</th>\n",
       "      <th>Comment</th>\n",
       "    </tr>\n",
       "  </thead>\n",
       "  <tbody>\n",
       "    <tr>\n",
       "      <th>0</th>\n",
       "      <td>81</td>\n",
       "      <td>0</td>\n",
       "      <td>sine_model</td>\n",
       "      <td>tflite</td>\n",
       "      <td>tvm</td>\n",
       "      <td>tvmaotplus</td>\n",
       "      <td>mlif</td>\n",
       "      <td>etiss_pulpino</td>\n",
       "      <td>1891</td>\n",
       "      <td>1891</td>\n",
       "      <td>1.0</td>\n",
       "      <td>56534</td>\n",
       "      <td>4552</td>\n",
       "      <td>4360</td>\n",
       "      <td>52030</td>\n",
       "      <td>144</td>\n",
       "      <td>2492</td>\n",
       "      <td>284</td>\n",
       "      <td>736</td>\n",
       "      <td>1040</td>\n",
       "      <td>True</td>\n",
       "      <td>[trace]</td>\n",
       "      <td>{'sine_model.output_shapes': {'Identity': [1, ...</td>\n",
       "      <td>[]</td>\n",
       "      <td>-</td>\n",
       "    </tr>\n",
       "    <tr>\n",
       "      <th>1</th>\n",
       "      <td>81</td>\n",
       "      <td>1</td>\n",
       "      <td>sine_model</td>\n",
       "      <td>tflite</td>\n",
       "      <td>tvm</td>\n",
       "      <td>tvmrt</td>\n",
       "      <td>mlif</td>\n",
       "      <td>etiss_pulpino</td>\n",
       "      <td>329503</td>\n",
       "      <td>329503</td>\n",
       "      <td>1.0</td>\n",
       "      <td>82884</td>\n",
       "      <td>141420</td>\n",
       "      <td>12576</td>\n",
       "      <td>70164</td>\n",
       "      <td>144</td>\n",
       "      <td>2500</td>\n",
       "      <td>132292</td>\n",
       "      <td>5588</td>\n",
       "      <td>1040</td>\n",
       "      <td>True</td>\n",
       "      <td>[trace]</td>\n",
       "      <td>{'sine_model.output_shapes': {'Identity': [1, ...</td>\n",
       "      <td>[]</td>\n",
       "      <td>-</td>\n",
       "    </tr>\n",
       "  </tbody>\n",
       "</table>\n",
       "</div>"
      ],
      "text/plain": [
       "   Session  Run       Model Frontend Framework     Backend Platform  \\\n",
       "0       81    0  sine_model   tflite       tvm  tvmaotplus     mlif   \n",
       "1       81    1  sine_model   tflite       tvm       tvmrt     mlif   \n",
       "\n",
       "          Target  Total Cycles  Total Instructions  Total CPI  Total ROM  \\\n",
       "0  etiss_pulpino          1891                1891        1.0      56534   \n",
       "1  etiss_pulpino        329503              329503        1.0      82884   \n",
       "\n",
       "   Total RAM  ROM read-only  ROM code  ROM misc  RAM data  RAM zero-init data  \\\n",
       "0       4552           4360     52030       144      2492                 284   \n",
       "1     141420          12576     70164       144      2500              132292   \n",
       "\n",
       "   RAM stack  RAM heap  Validation Features  \\\n",
       "0        736      1040        True  [trace]   \n",
       "1       5588      1040        True  [trace]   \n",
       "\n",
       "                                              Config Postprocesses Comment  \n",
       "0  {'sine_model.output_shapes': {'Identity': [1, ...            []       -  \n",
       "1  {'sine_model.output_shapes': {'Identity': [1, ...            []       -  "
      ]
     },
     "execution_count": 6,
     "metadata": {},
     "output_type": "execute_result"
    }
   ],
   "source": [
    "with MlonMcuContext() as context:\n",
    "    with context.create_session() as session:\n",
    "        for backend in BACKENDS:\n",
    "            run = session.create_run(config=CONFIG)\n",
    "            run.add_features_by_name(FEATURES, context=context)\n",
    "            run.add_frontend_by_name(FRONTEND, context=context)\n",
    "            run.add_model_by_name(MODEL, context=context)\n",
    "            run.add_backend_by_name(backend, context=context)\n",
    "            run.add_platform_by_name(PLATFORM, context=context)\n",
    "            run.add_target_by_name(TARGET, context=context)\n",
    "            run.add_postprocesses_by_name(POSTPROCESSES)\n",
    "        session.process_runs(context=context)\n",
    "        report = session.get_reports()\n",
    "assert \"Failing\" not in report.df.columns\n",
    "report.df"
   ]
  },
  {
   "cell_type": "markdown",
   "id": "9f1520a3",
   "metadata": {
    "papermill": {
     "duration": null,
     "end_time": null,
     "exception": null,
     "start_time": null,
     "status": "pending"
    },
    "tags": []
   },
   "source": [
    "Filter out irrelevant data (using pandas here instead of MLonMCU postprocesses)"
   ]
  },
  {
   "cell_type": "code",
   "execution_count": 7,
   "id": "219d3f49",
   "metadata": {
    "papermill": {
     "duration": null,
     "end_time": null,
     "exception": null,
     "start_time": null,
     "status": "pending"
    },
    "tags": []
   },
   "outputs": [
    {
     "data": {
      "text/html": [
       "<div>\n",
       "<style scoped>\n",
       "    .dataframe tbody tr th:only-of-type {\n",
       "        vertical-align: middle;\n",
       "    }\n",
       "\n",
       "    .dataframe tbody tr th {\n",
       "        vertical-align: top;\n",
       "    }\n",
       "\n",
       "    .dataframe thead th {\n",
       "        text-align: right;\n",
       "    }\n",
       "</style>\n",
       "<table border=\"1\" class=\"dataframe\">\n",
       "  <thead>\n",
       "    <tr style=\"text-align: right;\">\n",
       "      <th></th>\n",
       "      <th>Backend</th>\n",
       "      <th>Total RAM</th>\n",
       "      <th>RAM data</th>\n",
       "      <th>RAM zero-init data</th>\n",
       "      <th>RAM stack</th>\n",
       "      <th>RAM heap</th>\n",
       "    </tr>\n",
       "  </thead>\n",
       "  <tbody>\n",
       "    <tr>\n",
       "      <th>0</th>\n",
       "      <td>tvmaotplus</td>\n",
       "      <td>4552</td>\n",
       "      <td>2492</td>\n",
       "      <td>284</td>\n",
       "      <td>736</td>\n",
       "      <td>1040</td>\n",
       "    </tr>\n",
       "    <tr>\n",
       "      <th>1</th>\n",
       "      <td>tvmrt</td>\n",
       "      <td>141420</td>\n",
       "      <td>2500</td>\n",
       "      <td>132292</td>\n",
       "      <td>5588</td>\n",
       "      <td>1040</td>\n",
       "    </tr>\n",
       "  </tbody>\n",
       "</table>\n",
       "</div>"
      ],
      "text/plain": [
       "      Backend  Total RAM  RAM data  RAM zero-init data  RAM stack  RAM heap\n",
       "0  tvmaotplus       4552      2492                 284        736      1040\n",
       "1       tvmrt     141420      2500              132292       5588      1040"
      ]
     },
     "execution_count": 7,
     "metadata": {},
     "output_type": "execute_result"
    }
   ],
   "source": [
    "df = report.df\n",
    "df[[\"Backend\", \"Total RAM\", \"RAM data\", \"RAM zero-init data\", \"RAM stack\", \"RAM heap\"]]"
   ]
  }
 ],
 "metadata": {
  "kernelspec": {
   "display_name": "Python 3 (ipykernel)",
   "language": "python",
   "name": "python3"
  },
  "language_info": {
   "codemirror_mode": {
    "name": "ipython",
    "version": 3
   },
   "file_extension": ".py",
   "mimetype": "text/x-python",
   "name": "python",
   "nbconvert_exporter": "python",
   "pygments_lexer": "ipython3",
   "version": "3.8.10"
  },
  "papermill": {
   "default_parameters": {},
   "duration": 17.959331,
   "end_time": "2023-12-31T14:22:48.526426",
   "environment_variables": {},
   "exception": true,
   "input_path": "/work/git/mlonmcu/mlonmcu/ipynb/Examples/TraceMemory/TraceMemory.ipynb",
   "output_path": "/work/git/mlonmcu/mlonmcu/ipynb/Examples/TraceMemory/TraceMemory.ipynb",
   "parameters": {},
   "start_time": "2023-12-31T14:22:30.567095",
   "version": "2.5.0"
  }
 },
 "nbformat": 4,
 "nbformat_minor": 5
}

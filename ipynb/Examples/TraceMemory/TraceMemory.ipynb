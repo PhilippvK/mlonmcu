{
 "cells": [
  {
   "cell_type": "markdown",
   "id": "67a623c3",
   "metadata": {
    "papermill": {
     "duration": 0.004583,
     "end_time": "2023-12-31T19:16:38.492513",
     "exception": false,
     "start_time": "2023-12-31T19:16:38.487930",
     "status": "completed"
    },
    "tags": []
   },
   "source": [
    "# Example: Memory Tracing for detailed dyn. Memory Estimations using ETISS"
   ]
  },
  {
   "cell_type": "markdown",
   "id": "1025ee11",
   "metadata": {
    "papermill": {
     "duration": 0.002972,
     "end_time": "2023-12-31T19:16:38.498782",
     "exception": false,
     "start_time": "2023-12-31T19:16:38.495810",
     "status": "completed"
    },
    "tags": []
   },
   "source": [
    "When measuring RAM usage of a program we can differentiate between two different classes:\n",
    "- Static RAM usage (known after compilation/linking)\n",
    "- Dynamic RAM usage (e.g. max. Heap/Stack utilization)\n",
    "\n",
    "In the following an example is shown on how to use the `trace` feature of the `etiss_pulpino` target to measure the dynamic RAM usage in addition to the static usage for a simple benchmark."
   ]
  },
  {
   "cell_type": "markdown",
   "id": "87fd1387",
   "metadata": {
    "papermill": {
     "duration": 0.002848,
     "end_time": "2023-12-31T19:16:38.505658",
     "exception": false,
     "start_time": "2023-12-31T19:16:38.502810",
     "status": "completed"
    },
    "tags": []
   },
   "source": [
    "## Supported components"
   ]
  },
  {
   "cell_type": "markdown",
   "id": "584a911d",
   "metadata": {
    "papermill": {
     "duration": 0.002831,
     "end_time": "2023-12-31T19:16:38.511401",
     "exception": false,
     "start_time": "2023-12-31T19:16:38.508570",
     "status": "completed"
    },
    "tags": []
   },
   "source": [
    "**Models:** Any (`sine_model` used below)\n",
    "\n",
    "**Frontends:** Any (`tflite` used below)\n",
    "\n",
    "**Frameworks/Backends:** Any (`tvmaotplus` and `tvmrt` used below)\n",
    "\n",
    "**Platforms/Targets:** `etiss_pulpino` only (`spike`, `ovpsim`, `gvsoc` will be added later)\n",
    "\n",
    "**Features:** `trace` feature needs to be enabled"
   ]
  },
  {
   "cell_type": "markdown",
   "id": "74ce776e",
   "metadata": {
    "papermill": {
     "duration": 0.002826,
     "end_time": "2023-12-31T19:16:38.517099",
     "exception": false,
     "start_time": "2023-12-31T19:16:38.514273",
     "status": "completed"
    },
    "tags": []
   },
   "source": [
    "## Prerequisites"
   ]
  },
  {
   "cell_type": "markdown",
   "id": "18955525",
   "metadata": {
    "papermill": {
     "duration": 0.002867,
     "end_time": "2023-12-31T19:16:38.522832",
     "exception": false,
     "start_time": "2023-12-31T19:16:38.519965",
     "status": "completed"
    },
    "tags": []
   },
   "source": [
    "Set up MLonmCU as usual, i.e. initialize an environment and install all required dependencies. Feel free to use the following minimal `environment.yml.j2` template:"
   ]
  },
  {
   "cell_type": "markdown",
   "id": "51eb8539",
   "metadata": {
    "papermill": {
     "duration": 0.002814,
     "end_time": "2023-12-31T19:16:38.528554",
     "exception": false,
     "start_time": "2023-12-31T19:16:38.525740",
     "status": "completed"
    },
    "tags": []
   },
   "source": [
    "```yaml\n",
    "---\n",
    "home: \"{{ home_dir }}\"\n",
    "logging:\n",
    "  level: DEBUG\n",
    "  to_file: false\n",
    "  rotate: false\n",
    "cleanup:\n",
    "  auto: true\n",
    "  keep: 10\n",
    "paths:\n",
    "  deps: deps\n",
    "  logs: logs\n",
    "  results: results\n",
    "  plugins: plugins\n",
    "  temp: temp\n",
    "  models:\n",
    "    - \"{{ home_dir }}/models\"\n",
    "    - \"{{ config_dir }}/models\"\n",
    "repos:\n",
    "  tvm:\n",
    "    url: \"https://github.com/apache/tvm.git\"\n",
    "    ref: de6d8067754d746d88262c530b5241b5577b9aae\n",
    "  etiss:\n",
    "    url: \"https://github.com/tum-ei-eda/etiss.git\"\n",
    "    ref: 4d2d26fb1fdb17e1da3a397c35d6f8877bf3ceab\n",
    "  mlif:\n",
    "    url: \"https://github.com/tum-ei-eda/mlonmcu-sw.git\"\n",
    "    ref: 4b9a32659f7c5340e8de26a0b8c4135ca67d64ac\n",
    "frameworks:\n",
    "  default: tvm\n",
    "  tvm:\n",
    "    enabled: true\n",
    "    backends:\n",
    "      default: tvmaotplus\n",
    "      tvmaotplus:\n",
    "        enabled: true\n",
    "        features: []\n",
    "      tvmrt:\n",
    "        enabled: true\n",
    "        features: []\n",
    "    features: []\n",
    "frontends:\n",
    "  tflite:\n",
    "    enabled: true\n",
    "    features: []\n",
    "toolchains:\n",
    "  gcc: true\n",
    "platforms:\n",
    "  mlif:\n",
    "    enabled: true\n",
    "    features: []\n",
    "targets:\n",
    "  default: etiss_pulpino\n",
    "  etiss_pulpino:\n",
    "    enabled: true\n",
    "    features:\n",
    "      trace: true\n",
    "```"
   ]
  },
  {
   "cell_type": "markdown",
   "id": "4d140308",
   "metadata": {
    "papermill": {
     "duration": 0.002766,
     "end_time": "2023-12-31T19:16:38.534190",
     "exception": false,
     "start_time": "2023-12-31T19:16:38.531424",
     "status": "completed"
    },
    "tags": []
   },
   "source": [
    "Do not forget to set your `MLONMCU_HOME` environment variable first if not using the default location!"
   ]
  },
  {
   "cell_type": "markdown",
   "id": "a3bac781",
   "metadata": {
    "papermill": {
     "duration": 0.002832,
     "end_time": "2023-12-31T19:16:38.539928",
     "exception": false,
     "start_time": "2023-12-31T19:16:38.537096",
     "status": "completed"
    },
    "tags": []
   },
   "source": [
    "## Usage"
   ]
  },
  {
   "cell_type": "markdown",
   "id": "1352b362",
   "metadata": {
    "papermill": {
     "duration": 0.002797,
     "end_time": "2023-12-31T19:16:38.545552",
     "exception": false,
     "start_time": "2023-12-31T19:16:38.542755",
     "status": "completed"
    },
    "tags": []
   },
   "source": [
    "*Warning:* Since memory tracing involves writing a log of every single memory access to disk, this might drastically slow down the execution time as well as write a lot of data to your disk. (For larger models this might exceed 10GB per inference!)"
   ]
  },
  {
   "cell_type": "markdown",
   "id": "f01b54e2",
   "metadata": {
    "papermill": {
     "duration": 0.002784,
     "end_time": "2023-12-31T19:16:38.551262",
     "exception": false,
     "start_time": "2023-12-31T19:16:38.548478",
     "status": "completed"
    },
    "tags": []
   },
   "source": [
    "### A) Command Line Interface"
   ]
  },
  {
   "cell_type": "markdown",
   "id": "2b333851",
   "metadata": {
    "papermill": {
     "duration": 0.002858,
     "end_time": "2023-12-31T19:16:38.556943",
     "exception": false,
     "start_time": "2023-12-31T19:16:38.554085",
     "status": "completed"
    },
    "tags": []
   },
   "source": [
    "As an example, let's compare `tvmaotplus` (MicroTVM lightweight Ahead-of-Time runtime) with `tvmrt` (MicroTVMs legacy graph runtime).\n",
    "\n",
    "To use the `trace` feature, just add `--feature trace` to the command line:"
   ]
  },
  {
   "cell_type": "code",
   "execution_count": 1,
   "id": "43576c35",
   "metadata": {
    "execution": {
     "iopub.execute_input": "2023-12-31T19:16:38.564341Z",
     "iopub.status.busy": "2023-12-31T19:16:38.563834Z",
     "iopub.status.idle": "2023-12-31T19:16:49.372737Z",
     "shell.execute_reply": "2023-12-31T19:16:49.372011Z"
    },
    "papermill": {
     "duration": 10.814727,
     "end_time": "2023-12-31T19:16:49.374561",
     "exception": false,
     "start_time": "2023-12-31T19:16:38.559834",
     "status": "completed"
    },
    "tags": []
   },
   "outputs": [
    {
     "name": "stdout",
     "output_type": "stream",
     "text": [
      "INFO - Loading environment cache from file\r\n",
      "INFO - Successfully initialized cache\r\n"
     ]
    },
    {
     "name": "stdout",
     "output_type": "stream",
     "text": [
      "INFO -  Processing stage LOAD\r\n",
      "INFO -  Processing stage BUILD\r\n"
     ]
    },
    {
     "name": "stdout",
     "output_type": "stream",
     "text": [
      "INFO -  Processing stage COMPILE\r\n"
     ]
    },
    {
     "name": "stdout",
     "output_type": "stream",
     "text": [
      "INFO -  Processing stage RUN\r\n"
     ]
    },
    {
     "name": "stdout",
     "output_type": "stream",
     "text": [
      "INFO - All runs completed successfuly!\r\n",
      "INFO - Postprocessing session report\r\n",
      "INFO - Done processing runs\r\n",
      "INFO - Report:\r\n",
      "   Session  Run       Model Frontend Framework     Backend Platform         Target  Total Cycles  Total Instructions  Total CPI  Total ROM  Total RAM  ROM read-only  ROM code  ROM misc  RAM data  RAM zero-init data  RAM stack  RAM heap  Validation Features                                             Config Postprocesses Comment\r\n",
      "0        0    0  sine_model   tflite       tvm  tvmaotplus     mlif  etiss_pulpino          1891                1891        1.0      56524       4552           4360     52020       144      2492                 284        736      1040        True  [trace]  {'sine_model.output_shapes': {'Identity': [1, ...            []       -\r\n",
      "1        0    1  sine_model   tflite       tvm       tvmrt     mlif  etiss_pulpino        329503              329503        1.0      82794     141420          12496     70154       144      2500              132292       5588      1040        True  [trace]  {'sine_model.output_shapes': {'Identity': [1, ...            []       -\r\n"
     ]
    }
   ],
   "source": [
    "!mlonmcu flow run sine_model --backend tvmaotplus --backend tvmrt --target etiss_pulpino --feature trace"
   ]
  },
  {
   "cell_type": "markdown",
   "id": "5ccc2ec8",
   "metadata": {
    "papermill": {
     "duration": 0.003362,
     "end_time": "2023-12-31T19:16:49.381572",
     "exception": false,
     "start_time": "2023-12-31T19:16:49.378210",
     "status": "completed"
    },
    "tags": []
   },
   "source": [
    "By using the `filter_cols` postprocess we can strip away all unneeded information from the benchmark report to make it a bit more reabile:"
   ]
  },
  {
   "cell_type": "code",
   "execution_count": 2,
   "id": "53c89e22",
   "metadata": {
    "execution": {
     "iopub.execute_input": "2023-12-31T19:16:49.389518Z",
     "iopub.status.busy": "2023-12-31T19:16:49.389021Z",
     "iopub.status.idle": "2023-12-31T19:16:58.038961Z",
     "shell.execute_reply": "2023-12-31T19:16:58.038149Z"
    },
    "papermill": {
     "duration": 8.656236,
     "end_time": "2023-12-31T19:16:58.040994",
     "exception": false,
     "start_time": "2023-12-31T19:16:49.384758",
     "status": "completed"
    },
    "tags": []
   },
   "outputs": [
    {
     "name": "stdout",
     "output_type": "stream",
     "text": [
      "INFO - Loading environment cache from file\r\n",
      "INFO - Successfully initialized cache\r\n"
     ]
    },
    {
     "name": "stdout",
     "output_type": "stream",
     "text": [
      "INFO - [session-1]  Processing stage LOAD\r\n",
      "INFO - [session-1]  Processing stage BUILD\r\n"
     ]
    },
    {
     "name": "stdout",
     "output_type": "stream",
     "text": [
      "INFO - [session-1]  Processing stage COMPILE\r\n"
     ]
    },
    {
     "name": "stdout",
     "output_type": "stream",
     "text": [
      "INFO - [session-1]  Processing stage RUN\r\n"
     ]
    },
    {
     "name": "stdout",
     "output_type": "stream",
     "text": [
      "INFO - [session-1]  Processing stage POSTPROCESS\r\n"
     ]
    },
    {
     "name": "stdout",
     "output_type": "stream",
     "text": [
      "INFO - All runs completed successfuly!\r\n",
      "INFO - Postprocessing session report\r\n",
      "INFO - [session-1] Done processing runs\r\n",
      "INFO - Report:\r\n",
      "      Backend  Total RAM  RAM data  RAM zero-init data  RAM stack  RAM heap\r\n",
      "0  tvmaotplus       4552      2492                 284        736      1040\r\n",
      "1       tvmrt     141420      2500              132292       5588      1040\r\n"
     ]
    }
   ],
   "source": [
    "!mlonmcu flow run sine_model --backend tvmaotplus --backend tvmrt --target etiss_pulpino --feature trace \\\n",
    "    --postprocess filter_cols --config filter_cols.keep=\"Backend,Total RAM,RAM data,RAM zero-init data,RAM stack,RAM heap\""
   ]
  },
  {
   "cell_type": "markdown",
   "id": "c9776cd6",
   "metadata": {
    "papermill": {
     "duration": 0.003671,
     "end_time": "2023-12-31T19:16:58.048742",
     "exception": false,
     "start_time": "2023-12-31T19:16:58.045071",
     "status": "completed"
    },
    "tags": []
   },
   "source": [
    "It can be seen, that for this simple benchmark, the `tvmrt` backend uses approx. 8 times more stack than `tvmaotplus`. However this is probably neglectible compared to the total RAM usage in this scenario."
   ]
  },
  {
   "cell_type": "markdown",
   "id": "4238333c",
   "metadata": {
    "papermill": {
     "duration": 0.003456,
     "end_time": "2023-12-31T19:16:58.055660",
     "exception": false,
     "start_time": "2023-12-31T19:16:58.052204",
     "status": "completed"
    },
    "tags": []
   },
   "source": [
    "### B) Python Scripting"
   ]
  },
  {
   "cell_type": "markdown",
   "id": "b500fc47",
   "metadata": {
    "papermill": {
     "duration": 0.003446,
     "end_time": "2023-12-31T19:16:58.062535",
     "exception": false,
     "start_time": "2023-12-31T19:16:58.059089",
     "status": "completed"
    },
    "tags": []
   },
   "source": [
    "Some Imports"
   ]
  },
  {
   "cell_type": "code",
   "execution_count": 3,
   "id": "78c53970",
   "metadata": {
    "execution": {
     "iopub.execute_input": "2023-12-31T19:16:58.071095Z",
     "iopub.status.busy": "2023-12-31T19:16:58.070788Z",
     "iopub.status.idle": "2023-12-31T19:16:58.498517Z",
     "shell.execute_reply": "2023-12-31T19:16:58.497653Z"
    },
    "papermill": {
     "duration": 0.434371,
     "end_time": "2023-12-31T19:16:58.500438",
     "exception": false,
     "start_time": "2023-12-31T19:16:58.066067",
     "status": "completed"
    },
    "tags": []
   },
   "outputs": [],
   "source": [
    "from tempfile import TemporaryDirectory\n",
    "from pathlib import Path\n",
    "import pandas as pd\n",
    "\n",
    "from mlonmcu.context.context import MlonMcuContext\n",
    "from mlonmcu.session.run import RunStage"
   ]
  },
  {
   "cell_type": "markdown",
   "id": "86046913",
   "metadata": {
    "papermill": {
     "duration": 0.003536,
     "end_time": "2023-12-31T19:16:58.507861",
     "exception": false,
     "start_time": "2023-12-31T19:16:58.504325",
     "status": "completed"
    },
    "tags": []
   },
   "source": [
    "Benchmark Configuration"
   ]
  },
  {
   "cell_type": "code",
   "execution_count": 4,
   "id": "2f6c5e5a",
   "metadata": {
    "execution": {
     "iopub.execute_input": "2023-12-31T19:16:58.516788Z",
     "iopub.status.busy": "2023-12-31T19:16:58.516038Z",
     "iopub.status.idle": "2023-12-31T19:16:58.520422Z",
     "shell.execute_reply": "2023-12-31T19:16:58.519708Z"
    },
    "papermill": {
     "duration": 0.010718,
     "end_time": "2023-12-31T19:16:58.522003",
     "exception": false,
     "start_time": "2023-12-31T19:16:58.511285",
     "status": "completed"
    },
    "tags": []
   },
   "outputs": [],
   "source": [
    "FRONTEND = \"tflite\"\n",
    "MODEL = \"sine_model\"\n",
    "BACKENDS = [\"tvmaotplus\", \"tvmrt\"]\n",
    "PLATFORM = \"mlif\"\n",
    "TARGET = \"etiss_pulpino\"\n",
    "FEATURES = [\"trace\"]\n",
    "CONFIG = {}\n",
    "POSTPROCESSES = []"
   ]
  },
  {
   "cell_type": "markdown",
   "id": "966cc3fe",
   "metadata": {
    "papermill": {
     "duration": 0.003435,
     "end_time": "2023-12-31T19:16:58.529094",
     "exception": false,
     "start_time": "2023-12-31T19:16:58.525659",
     "status": "completed"
    },
    "tags": []
   },
   "source": [
    "Initialize and run a single benchmark"
   ]
  },
  {
   "cell_type": "code",
   "execution_count": 5,
   "id": "ebe63369",
   "metadata": {
    "execution": {
     "iopub.execute_input": "2023-12-31T19:16:58.537518Z",
     "iopub.status.busy": "2023-12-31T19:16:58.536961Z",
     "iopub.status.idle": "2023-12-31T19:17:06.014839Z",
     "shell.execute_reply": "2023-12-31T19:17:06.014112Z"
    },
    "papermill": {
     "duration": 7.483921,
     "end_time": "2023-12-31T19:17:06.016486",
     "exception": false,
     "start_time": "2023-12-31T19:16:58.532565",
     "status": "completed"
    },
    "tags": []
   },
   "outputs": [
    {
     "name": "stdout",
     "output_type": "stream",
     "text": [
      "INFO - Loading environment cache from file\n"
     ]
    },
    {
     "name": "stdout",
     "output_type": "stream",
     "text": [
      "INFO - Successfully initialized cache\n"
     ]
    },
    {
     "name": "stdout",
     "output_type": "stream",
     "text": [
      "INFO - [session-2] Processing all stages\n"
     ]
    },
    {
     "name": "stdout",
     "output_type": "stream",
     "text": [
      "INFO - All runs completed successfuly!\n"
     ]
    },
    {
     "name": "stdout",
     "output_type": "stream",
     "text": [
      "INFO - Postprocessing session report\n"
     ]
    },
    {
     "name": "stdout",
     "output_type": "stream",
     "text": [
      "INFO - [session-2] Done processing runs\n"
     ]
    },
    {
     "data": {
      "text/html": [
       "<div>\n",
       "<style scoped>\n",
       "    .dataframe tbody tr th:only-of-type {\n",
       "        vertical-align: middle;\n",
       "    }\n",
       "\n",
       "    .dataframe tbody tr th {\n",
       "        vertical-align: top;\n",
       "    }\n",
       "\n",
       "    .dataframe thead th {\n",
       "        text-align: right;\n",
       "    }\n",
       "</style>\n",
       "<table border=\"1\" class=\"dataframe\">\n",
       "  <thead>\n",
       "    <tr style=\"text-align: right;\">\n",
       "      <th></th>\n",
       "      <th>Session</th>\n",
       "      <th>Run</th>\n",
       "      <th>Model</th>\n",
       "      <th>Frontend</th>\n",
       "      <th>Framework</th>\n",
       "      <th>Backend</th>\n",
       "      <th>Platform</th>\n",
       "      <th>Target</th>\n",
       "      <th>Total Cycles</th>\n",
       "      <th>Total Instructions</th>\n",
       "      <th>Total CPI</th>\n",
       "      <th>Total ROM</th>\n",
       "      <th>Total RAM</th>\n",
       "      <th>ROM read-only</th>\n",
       "      <th>ROM code</th>\n",
       "      <th>ROM misc</th>\n",
       "      <th>RAM data</th>\n",
       "      <th>RAM zero-init data</th>\n",
       "      <th>RAM stack</th>\n",
       "      <th>RAM heap</th>\n",
       "      <th>Validation</th>\n",
       "      <th>Features</th>\n",
       "      <th>Config</th>\n",
       "      <th>Postprocesses</th>\n",
       "      <th>Comment</th>\n",
       "    </tr>\n",
       "  </thead>\n",
       "  <tbody>\n",
       "    <tr>\n",
       "      <th>0</th>\n",
       "      <td>2</td>\n",
       "      <td>0</td>\n",
       "      <td>sine_model</td>\n",
       "      <td>tflite</td>\n",
       "      <td>tvm</td>\n",
       "      <td>tvmaotplus</td>\n",
       "      <td>mlif</td>\n",
       "      <td>etiss_pulpino</td>\n",
       "      <td>1891</td>\n",
       "      <td>1891</td>\n",
       "      <td>1.0</td>\n",
       "      <td>56524</td>\n",
       "      <td>4552</td>\n",
       "      <td>4360</td>\n",
       "      <td>52020</td>\n",
       "      <td>144</td>\n",
       "      <td>2492</td>\n",
       "      <td>284</td>\n",
       "      <td>736</td>\n",
       "      <td>1040</td>\n",
       "      <td>True</td>\n",
       "      <td>[trace]</td>\n",
       "      <td>{'sine_model.output_shapes': {'Identity': [1, ...</td>\n",
       "      <td>[]</td>\n",
       "      <td>-</td>\n",
       "    </tr>\n",
       "    <tr>\n",
       "      <th>1</th>\n",
       "      <td>2</td>\n",
       "      <td>1</td>\n",
       "      <td>sine_model</td>\n",
       "      <td>tflite</td>\n",
       "      <td>tvm</td>\n",
       "      <td>tvmrt</td>\n",
       "      <td>mlif</td>\n",
       "      <td>etiss_pulpino</td>\n",
       "      <td>329503</td>\n",
       "      <td>329503</td>\n",
       "      <td>1.0</td>\n",
       "      <td>82794</td>\n",
       "      <td>141420</td>\n",
       "      <td>12496</td>\n",
       "      <td>70154</td>\n",
       "      <td>144</td>\n",
       "      <td>2500</td>\n",
       "      <td>132292</td>\n",
       "      <td>5588</td>\n",
       "      <td>1040</td>\n",
       "      <td>True</td>\n",
       "      <td>[trace]</td>\n",
       "      <td>{'sine_model.output_shapes': {'Identity': [1, ...</td>\n",
       "      <td>[]</td>\n",
       "      <td>-</td>\n",
       "    </tr>\n",
       "  </tbody>\n",
       "</table>\n",
       "</div>"
      ],
      "text/plain": [
       "   Session  Run       Model Frontend Framework     Backend Platform  \\\n",
       "0        2    0  sine_model   tflite       tvm  tvmaotplus     mlif   \n",
       "1        2    1  sine_model   tflite       tvm       tvmrt     mlif   \n",
       "\n",
       "          Target  Total Cycles  Total Instructions  Total CPI  Total ROM  \\\n",
       "0  etiss_pulpino          1891                1891        1.0      56524   \n",
       "1  etiss_pulpino        329503              329503        1.0      82794   \n",
       "\n",
       "   Total RAM  ROM read-only  ROM code  ROM misc  RAM data  RAM zero-init data  \\\n",
       "0       4552           4360     52020       144      2492                 284   \n",
       "1     141420          12496     70154       144      2500              132292   \n",
       "\n",
       "   RAM stack  RAM heap  Validation Features  \\\n",
       "0        736      1040        True  [trace]   \n",
       "1       5588      1040        True  [trace]   \n",
       "\n",
       "                                              Config Postprocesses Comment  \n",
       "0  {'sine_model.output_shapes': {'Identity': [1, ...            []       -  \n",
       "1  {'sine_model.output_shapes': {'Identity': [1, ...            []       -  "
      ]
     },
     "execution_count": 5,
     "metadata": {},
     "output_type": "execute_result"
    }
   ],
   "source": [
    "with MlonMcuContext() as context:\n",
    "    with context.create_session() as session:\n",
    "        for backend in BACKENDS:\n",
    "            run = session.create_run(config=CONFIG)\n",
    "            run.add_features_by_name(FEATURES, context=context)\n",
    "            run.add_frontend_by_name(FRONTEND, context=context)\n",
    "            run.add_model_by_name(MODEL, context=context)\n",
    "            run.add_backend_by_name(backend, context=context)\n",
    "            run.add_platform_by_name(PLATFORM, context=context)\n",
    "            run.add_target_by_name(TARGET, context=context)\n",
    "            run.add_postprocesses_by_name(POSTPROCESSES)\n",
    "        session.process_runs(context=context)\n",
    "        report = session.get_reports()\n",
    "assert not session.failing\n",
    "report.df"
   ]
  },
  {
   "cell_type": "markdown",
   "id": "9f1520a3",
   "metadata": {
    "papermill": {
     "duration": 0.004033,
     "end_time": "2023-12-31T19:17:06.025033",
     "exception": false,
     "start_time": "2023-12-31T19:17:06.021000",
     "status": "completed"
    },
    "tags": []
   },
   "source": [
    "Filter out irrelevant data (using pandas here instead of MLonMCU postprocesses)"
   ]
  },
  {
   "cell_type": "code",
   "execution_count": 6,
   "id": "219d3f49",
   "metadata": {
    "execution": {
     "iopub.execute_input": "2023-12-31T19:17:06.034733Z",
     "iopub.status.busy": "2023-12-31T19:17:06.034134Z",
     "iopub.status.idle": "2023-12-31T19:17:06.043647Z",
     "shell.execute_reply": "2023-12-31T19:17:06.043010Z"
    },
    "papermill": {
     "duration": 0.015951,
     "end_time": "2023-12-31T19:17:06.044990",
     "exception": false,
     "start_time": "2023-12-31T19:17:06.029039",
     "status": "completed"
    },
    "tags": []
   },
   "outputs": [
    {
     "data": {
      "text/html": [
       "<div>\n",
       "<style scoped>\n",
       "    .dataframe tbody tr th:only-of-type {\n",
       "        vertical-align: middle;\n",
       "    }\n",
       "\n",
       "    .dataframe tbody tr th {\n",
       "        vertical-align: top;\n",
       "    }\n",
       "\n",
       "    .dataframe thead th {\n",
       "        text-align: right;\n",
       "    }\n",
       "</style>\n",
       "<table border=\"1\" class=\"dataframe\">\n",
       "  <thead>\n",
       "    <tr style=\"text-align: right;\">\n",
       "      <th></th>\n",
       "      <th>Backend</th>\n",
       "      <th>Total RAM</th>\n",
       "      <th>RAM data</th>\n",
       "      <th>RAM zero-init data</th>\n",
       "      <th>RAM stack</th>\n",
       "      <th>RAM heap</th>\n",
       "    </tr>\n",
       "  </thead>\n",
       "  <tbody>\n",
       "    <tr>\n",
       "      <th>0</th>\n",
       "      <td>tvmaotplus</td>\n",
       "      <td>4552</td>\n",
       "      <td>2492</td>\n",
       "      <td>284</td>\n",
       "      <td>736</td>\n",
       "      <td>1040</td>\n",
       "    </tr>\n",
       "    <tr>\n",
       "      <th>1</th>\n",
       "      <td>tvmrt</td>\n",
       "      <td>141420</td>\n",
       "      <td>2500</td>\n",
       "      <td>132292</td>\n",
       "      <td>5588</td>\n",
       "      <td>1040</td>\n",
       "    </tr>\n",
       "  </tbody>\n",
       "</table>\n",
       "</div>"
      ],
      "text/plain": [
       "      Backend  Total RAM  RAM data  RAM zero-init data  RAM stack  RAM heap\n",
       "0  tvmaotplus       4552      2492                 284        736      1040\n",
       "1       tvmrt     141420      2500              132292       5588      1040"
      ]
     },
     "execution_count": 6,
     "metadata": {},
     "output_type": "execute_result"
    }
   ],
   "source": [
    "df = report.df\n",
    "df[[\"Backend\", \"Total RAM\", \"RAM data\", \"RAM zero-init data\", \"RAM stack\", \"RAM heap\"]]"
   ]
  }
 ],
 "metadata": {
  "kernelspec": {
   "display_name": "Python 3 (ipykernel)",
   "language": "python",
   "name": "python3"
  },
  "language_info": {
   "codemirror_mode": {
    "name": "ipython",
    "version": 3
   },
   "file_extension": ".py",
   "mimetype": "text/x-python",
   "name": "python",
   "nbconvert_exporter": "python",
   "pygments_lexer": "ipython3",
   "version": "3.8.18"
  },
  "papermill": {
   "default_parameters": {},
   "duration": 29.527182,
   "end_time": "2023-12-31T19:17:06.366608",
   "environment_variables": {},
   "exception": null,
   "input_path": "/home/runner/work/mlonmcu/mlonmcu/ipynb/Examples/TraceMemory/TraceMemory.ipynb",
   "output_path": "/home/runner/work/mlonmcu/mlonmcu/ipynb/Examples/TraceMemory/TraceMemory.ipynb",
   "parameters": {},
   "start_time": "2023-12-31T19:16:36.839426",
   "version": "2.5.0"
  }
 },
 "nbformat": 4,
 "nbformat_minor": 5
}

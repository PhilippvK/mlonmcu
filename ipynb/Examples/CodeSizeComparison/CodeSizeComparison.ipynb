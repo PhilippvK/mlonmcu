{
 "cells": [
  {
   "cell_type": "code",
   "execution_count": 1,
   "id": "5aa9b7aa-5bf6-4435-981f-bcb91132020a",
   "metadata": {
    "execution": {
     "iopub.execute_input": "2023-12-30T23:42:10.695559Z",
     "iopub.status.busy": "2023-12-30T23:42:10.695354Z",
     "iopub.status.idle": "2023-12-30T23:42:10.701599Z",
     "shell.execute_reply": "2023-12-30T23:42:10.701062Z"
    }
   },
   "outputs": [],
   "source": [
    "from IPython.display import Code"
   ]
  },
  {
   "cell_type": "markdown",
   "id": "67a623c3",
   "metadata": {},
   "source": [
    "# Example: Code size comparison: muRISCVNN vs. CMSIS-NN"
   ]
  },
  {
   "cell_type": "markdown",
   "id": "1025ee11",
   "metadata": {},
   "source": [
    "While we consider the program runtime (in ms, Cycles or Instructions) most of the time, the memory demand of a given application should not be underestimated. While most of the ROM usage is proably fixed due to the model weights, the program code itself also might take over 100kB of space, which might exceed the possibilities of some edge ML devices."
   ]
  },
  {
   "cell_type": "markdown",
   "id": "87fd1387",
   "metadata": {},
   "source": [
    "## Supported components"
   ]
  },
  {
   "cell_type": "markdown",
   "id": "584a911d",
   "metadata": {},
   "source": [
    "**Models:** Any (`aww` and `resnet` used below)\n",
    "\n",
    "**Frontends:** `tflite` only (becaus eof used backend)\n",
    "\n",
    "**Frameworks/Backends:** `tflmi` or `tflmc` only\n",
    "\n",
    "**Platforms/Targets:** Any target/platform supporting both `muriscvnn` as well as `cmsisnn` (spike used below)\n",
    "\n",
    "**Features:** `muriscvnn` and `cmsisnn` features have to be enabled "
   ]
  },
  {
   "cell_type": "markdown",
   "id": "74ce776e",
   "metadata": {},
   "source": [
    "## Prerequisites"
   ]
  },
  {
   "cell_type": "markdown",
   "id": "b6bb6529-c002-4105-b3bb-75cc288a901b",
   "metadata": {},
   "source": [
    "If not done already, setup a virtual python environment and install the required packages into it. (See `requirements.txt`)"
   ]
  },
  {
   "cell_type": "code",
   "execution_count": 2,
   "id": "a969b1c7-26b1-47d5-91d4-d94397bf7c08",
   "metadata": {
    "execution": {
     "iopub.execute_input": "2023-12-30T23:42:10.704566Z",
     "iopub.status.busy": "2023-12-30T23:42:10.704185Z",
     "iopub.status.idle": "2023-12-30T23:42:10.786034Z",
     "shell.execute_reply": "2023-12-30T23:42:10.785391Z"
    }
   },
   "outputs": [
    {
     "data": {
      "text/html": [
       "<style>pre { line-height: 125%; }\n",
       "td.linenos .normal { color: inherit; background-color: transparent; padding-left: 5px; padding-right: 5px; }\n",
       "span.linenos { color: inherit; background-color: transparent; padding-left: 5px; padding-right: 5px; }\n",
       "td.linenos .special { color: #000000; background-color: #ffffc0; padding-left: 5px; padding-right: 5px; }\n",
       "span.linenos.special { color: #000000; background-color: #ffffc0; padding-left: 5px; padding-right: 5px; }\n",
       ".output_html .hll { background-color: #ffffcc }\n",
       ".output_html { background: #f8f8f8; }\n",
       ".output_html .c { color: #3D7B7B; font-style: italic } /* Comment */\n",
       ".output_html .err { border: 1px solid #FF0000 } /* Error */\n",
       ".output_html .k { color: #008000; font-weight: bold } /* Keyword */\n",
       ".output_html .o { color: #666666 } /* Operator */\n",
       ".output_html .ch { color: #3D7B7B; font-style: italic } /* Comment.Hashbang */\n",
       ".output_html .cm { color: #3D7B7B; font-style: italic } /* Comment.Multiline */\n",
       ".output_html .cp { color: #9C6500 } /* Comment.Preproc */\n",
       ".output_html .cpf { color: #3D7B7B; font-style: italic } /* Comment.PreprocFile */\n",
       ".output_html .c1 { color: #3D7B7B; font-style: italic } /* Comment.Single */\n",
       ".output_html .cs { color: #3D7B7B; font-style: italic } /* Comment.Special */\n",
       ".output_html .gd { color: #A00000 } /* Generic.Deleted */\n",
       ".output_html .ge { font-style: italic } /* Generic.Emph */\n",
       ".output_html .ges { font-weight: bold; font-style: italic } /* Generic.EmphStrong */\n",
       ".output_html .gr { color: #E40000 } /* Generic.Error */\n",
       ".output_html .gh { color: #000080; font-weight: bold } /* Generic.Heading */\n",
       ".output_html .gi { color: #008400 } /* Generic.Inserted */\n",
       ".output_html .go { color: #717171 } /* Generic.Output */\n",
       ".output_html .gp { color: #000080; font-weight: bold } /* Generic.Prompt */\n",
       ".output_html .gs { font-weight: bold } /* Generic.Strong */\n",
       ".output_html .gu { color: #800080; font-weight: bold } /* Generic.Subheading */\n",
       ".output_html .gt { color: #0044DD } /* Generic.Traceback */\n",
       ".output_html .kc { color: #008000; font-weight: bold } /* Keyword.Constant */\n",
       ".output_html .kd { color: #008000; font-weight: bold } /* Keyword.Declaration */\n",
       ".output_html .kn { color: #008000; font-weight: bold } /* Keyword.Namespace */\n",
       ".output_html .kp { color: #008000 } /* Keyword.Pseudo */\n",
       ".output_html .kr { color: #008000; font-weight: bold } /* Keyword.Reserved */\n",
       ".output_html .kt { color: #B00040 } /* Keyword.Type */\n",
       ".output_html .m { color: #666666 } /* Literal.Number */\n",
       ".output_html .s { color: #BA2121 } /* Literal.String */\n",
       ".output_html .na { color: #687822 } /* Name.Attribute */\n",
       ".output_html .nb { color: #008000 } /* Name.Builtin */\n",
       ".output_html .nc { color: #0000FF; font-weight: bold } /* Name.Class */\n",
       ".output_html .no { color: #880000 } /* Name.Constant */\n",
       ".output_html .nd { color: #AA22FF } /* Name.Decorator */\n",
       ".output_html .ni { color: #717171; font-weight: bold } /* Name.Entity */\n",
       ".output_html .ne { color: #CB3F38; font-weight: bold } /* Name.Exception */\n",
       ".output_html .nf { color: #0000FF } /* Name.Function */\n",
       ".output_html .nl { color: #767600 } /* Name.Label */\n",
       ".output_html .nn { color: #0000FF; font-weight: bold } /* Name.Namespace */\n",
       ".output_html .nt { color: #008000; font-weight: bold } /* Name.Tag */\n",
       ".output_html .nv { color: #19177C } /* Name.Variable */\n",
       ".output_html .ow { color: #AA22FF; font-weight: bold } /* Operator.Word */\n",
       ".output_html .w { color: #bbbbbb } /* Text.Whitespace */\n",
       ".output_html .mb { color: #666666 } /* Literal.Number.Bin */\n",
       ".output_html .mf { color: #666666 } /* Literal.Number.Float */\n",
       ".output_html .mh { color: #666666 } /* Literal.Number.Hex */\n",
       ".output_html .mi { color: #666666 } /* Literal.Number.Integer */\n",
       ".output_html .mo { color: #666666 } /* Literal.Number.Oct */\n",
       ".output_html .sa { color: #BA2121 } /* Literal.String.Affix */\n",
       ".output_html .sb { color: #BA2121 } /* Literal.String.Backtick */\n",
       ".output_html .sc { color: #BA2121 } /* Literal.String.Char */\n",
       ".output_html .dl { color: #BA2121 } /* Literal.String.Delimiter */\n",
       ".output_html .sd { color: #BA2121; font-style: italic } /* Literal.String.Doc */\n",
       ".output_html .s2 { color: #BA2121 } /* Literal.String.Double */\n",
       ".output_html .se { color: #AA5D1F; font-weight: bold } /* Literal.String.Escape */\n",
       ".output_html .sh { color: #BA2121 } /* Literal.String.Heredoc */\n",
       ".output_html .si { color: #A45A77; font-weight: bold } /* Literal.String.Interpol */\n",
       ".output_html .sx { color: #008000 } /* Literal.String.Other */\n",
       ".output_html .sr { color: #A45A77 } /* Literal.String.Regex */\n",
       ".output_html .s1 { color: #BA2121 } /* Literal.String.Single */\n",
       ".output_html .ss { color: #19177C } /* Literal.String.Symbol */\n",
       ".output_html .bp { color: #008000 } /* Name.Builtin.Pseudo */\n",
       ".output_html .fm { color: #0000FF } /* Name.Function.Magic */\n",
       ".output_html .vc { color: #19177C } /* Name.Variable.Class */\n",
       ".output_html .vg { color: #19177C } /* Name.Variable.Global */\n",
       ".output_html .vi { color: #19177C } /* Name.Variable.Instance */\n",
       ".output_html .vm { color: #19177C } /* Name.Variable.Magic */\n",
       ".output_html .il { color: #666666 } /* Literal.Number.Integer.Long */</style><div class=\"highlight\"><pre><span></span>-r ../../requirements.txt\n",
       "</pre></div>\n"
      ],
      "text/latex": [
       "\\begin{Verbatim}[commandchars=\\\\\\{\\}]\n",
       "\\PYZhy{}r ../../requirements.txt\n",
       "\\end{Verbatim}\n"
      ],
      "text/plain": [
       "-r ../../requirements.txt"
      ]
     },
     "execution_count": 2,
     "metadata": {},
     "output_type": "execute_result"
    }
   ],
   "source": [
    "Code(filename=\"requirements.txt\")"
   ]
  },
  {
   "cell_type": "markdown",
   "id": "18955525",
   "metadata": {},
   "source": [
    "Set up MLonmCU as usual, i.e. initialize an environment and install all required dependencies. Feel free to use the following minimal `environment.yml.j2` template:"
   ]
  },
  {
   "cell_type": "code",
   "execution_count": 3,
   "id": "ab05b643-f644-4c38-8768-04a3e488ddc4",
   "metadata": {
    "execution": {
     "iopub.execute_input": "2023-12-30T23:42:10.788730Z",
     "iopub.status.busy": "2023-12-30T23:42:10.788362Z",
     "iopub.status.idle": "2023-12-30T23:42:10.832424Z",
     "shell.execute_reply": "2023-12-30T23:42:10.831657Z"
    }
   },
   "outputs": [
    {
     "data": {
      "text/html": [
       "<style>pre { line-height: 125%; }\n",
       "td.linenos .normal { color: inherit; background-color: transparent; padding-left: 5px; padding-right: 5px; }\n",
       "span.linenos { color: inherit; background-color: transparent; padding-left: 5px; padding-right: 5px; }\n",
       "td.linenos .special { color: #000000; background-color: #ffffc0; padding-left: 5px; padding-right: 5px; }\n",
       "span.linenos.special { color: #000000; background-color: #ffffc0; padding-left: 5px; padding-right: 5px; }\n",
       ".output_html .hll { background-color: #ffffcc }\n",
       ".output_html { background: #f8f8f8; }\n",
       ".output_html .c { color: #3D7B7B; font-style: italic } /* Comment */\n",
       ".output_html .err { border: 1px solid #FF0000 } /* Error */\n",
       ".output_html .k { color: #008000; font-weight: bold } /* Keyword */\n",
       ".output_html .o { color: #666666 } /* Operator */\n",
       ".output_html .ch { color: #3D7B7B; font-style: italic } /* Comment.Hashbang */\n",
       ".output_html .cm { color: #3D7B7B; font-style: italic } /* Comment.Multiline */\n",
       ".output_html .cp { color: #9C6500 } /* Comment.Preproc */\n",
       ".output_html .cpf { color: #3D7B7B; font-style: italic } /* Comment.PreprocFile */\n",
       ".output_html .c1 { color: #3D7B7B; font-style: italic } /* Comment.Single */\n",
       ".output_html .cs { color: #3D7B7B; font-style: italic } /* Comment.Special */\n",
       ".output_html .gd { color: #A00000 } /* Generic.Deleted */\n",
       ".output_html .ge { font-style: italic } /* Generic.Emph */\n",
       ".output_html .ges { font-weight: bold; font-style: italic } /* Generic.EmphStrong */\n",
       ".output_html .gr { color: #E40000 } /* Generic.Error */\n",
       ".output_html .gh { color: #000080; font-weight: bold } /* Generic.Heading */\n",
       ".output_html .gi { color: #008400 } /* Generic.Inserted */\n",
       ".output_html .go { color: #717171 } /* Generic.Output */\n",
       ".output_html .gp { color: #000080; font-weight: bold } /* Generic.Prompt */\n",
       ".output_html .gs { font-weight: bold } /* Generic.Strong */\n",
       ".output_html .gu { color: #800080; font-weight: bold } /* Generic.Subheading */\n",
       ".output_html .gt { color: #0044DD } /* Generic.Traceback */\n",
       ".output_html .kc { color: #008000; font-weight: bold } /* Keyword.Constant */\n",
       ".output_html .kd { color: #008000; font-weight: bold } /* Keyword.Declaration */\n",
       ".output_html .kn { color: #008000; font-weight: bold } /* Keyword.Namespace */\n",
       ".output_html .kp { color: #008000 } /* Keyword.Pseudo */\n",
       ".output_html .kr { color: #008000; font-weight: bold } /* Keyword.Reserved */\n",
       ".output_html .kt { color: #B00040 } /* Keyword.Type */\n",
       ".output_html .m { color: #666666 } /* Literal.Number */\n",
       ".output_html .s { color: #BA2121 } /* Literal.String */\n",
       ".output_html .na { color: #687822 } /* Name.Attribute */\n",
       ".output_html .nb { color: #008000 } /* Name.Builtin */\n",
       ".output_html .nc { color: #0000FF; font-weight: bold } /* Name.Class */\n",
       ".output_html .no { color: #880000 } /* Name.Constant */\n",
       ".output_html .nd { color: #AA22FF } /* Name.Decorator */\n",
       ".output_html .ni { color: #717171; font-weight: bold } /* Name.Entity */\n",
       ".output_html .ne { color: #CB3F38; font-weight: bold } /* Name.Exception */\n",
       ".output_html .nf { color: #0000FF } /* Name.Function */\n",
       ".output_html .nl { color: #767600 } /* Name.Label */\n",
       ".output_html .nn { color: #0000FF; font-weight: bold } /* Name.Namespace */\n",
       ".output_html .nt { color: #008000; font-weight: bold } /* Name.Tag */\n",
       ".output_html .nv { color: #19177C } /* Name.Variable */\n",
       ".output_html .ow { color: #AA22FF; font-weight: bold } /* Operator.Word */\n",
       ".output_html .w { color: #bbbbbb } /* Text.Whitespace */\n",
       ".output_html .mb { color: #666666 } /* Literal.Number.Bin */\n",
       ".output_html .mf { color: #666666 } /* Literal.Number.Float */\n",
       ".output_html .mh { color: #666666 } /* Literal.Number.Hex */\n",
       ".output_html .mi { color: #666666 } /* Literal.Number.Integer */\n",
       ".output_html .mo { color: #666666 } /* Literal.Number.Oct */\n",
       ".output_html .sa { color: #BA2121 } /* Literal.String.Affix */\n",
       ".output_html .sb { color: #BA2121 } /* Literal.String.Backtick */\n",
       ".output_html .sc { color: #BA2121 } /* Literal.String.Char */\n",
       ".output_html .dl { color: #BA2121 } /* Literal.String.Delimiter */\n",
       ".output_html .sd { color: #BA2121; font-style: italic } /* Literal.String.Doc */\n",
       ".output_html .s2 { color: #BA2121 } /* Literal.String.Double */\n",
       ".output_html .se { color: #AA5D1F; font-weight: bold } /* Literal.String.Escape */\n",
       ".output_html .sh { color: #BA2121 } /* Literal.String.Heredoc */\n",
       ".output_html .si { color: #A45A77; font-weight: bold } /* Literal.String.Interpol */\n",
       ".output_html .sx { color: #008000 } /* Literal.String.Other */\n",
       ".output_html .sr { color: #A45A77 } /* Literal.String.Regex */\n",
       ".output_html .s1 { color: #BA2121 } /* Literal.String.Single */\n",
       ".output_html .ss { color: #19177C } /* Literal.String.Symbol */\n",
       ".output_html .bp { color: #008000 } /* Name.Builtin.Pseudo */\n",
       ".output_html .fm { color: #0000FF } /* Name.Function.Magic */\n",
       ".output_html .vc { color: #19177C } /* Name.Variable.Class */\n",
       ".output_html .vg { color: #19177C } /* Name.Variable.Global */\n",
       ".output_html .vi { color: #19177C } /* Name.Variable.Instance */\n",
       ".output_html .vm { color: #19177C } /* Name.Variable.Magic */\n",
       ".output_html .il { color: #666666 } /* Literal.Number.Integer.Long */</style><div class=\"highlight\"><pre><span></span><span class=\"nn\">---</span>\n",
       "<span class=\"c1\"># The MLONMCU_HOME is filled in automatically when creating the environment</span>\n",
       "<span class=\"nt\">home</span><span class=\"p\">:</span><span class=\"w\"> </span><span class=\"s\">&quot;</span><span class=\"cp\">{{</span> <span class=\"nv\">home_dir</span> <span class=\"cp\">}}</span><span class=\"s\">&quot;</span>\n",
       "<span class=\"nt\">logging</span><span class=\"p\">:</span>\n",
       "<span class=\"w\">  </span><span class=\"nt\">level</span><span class=\"p\">:</span><span class=\"w\"> </span><span class=\"l l-Scalar l-Scalar-Plain\">INFO</span>\n",
       "<span class=\"w\">  </span><span class=\"nt\">to_file</span><span class=\"p\">:</span><span class=\"w\"> </span><span class=\"l l-Scalar l-Scalar-Plain\">false</span>\n",
       "<span class=\"w\">  </span><span class=\"nt\">rotate</span><span class=\"p\">:</span><span class=\"w\"> </span><span class=\"l l-Scalar l-Scalar-Plain\">false</span>\n",
       "<span class=\"nt\">cleanup</span><span class=\"p\">:</span>\n",
       "<span class=\"w\">  </span><span class=\"nt\">auto</span><span class=\"p\">:</span><span class=\"w\"> </span><span class=\"l l-Scalar l-Scalar-Plain\">true</span>\n",
       "<span class=\"w\">  </span><span class=\"nt\">keep</span><span class=\"p\">:</span><span class=\"w\"> </span><span class=\"l l-Scalar l-Scalar-Plain\">5</span>\n",
       "<span class=\"c1\"># Default locations for certain directoriescan be changed here</span>\n",
       "<span class=\"c1\"># Non-absolute paths will always be threated relative to the MLONMCU_HOME</span>\n",
       "<span class=\"nt\">paths</span><span class=\"p\">:</span>\n",
       "<span class=\"w\">  </span><span class=\"c1\"># Where the dependencies are downloaded and installed</span>\n",
       "<span class=\"w\">  </span><span class=\"nt\">deps</span><span class=\"p\">:</span><span class=\"w\"> </span><span class=\"l l-Scalar l-Scalar-Plain\">deps</span>\n",
       "<span class=\"w\">  </span><span class=\"c1\"># If logging to file is used keep logs in this directory</span>\n",
       "<span class=\"w\">  </span><span class=\"nt\">logs</span><span class=\"p\">:</span><span class=\"w\"> </span><span class=\"l l-Scalar l-Scalar-Plain\">logs</span>\n",
       "<span class=\"w\">  </span><span class=\"c1\"># Location where reports and artifacts are written to</span>\n",
       "<span class=\"w\">  </span><span class=\"nt\">results</span><span class=\"p\">:</span><span class=\"w\"> </span><span class=\"l l-Scalar l-Scalar-Plain\">results</span>\n",
       "<span class=\"w\">  </span><span class=\"c1\"># Directory where custom extensions can be integrated</span>\n",
       "<span class=\"w\">  </span><span class=\"nt\">plugins</span><span class=\"p\">:</span><span class=\"w\"> </span><span class=\"l l-Scalar l-Scalar-Plain\">plugins</span>\n",
       "<span class=\"w\">  </span><span class=\"c1\"># Directory for intermediate build products, should be located on a large enough drive</span>\n",
       "<span class=\"w\">  </span><span class=\"nt\">temp</span><span class=\"p\">:</span><span class=\"w\"> </span><span class=\"l l-Scalar l-Scalar-Plain\">temp</span>\n",
       "<span class=\"w\">  </span><span class=\"c1\"># A collection of models which will be used to look for models</span>\n",
       "<span class=\"w\">  </span><span class=\"c1\"># The paths will be checked in the order defined here stopping at the first match</span>\n",
       "<span class=\"w\">  </span><span class=\"c1\"># Non-existant paths will be skipped without throwing an error</span>\n",
       "<span class=\"w\">  </span><span class=\"nt\">models</span><span class=\"p\">:</span>\n",
       "<span class=\"w\">    </span><span class=\"p p-Indicator\">-</span><span class=\"w\"> </span><span class=\"s\">&quot;</span><span class=\"cp\">{{</span> <span class=\"nv\">home_dir</span> <span class=\"cp\">}}</span><span class=\"s\">/models&quot;</span>\n",
       "<span class=\"c1\"># Here default clone_urls</span>\n",
       "<span class=\"nt\">repos</span><span class=\"p\">:</span>\n",
       "<span class=\"w\">  </span><span class=\"nt\">tensorflow</span><span class=\"p\">:</span>\n",
       "<span class=\"w\">    </span><span class=\"nt\">url</span><span class=\"p\">:</span><span class=\"w\"> </span><span class=\"s\">&quot;https://github.com/tensorflow/tflite-micro.git&quot;</span>\n",
       "<span class=\"w\">    </span><span class=\"nt\">ref</span><span class=\"p\">:</span><span class=\"w\"> </span><span class=\"l l-Scalar l-Scalar-Plain\">93d4b1ccc6e0d1a9062acb1d79f21505daf9d940</span>\n",
       "<span class=\"w\">  </span><span class=\"nt\">mlif</span><span class=\"p\">:</span>\n",
       "<span class=\"w\">    </span><span class=\"nt\">url</span><span class=\"p\">:</span><span class=\"w\"> </span><span class=\"s\">&quot;https://github.com/tum-ei-eda/mlonmcu-sw.git&quot;</span>\n",
       "<span class=\"w\">    </span><span class=\"nt\">ref</span><span class=\"p\">:</span><span class=\"w\"> </span><span class=\"l l-Scalar l-Scalar-Plain\">c7b0e7364c232666ebd5a17476181e3ff9a71d70</span>\n",
       "<span class=\"w\">  </span><span class=\"nt\">spike</span><span class=\"p\">:</span>\n",
       "<span class=\"w\">    </span><span class=\"nt\">url</span><span class=\"p\">:</span><span class=\"w\"> </span><span class=\"s\">&quot;https://github.com/riscv-software-src/riscv-isa-sim.git&quot;</span>\n",
       "<span class=\"w\">    </span><span class=\"nt\">ref</span><span class=\"p\">:</span><span class=\"w\"> </span><span class=\"l l-Scalar l-Scalar-Plain\">0bc176b3fca43560b9e8586cdbc41cfde073e17a</span>\n",
       "<span class=\"w\">  </span><span class=\"nt\">spikepk</span><span class=\"p\">:</span>\n",
       "<span class=\"w\">    </span><span class=\"nt\">url</span><span class=\"p\">:</span><span class=\"w\"> </span><span class=\"s\">&quot;https://github.com/riscv-software-src/riscv-pk.git&quot;</span>\n",
       "<span class=\"w\">    </span><span class=\"nt\">ref</span><span class=\"p\">:</span><span class=\"w\"> </span><span class=\"l l-Scalar l-Scalar-Plain\">7e9b671c0415dfd7b562ac934feb9380075d4aa2</span>\n",
       "<span class=\"w\">  </span><span class=\"nt\">cmsis</span><span class=\"p\">:</span>\n",
       "<span class=\"w\">    </span><span class=\"nt\">url</span><span class=\"p\">:</span><span class=\"w\"> </span><span class=\"s\">&quot;https://github.com/ARM-software/CMSIS_5.git&quot;</span>\n",
       "<span class=\"w\">    </span><span class=\"nt\">ref</span><span class=\"p\">:</span><span class=\"w\"> </span><span class=\"l l-Scalar l-Scalar-Plain\">a75f01746df18bb5b929dfb8dc6c9407fac3a0f3</span>\n",
       "<span class=\"w\">  </span><span class=\"nt\">cmsisnn</span><span class=\"p\">:</span>\n",
       "<span class=\"w\">    </span><span class=\"nt\">url</span><span class=\"p\">:</span><span class=\"w\"> </span><span class=\"s\">&quot;https://github.com/ARM-software/CMSIS-NN.git&quot;</span>\n",
       "<span class=\"w\">    </span><span class=\"nt\">ref</span><span class=\"p\">:</span><span class=\"w\"> </span><span class=\"l l-Scalar l-Scalar-Plain\">040da18234b597867bd54d736ca4ceae545b2853</span>\n",
       "<span class=\"w\">  </span><span class=\"nt\">muriscvnn</span><span class=\"p\">:</span>\n",
       "<span class=\"w\">    </span><span class=\"nt\">url</span><span class=\"p\">:</span><span class=\"w\"> </span><span class=\"s\">&quot;https://github.com/tum-ei-eda/muriscv-nn.git&quot;</span>\n",
       "<span class=\"w\">    </span><span class=\"nt\">ref</span><span class=\"p\">:</span><span class=\"w\"> </span><span class=\"l l-Scalar l-Scalar-Plain\">71800396c2a07202265a8f92c85c33845a369494</span>\n",
       "<span class=\"nt\">frameworks</span><span class=\"p\">:</span>\n",
       "<span class=\"w\">  </span><span class=\"nt\">default</span><span class=\"p\">:</span><span class=\"w\"> </span><span class=\"l l-Scalar l-Scalar-Plain\">tflm</span>\n",
       "<span class=\"w\">  </span><span class=\"nt\">tflm</span><span class=\"p\">:</span>\n",
       "<span class=\"w\">    </span><span class=\"nt\">enabled</span><span class=\"p\">:</span><span class=\"w\"> </span><span class=\"l l-Scalar l-Scalar-Plain\">true</span>\n",
       "<span class=\"w\">    </span><span class=\"nt\">backends</span><span class=\"p\">:</span>\n",
       "<span class=\"w\">      </span><span class=\"nt\">default</span><span class=\"p\">:</span><span class=\"w\"> </span><span class=\"l l-Scalar l-Scalar-Plain\">tflmi</span>\n",
       "<span class=\"w\">      </span><span class=\"nt\">tflmi</span><span class=\"p\">:</span>\n",
       "<span class=\"w\">        </span><span class=\"nt\">enabled</span><span class=\"p\">:</span><span class=\"w\"> </span><span class=\"l l-Scalar l-Scalar-Plain\">true</span>\n",
       "<span class=\"w\">        </span><span class=\"nt\">features</span><span class=\"p\">:</span><span class=\"w\"> </span><span class=\"p p-Indicator\">{}</span>\n",
       "<span class=\"w\">    </span><span class=\"nt\">features</span><span class=\"p\">:</span>\n",
       "<span class=\"w\">      </span><span class=\"nt\">cmsisnn</span><span class=\"p\">:</span><span class=\"w\"> </span><span class=\"l l-Scalar l-Scalar-Plain\">true</span>\n",
       "<span class=\"w\">      </span><span class=\"nt\">muriscvnn</span><span class=\"p\">:</span><span class=\"w\"> </span><span class=\"l l-Scalar l-Scalar-Plain\">true</span>\n",
       "<span class=\"nt\">frontends</span><span class=\"p\">:</span>\n",
       "<span class=\"w\">  </span><span class=\"nt\">tflite</span><span class=\"p\">:</span>\n",
       "<span class=\"w\">    </span><span class=\"nt\">enabled</span><span class=\"p\">:</span><span class=\"w\"> </span><span class=\"l l-Scalar l-Scalar-Plain\">true</span>\n",
       "<span class=\"w\">    </span><span class=\"nt\">features</span><span class=\"p\">:</span><span class=\"w\"> </span><span class=\"p p-Indicator\">[]</span>\n",
       "<span class=\"nt\">toolchains</span><span class=\"p\">:</span>\n",
       "<span class=\"w\">  </span><span class=\"nt\">gcc</span><span class=\"p\">:</span><span class=\"w\"> </span><span class=\"l l-Scalar l-Scalar-Plain\">true</span>\n",
       "<span class=\"nt\">platforms</span><span class=\"p\">:</span>\n",
       "<span class=\"w\">  </span><span class=\"nt\">mlif</span><span class=\"p\">:</span>\n",
       "<span class=\"w\">    </span><span class=\"nt\">enabled</span><span class=\"p\">:</span><span class=\"w\"> </span><span class=\"l l-Scalar l-Scalar-Plain\">true</span>\n",
       "<span class=\"w\">    </span><span class=\"nt\">features</span><span class=\"p\">:</span>\n",
       "<span class=\"w\">      </span><span class=\"nt\">debug</span><span class=\"p\">:</span><span class=\"w\"> </span><span class=\"l l-Scalar l-Scalar-Plain\">true</span>\n",
       "<span class=\"nt\">targets</span><span class=\"p\">:</span>\n",
       "<span class=\"w\">  </span><span class=\"nt\">default</span><span class=\"p\">:</span><span class=\"w\"> </span><span class=\"l l-Scalar l-Scalar-Plain\">host_x86</span>\n",
       "<span class=\"w\">  </span><span class=\"nt\">spike</span><span class=\"p\">:</span>\n",
       "<span class=\"w\">    </span><span class=\"nt\">enabled</span><span class=\"p\">:</span><span class=\"w\"> </span><span class=\"l l-Scalar l-Scalar-Plain\">true</span>\n",
       "<span class=\"w\">    </span><span class=\"nt\">features</span><span class=\"p\">:</span><span class=\"w\"> </span><span class=\"p p-Indicator\">{}</span>\n",
       "<span class=\"w\">  </span><span class=\"nt\">host_x86</span><span class=\"p\">:</span>\n",
       "<span class=\"w\">    </span><span class=\"nt\">enabled</span><span class=\"p\">:</span><span class=\"w\"> </span><span class=\"l l-Scalar l-Scalar-Plain\">true</span>\n",
       "<span class=\"w\">    </span><span class=\"nt\">features</span><span class=\"p\">:</span><span class=\"w\"> </span><span class=\"p p-Indicator\">[]</span>\n",
       "<span class=\"nt\">postprocesses</span><span class=\"p\">:</span>\n",
       "<span class=\"w\">  </span><span class=\"nt\">use</span><span class=\"p\">:</span><span class=\"w\"> </span><span class=\"p p-Indicator\">[]</span>\n",
       "<span class=\"nt\">vars</span><span class=\"p\">:</span>\n",
       "<span class=\"w\">  </span><span class=\"nt\">allow_extensions</span><span class=\"p\">:</span><span class=\"w\"> </span><span class=\"l l-Scalar l-Scalar-Plain\">false</span>\n",
       "<span class=\"w\">  </span><span class=\"nt\">runs_per_stage</span><span class=\"p\">:</span><span class=\"w\"> </span><span class=\"l l-Scalar l-Scalar-Plain\">true</span>\n",
       "<span class=\"w\">  </span><span class=\"nt\">riscv_gcc.dl_url</span><span class=\"p\">:</span><span class=\"w\"> </span><span class=\"s\">&quot;https://syncandshare.lrz.de/dl/fiD9HnHYkb2V8kNbVQYv242m/rv32gc.tar.gz&quot;</span>\n",
       "<span class=\"nt\">flags</span><span class=\"p\">:</span><span class=\"w\"> </span><span class=\"p p-Indicator\">{}</span>\n",
       "</pre></div>\n"
      ],
      "text/latex": [
       "\\begin{Verbatim}[commandchars=\\\\\\{\\}]\n",
       "\\PY{n+nn}{\\PYZhy{}\\PYZhy{}\\PYZhy{}}\n",
       "\\PY{c+c1}{\\PYZsh{} The MLONMCU\\PYZus{}HOME is filled in automatically when creating the environment}\n",
       "\\PY{n+nt}{home}\\PY{p}{:}\\PY{+w}{ }\\PY{l+s}{\\PYZdq{}}\\PY{c+cp}{\\PYZob{}\\PYZob{}} \\PY{n+nv}{home\\PYZus{}dir} \\PY{c+cp}{\\PYZcb{}\\PYZcb{}}\\PY{l+s}{\\PYZdq{}}\n",
       "\\PY{n+nt}{logging}\\PY{p}{:}\n",
       "\\PY{+w}{  }\\PY{n+nt}{level}\\PY{p}{:}\\PY{+w}{ }\\PY{l+lScalar+lScalarPlain}{INFO}\n",
       "\\PY{+w}{  }\\PY{n+nt}{to\\PYZus{}file}\\PY{p}{:}\\PY{+w}{ }\\PY{l+lScalar+lScalarPlain}{false}\n",
       "\\PY{+w}{  }\\PY{n+nt}{rotate}\\PY{p}{:}\\PY{+w}{ }\\PY{l+lScalar+lScalarPlain}{false}\n",
       "\\PY{n+nt}{cleanup}\\PY{p}{:}\n",
       "\\PY{+w}{  }\\PY{n+nt}{auto}\\PY{p}{:}\\PY{+w}{ }\\PY{l+lScalar+lScalarPlain}{true}\n",
       "\\PY{+w}{  }\\PY{n+nt}{keep}\\PY{p}{:}\\PY{+w}{ }\\PY{l+lScalar+lScalarPlain}{5}\n",
       "\\PY{c+c1}{\\PYZsh{} Default locations for certain directoriescan be changed here}\n",
       "\\PY{c+c1}{\\PYZsh{} Non\\PYZhy{}absolute paths will always be threated relative to the MLONMCU\\PYZus{}HOME}\n",
       "\\PY{n+nt}{paths}\\PY{p}{:}\n",
       "\\PY{+w}{  }\\PY{c+c1}{\\PYZsh{} Where the dependencies are downloaded and installed}\n",
       "\\PY{+w}{  }\\PY{n+nt}{deps}\\PY{p}{:}\\PY{+w}{ }\\PY{l+lScalar+lScalarPlain}{deps}\n",
       "\\PY{+w}{  }\\PY{c+c1}{\\PYZsh{} If logging to file is used keep logs in this directory}\n",
       "\\PY{+w}{  }\\PY{n+nt}{logs}\\PY{p}{:}\\PY{+w}{ }\\PY{l+lScalar+lScalarPlain}{logs}\n",
       "\\PY{+w}{  }\\PY{c+c1}{\\PYZsh{} Location where reports and artifacts are written to}\n",
       "\\PY{+w}{  }\\PY{n+nt}{results}\\PY{p}{:}\\PY{+w}{ }\\PY{l+lScalar+lScalarPlain}{results}\n",
       "\\PY{+w}{  }\\PY{c+c1}{\\PYZsh{} Directory where custom extensions can be integrated}\n",
       "\\PY{+w}{  }\\PY{n+nt}{plugins}\\PY{p}{:}\\PY{+w}{ }\\PY{l+lScalar+lScalarPlain}{plugins}\n",
       "\\PY{+w}{  }\\PY{c+c1}{\\PYZsh{} Directory for intermediate build products, should be located on a large enough drive}\n",
       "\\PY{+w}{  }\\PY{n+nt}{temp}\\PY{p}{:}\\PY{+w}{ }\\PY{l+lScalar+lScalarPlain}{temp}\n",
       "\\PY{+w}{  }\\PY{c+c1}{\\PYZsh{} A collection of models which will be used to look for models}\n",
       "\\PY{+w}{  }\\PY{c+c1}{\\PYZsh{} The paths will be checked in the order defined here stopping at the first match}\n",
       "\\PY{+w}{  }\\PY{c+c1}{\\PYZsh{} Non\\PYZhy{}existant paths will be skipped without throwing an error}\n",
       "\\PY{+w}{  }\\PY{n+nt}{models}\\PY{p}{:}\n",
       "\\PY{+w}{    }\\PY{p+pIndicator}{\\PYZhy{}}\\PY{+w}{ }\\PY{l+s}{\\PYZdq{}}\\PY{c+cp}{\\PYZob{}\\PYZob{}} \\PY{n+nv}{home\\PYZus{}dir} \\PY{c+cp}{\\PYZcb{}\\PYZcb{}}\\PY{l+s}{/models}\\PY{l+s}{\\PYZdq{}}\n",
       "\\PY{c+c1}{\\PYZsh{} Here default clone\\PYZus{}urls}\n",
       "\\PY{n+nt}{repos}\\PY{p}{:}\n",
       "\\PY{+w}{  }\\PY{n+nt}{tensorflow}\\PY{p}{:}\n",
       "\\PY{+w}{    }\\PY{n+nt}{url}\\PY{p}{:}\\PY{+w}{ }\\PY{l+s}{\\PYZdq{}}\\PY{l+s}{https://github.com/tensorflow/tflite\\PYZhy{}micro.git}\\PY{l+s}{\\PYZdq{}}\n",
       "\\PY{+w}{    }\\PY{n+nt}{ref}\\PY{p}{:}\\PY{+w}{ }\\PY{l+lScalar+lScalarPlain}{93d4b1ccc6e0d1a9062acb1d79f21505daf9d940}\n",
       "\\PY{+w}{  }\\PY{n+nt}{mlif}\\PY{p}{:}\n",
       "\\PY{+w}{    }\\PY{n+nt}{url}\\PY{p}{:}\\PY{+w}{ }\\PY{l+s}{\\PYZdq{}}\\PY{l+s}{https://github.com/tum\\PYZhy{}ei\\PYZhy{}eda/mlonmcu\\PYZhy{}sw.git}\\PY{l+s}{\\PYZdq{}}\n",
       "\\PY{+w}{    }\\PY{n+nt}{ref}\\PY{p}{:}\\PY{+w}{ }\\PY{l+lScalar+lScalarPlain}{c7b0e7364c232666ebd5a17476181e3ff9a71d70}\n",
       "\\PY{+w}{  }\\PY{n+nt}{spike}\\PY{p}{:}\n",
       "\\PY{+w}{    }\\PY{n+nt}{url}\\PY{p}{:}\\PY{+w}{ }\\PY{l+s}{\\PYZdq{}}\\PY{l+s}{https://github.com/riscv\\PYZhy{}software\\PYZhy{}src/riscv\\PYZhy{}isa\\PYZhy{}sim.git}\\PY{l+s}{\\PYZdq{}}\n",
       "\\PY{+w}{    }\\PY{n+nt}{ref}\\PY{p}{:}\\PY{+w}{ }\\PY{l+lScalar+lScalarPlain}{0bc176b3fca43560b9e8586cdbc41cfde073e17a}\n",
       "\\PY{+w}{  }\\PY{n+nt}{spikepk}\\PY{p}{:}\n",
       "\\PY{+w}{    }\\PY{n+nt}{url}\\PY{p}{:}\\PY{+w}{ }\\PY{l+s}{\\PYZdq{}}\\PY{l+s}{https://github.com/riscv\\PYZhy{}software\\PYZhy{}src/riscv\\PYZhy{}pk.git}\\PY{l+s}{\\PYZdq{}}\n",
       "\\PY{+w}{    }\\PY{n+nt}{ref}\\PY{p}{:}\\PY{+w}{ }\\PY{l+lScalar+lScalarPlain}{7e9b671c0415dfd7b562ac934feb9380075d4aa2}\n",
       "\\PY{+w}{  }\\PY{n+nt}{cmsis}\\PY{p}{:}\n",
       "\\PY{+w}{    }\\PY{n+nt}{url}\\PY{p}{:}\\PY{+w}{ }\\PY{l+s}{\\PYZdq{}}\\PY{l+s}{https://github.com/ARM\\PYZhy{}software/CMSIS\\PYZus{}5.git}\\PY{l+s}{\\PYZdq{}}\n",
       "\\PY{+w}{    }\\PY{n+nt}{ref}\\PY{p}{:}\\PY{+w}{ }\\PY{l+lScalar+lScalarPlain}{a75f01746df18bb5b929dfb8dc6c9407fac3a0f3}\n",
       "\\PY{+w}{  }\\PY{n+nt}{cmsisnn}\\PY{p}{:}\n",
       "\\PY{+w}{    }\\PY{n+nt}{url}\\PY{p}{:}\\PY{+w}{ }\\PY{l+s}{\\PYZdq{}}\\PY{l+s}{https://github.com/ARM\\PYZhy{}software/CMSIS\\PYZhy{}NN.git}\\PY{l+s}{\\PYZdq{}}\n",
       "\\PY{+w}{    }\\PY{n+nt}{ref}\\PY{p}{:}\\PY{+w}{ }\\PY{l+lScalar+lScalarPlain}{040da18234b597867bd54d736ca4ceae545b2853}\n",
       "\\PY{+w}{  }\\PY{n+nt}{muriscvnn}\\PY{p}{:}\n",
       "\\PY{+w}{    }\\PY{n+nt}{url}\\PY{p}{:}\\PY{+w}{ }\\PY{l+s}{\\PYZdq{}}\\PY{l+s}{https://github.com/tum\\PYZhy{}ei\\PYZhy{}eda/muriscv\\PYZhy{}nn.git}\\PY{l+s}{\\PYZdq{}}\n",
       "\\PY{+w}{    }\\PY{n+nt}{ref}\\PY{p}{:}\\PY{+w}{ }\\PY{l+lScalar+lScalarPlain}{71800396c2a07202265a8f92c85c33845a369494}\n",
       "\\PY{n+nt}{frameworks}\\PY{p}{:}\n",
       "\\PY{+w}{  }\\PY{n+nt}{default}\\PY{p}{:}\\PY{+w}{ }\\PY{l+lScalar+lScalarPlain}{tflm}\n",
       "\\PY{+w}{  }\\PY{n+nt}{tflm}\\PY{p}{:}\n",
       "\\PY{+w}{    }\\PY{n+nt}{enabled}\\PY{p}{:}\\PY{+w}{ }\\PY{l+lScalar+lScalarPlain}{true}\n",
       "\\PY{+w}{    }\\PY{n+nt}{backends}\\PY{p}{:}\n",
       "\\PY{+w}{      }\\PY{n+nt}{default}\\PY{p}{:}\\PY{+w}{ }\\PY{l+lScalar+lScalarPlain}{tflmi}\n",
       "\\PY{+w}{      }\\PY{n+nt}{tflmi}\\PY{p}{:}\n",
       "\\PY{+w}{        }\\PY{n+nt}{enabled}\\PY{p}{:}\\PY{+w}{ }\\PY{l+lScalar+lScalarPlain}{true}\n",
       "\\PY{+w}{        }\\PY{n+nt}{features}\\PY{p}{:}\\PY{+w}{ }\\PY{p+pIndicator}{\\PYZob{}}\\PY{p+pIndicator}{\\PYZcb{}}\n",
       "\\PY{+w}{    }\\PY{n+nt}{features}\\PY{p}{:}\n",
       "\\PY{+w}{      }\\PY{n+nt}{cmsisnn}\\PY{p}{:}\\PY{+w}{ }\\PY{l+lScalar+lScalarPlain}{true}\n",
       "\\PY{+w}{      }\\PY{n+nt}{muriscvnn}\\PY{p}{:}\\PY{+w}{ }\\PY{l+lScalar+lScalarPlain}{true}\n",
       "\\PY{n+nt}{frontends}\\PY{p}{:}\n",
       "\\PY{+w}{  }\\PY{n+nt}{tflite}\\PY{p}{:}\n",
       "\\PY{+w}{    }\\PY{n+nt}{enabled}\\PY{p}{:}\\PY{+w}{ }\\PY{l+lScalar+lScalarPlain}{true}\n",
       "\\PY{+w}{    }\\PY{n+nt}{features}\\PY{p}{:}\\PY{+w}{ }\\PY{p+pIndicator}{[}\\PY{p+pIndicator}{]}\n",
       "\\PY{n+nt}{toolchains}\\PY{p}{:}\n",
       "\\PY{+w}{  }\\PY{n+nt}{gcc}\\PY{p}{:}\\PY{+w}{ }\\PY{l+lScalar+lScalarPlain}{true}\n",
       "\\PY{n+nt}{platforms}\\PY{p}{:}\n",
       "\\PY{+w}{  }\\PY{n+nt}{mlif}\\PY{p}{:}\n",
       "\\PY{+w}{    }\\PY{n+nt}{enabled}\\PY{p}{:}\\PY{+w}{ }\\PY{l+lScalar+lScalarPlain}{true}\n",
       "\\PY{+w}{    }\\PY{n+nt}{features}\\PY{p}{:}\n",
       "\\PY{+w}{      }\\PY{n+nt}{debug}\\PY{p}{:}\\PY{+w}{ }\\PY{l+lScalar+lScalarPlain}{true}\n",
       "\\PY{n+nt}{targets}\\PY{p}{:}\n",
       "\\PY{+w}{  }\\PY{n+nt}{default}\\PY{p}{:}\\PY{+w}{ }\\PY{l+lScalar+lScalarPlain}{host\\PYZus{}x86}\n",
       "\\PY{+w}{  }\\PY{n+nt}{spike}\\PY{p}{:}\n",
       "\\PY{+w}{    }\\PY{n+nt}{enabled}\\PY{p}{:}\\PY{+w}{ }\\PY{l+lScalar+lScalarPlain}{true}\n",
       "\\PY{+w}{    }\\PY{n+nt}{features}\\PY{p}{:}\\PY{+w}{ }\\PY{p+pIndicator}{\\PYZob{}}\\PY{p+pIndicator}{\\PYZcb{}}\n",
       "\\PY{+w}{  }\\PY{n+nt}{host\\PYZus{}x86}\\PY{p}{:}\n",
       "\\PY{+w}{    }\\PY{n+nt}{enabled}\\PY{p}{:}\\PY{+w}{ }\\PY{l+lScalar+lScalarPlain}{true}\n",
       "\\PY{+w}{    }\\PY{n+nt}{features}\\PY{p}{:}\\PY{+w}{ }\\PY{p+pIndicator}{[}\\PY{p+pIndicator}{]}\n",
       "\\PY{n+nt}{postprocesses}\\PY{p}{:}\n",
       "\\PY{+w}{  }\\PY{n+nt}{use}\\PY{p}{:}\\PY{+w}{ }\\PY{p+pIndicator}{[}\\PY{p+pIndicator}{]}\n",
       "\\PY{n+nt}{vars}\\PY{p}{:}\n",
       "\\PY{+w}{  }\\PY{n+nt}{allow\\PYZus{}extensions}\\PY{p}{:}\\PY{+w}{ }\\PY{l+lScalar+lScalarPlain}{false}\n",
       "\\PY{+w}{  }\\PY{n+nt}{runs\\PYZus{}per\\PYZus{}stage}\\PY{p}{:}\\PY{+w}{ }\\PY{l+lScalar+lScalarPlain}{true}\n",
       "\\PY{+w}{  }\\PY{n+nt}{riscv\\PYZus{}gcc.dl\\PYZus{}url}\\PY{p}{:}\\PY{+w}{ }\\PY{l+s}{\\PYZdq{}}\\PY{l+s}{https://syncandshare.lrz.de/dl/fiD9HnHYkb2V8kNbVQYv242m/rv32gc.tar.gz}\\PY{l+s}{\\PYZdq{}}\n",
       "\\PY{n+nt}{flags}\\PY{p}{:}\\PY{+w}{ }\\PY{p+pIndicator}{\\PYZob{}}\\PY{p+pIndicator}{\\PYZcb{}}\n",
       "\\end{Verbatim}\n"
      ],
      "text/plain": [
       "---\n",
       "# The MLONMCU_HOME is filled in automatically when creating the environment\n",
       "home: \"{{ home_dir }}\"\n",
       "logging:\n",
       "  level: INFO\n",
       "  to_file: false\n",
       "  rotate: false\n",
       "cleanup:\n",
       "  auto: true\n",
       "  keep: 5\n",
       "# Default locations for certain directoriescan be changed here\n",
       "# Non-absolute paths will always be threated relative to the MLONMCU_HOME\n",
       "paths:\n",
       "  # Where the dependencies are downloaded and installed\n",
       "  deps: deps\n",
       "  # If logging to file is used keep logs in this directory\n",
       "  logs: logs\n",
       "  # Location where reports and artifacts are written to\n",
       "  results: results\n",
       "  # Directory where custom extensions can be integrated\n",
       "  plugins: plugins\n",
       "  # Directory for intermediate build products, should be located on a large enough drive\n",
       "  temp: temp\n",
       "  # A collection of models which will be used to look for models\n",
       "  # The paths will be checked in the order defined here stopping at the first match\n",
       "  # Non-existant paths will be skipped without throwing an error\n",
       "  models:\n",
       "    - \"{{ home_dir }}/models\"\n",
       "# Here default clone_urls\n",
       "repos:\n",
       "  tensorflow:\n",
       "    url: \"https://github.com/tensorflow/tflite-micro.git\"\n",
       "    ref: 93d4b1ccc6e0d1a9062acb1d79f21505daf9d940\n",
       "  mlif:\n",
       "    url: \"https://github.com/tum-ei-eda/mlonmcu-sw.git\"\n",
       "    ref: c7b0e7364c232666ebd5a17476181e3ff9a71d70\n",
       "  spike:\n",
       "    url: \"https://github.com/riscv-software-src/riscv-isa-sim.git\"\n",
       "    ref: 0bc176b3fca43560b9e8586cdbc41cfde073e17a\n",
       "  spikepk:\n",
       "    url: \"https://github.com/riscv-software-src/riscv-pk.git\"\n",
       "    ref: 7e9b671c0415dfd7b562ac934feb9380075d4aa2\n",
       "  cmsis:\n",
       "    url: \"https://github.com/ARM-software/CMSIS_5.git\"\n",
       "    ref: a75f01746df18bb5b929dfb8dc6c9407fac3a0f3\n",
       "  cmsisnn:\n",
       "    url: \"https://github.com/ARM-software/CMSIS-NN.git\"\n",
       "    ref: 040da18234b597867bd54d736ca4ceae545b2853\n",
       "  muriscvnn:\n",
       "    url: \"https://github.com/tum-ei-eda/muriscv-nn.git\"\n",
       "    ref: 71800396c2a07202265a8f92c85c33845a369494\n",
       "frameworks:\n",
       "  default: tflm\n",
       "  tflm:\n",
       "    enabled: true\n",
       "    backends:\n",
       "      default: tflmi\n",
       "      tflmi:\n",
       "        enabled: true\n",
       "        features: {}\n",
       "    features:\n",
       "      cmsisnn: true\n",
       "      muriscvnn: true\n",
       "frontends:\n",
       "  tflite:\n",
       "    enabled: true\n",
       "    features: []\n",
       "toolchains:\n",
       "  gcc: true\n",
       "platforms:\n",
       "  mlif:\n",
       "    enabled: true\n",
       "    features:\n",
       "      debug: true\n",
       "targets:\n",
       "  default: host_x86\n",
       "  spike:\n",
       "    enabled: true\n",
       "    features: {}\n",
       "  host_x86:\n",
       "    enabled: true\n",
       "    features: []\n",
       "postprocesses:\n",
       "  use: []\n",
       "vars:\n",
       "  allow_extensions: false\n",
       "  runs_per_stage: true\n",
       "  riscv_gcc.dl_url: \"https://syncandshare.lrz.de/dl/fiD9HnHYkb2V8kNbVQYv242m/rv32gc.tar.gz\"\n",
       "flags: {}"
      ]
     },
     "execution_count": 3,
     "metadata": {},
     "output_type": "execute_result"
    }
   ],
   "source": [
    "Code(filename=\"environment.yml.j2\")"
   ]
  },
  {
   "cell_type": "markdown",
   "id": "4d140308",
   "metadata": {},
   "source": [
    "Do not forget to set your `MLONMCU_HOME` environment variable first if not using the default location!"
   ]
  },
  {
   "cell_type": "markdown",
   "id": "a3bac781",
   "metadata": {},
   "source": [
    "## Usage"
   ]
  },
  {
   "cell_type": "markdown",
   "id": "0c7c9a98",
   "metadata": {},
   "source": [
    "The following experiments mainly discuss the ROM usage or more specifically the code size (e.g. how large is the `.text` ELF section). Only the scalar version (non-SIMD) versions of the library are discussed in the following!\n",
    "\n",
    "*Warning:* Wile muRISCV-NN and CMSIS-NN share a very similar code-base, differences in the observed ROM metrics are expected, espiecially when comparing different compilers (e.g. ARM-GCC vs. RISC-V) and eventually different optimization flags."
   ]
  },
  {
   "cell_type": "markdown",
   "id": "f01b54e2",
   "metadata": {},
   "source": [
    "### A) Command Line Interface"
   ]
  },
  {
   "cell_type": "markdown",
   "id": "2b333851",
   "metadata": {},
   "source": [
    "First we want to check if the `muriscvnn` and `cmsisnn` feature are working as expected with a simple (2 models, 1 target) benchmark configuration:"
   ]
  },
  {
   "cell_type": "code",
   "execution_count": 4,
   "id": "43576c35",
   "metadata": {
    "execution": {
     "iopub.execute_input": "2023-12-30T23:42:10.835670Z",
     "iopub.status.busy": "2023-12-30T23:42:10.835442Z",
     "iopub.status.idle": "2023-12-30T23:52:42.738843Z",
     "shell.execute_reply": "2023-12-30T23:52:42.738149Z"
    }
   },
   "outputs": [
    {
     "name": "stdout",
     "output_type": "stream",
     "text": [
      "INFO - Loading environment cache from file\r\n",
      "INFO - Successfully initialized cache\r\n",
<<<<<<< HEAD
      "INFO - [session-9]  Processing stage LOAD\r\n",
      "INFO - [session-9]  Processing stage BUILD\r\n",
      "INFO - [session-9]  Processing stage COMPILE\r\n",
      "INFO - [session-9]  Processing stage RUN\r\n",
      "INFO - All runs completed successfuly!\r\n",
      "INFO - Postprocessing session report\r\n",
      "INFO - [session-9] Done processing runs\r\n",
      "INFO - Report:\r\n",
      "   Session  Run   Model Frontend Framework Backend Platform Target  Total Cycles  Total Instructions  Total CPI  Validation  Total ROM  Total RAM  ROM read-only  ROM code  ROM misc  RAM data  RAM zero-init data     Features                                             Config Postprocesses Comment\r\n",
      "0        9    0     aww   tflite      tflm   tflmi     mlif  spike      45594676            45594676        1.0        True     153225      36168          63557     89652        16      2800               33368           []  {'aww.output_shapes': {'Identity': [1, 12]}, '...            []       -\r\n",
      "1        9    1     aww   tflite      tflm   tflmi     mlif  spike      15248124            15248124        1.0        True     179322      36176          63560    115746        16      2808               33368  [muriscvnn]  {'aww.output_shapes': {'Identity': [1, 12]}, '...            []       -\r\n",
      "2        9    2     aww   tflite      tflm   tflmi     mlif  spike      16597146            16597146        1.0        True     179525      36176          63557    115952        16      2808               33368    [cmsisnn]  {'aww.output_shapes': {'Identity': [1, 12]}, '...            []       -\r\n",
      "3        9    3  resnet   tflite      tflm   tflmi     mlif  spike     145098497           145098497        1.0        True     200371      68940         102405     97950        16      2804               66136           []  {'resnet.output_shapes': {'Identity_int8': [1,...            []       -\r\n",
      "4        9    4  resnet   tflite      tflm   tflmi     mlif  spike      54977756            54977756        1.0        True     217830      68932         102408    115406        16      2796               66136  [muriscvnn]  {'resnet.output_shapes': {'Identity_int8': [1,...            []       -\r\n",
      "5        9    5  resnet   tflite      tflm   tflmi     mlif  spike      63907632            63907632        1.0        True     218937      68932         102405    116516        16      2796               66136    [cmsisnn]  {'resnet.output_shapes': {'Identity_int8': [1,...            []       -\r\n"
=======
      "INFO -  Processing stage LOAD\r\n",
      "INFO -  Processing stage BUILD\r\n",
      "INFO -  Processing stage COMPILE\r\n",
      "INFO -  Processing stage RUN\r\n",
      "INFO - All runs completed successfuly!\r\n",
      "INFO - Postprocessing session report\r\n",
      "INFO - Done processing runs\r\n",
      "INFO - Report:\r\n",
      "   Session  Run   Model Frontend Framework Backend Platform Target  Total Cycles  Total Instructions  Total CPI  Validation  Total ROM  Total RAM  ROM read-only  ROM code  ROM misc  RAM data  RAM zero-init data     Features                                             Config Postprocesses Comment\r\n",
      "0        0    0     aww   tflite      tflm   tflmi     mlif  spike      45594676            45594676        1.0        True     153225      36168          63557     89652        16      2800               33368           []  {'aww.output_shapes': {'Identity': [1, 12]}, '...            []       -\r\n",
      "1        0    1     aww   tflite      tflm   tflmi     mlif  spike      15248124            15248124        1.0        True     179322      36176          63560    115746        16      2808               33368  [muriscvnn]  {'aww.output_shapes': {'Identity': [1, 12]}, '...            []       -\r\n",
      "2        0    2     aww   tflite      tflm   tflmi     mlif  spike      16597146            16597146        1.0        True     179525      36176          63557    115952        16      2808               33368    [cmsisnn]  {'aww.output_shapes': {'Identity': [1, 12]}, '...            []       -\r\n",
      "3        0    3  resnet   tflite      tflm   tflmi     mlif  spike     145098497           145098497        1.0        True     200371      68940         102405     97950        16      2804               66136           []  {'resnet.output_shapes': {'Identity_int8': [1,...            []       -\r\n",
      "4        0    4  resnet   tflite      tflm   tflmi     mlif  spike      54977756            54977756        1.0        True     217830      68932         102408    115406        16      2796               66136  [muriscvnn]  {'resnet.output_shapes': {'Identity_int8': [1,...            []       -\r\n",
      "5        0    5  resnet   tflite      tflm   tflmi     mlif  spike      63907632            63907632        1.0        True     218937      68932         102405    116516        16      2796               66136    [cmsisnn]  {'resnet.output_shapes': {'Identity_int8': [1,...            []       -\r\n"
>>>>>>> 49b6eb9779e354659ea86037bc1ee7589551fb55
     ]
    }
   ],
   "source": [
    "!python -m mlonmcu.cli.main flow run aww resnet -b tflmi -t spike \\\n",
    "        --feature-gen _ --feature-gen muriscvnn --feature-gen cmsisnn"
   ]
  },
  {
   "cell_type": "markdown",
   "id": "8fc7aaaf",
   "metadata": {},
   "source": [
    "Now let's focus on the reported ROM metrics running only until the `build` instead of the `run` stage."
   ]
  },
  {
   "cell_type": "code",
   "execution_count": 5,
   "id": "53c89e22",
   "metadata": {
    "execution": {
<<<<<<< HEAD
     "iopub.execute_input": "2023-12-30T23:14:02.888605Z",
     "iopub.status.busy": "2023-12-30T23:14:02.888147Z",
     "iopub.status.idle": "2023-12-30T23:16:04.752435Z",
     "shell.execute_reply": "2023-12-30T23:16:04.750943Z"
=======
     "iopub.execute_input": "2023-12-30T23:52:42.742190Z",
     "iopub.status.busy": "2023-12-30T23:52:42.741740Z",
     "iopub.status.idle": "2023-12-31T00:03:12.544136Z",
     "shell.execute_reply": "2023-12-31T00:03:12.543463Z"
>>>>>>> 49b6eb9779e354659ea86037bc1ee7589551fb55
    }
   },
   "outputs": [
    {
     "name": "stdout",
     "output_type": "stream",
     "text": [
      "INFO - Loading environment cache from file\r\n",
      "INFO - Successfully initialized cache\r\n",
<<<<<<< HEAD
      "INFO - [session-10]  Processing stage LOAD\r\n",
      "INFO - [session-10]  Processing stage BUILD\r\n",
      "INFO - [session-10]  Processing stage COMPILE\r\n",
      "INFO - [session-10]  Processing stage RUN\r\n",
      "INFO - [session-10]  Processing stage POSTPROCESS\r\n",
      "INFO - All runs completed successfuly!\r\n",
      "INFO - Postprocessing session report\r\n",
      "INFO - [session-10] Done processing runs\r\n",
=======
      "INFO - [session-1]  Processing stage LOAD\r\n",
      "INFO - [session-1]  Processing stage BUILD\r\n",
      "INFO - [session-1]  Processing stage COMPILE\r\n",
      "INFO - [session-1]  Processing stage RUN\r\n",
      "INFO - [session-1]  Processing stage POSTPROCESS\r\n",
      "INFO - All runs completed successfuly!\r\n",
      "INFO - Postprocessing session report\r\n",
      "INFO - [session-1] Done processing runs\r\n",
>>>>>>> 49b6eb9779e354659ea86037bc1ee7589551fb55
      "INFO - Report:\r\n",
      "    Model  Total Cycles  Total ROM  ROM read-only  ROM code     Features\r\n",
      "0     aww      45594676     153225          63557     89652           []\r\n",
      "1     aww      15248124     179322          63560    115746  [muriscvnn]\r\n",
      "2     aww      16597146     179525          63557    115952    [cmsisnn]\r\n",
      "3  resnet     145098497     200371         102405     97950           []\r\n",
      "4  resnet      54977756     217830         102408    115406  [muriscvnn]\r\n",
      "5  resnet      63907632     218937         102405    116516    [cmsisnn]\r\n"
     ]
    }
   ],
   "source": [
    "!python -m mlonmcu.cli.main flow run aww resnet -b tflmi -t spike \\\n",
    "        --feature-gen _ --feature-gen muriscvnn --feature-gen cmsisnn \\\n",
    "        --postprocess filter_cols --config filter_cols.keep=\"Model,Total Cycles,Features,Total ROM,ROM read-only,ROM code, ROM misc\""
   ]
  },
  {
   "cell_type": "markdown",
   "id": "c9776cd6",
   "metadata": {},
   "source": [
    "Above we have some preliminary results. It can be seen that the muRISCV-NN library adds another 5-15kB in terms of ROM usage to the baseline which is probably dominated by the TFLite Micro Interpreter itself.\n",
    "However these programs compiled for optimal performance (using the `-O3` compiler optimization flag). Maybe we can improve the ROM usage by some amount by telling MLonMCU to optimize for size (`-Os`) instead?"
   ]
  },
  {
   "cell_type": "code",
   "execution_count": 6,
   "id": "230211f7",
   "metadata": {
    "execution": {
<<<<<<< HEAD
     "iopub.execute_input": "2023-12-30T23:16:04.758943Z",
     "iopub.status.busy": "2023-12-30T23:16:04.758426Z",
     "iopub.status.idle": "2023-12-30T23:18:09.522694Z",
     "shell.execute_reply": "2023-12-30T23:18:09.521327Z"
=======
     "iopub.execute_input": "2023-12-31T00:03:12.547189Z",
     "iopub.status.busy": "2023-12-31T00:03:12.546982Z",
     "iopub.status.idle": "2023-12-31T00:13:30.469633Z",
     "shell.execute_reply": "2023-12-31T00:13:30.468823Z"
>>>>>>> 49b6eb9779e354659ea86037bc1ee7589551fb55
    }
   },
   "outputs": [
    {
     "name": "stdout",
     "output_type": "stream",
     "text": [
      "INFO - Loading environment cache from file\r\n",
      "INFO - Successfully initialized cache\r\n",
<<<<<<< HEAD
      "INFO - [session-11]  Processing stage LOAD\r\n",
      "INFO - [session-11]  Processing stage BUILD\r\n",
      "INFO - [session-11]  Processing stage COMPILE\r\n",
      "INFO - [session-11]  Processing stage RUN\r\n",
      "INFO - [session-11]  Processing stage POSTPROCESS\r\n",
      "INFO - All runs completed successfuly!\r\n",
      "INFO - Postprocessing session report\r\n",
      "INFO - [session-11] Done processing runs\r\n",
=======
      "INFO - [session-2]  Processing stage LOAD\r\n",
      "INFO - [session-2]  Processing stage BUILD\r\n",
      "INFO - [session-2]  Processing stage COMPILE\r\n",
      "INFO - [session-2]  Processing stage RUN\r\n",
      "INFO - [session-2]  Processing stage POSTPROCESS\r\n",
      "INFO - All runs completed successfuly!\r\n",
      "INFO - Postprocessing session report\r\n",
      "INFO - [session-2] Done processing runs\r\n",
>>>>>>> 49b6eb9779e354659ea86037bc1ee7589551fb55
      "INFO - Report:\r\n",
      "    Model  Total Cycles  Total ROM  ROM read-only  ROM code     Features\r\n",
      "0     aww     172565059     142627          63521     79090           []\r\n",
      "1     aww      17175092     161266          63524     97726  [muriscvnn]\r\n",
      "2     aww      16711296     172819          63521    109282    [cmsisnn]\r\n",
      "3  resnet     769033691     183107         102369     80722           []\r\n",
      "4  resnet      81588051     195608         102372     93220  [muriscvnn]\r\n",
      "5  resnet      63995913     205073         102369    102688    [cmsisnn]\r\n"
     ]
    }
   ],
   "source": [
    "!python -m mlonmcu.cli.main flow run aww resnet -b tflmi -t spike --config mlif.optimize=s \\\n",
    "        --feature-gen _ --feature-gen muriscvnn --feature-gen cmsisnn \\\n",
    "        --postprocess filter_cols --config filter_cols.keep=\"Model,Total Cycles,Features,Total ROM,ROM read-only,ROM code, ROM misc\""
   ]
  },
  {
   "cell_type": "markdown",
   "id": "0de7b57a",
   "metadata": {},
   "source": [
    "~~Well this looks better, but not optimal. One issue here is, that CMSIS-NN lacks an possibility to pass over the optimization flags from  another CMake project. Hence in the end only the non CMSIS-NN/muRISCV-NN code was compiled with `-Os`.~~ (fixed in new version of MLonMCU)"
   ]
  },
  {
   "cell_type": "markdown",
   "id": "4238333c",
   "metadata": {},
   "source": [
    "### B) Python Scripting"
   ]
  },
  {
   "cell_type": "markdown",
   "id": "b500fc47",
   "metadata": {},
   "source": [
    "To achieve the previous results with a Python script, only a few lines of code are required. Let's start with some imports:"
   ]
  },
  {
   "cell_type": "code",
   "execution_count": 7,
   "id": "78c53970",
   "metadata": {
    "execution": {
<<<<<<< HEAD
     "iopub.execute_input": "2023-12-30T23:18:09.529648Z",
     "iopub.status.busy": "2023-12-30T23:18:09.529013Z",
     "iopub.status.idle": "2023-12-30T23:18:09.927186Z",
     "shell.execute_reply": "2023-12-30T23:18:09.926374Z"
=======
     "iopub.execute_input": "2023-12-31T00:13:30.472958Z",
     "iopub.status.busy": "2023-12-31T00:13:30.472762Z",
     "iopub.status.idle": "2023-12-31T00:13:30.857902Z",
     "shell.execute_reply": "2023-12-31T00:13:30.857139Z"
>>>>>>> 49b6eb9779e354659ea86037bc1ee7589551fb55
    }
   },
   "outputs": [],
   "source": [
    "from tempfile import TemporaryDirectory\n",
    "from pathlib import Path\n",
    "\n",
    "from mlonmcu.context.context import MlonMcuContext\n",
    "from mlonmcu.session.run import RunStage"
   ]
  },
  {
   "cell_type": "markdown",
   "id": "86046913",
   "metadata": {},
   "source": [
    "Benchmark Configuration"
   ]
  },
  {
   "cell_type": "code",
   "execution_count": 8,
   "id": "2f6c5e5a",
   "metadata": {
    "execution": {
<<<<<<< HEAD
     "iopub.execute_input": "2023-12-30T23:18:09.931533Z",
     "iopub.status.busy": "2023-12-30T23:18:09.931116Z",
     "iopub.status.idle": "2023-12-30T23:18:09.935770Z",
     "shell.execute_reply": "2023-12-30T23:18:09.935043Z"
=======
     "iopub.execute_input": "2023-12-31T00:13:30.861284Z",
     "iopub.status.busy": "2023-12-31T00:13:30.860798Z",
     "iopub.status.idle": "2023-12-31T00:13:30.864892Z",
     "shell.execute_reply": "2023-12-31T00:13:30.864341Z"
>>>>>>> 49b6eb9779e354659ea86037bc1ee7589551fb55
    }
   },
   "outputs": [],
   "source": [
    "FRONTEND = \"tflite\"\n",
    "MODELS = [\"aww\", \"resnet\"]\n",
    "BACKEND = \"tflmi\"\n",
    "PLATFORM = \"mlif\"\n",
    "TARGET = \"spike\"\n",
    "POSTPROCESSES = [\"config2cols\", \"rename_cols\", \"filter_cols\"]\n",
    "FEATURES = [[], [\"cmsisnn\"], [\"muriscvnn\"]]\n",
    "CONFIG = {\n",
    "    \"mlif.optimize\": \"s\",\n",
    "    \"filter_cols.keep\": [\"Model\", \"Total Cycles\", \"ROM code\", \"Features\"]\n",
    "}"
   ]
  },
  {
   "cell_type": "markdown",
   "id": "966cc3fe",
   "metadata": {},
   "source": [
    "Initialize and run a single benchmark"
   ]
  },
  {
   "cell_type": "code",
   "execution_count": 9,
   "id": "ebe63369",
   "metadata": {
    "execution": {
<<<<<<< HEAD
     "iopub.execute_input": "2023-12-30T23:18:09.940791Z",
     "iopub.status.busy": "2023-12-30T23:18:09.940101Z",
     "iopub.status.idle": "2023-12-30T23:20:14.980348Z",
     "shell.execute_reply": "2023-12-30T23:20:14.979505Z"
=======
     "iopub.execute_input": "2023-12-31T00:13:30.867414Z",
     "iopub.status.busy": "2023-12-31T00:13:30.867006Z",
     "iopub.status.idle": "2023-12-31T00:23:45.267721Z",
     "shell.execute_reply": "2023-12-31T00:23:45.267088Z"
>>>>>>> 49b6eb9779e354659ea86037bc1ee7589551fb55
    }
   },
   "outputs": [
    {
     "name": "stdout",
     "output_type": "stream",
     "text": [
      "INFO - Loading environment cache from file\n",
      "INFO - Successfully initialized cache\n",
<<<<<<< HEAD
      "INFO - [session-12] Processing all stages\n",
      "INFO - All runs completed successfuly!\n",
      "INFO - Postprocessing session report\n",
      "INFO - [session-12] Done processing runs\n"
=======
      "INFO - [session-3] Processing all stages\n",
      "INFO - All runs completed successfuly!\n",
      "INFO - Postprocessing session report\n",
      "INFO - [session-3] Done processing runs\n"
>>>>>>> 49b6eb9779e354659ea86037bc1ee7589551fb55
     ]
    },
    {
     "data": {
      "text/html": [
       "<div>\n",
       "<style scoped>\n",
       "    .dataframe tbody tr th:only-of-type {\n",
       "        vertical-align: middle;\n",
       "    }\n",
       "\n",
       "    .dataframe tbody tr th {\n",
       "        vertical-align: top;\n",
       "    }\n",
       "\n",
       "    .dataframe thead th {\n",
       "        text-align: right;\n",
       "    }\n",
       "</style>\n",
       "<table border=\"1\" class=\"dataframe\">\n",
       "  <thead>\n",
       "    <tr style=\"text-align: right;\">\n",
       "      <th></th>\n",
       "      <th>Model</th>\n",
       "      <th>Total Cycles</th>\n",
       "      <th>ROM code</th>\n",
       "      <th>Features</th>\n",
       "    </tr>\n",
       "  </thead>\n",
       "  <tbody>\n",
       "    <tr>\n",
       "      <th>0</th>\n",
       "      <td>aww</td>\n",
       "      <td>172565059</td>\n",
       "      <td>79090</td>\n",
       "      <td>[]</td>\n",
       "    </tr>\n",
       "    <tr>\n",
       "      <th>1</th>\n",
       "      <td>aww</td>\n",
       "      <td>16711296</td>\n",
       "      <td>109282</td>\n",
       "      <td>[cmsisnn]</td>\n",
       "    </tr>\n",
       "    <tr>\n",
       "      <th>2</th>\n",
       "      <td>aww</td>\n",
       "      <td>17175092</td>\n",
       "      <td>97726</td>\n",
       "      <td>[muriscvnn]</td>\n",
       "    </tr>\n",
       "    <tr>\n",
       "      <th>3</th>\n",
       "      <td>resnet</td>\n",
       "      <td>769033691</td>\n",
       "      <td>80722</td>\n",
       "      <td>[]</td>\n",
       "    </tr>\n",
       "    <tr>\n",
       "      <th>4</th>\n",
       "      <td>resnet</td>\n",
       "      <td>63995913</td>\n",
       "      <td>102688</td>\n",
       "      <td>[cmsisnn]</td>\n",
       "    </tr>\n",
       "    <tr>\n",
       "      <th>5</th>\n",
       "      <td>resnet</td>\n",
       "      <td>81588051</td>\n",
       "      <td>93220</td>\n",
       "      <td>[muriscvnn]</td>\n",
       "    </tr>\n",
       "  </tbody>\n",
       "</table>\n",
       "</div>"
      ],
      "text/plain": [
       "    Model  Total Cycles  ROM code     Features\n",
       "0     aww     172565059     79090           []\n",
       "1     aww      16711296    109282    [cmsisnn]\n",
       "2     aww      17175092     97726  [muriscvnn]\n",
       "3  resnet     769033691     80722           []\n",
       "4  resnet      63995913    102688    [cmsisnn]\n",
       "5  resnet      81588051     93220  [muriscvnn]"
      ]
     },
     "execution_count": 9,
     "metadata": {},
     "output_type": "execute_result"
    }
   ],
   "source": [
    "with MlonMcuContext() as context:\n",
    "    with context.create_session() as session:\n",
    "        for model in MODELS:\n",
    "            for features in FEATURES:\n",
    "                def helper(session):\n",
    "                    cfg = CONFIG.copy()\n",
    "                    run = session.create_run(config=cfg)\n",
    "                    run.add_features_by_name(features, context=context)\n",
    "                    run.add_frontend_by_name(FRONTEND, context=context)\n",
    "                    run.add_model_by_name(model, context=context)\n",
    "                    run.add_backend_by_name(BACKEND, context=context)\n",
    "                    run.add_platform_by_name(PLATFORM, context=context)\n",
    "                    run.add_target_by_name(TARGET, context=context)\n",
    "                    run.add_postprocesses_by_name(POSTPROCESSES)\n",
    "                helper(session)\n",
    "        session.process_runs(context=context)\n",
    "        report = session.get_reports()\n",
    "assert \"Failing\" not in report.df.columns\n",
    "report.df"
   ]
  },
  {
   "cell_type": "markdown",
   "id": "8ac72198",
   "metadata": {},
   "source": [
    "Here we have the report as pandas dataframe. Of course we can also look at relative differences instead:"
   ]
  },
  {
   "cell_type": "code",
   "execution_count": 10,
   "id": "9171e9aa",
   "metadata": {
    "execution": {
<<<<<<< HEAD
     "iopub.execute_input": "2023-12-30T23:20:14.985634Z",
     "iopub.status.busy": "2023-12-30T23:20:14.985221Z",
     "iopub.status.idle": "2023-12-30T23:20:15.003242Z",
     "shell.execute_reply": "2023-12-30T23:20:15.002142Z"
=======
     "iopub.execute_input": "2023-12-31T00:23:45.270225Z",
     "iopub.status.busy": "2023-12-31T00:23:45.270044Z",
     "iopub.status.idle": "2023-12-31T00:23:45.282504Z",
     "shell.execute_reply": "2023-12-31T00:23:45.281937Z"
>>>>>>> 49b6eb9779e354659ea86037bc1ee7589551fb55
    }
   },
   "outputs": [
    {
     "data": {
      "text/html": [
       "<div>\n",
       "<style scoped>\n",
       "    .dataframe tbody tr th:only-of-type {\n",
       "        vertical-align: middle;\n",
       "    }\n",
       "\n",
       "    .dataframe tbody tr th {\n",
       "        vertical-align: top;\n",
       "    }\n",
       "\n",
       "    .dataframe thead th {\n",
       "        text-align: right;\n",
       "    }\n",
       "</style>\n",
       "<table border=\"1\" class=\"dataframe\">\n",
       "  <thead>\n",
       "    <tr style=\"text-align: right;\">\n",
       "      <th></th>\n",
       "      <th>Model</th>\n",
       "      <th>Total Cycles</th>\n",
       "      <th>ROM code</th>\n",
       "      <th>Total Cycles (rel.)</th>\n",
       "      <th>ROM code (rel.)</th>\n",
       "    </tr>\n",
       "    <tr>\n",
       "      <th>Features</th>\n",
       "      <th></th>\n",
       "      <th></th>\n",
       "      <th></th>\n",
       "      <th></th>\n",
       "      <th></th>\n",
       "    </tr>\n",
       "  </thead>\n",
       "  <tbody>\n",
       "    <tr>\n",
       "      <th>default</th>\n",
       "      <td>aww</td>\n",
       "      <td>172565059</td>\n",
       "      <td>79090</td>\n",
       "      <td>1.000000</td>\n",
       "      <td>1.000000</td>\n",
       "    </tr>\n",
       "    <tr>\n",
       "      <th>cmsisnn</th>\n",
       "      <td>aww</td>\n",
       "      <td>16711296</td>\n",
       "      <td>109282</td>\n",
       "      <td>10.326252</td>\n",
       "      <td>0.723724</td>\n",
       "    </tr>\n",
       "    <tr>\n",
       "      <th>muriscvnn</th>\n",
       "      <td>aww</td>\n",
       "      <td>17175092</td>\n",
       "      <td>97726</td>\n",
       "      <td>10.047402</td>\n",
       "      <td>0.809304</td>\n",
       "    </tr>\n",
       "    <tr>\n",
       "      <th>default</th>\n",
       "      <td>resnet</td>\n",
       "      <td>769033691</td>\n",
       "      <td>80722</td>\n",
       "      <td>1.000000</td>\n",
       "      <td>1.000000</td>\n",
       "    </tr>\n",
       "    <tr>\n",
       "      <th>cmsisnn</th>\n",
       "      <td>resnet</td>\n",
       "      <td>63995913</td>\n",
       "      <td>102688</td>\n",
       "      <td>12.016919</td>\n",
       "      <td>0.786090</td>\n",
       "    </tr>\n",
       "    <tr>\n",
       "      <th>muriscvnn</th>\n",
       "      <td>resnet</td>\n",
       "      <td>81588051</td>\n",
       "      <td>93220</td>\n",
       "      <td>9.425813</td>\n",
       "      <td>0.865930</td>\n",
       "    </tr>\n",
       "  </tbody>\n",
       "</table>\n",
       "</div>"
      ],
      "text/plain": [
       "            Model  Total Cycles  ROM code  Total Cycles (rel.)  \\\n",
       "Features                                                         \n",
       "default       aww     172565059     79090             1.000000   \n",
       "cmsisnn       aww      16711296    109282            10.326252   \n",
       "muriscvnn     aww      17175092     97726            10.047402   \n",
       "default    resnet     769033691     80722             1.000000   \n",
       "cmsisnn    resnet      63995913    102688            12.016919   \n",
       "muriscvnn  resnet      81588051     93220             9.425813   \n",
       "\n",
       "           ROM code (rel.)  \n",
       "Features                    \n",
       "default           1.000000  \n",
       "cmsisnn           0.723724  \n",
       "muriscvnn         0.809304  \n",
       "default           1.000000  \n",
       "cmsisnn           0.786090  \n",
       "muriscvnn         0.865930  "
      ]
     },
     "execution_count": 10,
     "metadata": {},
     "output_type": "execute_result"
    }
   ],
   "source": [
    "df = report.df\n",
    "df.set_index('Features', inplace=True)\n",
    "df.index = df.index.map(lambda x: x[0] if len(x) > 0 else \"default\")\n",
    "cycles_firsts = (df.groupby('Model')['Total Cycles'].transform('first'))\n",
    "rom_firsts = (df.groupby('Model')['ROM code'].transform('first'))\n",
    "df[\"Total Cycles (rel.)\"] = (1 / (df[\"Total Cycles\"] / cycles_firsts))\n",
    "df[\"ROM code (rel.)\"] = (1 / (df[\"ROM code\"] / rom_firsts))\n",
    "df"
   ]
  },
  {
   "cell_type": "code",
   "execution_count": null,
   "id": "d856a0d2-1f81-4dbe-9584-e75bdd7e26c2",
   "metadata": {},
   "outputs": [],
   "source": []
  }
 ],
 "metadata": {
  "kernelspec": {
   "display_name": "Python 3 (ipykernel)",
   "language": "python",
   "name": "python3"
  },
  "language_info": {
   "codemirror_mode": {
    "name": "ipython",
    "version": 3
   },
   "file_extension": ".py",
   "mimetype": "text/x-python",
   "name": "python",
   "nbconvert_exporter": "python",
   "pygments_lexer": "ipython3",
   "version": "3.8.18"
  }
 },
 "nbformat": 4,
 "nbformat_minor": 5
}

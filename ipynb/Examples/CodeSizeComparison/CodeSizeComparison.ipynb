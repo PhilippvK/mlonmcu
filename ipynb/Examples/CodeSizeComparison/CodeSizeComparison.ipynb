{
 "cells": [
  {
   "cell_type": "markdown",
   "id": "67a623c3",
   "metadata": {},
   "source": [
    "# Example: Code size comparison: muRISCVNN vs. CMSIS-NN"
   ]
  },
  {
   "cell_type": "markdown",
   "id": "1025ee11",
   "metadata": {},
   "source": [
    "While we consider the program runtime (in ms, Cycles or Instructions) most of the time, the memory demand of a given application should not be underestimated. While most of the ROM usage is proably fixed due to the model weights, the program code itself also might take over 100kB of space, which might exceed the possibilities of some edge ML devices."
   ]
  },
  {
   "cell_type": "markdown",
   "id": "87fd1387",
   "metadata": {},
   "source": [
    "## Supported components"
   ]
  },
  {
   "cell_type": "markdown",
   "id": "584a911d",
   "metadata": {},
   "source": [
    "**Models:** Any (`aww` and `resnet` used below)\n",
    "\n",
    "**Frontends:** `tflite` only (becaus eof used backend)\n",
    "\n",
    "**Frameworks/Backends:** `tflmi` or `tflmc` only\n",
    "\n",
    "**Platforms/Targets:** Any target/platform supporting both `muriscvnn` as well as `cmsisnn` (spike used below)\n",
    "\n",
    "**Features:** `muriscvnn` and `cmsisnn` features have to be enabled "
   ]
  },
  {
   "cell_type": "markdown",
   "id": "74ce776e",
   "metadata": {},
   "source": [
    "## Prerequisites"
   ]
  },
  {
   "cell_type": "markdown",
   "id": "18955525",
   "metadata": {},
   "source": [
    "Set up MLonmCU as usual, i.e. initialize an environment and install all required dependencies. Feel free to use the following minimal `environment.yml.j2` template:"
   ]
  },
  {
   "cell_type": "markdown",
   "id": "51eb8539",
   "metadata": {},
   "source": [
    "```yaml\n",
    "---\n",
    "home: \"{{ home_dir }}\"\n",
    "logging:\n",
    "  level: DEBUG\n",
    "  to_file: false\n",
    "  rotate: false\n",
    "cleanup:\n",
    "  auto: true\n",
    "  keep: 10\n",
    "paths:\n",
    "  deps: deps\n",
    "  logs: logs\n",
    "  results: results\n",
    "  plugins: plugins\n",
    "  temp: temp\n",
    "  models:\n",
    "    - \"{{ home_dir }}/models\"\n",
    "    - \"{{ config_dir }}/models\"\n",
    "repos:\n",
    "  tensorflow:\n",
    "    url: \"https://github.com/tensorflow/tflite-micro.git\"\n",
    "    ref: f050eec7e32a0895f7658db21a4bdbd0975087a5\n",
    "  spike:\n",
    "    url: \"https://github.com/riscv-software-src/riscv-isa-sim.git\"\n",
    "    ref: 0bc176b3fca43560b9e8586cdbc41cfde073e17a\n",
    "  spikepk:\n",
    "    url: \"https://github.com/riscv-software-src/riscv-pk.git\"\n",
    "    ref: 7e9b671c0415dfd7b562ac934feb9380075d4aa2\n",
    "  cmsis:\n",
    "    url: \"https://github.com/PhilippvK/CMSIS_5.git\"\n",
    "    ref: ad1c3cad8f1240ef14a2c55381a78d792d76ec4d\n",
    "  muriscvnn:\n",
    "    url: \"https://github.com/tum-ei-eda/muriscv-nn.git\"\n",
    "    ref: c023b80a51c1b48ec62b9b092d047e9ac0bab3e8\n",
    "  mlif:\n",
    "    url: \"https://github.com/tum-ei-eda/mlonmcu-sw.git\"\n",
    "    ref: 4b9a32659f7c5340e8de26a0b8c4135ca67d64ac\n",
    "frameworks:\n",
    "  default: tflm\n",
    "  tflm:\n",
    "    enabled: true\n",
    "    backends:\n",
    "      default: tflmi\n",
    "      tflmi:\n",
    "        enabled: true\n",
    "        features:\n",
    "          debug_arena: true\n",
    "    features:\n",
    "      muriscvnn: true\n",
    "      cmsisnn: true\n",
    "frontends:\n",
    "  tflite:\n",
    "    enabled: true\n",
    "    features: []\n",
    "toolchains:\n",
    "  gcc: true\n",
    "platforms:\n",
    "  mlif:\n",
    "    enabled: true\n",
    "    features: []\n",
    "targets:\n",
    "  default: spike\n",
    "  spike:\n",
    "    enabled: true\n",
    "    features: []\n",
    "```"
   ]
  },
  {
   "cell_type": "markdown",
   "id": "4d140308",
   "metadata": {},
   "source": [
    "Do not forget to set your `MLONMCU_HOME` environment variable first if not using the default location!"
   ]
  },
  {
   "cell_type": "markdown",
   "id": "a3bac781",
   "metadata": {},
   "source": [
    "## Usage"
   ]
  },
  {
   "cell_type": "markdown",
   "id": "0c7c9a98",
   "metadata": {},
   "source": [
    "The following experiments mainly discuss the ROM usage or more specifically the code size (e.g. how large is the `.text` ELF section). Only the scalar version (non-SIMD) versions of the library are discussed in the following!\n",
    "\n",
    "*Warning:* Wile muRISCV-NN and CMSIS-NN share a very similar code-base, differences in the observed ROM metrics are expected, espiecially when comparing different compilers (e.g. ARM-GCC vs. RISC-V) and eventually different optimization flags."
   ]
  },
  {
   "cell_type": "markdown",
   "id": "f01b54e2",
   "metadata": {},
   "source": [
    "### A) Command Line Interface"
   ]
  },
  {
   "cell_type": "markdown",
   "id": "2b333851",
   "metadata": {},
   "source": [
    "First we want to check if the `muriscvnn` and `cmsisnn` feature are working as expected with a simple (2 models, 1 target) benchmark configuration:"
   ]
  },
  {
   "cell_type": "code",
   "execution_count": 4,
   "id": "43576c35",
   "metadata": {},
   "outputs": [
    {
     "name": "stdout",
     "output_type": "stream",
     "text": [
      "INFO - Loading environment cache from file\n",
      "INFO - Successfully initialized cache\n",
      "INFO - Loading extensions.py (User)\n",
      "INFO - [session-354]  Processing stage LOAD\n",
      "INFO - [session-354]  Processing stage BUILD\n",
      "INFO - [session-354]  Processing stage COMPILE\n",
      "INFO - [session-354]  Processing stage RUN\n",
      "INFO - All runs completed successfuly!\n",
      "INFO - Postprocessing session report\n",
      "INFO - [session-354] Done processing runs\n",
      "INFO - Report:\n",
      "   Session  Run   Model Frontend Framework Backend Platform Target     Cycles  Total ROM  Total RAM  ROM read-only  ROM code  ROM misc  RAM data  RAM zero-init data     Features                                             Config Postprocesses Comment\n",
      "0      354    0     aww   tflite      tflm   tflmi     mlif  spike   47517926     155265      36220          63661     90396      1208      2816               33404           []  {'tflite.use_inout_data': False, 'tflite.visua...            []       -\n",
      "1      354    1     aww   tflite      tflm   tflmi     mlif  spike   16472429     164716      36220          63664     99844      1208      2816               33404  [muriscvnn]  {'tflite.use_inout_data': False, 'tflite.visua...            []       -\n",
      "2      354    2     aww   tflite      tflm   tflmi     mlif  spike   16530136     166843      36228          63661    101974      1208      2824               33404    [cmsisnn]  {'tflite.use_inout_data': False, 'tflite.visua...            []       -\n",
      "3      354    3  resnet   tflite      tflm   tflmi     mlif  spike  155009373     199501      68992         102493     95800      1208      2820               66172           []  {'tflite.use_inout_data': False, 'tflite.visua...            []       -\n",
      "4      354    4  resnet   tflite      tflm   tflmi     mlif  spike   62430142     203378      68976         102496     99674      1208      2804               66172  [muriscvnn]  {'tflite.use_inout_data': False, 'tflite.visua...            []       -\n",
      "5      354    5  resnet   tflite      tflm   tflmi     mlif  spike   62563663     205381      68984         102493    101680      1208      2812               66172    [cmsisnn]  {'tflite.use_inout_data': False, 'tflite.visua...            []       -\n"
     ]
    }
   ],
   "source": [
    "!python -m mlonmcu.cli.main flow run aww resnet -b tflmi -t spike \\\n",
    "        --feature-gen _ --feature-gen muriscvnn --feature-gen cmsisnn"
   ]
  },
  {
   "cell_type": "markdown",
   "id": "8fc7aaaf",
   "metadata": {},
   "source": [
    "Now let's focus on the reported ROM metrics running only until the `build` instead of the `run` stage."
   ]
  },
  {
   "cell_type": "code",
   "execution_count": 5,
   "id": "53c89e22",
   "metadata": {},
   "outputs": [
    {
     "name": "stdout",
     "output_type": "stream",
     "text": [
      "INFO - Loading environment cache from file\n",
      "INFO - Successfully initialized cache\n",
      "INFO - Loading extensions.py (User)\n",
      "INFO - [session-355]  Processing stage LOAD\n",
      "INFO - [session-355]  Processing stage BUILD\n",
      "INFO - [session-355]  Processing stage COMPILE\n",
      "INFO - [session-355]  Processing stage RUN\n",
      "INFO - [session-355]  Processing stage POSTPROCESS\n",
      "INFO - All runs completed successfuly!\n",
      "INFO - Postprocessing session report\n",
      "INFO - [session-355] Done processing runs\n",
      "INFO - Report:\n",
      "    Model     Cycles  Total ROM  ROM read-only  ROM code     Features\n",
      "0     aww   47517926     155265          63661     90396           []\n",
      "1     aww   16472429     164716          63664     99844  [muriscvnn]\n",
      "2     aww   16530136     166843          63661    101974    [cmsisnn]\n",
      "3  resnet  155009373     199501         102493     95800           []\n",
      "4  resnet   62430142     203378         102496     99674  [muriscvnn]\n",
      "5  resnet   62563663     205381         102493    101680    [cmsisnn]\n"
     ]
    }
   ],
   "source": [
    "!python -m mlonmcu.cli.main flow run aww resnet -b tflmi -t spike \\\n",
    "        --feature-gen _ --feature-gen muriscvnn --feature-gen cmsisnn \\\n",
    "        --postprocess filter_cols --config filter_cols.keep=\"Model,Cycles,Features,Total ROM,ROM read-only,ROM code, ROM misc\""
   ]
  },
  {
   "cell_type": "markdown",
   "id": "c9776cd6",
   "metadata": {},
   "source": [
    "Above we have some preliminary results. It can be seen that the muRISCV-NN library adds another 5-15kB in terms of ROM usage to the baseline which is probably dominated by the TFLite Micro Interpreter itself.\n",
    "However these programs compiled for optimal performance (using the `-O3` compiler optimization flag). Maybe we can improve the ROM usage by some amount by telling MLonMCU to optimize for size (`-Os`) instead?"
   ]
  },
  {
   "cell_type": "code",
   "execution_count": 6,
   "id": "230211f7",
   "metadata": {},
   "outputs": [
    {
     "name": "stdout",
     "output_type": "stream",
     "text": [
      "INFO - Loading environment cache from file\n",
      "INFO - Successfully initialized cache\n",
      "INFO - Loading extensions.py (User)\n",
      "INFO - [session-356]  Processing stage LOAD\n",
      "INFO - [session-356]  Processing stage BUILD\n",
      "INFO - [session-356]  Processing stage COMPILE\n",
      "INFO - [session-356]  Processing stage RUN\n",
      "INFO - [session-356]  Processing stage POSTPROCESS\n",
      "INFO - All runs completed successfuly!\n",
      "INFO - Postprocessing session report\n",
      "INFO - [session-356] Done processing runs\n",
      "INFO - Report:\n",
      "    Model     Cycles  Total ROM  ROM read-only  ROM code     Features\n",
      "0     aww  153513868     144895          63701     79986           []\n",
      "1     aww   16588118     157816          63704     92904  [muriscvnn]\n",
      "2     aww   16645825     159943          63701     95034    [cmsisnn]\n",
      "3  resnet  687837633     184631         102533     80890           []\n",
      "4  resnet   62514256     192488         102536     88744  [muriscvnn]\n",
      "5  resnet   62642467     194491         102533     90750    [cmsisnn]\n"
     ]
    }
   ],
   "source": [
    "!python -m mlonmcu.cli.main flow run aww resnet -b tflmi -t spike --config mlif.optimize=s \\\n",
    "        --feature-gen _ --feature-gen muriscvnn --feature-gen cmsisnn \\\n",
    "        --postprocess filter_cols --config filter_cols.keep=\"Model,Cycles,Features,Total ROM,ROM read-only,ROM code, ROM misc\""
   ]
  },
  {
   "cell_type": "markdown",
   "id": "0de7b57a",
   "metadata": {},
   "source": [
    "Well this looks better, but not optimal. One issue here is, that CMSIS-NN lacks an possibility to pass over the optimization flags from  another CMake project. Hence in the end only the non CMSIS-NN/muRISCV-NN code was compiled with `-Os`."
   ]
  },
  {
   "cell_type": "markdown",
   "id": "4238333c",
   "metadata": {},
   "source": [
    "### B) Python Scripting"
   ]
  },
  {
   "cell_type": "markdown",
   "id": "b500fc47",
   "metadata": {},
   "source": [
    "To achieve the previous results with a Python script, only a few lines of code are required. Let's start with some imports:"
   ]
  },
  {
   "cell_type": "code",
   "execution_count": 18,
   "id": "78c53970",
   "metadata": {},
   "outputs": [],
   "source": [
    "from tempfile import TemporaryDirectory\n",
    "from pathlib import Path\n",
    "\n",
    "from mlonmcu.context.context import MlonMcuContext\n",
    "from mlonmcu.session.run import RunStage"
   ]
  },
  {
   "cell_type": "markdown",
   "id": "86046913",
   "metadata": {},
   "source": [
    "Benchmark Configuration"
   ]
  },
  {
   "cell_type": "code",
   "execution_count": 15,
   "id": "2f6c5e5a",
   "metadata": {},
   "outputs": [],
   "source": [
    "FRONTEND = \"tflite\"\n",
    "MODELS = [\"aww\", \"resnet\"]\n",
    "BACKEND = \"tflmi\"\n",
    "PLATFORM = \"mlif\"\n",
    "TARGET = \"spike\"\n",
    "POSTPROCESSES = [\"config2cols\", \"rename_cols\", \"filter_cols\"]\n",
    "FEATURES = [[], [\"cmsisnn\"], [\"muriscvnn\"]]\n",
    "CONFIG = {\n",
    "    \"mlif.optimize\": \"s\",\n",
    "    \"filter_cols.keep\": [\"Model\", \"Cycles\", \"ROM code\", \"Features\"]\n",
    "}"
   ]
  },
  {
   "cell_type": "markdown",
   "id": "966cc3fe",
   "metadata": {},
   "source": [
    "Initialize and run a single benchmark"
   ]
  },
  {
   "cell_type": "code",
   "execution_count": 38,
   "id": "ebe63369",
   "metadata": {},
   "outputs": [
    {
     "name": "stdout",
     "output_type": "stream",
     "text": [
      "INFO - Loading environment cache from file\n",
      "INFO - Successfully initialized cache\n",
      "INFO - Loading extensions.py (User)\n",
      "INFO - [session-360] Processing all stages\n",
      "INFO - All runs completed successfuly!\n",
      "INFO - Postprocessing session report\n",
      "INFO - [session-360] Done processing runs\n"
     ]
    },
    {
     "data": {
      "text/html": [
       "<div>\n",
       "<style scoped>\n",
       "    .dataframe tbody tr th:only-of-type {\n",
       "        vertical-align: middle;\n",
       "    }\n",
       "\n",
       "    .dataframe tbody tr th {\n",
       "        vertical-align: top;\n",
       "    }\n",
       "\n",
       "    .dataframe thead th {\n",
       "        text-align: right;\n",
       "    }\n",
       "</style>\n",
       "<table border=\"1\" class=\"dataframe\">\n",
       "  <thead>\n",
       "    <tr style=\"text-align: right;\">\n",
       "      <th></th>\n",
       "      <th>Model</th>\n",
       "      <th>Cycles</th>\n",
       "      <th>ROM code</th>\n",
       "      <th>Features</th>\n",
       "    </tr>\n",
       "  </thead>\n",
       "  <tbody>\n",
       "    <tr>\n",
       "      <th>0</th>\n",
       "      <td>aww</td>\n",
       "      <td>153513868</td>\n",
       "      <td>79986</td>\n",
       "      <td>[]</td>\n",
       "    </tr>\n",
       "    <tr>\n",
       "      <th>1</th>\n",
       "      <td>aww</td>\n",
       "      <td>16645825</td>\n",
       "      <td>95034</td>\n",
       "      <td>[cmsisnn]</td>\n",
       "    </tr>\n",
       "    <tr>\n",
       "      <th>2</th>\n",
       "      <td>aww</td>\n",
       "      <td>16588118</td>\n",
       "      <td>92904</td>\n",
       "      <td>[muriscvnn]</td>\n",
       "    </tr>\n",
       "    <tr>\n",
       "      <th>3</th>\n",
       "      <td>resnet</td>\n",
       "      <td>687837633</td>\n",
       "      <td>80890</td>\n",
       "      <td>[]</td>\n",
       "    </tr>\n",
       "    <tr>\n",
       "      <th>4</th>\n",
       "      <td>resnet</td>\n",
       "      <td>62642467</td>\n",
       "      <td>90750</td>\n",
       "      <td>[cmsisnn]</td>\n",
       "    </tr>\n",
       "    <tr>\n",
       "      <th>5</th>\n",
       "      <td>resnet</td>\n",
       "      <td>62514256</td>\n",
       "      <td>88744</td>\n",
       "      <td>[muriscvnn]</td>\n",
       "    </tr>\n",
       "  </tbody>\n",
       "</table>\n",
       "</div>"
      ],
      "text/plain": [
       "    Model     Cycles  ROM code     Features\n",
       "0     aww  153513868     79986           []\n",
       "1     aww   16645825     95034    [cmsisnn]\n",
       "2     aww   16588118     92904  [muriscvnn]\n",
       "3  resnet  687837633     80890           []\n",
       "4  resnet   62642467     90750    [cmsisnn]\n",
       "5  resnet   62514256     88744  [muriscvnn]"
      ]
     },
     "execution_count": 38,
     "metadata": {},
     "output_type": "execute_result"
    }
   ],
   "source": [
    "with MlonMcuContext() as context:\n",
    "    session = context.create_session()\n",
    "    for model in MODELS:\n",
    "        for features in FEATURES:\n",
    "            def helper(session):\n",
    "                cfg = CONFIG.copy()\n",
    "                run = session.create_run(config=cfg)\n",
    "                run.add_features_by_name(features, context=context)\n",
    "                run.add_frontend_by_name(FRONTEND, context=context)\n",
    "                run.add_model_by_name(model, context=context)\n",
    "                run.add_backend_by_name(BACKEND, context=context)\n",
    "                run.add_platform_by_name(PLATFORM, context=context)\n",
    "                run.add_target_by_name(TARGET, context=context)\n",
    "                run.add_postprocesses_by_name(POSTPROCESSES)\n",
    "            helper(session)\n",
    "    session.process_runs(context=context)\n",
    "    report = session.get_reports()\n",
    "report.df"
   ]
  },
  {
   "cell_type": "markdown",
   "id": "8ac72198",
   "metadata": {},
   "source": [
    "Here we have the report as pandas dataframe. Of course be can also look at relative differences instead:"
   ]
  },
  {
   "cell_type": "code",
   "execution_count": 56,
   "id": "9171e9aa",
   "metadata": {},
   "outputs": [
    {
     "data": {
      "text/html": [
       "<div>\n",
       "<style scoped>\n",
       "    .dataframe tbody tr th:only-of-type {\n",
       "        vertical-align: middle;\n",
       "    }\n",
       "\n",
       "    .dataframe tbody tr th {\n",
       "        vertical-align: top;\n",
       "    }\n",
       "\n",
       "    .dataframe thead th {\n",
       "        text-align: right;\n",
       "    }\n",
       "</style>\n",
       "<table border=\"1\" class=\"dataframe\">\n",
       "  <thead>\n",
       "    <tr style=\"text-align: right;\">\n",
       "      <th></th>\n",
       "      <th>Model</th>\n",
       "      <th>Cycles</th>\n",
       "      <th>ROM code</th>\n",
       "      <th>Cycles (rel.)</th>\n",
       "      <th>ROM code (rel.)</th>\n",
       "    </tr>\n",
       "    <tr>\n",
       "      <th>Features</th>\n",
       "      <th></th>\n",
       "      <th></th>\n",
       "      <th></th>\n",
       "      <th></th>\n",
       "      <th></th>\n",
       "    </tr>\n",
       "  </thead>\n",
       "  <tbody>\n",
       "    <tr>\n",
       "      <th>default</th>\n",
       "      <td>aww</td>\n",
       "      <td>153513868</td>\n",
       "      <td>79986</td>\n",
       "      <td>1.000000</td>\n",
       "      <td>1.000000</td>\n",
       "    </tr>\n",
       "    <tr>\n",
       "      <th>default</th>\n",
       "      <td>aww</td>\n",
       "      <td>16645825</td>\n",
       "      <td>95034</td>\n",
       "      <td>9.222365</td>\n",
       "      <td>0.841657</td>\n",
       "    </tr>\n",
       "    <tr>\n",
       "      <th>default</th>\n",
       "      <td>aww</td>\n",
       "      <td>16588118</td>\n",
       "      <td>92904</td>\n",
       "      <td>9.254448</td>\n",
       "      <td>0.860953</td>\n",
       "    </tr>\n",
       "    <tr>\n",
       "      <th>default</th>\n",
       "      <td>resnet</td>\n",
       "      <td>687837633</td>\n",
       "      <td>80890</td>\n",
       "      <td>1.000000</td>\n",
       "      <td>1.000000</td>\n",
       "    </tr>\n",
       "    <tr>\n",
       "      <th>default</th>\n",
       "      <td>resnet</td>\n",
       "      <td>62642467</td>\n",
       "      <td>90750</td>\n",
       "      <td>10.980373</td>\n",
       "      <td>0.891350</td>\n",
       "    </tr>\n",
       "    <tr>\n",
       "      <th>default</th>\n",
       "      <td>resnet</td>\n",
       "      <td>62514256</td>\n",
       "      <td>88744</td>\n",
       "      <td>11.002892</td>\n",
       "      <td>0.911498</td>\n",
       "    </tr>\n",
       "  </tbody>\n",
       "</table>\n",
       "</div>"
      ],
      "text/plain": [
       "           Model     Cycles  ROM code  Cycles (rel.)  ROM code (rel.)\n",
       "Features                                                             \n",
       "default      aww  153513868     79986       1.000000         1.000000\n",
       "default      aww   16645825     95034       9.222365         0.841657\n",
       "default      aww   16588118     92904       9.254448         0.860953\n",
       "default   resnet  687837633     80890       1.000000         1.000000\n",
       "default   resnet   62642467     90750      10.980373         0.891350\n",
       "default   resnet   62514256     88744      11.002892         0.911498"
      ]
     },
     "execution_count": 56,
     "metadata": {},
     "output_type": "execute_result"
    }
   ],
   "source": [
    "df = report.df\n",
    "df.set_index('Features', inplace=True)\n",
    "df.index = df.index.map(lambda x: str(x)[1:-1] if len(x) > 2 else \"default\")\n",
    "cycles_firsts = (df.groupby('Model')['Cycles'].transform('first'))\n",
    "rom_firsts = (df.groupby('Model')['ROM code'].transform('first'))\n",
    "df[\"Cycles (rel.)\"] = (1 / (df.Cycles / cycles_firsts))\n",
    "df[\"ROM code (rel.)\"] = (1 / (df[\"ROM code\"] / rom_firsts))\n",
    "df"
   ]
  }
 ],
 "metadata": {
  "kernelspec": {
   "display_name": "Python 3 (ipykernel)",
   "language": "python",
   "name": "python3"
  },
  "language_info": {
   "codemirror_mode": {
    "name": "ipython",
    "version": 3
   },
   "file_extension": ".py",
   "mimetype": "text/x-python",
   "name": "python",
   "nbconvert_exporter": "python",
   "pygments_lexer": "ipython3",
   "version": "3.8.10"
  }
 },
 "nbformat": 4,
 "nbformat_minor": 5
}
